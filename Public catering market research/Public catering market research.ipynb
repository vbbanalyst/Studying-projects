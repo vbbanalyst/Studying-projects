{
  "cells": [
    {
      "cell_type": "markdown",
      "metadata": {
        "id": "BFvfVVWfMrEV"
      },
      "source": [
        "# Исследование рынка заведений общественного питания в Москве"
      ]
    },
    {
      "cell_type": "markdown",
      "metadata": {
        "id": "y09bhx5PmUZz"
      },
      "source": [
        "## Содержание\n",
        "\n",
        "### [Обзор данных](#overview)\n",
        "\n",
        "### [Предобработка данных](#processing)\n",
        "\n",
        "[Переименование колонки `'number'`](#number)\n",
        "\n",
        "[Замена значений в колонке `'chain'`](#chain)\n",
        "\n",
        "[Поиск дубликатов](#dublicates)\n",
        "\n",
        "### [Исследовательский анализ данных](#research)\n",
        "\n",
        "[Анализ видов заведений](#type)\n",
        "\n",
        "[Анализ количества посадочных мест по видам заведений](#count_type)\n",
        "\n",
        "[Анализ количества посадочных мест для сетевых заведений](#count_chain)\n",
        "\n",
        "[Анализ заведений по улицам и районам](#street)\n",
        "\n",
        "### [Общий вывод](#summary)\n",
        "\n",
        "---"
      ]
    },
    {
      "cell_type": "markdown",
      "metadata": {
        "id": "2IJX5H0iRsNG"
      },
      "source": [
        "**Краткое описание:** Заказчик - партнеры и инвесторы проекта по открытию кафе в Москве, в котором посетителей будут обслуживать роботы. Инвесторы хотели бы узнать положение дел на рынке общественного питания и перспективность открытия подобного заведения.\n",
        "    \n",
        "**Цель проекта:** Исследовать рынок общественного питания в Москве.\n",
        "\n",
        "**План работы:**\n",
        "1. выгрузить данные, осуществить первичный обзор;\n",
        "2. переименовать колонки, привести наименования к \"змеиному регистру\", если необходимо;\n",
        "2. определить, есть ли пропуски в данных; заполнить пропуски или удалить строки с пропусками;\n",
        "3. измененить тип данных;\n",
        "4. проверить данные на наличие явных и неявных дубликатов, исправить данные;\n",
        "5. провести исследовательский анализ данных, найти закономерности;\n",
        "6. сформировать вывод, полученный из результатов анализа."
      ]
    },
    {
      "cell_type": "markdown",
      "metadata": {
        "id": "u-Yx4kw8b1A-"
      },
      "source": [
        "**Презентация:** <https://disk.yandex.by/i/YdXmL60bYsSPBA> "
      ]
    },
    {
      "cell_type": "markdown",
      "metadata": {
        "id": "WTkTlmFnPfEq"
      },
      "source": [
        "## Обзор данных\n",
        "<a class='anchor' id='overview'></a>"
      ]
    },
    {
      "cell_type": "code",
      "execution_count": 1,
      "metadata": {
        "id": "f3jIilwAOpMs"
      },
      "outputs": [],
      "source": [
        "# загружаем нужные библиотеки\n",
        "import os\n",
        "import pandas as pd\n",
        "import re\n",
        "import numpy as np\n",
        "from io import BytesIO\n",
        "import requests\n",
        "import matplotlib.pyplot as plt\n",
        "import seaborn as sns\n",
        "import plotly.express as px\n",
        "from plotly.subplots import make_subplots\n",
        "import plotly.graph_objects as go"
      ]
    },
    {
      "cell_type": "code",
      "execution_count": 2,
      "metadata": {
        "colab": {
          "base_uri": "https://localhost:8080/"
        },
        "id": "_nuQCEjSmUaY",
        "outputId": "fb5d70de-58e9-4e48-a871-30342e5672ad"
      },
      "outputs": [
        {
          "output_type": "stream",
          "name": "stdout",
          "text": [
            "Данные загружены в Colaboratory\n"
          ]
        }
      ],
      "source": [
        "pth1 = 'rest_data.csv' # Путь для Colaboratory\n",
        "pth2 = '/datasets/rest_data.csv' # Путь для Jupyter Notebook в Практикуме\n",
        "pth3 = r'C:\\Users\\WANTNEON\\Downloads\\rest_data.csv' # Локальный путь\n",
        "    \n",
        "if os.path.exists(pth1):\n",
        "    data = pd.read_csv(pth1)\n",
        "    print('Данные загружены в Colaboratory')\n",
        "elif os.path.exists(pth2):\n",
        "    data = pd.read_csv(pth2)\n",
        "    print('Данные загружены в Jupyter Notebook')\n",
        "elif os.path.exists(pth3):\n",
        "    data = pd.read_csv(pth3)\n",
        "    print('Данные загружены локально')\n",
        "else:\n",
        "    print('Что-то пошло не так')  "
      ]
    },
    {
      "cell_type": "markdown",
      "metadata": {
        "id": "gTpa-0rbQVr3"
      },
      "source": [
        "Посмотрим на данные и их характеристики."
      ]
    },
    {
      "cell_type": "code",
      "execution_count": 3,
      "metadata": {
        "colab": {
          "base_uri": "https://localhost:8080/",
          "height": 206
        },
        "id": "zYfc8alMQSMZ",
        "outputId": "9376a740-a1b6-4daa-9b80-72208d40fbaf"
      },
      "outputs": [
        {
          "output_type": "execute_result",
          "data": {
            "text/plain": [
              "       id             object_name chain object_type  \\\n",
              "0  151635                 СМЕТАНА   нет        кафе   \n",
              "1   77874                  Родник   нет        кафе   \n",
              "2   24309         Кафе «Академия»   нет        кафе   \n",
              "3   21894              ПИЦЦЕТОРИЯ    да        кафе   \n",
              "4  119365  Кафе «Вишневая метель»   нет        кафе   \n",
              "\n",
              "                                             address  number  \n",
              "0         город Москва, улица Егора Абакумова, дом 9      48  \n",
              "1  город Москва, улица Талалихина, дом 2/1, корпус 1      35  \n",
              "2          город Москва, Абельмановская улица, дом 6      95  \n",
              "3            город Москва, Абрамцевская улица, дом 1      40  \n",
              "4  город Москва, Абрамцевская улица, дом 9, корпус 1      50  "
            ],
            "text/html": [
              "\n",
              "  <div id=\"df-5296c894-4a68-4b8f-b4c4-65c159b68d4b\">\n",
              "    <div class=\"colab-df-container\">\n",
              "      <div>\n",
              "<style scoped>\n",
              "    .dataframe tbody tr th:only-of-type {\n",
              "        vertical-align: middle;\n",
              "    }\n",
              "\n",
              "    .dataframe tbody tr th {\n",
              "        vertical-align: top;\n",
              "    }\n",
              "\n",
              "    .dataframe thead th {\n",
              "        text-align: right;\n",
              "    }\n",
              "</style>\n",
              "<table border=\"1\" class=\"dataframe\">\n",
              "  <thead>\n",
              "    <tr style=\"text-align: right;\">\n",
              "      <th></th>\n",
              "      <th>id</th>\n",
              "      <th>object_name</th>\n",
              "      <th>chain</th>\n",
              "      <th>object_type</th>\n",
              "      <th>address</th>\n",
              "      <th>number</th>\n",
              "    </tr>\n",
              "  </thead>\n",
              "  <tbody>\n",
              "    <tr>\n",
              "      <th>0</th>\n",
              "      <td>151635</td>\n",
              "      <td>СМЕТАНА</td>\n",
              "      <td>нет</td>\n",
              "      <td>кафе</td>\n",
              "      <td>город Москва, улица Егора Абакумова, дом 9</td>\n",
              "      <td>48</td>\n",
              "    </tr>\n",
              "    <tr>\n",
              "      <th>1</th>\n",
              "      <td>77874</td>\n",
              "      <td>Родник</td>\n",
              "      <td>нет</td>\n",
              "      <td>кафе</td>\n",
              "      <td>город Москва, улица Талалихина, дом 2/1, корпус 1</td>\n",
              "      <td>35</td>\n",
              "    </tr>\n",
              "    <tr>\n",
              "      <th>2</th>\n",
              "      <td>24309</td>\n",
              "      <td>Кафе «Академия»</td>\n",
              "      <td>нет</td>\n",
              "      <td>кафе</td>\n",
              "      <td>город Москва, Абельмановская улица, дом 6</td>\n",
              "      <td>95</td>\n",
              "    </tr>\n",
              "    <tr>\n",
              "      <th>3</th>\n",
              "      <td>21894</td>\n",
              "      <td>ПИЦЦЕТОРИЯ</td>\n",
              "      <td>да</td>\n",
              "      <td>кафе</td>\n",
              "      <td>город Москва, Абрамцевская улица, дом 1</td>\n",
              "      <td>40</td>\n",
              "    </tr>\n",
              "    <tr>\n",
              "      <th>4</th>\n",
              "      <td>119365</td>\n",
              "      <td>Кафе «Вишневая метель»</td>\n",
              "      <td>нет</td>\n",
              "      <td>кафе</td>\n",
              "      <td>город Москва, Абрамцевская улица, дом 9, корпус 1</td>\n",
              "      <td>50</td>\n",
              "    </tr>\n",
              "  </tbody>\n",
              "</table>\n",
              "</div>\n",
              "      <button class=\"colab-df-convert\" onclick=\"convertToInteractive('df-5296c894-4a68-4b8f-b4c4-65c159b68d4b')\"\n",
              "              title=\"Convert this dataframe to an interactive table.\"\n",
              "              style=\"display:none;\">\n",
              "        \n",
              "  <svg xmlns=\"http://www.w3.org/2000/svg\" height=\"24px\"viewBox=\"0 0 24 24\"\n",
              "       width=\"24px\">\n",
              "    <path d=\"M0 0h24v24H0V0z\" fill=\"none\"/>\n",
              "    <path d=\"M18.56 5.44l.94 2.06.94-2.06 2.06-.94-2.06-.94-.94-2.06-.94 2.06-2.06.94zm-11 1L8.5 8.5l.94-2.06 2.06-.94-2.06-.94L8.5 2.5l-.94 2.06-2.06.94zm10 10l.94 2.06.94-2.06 2.06-.94-2.06-.94-.94-2.06-.94 2.06-2.06.94z\"/><path d=\"M17.41 7.96l-1.37-1.37c-.4-.4-.92-.59-1.43-.59-.52 0-1.04.2-1.43.59L10.3 9.45l-7.72 7.72c-.78.78-.78 2.05 0 2.83L4 21.41c.39.39.9.59 1.41.59.51 0 1.02-.2 1.41-.59l7.78-7.78 2.81-2.81c.8-.78.8-2.07 0-2.86zM5.41 20L4 18.59l7.72-7.72 1.47 1.35L5.41 20z\"/>\n",
              "  </svg>\n",
              "      </button>\n",
              "      \n",
              "  <style>\n",
              "    .colab-df-container {\n",
              "      display:flex;\n",
              "      flex-wrap:wrap;\n",
              "      gap: 12px;\n",
              "    }\n",
              "\n",
              "    .colab-df-convert {\n",
              "      background-color: #E8F0FE;\n",
              "      border: none;\n",
              "      border-radius: 50%;\n",
              "      cursor: pointer;\n",
              "      display: none;\n",
              "      fill: #1967D2;\n",
              "      height: 32px;\n",
              "      padding: 0 0 0 0;\n",
              "      width: 32px;\n",
              "    }\n",
              "\n",
              "    .colab-df-convert:hover {\n",
              "      background-color: #E2EBFA;\n",
              "      box-shadow: 0px 1px 2px rgba(60, 64, 67, 0.3), 0px 1px 3px 1px rgba(60, 64, 67, 0.15);\n",
              "      fill: #174EA6;\n",
              "    }\n",
              "\n",
              "    [theme=dark] .colab-df-convert {\n",
              "      background-color: #3B4455;\n",
              "      fill: #D2E3FC;\n",
              "    }\n",
              "\n",
              "    [theme=dark] .colab-df-convert:hover {\n",
              "      background-color: #434B5C;\n",
              "      box-shadow: 0px 1px 3px 1px rgba(0, 0, 0, 0.15);\n",
              "      filter: drop-shadow(0px 1px 2px rgba(0, 0, 0, 0.3));\n",
              "      fill: #FFFFFF;\n",
              "    }\n",
              "  </style>\n",
              "\n",
              "      <script>\n",
              "        const buttonEl =\n",
              "          document.querySelector('#df-5296c894-4a68-4b8f-b4c4-65c159b68d4b button.colab-df-convert');\n",
              "        buttonEl.style.display =\n",
              "          google.colab.kernel.accessAllowed ? 'block' : 'none';\n",
              "\n",
              "        async function convertToInteractive(key) {\n",
              "          const element = document.querySelector('#df-5296c894-4a68-4b8f-b4c4-65c159b68d4b');\n",
              "          const dataTable =\n",
              "            await google.colab.kernel.invokeFunction('convertToInteractive',\n",
              "                                                     [key], {});\n",
              "          if (!dataTable) return;\n",
              "\n",
              "          const docLinkHtml = 'Like what you see? Visit the ' +\n",
              "            '<a target=\"_blank\" href=https://colab.research.google.com/notebooks/data_table.ipynb>data table notebook</a>'\n",
              "            + ' to learn more about interactive tables.';\n",
              "          element.innerHTML = '';\n",
              "          dataTable['output_type'] = 'display_data';\n",
              "          await google.colab.output.renderOutput(dataTable, element);\n",
              "          const docLink = document.createElement('div');\n",
              "          docLink.innerHTML = docLinkHtml;\n",
              "          element.appendChild(docLink);\n",
              "        }\n",
              "      </script>\n",
              "    </div>\n",
              "  </div>\n",
              "  "
            ]
          },
          "metadata": {},
          "execution_count": 3
        }
      ],
      "source": [
        "data.head()"
      ]
    },
    {
      "cell_type": "code",
      "execution_count": 4,
      "metadata": {
        "colab": {
          "base_uri": "https://localhost:8080/"
        },
        "id": "l29chaMWQTyW",
        "outputId": "a3d27650-43df-49bd-a300-514a2762a0fb"
      },
      "outputs": [
        {
          "output_type": "stream",
          "name": "stdout",
          "text": [
            "<class 'pandas.core.frame.DataFrame'>\n",
            "RangeIndex: 15366 entries, 0 to 15365\n",
            "Data columns (total 6 columns):\n",
            " #   Column       Non-Null Count  Dtype \n",
            "---  ------       --------------  ----- \n",
            " 0   id           15366 non-null  int64 \n",
            " 1   object_name  15366 non-null  object\n",
            " 2   chain        15366 non-null  object\n",
            " 3   object_type  15366 non-null  object\n",
            " 4   address      15366 non-null  object\n",
            " 5   number       15366 non-null  int64 \n",
            "dtypes: int64(2), object(4)\n",
            "memory usage: 720.4+ KB\n"
          ]
        }
      ],
      "source": [
        "data.info()"
      ]
    },
    {
      "cell_type": "code",
      "execution_count": 5,
      "metadata": {
        "colab": {
          "base_uri": "https://localhost:8080/"
        },
        "id": "4IYbyEU6Qf_6",
        "outputId": "be636a97-c3eb-4653-ba72-8fe90f40dde0"
      },
      "outputs": [
        {
          "output_type": "execute_result",
          "data": {
            "text/plain": [
              "Index(['id', 'object_name', 'chain', 'object_type', 'address', 'number'], dtype='object')"
            ]
          },
          "metadata": {},
          "execution_count": 5
        }
      ],
      "source": [
        "data.columns"
      ]
    },
    {
      "cell_type": "code",
      "execution_count": 6,
      "metadata": {
        "colab": {
          "base_uri": "https://localhost:8080/",
          "height": 300
        },
        "id": "jEQO_POzQqdd",
        "outputId": "006425e8-0bd2-4c11-d8bc-34e235756002"
      },
      "outputs": [
        {
          "output_type": "execute_result",
          "data": {
            "text/plain": [
              "                  id        number\n",
              "count   15366.000000  15366.000000\n",
              "mean   119720.066901     59.547182\n",
              "std     73036.130732     74.736833\n",
              "min       838.000000      0.000000\n",
              "25%     28524.000000     12.000000\n",
              "50%    144974.500000     40.000000\n",
              "75%    184262.250000     80.000000\n",
              "max    223439.000000   1700.000000"
            ],
            "text/html": [
              "\n",
              "  <div id=\"df-db5e0b3f-8e46-428c-bcbb-512b09969aad\">\n",
              "    <div class=\"colab-df-container\">\n",
              "      <div>\n",
              "<style scoped>\n",
              "    .dataframe tbody tr th:only-of-type {\n",
              "        vertical-align: middle;\n",
              "    }\n",
              "\n",
              "    .dataframe tbody tr th {\n",
              "        vertical-align: top;\n",
              "    }\n",
              "\n",
              "    .dataframe thead th {\n",
              "        text-align: right;\n",
              "    }\n",
              "</style>\n",
              "<table border=\"1\" class=\"dataframe\">\n",
              "  <thead>\n",
              "    <tr style=\"text-align: right;\">\n",
              "      <th></th>\n",
              "      <th>id</th>\n",
              "      <th>number</th>\n",
              "    </tr>\n",
              "  </thead>\n",
              "  <tbody>\n",
              "    <tr>\n",
              "      <th>count</th>\n",
              "      <td>15366.000000</td>\n",
              "      <td>15366.000000</td>\n",
              "    </tr>\n",
              "    <tr>\n",
              "      <th>mean</th>\n",
              "      <td>119720.066901</td>\n",
              "      <td>59.547182</td>\n",
              "    </tr>\n",
              "    <tr>\n",
              "      <th>std</th>\n",
              "      <td>73036.130732</td>\n",
              "      <td>74.736833</td>\n",
              "    </tr>\n",
              "    <tr>\n",
              "      <th>min</th>\n",
              "      <td>838.000000</td>\n",
              "      <td>0.000000</td>\n",
              "    </tr>\n",
              "    <tr>\n",
              "      <th>25%</th>\n",
              "      <td>28524.000000</td>\n",
              "      <td>12.000000</td>\n",
              "    </tr>\n",
              "    <tr>\n",
              "      <th>50%</th>\n",
              "      <td>144974.500000</td>\n",
              "      <td>40.000000</td>\n",
              "    </tr>\n",
              "    <tr>\n",
              "      <th>75%</th>\n",
              "      <td>184262.250000</td>\n",
              "      <td>80.000000</td>\n",
              "    </tr>\n",
              "    <tr>\n",
              "      <th>max</th>\n",
              "      <td>223439.000000</td>\n",
              "      <td>1700.000000</td>\n",
              "    </tr>\n",
              "  </tbody>\n",
              "</table>\n",
              "</div>\n",
              "      <button class=\"colab-df-convert\" onclick=\"convertToInteractive('df-db5e0b3f-8e46-428c-bcbb-512b09969aad')\"\n",
              "              title=\"Convert this dataframe to an interactive table.\"\n",
              "              style=\"display:none;\">\n",
              "        \n",
              "  <svg xmlns=\"http://www.w3.org/2000/svg\" height=\"24px\"viewBox=\"0 0 24 24\"\n",
              "       width=\"24px\">\n",
              "    <path d=\"M0 0h24v24H0V0z\" fill=\"none\"/>\n",
              "    <path d=\"M18.56 5.44l.94 2.06.94-2.06 2.06-.94-2.06-.94-.94-2.06-.94 2.06-2.06.94zm-11 1L8.5 8.5l.94-2.06 2.06-.94-2.06-.94L8.5 2.5l-.94 2.06-2.06.94zm10 10l.94 2.06.94-2.06 2.06-.94-2.06-.94-.94-2.06-.94 2.06-2.06.94z\"/><path d=\"M17.41 7.96l-1.37-1.37c-.4-.4-.92-.59-1.43-.59-.52 0-1.04.2-1.43.59L10.3 9.45l-7.72 7.72c-.78.78-.78 2.05 0 2.83L4 21.41c.39.39.9.59 1.41.59.51 0 1.02-.2 1.41-.59l7.78-7.78 2.81-2.81c.8-.78.8-2.07 0-2.86zM5.41 20L4 18.59l7.72-7.72 1.47 1.35L5.41 20z\"/>\n",
              "  </svg>\n",
              "      </button>\n",
              "      \n",
              "  <style>\n",
              "    .colab-df-container {\n",
              "      display:flex;\n",
              "      flex-wrap:wrap;\n",
              "      gap: 12px;\n",
              "    }\n",
              "\n",
              "    .colab-df-convert {\n",
              "      background-color: #E8F0FE;\n",
              "      border: none;\n",
              "      border-radius: 50%;\n",
              "      cursor: pointer;\n",
              "      display: none;\n",
              "      fill: #1967D2;\n",
              "      height: 32px;\n",
              "      padding: 0 0 0 0;\n",
              "      width: 32px;\n",
              "    }\n",
              "\n",
              "    .colab-df-convert:hover {\n",
              "      background-color: #E2EBFA;\n",
              "      box-shadow: 0px 1px 2px rgba(60, 64, 67, 0.3), 0px 1px 3px 1px rgba(60, 64, 67, 0.15);\n",
              "      fill: #174EA6;\n",
              "    }\n",
              "\n",
              "    [theme=dark] .colab-df-convert {\n",
              "      background-color: #3B4455;\n",
              "      fill: #D2E3FC;\n",
              "    }\n",
              "\n",
              "    [theme=dark] .colab-df-convert:hover {\n",
              "      background-color: #434B5C;\n",
              "      box-shadow: 0px 1px 3px 1px rgba(0, 0, 0, 0.15);\n",
              "      filter: drop-shadow(0px 1px 2px rgba(0, 0, 0, 0.3));\n",
              "      fill: #FFFFFF;\n",
              "    }\n",
              "  </style>\n",
              "\n",
              "      <script>\n",
              "        const buttonEl =\n",
              "          document.querySelector('#df-db5e0b3f-8e46-428c-bcbb-512b09969aad button.colab-df-convert');\n",
              "        buttonEl.style.display =\n",
              "          google.colab.kernel.accessAllowed ? 'block' : 'none';\n",
              "\n",
              "        async function convertToInteractive(key) {\n",
              "          const element = document.querySelector('#df-db5e0b3f-8e46-428c-bcbb-512b09969aad');\n",
              "          const dataTable =\n",
              "            await google.colab.kernel.invokeFunction('convertToInteractive',\n",
              "                                                     [key], {});\n",
              "          if (!dataTable) return;\n",
              "\n",
              "          const docLinkHtml = 'Like what you see? Visit the ' +\n",
              "            '<a target=\"_blank\" href=https://colab.research.google.com/notebooks/data_table.ipynb>data table notebook</a>'\n",
              "            + ' to learn more about interactive tables.';\n",
              "          element.innerHTML = '';\n",
              "          dataTable['output_type'] = 'display_data';\n",
              "          await google.colab.output.renderOutput(dataTable, element);\n",
              "          const docLink = document.createElement('div');\n",
              "          docLink.innerHTML = docLinkHtml;\n",
              "          element.appendChild(docLink);\n",
              "        }\n",
              "      </script>\n",
              "    </div>\n",
              "  </div>\n",
              "  "
            ]
          },
          "metadata": {},
          "execution_count": 6
        }
      ],
      "source": [
        "data.describe()"
      ]
    },
    {
      "cell_type": "markdown",
      "metadata": {
        "id": "9Bppa5R1RDG5"
      },
      "source": [
        "**Результаты первичного обзора данных**\n",
        "\n",
        "* Все колонки соответствуют требуемому стилю написания. Поменяем наименование колонки `'number'` на `'number_of_seats'`, чтобы не забыть во время анализа, что за количество отображено в колонке;\n",
        "\n",
        "* В данных нет пропусков;\n",
        "\n",
        "* В колонке `'chain'` поменяем значения `да` и `нет` и изменим тип данных на `bool`, чтобы упростить анализ.\n",
        "\n",
        "* В колонке с количество посадочных мест явно есть выбросы. Минимальное значение `0` может быть выбросом или может обозначать объекты без посадочных мест. Возможно, такое значение может соответствовать отдельному типу заведения. Максимальное значение `1700` увеличивает среднее почти в два раза по сравнению с медианным значением. "
      ]
    },
    {
      "cell_type": "markdown",
      "metadata": {
        "id": "nNhkCquGTfqB"
      },
      "source": [
        "## Предобработка данных\n",
        "<a class='anchor' id='processing'></a>"
      ]
    },
    {
      "cell_type": "markdown",
      "metadata": {
        "id": "tCcrU-KSTiMw"
      },
      "source": [
        "### Переименование колонки `'number'`\n",
        "<a class='anchor' id='number'></a>"
      ]
    },
    {
      "cell_type": "markdown",
      "metadata": {
        "id": "8MS1KBbwT9cY"
      },
      "source": [
        "Переименуем колонку `'number'` и проверим, все ли получилось."
      ]
    },
    {
      "cell_type": "code",
      "execution_count": 7,
      "metadata": {
        "colab": {
          "base_uri": "https://localhost:8080/"
        },
        "id": "ffQfp2UAQ75A",
        "outputId": "39077e85-2779-4ab0-95a5-192d37e5b773"
      },
      "outputs": [
        {
          "output_type": "execute_result",
          "data": {
            "text/plain": [
              "Index(['id', 'object_name', 'chain', 'object_type', 'address',\n",
              "       'number_of_seats'],\n",
              "      dtype='object')"
            ]
          },
          "metadata": {},
          "execution_count": 7
        }
      ],
      "source": [
        "data = data.rename(columns={'number' : 'number_of_seats'})\n",
        "\n",
        "data.columns"
      ]
    },
    {
      "cell_type": "markdown",
      "metadata": {
        "id": "hbm4Njc2UEn4"
      },
      "source": [
        "### Замена значений в колонке `'chain'`\n",
        "<a class='anchor' id='chain'></a>"
      ]
    },
    {
      "cell_type": "markdown",
      "metadata": {
        "id": "Zhzi4HGSUXIQ"
      },
      "source": [
        "Сначала посмотрим, нет ли в колонке иных значений, помимо `да` и `нет`."
      ]
    },
    {
      "cell_type": "code",
      "execution_count": 8,
      "metadata": {
        "colab": {
          "base_uri": "https://localhost:8080/"
        },
        "id": "SEMgduRJT5FK",
        "outputId": "fa36e2af-3f59-47a2-93bf-569191b27917"
      },
      "outputs": [
        {
          "output_type": "execute_result",
          "data": {
            "text/plain": [
              "нет    12398\n",
              "да      2968\n",
              "Name: chain, dtype: int64"
            ]
          },
          "metadata": {},
          "execution_count": 8
        }
      ],
      "source": [
        "data['chain'].value_counts()"
      ]
    },
    {
      "cell_type": "markdown",
      "metadata": {
        "id": "K1An_rC0UlCH"
      },
      "source": [
        "Иных значений нет. Теперь можно их переименовать и изменить тип данных в колонке на `bool`."
      ]
    },
    {
      "cell_type": "code",
      "execution_count": 9,
      "metadata": {
        "colab": {
          "base_uri": "https://localhost:8080/"
        },
        "id": "ZrsLJLmNUTtA",
        "outputId": "4459ff5b-c2bc-4574-99cc-79cff33942ed"
      },
      "outputs": [
        {
          "output_type": "stream",
          "name": "stdout",
          "text": [
            "False    12398\n",
            "True      2968\n",
            "Name: chain, dtype: int64\n",
            "\n",
            "<class 'pandas.core.frame.DataFrame'>\n",
            "RangeIndex: 15366 entries, 0 to 15365\n",
            "Data columns (total 6 columns):\n",
            " #   Column           Non-Null Count  Dtype \n",
            "---  ------           --------------  ----- \n",
            " 0   id               15366 non-null  int64 \n",
            " 1   object_name      15366 non-null  object\n",
            " 2   chain            15366 non-null  bool  \n",
            " 3   object_type      15366 non-null  object\n",
            " 4   address          15366 non-null  object\n",
            " 5   number_of_seats  15366 non-null  int64 \n",
            "dtypes: bool(1), int64(2), object(3)\n",
            "memory usage: 615.4+ KB\n"
          ]
        }
      ],
      "source": [
        "data['chain'] = (\n",
        "    data['chain']\n",
        "    .replace({'да' : '1', 'нет' : '0'})\n",
        "    .astype('int')\n",
        "    .astype('bool')\n",
        ")\n",
        "\n",
        "print(data['chain'].value_counts()) # проверяем, все ли получилось\n",
        "print()\n",
        "data.info()"
      ]
    },
    {
      "cell_type": "markdown",
      "metadata": {
        "id": "xmKmjenyBlOx"
      },
      "source": [
        "### Поиск дубликатов\n",
        "<a class='anchor' id='dublicates'></a>"
      ]
    },
    {
      "cell_type": "markdown",
      "metadata": {
        "id": "YrjGGSt2Ch4P"
      },
      "source": [
        "Посмотрим, есть ли полные дубликаты в таблице."
      ]
    },
    {
      "cell_type": "code",
      "execution_count": 10,
      "metadata": {
        "colab": {
          "base_uri": "https://localhost:8080/"
        },
        "id": "9relWi8PCXh-",
        "outputId": "f4d5fe48-ca51-4625-b77a-a9053eeb11f0"
      },
      "outputs": [
        {
          "output_type": "execute_result",
          "data": {
            "text/plain": [
              "0"
            ]
          },
          "metadata": {},
          "execution_count": 10
        }
      ],
      "source": [
        "data.duplicated().sum()"
      ]
    },
    {
      "cell_type": "markdown",
      "metadata": {
        "id": "PAwx_Z3DYc-e"
      },
      "source": [
        "Таких дубликатов нет. Посмотрим уникалные значения столбцов `'id'`, `'object_name'`, '`object_type'` и `'address'`."
      ]
    },
    {
      "cell_type": "code",
      "execution_count": 11,
      "metadata": {
        "colab": {
          "base_uri": "https://localhost:8080/"
        },
        "id": "07vAcrwnq97h",
        "outputId": "b0277ab8-7bf6-4a5a-8675-0c7067e7b442"
      },
      "outputs": [
        {
          "output_type": "execute_result",
          "data": {
            "text/plain": [
              "151635    1\n",
              "23056     1\n",
              "21065     1\n",
              "23670     1\n",
              "24309     1\n",
              "Name: id, dtype: int64"
            ]
          },
          "metadata": {},
          "execution_count": 11
        }
      ],
      "source": [
        "data['id'].value_counts().sort_values(ascending=False).head()"
      ]
    },
    {
      "cell_type": "markdown",
      "metadata": {
        "id": "1cgIu_chrM9O"
      },
      "source": [
        "Каждому заведению соответствует одна строка."
      ]
    },
    {
      "cell_type": "code",
      "execution_count": 12,
      "metadata": {
        "colab": {
          "base_uri": "https://localhost:8080/"
        },
        "id": "ygOCDEwCY7Uu",
        "outputId": "ad5e1836-cd1f-49f7-c2e7-325fa95cf34b"
      },
      "outputs": [
        {
          "output_type": "execute_result",
          "data": {
            "text/plain": [
              "кафе                                 6099\n",
              "столовая                             2587\n",
              "ресторан                             2285\n",
              "предприятие быстрого обслуживания    1923\n",
              "бар                                   856\n",
              "буфет                                 585\n",
              "кафетерий                             398\n",
              "закусочная                            360\n",
              "магазин (отдел кулинарии)             273\n",
              "Name: object_type, dtype: int64"
            ]
          },
          "metadata": {},
          "execution_count": 12
        }
      ],
      "source": [
        "data['object_type'].value_counts()"
      ]
    },
    {
      "cell_type": "markdown",
      "metadata": {
        "id": "NPfU5874aDMA"
      },
      "source": [
        "Теперь мы знаем, что все заведения разделены на 9 категорий."
      ]
    },
    {
      "cell_type": "code",
      "execution_count": 13,
      "metadata": {
        "colab": {
          "base_uri": "https://localhost:8080/"
        },
        "id": "DLK65z9mX5t_",
        "outputId": "70cd6a77-06a7-4d76-a656-1f18d616281f"
      },
      "outputs": [
        {
          "output_type": "execute_result",
          "data": {
            "text/plain": [
              "Столовая                    267\n",
              "Кафе                        236\n",
              "Шаурма                      234\n",
              "KFC                         155\n",
              "Шоколадница                 142\n",
              "Макдоналдс                  122\n",
              "Бургер Кинг                 122\n",
              "Домино'с Пицца               86\n",
              "Теремок                      84\n",
              "Крошка Картошка              82\n",
              "Пекарня                      76\n",
              "Милти                        65\n",
              "Суши Wok                     61\n",
              "Буфет                        59\n",
              "СТОЛОВАЯ                     52\n",
              "Папа Джонс                   50\n",
              "Кофе с собой                 44\n",
              "Школьно-базовая столовая     44\n",
              "Чайхона №1                   42\n",
              "КАФЕ                         41\n",
              "Name: object_name, dtype: int64"
            ]
          },
          "metadata": {},
          "execution_count": 13
        }
      ],
      "source": [
        "data['object_name'].value_counts().head(20)"
      ]
    },
    {
      "cell_type": "markdown",
      "metadata": {
        "id": "94rKEQ6JbTMN"
      },
      "source": [
        "Здесь есть дубликаты. Попробуем обработать дубликаты сетевых заведений, поскольку они не уникальны и потребуются для дальнейшего анализа."
      ]
    },
    {
      "cell_type": "code",
      "execution_count": 14,
      "metadata": {
        "id": "E2pNDLiuvydl"
      },
      "outputs": [],
      "source": [
        "# запишем значения с наименованиями в новую колонку, чтобы сохранить\n",
        "# первоначальное название, а обрабатывать будем первоначальную колонку\n",
        "\n",
        "data['object_name_original'] = data['object_name']"
      ]
    },
    {
      "cell_type": "code",
      "execution_count": 15,
      "metadata": {
        "id": "uocaoeUjZMv1"
      },
      "outputs": [],
      "source": [
        "# приведем значения столбца к нижнему регистру\n",
        "\n",
        "data.loc[data['chain'] == True, 'object_name'] = (\n",
        "    data.loc[data['chain'] == True, 'object_name'].str.lower()\n",
        ") "
      ]
    },
    {
      "cell_type": "code",
      "execution_count": 16,
      "metadata": {
        "id": "pQN_LTZZcTpU"
      },
      "outputs": [],
      "source": [
        "# создадим и применим функцию, которая убирает лишние слова и символы\n",
        "\n",
        "def drop_word(value):\n",
        "    if '-' in value:\n",
        "        value = value.replace('-', ' ')\n",
        "    words = ['кафе ', 'ресторан ', 'кофейня ', 'пиццерия ', 'закусочная ',\n",
        "             '«', '»']\n",
        "    for w in words:\n",
        "        if w in value:\n",
        "            value = value.replace(w, '')\n",
        "        else:\n",
        "            value = value\n",
        "    return value\n",
        "\n",
        "data.loc[data['chain'] == True, 'object_name'] = (\n",
        "    data.loc[data['chain'] == True, 'object_name'].apply(drop_word)\n",
        ")"
      ]
    },
    {
      "cell_type": "code",
      "execution_count": 17,
      "metadata": {
        "id": "2fEJp_B0a52G"
      },
      "outputs": [],
      "source": [
        "# создадим и применим функцию, которая приводит к одному названию некоторые сети\n",
        "\n",
        "def rename(name):\n",
        "    if 'сабвей' in name or 'subway' in name:\n",
        "        return 'subway'\n",
        "    elif 'старбакс' in name or 'starbucks' in name:\n",
        "        return 'starbucks'\n",
        "    elif 'караваев' in name:\n",
        "        return 'братья караваевы'\n",
        "    elif 'суши вок' in name or 'суши wok' in name:\n",
        "        return 'суши wok'\n",
        "    else:\n",
        "        return name\n",
        "        \n",
        "data.loc[data['chain'] == True, 'object_name'] = (\n",
        "    data.loc[data['chain'] == True, 'object_name'].apply(rename)\n",
        ")"
      ]
    },
    {
      "cell_type": "code",
      "execution_count": 18,
      "metadata": {
        "colab": {
          "base_uri": "https://localhost:8080/"
        },
        "id": "vaBPT0ZLZRAK",
        "outputId": "efbedb26-7a19-416e-f768-ccf0c61ae444"
      },
      "outputs": [
        {
          "output_type": "execute_result",
          "data": {
            "text/plain": [
              "город Москва, Ходынский бульвар, дом 4                                       95\n",
              "город Москва, Пресненская набережная, дом 2                                  63\n",
              "город Москва, проспект Мира, дом 211, корпус 2                               60\n",
              "город Москва, Кировоградская улица, дом 13А                                  53\n",
              "город Москва, площадь Киевского Вокзала, дом 2                               48\n",
              "город Москва, улица Земляной Вал, дом 33                                     46\n",
              "город Москва, Мытная улица, дом 74                                           46\n",
              "город Москва, улица Новый Арбат, дом 21                                      42\n",
              "город Москва, улица Ленинская Слобода, дом 26                                41\n",
              "город Москва, Ярцевская улица, дом 19                                        40\n",
              "город Москва, Кутузовский проспект, дом 57                                   40\n",
              "город Москва, поселение Сосенское, Калужское шоссе, 22-й километр, дом 10    38\n",
              "город Москва, Нижняя Красносельская улица, дом 35, строение 59               38\n",
              "город Москва, Манежная площадь, дом 1, строение 2                            38\n",
              "город Москва, Открытое шоссе, дом 9, строение 14А                            37\n",
              "город Москва, Хорошёвское шоссе, дом 27                                      35\n",
              "город Москва, Автозаводская улица, дом 18                                    35\n",
              "город Москва, Ленинградское шоссе, дом 16А, строение 4                       34\n",
              "город Москва, Театральный проезд, дом 5, строение 1                          34\n",
              "город Москва, улица Маросейка, дом 4/2, строение 1                           34\n",
              "Name: address, dtype: int64"
            ]
          },
          "metadata": {},
          "execution_count": 18
        }
      ],
      "source": [
        "data['address'].value_counts().head(20) #посмотрим адреса"
      ]
    },
    {
      "cell_type": "markdown",
      "metadata": {
        "id": "GeIz3WF7cqHH"
      },
      "source": [
        "В одном здании по адресу Ходынский бульвар, дом 4 находится 95 заведений. Оказывается, что там расположен крупнейший в Европе по общей площади торгово-развлекательный центр \"Авиапарк\". То же самое и с остальными массовыми адресами: там расположены бизнес-центры, торговые дома и другие общественные здания.\n",
        "\n",
        "В анализе нам понадобятся наименования улиц, поэтому создадим для этого новую колонку."
      ]
    },
    {
      "cell_type": "code",
      "execution_count": 19,
      "metadata": {
        "id": "5gc-SviRd7za"
      },
      "outputs": [],
      "source": [
        "# создаем пустой список, в который запишем наименование улиц,\n",
        "# если строка начинается с \"город Москва\";\n",
        "# преобразуем результат в новую колонку\n",
        "\n",
        "streets = []\n",
        "\n",
        "for addr in data['address']:\n",
        "    streets.append(''.join(re.findall(\n",
        "        'город Москва, ([№\"\\w -]+), ', str(addr))))\n",
        "    \n",
        "data['street'] = pd.Series(streets)"
      ]
    },
    {
      "cell_type": "code",
      "execution_count": 20,
      "metadata": {
        "id": "qkTi1oEgrG-Y"
      },
      "outputs": [],
      "source": [
        "# создаем такой же список, если строка начинается сразу с наименования улицы;\n",
        "# преобразуем результат в новую колонку\n",
        "\n",
        "streets_2 = []\n",
        "\n",
        "for addr in data['address']:\n",
        "    streets_2.append(''.join(re.findall(\n",
        "        '^([№\"\\w -]+), ', str(addr))))\n",
        "    \n",
        "data['street_2'] = pd.Series(streets_2)"
      ]
    },
    {
      "cell_type": "code",
      "execution_count": 21,
      "metadata": {
        "id": "vcO1n0Ohjv1L"
      },
      "outputs": [],
      "source": [
        "# в колонке 'street' есть незаполненные строки, но они не отмечены как пропуски;\n",
        "# они образовались из-за того, что в колонке с адресами есть значения, не\n",
        "# начинающиеся с \"город Москва\", но они есть в колонке 'street_2';\n",
        "# заполним пустые значения колонки 'street' значениями из колонки 'street_2';\n",
        "# удалим колонку 'street_2'\n",
        "\n",
        "data['street'] = np.where(\n",
        "    data['street'] == '',\n",
        "    data['street_2'],\n",
        "    data['street']\n",
        "    )\n",
        "\n",
        "data = data.drop(columns='street_2')"
      ]
    },
    {
      "cell_type": "code",
      "execution_count": 22,
      "metadata": {
        "id": "4wMy62ffqjO6"
      },
      "outputs": [],
      "source": [
        "# создаем такой же пустой список, если строка отображает город Зеленоград;\n",
        "# преобразуем результат в новую колонку\n",
        "\n",
        "streets_zelen_1 = []\n",
        "streets_zelen_2 = []\n",
        "\n",
        "for addr in data['address']:\n",
        "    streets_zelen_1.append(''.join(re.findall(\n",
        "        'город Москва, город Зеленоград, ([№\"\\w -]+), ', str(addr))))\n",
        "    \n",
        "data['street_zelen_1'] = pd.Series(streets_zelen_1)"
      ]
    },
    {
      "cell_type": "code",
      "execution_count": 23,
      "metadata": {
        "id": "Vy9FTldAtVtY"
      },
      "outputs": [],
      "source": [
        "# в колонке 'street' уже заполнены значения городом Зеленоград;\n",
        "# заменим эти значения колонки 'street' значениями из колонки 'street_zelen';\n",
        "# удалим колонку 'street_zelen'\n",
        "\n",
        "data['street'] = np.where(\n",
        "    data['street'] == 'город Зеленоград',\n",
        "    data['street_zelen_1'],\n",
        "    data['street']\n",
        "    )\n",
        "\n",
        "data = data.drop(columns='street_zelen_1')"
      ]
    },
    {
      "cell_type": "code",
      "execution_count": 24,
      "metadata": {
        "id": "zXY4Gktx02FD"
      },
      "outputs": [],
      "source": [
        "# в городе Зеленограде есть обозначения улиц, которые не заканчиваются запятой\n",
        "# обработаем их отдельно\n",
        "\n",
        "for addr in data['address']:\n",
        "    streets_zelen_2.append(''.join(re.findall(\n",
        "        'город Москва, город Зеленоград, ([№\"\\w -]+)', str(addr))))\n",
        "    \n",
        "data['street_zelen_2'] = pd.Series(streets_zelen_2)"
      ]
    },
    {
      "cell_type": "code",
      "execution_count": 25,
      "metadata": {
        "id": "h_n_kk-N1IUd"
      },
      "outputs": [],
      "source": [
        "data['street'] = np.where(\n",
        "    data['street'] == '',\n",
        "    data['street_zelen_2'],\n",
        "    data['street']\n",
        "    )\n",
        "\n",
        "data = data.drop(columns='street_zelen_2')"
      ]
    },
    {
      "cell_type": "code",
      "execution_count": 26,
      "metadata": {
        "id": "zycBWZIktjei"
      },
      "outputs": [],
      "source": [
        "# повторим то же самое для поселения Сосенское\n",
        "\n",
        "streets_sosen_1 = []\n",
        "\n",
        "for addr in data['address']:\n",
        "    streets_sosen_1.append(''.join(re.findall(\n",
        "        'город Москва, поселение Сосенское, ([№\"\\w -]+), ', str(addr))))\n",
        "    \n",
        "data['street_sosen_1'] = pd.Series(streets_sosen_1)"
      ]
    },
    {
      "cell_type": "code",
      "execution_count": 27,
      "metadata": {
        "id": "a9aPdq1buFPw"
      },
      "outputs": [],
      "source": [
        "data['street'] = np.where(\n",
        "    data['street'] == 'поселение Сосенское',\n",
        "    data['street_sosen_1'],\n",
        "    data['street']\n",
        "    )\n",
        "\n",
        "data = data.drop(columns='street_sosen_1')"
      ]
    },
    {
      "cell_type": "code",
      "execution_count": 28,
      "metadata": {
        "id": "d07xjCZ22CKo"
      },
      "outputs": [],
      "source": [
        "streets_sosen_2 = []\n",
        "\n",
        "for addr in data['address']:\n",
        "    streets_sosen_2.append(''.join(re.findall(\n",
        "        'город Москва, поселение Сосенское, ([№\"\\w -]+)', str(addr))))\n",
        "    \n",
        "data['street_sosen_2'] = pd.Series(streets_sosen_2)"
      ]
    },
    {
      "cell_type": "code",
      "execution_count": 29,
      "metadata": {
        "id": "Or_rbCl92CKr"
      },
      "outputs": [],
      "source": [
        "data['street'] = np.where(\n",
        "    data['street'] == '',\n",
        "    data['street_sosen_2'],\n",
        "    data['street']\n",
        "    )\n",
        "\n",
        "data = data.drop(columns='street_sosen_2')"
      ]
    },
    {
      "cell_type": "code",
      "execution_count": 30,
      "metadata": {
        "id": "BO5lQgVqaLKt"
      },
      "outputs": [],
      "source": [
        "# создадим и применим функцию, которая убирает лишние слова и символы;\n",
        "# так мы уберем неявные дубликаты\n",
        "\n",
        "def drop_street(value):\n",
        "    words = ['улица ', ' улица', 'проспект ', ' проспект', 'проезд ',\n",
        "             ' проезд', 'переулок ', ' переулок', ' шоссе', 'шоссе ',\n",
        "             'площадь ', ' площадь', 'бульвар ', ' бульвар']\n",
        "    for w in words:\n",
        "        if w in value:\n",
        "            value = value.replace(w, '')\n",
        "        else:\n",
        "            value = value\n",
        "    return value\n",
        "\n",
        "data['street'] = data['street'].apply(drop_street)"
      ]
    },
    {
      "cell_type": "code",
      "execution_count": 31,
      "metadata": {
        "colab": {
          "base_uri": "https://localhost:8080/",
          "height": 250
        },
        "id": "_jXWymw3uZkp",
        "outputId": "1a6db769-daf8-4da5-f15a-d4a547bf465c"
      },
      "outputs": [
        {
          "output_type": "execute_result",
          "data": {
            "text/plain": [
              "       id             object_name  chain object_type  \\\n",
              "0  151635                 СМЕТАНА  False        кафе   \n",
              "1   77874                  Родник  False        кафе   \n",
              "2   24309         Кафе «Академия»  False        кафе   \n",
              "3   21894              пиццетория   True        кафе   \n",
              "4  119365  Кафе «Вишневая метель»  False        кафе   \n",
              "\n",
              "                                             address  number_of_seats  \\\n",
              "0         город Москва, улица Егора Абакумова, дом 9               48   \n",
              "1  город Москва, улица Талалихина, дом 2/1, корпус 1               35   \n",
              "2          город Москва, Абельмановская улица, дом 6               95   \n",
              "3            город Москва, Абрамцевская улица, дом 1               40   \n",
              "4  город Москва, Абрамцевская улица, дом 9, корпус 1               50   \n",
              "\n",
              "     object_name_original           street  \n",
              "0                 СМЕТАНА  Егора Абакумова  \n",
              "1                  Родник       Талалихина  \n",
              "2         Кафе «Академия»   Абельмановская  \n",
              "3              ПИЦЦЕТОРИЯ     Абрамцевская  \n",
              "4  Кафе «Вишневая метель»     Абрамцевская  "
            ],
            "text/html": [
              "\n",
              "  <div id=\"df-5cf7dc82-164c-4f92-962a-9f7107b887d8\">\n",
              "    <div class=\"colab-df-container\">\n",
              "      <div>\n",
              "<style scoped>\n",
              "    .dataframe tbody tr th:only-of-type {\n",
              "        vertical-align: middle;\n",
              "    }\n",
              "\n",
              "    .dataframe tbody tr th {\n",
              "        vertical-align: top;\n",
              "    }\n",
              "\n",
              "    .dataframe thead th {\n",
              "        text-align: right;\n",
              "    }\n",
              "</style>\n",
              "<table border=\"1\" class=\"dataframe\">\n",
              "  <thead>\n",
              "    <tr style=\"text-align: right;\">\n",
              "      <th></th>\n",
              "      <th>id</th>\n",
              "      <th>object_name</th>\n",
              "      <th>chain</th>\n",
              "      <th>object_type</th>\n",
              "      <th>address</th>\n",
              "      <th>number_of_seats</th>\n",
              "      <th>object_name_original</th>\n",
              "      <th>street</th>\n",
              "    </tr>\n",
              "  </thead>\n",
              "  <tbody>\n",
              "    <tr>\n",
              "      <th>0</th>\n",
              "      <td>151635</td>\n",
              "      <td>СМЕТАНА</td>\n",
              "      <td>False</td>\n",
              "      <td>кафе</td>\n",
              "      <td>город Москва, улица Егора Абакумова, дом 9</td>\n",
              "      <td>48</td>\n",
              "      <td>СМЕТАНА</td>\n",
              "      <td>Егора Абакумова</td>\n",
              "    </tr>\n",
              "    <tr>\n",
              "      <th>1</th>\n",
              "      <td>77874</td>\n",
              "      <td>Родник</td>\n",
              "      <td>False</td>\n",
              "      <td>кафе</td>\n",
              "      <td>город Москва, улица Талалихина, дом 2/1, корпус 1</td>\n",
              "      <td>35</td>\n",
              "      <td>Родник</td>\n",
              "      <td>Талалихина</td>\n",
              "    </tr>\n",
              "    <tr>\n",
              "      <th>2</th>\n",
              "      <td>24309</td>\n",
              "      <td>Кафе «Академия»</td>\n",
              "      <td>False</td>\n",
              "      <td>кафе</td>\n",
              "      <td>город Москва, Абельмановская улица, дом 6</td>\n",
              "      <td>95</td>\n",
              "      <td>Кафе «Академия»</td>\n",
              "      <td>Абельмановская</td>\n",
              "    </tr>\n",
              "    <tr>\n",
              "      <th>3</th>\n",
              "      <td>21894</td>\n",
              "      <td>пиццетория</td>\n",
              "      <td>True</td>\n",
              "      <td>кафе</td>\n",
              "      <td>город Москва, Абрамцевская улица, дом 1</td>\n",
              "      <td>40</td>\n",
              "      <td>ПИЦЦЕТОРИЯ</td>\n",
              "      <td>Абрамцевская</td>\n",
              "    </tr>\n",
              "    <tr>\n",
              "      <th>4</th>\n",
              "      <td>119365</td>\n",
              "      <td>Кафе «Вишневая метель»</td>\n",
              "      <td>False</td>\n",
              "      <td>кафе</td>\n",
              "      <td>город Москва, Абрамцевская улица, дом 9, корпус 1</td>\n",
              "      <td>50</td>\n",
              "      <td>Кафе «Вишневая метель»</td>\n",
              "      <td>Абрамцевская</td>\n",
              "    </tr>\n",
              "  </tbody>\n",
              "</table>\n",
              "</div>\n",
              "      <button class=\"colab-df-convert\" onclick=\"convertToInteractive('df-5cf7dc82-164c-4f92-962a-9f7107b887d8')\"\n",
              "              title=\"Convert this dataframe to an interactive table.\"\n",
              "              style=\"display:none;\">\n",
              "        \n",
              "  <svg xmlns=\"http://www.w3.org/2000/svg\" height=\"24px\"viewBox=\"0 0 24 24\"\n",
              "       width=\"24px\">\n",
              "    <path d=\"M0 0h24v24H0V0z\" fill=\"none\"/>\n",
              "    <path d=\"M18.56 5.44l.94 2.06.94-2.06 2.06-.94-2.06-.94-.94-2.06-.94 2.06-2.06.94zm-11 1L8.5 8.5l.94-2.06 2.06-.94-2.06-.94L8.5 2.5l-.94 2.06-2.06.94zm10 10l.94 2.06.94-2.06 2.06-.94-2.06-.94-.94-2.06-.94 2.06-2.06.94z\"/><path d=\"M17.41 7.96l-1.37-1.37c-.4-.4-.92-.59-1.43-.59-.52 0-1.04.2-1.43.59L10.3 9.45l-7.72 7.72c-.78.78-.78 2.05 0 2.83L4 21.41c.39.39.9.59 1.41.59.51 0 1.02-.2 1.41-.59l7.78-7.78 2.81-2.81c.8-.78.8-2.07 0-2.86zM5.41 20L4 18.59l7.72-7.72 1.47 1.35L5.41 20z\"/>\n",
              "  </svg>\n",
              "      </button>\n",
              "      \n",
              "  <style>\n",
              "    .colab-df-container {\n",
              "      display:flex;\n",
              "      flex-wrap:wrap;\n",
              "      gap: 12px;\n",
              "    }\n",
              "\n",
              "    .colab-df-convert {\n",
              "      background-color: #E8F0FE;\n",
              "      border: none;\n",
              "      border-radius: 50%;\n",
              "      cursor: pointer;\n",
              "      display: none;\n",
              "      fill: #1967D2;\n",
              "      height: 32px;\n",
              "      padding: 0 0 0 0;\n",
              "      width: 32px;\n",
              "    }\n",
              "\n",
              "    .colab-df-convert:hover {\n",
              "      background-color: #E2EBFA;\n",
              "      box-shadow: 0px 1px 2px rgba(60, 64, 67, 0.3), 0px 1px 3px 1px rgba(60, 64, 67, 0.15);\n",
              "      fill: #174EA6;\n",
              "    }\n",
              "\n",
              "    [theme=dark] .colab-df-convert {\n",
              "      background-color: #3B4455;\n",
              "      fill: #D2E3FC;\n",
              "    }\n",
              "\n",
              "    [theme=dark] .colab-df-convert:hover {\n",
              "      background-color: #434B5C;\n",
              "      box-shadow: 0px 1px 3px 1px rgba(0, 0, 0, 0.15);\n",
              "      filter: drop-shadow(0px 1px 2px rgba(0, 0, 0, 0.3));\n",
              "      fill: #FFFFFF;\n",
              "    }\n",
              "  </style>\n",
              "\n",
              "      <script>\n",
              "        const buttonEl =\n",
              "          document.querySelector('#df-5cf7dc82-164c-4f92-962a-9f7107b887d8 button.colab-df-convert');\n",
              "        buttonEl.style.display =\n",
              "          google.colab.kernel.accessAllowed ? 'block' : 'none';\n",
              "\n",
              "        async function convertToInteractive(key) {\n",
              "          const element = document.querySelector('#df-5cf7dc82-164c-4f92-962a-9f7107b887d8');\n",
              "          const dataTable =\n",
              "            await google.colab.kernel.invokeFunction('convertToInteractive',\n",
              "                                                     [key], {});\n",
              "          if (!dataTable) return;\n",
              "\n",
              "          const docLinkHtml = 'Like what you see? Visit the ' +\n",
              "            '<a target=\"_blank\" href=https://colab.research.google.com/notebooks/data_table.ipynb>data table notebook</a>'\n",
              "            + ' to learn more about interactive tables.';\n",
              "          element.innerHTML = '';\n",
              "          dataTable['output_type'] = 'display_data';\n",
              "          await google.colab.output.renderOutput(dataTable, element);\n",
              "          const docLink = document.createElement('div');\n",
              "          docLink.innerHTML = docLinkHtml;\n",
              "          element.appendChild(docLink);\n",
              "        }\n",
              "      </script>\n",
              "    </div>\n",
              "  </div>\n",
              "  "
            ]
          },
          "metadata": {},
          "execution_count": 31
        }
      ],
      "source": [
        "# посмотрим, как теперь выглядит таблица\n",
        "data.head()"
      ]
    },
    {
      "cell_type": "markdown",
      "metadata": {
        "id": "mM2tgV3kdUim"
      },
      "source": [
        "## Исследовательский анализ данных\n",
        "<a class='anchor' id='research'></a>"
      ]
    },
    {
      "cell_type": "markdown",
      "metadata": {
        "id": "I9QmhQDYG7xe"
      },
      "source": [
        "### Анализ видов заведений\n",
        "<a class='anchor' id='type'></a>"
      ]
    },
    {
      "cell_type": "markdown",
      "metadata": {
        "id": "IkgWWN3xqgzq"
      },
      "source": [
        "Ранее мы определили, что все заведения общественного питания разделены на 9 видов. Рассмотрим их количественное и процентное соотношение. Для этого сгруппируем данные по виду заведения и посчитаем количество заведении данного вида. Построим графики."
      ]
    },
    {
      "cell_type": "code",
      "execution_count": 32,
      "metadata": {
        "id": "3Ve0wKYJZXQ4"
      },
      "outputs": [],
      "source": [
        "type = (\n",
        "    data.groupby('object_type')\n",
        "    .agg({'id' : 'count'})\n",
        "    .reset_index()\n",
        "    .rename(columns={'id' : 'count'})\n",
        "    .sort_values(by='count', ascending=False)\n",
        ")"
      ]
    },
    {
      "cell_type": "code",
      "execution_count": 33,
      "metadata": {
        "colab": {
          "base_uri": "https://localhost:8080/",
          "height": 598
        },
        "id": "Le4_Rd_bkoJq",
        "outputId": "a0f1bf50-2f64-4959-c7d8-07c1480b091d"
      },
      "outputs": [
        {
          "output_type": "display_data",
          "data": {
            "text/plain": [
              "<Figure size 1080x504 with 1 Axes>"
            ],
            "image/png": "[encoded data removed]"
          },
          "metadata": {
            "needs_background": "light"
          }
        }
      ],
      "source": [
        "plt.figure(figsize=(15, 7))\n",
        "plt.grid()\n",
        "\n",
        "sns.barplot(x='object_type', y='count', data=type, color='#72B7B2') \n",
        "\n",
        "plt.xlabel('Вид заведения')\n",
        "plt.xticks(rotation=45)\n",
        "plt.ylabel('Количество заведений')\n",
        "plt.title('Количественное соотношение видов объектов общественного питания')\n",
        "\n",
        "plt.show()"
      ]
    },
    {
      "cell_type": "code",
      "execution_count": 34,
      "metadata": {
        "colab": {
          "base_uri": "https://localhost:8080/",
          "height": 542
        },
        "id": "TqkHlc9de7-k",
        "outputId": "ee1369fc-ccc6-4b26-e8f8-c4a6f9ebf6b9"
      },
      "outputs": [
        {
          "output_type": "display_data",
          "data": {
            "text/html": [
              "<html>\n",
              "<head><meta charset=\"utf-8\" /></head>\n",
              "<body>\n",
              "    <div>            <script src=\"https://cdnjs.cloudflare.com/ajax/libs/mathjax/2.7.5/MathJax.js?config=TeX-AMS-MML_SVG\"></script><script type=\"text/javascript\">if (window.MathJax) {MathJax.Hub.Config({SVG: {font: \"STIX-Web\"}});}</script>                <script type=\"text/javascript\">window.PlotlyConfig = {MathJaxConfig: 'local'};</script>\n",
              "        <script src=\"https://cdn.plot.ly/plotly-2.8.3.min.js\"></script>                <div id=\"b348fa0d-05ca-4c55-b3a0-ecdcec2d2b32\" class=\"plotly-graph-div\" style=\"height:525px; width:100%;\"></div>            <script type=\"text/javascript\">                                    window.PLOTLYENV=window.PLOTLYENV || {};                                    if (document.getElementById(\"b348fa0d-05ca-4c55-b3a0-ecdcec2d2b32\")) {                    Plotly.newPlot(                        \"b348fa0d-05ca-4c55-b3a0-ecdcec2d2b32\",                        [{\"domain\":{\"x\":[0.0,1.0],\"y\":[0.0,1.0]},\"hovertemplate\":\"object_type=%{label}<br>count=%{value}<extra></extra>\",\"labels\":[\"\\u043a\\u0430\\u0444\\u0435\",\"\\u0441\\u0442\\u043e\\u043b\\u043e\\u0432\\u0430\\u044f\",\"\\u0440\\u0435\\u0441\\u0442\\u043e\\u0440\\u0430\\u043d\",\"\\u043f\\u0440\\u0435\\u0434\\u043f\\u0440\\u0438\\u044f\\u0442\\u0438\\u0435 \\u0431\\u044b\\u0441\\u0442\\u0440\\u043e\\u0433\\u043e \\u043e\\u0431\\u0441\\u043b\\u0443\\u0436\\u0438\\u0432\\u0430\\u043d\\u0438\\u044f\",\"\\u0431\\u0430\\u0440\",\"\\u0431\\u0443\\u0444\\u0435\\u0442\",\"\\u043a\\u0430\\u0444\\u0435\\u0442\\u0435\\u0440\\u0438\\u0439\",\"\\u0437\\u0430\\u043a\\u0443\\u0441\\u043e\\u0447\\u043d\\u0430\\u044f\",\"\\u043c\\u0430\\u0433\\u0430\\u0437\\u0438\\u043d (\\u043e\\u0442\\u0434\\u0435\\u043b \\u043a\\u0443\\u043b\\u0438\\u043d\\u0430\\u0440\\u0438\\u0438)\"],\"legendgroup\":\"\",\"name\":\"\",\"showlegend\":true,\"values\":[6099,2587,2285,1923,856,585,398,360,273],\"type\":\"pie\"}],                        {\"template\":{\"data\":{\"bar\":[{\"error_x\":{\"color\":\"#2a3f5f\"},\"error_y\":{\"color\":\"#2a3f5f\"},\"marker\":{\"line\":{\"color\":\"#E5ECF6\",\"width\":0.5},\"pattern\":{\"fillmode\":\"overlay\",\"size\":10,\"solidity\":0.2}},\"type\":\"bar\"}],\"barpolar\":[{\"marker\":{\"line\":{\"color\":\"#E5ECF6\",\"width\":0.5},\"pattern\":{\"fillmode\":\"overlay\",\"size\":10,\"solidity\":0.2}},\"type\":\"barpolar\"}],\"carpet\":[{\"aaxis\":{\"endlinecolor\":\"#2a3f5f\",\"gridcolor\":\"white\",\"linecolor\":\"white\",\"minorgridcolor\":\"white\",\"startlinecolor\":\"#2a3f5f\"},\"baxis\":{\"endlinecolor\":\"#2a3f5f\",\"gridcolor\":\"white\",\"linecolor\":\"white\",\"minorgridcolor\":\"white\",\"startlinecolor\":\"#2a3f5f\"},\"type\":\"carpet\"}],\"choropleth\":[{\"colorbar\":{\"outlinewidth\":0,\"ticks\":\"\"},\"type\":\"choropleth\"}],\"contour\":[{\"colorbar\":{\"outlinewidth\":0,\"ticks\":\"\"},\"colorscale\":[[0.0,\"#0d0887\"],[0.1111111111111111,\"#46039f\"],[0.2222222222222222,\"#7201a8\"],[0.3333333333333333,\"#9c179e\"],[0.4444444444444444,\"#bd3786\"],[0.5555555555555556,\"#d8576b\"],[0.6666666666666666,\"#ed7953\"],[0.7777777777777778,\"#fb9f3a\"],[0.8888888888888888,\"#fdca26\"],[1.0,\"#f0f921\"]],\"type\":\"contour\"}],\"contourcarpet\":[{\"colorbar\":{\"outlinewidth\":0,\"ticks\":\"\"},\"type\":\"contourcarpet\"}],\"heatmap\":[{\"colorbar\":{\"outlinewidth\":0,\"ticks\":\"\"},\"colorscale\":[[0.0,\"#0d0887\"],[0.1111111111111111,\"#46039f\"],[0.2222222222222222,\"#7201a8\"],[0.3333333333333333,\"#9c179e\"],[0.4444444444444444,\"#bd3786\"],[0.5555555555555556,\"#d8576b\"],[0.6666666666666666,\"#ed7953\"],[0.7777777777777778,\"#fb9f3a\"],[0.8888888888888888,\"#fdca26\"],[1.0,\"#f0f921\"]],\"type\":\"heatmap\"}],\"heatmapgl\":[{\"colorbar\":{\"outlinewidth\":0,\"ticks\":\"\"},\"colorscale\":[[0.0,\"#0d0887\"],[0.1111111111111111,\"#46039f\"],[0.2222222222222222,\"#7201a8\"],[0.3333333333333333,\"#9c179e\"],[0.4444444444444444,\"#bd3786\"],[0.5555555555555556,\"#d8576b\"],[0.6666666666666666,\"#ed7953\"],[0.7777777777777778,\"#fb9f3a\"],[0.8888888888888888,\"#fdca26\"],[1.0,\"#f0f921\"]],\"type\":\"heatmapgl\"}],\"histogram\":[{\"marker\":{\"pattern\":{\"fillmode\":\"overlay\",\"size\":10,\"solidity\":0.2}},\"type\":\"histogram\"}],\"histogram2d\":[{\"colorbar\":{\"outlinewidth\":0,\"ticks\":\"\"},\"colorscale\":[[0.0,\"#0d0887\"],[0.1111111111111111,\"#46039f\"],[0.2222222222222222,\"#7201a8\"],[0.3333333333333333,\"#9c179e\"],[0.4444444444444444,\"#bd3786\"],[0.5555555555555556,\"#d8576b\"],[0.6666666666666666,\"#ed7953\"],[0.7777777777777778,\"#fb9f3a\"],[0.8888888888888888,\"#fdca26\"],[1.0,\"#f0f921\"]],\"type\":\"histogram2d\"}],\"histogram2dcontour\":[{\"colorbar\":{\"outlinewidth\":0,\"ticks\":\"\"},\"colorscale\":[[0.0,\"#0d0887\"],[0.1111111111111111,\"#46039f\"],[0.2222222222222222,\"#7201a8\"],[0.3333333333333333,\"#9c179e\"],[0.4444444444444444,\"#bd3786\"],[0.5555555555555556,\"#d8576b\"],[0.6666666666666666,\"#ed7953\"],[0.7777777777777778,\"#fb9f3a\"],[0.8888888888888888,\"#fdca26\"],[1.0,\"#f0f921\"]],\"type\":\"histogram2dcontour\"}],\"mesh3d\":[{\"colorbar\":{\"outlinewidth\":0,\"ticks\":\"\"},\"type\":\"mesh3d\"}],\"parcoords\":[{\"line\":{\"colorbar\":{\"outlinewidth\":0,\"ticks\":\"\"}},\"type\":\"parcoords\"}],\"pie\":[{\"automargin\":true,\"type\":\"pie\"}],\"scatter\":[{\"marker\":{\"colorbar\":{\"outlinewidth\":0,\"ticks\":\"\"}},\"type\":\"scatter\"}],\"scatter3d\":[{\"line\":{\"colorbar\":{\"outlinewidth\":0,\"ticks\":\"\"}},\"marker\":{\"colorbar\":{\"outlinewidth\":0,\"ticks\":\"\"}},\"type\":\"scatter3d\"}],\"scattercarpet\":[{\"marker\":{\"colorbar\":{\"outlinewidth\":0,\"ticks\":\"\"}},\"type\":\"scattercarpet\"}],\"scattergeo\":[{\"marker\":{\"colorbar\":{\"outlinewidth\":0,\"ticks\":\"\"}},\"type\":\"scattergeo\"}],\"scattergl\":[{\"marker\":{\"colorbar\":{\"outlinewidth\":0,\"ticks\":\"\"}},\"type\":\"scattergl\"}],\"scattermapbox\":[{\"marker\":{\"colorbar\":{\"outlinewidth\":0,\"ticks\":\"\"}},\"type\":\"scattermapbox\"}],\"scatterpolar\":[{\"marker\":{\"colorbar\":{\"outlinewidth\":0,\"ticks\":\"\"}},\"type\":\"scatterpolar\"}],\"scatterpolargl\":[{\"marker\":{\"colorbar\":{\"outlinewidth\":0,\"ticks\":\"\"}},\"type\":\"scatterpolargl\"}],\"scatterternary\":[{\"marker\":{\"colorbar\":{\"outlinewidth\":0,\"ticks\":\"\"}},\"type\":\"scatterternary\"}],\"surface\":[{\"colorbar\":{\"outlinewidth\":0,\"ticks\":\"\"},\"colorscale\":[[0.0,\"#0d0887\"],[0.1111111111111111,\"#46039f\"],[0.2222222222222222,\"#7201a8\"],[0.3333333333333333,\"#9c179e\"],[0.4444444444444444,\"#bd3786\"],[0.5555555555555556,\"#d8576b\"],[0.6666666666666666,\"#ed7953\"],[0.7777777777777778,\"#fb9f3a\"],[0.8888888888888888,\"#fdca26\"],[1.0,\"#f0f921\"]],\"type\":\"surface\"}],\"table\":[{\"cells\":{\"fill\":{\"color\":\"#EBF0F8\"},\"line\":{\"color\":\"white\"}},\"header\":{\"fill\":{\"color\":\"#C8D4E3\"},\"line\":{\"color\":\"white\"}},\"type\":\"table\"}]},\"layout\":{\"annotationdefaults\":{\"arrowcolor\":\"#2a3f5f\",\"arrowhead\":0,\"arrowwidth\":1},\"autotypenumbers\":\"strict\",\"coloraxis\":{\"colorbar\":{\"outlinewidth\":0,\"ticks\":\"\"}},\"colorscale\":{\"diverging\":[[0,\"#8e0152\"],[0.1,\"#c51b7d\"],[0.2,\"#de77ae\"],[0.3,\"#f1b6da\"],[0.4,\"#fde0ef\"],[0.5,\"#f7f7f7\"],[0.6,\"#e6f5d0\"],[0.7,\"#b8e186\"],[0.8,\"#7fbc41\"],[0.9,\"#4d9221\"],[1,\"#276419\"]],\"sequential\":[[0.0,\"#0d0887\"],[0.1111111111111111,\"#46039f\"],[0.2222222222222222,\"#7201a8\"],[0.3333333333333333,\"#9c179e\"],[0.4444444444444444,\"#bd3786\"],[0.5555555555555556,\"#d8576b\"],[0.6666666666666666,\"#ed7953\"],[0.7777777777777778,\"#fb9f3a\"],[0.8888888888888888,\"#fdca26\"],[1.0,\"#f0f921\"]],\"sequentialminus\":[[0.0,\"#0d0887\"],[0.1111111111111111,\"#46039f\"],[0.2222222222222222,\"#7201a8\"],[0.3333333333333333,\"#9c179e\"],[0.4444444444444444,\"#bd3786\"],[0.5555555555555556,\"#d8576b\"],[0.6666666666666666,\"#ed7953\"],[0.7777777777777778,\"#fb9f3a\"],[0.8888888888888888,\"#fdca26\"],[1.0,\"#f0f921\"]]},\"colorway\":[\"#636efa\",\"#EF553B\",\"#00cc96\",\"#ab63fa\",\"#FFA15A\",\"#19d3f3\",\"#FF6692\",\"#B6E880\",\"#FF97FF\",\"#FECB52\"],\"font\":{\"color\":\"#2a3f5f\"},\"geo\":{\"bgcolor\":\"white\",\"lakecolor\":\"white\",\"landcolor\":\"#E5ECF6\",\"showlakes\":true,\"showland\":true,\"subunitcolor\":\"white\"},\"hoverlabel\":{\"align\":\"left\"},\"hovermode\":\"closest\",\"mapbox\":{\"style\":\"light\"},\"paper_bgcolor\":\"white\",\"plot_bgcolor\":\"#E5ECF6\",\"polar\":{\"angularaxis\":{\"gridcolor\":\"white\",\"linecolor\":\"white\",\"ticks\":\"\"},\"bgcolor\":\"#E5ECF6\",\"radialaxis\":{\"gridcolor\":\"white\",\"linecolor\":\"white\",\"ticks\":\"\"}},\"scene\":{\"xaxis\":{\"backgroundcolor\":\"#E5ECF6\",\"gridcolor\":\"white\",\"gridwidth\":2,\"linecolor\":\"white\",\"showbackground\":true,\"ticks\":\"\",\"zerolinecolor\":\"white\"},\"yaxis\":{\"backgroundcolor\":\"#E5ECF6\",\"gridcolor\":\"white\",\"gridwidth\":2,\"linecolor\":\"white\",\"showbackground\":true,\"ticks\":\"\",\"zerolinecolor\":\"white\"},\"zaxis\":{\"backgroundcolor\":\"#E5ECF6\",\"gridcolor\":\"white\",\"gridwidth\":2,\"linecolor\":\"white\",\"showbackground\":true,\"ticks\":\"\",\"zerolinecolor\":\"white\"}},\"shapedefaults\":{\"line\":{\"color\":\"#2a3f5f\"}},\"ternary\":{\"aaxis\":{\"gridcolor\":\"white\",\"linecolor\":\"white\",\"ticks\":\"\"},\"baxis\":{\"gridcolor\":\"white\",\"linecolor\":\"white\",\"ticks\":\"\"},\"bgcolor\":\"#E5ECF6\",\"caxis\":{\"gridcolor\":\"white\",\"linecolor\":\"white\",\"ticks\":\"\"}},\"title\":{\"x\":0.05},\"xaxis\":{\"automargin\":true,\"gridcolor\":\"white\",\"linecolor\":\"white\",\"ticks\":\"\",\"title\":{\"standoff\":15},\"zerolinecolor\":\"white\",\"zerolinewidth\":2},\"yaxis\":{\"automargin\":true,\"gridcolor\":\"white\",\"linecolor\":\"white\",\"ticks\":\"\",\"title\":{\"standoff\":15},\"zerolinecolor\":\"white\",\"zerolinewidth\":2}}},\"legend\":{\"tracegroupgap\":0},\"title\":{\"text\":\"\\u041f\\u0440\\u043e\\u0446\\u0435\\u043d\\u0442\\u043d\\u043e\\u0435 \\u0441\\u043e\\u043e\\u0442\\u043d\\u043e\\u0448\\u0435\\u043d\\u0438\\u0435 \\u0432\\u0438\\u0434\\u043e\\u0432 \\u043e\\u0431\\u044a\\u0435\\u043a\\u0442\\u043e\\u0432 \\u043e\\u0431\\u0449\\u0435\\u0441\\u0442\\u0432\\u0435\\u043d\\u043d\\u043e\\u0433\\u043e \\u043f\\u0438\\u0442\\u0430\\u043d\\u0438\\u044f\"},\"piecolorway\":[\"#4C78A8\",\"#F58518\",\"#E45756\",\"#72B7B2\",\"#54A24B\",\"#EECA3B\",\"#B279A2\",\"#FF9DA6\",\"#9D755D\",\"#BAB0AC\"]},                        {\"responsive\": true}                    ).then(function(){\n",
              "                            \n",
              "var gd = document.getElementById('b348fa0d-05ca-4c55-b3a0-ecdcec2d2b32');\n",
              "var x = new MutationObserver(function (mutations, observer) {{\n",
              "        var display = window.getComputedStyle(gd).display;\n",
              "        if (!display || display === 'none') {{\n",
              "            console.log([gd, 'removed!']);\n",
              "            Plotly.purge(gd);\n",
              "            observer.disconnect();\n",
              "        }}\n",
              "}});\n",
              "\n",
              "// Listen for the removal of the full notebook cells\n",
              "var notebookContainer = gd.closest('#notebook-container');\n",
              "if (notebookContainer) {{\n",
              "    x.observe(notebookContainer, {childList: true});\n",
              "}}\n",
              "\n",
              "// Listen for the clearing of the current output cell\n",
              "var outputEl = gd.closest('.output');\n",
              "if (outputEl) {{\n",
              "    x.observe(outputEl, {childList: true});\n",
              "}}\n",
              "\n",
              "                        })                };                            </script>        </div>\n",
              "</body>\n",
              "</html>"
            ]
          },
          "metadata": {}
        }
      ],
      "source": [
        "fig = px.pie(\n",
        "    type,\n",
        "    values='count',\n",
        "    names='object_type',\n",
        "    title='Процентное соотношение видов объектов общественного питания',\n",
        "    color_discrete_sequence=px.colors.qualitative.T10\n",
        "    )\n",
        "\n",
        "fig.show()"
      ]
    },
    {
      "cell_type": "markdown",
      "metadata": {
        "id": "H_wNFUjarkrR"
      },
      "source": [
        "**Вывод**\n",
        "\n",
        "На графиках видно, что почти 40% заведений - это кафе. Далее можно выделить группу с занимаемой долей в 12.5% - 16.8%: предприятия быстрого обслуживания, рестораны и столовые (по мере увеличения занимаемого процента). Третья группа с процентом менее 6: бары, буфеты, кафетерии, закусочные и отделы кулинарии в магазинах."
      ]
    },
    {
      "cell_type": "markdown",
      "metadata": {
        "id": "9OyY8d6dpnUU"
      },
      "source": [
        "Теперь посмотрим на соотношение сетевых и не сетевых заведений. Для этого так же сформируем датасет и построим график."
      ]
    },
    {
      "cell_type": "code",
      "execution_count": 35,
      "metadata": {
        "id": "EYFoObnPrjtP"
      },
      "outputs": [],
      "source": [
        "chain = (\n",
        "    data.groupby('chain')\n",
        "    .agg({'id' : 'count'})\n",
        "    .reset_index()\n",
        "    .rename(columns={'id' : 'count'})\n",
        ")"
      ]
    },
    {
      "cell_type": "code",
      "execution_count": 36,
      "metadata": {
        "colab": {
          "base_uri": "https://localhost:8080/",
          "height": 542
        },
        "id": "WGmc_S9fh2uC",
        "outputId": "2f367fbe-d546-4253-95ef-52aa2afcb84e"
      },
      "outputs": [
        {
          "output_type": "display_data",
          "data": {
            "text/html": [
              "<html>\n",
              "<head><meta charset=\"utf-8\" /></head>\n",
              "<body>\n",
              "    <div>            <script src=\"https://cdnjs.cloudflare.com/ajax/libs/mathjax/2.7.5/MathJax.js?config=TeX-AMS-MML_SVG\"></script><script type=\"text/javascript\">if (window.MathJax) {MathJax.Hub.Config({SVG: {font: \"STIX-Web\"}});}</script>                <script type=\"text/javascript\">window.PlotlyConfig = {MathJaxConfig: 'local'};</script>\n",
              "        <script src=\"https://cdn.plot.ly/plotly-2.8.3.min.js\"></script>                <div id=\"a3d5a08f-2579-4e05-88f7-563d039c2c52\" class=\"plotly-graph-div\" style=\"height:525px; width:100%;\"></div>            <script type=\"text/javascript\">                                    window.PLOTLYENV=window.PLOTLYENV || {};                                    if (document.getElementById(\"a3d5a08f-2579-4e05-88f7-563d039c2c52\")) {                    Plotly.newPlot(                        \"a3d5a08f-2579-4e05-88f7-563d039c2c52\",                        [{\"domain\":{\"x\":[0.0,1.0],\"y\":[0.0,1.0]},\"hovertemplate\":\"chain=%{label}<br>count=%{value}<extra></extra>\",\"labels\":[false,true],\"legendgroup\":\"\",\"name\":\"\",\"showlegend\":true,\"values\":[12398,2968],\"type\":\"pie\",\"marker\":{\"colors\":[\"#B279A2\",\"#FF9DA6\"]}}],                        {\"template\":{\"data\":{\"bar\":[{\"error_x\":{\"color\":\"#2a3f5f\"},\"error_y\":{\"color\":\"#2a3f5f\"},\"marker\":{\"line\":{\"color\":\"#E5ECF6\",\"width\":0.5},\"pattern\":{\"fillmode\":\"overlay\",\"size\":10,\"solidity\":0.2}},\"type\":\"bar\"}],\"barpolar\":[{\"marker\":{\"line\":{\"color\":\"#E5ECF6\",\"width\":0.5},\"pattern\":{\"fillmode\":\"overlay\",\"size\":10,\"solidity\":0.2}},\"type\":\"barpolar\"}],\"carpet\":[{\"aaxis\":{\"endlinecolor\":\"#2a3f5f\",\"gridcolor\":\"white\",\"linecolor\":\"white\",\"minorgridcolor\":\"white\",\"startlinecolor\":\"#2a3f5f\"},\"baxis\":{\"endlinecolor\":\"#2a3f5f\",\"gridcolor\":\"white\",\"linecolor\":\"white\",\"minorgridcolor\":\"white\",\"startlinecolor\":\"#2a3f5f\"},\"type\":\"carpet\"}],\"choropleth\":[{\"colorbar\":{\"outlinewidth\":0,\"ticks\":\"\"},\"type\":\"choropleth\"}],\"contour\":[{\"colorbar\":{\"outlinewidth\":0,\"ticks\":\"\"},\"colorscale\":[[0.0,\"#0d0887\"],[0.1111111111111111,\"#46039f\"],[0.2222222222222222,\"#7201a8\"],[0.3333333333333333,\"#9c179e\"],[0.4444444444444444,\"#bd3786\"],[0.5555555555555556,\"#d8576b\"],[0.6666666666666666,\"#ed7953\"],[0.7777777777777778,\"#fb9f3a\"],[0.8888888888888888,\"#fdca26\"],[1.0,\"#f0f921\"]],\"type\":\"contour\"}],\"contourcarpet\":[{\"colorbar\":{\"outlinewidth\":0,\"ticks\":\"\"},\"type\":\"contourcarpet\"}],\"heatmap\":[{\"colorbar\":{\"outlinewidth\":0,\"ticks\":\"\"},\"colorscale\":[[0.0,\"#0d0887\"],[0.1111111111111111,\"#46039f\"],[0.2222222222222222,\"#7201a8\"],[0.3333333333333333,\"#9c179e\"],[0.4444444444444444,\"#bd3786\"],[0.5555555555555556,\"#d8576b\"],[0.6666666666666666,\"#ed7953\"],[0.7777777777777778,\"#fb9f3a\"],[0.8888888888888888,\"#fdca26\"],[1.0,\"#f0f921\"]],\"type\":\"heatmap\"}],\"heatmapgl\":[{\"colorbar\":{\"outlinewidth\":0,\"ticks\":\"\"},\"colorscale\":[[0.0,\"#0d0887\"],[0.1111111111111111,\"#46039f\"],[0.2222222222222222,\"#7201a8\"],[0.3333333333333333,\"#9c179e\"],[0.4444444444444444,\"#bd3786\"],[0.5555555555555556,\"#d8576b\"],[0.6666666666666666,\"#ed7953\"],[0.7777777777777778,\"#fb9f3a\"],[0.8888888888888888,\"#fdca26\"],[1.0,\"#f0f921\"]],\"type\":\"heatmapgl\"}],\"histogram\":[{\"marker\":{\"pattern\":{\"fillmode\":\"overlay\",\"size\":10,\"solidity\":0.2}},\"type\":\"histogram\"}],\"histogram2d\":[{\"colorbar\":{\"outlinewidth\":0,\"ticks\":\"\"},\"colorscale\":[[0.0,\"#0d0887\"],[0.1111111111111111,\"#46039f\"],[0.2222222222222222,\"#7201a8\"],[0.3333333333333333,\"#9c179e\"],[0.4444444444444444,\"#bd3786\"],[0.5555555555555556,\"#d8576b\"],[0.6666666666666666,\"#ed7953\"],[0.7777777777777778,\"#fb9f3a\"],[0.8888888888888888,\"#fdca26\"],[1.0,\"#f0f921\"]],\"type\":\"histogram2d\"}],\"histogram2dcontour\":[{\"colorbar\":{\"outlinewidth\":0,\"ticks\":\"\"},\"colorscale\":[[0.0,\"#0d0887\"],[0.1111111111111111,\"#46039f\"],[0.2222222222222222,\"#7201a8\"],[0.3333333333333333,\"#9c179e\"],[0.4444444444444444,\"#bd3786\"],[0.5555555555555556,\"#d8576b\"],[0.6666666666666666,\"#ed7953\"],[0.7777777777777778,\"#fb9f3a\"],[0.8888888888888888,\"#fdca26\"],[1.0,\"#f0f921\"]],\"type\":\"histogram2dcontour\"}],\"mesh3d\":[{\"colorbar\":{\"outlinewidth\":0,\"ticks\":\"\"},\"type\":\"mesh3d\"}],\"parcoords\":[{\"line\":{\"colorbar\":{\"outlinewidth\":0,\"ticks\":\"\"}},\"type\":\"parcoords\"}],\"pie\":[{\"automargin\":true,\"type\":\"pie\"}],\"scatter\":[{\"marker\":{\"colorbar\":{\"outlinewidth\":0,\"ticks\":\"\"}},\"type\":\"scatter\"}],\"scatter3d\":[{\"line\":{\"colorbar\":{\"outlinewidth\":0,\"ticks\":\"\"}},\"marker\":{\"colorbar\":{\"outlinewidth\":0,\"ticks\":\"\"}},\"type\":\"scatter3d\"}],\"scattercarpet\":[{\"marker\":{\"colorbar\":{\"outlinewidth\":0,\"ticks\":\"\"}},\"type\":\"scattercarpet\"}],\"scattergeo\":[{\"marker\":{\"colorbar\":{\"outlinewidth\":0,\"ticks\":\"\"}},\"type\":\"scattergeo\"}],\"scattergl\":[{\"marker\":{\"colorbar\":{\"outlinewidth\":0,\"ticks\":\"\"}},\"type\":\"scattergl\"}],\"scattermapbox\":[{\"marker\":{\"colorbar\":{\"outlinewidth\":0,\"ticks\":\"\"}},\"type\":\"scattermapbox\"}],\"scatterpolar\":[{\"marker\":{\"colorbar\":{\"outlinewidth\":0,\"ticks\":\"\"}},\"type\":\"scatterpolar\"}],\"scatterpolargl\":[{\"marker\":{\"colorbar\":{\"outlinewidth\":0,\"ticks\":\"\"}},\"type\":\"scatterpolargl\"}],\"scatterternary\":[{\"marker\":{\"colorbar\":{\"outlinewidth\":0,\"ticks\":\"\"}},\"type\":\"scatterternary\"}],\"surface\":[{\"colorbar\":{\"outlinewidth\":0,\"ticks\":\"\"},\"colorscale\":[[0.0,\"#0d0887\"],[0.1111111111111111,\"#46039f\"],[0.2222222222222222,\"#7201a8\"],[0.3333333333333333,\"#9c179e\"],[0.4444444444444444,\"#bd3786\"],[0.5555555555555556,\"#d8576b\"],[0.6666666666666666,\"#ed7953\"],[0.7777777777777778,\"#fb9f3a\"],[0.8888888888888888,\"#fdca26\"],[1.0,\"#f0f921\"]],\"type\":\"surface\"}],\"table\":[{\"cells\":{\"fill\":{\"color\":\"#EBF0F8\"},\"line\":{\"color\":\"white\"}},\"header\":{\"fill\":{\"color\":\"#C8D4E3\"},\"line\":{\"color\":\"white\"}},\"type\":\"table\"}]},\"layout\":{\"annotationdefaults\":{\"arrowcolor\":\"#2a3f5f\",\"arrowhead\":0,\"arrowwidth\":1},\"autotypenumbers\":\"strict\",\"coloraxis\":{\"colorbar\":{\"outlinewidth\":0,\"ticks\":\"\"}},\"colorscale\":{\"diverging\":[[0,\"#8e0152\"],[0.1,\"#c51b7d\"],[0.2,\"#de77ae\"],[0.3,\"#f1b6da\"],[0.4,\"#fde0ef\"],[0.5,\"#f7f7f7\"],[0.6,\"#e6f5d0\"],[0.7,\"#b8e186\"],[0.8,\"#7fbc41\"],[0.9,\"#4d9221\"],[1,\"#276419\"]],\"sequential\":[[0.0,\"#0d0887\"],[0.1111111111111111,\"#46039f\"],[0.2222222222222222,\"#7201a8\"],[0.3333333333333333,\"#9c179e\"],[0.4444444444444444,\"#bd3786\"],[0.5555555555555556,\"#d8576b\"],[0.6666666666666666,\"#ed7953\"],[0.7777777777777778,\"#fb9f3a\"],[0.8888888888888888,\"#fdca26\"],[1.0,\"#f0f921\"]],\"sequentialminus\":[[0.0,\"#0d0887\"],[0.1111111111111111,\"#46039f\"],[0.2222222222222222,\"#7201a8\"],[0.3333333333333333,\"#9c179e\"],[0.4444444444444444,\"#bd3786\"],[0.5555555555555556,\"#d8576b\"],[0.6666666666666666,\"#ed7953\"],[0.7777777777777778,\"#fb9f3a\"],[0.8888888888888888,\"#fdca26\"],[1.0,\"#f0f921\"]]},\"colorway\":[\"#636efa\",\"#EF553B\",\"#00cc96\",\"#ab63fa\",\"#FFA15A\",\"#19d3f3\",\"#FF6692\",\"#B6E880\",\"#FF97FF\",\"#FECB52\"],\"font\":{\"color\":\"#2a3f5f\"},\"geo\":{\"bgcolor\":\"white\",\"lakecolor\":\"white\",\"landcolor\":\"#E5ECF6\",\"showlakes\":true,\"showland\":true,\"subunitcolor\":\"white\"},\"hoverlabel\":{\"align\":\"left\"},\"hovermode\":\"closest\",\"mapbox\":{\"style\":\"light\"},\"paper_bgcolor\":\"white\",\"plot_bgcolor\":\"#E5ECF6\",\"polar\":{\"angularaxis\":{\"gridcolor\":\"white\",\"linecolor\":\"white\",\"ticks\":\"\"},\"bgcolor\":\"#E5ECF6\",\"radialaxis\":{\"gridcolor\":\"white\",\"linecolor\":\"white\",\"ticks\":\"\"}},\"scene\":{\"xaxis\":{\"backgroundcolor\":\"#E5ECF6\",\"gridcolor\":\"white\",\"gridwidth\":2,\"linecolor\":\"white\",\"showbackground\":true,\"ticks\":\"\",\"zerolinecolor\":\"white\"},\"yaxis\":{\"backgroundcolor\":\"#E5ECF6\",\"gridcolor\":\"white\",\"gridwidth\":2,\"linecolor\":\"white\",\"showbackground\":true,\"ticks\":\"\",\"zerolinecolor\":\"white\"},\"zaxis\":{\"backgroundcolor\":\"#E5ECF6\",\"gridcolor\":\"white\",\"gridwidth\":2,\"linecolor\":\"white\",\"showbackground\":true,\"ticks\":\"\",\"zerolinecolor\":\"white\"}},\"shapedefaults\":{\"line\":{\"color\":\"#2a3f5f\"}},\"ternary\":{\"aaxis\":{\"gridcolor\":\"white\",\"linecolor\":\"white\",\"ticks\":\"\"},\"baxis\":{\"gridcolor\":\"white\",\"linecolor\":\"white\",\"ticks\":\"\"},\"bgcolor\":\"#E5ECF6\",\"caxis\":{\"gridcolor\":\"white\",\"linecolor\":\"white\",\"ticks\":\"\"}},\"title\":{\"x\":0.05},\"xaxis\":{\"automargin\":true,\"gridcolor\":\"white\",\"linecolor\":\"white\",\"ticks\":\"\",\"title\":{\"standoff\":15},\"zerolinecolor\":\"white\",\"zerolinewidth\":2},\"yaxis\":{\"automargin\":true,\"gridcolor\":\"white\",\"linecolor\":\"white\",\"ticks\":\"\",\"title\":{\"standoff\":15},\"zerolinecolor\":\"white\",\"zerolinewidth\":2}}},\"legend\":{\"tracegroupgap\":0},\"title\":{\"text\":\"\\u041f\\u0440\\u043e\\u0446\\u0435\\u043d\\u0442\\u043d\\u043e\\u0435 \\u0441\\u043e\\u043e\\u0442\\u043d\\u043e\\u0448\\u0435\\u043d\\u0438\\u0435 \\u0441\\u0435\\u0442\\u0435\\u0432\\u044b\\u0445 \\u0438 \\u043d\\u0435\\u0441\\u0435\\u0442\\u0435\\u0432\\u044b\\u0445 \\u043e\\u0431\\u044a\\u0435\\u043a\\u0442\\u043e\\u0432 \\u043e\\u0431\\u0449\\u0435\\u0441\\u0442\\u0432\\u0435\\u043d\\u043d\\u043e\\u0433\\u043e \\u043f\\u0438\\u0442\\u0430\\u043d\\u0438\\u044f\"}},                        {\"responsive\": true}                    ).then(function(){\n",
              "                            \n",
              "var gd = document.getElementById('a3d5a08f-2579-4e05-88f7-563d039c2c52');\n",
              "var x = new MutationObserver(function (mutations, observer) {{\n",
              "        var display = window.getComputedStyle(gd).display;\n",
              "        if (!display || display === 'none') {{\n",
              "            console.log([gd, 'removed!']);\n",
              "            Plotly.purge(gd);\n",
              "            observer.disconnect();\n",
              "        }}\n",
              "}});\n",
              "\n",
              "// Listen for the removal of the full notebook cells\n",
              "var notebookContainer = gd.closest('#notebook-container');\n",
              "if (notebookContainer) {{\n",
              "    x.observe(notebookContainer, {childList: true});\n",
              "}}\n",
              "\n",
              "// Listen for the clearing of the current output cell\n",
              "var outputEl = gd.closest('.output');\n",
              "if (outputEl) {{\n",
              "    x.observe(outputEl, {childList: true});\n",
              "}}\n",
              "\n",
              "                        })                };                            </script>        </div>\n",
              "</body>\n",
              "</html>"
            ]
          },
          "metadata": {}
        }
      ],
      "source": [
        "fig = px.pie(\n",
        "    chain,\n",
        "    values='count',\n",
        "    names='chain',\n",
        "    title='Процентное соотношение сетевых и несетевых объектов общественного питания'\n",
        "    )\n",
        "\n",
        "fig.update_traces(marker=dict(colors=['#B279A2', '#FF9DA6']))\n",
        "\n",
        "fig.show()"
      ]
    },
    {
      "cell_type": "markdown",
      "metadata": {
        "id": "dRZQGIy6tFmQ"
      },
      "source": [
        "**Вывод**\n",
        "\n",
        "На круговой диаграмме видно, что 80.7% заведений не относятся к сетевым. Это означает, что как бы нам не казалось, что McDonald's захватил наши улицы, на самом деле это не так. Абсолютное большинство заведений уникальны и не развивается как сеть."
      ]
    },
    {
      "cell_type": "markdown",
      "metadata": {
        "id": "p4ctSLbtscWs"
      },
      "source": [
        "Чтобы определить, для какого вида заведения характерно сетевое распространение, создадим сводную таблицу, в которой посчитаем количество сетевых и несетевых заведений для каждого вида. Построим график."
      ]
    },
    {
      "cell_type": "code",
      "execution_count": 37,
      "metadata": {
        "id": "aAAq1B22qK_s"
      },
      "outputs": [],
      "source": [
        "chain_type = data.pivot_table(\n",
        "    index='object_type',\n",
        "    columns='chain',\n",
        "    values='id',\n",
        "    aggfunc='count').sort_values(by=False, ascending=False)"
      ]
    },
    {
      "cell_type": "code",
      "execution_count": 38,
      "metadata": {
        "colab": {
          "base_uri": "https://localhost:8080/",
          "height": 542
        },
        "id": "bGLfQLvlqibz",
        "outputId": "c2afe261-b651-4bb9-c1a9-96707e3728cc"
      },
      "outputs": [
        {
          "output_type": "display_data",
          "data": {
            "text/html": [
              "<html>\n",
              "<head><meta charset=\"utf-8\" /></head>\n",
              "<body>\n",
              "    <div>            <script src=\"https://cdnjs.cloudflare.com/ajax/libs/mathjax/2.7.5/MathJax.js?config=TeX-AMS-MML_SVG\"></script><script type=\"text/javascript\">if (window.MathJax) {MathJax.Hub.Config({SVG: {font: \"STIX-Web\"}});}</script>                <script type=\"text/javascript\">window.PlotlyConfig = {MathJaxConfig: 'local'};</script>\n",
              "        <script src=\"https://cdn.plot.ly/plotly-2.8.3.min.js\"></script>                <div id=\"4f648b77-d5cc-40f2-8d43-6e23fe6b347b\" class=\"plotly-graph-div\" style=\"height:525px; width:100%;\"></div>            <script type=\"text/javascript\">                                    window.PLOTLYENV=window.PLOTLYENV || {};                                    if (document.getElementById(\"4f648b77-d5cc-40f2-8d43-6e23fe6b347b\")) {                    Plotly.newPlot(                        \"4f648b77-d5cc-40f2-8d43-6e23fe6b347b\",                        [{\"alignmentgroup\":\"True\",\"hovertemplate\":\"\\u041f\\u0440\\u0438\\u0437\\u043d\\u0430\\u043a \\u0441\\u0435\\u0442\\u0438=False<br>\\u0412\\u0438\\u0434 \\u0437\\u0430\\u0432\\u0435\\u0434\\u0435\\u043d\\u0438\\u044f=%{x}<br>\\u041a\\u043e\\u043b\\u0438\\u0447\\u0435\\u0441\\u0442\\u0432\\u043e \\u0437\\u0430\\u0432\\u0435\\u0434\\u0435\\u043d\\u0438\\u0439=%{y}<extra></extra>\",\"legendgroup\":\"False\",\"marker\":{\"color\":\"#4C78A8\",\"pattern\":{\"shape\":\"\"}},\"name\":\"False\",\"offsetgroup\":\"False\",\"orientation\":\"v\",\"showlegend\":true,\"textposition\":\"auto\",\"x\":[\"\\u043a\\u0430\\u0444\\u0435\",\"\\u0441\\u0442\\u043e\\u043b\\u043e\\u0432\\u0430\\u044f\",\"\\u0440\\u0435\\u0441\\u0442\\u043e\\u0440\\u0430\\u043d\",\"\\u043f\\u0440\\u0435\\u0434\\u043f\\u0440\\u0438\\u044f\\u0442\\u0438\\u0435 \\u0431\\u044b\\u0441\\u0442\\u0440\\u043e\\u0433\\u043e \\u043e\\u0431\\u0441\\u043b\\u0443\\u0436\\u0438\\u0432\\u0430\\u043d\\u0438\\u044f\",\"\\u0431\\u0430\\u0440\",\"\\u0431\\u0443\\u0444\\u0435\\u0442\",\"\\u043a\\u0430\\u0444\\u0435\\u0442\\u0435\\u0440\\u0438\\u0439\",\"\\u0437\\u0430\\u043a\\u0443\\u0441\\u043e\\u0447\\u043d\\u0430\\u044f\",\"\\u043c\\u0430\\u0433\\u0430\\u0437\\u0438\\u043d (\\u043e\\u0442\\u0434\\u0435\\u043b \\u043a\\u0443\\u043b\\u0438\\u043d\\u0430\\u0440\\u0438\\u0438)\"],\"xaxis\":\"x\",\"y\":[4703,2584,1741,1132,819,574,346,304,195],\"yaxis\":\"y\",\"type\":\"bar\"},{\"alignmentgroup\":\"True\",\"hovertemplate\":\"\\u041f\\u0440\\u0438\\u0437\\u043d\\u0430\\u043a \\u0441\\u0435\\u0442\\u0438=True<br>\\u0412\\u0438\\u0434 \\u0437\\u0430\\u0432\\u0435\\u0434\\u0435\\u043d\\u0438\\u044f=%{x}<br>\\u041a\\u043e\\u043b\\u0438\\u0447\\u0435\\u0441\\u0442\\u0432\\u043e \\u0437\\u0430\\u0432\\u0435\\u0434\\u0435\\u043d\\u0438\\u0439=%{y}<extra></extra>\",\"legendgroup\":\"True\",\"marker\":{\"color\":\"#F58518\",\"pattern\":{\"shape\":\"\"}},\"name\":\"True\",\"offsetgroup\":\"True\",\"orientation\":\"v\",\"showlegend\":true,\"textposition\":\"auto\",\"x\":[\"\\u043a\\u0430\\u0444\\u0435\",\"\\u0441\\u0442\\u043e\\u043b\\u043e\\u0432\\u0430\\u044f\",\"\\u0440\\u0435\\u0441\\u0442\\u043e\\u0440\\u0430\\u043d\",\"\\u043f\\u0440\\u0435\\u0434\\u043f\\u0440\\u0438\\u044f\\u0442\\u0438\\u0435 \\u0431\\u044b\\u0441\\u0442\\u0440\\u043e\\u0433\\u043e \\u043e\\u0431\\u0441\\u043b\\u0443\\u0436\\u0438\\u0432\\u0430\\u043d\\u0438\\u044f\",\"\\u0431\\u0430\\u0440\",\"\\u0431\\u0443\\u0444\\u0435\\u0442\",\"\\u043a\\u0430\\u0444\\u0435\\u0442\\u0435\\u0440\\u0438\\u0439\",\"\\u0437\\u0430\\u043a\\u0443\\u0441\\u043e\\u0447\\u043d\\u0430\\u044f\",\"\\u043c\\u0430\\u0433\\u0430\\u0437\\u0438\\u043d (\\u043e\\u0442\\u0434\\u0435\\u043b \\u043a\\u0443\\u043b\\u0438\\u043d\\u0430\\u0440\\u0438\\u0438)\"],\"xaxis\":\"x\",\"y\":[1396,3,544,791,37,11,52,56,78],\"yaxis\":\"y\",\"type\":\"bar\"}],                        {\"template\":{\"data\":{\"bar\":[{\"error_x\":{\"color\":\"#2a3f5f\"},\"error_y\":{\"color\":\"#2a3f5f\"},\"marker\":{\"line\":{\"color\":\"#E5ECF6\",\"width\":0.5},\"pattern\":{\"fillmode\":\"overlay\",\"size\":10,\"solidity\":0.2}},\"type\":\"bar\"}],\"barpolar\":[{\"marker\":{\"line\":{\"color\":\"#E5ECF6\",\"width\":0.5},\"pattern\":{\"fillmode\":\"overlay\",\"size\":10,\"solidity\":0.2}},\"type\":\"barpolar\"}],\"carpet\":[{\"aaxis\":{\"endlinecolor\":\"#2a3f5f\",\"gridcolor\":\"white\",\"linecolor\":\"white\",\"minorgridcolor\":\"white\",\"startlinecolor\":\"#2a3f5f\"},\"baxis\":{\"endlinecolor\":\"#2a3f5f\",\"gridcolor\":\"white\",\"linecolor\":\"white\",\"minorgridcolor\":\"white\",\"startlinecolor\":\"#2a3f5f\"},\"type\":\"carpet\"}],\"choropleth\":[{\"colorbar\":{\"outlinewidth\":0,\"ticks\":\"\"},\"type\":\"choropleth\"}],\"contour\":[{\"colorbar\":{\"outlinewidth\":0,\"ticks\":\"\"},\"colorscale\":[[0.0,\"#0d0887\"],[0.1111111111111111,\"#46039f\"],[0.2222222222222222,\"#7201a8\"],[0.3333333333333333,\"#9c179e\"],[0.4444444444444444,\"#bd3786\"],[0.5555555555555556,\"#d8576b\"],[0.6666666666666666,\"#ed7953\"],[0.7777777777777778,\"#fb9f3a\"],[0.8888888888888888,\"#fdca26\"],[1.0,\"#f0f921\"]],\"type\":\"contour\"}],\"contourcarpet\":[{\"colorbar\":{\"outlinewidth\":0,\"ticks\":\"\"},\"type\":\"contourcarpet\"}],\"heatmap\":[{\"colorbar\":{\"outlinewidth\":0,\"ticks\":\"\"},\"colorscale\":[[0.0,\"#0d0887\"],[0.1111111111111111,\"#46039f\"],[0.2222222222222222,\"#7201a8\"],[0.3333333333333333,\"#9c179e\"],[0.4444444444444444,\"#bd3786\"],[0.5555555555555556,\"#d8576b\"],[0.6666666666666666,\"#ed7953\"],[0.7777777777777778,\"#fb9f3a\"],[0.8888888888888888,\"#fdca26\"],[1.0,\"#f0f921\"]],\"type\":\"heatmap\"}],\"heatmapgl\":[{\"colorbar\":{\"outlinewidth\":0,\"ticks\":\"\"},\"colorscale\":[[0.0,\"#0d0887\"],[0.1111111111111111,\"#46039f\"],[0.2222222222222222,\"#7201a8\"],[0.3333333333333333,\"#9c179e\"],[0.4444444444444444,\"#bd3786\"],[0.5555555555555556,\"#d8576b\"],[0.6666666666666666,\"#ed7953\"],[0.7777777777777778,\"#fb9f3a\"],[0.8888888888888888,\"#fdca26\"],[1.0,\"#f0f921\"]],\"type\":\"heatmapgl\"}],\"histogram\":[{\"marker\":{\"pattern\":{\"fillmode\":\"overlay\",\"size\":10,\"solidity\":0.2}},\"type\":\"histogram\"}],\"histogram2d\":[{\"colorbar\":{\"outlinewidth\":0,\"ticks\":\"\"},\"colorscale\":[[0.0,\"#0d0887\"],[0.1111111111111111,\"#46039f\"],[0.2222222222222222,\"#7201a8\"],[0.3333333333333333,\"#9c179e\"],[0.4444444444444444,\"#bd3786\"],[0.5555555555555556,\"#d8576b\"],[0.6666666666666666,\"#ed7953\"],[0.7777777777777778,\"#fb9f3a\"],[0.8888888888888888,\"#fdca26\"],[1.0,\"#f0f921\"]],\"type\":\"histogram2d\"}],\"histogram2dcontour\":[{\"colorbar\":{\"outlinewidth\":0,\"ticks\":\"\"},\"colorscale\":[[0.0,\"#0d0887\"],[0.1111111111111111,\"#46039f\"],[0.2222222222222222,\"#7201a8\"],[0.3333333333333333,\"#9c179e\"],[0.4444444444444444,\"#bd3786\"],[0.5555555555555556,\"#d8576b\"],[0.6666666666666666,\"#ed7953\"],[0.7777777777777778,\"#fb9f3a\"],[0.8888888888888888,\"#fdca26\"],[1.0,\"#f0f921\"]],\"type\":\"histogram2dcontour\"}],\"mesh3d\":[{\"colorbar\":{\"outlinewidth\":0,\"ticks\":\"\"},\"type\":\"mesh3d\"}],\"parcoords\":[{\"line\":{\"colorbar\":{\"outlinewidth\":0,\"ticks\":\"\"}},\"type\":\"parcoords\"}],\"pie\":[{\"automargin\":true,\"type\":\"pie\"}],\"scatter\":[{\"marker\":{\"colorbar\":{\"outlinewidth\":0,\"ticks\":\"\"}},\"type\":\"scatter\"}],\"scatter3d\":[{\"line\":{\"colorbar\":{\"outlinewidth\":0,\"ticks\":\"\"}},\"marker\":{\"colorbar\":{\"outlinewidth\":0,\"ticks\":\"\"}},\"type\":\"scatter3d\"}],\"scattercarpet\":[{\"marker\":{\"colorbar\":{\"outlinewidth\":0,\"ticks\":\"\"}},\"type\":\"scattercarpet\"}],\"scattergeo\":[{\"marker\":{\"colorbar\":{\"outlinewidth\":0,\"ticks\":\"\"}},\"type\":\"scattergeo\"}],\"scattergl\":[{\"marker\":{\"colorbar\":{\"outlinewidth\":0,\"ticks\":\"\"}},\"type\":\"scattergl\"}],\"scattermapbox\":[{\"marker\":{\"colorbar\":{\"outlinewidth\":0,\"ticks\":\"\"}},\"type\":\"scattermapbox\"}],\"scatterpolar\":[{\"marker\":{\"colorbar\":{\"outlinewidth\":0,\"ticks\":\"\"}},\"type\":\"scatterpolar\"}],\"scatterpolargl\":[{\"marker\":{\"colorbar\":{\"outlinewidth\":0,\"ticks\":\"\"}},\"type\":\"scatterpolargl\"}],\"scatterternary\":[{\"marker\":{\"colorbar\":{\"outlinewidth\":0,\"ticks\":\"\"}},\"type\":\"scatterternary\"}],\"surface\":[{\"colorbar\":{\"outlinewidth\":0,\"ticks\":\"\"},\"colorscale\":[[0.0,\"#0d0887\"],[0.1111111111111111,\"#46039f\"],[0.2222222222222222,\"#7201a8\"],[0.3333333333333333,\"#9c179e\"],[0.4444444444444444,\"#bd3786\"],[0.5555555555555556,\"#d8576b\"],[0.6666666666666666,\"#ed7953\"],[0.7777777777777778,\"#fb9f3a\"],[0.8888888888888888,\"#fdca26\"],[1.0,\"#f0f921\"]],\"type\":\"surface\"}],\"table\":[{\"cells\":{\"fill\":{\"color\":\"#EBF0F8\"},\"line\":{\"color\":\"white\"}},\"header\":{\"fill\":{\"color\":\"#C8D4E3\"},\"line\":{\"color\":\"white\"}},\"type\":\"table\"}]},\"layout\":{\"annotationdefaults\":{\"arrowcolor\":\"#2a3f5f\",\"arrowhead\":0,\"arrowwidth\":1},\"autotypenumbers\":\"strict\",\"coloraxis\":{\"colorbar\":{\"outlinewidth\":0,\"ticks\":\"\"}},\"colorscale\":{\"diverging\":[[0,\"#8e0152\"],[0.1,\"#c51b7d\"],[0.2,\"#de77ae\"],[0.3,\"#f1b6da\"],[0.4,\"#fde0ef\"],[0.5,\"#f7f7f7\"],[0.6,\"#e6f5d0\"],[0.7,\"#b8e186\"],[0.8,\"#7fbc41\"],[0.9,\"#4d9221\"],[1,\"#276419\"]],\"sequential\":[[0.0,\"#0d0887\"],[0.1111111111111111,\"#46039f\"],[0.2222222222222222,\"#7201a8\"],[0.3333333333333333,\"#9c179e\"],[0.4444444444444444,\"#bd3786\"],[0.5555555555555556,\"#d8576b\"],[0.6666666666666666,\"#ed7953\"],[0.7777777777777778,\"#fb9f3a\"],[0.8888888888888888,\"#fdca26\"],[1.0,\"#f0f921\"]],\"sequentialminus\":[[0.0,\"#0d0887\"],[0.1111111111111111,\"#46039f\"],[0.2222222222222222,\"#7201a8\"],[0.3333333333333333,\"#9c179e\"],[0.4444444444444444,\"#bd3786\"],[0.5555555555555556,\"#d8576b\"],[0.6666666666666666,\"#ed7953\"],[0.7777777777777778,\"#fb9f3a\"],[0.8888888888888888,\"#fdca26\"],[1.0,\"#f0f921\"]]},\"colorway\":[\"#636efa\",\"#EF553B\",\"#00cc96\",\"#ab63fa\",\"#FFA15A\",\"#19d3f3\",\"#FF6692\",\"#B6E880\",\"#FF97FF\",\"#FECB52\"],\"font\":{\"color\":\"#2a3f5f\"},\"geo\":{\"bgcolor\":\"white\",\"lakecolor\":\"white\",\"landcolor\":\"#E5ECF6\",\"showlakes\":true,\"showland\":true,\"subunitcolor\":\"white\"},\"hoverlabel\":{\"align\":\"left\"},\"hovermode\":\"closest\",\"mapbox\":{\"style\":\"light\"},\"paper_bgcolor\":\"white\",\"plot_bgcolor\":\"#E5ECF6\",\"polar\":{\"angularaxis\":{\"gridcolor\":\"white\",\"linecolor\":\"white\",\"ticks\":\"\"},\"bgcolor\":\"#E5ECF6\",\"radialaxis\":{\"gridcolor\":\"white\",\"linecolor\":\"white\",\"ticks\":\"\"}},\"scene\":{\"xaxis\":{\"backgroundcolor\":\"#E5ECF6\",\"gridcolor\":\"white\",\"gridwidth\":2,\"linecolor\":\"white\",\"showbackground\":true,\"ticks\":\"\",\"zerolinecolor\":\"white\"},\"yaxis\":{\"backgroundcolor\":\"#E5ECF6\",\"gridcolor\":\"white\",\"gridwidth\":2,\"linecolor\":\"white\",\"showbackground\":true,\"ticks\":\"\",\"zerolinecolor\":\"white\"},\"zaxis\":{\"backgroundcolor\":\"#E5ECF6\",\"gridcolor\":\"white\",\"gridwidth\":2,\"linecolor\":\"white\",\"showbackground\":true,\"ticks\":\"\",\"zerolinecolor\":\"white\"}},\"shapedefaults\":{\"line\":{\"color\":\"#2a3f5f\"}},\"ternary\":{\"aaxis\":{\"gridcolor\":\"white\",\"linecolor\":\"white\",\"ticks\":\"\"},\"baxis\":{\"gridcolor\":\"white\",\"linecolor\":\"white\",\"ticks\":\"\"},\"bgcolor\":\"#E5ECF6\",\"caxis\":{\"gridcolor\":\"white\",\"linecolor\":\"white\",\"ticks\":\"\"}},\"title\":{\"x\":0.05},\"xaxis\":{\"automargin\":true,\"gridcolor\":\"white\",\"linecolor\":\"white\",\"ticks\":\"\",\"title\":{\"standoff\":15},\"zerolinecolor\":\"white\",\"zerolinewidth\":2},\"yaxis\":{\"automargin\":true,\"gridcolor\":\"white\",\"linecolor\":\"white\",\"ticks\":\"\",\"title\":{\"standoff\":15},\"zerolinecolor\":\"white\",\"zerolinewidth\":2}}},\"xaxis\":{\"anchor\":\"y\",\"domain\":[0.0,1.0],\"title\":{\"text\":\"\\u0412\\u0438\\u0434 \\u0437\\u0430\\u0432\\u0435\\u0434\\u0435\\u043d\\u0438\\u044f\"},\"tickangle\":-45},\"yaxis\":{\"anchor\":\"x\",\"domain\":[0.0,1.0],\"title\":{\"text\":\"\\u041a\\u043e\\u043b\\u0438\\u0447\\u0435\\u0441\\u0442\\u0432\\u043e \\u0437\\u0430\\u0432\\u0435\\u0434\\u0435\\u043d\\u0438\\u0439\"}},\"legend\":{\"title\":{\"text\":\"\\u041f\\u0440\\u0438\\u0437\\u043d\\u0430\\u043a \\u0441\\u0435\\u0442\\u0438\"},\"tracegroupgap\":0},\"title\":{\"text\":\"\\u0420\\u0430\\u0441\\u043f\\u0440\\u0435\\u0434\\u0435\\u043b\\u0435\\u043d\\u0438\\u0435 \\u0441\\u0435\\u0442\\u0435\\u0432\\u044b\\u0445 \\u0437\\u0430\\u0432\\u0435\\u0434\\u0435\\u043d\\u0438\\u0439 \\u043e\\u0431\\u0449\\u0435\\u0441\\u0442\\u0432\\u0435\\u043d\\u043d\\u043e\\u0433\\u043e \\u043f\\u0438\\u0442\\u0430\\u043d\\u0438\\u044f \\u043f\\u043e \\u0432\\u0438\\u0434\\u0430\\u043c\"},\"barmode\":\"relative\"},                        {\"responsive\": true}                    ).then(function(){\n",
              "                            \n",
              "var gd = document.getElementById('4f648b77-d5cc-40f2-8d43-6e23fe6b347b');\n",
              "var x = new MutationObserver(function (mutations, observer) {{\n",
              "        var display = window.getComputedStyle(gd).display;\n",
              "        if (!display || display === 'none') {{\n",
              "            console.log([gd, 'removed!']);\n",
              "            Plotly.purge(gd);\n",
              "            observer.disconnect();\n",
              "        }}\n",
              "}});\n",
              "\n",
              "// Listen for the removal of the full notebook cells\n",
              "var notebookContainer = gd.closest('#notebook-container');\n",
              "if (notebookContainer) {{\n",
              "    x.observe(notebookContainer, {childList: true});\n",
              "}}\n",
              "\n",
              "// Listen for the clearing of the current output cell\n",
              "var outputEl = gd.closest('.output');\n",
              "if (outputEl) {{\n",
              "    x.observe(outputEl, {childList: true});\n",
              "}}\n",
              "\n",
              "                        })                };                            </script>        </div>\n",
              "</body>\n",
              "</html>"
            ]
          },
          "metadata": {}
        }
      ],
      "source": [
        "fig = px.bar(\n",
        "    chain_type,\n",
        "    x=chain_type.index,\n",
        "    y=[False, True],\n",
        "    title='Распределение сетевых заведений общественного питания по видам',\n",
        "    labels=dict(\n",
        "        value='Количество заведений',\n",
        "        object_type='Вид заведения',\n",
        "        variable='Признак сети'\n",
        "    ),\n",
        "    color_discrete_sequence=px.colors.qualitative.T10\n",
        ")\n",
        "\n",
        "fig.update_xaxes(tickangle=-45)\n",
        "fig.show() "
      ]
    },
    {
      "cell_type": "markdown",
      "metadata": {
        "id": "qTA0spA4GUeW"
      },
      "source": [
        "Среди всех видов заведений только у столовых отсутствует какое-либо сетевое развитие. Особо выделяются кафе, рестораны и фастфуд. Посмотрим более детально на доли сетевых ресторанов для всех видов объектов общественного питания, построив круговые диаграммы."
      ]
    },
    {
      "cell_type": "code",
      "execution_count": 39,
      "metadata": {
        "id": "54tT1q9nvxi9"
      },
      "outputs": [],
      "source": [
        "chain_type_2 = data.pivot_table(\n",
        "    index='chain',\n",
        "    columns='object_type',\n",
        "    values='id',\n",
        "    aggfunc='count')"
      ]
    },
    {
      "cell_type": "code",
      "execution_count": 40,
      "metadata": {
        "colab": {
          "base_uri": "https://localhost:8080/",
          "height": 542
        },
        "id": "bKP_onkL9Kz5",
        "outputId": "42029201-dc89-4053-a595-2aa0f48c9f9a"
      },
      "outputs": [
        {
          "output_type": "display_data",
          "data": {
            "text/html": [
              "<html>\n",
              "<head><meta charset=\"utf-8\" /></head>\n",
              "<body>\n",
              "    <div>            <script src=\"https://cdnjs.cloudflare.com/ajax/libs/mathjax/2.7.5/MathJax.js?config=TeX-AMS-MML_SVG\"></script><script type=\"text/javascript\">if (window.MathJax) {MathJax.Hub.Config({SVG: {font: \"STIX-Web\"}});}</script>                <script type=\"text/javascript\">window.PlotlyConfig = {MathJaxConfig: 'local'};</script>\n",
              "        <script src=\"https://cdn.plot.ly/plotly-2.8.3.min.js\"></script>                <div id=\"4749ef6f-ec03-429f-8505-f16c85b2dce0\" class=\"plotly-graph-div\" style=\"height:525px; width:100%;\"></div>            <script type=\"text/javascript\">                                    window.PLOTLYENV=window.PLOTLYENV || {};                                    if (document.getElementById(\"4749ef6f-ec03-429f-8505-f16c85b2dce0\")) {                    Plotly.newPlot(                        \"4749ef6f-ec03-429f-8505-f16c85b2dce0\",                        [{\"labels\":[false,true],\"values\":[4703,1396],\"type\":\"pie\",\"domain\":{\"x\":[0.0,0.2888888888888889],\"y\":[0.0,1.0]},\"marker\":{\"colors\":[\"#54A24B\",\"#EECA3B\"]}},{\"labels\":[false,true],\"values\":[2584,3],\"type\":\"pie\",\"domain\":{\"x\":[0.35555555555555557,0.6444444444444445],\"y\":[0.0,1.0]},\"marker\":{\"colors\":[\"#54A24B\",\"#EECA3B\"]}},{\"labels\":[false,true],\"values\":[1741,544],\"type\":\"pie\",\"domain\":{\"x\":[0.7111111111111111,1.0],\"y\":[0.0,1.0]},\"marker\":{\"colors\":[\"#54A24B\",\"#EECA3B\"]}}],                        {\"template\":{\"data\":{\"bar\":[{\"error_x\":{\"color\":\"#2a3f5f\"},\"error_y\":{\"color\":\"#2a3f5f\"},\"marker\":{\"line\":{\"color\":\"#E5ECF6\",\"width\":0.5},\"pattern\":{\"fillmode\":\"overlay\",\"size\":10,\"solidity\":0.2}},\"type\":\"bar\"}],\"barpolar\":[{\"marker\":{\"line\":{\"color\":\"#E5ECF6\",\"width\":0.5},\"pattern\":{\"fillmode\":\"overlay\",\"size\":10,\"solidity\":0.2}},\"type\":\"barpolar\"}],\"carpet\":[{\"aaxis\":{\"endlinecolor\":\"#2a3f5f\",\"gridcolor\":\"white\",\"linecolor\":\"white\",\"minorgridcolor\":\"white\",\"startlinecolor\":\"#2a3f5f\"},\"baxis\":{\"endlinecolor\":\"#2a3f5f\",\"gridcolor\":\"white\",\"linecolor\":\"white\",\"minorgridcolor\":\"white\",\"startlinecolor\":\"#2a3f5f\"},\"type\":\"carpet\"}],\"choropleth\":[{\"colorbar\":{\"outlinewidth\":0,\"ticks\":\"\"},\"type\":\"choropleth\"}],\"contour\":[{\"colorbar\":{\"outlinewidth\":0,\"ticks\":\"\"},\"colorscale\":[[0.0,\"#0d0887\"],[0.1111111111111111,\"#46039f\"],[0.2222222222222222,\"#7201a8\"],[0.3333333333333333,\"#9c179e\"],[0.4444444444444444,\"#bd3786\"],[0.5555555555555556,\"#d8576b\"],[0.6666666666666666,\"#ed7953\"],[0.7777777777777778,\"#fb9f3a\"],[0.8888888888888888,\"#fdca26\"],[1.0,\"#f0f921\"]],\"type\":\"contour\"}],\"contourcarpet\":[{\"colorbar\":{\"outlinewidth\":0,\"ticks\":\"\"},\"type\":\"contourcarpet\"}],\"heatmap\":[{\"colorbar\":{\"outlinewidth\":0,\"ticks\":\"\"},\"colorscale\":[[0.0,\"#0d0887\"],[0.1111111111111111,\"#46039f\"],[0.2222222222222222,\"#7201a8\"],[0.3333333333333333,\"#9c179e\"],[0.4444444444444444,\"#bd3786\"],[0.5555555555555556,\"#d8576b\"],[0.6666666666666666,\"#ed7953\"],[0.7777777777777778,\"#fb9f3a\"],[0.8888888888888888,\"#fdca26\"],[1.0,\"#f0f921\"]],\"type\":\"heatmap\"}],\"heatmapgl\":[{\"colorbar\":{\"outlinewidth\":0,\"ticks\":\"\"},\"colorscale\":[[0.0,\"#0d0887\"],[0.1111111111111111,\"#46039f\"],[0.2222222222222222,\"#7201a8\"],[0.3333333333333333,\"#9c179e\"],[0.4444444444444444,\"#bd3786\"],[0.5555555555555556,\"#d8576b\"],[0.6666666666666666,\"#ed7953\"],[0.7777777777777778,\"#fb9f3a\"],[0.8888888888888888,\"#fdca26\"],[1.0,\"#f0f921\"]],\"type\":\"heatmapgl\"}],\"histogram\":[{\"marker\":{\"pattern\":{\"fillmode\":\"overlay\",\"size\":10,\"solidity\":0.2}},\"type\":\"histogram\"}],\"histogram2d\":[{\"colorbar\":{\"outlinewidth\":0,\"ticks\":\"\"},\"colorscale\":[[0.0,\"#0d0887\"],[0.1111111111111111,\"#46039f\"],[0.2222222222222222,\"#7201a8\"],[0.3333333333333333,\"#9c179e\"],[0.4444444444444444,\"#bd3786\"],[0.5555555555555556,\"#d8576b\"],[0.6666666666666666,\"#ed7953\"],[0.7777777777777778,\"#fb9f3a\"],[0.8888888888888888,\"#fdca26\"],[1.0,\"#f0f921\"]],\"type\":\"histogram2d\"}],\"histogram2dcontour\":[{\"colorbar\":{\"outlinewidth\":0,\"ticks\":\"\"},\"colorscale\":[[0.0,\"#0d0887\"],[0.1111111111111111,\"#46039f\"],[0.2222222222222222,\"#7201a8\"],[0.3333333333333333,\"#9c179e\"],[0.4444444444444444,\"#bd3786\"],[0.5555555555555556,\"#d8576b\"],[0.6666666666666666,\"#ed7953\"],[0.7777777777777778,\"#fb9f3a\"],[0.8888888888888888,\"#fdca26\"],[1.0,\"#f0f921\"]],\"type\":\"histogram2dcontour\"}],\"mesh3d\":[{\"colorbar\":{\"outlinewidth\":0,\"ticks\":\"\"},\"type\":\"mesh3d\"}],\"parcoords\":[{\"line\":{\"colorbar\":{\"outlinewidth\":0,\"ticks\":\"\"}},\"type\":\"parcoords\"}],\"pie\":[{\"automargin\":true,\"type\":\"pie\"}],\"scatter\":[{\"marker\":{\"colorbar\":{\"outlinewidth\":0,\"ticks\":\"\"}},\"type\":\"scatter\"}],\"scatter3d\":[{\"line\":{\"colorbar\":{\"outlinewidth\":0,\"ticks\":\"\"}},\"marker\":{\"colorbar\":{\"outlinewidth\":0,\"ticks\":\"\"}},\"type\":\"scatter3d\"}],\"scattercarpet\":[{\"marker\":{\"colorbar\":{\"outlinewidth\":0,\"ticks\":\"\"}},\"type\":\"scattercarpet\"}],\"scattergeo\":[{\"marker\":{\"colorbar\":{\"outlinewidth\":0,\"ticks\":\"\"}},\"type\":\"scattergeo\"}],\"scattergl\":[{\"marker\":{\"colorbar\":{\"outlinewidth\":0,\"ticks\":\"\"}},\"type\":\"scattergl\"}],\"scattermapbox\":[{\"marker\":{\"colorbar\":{\"outlinewidth\":0,\"ticks\":\"\"}},\"type\":\"scattermapbox\"}],\"scatterpolar\":[{\"marker\":{\"colorbar\":{\"outlinewidth\":0,\"ticks\":\"\"}},\"type\":\"scatterpolar\"}],\"scatterpolargl\":[{\"marker\":{\"colorbar\":{\"outlinewidth\":0,\"ticks\":\"\"}},\"type\":\"scatterpolargl\"}],\"scatterternary\":[{\"marker\":{\"colorbar\":{\"outlinewidth\":0,\"ticks\":\"\"}},\"type\":\"scatterternary\"}],\"surface\":[{\"colorbar\":{\"outlinewidth\":0,\"ticks\":\"\"},\"colorscale\":[[0.0,\"#0d0887\"],[0.1111111111111111,\"#46039f\"],[0.2222222222222222,\"#7201a8\"],[0.3333333333333333,\"#9c179e\"],[0.4444444444444444,\"#bd3786\"],[0.5555555555555556,\"#d8576b\"],[0.6666666666666666,\"#ed7953\"],[0.7777777777777778,\"#fb9f3a\"],[0.8888888888888888,\"#fdca26\"],[1.0,\"#f0f921\"]],\"type\":\"surface\"}],\"table\":[{\"cells\":{\"fill\":{\"color\":\"#EBF0F8\"},\"line\":{\"color\":\"white\"}},\"header\":{\"fill\":{\"color\":\"#C8D4E3\"},\"line\":{\"color\":\"white\"}},\"type\":\"table\"}]},\"layout\":{\"annotationdefaults\":{\"arrowcolor\":\"#2a3f5f\",\"arrowhead\":0,\"arrowwidth\":1},\"autotypenumbers\":\"strict\",\"coloraxis\":{\"colorbar\":{\"outlinewidth\":0,\"ticks\":\"\"}},\"colorscale\":{\"diverging\":[[0,\"#8e0152\"],[0.1,\"#c51b7d\"],[0.2,\"#de77ae\"],[0.3,\"#f1b6da\"],[0.4,\"#fde0ef\"],[0.5,\"#f7f7f7\"],[0.6,\"#e6f5d0\"],[0.7,\"#b8e186\"],[0.8,\"#7fbc41\"],[0.9,\"#4d9221\"],[1,\"#276419\"]],\"sequential\":[[0.0,\"#0d0887\"],[0.1111111111111111,\"#46039f\"],[0.2222222222222222,\"#7201a8\"],[0.3333333333333333,\"#9c179e\"],[0.4444444444444444,\"#bd3786\"],[0.5555555555555556,\"#d8576b\"],[0.6666666666666666,\"#ed7953\"],[0.7777777777777778,\"#fb9f3a\"],[0.8888888888888888,\"#fdca26\"],[1.0,\"#f0f921\"]],\"sequentialminus\":[[0.0,\"#0d0887\"],[0.1111111111111111,\"#46039f\"],[0.2222222222222222,\"#7201a8\"],[0.3333333333333333,\"#9c179e\"],[0.4444444444444444,\"#bd3786\"],[0.5555555555555556,\"#d8576b\"],[0.6666666666666666,\"#ed7953\"],[0.7777777777777778,\"#fb9f3a\"],[0.8888888888888888,\"#fdca26\"],[1.0,\"#f0f921\"]]},\"colorway\":[\"#636efa\",\"#EF553B\",\"#00cc96\",\"#ab63fa\",\"#FFA15A\",\"#19d3f3\",\"#FF6692\",\"#B6E880\",\"#FF97FF\",\"#FECB52\"],\"font\":{\"color\":\"#2a3f5f\"},\"geo\":{\"bgcolor\":\"white\",\"lakecolor\":\"white\",\"landcolor\":\"#E5ECF6\",\"showlakes\":true,\"showland\":true,\"subunitcolor\":\"white\"},\"hoverlabel\":{\"align\":\"left\"},\"hovermode\":\"closest\",\"mapbox\":{\"style\":\"light\"},\"paper_bgcolor\":\"white\",\"plot_bgcolor\":\"#E5ECF6\",\"polar\":{\"angularaxis\":{\"gridcolor\":\"white\",\"linecolor\":\"white\",\"ticks\":\"\"},\"bgcolor\":\"#E5ECF6\",\"radialaxis\":{\"gridcolor\":\"white\",\"linecolor\":\"white\",\"ticks\":\"\"}},\"scene\":{\"xaxis\":{\"backgroundcolor\":\"#E5ECF6\",\"gridcolor\":\"white\",\"gridwidth\":2,\"linecolor\":\"white\",\"showbackground\":true,\"ticks\":\"\",\"zerolinecolor\":\"white\"},\"yaxis\":{\"backgroundcolor\":\"#E5ECF6\",\"gridcolor\":\"white\",\"gridwidth\":2,\"linecolor\":\"white\",\"showbackground\":true,\"ticks\":\"\",\"zerolinecolor\":\"white\"},\"zaxis\":{\"backgroundcolor\":\"#E5ECF6\",\"gridcolor\":\"white\",\"gridwidth\":2,\"linecolor\":\"white\",\"showbackground\":true,\"ticks\":\"\",\"zerolinecolor\":\"white\"}},\"shapedefaults\":{\"line\":{\"color\":\"#2a3f5f\"}},\"ternary\":{\"aaxis\":{\"gridcolor\":\"white\",\"linecolor\":\"white\",\"ticks\":\"\"},\"baxis\":{\"gridcolor\":\"white\",\"linecolor\":\"white\",\"ticks\":\"\"},\"bgcolor\":\"#E5ECF6\",\"caxis\":{\"gridcolor\":\"white\",\"linecolor\":\"white\",\"ticks\":\"\"}},\"title\":{\"x\":0.05},\"xaxis\":{\"automargin\":true,\"gridcolor\":\"white\",\"linecolor\":\"white\",\"ticks\":\"\",\"title\":{\"standoff\":15},\"zerolinecolor\":\"white\",\"zerolinewidth\":2},\"yaxis\":{\"automargin\":true,\"gridcolor\":\"white\",\"linecolor\":\"white\",\"ticks\":\"\",\"title\":{\"standoff\":15},\"zerolinecolor\":\"white\",\"zerolinewidth\":2}}},\"annotations\":[{\"font\":{\"size\":16},\"showarrow\":false,\"text\":\"\\u041a\\u0430\\u0444\\u0435\",\"x\":0.14444444444444446,\"xanchor\":\"center\",\"xref\":\"paper\",\"y\":1.0,\"yanchor\":\"bottom\",\"yref\":\"paper\"},{\"font\":{\"size\":16},\"showarrow\":false,\"text\":\"\\u0421\\u0442\\u043e\\u043b\\u043e\\u0432\\u0430\\u044f\",\"x\":0.5,\"xanchor\":\"center\",\"xref\":\"paper\",\"y\":1.0,\"yanchor\":\"bottom\",\"yref\":\"paper\"},{\"font\":{\"size\":16},\"showarrow\":false,\"text\":\"\\u0420\\u0435\\u0441\\u0442\\u043e\\u0440\\u0430\\u043d\",\"x\":0.8555555555555556,\"xanchor\":\"center\",\"xref\":\"paper\",\"y\":1.0,\"yanchor\":\"bottom\",\"yref\":\"paper\"}],\"title\":{\"text\":\"\\u0420\\u0430\\u0441\\u043f\\u0440\\u0435\\u0434\\u0435\\u043b\\u0435\\u043d\\u0438\\u0435 \\u0441\\u0435\\u0442\\u0435\\u0432\\u044b\\u0445 \\u0437\\u0430\\u0432\\u0435\\u0434\\u0435\\u043d\\u0438\\u0439 \\u043e\\u0431\\u0449\\u0435\\u0441\\u0442\\u0432\\u0435\\u043d\\u043d\\u043e\\u0433\\u043e \\u043f\\u0438\\u0442\\u0430\\u043d\\u0438\\u044f \\u043f\\u043e \\u0432\\u0438\\u0434\\u0430\\u043c\"}},                        {\"responsive\": true}                    ).then(function(){\n",
              "                            \n",
              "var gd = document.getElementById('4749ef6f-ec03-429f-8505-f16c85b2dce0');\n",
              "var x = new MutationObserver(function (mutations, observer) {{\n",
              "        var display = window.getComputedStyle(gd).display;\n",
              "        if (!display || display === 'none') {{\n",
              "            console.log([gd, 'removed!']);\n",
              "            Plotly.purge(gd);\n",
              "            observer.disconnect();\n",
              "        }}\n",
              "}});\n",
              "\n",
              "// Listen for the removal of the full notebook cells\n",
              "var notebookContainer = gd.closest('#notebook-container');\n",
              "if (notebookContainer) {{\n",
              "    x.observe(notebookContainer, {childList: true});\n",
              "}}\n",
              "\n",
              "// Listen for the clearing of the current output cell\n",
              "var outputEl = gd.closest('.output');\n",
              "if (outputEl) {{\n",
              "    x.observe(outputEl, {childList: true});\n",
              "}}\n",
              "\n",
              "                        })                };                            </script>        </div>\n",
              "</body>\n",
              "</html>"
            ]
          },
          "metadata": {}
        }
      ],
      "source": [
        "fig = make_subplots(rows=1, cols=3,\n",
        "                    subplot_titles=('Кафе', 'Столовая', 'Ресторан'),\n",
        "                    specs=[[{\"type\": \"pie\"}, {\"type\": \"pie\"}, {\"type\": \"pie\"}]])\n",
        "\n",
        "fig.add_trace(\n",
        "    go.Pie(values=chain_type_2['кафе'], labels=chain_type_2.index),\n",
        "    row=1, col=1\n",
        ")\n",
        "\n",
        "fig.add_trace(\n",
        "    go.Pie(values=chain_type_2['столовая'], labels=chain_type_2.index),\n",
        "    row=1, col=2\n",
        ")\n",
        "\n",
        "fig.add_trace(\n",
        "    go.Pie(values=chain_type_2['ресторан'],\n",
        "           labels=chain_type_2.index),\n",
        "    row=1, col=3\n",
        ")\n",
        "\n",
        "fig.update_traces(marker=dict(colors=['#54A24B', '#EECA3B']))\n",
        "\n",
        "fig.update_layout(\n",
        "    title_text='Распределение сетевых заведений общественного питания по видам'\n",
        "    )\n",
        "\n",
        "fig.show()"
      ]
    },
    {
      "cell_type": "code",
      "execution_count": 41,
      "metadata": {
        "colab": {
          "base_uri": "https://localhost:8080/",
          "height": 542
        },
        "id": "_fSgSuaBG84e",
        "outputId": "d9207f20-8d88-4bfb-c279-0b1a81e02c25"
      },
      "outputs": [
        {
          "output_type": "display_data",
          "data": {
            "text/html": [
              "<html>\n",
              "<head><meta charset=\"utf-8\" /></head>\n",
              "<body>\n",
              "    <div>            <script src=\"https://cdnjs.cloudflare.com/ajax/libs/mathjax/2.7.5/MathJax.js?config=TeX-AMS-MML_SVG\"></script><script type=\"text/javascript\">if (window.MathJax) {MathJax.Hub.Config({SVG: {font: \"STIX-Web\"}});}</script>                <script type=\"text/javascript\">window.PlotlyConfig = {MathJaxConfig: 'local'};</script>\n",
              "        <script src=\"https://cdn.plot.ly/plotly-2.8.3.min.js\"></script>                <div id=\"e079d82e-5efb-41ea-b9c5-9a053657be3e\" class=\"plotly-graph-div\" style=\"height:525px; width:100%;\"></div>            <script type=\"text/javascript\">                                    window.PLOTLYENV=window.PLOTLYENV || {};                                    if (document.getElementById(\"e079d82e-5efb-41ea-b9c5-9a053657be3e\")) {                    Plotly.newPlot(                        \"e079d82e-5efb-41ea-b9c5-9a053657be3e\",                        [{\"labels\":[false,true],\"values\":[1132,791],\"type\":\"pie\",\"domain\":{\"x\":[0.0,0.2888888888888889],\"y\":[0.0,1.0]},\"marker\":{\"colors\":[\"#9D755D\",\"#72B7B2\"]}},{\"labels\":[false,true],\"values\":[819,37],\"type\":\"pie\",\"domain\":{\"x\":[0.35555555555555557,0.6444444444444445],\"y\":[0.0,1.0]},\"marker\":{\"colors\":[\"#9D755D\",\"#72B7B2\"]}},{\"labels\":[false,true],\"values\":[574,11],\"type\":\"pie\",\"domain\":{\"x\":[0.7111111111111111,1.0],\"y\":[0.0,1.0]},\"marker\":{\"colors\":[\"#9D755D\",\"#72B7B2\"]}}],                        {\"template\":{\"data\":{\"bar\":[{\"error_x\":{\"color\":\"#2a3f5f\"},\"error_y\":{\"color\":\"#2a3f5f\"},\"marker\":{\"line\":{\"color\":\"#E5ECF6\",\"width\":0.5},\"pattern\":{\"fillmode\":\"overlay\",\"size\":10,\"solidity\":0.2}},\"type\":\"bar\"}],\"barpolar\":[{\"marker\":{\"line\":{\"color\":\"#E5ECF6\",\"width\":0.5},\"pattern\":{\"fillmode\":\"overlay\",\"size\":10,\"solidity\":0.2}},\"type\":\"barpolar\"}],\"carpet\":[{\"aaxis\":{\"endlinecolor\":\"#2a3f5f\",\"gridcolor\":\"white\",\"linecolor\":\"white\",\"minorgridcolor\":\"white\",\"startlinecolor\":\"#2a3f5f\"},\"baxis\":{\"endlinecolor\":\"#2a3f5f\",\"gridcolor\":\"white\",\"linecolor\":\"white\",\"minorgridcolor\":\"white\",\"startlinecolor\":\"#2a3f5f\"},\"type\":\"carpet\"}],\"choropleth\":[{\"colorbar\":{\"outlinewidth\":0,\"ticks\":\"\"},\"type\":\"choropleth\"}],\"contour\":[{\"colorbar\":{\"outlinewidth\":0,\"ticks\":\"\"},\"colorscale\":[[0.0,\"#0d0887\"],[0.1111111111111111,\"#46039f\"],[0.2222222222222222,\"#7201a8\"],[0.3333333333333333,\"#9c179e\"],[0.4444444444444444,\"#bd3786\"],[0.5555555555555556,\"#d8576b\"],[0.6666666666666666,\"#ed7953\"],[0.7777777777777778,\"#fb9f3a\"],[0.8888888888888888,\"#fdca26\"],[1.0,\"#f0f921\"]],\"type\":\"contour\"}],\"contourcarpet\":[{\"colorbar\":{\"outlinewidth\":0,\"ticks\":\"\"},\"type\":\"contourcarpet\"}],\"heatmap\":[{\"colorbar\":{\"outlinewidth\":0,\"ticks\":\"\"},\"colorscale\":[[0.0,\"#0d0887\"],[0.1111111111111111,\"#46039f\"],[0.2222222222222222,\"#7201a8\"],[0.3333333333333333,\"#9c179e\"],[0.4444444444444444,\"#bd3786\"],[0.5555555555555556,\"#d8576b\"],[0.6666666666666666,\"#ed7953\"],[0.7777777777777778,\"#fb9f3a\"],[0.8888888888888888,\"#fdca26\"],[1.0,\"#f0f921\"]],\"type\":\"heatmap\"}],\"heatmapgl\":[{\"colorbar\":{\"outlinewidth\":0,\"ticks\":\"\"},\"colorscale\":[[0.0,\"#0d0887\"],[0.1111111111111111,\"#46039f\"],[0.2222222222222222,\"#7201a8\"],[0.3333333333333333,\"#9c179e\"],[0.4444444444444444,\"#bd3786\"],[0.5555555555555556,\"#d8576b\"],[0.6666666666666666,\"#ed7953\"],[0.7777777777777778,\"#fb9f3a\"],[0.8888888888888888,\"#fdca26\"],[1.0,\"#f0f921\"]],\"type\":\"heatmapgl\"}],\"histogram\":[{\"marker\":{\"pattern\":{\"fillmode\":\"overlay\",\"size\":10,\"solidity\":0.2}},\"type\":\"histogram\"}],\"histogram2d\":[{\"colorbar\":{\"outlinewidth\":0,\"ticks\":\"\"},\"colorscale\":[[0.0,\"#0d0887\"],[0.1111111111111111,\"#46039f\"],[0.2222222222222222,\"#7201a8\"],[0.3333333333333333,\"#9c179e\"],[0.4444444444444444,\"#bd3786\"],[0.5555555555555556,\"#d8576b\"],[0.6666666666666666,\"#ed7953\"],[0.7777777777777778,\"#fb9f3a\"],[0.8888888888888888,\"#fdca26\"],[1.0,\"#f0f921\"]],\"type\":\"histogram2d\"}],\"histogram2dcontour\":[{\"colorbar\":{\"outlinewidth\":0,\"ticks\":\"\"},\"colorscale\":[[0.0,\"#0d0887\"],[0.1111111111111111,\"#46039f\"],[0.2222222222222222,\"#7201a8\"],[0.3333333333333333,\"#9c179e\"],[0.4444444444444444,\"#bd3786\"],[0.5555555555555556,\"#d8576b\"],[0.6666666666666666,\"#ed7953\"],[0.7777777777777778,\"#fb9f3a\"],[0.8888888888888888,\"#fdca26\"],[1.0,\"#f0f921\"]],\"type\":\"histogram2dcontour\"}],\"mesh3d\":[{\"colorbar\":{\"outlinewidth\":0,\"ticks\":\"\"},\"type\":\"mesh3d\"}],\"parcoords\":[{\"line\":{\"colorbar\":{\"outlinewidth\":0,\"ticks\":\"\"}},\"type\":\"parcoords\"}],\"pie\":[{\"automargin\":true,\"type\":\"pie\"}],\"scatter\":[{\"marker\":{\"colorbar\":{\"outlinewidth\":0,\"ticks\":\"\"}},\"type\":\"scatter\"}],\"scatter3d\":[{\"line\":{\"colorbar\":{\"outlinewidth\":0,\"ticks\":\"\"}},\"marker\":{\"colorbar\":{\"outlinewidth\":0,\"ticks\":\"\"}},\"type\":\"scatter3d\"}],\"scattercarpet\":[{\"marker\":{\"colorbar\":{\"outlinewidth\":0,\"ticks\":\"\"}},\"type\":\"scattercarpet\"}],\"scattergeo\":[{\"marker\":{\"colorbar\":{\"outlinewidth\":0,\"ticks\":\"\"}},\"type\":\"scattergeo\"}],\"scattergl\":[{\"marker\":{\"colorbar\":{\"outlinewidth\":0,\"ticks\":\"\"}},\"type\":\"scattergl\"}],\"scattermapbox\":[{\"marker\":{\"colorbar\":{\"outlinewidth\":0,\"ticks\":\"\"}},\"type\":\"scattermapbox\"}],\"scatterpolar\":[{\"marker\":{\"colorbar\":{\"outlinewidth\":0,\"ticks\":\"\"}},\"type\":\"scatterpolar\"}],\"scatterpolargl\":[{\"marker\":{\"colorbar\":{\"outlinewidth\":0,\"ticks\":\"\"}},\"type\":\"scatterpolargl\"}],\"scatterternary\":[{\"marker\":{\"colorbar\":{\"outlinewidth\":0,\"ticks\":\"\"}},\"type\":\"scatterternary\"}],\"surface\":[{\"colorbar\":{\"outlinewidth\":0,\"ticks\":\"\"},\"colorscale\":[[0.0,\"#0d0887\"],[0.1111111111111111,\"#46039f\"],[0.2222222222222222,\"#7201a8\"],[0.3333333333333333,\"#9c179e\"],[0.4444444444444444,\"#bd3786\"],[0.5555555555555556,\"#d8576b\"],[0.6666666666666666,\"#ed7953\"],[0.7777777777777778,\"#fb9f3a\"],[0.8888888888888888,\"#fdca26\"],[1.0,\"#f0f921\"]],\"type\":\"surface\"}],\"table\":[{\"cells\":{\"fill\":{\"color\":\"#EBF0F8\"},\"line\":{\"color\":\"white\"}},\"header\":{\"fill\":{\"color\":\"#C8D4E3\"},\"line\":{\"color\":\"white\"}},\"type\":\"table\"}]},\"layout\":{\"annotationdefaults\":{\"arrowcolor\":\"#2a3f5f\",\"arrowhead\":0,\"arrowwidth\":1},\"autotypenumbers\":\"strict\",\"coloraxis\":{\"colorbar\":{\"outlinewidth\":0,\"ticks\":\"\"}},\"colorscale\":{\"diverging\":[[0,\"#8e0152\"],[0.1,\"#c51b7d\"],[0.2,\"#de77ae\"],[0.3,\"#f1b6da\"],[0.4,\"#fde0ef\"],[0.5,\"#f7f7f7\"],[0.6,\"#e6f5d0\"],[0.7,\"#b8e186\"],[0.8,\"#7fbc41\"],[0.9,\"#4d9221\"],[1,\"#276419\"]],\"sequential\":[[0.0,\"#0d0887\"],[0.1111111111111111,\"#46039f\"],[0.2222222222222222,\"#7201a8\"],[0.3333333333333333,\"#9c179e\"],[0.4444444444444444,\"#bd3786\"],[0.5555555555555556,\"#d8576b\"],[0.6666666666666666,\"#ed7953\"],[0.7777777777777778,\"#fb9f3a\"],[0.8888888888888888,\"#fdca26\"],[1.0,\"#f0f921\"]],\"sequentialminus\":[[0.0,\"#0d0887\"],[0.1111111111111111,\"#46039f\"],[0.2222222222222222,\"#7201a8\"],[0.3333333333333333,\"#9c179e\"],[0.4444444444444444,\"#bd3786\"],[0.5555555555555556,\"#d8576b\"],[0.6666666666666666,\"#ed7953\"],[0.7777777777777778,\"#fb9f3a\"],[0.8888888888888888,\"#fdca26\"],[1.0,\"#f0f921\"]]},\"colorway\":[\"#636efa\",\"#EF553B\",\"#00cc96\",\"#ab63fa\",\"#FFA15A\",\"#19d3f3\",\"#FF6692\",\"#B6E880\",\"#FF97FF\",\"#FECB52\"],\"font\":{\"color\":\"#2a3f5f\"},\"geo\":{\"bgcolor\":\"white\",\"lakecolor\":\"white\",\"landcolor\":\"#E5ECF6\",\"showlakes\":true,\"showland\":true,\"subunitcolor\":\"white\"},\"hoverlabel\":{\"align\":\"left\"},\"hovermode\":\"closest\",\"mapbox\":{\"style\":\"light\"},\"paper_bgcolor\":\"white\",\"plot_bgcolor\":\"#E5ECF6\",\"polar\":{\"angularaxis\":{\"gridcolor\":\"white\",\"linecolor\":\"white\",\"ticks\":\"\"},\"bgcolor\":\"#E5ECF6\",\"radialaxis\":{\"gridcolor\":\"white\",\"linecolor\":\"white\",\"ticks\":\"\"}},\"scene\":{\"xaxis\":{\"backgroundcolor\":\"#E5ECF6\",\"gridcolor\":\"white\",\"gridwidth\":2,\"linecolor\":\"white\",\"showbackground\":true,\"ticks\":\"\",\"zerolinecolor\":\"white\"},\"yaxis\":{\"backgroundcolor\":\"#E5ECF6\",\"gridcolor\":\"white\",\"gridwidth\":2,\"linecolor\":\"white\",\"showbackground\":true,\"ticks\":\"\",\"zerolinecolor\":\"white\"},\"zaxis\":{\"backgroundcolor\":\"#E5ECF6\",\"gridcolor\":\"white\",\"gridwidth\":2,\"linecolor\":\"white\",\"showbackground\":true,\"ticks\":\"\",\"zerolinecolor\":\"white\"}},\"shapedefaults\":{\"line\":{\"color\":\"#2a3f5f\"}},\"ternary\":{\"aaxis\":{\"gridcolor\":\"white\",\"linecolor\":\"white\",\"ticks\":\"\"},\"baxis\":{\"gridcolor\":\"white\",\"linecolor\":\"white\",\"ticks\":\"\"},\"bgcolor\":\"#E5ECF6\",\"caxis\":{\"gridcolor\":\"white\",\"linecolor\":\"white\",\"ticks\":\"\"}},\"title\":{\"x\":0.05},\"xaxis\":{\"automargin\":true,\"gridcolor\":\"white\",\"linecolor\":\"white\",\"ticks\":\"\",\"title\":{\"standoff\":15},\"zerolinecolor\":\"white\",\"zerolinewidth\":2},\"yaxis\":{\"automargin\":true,\"gridcolor\":\"white\",\"linecolor\":\"white\",\"ticks\":\"\",\"title\":{\"standoff\":15},\"zerolinecolor\":\"white\",\"zerolinewidth\":2}}},\"annotations\":[{\"font\":{\"size\":16},\"showarrow\":false,\"text\":\"\\u0424\\u0430\\u0441\\u0442\\u0444\\u0443\\u0434\",\"x\":0.14444444444444446,\"xanchor\":\"center\",\"xref\":\"paper\",\"y\":1.0,\"yanchor\":\"bottom\",\"yref\":\"paper\"},{\"font\":{\"size\":16},\"showarrow\":false,\"text\":\"\\u0411\\u0430\\u0440\",\"x\":0.5,\"xanchor\":\"center\",\"xref\":\"paper\",\"y\":1.0,\"yanchor\":\"bottom\",\"yref\":\"paper\"},{\"font\":{\"size\":16},\"showarrow\":false,\"text\":\"\\u0411\\u0443\\u0444\\u0435\\u0442\",\"x\":0.8555555555555556,\"xanchor\":\"center\",\"xref\":\"paper\",\"y\":1.0,\"yanchor\":\"bottom\",\"yref\":\"paper\"}],\"title\":{\"text\":\"\\u0420\\u0430\\u0441\\u043f\\u0440\\u0435\\u0434\\u0435\\u043b\\u0435\\u043d\\u0438\\u0435 \\u0441\\u0435\\u0442\\u0435\\u0432\\u044b\\u0445 \\u0437\\u0430\\u0432\\u0435\\u0434\\u0435\\u043d\\u0438\\u0439 \\u043e\\u0431\\u0449\\u0435\\u0441\\u0442\\u0432\\u0435\\u043d\\u043d\\u043e\\u0433\\u043e \\u043f\\u0438\\u0442\\u0430\\u043d\\u0438\\u044f \\u043f\\u043e \\u0432\\u0438\\u0434\\u0430\\u043c\"}},                        {\"responsive\": true}                    ).then(function(){\n",
              "                            \n",
              "var gd = document.getElementById('e079d82e-5efb-41ea-b9c5-9a053657be3e');\n",
              "var x = new MutationObserver(function (mutations, observer) {{\n",
              "        var display = window.getComputedStyle(gd).display;\n",
              "        if (!display || display === 'none') {{\n",
              "            console.log([gd, 'removed!']);\n",
              "            Plotly.purge(gd);\n",
              "            observer.disconnect();\n",
              "        }}\n",
              "}});\n",
              "\n",
              "// Listen for the removal of the full notebook cells\n",
              "var notebookContainer = gd.closest('#notebook-container');\n",
              "if (notebookContainer) {{\n",
              "    x.observe(notebookContainer, {childList: true});\n",
              "}}\n",
              "\n",
              "// Listen for the clearing of the current output cell\n",
              "var outputEl = gd.closest('.output');\n",
              "if (outputEl) {{\n",
              "    x.observe(outputEl, {childList: true});\n",
              "}}\n",
              "\n",
              "                        })                };                            </script>        </div>\n",
              "</body>\n",
              "</html>"
            ]
          },
          "metadata": {}
        }
      ],
      "source": [
        "fig = make_subplots(rows=1, cols=3,\n",
        "                    subplot_titles=('Фастфуд', 'Бар', 'Буфет'),\n",
        "                    specs=[[{\"type\": \"pie\"}, {\"type\": \"pie\"}, {\"type\": \"pie\"}]])\n",
        "\n",
        "fig.add_trace(\n",
        "    go.Pie(values=chain_type_2['предприятие быстрого обслуживания'],\n",
        "           labels=chain_type_2.index),\n",
        "    row=1, col=1\n",
        ")\n",
        "\n",
        "fig.add_trace(\n",
        "    go.Pie(values=chain_type_2['бар'], labels=chain_type_2.index),\n",
        "    row=1, col=2\n",
        ")\n",
        "\n",
        "fig.add_trace(\n",
        "    go.Pie(values=chain_type_2['буфет'],\n",
        "           labels=chain_type_2.index),\n",
        "    row=1, col=3\n",
        ")\n",
        "\n",
        "fig.update_traces(marker=dict(colors=['#9D755D', '#72B7B2']))\n",
        "\n",
        "fig.update_layout(\n",
        "    title_text='Распределение сетевых заведений общественного питания по видам'\n",
        "    )\n",
        "\n",
        "fig.show()"
      ]
    },
    {
      "cell_type": "code",
      "execution_count": 42,
      "metadata": {
        "colab": {
          "base_uri": "https://localhost:8080/",
          "height": 542
        },
        "id": "9CApZ8NVHwJU",
        "outputId": "2f4f24c7-b714-494d-d404-f14e95fa16f3"
      },
      "outputs": [
        {
          "output_type": "display_data",
          "data": {
            "text/html": [
              "<html>\n",
              "<head><meta charset=\"utf-8\" /></head>\n",
              "<body>\n",
              "    <div>            <script src=\"https://cdnjs.cloudflare.com/ajax/libs/mathjax/2.7.5/MathJax.js?config=TeX-AMS-MML_SVG\"></script><script type=\"text/javascript\">if (window.MathJax) {MathJax.Hub.Config({SVG: {font: \"STIX-Web\"}});}</script>                <script type=\"text/javascript\">window.PlotlyConfig = {MathJaxConfig: 'local'};</script>\n",
              "        <script src=\"https://cdn.plot.ly/plotly-2.8.3.min.js\"></script>                <div id=\"073c5100-a1cb-4323-a1ee-7bf0d7b83227\" class=\"plotly-graph-div\" style=\"height:525px; width:100%;\"></div>            <script type=\"text/javascript\">                                    window.PLOTLYENV=window.PLOTLYENV || {};                                    if (document.getElementById(\"073c5100-a1cb-4323-a1ee-7bf0d7b83227\")) {                    Plotly.newPlot(                        \"073c5100-a1cb-4323-a1ee-7bf0d7b83227\",                        [{\"labels\":[false,true],\"values\":[346,52],\"type\":\"pie\",\"domain\":{\"x\":[0.0,0.2888888888888889],\"y\":[0.0,1.0]},\"marker\":{\"colors\":[\"#E45756\",\"#BAB0AC\"]}},{\"labels\":[false,true],\"values\":[304,56],\"type\":\"pie\",\"domain\":{\"x\":[0.35555555555555557,0.6444444444444445],\"y\":[0.0,1.0]},\"marker\":{\"colors\":[\"#E45756\",\"#BAB0AC\"]}},{\"labels\":[false,true],\"values\":[195,78],\"type\":\"pie\",\"domain\":{\"x\":[0.7111111111111111,1.0],\"y\":[0.0,1.0]},\"marker\":{\"colors\":[\"#E45756\",\"#BAB0AC\"]}}],                        {\"template\":{\"data\":{\"bar\":[{\"error_x\":{\"color\":\"#2a3f5f\"},\"error_y\":{\"color\":\"#2a3f5f\"},\"marker\":{\"line\":{\"color\":\"#E5ECF6\",\"width\":0.5},\"pattern\":{\"fillmode\":\"overlay\",\"size\":10,\"solidity\":0.2}},\"type\":\"bar\"}],\"barpolar\":[{\"marker\":{\"line\":{\"color\":\"#E5ECF6\",\"width\":0.5},\"pattern\":{\"fillmode\":\"overlay\",\"size\":10,\"solidity\":0.2}},\"type\":\"barpolar\"}],\"carpet\":[{\"aaxis\":{\"endlinecolor\":\"#2a3f5f\",\"gridcolor\":\"white\",\"linecolor\":\"white\",\"minorgridcolor\":\"white\",\"startlinecolor\":\"#2a3f5f\"},\"baxis\":{\"endlinecolor\":\"#2a3f5f\",\"gridcolor\":\"white\",\"linecolor\":\"white\",\"minorgridcolor\":\"white\",\"startlinecolor\":\"#2a3f5f\"},\"type\":\"carpet\"}],\"choropleth\":[{\"colorbar\":{\"outlinewidth\":0,\"ticks\":\"\"},\"type\":\"choropleth\"}],\"contour\":[{\"colorbar\":{\"outlinewidth\":0,\"ticks\":\"\"},\"colorscale\":[[0.0,\"#0d0887\"],[0.1111111111111111,\"#46039f\"],[0.2222222222222222,\"#7201a8\"],[0.3333333333333333,\"#9c179e\"],[0.4444444444444444,\"#bd3786\"],[0.5555555555555556,\"#d8576b\"],[0.6666666666666666,\"#ed7953\"],[0.7777777777777778,\"#fb9f3a\"],[0.8888888888888888,\"#fdca26\"],[1.0,\"#f0f921\"]],\"type\":\"contour\"}],\"contourcarpet\":[{\"colorbar\":{\"outlinewidth\":0,\"ticks\":\"\"},\"type\":\"contourcarpet\"}],\"heatmap\":[{\"colorbar\":{\"outlinewidth\":0,\"ticks\":\"\"},\"colorscale\":[[0.0,\"#0d0887\"],[0.1111111111111111,\"#46039f\"],[0.2222222222222222,\"#7201a8\"],[0.3333333333333333,\"#9c179e\"],[0.4444444444444444,\"#bd3786\"],[0.5555555555555556,\"#d8576b\"],[0.6666666666666666,\"#ed7953\"],[0.7777777777777778,\"#fb9f3a\"],[0.8888888888888888,\"#fdca26\"],[1.0,\"#f0f921\"]],\"type\":\"heatmap\"}],\"heatmapgl\":[{\"colorbar\":{\"outlinewidth\":0,\"ticks\":\"\"},\"colorscale\":[[0.0,\"#0d0887\"],[0.1111111111111111,\"#46039f\"],[0.2222222222222222,\"#7201a8\"],[0.3333333333333333,\"#9c179e\"],[0.4444444444444444,\"#bd3786\"],[0.5555555555555556,\"#d8576b\"],[0.6666666666666666,\"#ed7953\"],[0.7777777777777778,\"#fb9f3a\"],[0.8888888888888888,\"#fdca26\"],[1.0,\"#f0f921\"]],\"type\":\"heatmapgl\"}],\"histogram\":[{\"marker\":{\"pattern\":{\"fillmode\":\"overlay\",\"size\":10,\"solidity\":0.2}},\"type\":\"histogram\"}],\"histogram2d\":[{\"colorbar\":{\"outlinewidth\":0,\"ticks\":\"\"},\"colorscale\":[[0.0,\"#0d0887\"],[0.1111111111111111,\"#46039f\"],[0.2222222222222222,\"#7201a8\"],[0.3333333333333333,\"#9c179e\"],[0.4444444444444444,\"#bd3786\"],[0.5555555555555556,\"#d8576b\"],[0.6666666666666666,\"#ed7953\"],[0.7777777777777778,\"#fb9f3a\"],[0.8888888888888888,\"#fdca26\"],[1.0,\"#f0f921\"]],\"type\":\"histogram2d\"}],\"histogram2dcontour\":[{\"colorbar\":{\"outlinewidth\":0,\"ticks\":\"\"},\"colorscale\":[[0.0,\"#0d0887\"],[0.1111111111111111,\"#46039f\"],[0.2222222222222222,\"#7201a8\"],[0.3333333333333333,\"#9c179e\"],[0.4444444444444444,\"#bd3786\"],[0.5555555555555556,\"#d8576b\"],[0.6666666666666666,\"#ed7953\"],[0.7777777777777778,\"#fb9f3a\"],[0.8888888888888888,\"#fdca26\"],[1.0,\"#f0f921\"]],\"type\":\"histogram2dcontour\"}],\"mesh3d\":[{\"colorbar\":{\"outlinewidth\":0,\"ticks\":\"\"},\"type\":\"mesh3d\"}],\"parcoords\":[{\"line\":{\"colorbar\":{\"outlinewidth\":0,\"ticks\":\"\"}},\"type\":\"parcoords\"}],\"pie\":[{\"automargin\":true,\"type\":\"pie\"}],\"scatter\":[{\"marker\":{\"colorbar\":{\"outlinewidth\":0,\"ticks\":\"\"}},\"type\":\"scatter\"}],\"scatter3d\":[{\"line\":{\"colorbar\":{\"outlinewidth\":0,\"ticks\":\"\"}},\"marker\":{\"colorbar\":{\"outlinewidth\":0,\"ticks\":\"\"}},\"type\":\"scatter3d\"}],\"scattercarpet\":[{\"marker\":{\"colorbar\":{\"outlinewidth\":0,\"ticks\":\"\"}},\"type\":\"scattercarpet\"}],\"scattergeo\":[{\"marker\":{\"colorbar\":{\"outlinewidth\":0,\"ticks\":\"\"}},\"type\":\"scattergeo\"}],\"scattergl\":[{\"marker\":{\"colorbar\":{\"outlinewidth\":0,\"ticks\":\"\"}},\"type\":\"scattergl\"}],\"scattermapbox\":[{\"marker\":{\"colorbar\":{\"outlinewidth\":0,\"ticks\":\"\"}},\"type\":\"scattermapbox\"}],\"scatterpolar\":[{\"marker\":{\"colorbar\":{\"outlinewidth\":0,\"ticks\":\"\"}},\"type\":\"scatterpolar\"}],\"scatterpolargl\":[{\"marker\":{\"colorbar\":{\"outlinewidth\":0,\"ticks\":\"\"}},\"type\":\"scatterpolargl\"}],\"scatterternary\":[{\"marker\":{\"colorbar\":{\"outlinewidth\":0,\"ticks\":\"\"}},\"type\":\"scatterternary\"}],\"surface\":[{\"colorbar\":{\"outlinewidth\":0,\"ticks\":\"\"},\"colorscale\":[[0.0,\"#0d0887\"],[0.1111111111111111,\"#46039f\"],[0.2222222222222222,\"#7201a8\"],[0.3333333333333333,\"#9c179e\"],[0.4444444444444444,\"#bd3786\"],[0.5555555555555556,\"#d8576b\"],[0.6666666666666666,\"#ed7953\"],[0.7777777777777778,\"#fb9f3a\"],[0.8888888888888888,\"#fdca26\"],[1.0,\"#f0f921\"]],\"type\":\"surface\"}],\"table\":[{\"cells\":{\"fill\":{\"color\":\"#EBF0F8\"},\"line\":{\"color\":\"white\"}},\"header\":{\"fill\":{\"color\":\"#C8D4E3\"},\"line\":{\"color\":\"white\"}},\"type\":\"table\"}]},\"layout\":{\"annotationdefaults\":{\"arrowcolor\":\"#2a3f5f\",\"arrowhead\":0,\"arrowwidth\":1},\"autotypenumbers\":\"strict\",\"coloraxis\":{\"colorbar\":{\"outlinewidth\":0,\"ticks\":\"\"}},\"colorscale\":{\"diverging\":[[0,\"#8e0152\"],[0.1,\"#c51b7d\"],[0.2,\"#de77ae\"],[0.3,\"#f1b6da\"],[0.4,\"#fde0ef\"],[0.5,\"#f7f7f7\"],[0.6,\"#e6f5d0\"],[0.7,\"#b8e186\"],[0.8,\"#7fbc41\"],[0.9,\"#4d9221\"],[1,\"#276419\"]],\"sequential\":[[0.0,\"#0d0887\"],[0.1111111111111111,\"#46039f\"],[0.2222222222222222,\"#7201a8\"],[0.3333333333333333,\"#9c179e\"],[0.4444444444444444,\"#bd3786\"],[0.5555555555555556,\"#d8576b\"],[0.6666666666666666,\"#ed7953\"],[0.7777777777777778,\"#fb9f3a\"],[0.8888888888888888,\"#fdca26\"],[1.0,\"#f0f921\"]],\"sequentialminus\":[[0.0,\"#0d0887\"],[0.1111111111111111,\"#46039f\"],[0.2222222222222222,\"#7201a8\"],[0.3333333333333333,\"#9c179e\"],[0.4444444444444444,\"#bd3786\"],[0.5555555555555556,\"#d8576b\"],[0.6666666666666666,\"#ed7953\"],[0.7777777777777778,\"#fb9f3a\"],[0.8888888888888888,\"#fdca26\"],[1.0,\"#f0f921\"]]},\"colorway\":[\"#636efa\",\"#EF553B\",\"#00cc96\",\"#ab63fa\",\"#FFA15A\",\"#19d3f3\",\"#FF6692\",\"#B6E880\",\"#FF97FF\",\"#FECB52\"],\"font\":{\"color\":\"#2a3f5f\"},\"geo\":{\"bgcolor\":\"white\",\"lakecolor\":\"white\",\"landcolor\":\"#E5ECF6\",\"showlakes\":true,\"showland\":true,\"subunitcolor\":\"white\"},\"hoverlabel\":{\"align\":\"left\"},\"hovermode\":\"closest\",\"mapbox\":{\"style\":\"light\"},\"paper_bgcolor\":\"white\",\"plot_bgcolor\":\"#E5ECF6\",\"polar\":{\"angularaxis\":{\"gridcolor\":\"white\",\"linecolor\":\"white\",\"ticks\":\"\"},\"bgcolor\":\"#E5ECF6\",\"radialaxis\":{\"gridcolor\":\"white\",\"linecolor\":\"white\",\"ticks\":\"\"}},\"scene\":{\"xaxis\":{\"backgroundcolor\":\"#E5ECF6\",\"gridcolor\":\"white\",\"gridwidth\":2,\"linecolor\":\"white\",\"showbackground\":true,\"ticks\":\"\",\"zerolinecolor\":\"white\"},\"yaxis\":{\"backgroundcolor\":\"#E5ECF6\",\"gridcolor\":\"white\",\"gridwidth\":2,\"linecolor\":\"white\",\"showbackground\":true,\"ticks\":\"\",\"zerolinecolor\":\"white\"},\"zaxis\":{\"backgroundcolor\":\"#E5ECF6\",\"gridcolor\":\"white\",\"gridwidth\":2,\"linecolor\":\"white\",\"showbackground\":true,\"ticks\":\"\",\"zerolinecolor\":\"white\"}},\"shapedefaults\":{\"line\":{\"color\":\"#2a3f5f\"}},\"ternary\":{\"aaxis\":{\"gridcolor\":\"white\",\"linecolor\":\"white\",\"ticks\":\"\"},\"baxis\":{\"gridcolor\":\"white\",\"linecolor\":\"white\",\"ticks\":\"\"},\"bgcolor\":\"#E5ECF6\",\"caxis\":{\"gridcolor\":\"white\",\"linecolor\":\"white\",\"ticks\":\"\"}},\"title\":{\"x\":0.05},\"xaxis\":{\"automargin\":true,\"gridcolor\":\"white\",\"linecolor\":\"white\",\"ticks\":\"\",\"title\":{\"standoff\":15},\"zerolinecolor\":\"white\",\"zerolinewidth\":2},\"yaxis\":{\"automargin\":true,\"gridcolor\":\"white\",\"linecolor\":\"white\",\"ticks\":\"\",\"title\":{\"standoff\":15},\"zerolinecolor\":\"white\",\"zerolinewidth\":2}}},\"annotations\":[{\"font\":{\"size\":16},\"showarrow\":false,\"text\":\"\\u041a\\u0430\\u0444\\u0435\\u0442\\u0435\\u0440\\u0438\\u0439\",\"x\":0.14444444444444446,\"xanchor\":\"center\",\"xref\":\"paper\",\"y\":1.0,\"yanchor\":\"bottom\",\"yref\":\"paper\"},{\"font\":{\"size\":16},\"showarrow\":false,\"text\":\"\\u0417\\u0430\\u043a\\u0443\\u0441\\u043e\\u0447\\u043d\\u0430\\u044f\",\"x\":0.5,\"xanchor\":\"center\",\"xref\":\"paper\",\"y\":1.0,\"yanchor\":\"bottom\",\"yref\":\"paper\"},{\"font\":{\"size\":16},\"showarrow\":false,\"text\":\"\\u041a\\u0443\\u043b\\u0438\\u043d\\u0430\\u0440\\u0438\\u044f\",\"x\":0.8555555555555556,\"xanchor\":\"center\",\"xref\":\"paper\",\"y\":1.0,\"yanchor\":\"bottom\",\"yref\":\"paper\"}],\"title\":{\"text\":\"\\u0420\\u0430\\u0441\\u043f\\u0440\\u0435\\u0434\\u0435\\u043b\\u0435\\u043d\\u0438\\u0435 \\u0441\\u0435\\u0442\\u0435\\u0432\\u044b\\u0445 \\u0437\\u0430\\u0432\\u0435\\u0434\\u0435\\u043d\\u0438\\u0439 \\u043e\\u0431\\u0449\\u0435\\u0441\\u0442\\u0432\\u0435\\u043d\\u043d\\u043e\\u0433\\u043e \\u043f\\u0438\\u0442\\u0430\\u043d\\u0438\\u044f \\u043f\\u043e \\u0432\\u0438\\u0434\\u0430\\u043c\"}},                        {\"responsive\": true}                    ).then(function(){\n",
              "                            \n",
              "var gd = document.getElementById('073c5100-a1cb-4323-a1ee-7bf0d7b83227');\n",
              "var x = new MutationObserver(function (mutations, observer) {{\n",
              "        var display = window.getComputedStyle(gd).display;\n",
              "        if (!display || display === 'none') {{\n",
              "            console.log([gd, 'removed!']);\n",
              "            Plotly.purge(gd);\n",
              "            observer.disconnect();\n",
              "        }}\n",
              "}});\n",
              "\n",
              "// Listen for the removal of the full notebook cells\n",
              "var notebookContainer = gd.closest('#notebook-container');\n",
              "if (notebookContainer) {{\n",
              "    x.observe(notebookContainer, {childList: true});\n",
              "}}\n",
              "\n",
              "// Listen for the clearing of the current output cell\n",
              "var outputEl = gd.closest('.output');\n",
              "if (outputEl) {{\n",
              "    x.observe(outputEl, {childList: true});\n",
              "}}\n",
              "\n",
              "                        })                };                            </script>        </div>\n",
              "</body>\n",
              "</html>"
            ]
          },
          "metadata": {}
        }
      ],
      "source": [
        "fig = make_subplots(rows=1, cols=3,\n",
        "                    subplot_titles=('Кафетерий', 'Закусочная', 'Кулинария'),\n",
        "                    specs=[[{\"type\": \"pie\"}, {\"type\": \"pie\"}, {\"type\": \"pie\"}]])\n",
        "\n",
        "fig.add_trace(\n",
        "    go.Pie(values=chain_type_2['кафетерий'],\n",
        "           labels=chain_type_2.index),\n",
        "    row=1, col=1\n",
        ")\n",
        "\n",
        "fig.add_trace(\n",
        "    go.Pie(values=chain_type_2['закусочная'], labels=chain_type_2.index),\n",
        "    row=1, col=2\n",
        ")\n",
        "\n",
        "fig.add_trace(\n",
        "    go.Pie(values=chain_type_2['магазин (отдел кулинарии)'],\n",
        "           labels=chain_type_2.index),\n",
        "    row=1, col=3\n",
        ")\n",
        "\n",
        "fig.update_traces(marker=dict(colors=['#E45756', '#BAB0AC']))\n",
        "\n",
        "fig.update_layout(\n",
        "    title_text='Распределение сетевых заведений общественного питания по видам'\n",
        "    )\n",
        "\n",
        "fig.show()"
      ]
    },
    {
      "cell_type": "markdown",
      "metadata": {
        "id": "reTSrLmwHxVH"
      },
      "source": [
        "**Вывод**\n",
        "\n",
        "Примерно одинаковая доля сетевых заведений у кафе и ресторанов: 22.9% и 23.8% соответственно. У фастфуда сети занимают 41.1% рынка. Можно сказать, что сегмент фастфуда более удачно развивается как сетевые заведения в отличие от других видов объектов общественного питания.\n",
        "\n",
        "У отделов кулинарии доля сетевых заведений составляет 28.6%, однако это связано с большим количество магазинов, принадлежавших крупным сетям ритейла."
      ]
    },
    {
      "cell_type": "markdown",
      "metadata": {
        "id": "LbM0EcaDG0jD"
      },
      "source": [
        "### Анализ количества посадочных мест по видам заведений\n",
        "<a class='anchor' id='count_type'></a>"
      ]
    },
    {
      "cell_type": "markdown",
      "metadata": {
        "id": "RlE4MOuWJ3WZ"
      },
      "source": [
        "Теперь исследуем среднее количество посадочных мест для каждого вида заведения общественного питания.\n",
        "\n",
        "Для начала посмотрим на выбросы."
      ]
    },
    {
      "cell_type": "code",
      "execution_count": 43,
      "metadata": {
        "colab": {
          "base_uri": "https://localhost:8080/",
          "height": 598
        },
        "id": "pCYAabDwKuyt",
        "outputId": "7b14dc84-6da3-43c5-e895-ae3811686a0f"
      },
      "outputs": [
        {
          "output_type": "display_data",
          "data": {
            "text/plain": [
              "<Figure size 1080x504 with 1 Axes>"
            ],
            "image/png": "[encoded data removed]"
          },
          "metadata": {
            "needs_background": "light"
          }
        }
      ],
      "source": [
        "plt.figure(figsize=(15, 7))\n",
        "\n",
        "sns.boxplot(\n",
        "    x='object_type',\n",
        "    y='number_of_seats',\n",
        "    data=data.sort_values(by='number_of_seats'),\n",
        "    color='#EECA3B'\n",
        "    ) \n",
        "\n",
        "plt.xlabel('Вид заведения')\n",
        "plt.ylabel('Количество мест для сидения')\n",
        "plt.title('Выбросы колонки с количеством посадочных мест по видам объектов общественного питания')\n",
        "plt.xticks(rotation=45)\n",
        "plt.ylim(0, 500)\n",
        "\n",
        "plt.show()"
      ]
    },
    {
      "cell_type": "markdown",
      "metadata": {
        "id": "rZQHPWA_2fPv"
      },
      "source": [
        "Уже с помощью этого графика можно увидеть, что у столовых наибольшее количество посадочных мест, а у отделов кулинарии в магазинах - наименьшее. Из-за того, что выбросов достаточно много, создадим сводную таблицу, которая будет считать не только среднее количество посадочных мест, но и медианное. График будем строить по медианным значениям."
      ]
    },
    {
      "cell_type": "code",
      "execution_count": 44,
      "metadata": {
        "id": "y1zsa1towx5h"
      },
      "outputs": [],
      "source": [
        "data_type_gr = data.pivot_table(\n",
        "    index = 'object_type',\n",
        "    values = 'number_of_seats',\n",
        "    aggfunc=['mean', 'median']\n",
        "    ).reset_index()    \n",
        "\n",
        "data_type_gr.columns = data_type_gr.columns.droplevel(1)\n",
        "\n",
        "data_type_gr = (\n",
        "    data_type_gr.astype({'mean' : 'int', 'median' : 'int'})\n",
        "    .sort_values(by='median', ascending=False)\n",
        ")"
      ]
    },
    {
      "cell_type": "code",
      "execution_count": 45,
      "metadata": {
        "colab": {
          "base_uri": "https://localhost:8080/",
          "height": 332
        },
        "id": "q0xiZa0zKt8A",
        "outputId": "3c7423b2-c73f-4128-ca32-140a016b63bf"
      },
      "outputs": [
        {
          "output_type": "execute_result",
          "data": {
            "text/plain": [
              "                         object_type  mean  median\n",
              "8                           столовая   130     103\n",
              "7                           ресторан    96      80\n",
              "0                                бар    43      35\n",
              "1                              буфет    51      32\n",
              "3                               кафе    39      30\n",
              "4                          кафетерий     9       6\n",
              "6  предприятие быстрого обслуживания    20       5\n",
              "2                         закусочная     7       0\n",
              "5          магазин (отдел кулинарии)     5       0"
            ],
            "text/html": [
              "\n",
              "  <div id=\"df-7cde3ebd-3ab7-4ea6-9b5c-2c2d3c4a91b4\">\n",
              "    <div class=\"colab-df-container\">\n",
              "      <div>\n",
              "<style scoped>\n",
              "    .dataframe tbody tr th:only-of-type {\n",
              "        vertical-align: middle;\n",
              "    }\n",
              "\n",
              "    .dataframe tbody tr th {\n",
              "        vertical-align: top;\n",
              "    }\n",
              "\n",
              "    .dataframe thead th {\n",
              "        text-align: right;\n",
              "    }\n",
              "</style>\n",
              "<table border=\"1\" class=\"dataframe\">\n",
              "  <thead>\n",
              "    <tr style=\"text-align: right;\">\n",
              "      <th></th>\n",
              "      <th>object_type</th>\n",
              "      <th>mean</th>\n",
              "      <th>median</th>\n",
              "    </tr>\n",
              "  </thead>\n",
              "  <tbody>\n",
              "    <tr>\n",
              "      <th>8</th>\n",
              "      <td>столовая</td>\n",
              "      <td>130</td>\n",
              "      <td>103</td>\n",
              "    </tr>\n",
              "    <tr>\n",
              "      <th>7</th>\n",
              "      <td>ресторан</td>\n",
              "      <td>96</td>\n",
              "      <td>80</td>\n",
              "    </tr>\n",
              "    <tr>\n",
              "      <th>0</th>\n",
              "      <td>бар</td>\n",
              "      <td>43</td>\n",
              "      <td>35</td>\n",
              "    </tr>\n",
              "    <tr>\n",
              "      <th>1</th>\n",
              "      <td>буфет</td>\n",
              "      <td>51</td>\n",
              "      <td>32</td>\n",
              "    </tr>\n",
              "    <tr>\n",
              "      <th>3</th>\n",
              "      <td>кафе</td>\n",
              "      <td>39</td>\n",
              "      <td>30</td>\n",
              "    </tr>\n",
              "    <tr>\n",
              "      <th>4</th>\n",
              "      <td>кафетерий</td>\n",
              "      <td>9</td>\n",
              "      <td>6</td>\n",
              "    </tr>\n",
              "    <tr>\n",
              "      <th>6</th>\n",
              "      <td>предприятие быстрого обслуживания</td>\n",
              "      <td>20</td>\n",
              "      <td>5</td>\n",
              "    </tr>\n",
              "    <tr>\n",
              "      <th>2</th>\n",
              "      <td>закусочная</td>\n",
              "      <td>7</td>\n",
              "      <td>0</td>\n",
              "    </tr>\n",
              "    <tr>\n",
              "      <th>5</th>\n",
              "      <td>магазин (отдел кулинарии)</td>\n",
              "      <td>5</td>\n",
              "      <td>0</td>\n",
              "    </tr>\n",
              "  </tbody>\n",
              "</table>\n",
              "</div>\n",
              "      <button class=\"colab-df-convert\" onclick=\"convertToInteractive('df-7cde3ebd-3ab7-4ea6-9b5c-2c2d3c4a91b4')\"\n",
              "              title=\"Convert this dataframe to an interactive table.\"\n",
              "              style=\"display:none;\">\n",
              "        \n",
              "  <svg xmlns=\"http://www.w3.org/2000/svg\" height=\"24px\"viewBox=\"0 0 24 24\"\n",
              "       width=\"24px\">\n",
              "    <path d=\"M0 0h24v24H0V0z\" fill=\"none\"/>\n",
              "    <path d=\"M18.56 5.44l.94 2.06.94-2.06 2.06-.94-2.06-.94-.94-2.06-.94 2.06-2.06.94zm-11 1L8.5 8.5l.94-2.06 2.06-.94-2.06-.94L8.5 2.5l-.94 2.06-2.06.94zm10 10l.94 2.06.94-2.06 2.06-.94-2.06-.94-.94-2.06-.94 2.06-2.06.94z\"/><path d=\"M17.41 7.96l-1.37-1.37c-.4-.4-.92-.59-1.43-.59-.52 0-1.04.2-1.43.59L10.3 9.45l-7.72 7.72c-.78.78-.78 2.05 0 2.83L4 21.41c.39.39.9.59 1.41.59.51 0 1.02-.2 1.41-.59l7.78-7.78 2.81-2.81c.8-.78.8-2.07 0-2.86zM5.41 20L4 18.59l7.72-7.72 1.47 1.35L5.41 20z\"/>\n",
              "  </svg>\n",
              "      </button>\n",
              "      \n",
              "  <style>\n",
              "    .colab-df-container {\n",
              "      display:flex;\n",
              "      flex-wrap:wrap;\n",
              "      gap: 12px;\n",
              "    }\n",
              "\n",
              "    .colab-df-convert {\n",
              "      background-color: #E8F0FE;\n",
              "      border: none;\n",
              "      border-radius: 50%;\n",
              "      cursor: pointer;\n",
              "      display: none;\n",
              "      fill: #1967D2;\n",
              "      height: 32px;\n",
              "      padding: 0 0 0 0;\n",
              "      width: 32px;\n",
              "    }\n",
              "\n",
              "    .colab-df-convert:hover {\n",
              "      background-color: #E2EBFA;\n",
              "      box-shadow: 0px 1px 2px rgba(60, 64, 67, 0.3), 0px 1px 3px 1px rgba(60, 64, 67, 0.15);\n",
              "      fill: #174EA6;\n",
              "    }\n",
              "\n",
              "    [theme=dark] .colab-df-convert {\n",
              "      background-color: #3B4455;\n",
              "      fill: #D2E3FC;\n",
              "    }\n",
              "\n",
              "    [theme=dark] .colab-df-convert:hover {\n",
              "      background-color: #434B5C;\n",
              "      box-shadow: 0px 1px 3px 1px rgba(0, 0, 0, 0.15);\n",
              "      filter: drop-shadow(0px 1px 2px rgba(0, 0, 0, 0.3));\n",
              "      fill: #FFFFFF;\n",
              "    }\n",
              "  </style>\n",
              "\n",
              "      <script>\n",
              "        const buttonEl =\n",
              "          document.querySelector('#df-7cde3ebd-3ab7-4ea6-9b5c-2c2d3c4a91b4 button.colab-df-convert');\n",
              "        buttonEl.style.display =\n",
              "          google.colab.kernel.accessAllowed ? 'block' : 'none';\n",
              "\n",
              "        async function convertToInteractive(key) {\n",
              "          const element = document.querySelector('#df-7cde3ebd-3ab7-4ea6-9b5c-2c2d3c4a91b4');\n",
              "          const dataTable =\n",
              "            await google.colab.kernel.invokeFunction('convertToInteractive',\n",
              "                                                     [key], {});\n",
              "          if (!dataTable) return;\n",
              "\n",
              "          const docLinkHtml = 'Like what you see? Visit the ' +\n",
              "            '<a target=\"_blank\" href=https://colab.research.google.com/notebooks/data_table.ipynb>data table notebook</a>'\n",
              "            + ' to learn more about interactive tables.';\n",
              "          element.innerHTML = '';\n",
              "          dataTable['output_type'] = 'display_data';\n",
              "          await google.colab.output.renderOutput(dataTable, element);\n",
              "          const docLink = document.createElement('div');\n",
              "          docLink.innerHTML = docLinkHtml;\n",
              "          element.appendChild(docLink);\n",
              "        }\n",
              "      </script>\n",
              "    </div>\n",
              "  </div>\n",
              "  "
            ]
          },
          "metadata": {},
          "execution_count": 45
        }
      ],
      "source": [
        "data_type_gr"
      ]
    },
    {
      "cell_type": "code",
      "execution_count": 46,
      "metadata": {
        "colab": {
          "base_uri": "https://localhost:8080/",
          "height": 598
        },
        "id": "L_-7PJN9Lbuj",
        "outputId": "c619f6d1-ad04-4152-c5f4-044f55ab83ab"
      },
      "outputs": [
        {
          "output_type": "display_data",
          "data": {
            "text/plain": [
              "<Figure size 1080x504 with 1 Axes>"
            ],
            "image/png": "[encoded data removed]"
          },
          "metadata": {
            "needs_background": "light"
          }
        }
      ],
      "source": [
        "plt.figure(figsize=(15, 7))\n",
        "plt.grid()\n",
        "\n",
        "sns.barplot(x='object_type', y='median', data=data_type_gr, color='#54A24B') \n",
        "\n",
        "plt.xlabel('Вид заведения')\n",
        "plt.xticks(rotation=45)\n",
        "plt.ylabel('Медианное количество посадочных мест')\n",
        "plt.title('Медианное количество посадочных мест по видам объектов общественного питания')\n",
        "\n",
        "\n",
        "plt.show()"
      ]
    },
    {
      "cell_type": "markdown",
      "metadata": {
        "id": "2a7hjt4kTM7N"
      },
      "source": [
        "**Вывод**\n",
        "\n",
        "Все виды заведений общественного питания можно разделить на 4 группы в зависимости от количества посдочных мест:\n",
        "    \n",
        "    \n",
        "1. закусочные и отделы кулинарии в мазинах - для них не характерно наличие посадочных мест (предположение о том, что отсутствие посадочных мест характерно для конкретных видов заведений, подтвердилось);\n",
        "    \n",
        "    \n",
        "2. заведения фастфуда и кафетерии - 5 и 6 посадочных мест соответственно;\n",
        "    \n",
        "    \n",
        "3. кафе, буфеты и бары - 30-35 посадочных мест;\n",
        "    \n",
        "    \n",
        "4. рестораны и столовые - 80 и 103 посадочных места соответсвенно."
      ]
    },
    {
      "cell_type": "markdown",
      "metadata": {
        "id": "AYZC3u7aIqQV"
      },
      "source": [
        "### Анализ количества посадочных мест для сетевых заведений\n",
        "<a class='anchor' id='count_chain'></a>"
      ]
    },
    {
      "cell_type": "markdown",
      "metadata": {
        "id": "UNA0V2zYt7oE"
      },
      "source": [
        "Теперь попробуем определить, что характерно для сетей: большое количество заведений с малым количеством посадочных мест или, наоборот, малое количество заведений с большим количеством посадочных мест.\n",
        "\n",
        "Сначала посмотрим на общее распределение посадочных мест."
      ]
    },
    {
      "cell_type": "code",
      "execution_count": 47,
      "metadata": {
        "colab": {
          "base_uri": "https://localhost:8080/",
          "height": 458
        },
        "id": "it5XJphrVbWi",
        "outputId": "9d286ed1-29fc-4021-b6d2-165e5a611a44"
      },
      "outputs": [
        {
          "output_type": "display_data",
          "data": {
            "text/plain": [
              "<Figure size 1080x504 with 1 Axes>"
            ],
            "image/png": "[encoded data removed]"
          },
          "metadata": {
            "needs_background": "light"
          }
        }
      ],
      "source": [
        "plt.figure(figsize=(15, 7))\n",
        "\n",
        "sns.histplot(\n",
        "    data.loc[data['chain'] == True, 'number_of_seats'],\n",
        "    bins=50,\n",
        "    color='#E45756'\n",
        "    ) \n",
        "\n",
        "plt.xlim([0, 300])\n",
        "plt.xlabel('Количество посадочных мест')\n",
        "plt.ylabel('Количество заведений')\n",
        "plt.title('Распределение количества посадочных мест среди сетевых заведений')\n",
        "\n",
        "plt.show()"
      ]
    },
    {
      "cell_type": "markdown",
      "metadata": {
        "id": "CRIJAPxuuaU7"
      },
      "source": [
        "Наибольшее количество заведений, принадлежащих к какой-либо из сетей, имеет до 12 посадочных мест. В целом, явно выделяются три группы: до 60 мест, до 108 мест и более 108 мест. Их можно определить как малое количество мест, среднее количество мест и большое количество мест.\n",
        "\n",
        "Теперь посчитаем количество заведений и медианное количество посадочных мест для каждой сети, т.к. помним про выбросы, искажающее среднее. Построим точечный график."
      ]
    },
    {
      "cell_type": "code",
      "execution_count": 48,
      "metadata": {
        "id": "1uTgftFK8pV9"
      },
      "outputs": [],
      "source": [
        "# определяем названия сетевых заведений, повторяющихся два и более раза,\n",
        "# чтобы исключить единичные случаи, которые не получилось обработать\n",
        "# при устранении неявных дубликотов\n",
        "\n",
        "cafe_names = (\n",
        "    data.loc[data['chain'] == True, 'object_name']\n",
        "    .value_counts()\n",
        "    .loc[lambda x : x > 1]\n",
        ")"
      ]
    },
    {
      "cell_type": "code",
      "execution_count": 49,
      "metadata": {
        "id": "lWAPfS3FiJwA"
      },
      "outputs": [],
      "source": [
        "# создаем датасет с нужным срезом данных\n",
        "data_chain = data.query('object_name in @cafe_names.index').copy()"
      ]
    },
    {
      "cell_type": "code",
      "execution_count": 50,
      "metadata": {
        "id": "_w0T2iXPjWAU"
      },
      "outputs": [],
      "source": [
        "# группируем данные\n",
        "\n",
        "data_chain_gr = (\n",
        "    data_chain.groupby('object_name')\n",
        "    .agg({'id' : 'count', 'number_of_seats' : 'median'})\n",
        "    .rename(columns={'id' : 'count_of_cafes'})\n",
        ")\n",
        "\n",
        "data_chain_gr['number_of_seats'] = (\n",
        "    data_chain_gr['number_of_seats'].astype('int')\n",
        ")"
      ]
    },
    {
      "cell_type": "code",
      "execution_count": 51,
      "metadata": {
        "colab": {
          "base_uri": "https://localhost:8080/",
          "height": 394
        },
        "id": "euO5ia_NxKtz",
        "outputId": "62007395-f0d7-4693-c8cb-04b25e6fee91"
      },
      "outputs": [
        {
          "output_type": "execute_result",
          "data": {
            "text/plain": [
              "                 count_of_cafes  number_of_seats\n",
              "object_name                                     \n",
              "шоколадница                 183               50\n",
              "kfc                         173               48\n",
              "макдоналдс                  165               79\n",
              "бургер кинг                 147               45\n",
              "теремок                     106               23\n",
              "домино'с пицца               97               16\n",
              "крошка картошка              93               15\n",
              "суши wok                     90                6\n",
              "милти                        72                0\n",
              "starbucks                    69               41"
            ],
            "text/html": [
              "\n",
              "  <div id=\"df-b343f8f7-3ba9-456a-9f35-2d13eda11099\">\n",
              "    <div class=\"colab-df-container\">\n",
              "      <div>\n",
              "<style scoped>\n",
              "    .dataframe tbody tr th:only-of-type {\n",
              "        vertical-align: middle;\n",
              "    }\n",
              "\n",
              "    .dataframe tbody tr th {\n",
              "        vertical-align: top;\n",
              "    }\n",
              "\n",
              "    .dataframe thead th {\n",
              "        text-align: right;\n",
              "    }\n",
              "</style>\n",
              "<table border=\"1\" class=\"dataframe\">\n",
              "  <thead>\n",
              "    <tr style=\"text-align: right;\">\n",
              "      <th></th>\n",
              "      <th>count_of_cafes</th>\n",
              "      <th>number_of_seats</th>\n",
              "    </tr>\n",
              "    <tr>\n",
              "      <th>object_name</th>\n",
              "      <th></th>\n",
              "      <th></th>\n",
              "    </tr>\n",
              "  </thead>\n",
              "  <tbody>\n",
              "    <tr>\n",
              "      <th>шоколадница</th>\n",
              "      <td>183</td>\n",
              "      <td>50</td>\n",
              "    </tr>\n",
              "    <tr>\n",
              "      <th>kfc</th>\n",
              "      <td>173</td>\n",
              "      <td>48</td>\n",
              "    </tr>\n",
              "    <tr>\n",
              "      <th>макдоналдс</th>\n",
              "      <td>165</td>\n",
              "      <td>79</td>\n",
              "    </tr>\n",
              "    <tr>\n",
              "      <th>бургер кинг</th>\n",
              "      <td>147</td>\n",
              "      <td>45</td>\n",
              "    </tr>\n",
              "    <tr>\n",
              "      <th>теремок</th>\n",
              "      <td>106</td>\n",
              "      <td>23</td>\n",
              "    </tr>\n",
              "    <tr>\n",
              "      <th>домино'с пицца</th>\n",
              "      <td>97</td>\n",
              "      <td>16</td>\n",
              "    </tr>\n",
              "    <tr>\n",
              "      <th>крошка картошка</th>\n",
              "      <td>93</td>\n",
              "      <td>15</td>\n",
              "    </tr>\n",
              "    <tr>\n",
              "      <th>суши wok</th>\n",
              "      <td>90</td>\n",
              "      <td>6</td>\n",
              "    </tr>\n",
              "    <tr>\n",
              "      <th>милти</th>\n",
              "      <td>72</td>\n",
              "      <td>0</td>\n",
              "    </tr>\n",
              "    <tr>\n",
              "      <th>starbucks</th>\n",
              "      <td>69</td>\n",
              "      <td>41</td>\n",
              "    </tr>\n",
              "  </tbody>\n",
              "</table>\n",
              "</div>\n",
              "      <button class=\"colab-df-convert\" onclick=\"convertToInteractive('df-b343f8f7-3ba9-456a-9f35-2d13eda11099')\"\n",
              "              title=\"Convert this dataframe to an interactive table.\"\n",
              "              style=\"display:none;\">\n",
              "        \n",
              "  <svg xmlns=\"http://www.w3.org/2000/svg\" height=\"24px\"viewBox=\"0 0 24 24\"\n",
              "       width=\"24px\">\n",
              "    <path d=\"M0 0h24v24H0V0z\" fill=\"none\"/>\n",
              "    <path d=\"M18.56 5.44l.94 2.06.94-2.06 2.06-.94-2.06-.94-.94-2.06-.94 2.06-2.06.94zm-11 1L8.5 8.5l.94-2.06 2.06-.94-2.06-.94L8.5 2.5l-.94 2.06-2.06.94zm10 10l.94 2.06.94-2.06 2.06-.94-2.06-.94-.94-2.06-.94 2.06-2.06.94z\"/><path d=\"M17.41 7.96l-1.37-1.37c-.4-.4-.92-.59-1.43-.59-.52 0-1.04.2-1.43.59L10.3 9.45l-7.72 7.72c-.78.78-.78 2.05 0 2.83L4 21.41c.39.39.9.59 1.41.59.51 0 1.02-.2 1.41-.59l7.78-7.78 2.81-2.81c.8-.78.8-2.07 0-2.86zM5.41 20L4 18.59l7.72-7.72 1.47 1.35L5.41 20z\"/>\n",
              "  </svg>\n",
              "      </button>\n",
              "      \n",
              "  <style>\n",
              "    .colab-df-container {\n",
              "      display:flex;\n",
              "      flex-wrap:wrap;\n",
              "      gap: 12px;\n",
              "    }\n",
              "\n",
              "    .colab-df-convert {\n",
              "      background-color: #E8F0FE;\n",
              "      border: none;\n",
              "      border-radius: 50%;\n",
              "      cursor: pointer;\n",
              "      display: none;\n",
              "      fill: #1967D2;\n",
              "      height: 32px;\n",
              "      padding: 0 0 0 0;\n",
              "      width: 32px;\n",
              "    }\n",
              "\n",
              "    .colab-df-convert:hover {\n",
              "      background-color: #E2EBFA;\n",
              "      box-shadow: 0px 1px 2px rgba(60, 64, 67, 0.3), 0px 1px 3px 1px rgba(60, 64, 67, 0.15);\n",
              "      fill: #174EA6;\n",
              "    }\n",
              "\n",
              "    [theme=dark] .colab-df-convert {\n",
              "      background-color: #3B4455;\n",
              "      fill: #D2E3FC;\n",
              "    }\n",
              "\n",
              "    [theme=dark] .colab-df-convert:hover {\n",
              "      background-color: #434B5C;\n",
              "      box-shadow: 0px 1px 3px 1px rgba(0, 0, 0, 0.15);\n",
              "      filter: drop-shadow(0px 1px 2px rgba(0, 0, 0, 0.3));\n",
              "      fill: #FFFFFF;\n",
              "    }\n",
              "  </style>\n",
              "\n",
              "      <script>\n",
              "        const buttonEl =\n",
              "          document.querySelector('#df-b343f8f7-3ba9-456a-9f35-2d13eda11099 button.colab-df-convert');\n",
              "        buttonEl.style.display =\n",
              "          google.colab.kernel.accessAllowed ? 'block' : 'none';\n",
              "\n",
              "        async function convertToInteractive(key) {\n",
              "          const element = document.querySelector('#df-b343f8f7-3ba9-456a-9f35-2d13eda11099');\n",
              "          const dataTable =\n",
              "            await google.colab.kernel.invokeFunction('convertToInteractive',\n",
              "                                                     [key], {});\n",
              "          if (!dataTable) return;\n",
              "\n",
              "          const docLinkHtml = 'Like what you see? Visit the ' +\n",
              "            '<a target=\"_blank\" href=https://colab.research.google.com/notebooks/data_table.ipynb>data table notebook</a>'\n",
              "            + ' to learn more about interactive tables.';\n",
              "          element.innerHTML = '';\n",
              "          dataTable['output_type'] = 'display_data';\n",
              "          await google.colab.output.renderOutput(dataTable, element);\n",
              "          const docLink = document.createElement('div');\n",
              "          docLink.innerHTML = docLinkHtml;\n",
              "          element.appendChild(docLink);\n",
              "        }\n",
              "      </script>\n",
              "    </div>\n",
              "  </div>\n",
              "  "
            ]
          },
          "metadata": {},
          "execution_count": 51
        }
      ],
      "source": [
        "data_chain_gr.sort_values(by='count_of_cafes', ascending=False).head(10)"
      ]
    },
    {
      "cell_type": "code",
      "execution_count": 52,
      "metadata": {
        "colab": {
          "base_uri": "https://localhost:8080/",
          "height": 458
        },
        "id": "eV6sMAZLoc_N",
        "outputId": "e63c6fd3-7718-4e1c-c190-c75d3c2f3468"
      },
      "outputs": [
        {
          "output_type": "display_data",
          "data": {
            "text/plain": [
              "<Figure size 720x504 with 1 Axes>"
            ],
            "image/png": "[encoded data removed]"
          },
          "metadata": {
            "needs_background": "light"
          }
        }
      ],
      "source": [
        "# определяем значение 60 процентиля для медианного количества сидений\n",
        "# и количество заведений конкретной сети;\n",
        "# так мы отобразим абсолютное большинство\n",
        "\n",
        "seats_60 = np.percentile(data_chain_gr['number_of_seats'], 60)\n",
        "cafes_60 = np.percentile(data_chain_gr['count_of_cafes'], 60)\n",
        "\n",
        "# строим график\n",
        "\n",
        "plt.figure(figsize=(10, 7))\n",
        "\n",
        "sns.scatterplot(\n",
        "    data=data_chain_gr,\n",
        "    x='number_of_seats',\n",
        "    y='count_of_cafes',\n",
        "    color='#F58518')\n",
        "\n",
        "# добавляем линию 60 процентили количества заведений\n",
        "\n",
        "plt.axhline(\n",
        "    cafes_60,\n",
        "    linestyle='--',\n",
        "    color='grey'\n",
        "    )\n",
        "\n",
        "# добавляем ее подпись\n",
        "\n",
        "plt.text(\n",
        "    seats_60 + 100,\n",
        "    cafes_60 - 5,\n",
        "    '60% имеют такое количество заведений',\n",
        "    color='grey',\n",
        "    va='top',\n",
        "    fontsize=10\n",
        "    )\n",
        "\n",
        "# добавляем линию 60 процентили количества сидений\n",
        "\n",
        "plt.axvline(\n",
        "    seats_60,\n",
        "    linestyle='--',\n",
        "    color='grey'\n",
        "    )\n",
        "\n",
        "# добавляем ее подпись\n",
        "\n",
        "plt.text(\n",
        "    seats_60,\n",
        "    cafes_60 + 42,\n",
        "    '60% имеют такое количество мест',\n",
        "    color='grey',\n",
        "    ha='right',\n",
        "    va='bottom',\n",
        "    rotation='vertical',\n",
        "    fontsize=10\n",
        "    )\n",
        "\n",
        "# добавляем подписи осей и заголовок\n",
        "\n",
        "plt.xlabel('Среднее количество посадочных мест')\n",
        "plt.ylabel('Количество заведений')\n",
        "plt.title('Распределение количества посадочных мест по отношению к количеству заведений конкретной сети')\n",
        "\n",
        "plt.show()"
      ]
    },
    {
      "cell_type": "markdown",
      "metadata": {
        "id": "WPWXlIntw2F6"
      },
      "source": [
        "**Вывод**\n",
        "\n",
        "На графике отчетливо видно, что сети редко развиваются в более чем 10 заведений. При этом наибольшее число из таких заведений имеет не более 50 пасадочных мест.\n",
        "\n",
        "Это характерно и для сетей, которые развились и в более чем 50 заведений. Если посмотреть на сводную таблицу, то можно увидеть, что среди десяти самых массовых сетей количество посадочных мест не превышает отметку в 50, кроме McDonald's: у него 79 мест.\n",
        "\n",
        "Можно увидеть следующую тенденцию: чем больше среднее количество посадочных мест у заведений сети, тем реже сеть превышает отметку в 10-15 заведений.\n",
        "\n",
        "Таким образом, можно сделать вывод, что для сетей характерно большое количество заведений с небольшим количеством посадочных мест. \n",
        "\n",
        "Интересно отметить, что малое количество мест характерно для сетевых заведений с большим количеством заведений, но так сказать про все заведения нельзя. Например, столовые и рестораны более распространены, чем предприятия быстрого обслуживания, при этом среднее количество мест в них в разы больше."
      ]
    },
    {
      "cell_type": "markdown",
      "metadata": {
        "id": "b3VBaJuCJ3r_"
      },
      "source": [
        "### Анализ заведений по улицам и районам\n",
        "<a class='anchor' id='street'></a>"
      ]
    },
    {
      "cell_type": "markdown",
      "metadata": {
        "id": "jy4G7O5DVhyO"
      },
      "source": [
        "Посмотрим, на каких улицах больше всего объектов общественного питания. Для этого сгруппируем данные, выберем топ-10 и построим график."
      ]
    },
    {
      "cell_type": "code",
      "execution_count": 53,
      "metadata": {
        "id": "DJohbyUdCxrX"
      },
      "outputs": [],
      "source": [
        "street_gr = (\n",
        "    data.groupby('street')\n",
        "    .agg({'id' : 'count'})\n",
        "    .sort_values(by='id', ascending=False)\n",
        ")\n",
        "\n",
        "street_gr_top = street_gr.head(10)"
      ]
    },
    {
      "cell_type": "code",
      "execution_count": 54,
      "metadata": {
        "colab": {
          "base_uri": "https://localhost:8080/",
          "height": 552
        },
        "id": "nb2kgEqIDnsm",
        "outputId": "66644516-dfaa-48af-b334-380efbf1ef18"
      },
      "outputs": [
        {
          "output_type": "display_data",
          "data": {
            "text/plain": [
              "<Figure size 1080x504 with 1 Axes>"
            ],
            "image/png": "[encoded data removed]"
          },
          "metadata": {
            "needs_background": "light"
          }
        }
      ],
      "source": [
        "plt.figure(figsize=(15, 7))\n",
        "plt.grid()\n",
        "\n",
        "sns.barplot(x=street_gr_top.index, y='id', data=street_gr_top, color='#9D755D') \n",
        "\n",
        "plt.xlabel('Нименование улицы или района')\n",
        "plt.xticks(rotation=45)\n",
        "plt.ylabel('Количество объектов общественного питания')\n",
        "plt.title('Количество объектов общественного питания по улицам и районам')\n",
        "\n",
        "\n",
        "plt.show()"
      ]
    },
    {
      "cell_type": "markdown",
      "metadata": {
        "id": "fUu9PK4dvs8w"
      },
      "source": [
        "Необходимо посмотреть, в каких районах и округах Москвы находятся объекты общепита. Загрузим необходимые данные с портала открытых данных Правительства Москвы и присоединим необходимые колонки к копии основной таблицы, т.к. одна улица может находиться в нескольких районах, а это удваивает / утраивает количество строк для одного заведения."
      ]
    },
    {
      "cell_type": "code",
      "execution_count": 55,
      "metadata": {
        "id": "JL5rXkOGd4DL"
      },
      "outputs": [],
      "source": [
        "spreadsheet_id = '1opX4O8AfO84UWyvTVZM8MgUbFeuTTnx2DWH2L0z1Kkk'\n",
        "\n",
        "file_name = (\n",
        "    'https://docs.google.com/spreadsheets/d/{}/export?format=csv'\n",
        "    .format(spreadsheet_id)\n",
        ")\n",
        "\n",
        "r = requests.get(file_name)\n",
        "df = pd.read_csv(BytesIO(r.content))\n",
        "df.columns = df.columns.str.lower()"
      ]
    },
    {
      "cell_type": "code",
      "execution_count": 56,
      "metadata": {
        "id": "1ioN4TO5wiMp"
      },
      "outputs": [],
      "source": [
        "data_copy = data.merge(\n",
        "    df[['address', 'admarea', 'district']],\n",
        "    how='left',\n",
        "    left_on='address',\n",
        "    right_on='address'\n",
        "    )"
      ]
    },
    {
      "cell_type": "code",
      "execution_count": 57,
      "metadata": {
        "colab": {
          "base_uri": "https://localhost:8080/"
        },
        "id": "6_nElPMnF03i",
        "outputId": "8348bd51-50cd-4e54-ac1b-1b0dae577e67"
      },
      "outputs": [
        {
          "output_type": "stream",
          "name": "stdout",
          "text": [
            "Количество строк в таблице: 16916\n",
            "Количество пропусков в колонке district: 12932\n",
            "Процент пропусков в колонке district: 76.45 %\n"
          ]
        }
      ],
      "source": [
        "print('Количество строк в таблице:', len(data_copy))\n",
        "\n",
        "print('Количество пропусков в колонке district:',\n",
        "      data_copy['district'].isna().sum())\n",
        "\n",
        "print('Процент пропусков в колонке district:',\n",
        "      round(data_copy['district'].isna().sum() / len(data_copy) * 100, 2), '%')"
      ]
    },
    {
      "cell_type": "markdown",
      "metadata": {
        "id": "Cx4U0B49HumB"
      },
      "source": [
        "Пропусков получилось много. Поскольку в процессе осуществления исследования доступ к порталу открытых данных Правительства Москвы отсутствовал, то будем работать с тем, что есть. Обращаем внимание, что из-за этого количество заведений по районам и округам будет меньше, чем по улицам. Таблицы с районами выводятся для понимания расположения улиц. В то же время, район для некоторых улиц не будет определен. "
      ]
    },
    {
      "cell_type": "code",
      "execution_count": 58,
      "metadata": {
        "colab": {
          "base_uri": "https://localhost:8080/",
          "height": 802
        },
        "id": "X8YkJo-JbdJL",
        "outputId": "cb7f6c6c-9a1a-4cf3-9f98-d3ae5604f43c"
      },
      "outputs": [
        {
          "output_type": "execute_result",
          "data": {
            "text/plain": [
              "                                                                                        id\n",
              "street         admarea                                 district                           \n",
              "Варшавское     Южный административный округ            Донской район                     4\n",
              "                                                       Нагорный район                    6\n",
              "                                                       район Чертаново Северное          8\n",
              "                                                       район Чертаново Центральное       1\n",
              "                                                       район Чертаново Южное             6\n",
              "Вернадского    Западный административный округ         район Тропарёво-Никулино          3\n",
              "Каширское      Южный административный округ            район Москворечье-Сабурово       36\n",
              "                                                       район Нагатино-Садовники          4\n",
              "                                                       район Орехово-Борисово Северное   6\n",
              "Кировоградская Южный административный округ            район Чертаново Северное         29\n",
              "                                                       район Чертаново Центральное       6\n",
              "Кутузовский    Западный административный округ         район Фили-Давыдково              2\n",
              "                                                       район Дорогомилово               54\n",
              "Ленинградский  Северный административный округ         район Аэропорт                   42\n",
              "                                                       район Беговой                    28\n",
              "Мира           Северо-Восточный административный округ Алексеевский район                3\n",
              "                                                       Останкинский район               12\n",
              "               Центральный административный округ      Мещанский район                   4\n",
              "Профсоюзная    Юго-Западный административный округ     Академический район              13\n",
              "                                                       Обручевский район                 1\n",
              "                                                       район Коньково                    4\n",
              "                                                       район Тёплый Стан                 1\n",
              "                                                       район Черёмушки                  31"
            ],
            "text/html": [
              "\n",
              "  <div id=\"df-e84cb372-10c0-4a67-9422-84bfb09c4d8b\">\n",
              "    <div class=\"colab-df-container\">\n",
              "      <div>\n",
              "<style scoped>\n",
              "    .dataframe tbody tr th:only-of-type {\n",
              "        vertical-align: middle;\n",
              "    }\n",
              "\n",
              "    .dataframe tbody tr th {\n",
              "        vertical-align: top;\n",
              "    }\n",
              "\n",
              "    .dataframe thead th {\n",
              "        text-align: right;\n",
              "    }\n",
              "</style>\n",
              "<table border=\"1\" class=\"dataframe\">\n",
              "  <thead>\n",
              "    <tr style=\"text-align: right;\">\n",
              "      <th></th>\n",
              "      <th></th>\n",
              "      <th></th>\n",
              "      <th>id</th>\n",
              "    </tr>\n",
              "    <tr>\n",
              "      <th>street</th>\n",
              "      <th>admarea</th>\n",
              "      <th>district</th>\n",
              "      <th></th>\n",
              "    </tr>\n",
              "  </thead>\n",
              "  <tbody>\n",
              "    <tr>\n",
              "      <th rowspan=\"5\" valign=\"top\">Варшавское</th>\n",
              "      <th rowspan=\"5\" valign=\"top\">Южный административный округ</th>\n",
              "      <th>Донской район</th>\n",
              "      <td>4</td>\n",
              "    </tr>\n",
              "    <tr>\n",
              "      <th>Нагорный район</th>\n",
              "      <td>6</td>\n",
              "    </tr>\n",
              "    <tr>\n",
              "      <th>район Чертаново Северное</th>\n",
              "      <td>8</td>\n",
              "    </tr>\n",
              "    <tr>\n",
              "      <th>район Чертаново Центральное</th>\n",
              "      <td>1</td>\n",
              "    </tr>\n",
              "    <tr>\n",
              "      <th>район Чертаново Южное</th>\n",
              "      <td>6</td>\n",
              "    </tr>\n",
              "    <tr>\n",
              "      <th>Вернадского</th>\n",
              "      <th>Западный административный округ</th>\n",
              "      <th>район Тропарёво-Никулино</th>\n",
              "      <td>3</td>\n",
              "    </tr>\n",
              "    <tr>\n",
              "      <th rowspan=\"3\" valign=\"top\">Каширское</th>\n",
              "      <th rowspan=\"3\" valign=\"top\">Южный административный округ</th>\n",
              "      <th>район Москворечье-Сабурово</th>\n",
              "      <td>36</td>\n",
              "    </tr>\n",
              "    <tr>\n",
              "      <th>район Нагатино-Садовники</th>\n",
              "      <td>4</td>\n",
              "    </tr>\n",
              "    <tr>\n",
              "      <th>район Орехово-Борисово Северное</th>\n",
              "      <td>6</td>\n",
              "    </tr>\n",
              "    <tr>\n",
              "      <th rowspan=\"2\" valign=\"top\">Кировоградская</th>\n",
              "      <th rowspan=\"2\" valign=\"top\">Южный административный округ</th>\n",
              "      <th>район Чертаново Северное</th>\n",
              "      <td>29</td>\n",
              "    </tr>\n",
              "    <tr>\n",
              "      <th>район Чертаново Центральное</th>\n",
              "      <td>6</td>\n",
              "    </tr>\n",
              "    <tr>\n",
              "      <th rowspan=\"2\" valign=\"top\">Кутузовский</th>\n",
              "      <th rowspan=\"2\" valign=\"top\">Западный административный округ</th>\n",
              "      <th>район Фили-Давыдково</th>\n",
              "      <td>2</td>\n",
              "    </tr>\n",
              "    <tr>\n",
              "      <th>район Дорогомилово</th>\n",
              "      <td>54</td>\n",
              "    </tr>\n",
              "    <tr>\n",
              "      <th rowspan=\"2\" valign=\"top\">Ленинградский</th>\n",
              "      <th rowspan=\"2\" valign=\"top\">Северный административный округ</th>\n",
              "      <th>район Аэропорт</th>\n",
              "      <td>42</td>\n",
              "    </tr>\n",
              "    <tr>\n",
              "      <th>район Беговой</th>\n",
              "      <td>28</td>\n",
              "    </tr>\n",
              "    <tr>\n",
              "      <th rowspan=\"3\" valign=\"top\">Мира</th>\n",
              "      <th rowspan=\"2\" valign=\"top\">Северо-Восточный административный округ</th>\n",
              "      <th>Алексеевский район</th>\n",
              "      <td>3</td>\n",
              "    </tr>\n",
              "    <tr>\n",
              "      <th>Останкинский район</th>\n",
              "      <td>12</td>\n",
              "    </tr>\n",
              "    <tr>\n",
              "      <th>Центральный административный округ</th>\n",
              "      <th>Мещанский район</th>\n",
              "      <td>4</td>\n",
              "    </tr>\n",
              "    <tr>\n",
              "      <th rowspan=\"5\" valign=\"top\">Профсоюзная</th>\n",
              "      <th rowspan=\"5\" valign=\"top\">Юго-Западный административный округ</th>\n",
              "      <th>Академический район</th>\n",
              "      <td>13</td>\n",
              "    </tr>\n",
              "    <tr>\n",
              "      <th>Обручевский район</th>\n",
              "      <td>1</td>\n",
              "    </tr>\n",
              "    <tr>\n",
              "      <th>район Коньково</th>\n",
              "      <td>4</td>\n",
              "    </tr>\n",
              "    <tr>\n",
              "      <th>район Тёплый Стан</th>\n",
              "      <td>1</td>\n",
              "    </tr>\n",
              "    <tr>\n",
              "      <th>район Черёмушки</th>\n",
              "      <td>31</td>\n",
              "    </tr>\n",
              "  </tbody>\n",
              "</table>\n",
              "</div>\n",
              "      <button class=\"colab-df-convert\" onclick=\"convertToInteractive('df-e84cb372-10c0-4a67-9422-84bfb09c4d8b')\"\n",
              "              title=\"Convert this dataframe to an interactive table.\"\n",
              "              style=\"display:none;\">\n",
              "        \n",
              "  <svg xmlns=\"http://www.w3.org/2000/svg\" height=\"24px\"viewBox=\"0 0 24 24\"\n",
              "       width=\"24px\">\n",
              "    <path d=\"M0 0h24v24H0V0z\" fill=\"none\"/>\n",
              "    <path d=\"M18.56 5.44l.94 2.06.94-2.06 2.06-.94-2.06-.94-.94-2.06-.94 2.06-2.06.94zm-11 1L8.5 8.5l.94-2.06 2.06-.94-2.06-.94L8.5 2.5l-.94 2.06-2.06.94zm10 10l.94 2.06.94-2.06 2.06-.94-2.06-.94-.94-2.06-.94 2.06-2.06.94z\"/><path d=\"M17.41 7.96l-1.37-1.37c-.4-.4-.92-.59-1.43-.59-.52 0-1.04.2-1.43.59L10.3 9.45l-7.72 7.72c-.78.78-.78 2.05 0 2.83L4 21.41c.39.39.9.59 1.41.59.51 0 1.02-.2 1.41-.59l7.78-7.78 2.81-2.81c.8-.78.8-2.07 0-2.86zM5.41 20L4 18.59l7.72-7.72 1.47 1.35L5.41 20z\"/>\n",
              "  </svg>\n",
              "      </button>\n",
              "      \n",
              "  <style>\n",
              "    .colab-df-container {\n",
              "      display:flex;\n",
              "      flex-wrap:wrap;\n",
              "      gap: 12px;\n",
              "    }\n",
              "\n",
              "    .colab-df-convert {\n",
              "      background-color: #E8F0FE;\n",
              "      border: none;\n",
              "      border-radius: 50%;\n",
              "      cursor: pointer;\n",
              "      display: none;\n",
              "      fill: #1967D2;\n",
              "      height: 32px;\n",
              "      padding: 0 0 0 0;\n",
              "      width: 32px;\n",
              "    }\n",
              "\n",
              "    .colab-df-convert:hover {\n",
              "      background-color: #E2EBFA;\n",
              "      box-shadow: 0px 1px 2px rgba(60, 64, 67, 0.3), 0px 1px 3px 1px rgba(60, 64, 67, 0.15);\n",
              "      fill: #174EA6;\n",
              "    }\n",
              "\n",
              "    [theme=dark] .colab-df-convert {\n",
              "      background-color: #3B4455;\n",
              "      fill: #D2E3FC;\n",
              "    }\n",
              "\n",
              "    [theme=dark] .colab-df-convert:hover {\n",
              "      background-color: #434B5C;\n",
              "      box-shadow: 0px 1px 3px 1px rgba(0, 0, 0, 0.15);\n",
              "      filter: drop-shadow(0px 1px 2px rgba(0, 0, 0, 0.3));\n",
              "      fill: #FFFFFF;\n",
              "    }\n",
              "  </style>\n",
              "\n",
              "      <script>\n",
              "        const buttonEl =\n",
              "          document.querySelector('#df-e84cb372-10c0-4a67-9422-84bfb09c4d8b button.colab-df-convert');\n",
              "        buttonEl.style.display =\n",
              "          google.colab.kernel.accessAllowed ? 'block' : 'none';\n",
              "\n",
              "        async function convertToInteractive(key) {\n",
              "          const element = document.querySelector('#df-e84cb372-10c0-4a67-9422-84bfb09c4d8b');\n",
              "          const dataTable =\n",
              "            await google.colab.kernel.invokeFunction('convertToInteractive',\n",
              "                                                     [key], {});\n",
              "          if (!dataTable) return;\n",
              "\n",
              "          const docLinkHtml = 'Like what you see? Visit the ' +\n",
              "            '<a target=\"_blank\" href=https://colab.research.google.com/notebooks/data_table.ipynb>data table notebook</a>'\n",
              "            + ' to learn more about interactive tables.';\n",
              "          element.innerHTML = '';\n",
              "          dataTable['output_type'] = 'display_data';\n",
              "          await google.colab.output.renderOutput(dataTable, element);\n",
              "          const docLink = document.createElement('div');\n",
              "          docLink.innerHTML = docLinkHtml;\n",
              "          element.appendChild(docLink);\n",
              "        }\n",
              "      </script>\n",
              "    </div>\n",
              "  </div>\n",
              "  "
            ]
          },
          "metadata": {},
          "execution_count": 58
        }
      ],
      "source": [
        "# отобразим сводную таблицу, в которой для каждой улицы из топ-10 будет указан\n",
        "# административные округа и районы, которые пересекает улица;\n",
        "# отсортируем таблицу в алфавитном порядке наименования улиц;\n",
        "\n",
        "(\n",
        "    data_copy.query('street in @street_gr_top.index')\n",
        "    .pivot_table(\n",
        "        index=['street', 'admarea', 'district'],\n",
        "        values='id',\n",
        "        aggfunc='count')\n",
        "    .sort_values(by='street')\n",
        ")"
      ]
    },
    {
      "cell_type": "markdown",
      "metadata": {
        "id": "S81jN5-hEwAE"
      },
      "source": [
        "Разберем каждую улицу и район.\n",
        "1. **Проспект Мира** примыкает к центру Москвы. На нем расположены Рижский вокзал и ВДНХ, вдоль проспекта проходит Калужско-Рижская линия метро. **204 объекта**;\n",
        "2. **Профсоюзная улица** также примыкает к центру и вдоль нее проходит Калужско-Рижская линия метро. Улица расположена параллельно проспекту Вернадского и Ленинской улице. **183 объекта**;\n",
        "3. **Ленинградский проспект** примыкает к центру Москвы. В начале проспекта расположен Белорусский вокзал, а вдоль него проходит Замоскворецкая линия метро. **173 объекта**;\n",
        "4. **Пресненская набережная** - небольшая улица вдоль Москвы-реки, с одной стороны, и Москва-Сити с другой. Рядом проходят линии метро Филёвская и Московское центральное кольцо. **167 объектов**;\n",
        "5. **Варшавское шоссе** - магистральная улица, проходящая от Большой Тульской улицы до южной границы города. Протяженность 22.5 км. **162 объекта**;\n",
        "6. **Ленинский проспект** начинается от центральной части Москвы и расположена параллельно проспекту Вернадского и Профсоюзной улице. **148 объектов**;\n",
        "7. **Проспект Вернадского** начинается от Воробьевых гор и расположен параллено Профсоюзной улице и Ленинскому проспекту. Вдоль проспекта проходит Сокольничская линия метро. Также проспет пересекают Университетский и Ломоносовский проспекты, между которыми расположено МГУ. **132 объекта**;\n",
        "8. **Кутузовский проспект** начинается от Абрата и располагается параллельно Пресненской набережной. На проспекте находится Поклонная гора, а вдоль него проходит Арбатско-Покровская линия метро. **114 объектов**;\n",
        "9. **Каширское шоссе** ответвляется от Варшавского шоссе на границе районов Нагатино-Садовники и Нагорный и заканчивается МКАДом. Вдоль шоссе расположены парковые зоны. Шоссе дважды пересекает замоскворецкую линию метро на станциях Каширская и Домодедовская. **112 объектов**;\n",
        "10. **Кировоградская улица** проходит вдоль Серпуховско-Тимирязевской линии метро, параллельная Варшавскому шоссе и пересекающая всё Чертаново. Улица имеет не большую протяженность в 4.2 км, но на най располагается сразу два торговых центра. **110 объектов**;"
      ]
    },
    {
      "cell_type": "markdown",
      "metadata": {
        "id": "XG1x2TvpKaB1"
      },
      "source": [
        "**Вывод**\n",
        "\n",
        "Таким образом, наибольшее количество заведений располагается:\n",
        "    \n",
        "    \n",
        "* на пересечении Центрального и Северо-Восточного административных округов и сам Северо-восточный округ, вдоль которого проходит проспект Мира;\n",
        "    \n",
        "    \n",
        "* на пересечении Юго-Западно и Западного административных округов Москвы, т.к. здесь расположены Профсоюзная улица, Ленинский проспект и проспект Вернадского;\n",
        "    \n",
        "    \n",
        "* в Северном административном округе, где находится Ленинградский проспект;\n",
        "    \n",
        "    \n",
        "* на пересечении Западного и Центрального админитративных округов, т. к. там находятся Кутузовский проспект и Пресненская набережная;\n",
        "    \n",
        "    \n",
        "* на пересечении Центрального и Южного административных округов и сам Южный округ, вдоль которых проходят Кировоградская улица, Каширское шоссе, а также Варшавское шоссе, которое продолжается в Подольске и далее в юго-западном направлении."
      ]
    },
    {
      "cell_type": "markdown",
      "metadata": {
        "id": "1dSttmDoxRCV"
      },
      "source": [
        "Посмотрим на улицы, где находится только одно заведение общественного питания."
      ]
    },
    {
      "cell_type": "code",
      "execution_count": 59,
      "metadata": {
        "colab": {
          "base_uri": "https://localhost:8080/"
        },
        "id": "YIPktHe4V_9_",
        "outputId": "42598de8-4ef3-47b9-d81f-e776165f1940"
      },
      "outputs": [
        {
          "output_type": "execute_result",
          "data": {
            "text/plain": [
              "id    631\n",
              "dtype: int64"
            ]
          },
          "metadata": {},
          "execution_count": 59
        }
      ],
      "source": [
        "street_gr.query('id == 1').count() # посчитаем их количество"
      ]
    },
    {
      "cell_type": "code",
      "execution_count": 60,
      "metadata": {
        "colab": {
          "base_uri": "https://localhost:8080/",
          "height": 708
        },
        "id": "q8R2PzDqO9tC",
        "outputId": "343bbd98-7d5d-4ca7-fa5e-107f0975eaab"
      },
      "outputs": [
        {
          "output_type": "execute_result",
          "data": {
            "text/plain": [
              "                                                                                     id\n",
              "street            admarea                                 district                     \n",
              "Сретенский тупик  Центральный административный округ      Красносельский район        1\n",
              "Столовый          Центральный административный округ      Пресненский район           1\n",
              "Стрелецкая        Северо-Восточный административный округ район Марьина Роща          1\n",
              "Таможенный        Юго-Восточный административный округ    район Лефортово             1\n",
              "Татарская         Центральный административный округ      район Замоскворечье         1\n",
              "Ткацкая           Восточный административный округ        район Соколиная Гора        1\n",
              "Троилинский       Центральный административный округ      район Арбат                 1\n",
              "Трубниковский     Центральный административный округ      район Арбат                 1\n",
              "Фадеева           Центральный административный округ      Тверской район              1\n",
              "Федеративный      Восточный административный округ        район Перово                1\n",
              "Филипповский      Центральный административный округ      район Арбат                 1\n",
              "Фридриха Энгельса Центральный административный округ      Басманный район             1\n",
              "Фролов            Центральный административный округ      Красносельский район        1\n",
              "Химкинский        Северо-Западный административный округ  район Южное Тушино          1\n",
              "Хлебозаводский    Южный административный округ            район Нагатино-Садовники    1\n",
              "Хохловский        Центральный административный округ      Басманный район             1\n",
              "Широкая           Северо-Восточный административный округ район Северное Медведково   1\n",
              "Щипок             Центральный административный округ      район Замоскворечье         1\n",
              "Энергетическая    Юго-Восточный административный округ    район Лефортово             1\n",
              "Энтузиастов       Юго-Восточный административный округ    район Лефортово             1"
            ],
            "text/html": [
              "\n",
              "  <div id=\"df-a2f63331-1433-47f8-b6bb-447cd4f089a7\">\n",
              "    <div class=\"colab-df-container\">\n",
              "      <div>\n",
              "<style scoped>\n",
              "    .dataframe tbody tr th:only-of-type {\n",
              "        vertical-align: middle;\n",
              "    }\n",
              "\n",
              "    .dataframe tbody tr th {\n",
              "        vertical-align: top;\n",
              "    }\n",
              "\n",
              "    .dataframe thead th {\n",
              "        text-align: right;\n",
              "    }\n",
              "</style>\n",
              "<table border=\"1\" class=\"dataframe\">\n",
              "  <thead>\n",
              "    <tr style=\"text-align: right;\">\n",
              "      <th></th>\n",
              "      <th></th>\n",
              "      <th></th>\n",
              "      <th>id</th>\n",
              "    </tr>\n",
              "    <tr>\n",
              "      <th>street</th>\n",
              "      <th>admarea</th>\n",
              "      <th>district</th>\n",
              "      <th></th>\n",
              "    </tr>\n",
              "  </thead>\n",
              "  <tbody>\n",
              "    <tr>\n",
              "      <th>Сретенский тупик</th>\n",
              "      <th>Центральный административный округ</th>\n",
              "      <th>Красносельский район</th>\n",
              "      <td>1</td>\n",
              "    </tr>\n",
              "    <tr>\n",
              "      <th>Столовый</th>\n",
              "      <th>Центральный административный округ</th>\n",
              "      <th>Пресненский район</th>\n",
              "      <td>1</td>\n",
              "    </tr>\n",
              "    <tr>\n",
              "      <th>Стрелецкая</th>\n",
              "      <th>Северо-Восточный административный округ</th>\n",
              "      <th>район Марьина Роща</th>\n",
              "      <td>1</td>\n",
              "    </tr>\n",
              "    <tr>\n",
              "      <th>Таможенный</th>\n",
              "      <th>Юго-Восточный административный округ</th>\n",
              "      <th>район Лефортово</th>\n",
              "      <td>1</td>\n",
              "    </tr>\n",
              "    <tr>\n",
              "      <th>Татарская</th>\n",
              "      <th>Центральный административный округ</th>\n",
              "      <th>район Замоскворечье</th>\n",
              "      <td>1</td>\n",
              "    </tr>\n",
              "    <tr>\n",
              "      <th>Ткацкая</th>\n",
              "      <th>Восточный административный округ</th>\n",
              "      <th>район Соколиная Гора</th>\n",
              "      <td>1</td>\n",
              "    </tr>\n",
              "    <tr>\n",
              "      <th>Троилинский</th>\n",
              "      <th>Центральный административный округ</th>\n",
              "      <th>район Арбат</th>\n",
              "      <td>1</td>\n",
              "    </tr>\n",
              "    <tr>\n",
              "      <th>Трубниковский</th>\n",
              "      <th>Центральный административный округ</th>\n",
              "      <th>район Арбат</th>\n",
              "      <td>1</td>\n",
              "    </tr>\n",
              "    <tr>\n",
              "      <th>Фадеева</th>\n",
              "      <th>Центральный административный округ</th>\n",
              "      <th>Тверской район</th>\n",
              "      <td>1</td>\n",
              "    </tr>\n",
              "    <tr>\n",
              "      <th>Федеративный</th>\n",
              "      <th>Восточный административный округ</th>\n",
              "      <th>район Перово</th>\n",
              "      <td>1</td>\n",
              "    </tr>\n",
              "    <tr>\n",
              "      <th>Филипповский</th>\n",
              "      <th>Центральный административный округ</th>\n",
              "      <th>район Арбат</th>\n",
              "      <td>1</td>\n",
              "    </tr>\n",
              "    <tr>\n",
              "      <th>Фридриха Энгельса</th>\n",
              "      <th>Центральный административный округ</th>\n",
              "      <th>Басманный район</th>\n",
              "      <td>1</td>\n",
              "    </tr>\n",
              "    <tr>\n",
              "      <th>Фролов</th>\n",
              "      <th>Центральный административный округ</th>\n",
              "      <th>Красносельский район</th>\n",
              "      <td>1</td>\n",
              "    </tr>\n",
              "    <tr>\n",
              "      <th>Химкинский</th>\n",
              "      <th>Северо-Западный административный округ</th>\n",
              "      <th>район Южное Тушино</th>\n",
              "      <td>1</td>\n",
              "    </tr>\n",
              "    <tr>\n",
              "      <th>Хлебозаводский</th>\n",
              "      <th>Южный административный округ</th>\n",
              "      <th>район Нагатино-Садовники</th>\n",
              "      <td>1</td>\n",
              "    </tr>\n",
              "    <tr>\n",
              "      <th>Хохловский</th>\n",
              "      <th>Центральный административный округ</th>\n",
              "      <th>Басманный район</th>\n",
              "      <td>1</td>\n",
              "    </tr>\n",
              "    <tr>\n",
              "      <th>Широкая</th>\n",
              "      <th>Северо-Восточный административный округ</th>\n",
              "      <th>район Северное Медведково</th>\n",
              "      <td>1</td>\n",
              "    </tr>\n",
              "    <tr>\n",
              "      <th>Щипок</th>\n",
              "      <th>Центральный административный округ</th>\n",
              "      <th>район Замоскворечье</th>\n",
              "      <td>1</td>\n",
              "    </tr>\n",
              "    <tr>\n",
              "      <th>Энергетическая</th>\n",
              "      <th>Юго-Восточный административный округ</th>\n",
              "      <th>район Лефортово</th>\n",
              "      <td>1</td>\n",
              "    </tr>\n",
              "    <tr>\n",
              "      <th>Энтузиастов</th>\n",
              "      <th>Юго-Восточный административный округ</th>\n",
              "      <th>район Лефортово</th>\n",
              "      <td>1</td>\n",
              "    </tr>\n",
              "  </tbody>\n",
              "</table>\n",
              "</div>\n",
              "      <button class=\"colab-df-convert\" onclick=\"convertToInteractive('df-a2f63331-1433-47f8-b6bb-447cd4f089a7')\"\n",
              "              title=\"Convert this dataframe to an interactive table.\"\n",
              "              style=\"display:none;\">\n",
              "        \n",
              "  <svg xmlns=\"http://www.w3.org/2000/svg\" height=\"24px\"viewBox=\"0 0 24 24\"\n",
              "       width=\"24px\">\n",
              "    <path d=\"M0 0h24v24H0V0z\" fill=\"none\"/>\n",
              "    <path d=\"M18.56 5.44l.94 2.06.94-2.06 2.06-.94-2.06-.94-.94-2.06-.94 2.06-2.06.94zm-11 1L8.5 8.5l.94-2.06 2.06-.94-2.06-.94L8.5 2.5l-.94 2.06-2.06.94zm10 10l.94 2.06.94-2.06 2.06-.94-2.06-.94-.94-2.06-.94 2.06-2.06.94z\"/><path d=\"M17.41 7.96l-1.37-1.37c-.4-.4-.92-.59-1.43-.59-.52 0-1.04.2-1.43.59L10.3 9.45l-7.72 7.72c-.78.78-.78 2.05 0 2.83L4 21.41c.39.39.9.59 1.41.59.51 0 1.02-.2 1.41-.59l7.78-7.78 2.81-2.81c.8-.78.8-2.07 0-2.86zM5.41 20L4 18.59l7.72-7.72 1.47 1.35L5.41 20z\"/>\n",
              "  </svg>\n",
              "      </button>\n",
              "      \n",
              "  <style>\n",
              "    .colab-df-container {\n",
              "      display:flex;\n",
              "      flex-wrap:wrap;\n",
              "      gap: 12px;\n",
              "    }\n",
              "\n",
              "    .colab-df-convert {\n",
              "      background-color: #E8F0FE;\n",
              "      border: none;\n",
              "      border-radius: 50%;\n",
              "      cursor: pointer;\n",
              "      display: none;\n",
              "      fill: #1967D2;\n",
              "      height: 32px;\n",
              "      padding: 0 0 0 0;\n",
              "      width: 32px;\n",
              "    }\n",
              "\n",
              "    .colab-df-convert:hover {\n",
              "      background-color: #E2EBFA;\n",
              "      box-shadow: 0px 1px 2px rgba(60, 64, 67, 0.3), 0px 1px 3px 1px rgba(60, 64, 67, 0.15);\n",
              "      fill: #174EA6;\n",
              "    }\n",
              "\n",
              "    [theme=dark] .colab-df-convert {\n",
              "      background-color: #3B4455;\n",
              "      fill: #D2E3FC;\n",
              "    }\n",
              "\n",
              "    [theme=dark] .colab-df-convert:hover {\n",
              "      background-color: #434B5C;\n",
              "      box-shadow: 0px 1px 3px 1px rgba(0, 0, 0, 0.15);\n",
              "      filter: drop-shadow(0px 1px 2px rgba(0, 0, 0, 0.3));\n",
              "      fill: #FFFFFF;\n",
              "    }\n",
              "  </style>\n",
              "\n",
              "      <script>\n",
              "        const buttonEl =\n",
              "          document.querySelector('#df-a2f63331-1433-47f8-b6bb-447cd4f089a7 button.colab-df-convert');\n",
              "        buttonEl.style.display =\n",
              "          google.colab.kernel.accessAllowed ? 'block' : 'none';\n",
              "\n",
              "        async function convertToInteractive(key) {\n",
              "          const element = document.querySelector('#df-a2f63331-1433-47f8-b6bb-447cd4f089a7');\n",
              "          const dataTable =\n",
              "            await google.colab.kernel.invokeFunction('convertToInteractive',\n",
              "                                                     [key], {});\n",
              "          if (!dataTable) return;\n",
              "\n",
              "          const docLinkHtml = 'Like what you see? Visit the ' +\n",
              "            '<a target=\"_blank\" href=https://colab.research.google.com/notebooks/data_table.ipynb>data table notebook</a>'\n",
              "            + ' to learn more about interactive tables.';\n",
              "          element.innerHTML = '';\n",
              "          dataTable['output_type'] = 'display_data';\n",
              "          await google.colab.output.renderOutput(dataTable, element);\n",
              "          const docLink = document.createElement('div');\n",
              "          docLink.innerHTML = docLinkHtml;\n",
              "          element.appendChild(docLink);\n",
              "        }\n",
              "      </script>\n",
              "    </div>\n",
              "  </div>\n",
              "  "
            ]
          },
          "metadata": {},
          "execution_count": 60
        }
      ],
      "source": [
        "# посмотрим на 20 из них\n",
        "\n",
        "data_copy.pivot_table(\n",
        "    index=['street', 'admarea', 'district'],\n",
        "    values='id',\n",
        "    aggfunc='count'\n",
        "    ).query('id == 1').tail(20)"
      ]
    },
    {
      "cell_type": "markdown",
      "metadata": {
        "id": "3ClCZAQ2yqhG"
      },
      "source": [
        "**Вывод**\n",
        "\n",
        "В таблице отмечено 633 улицы Москвы, на которых расположен только один объект. Основная характеристика таких улиц, что они не длинные либо это не улицы, а переулки.\n",
        "\n",
        "Можно выделить две группы по расположению таких улиц:\n",
        "\n",
        "1. Улицы, расположеные в спальных районах, жилищных комплексах за пределами Третьего транспортного кольца, где нет какого-либо торгового центра или зоны отдыха. Например, Химкинский бульвар, Широкая и Энергетическая улица.\n",
        "\n",
        "\n",
        "2. Короткие улицы и переулки, которые находятся в самом центре Москвы. Например, 1-й и 5-й Монетчиковские переулки, которые находятся в самом центре Замоскворечья. В этом месте сконцентрировано большое количество исторических зданий, а протяженность переулков всего 1-2 дома. То же самое с Филипповским переулком, который находится в Арбате. Его протяженнсть больше, но здесь расположены другие общественные объекты."
      ]
    },
    {
      "cell_type": "markdown",
      "metadata": {
        "id": "DZ0pX5k8K0wU"
      },
      "source": [
        "Теперь посмотрим, какое количество посадочных мест характерно для каждой улицы из топ-10.\n",
        "\n",
        "Для этого сгруппируем график, посчитаем медианное значение дя каждой улицы и построим график."
      ]
    },
    {
      "cell_type": "code",
      "execution_count": 61,
      "metadata": {
        "id": "L1no8ihq12eP"
      },
      "outputs": [],
      "source": [
        "streets_top_gr = (\n",
        "    data.query('street in @street_gr_top.index')\n",
        "    .groupby('street')\n",
        "    .agg({'number_of_seats' : 'median'})\n",
        "    .sort_values(by='number_of_seats', ascending=False)\n",
        ")\n",
        "\n",
        "streets_top_gr['number_of_seats'] = (\n",
        "    streets_top_gr['number_of_seats'].astype('int')\n",
        ")"
      ]
    },
    {
      "cell_type": "code",
      "execution_count": 62,
      "metadata": {
        "colab": {
          "base_uri": "https://localhost:8080/",
          "height": 552
        },
        "id": "GJt5e-FQ2K-t",
        "outputId": "bdadecf0-09ea-4432-dc50-c90a8e3d5491"
      },
      "outputs": [
        {
          "output_type": "display_data",
          "data": {
            "text/plain": [
              "<Figure size 1080x504 with 1 Axes>"
            ],
            "image/png": "[encoded data removed]"
          },
          "metadata": {
            "needs_background": "light"
          }
        }
      ],
      "source": [
        "plt.figure(figsize=(15, 7))\n",
        "plt.grid()\n",
        "\n",
        "sns.barplot(\n",
        "    x=streets_top_gr.index,\n",
        "    y='number_of_seats',\n",
        "    data=streets_top_gr,\n",
        "    color='#4C78A8'\n",
        "    ) \n",
        "\n",
        "plt.xlabel('Нименование улицы или района')\n",
        "plt.xticks(rotation=45)\n",
        "plt.ylabel('Медианное количество посадочных мест')\n",
        "plt.title('Медианное количество посадочных мест заведений по улицам и районам')\n",
        "\n",
        "\n",
        "plt.show()"
      ]
    },
    {
      "cell_type": "markdown",
      "metadata": {
        "id": "wtBW0T9JLKGh"
      },
      "source": [
        "На мой взгляд, нельзя рассматривать количество посадочных мест, не обращая внимание на виды заведений, которые расположены в этих районах, поскольку ранее было определено, что для определенных видов заведений характерно определенное количество посадочных мест.\n",
        "\n",
        "Сгруппируем данные таким образом, чтобы посчитать количество заведений определенного ида для каждого района, пропуски заполним нулями. Построим график."
      ]
    },
    {
      "cell_type": "code",
      "execution_count": 63,
      "metadata": {
        "id": "xka9-hd76h_6"
      },
      "outputs": [],
      "source": [
        "street_type = (\n",
        "    data.query('street in @street_gr_top.index')\n",
        "    .pivot_table(\n",
        "        index='street',\n",
        "        columns='object_type',\n",
        "        values='id',\n",
        "        aggfunc='count'\n",
        "        ).fillna(0).astype('int')\n",
        ")"
      ]
    },
    {
      "cell_type": "code",
      "execution_count": 64,
      "metadata": {
        "colab": {
          "base_uri": "https://localhost:8080/",
          "height": 542
        },
        "id": "zt8g1c5n9rpM",
        "outputId": "89ca5707-096c-4140-b937-f05ffa4c0c8d"
      },
      "outputs": [
        {
          "output_type": "display_data",
          "data": {
            "text/html": [
              "<html>\n",
              "<head><meta charset=\"utf-8\" /></head>\n",
              "<body>\n",
              "    <div>            <script src=\"https://cdnjs.cloudflare.com/ajax/libs/mathjax/2.7.5/MathJax.js?config=TeX-AMS-MML_SVG\"></script><script type=\"text/javascript\">if (window.MathJax) {MathJax.Hub.Config({SVG: {font: \"STIX-Web\"}});}</script>                <script type=\"text/javascript\">window.PlotlyConfig = {MathJaxConfig: 'local'};</script>\n",
              "        <script src=\"https://cdn.plot.ly/plotly-2.8.3.min.js\"></script>                <div id=\"01141b47-c3c4-472b-92c4-07e4c83a0d6e\" class=\"plotly-graph-div\" style=\"height:525px; width:100%;\"></div>            <script type=\"text/javascript\">                                    window.PLOTLYENV=window.PLOTLYENV || {};                                    if (document.getElementById(\"01141b47-c3c4-472b-92c4-07e4c83a0d6e\")) {                    Plotly.newPlot(                        \"01141b47-c3c4-472b-92c4-07e4c83a0d6e\",                        [{\"alignmentgroup\":\"True\",\"hovertemplate\":\"\\u0412\\u0438\\u0434 \\u0437\\u0430\\u0432\\u0435\\u0434\\u0435\\u043d\\u0438\\u044f=\\u0431\\u0430\\u0440<br>\\u041d\\u0430\\u0438\\u043c\\u0435\\u043d\\u043e\\u0432\\u0430\\u043d\\u0438\\u0435 \\u0443\\u043b\\u0438\\u0446\\u044b=%{x}<br>\\u041a\\u043e\\u043b\\u0438\\u0447\\u0435\\u0441\\u0442\\u0432\\u043e \\u0437\\u0430\\u0432\\u0435\\u0434\\u0435\\u043d\\u0438\\u0439=%{y}<extra></extra>\",\"legendgroup\":\"\\u0431\\u0430\\u0440\",\"marker\":{\"color\":\"#4C78A8\",\"pattern\":{\"shape\":\"\"}},\"name\":\"\\u0431\\u0430\\u0440\",\"offsetgroup\":\"\\u0431\\u0430\\u0440\",\"orientation\":\"v\",\"showlegend\":true,\"textposition\":\"auto\",\"x\":[\"\\u0412\\u0430\\u0440\\u0448\\u0430\\u0432\\u0441\\u043a\\u043e\\u0435\",\"\\u0412\\u0435\\u0440\\u043d\\u0430\\u0434\\u0441\\u043a\\u043e\\u0433\\u043e\",\"\\u041a\\u0430\\u0448\\u0438\\u0440\\u0441\\u043a\\u043e\\u0435\",\"\\u041a\\u0438\\u0440\\u043e\\u0432\\u043e\\u0433\\u0440\\u0430\\u0434\\u0441\\u043a\\u0430\\u044f\",\"\\u041a\\u0443\\u0442\\u0443\\u0437\\u043e\\u0432\\u0441\\u043a\\u0438\\u0439\",\"\\u041b\\u0435\\u043d\\u0438\\u043d\\u0433\\u0440\\u0430\\u0434\\u0441\\u043a\\u0438\\u0439\",\"\\u041b\\u0435\\u043d\\u0438\\u043d\\u0441\\u043a\\u0438\\u0439\",\"\\u041c\\u0438\\u0440\\u0430\",\"\\u041f\\u0440\\u0435\\u0441\\u043d\\u0435\\u043d\\u0441\\u043a\\u0430\\u044f \\u043d\\u0430\\u0431\\u0435\\u0440\\u0435\\u0436\\u043d\\u0430\\u044f\",\"\\u041f\\u0440\\u043e\\u0444\\u0441\\u043e\\u044e\\u0437\\u043d\\u0430\\u044f\"],\"xaxis\":\"x\",\"y\":[6,4,2,4,6,10,6,15,5,5],\"yaxis\":\"y\",\"type\":\"bar\"},{\"alignmentgroup\":\"True\",\"hovertemplate\":\"\\u0412\\u0438\\u0434 \\u0437\\u0430\\u0432\\u0435\\u0434\\u0435\\u043d\\u0438\\u044f=\\u0431\\u0443\\u0444\\u0435\\u0442<br>\\u041d\\u0430\\u0438\\u043c\\u0435\\u043d\\u043e\\u0432\\u0430\\u043d\\u0438\\u0435 \\u0443\\u043b\\u0438\\u0446\\u044b=%{x}<br>\\u041a\\u043e\\u043b\\u0438\\u0447\\u0435\\u0441\\u0442\\u0432\\u043e \\u0437\\u0430\\u0432\\u0435\\u0434\\u0435\\u043d\\u0438\\u0439=%{y}<extra></extra>\",\"legendgroup\":\"\\u0431\\u0443\\u0444\\u0435\\u0442\",\"marker\":{\"color\":\"#F58518\",\"pattern\":{\"shape\":\"\"}},\"name\":\"\\u0431\\u0443\\u0444\\u0435\\u0442\",\"offsetgroup\":\"\\u0431\\u0443\\u0444\\u0435\\u0442\",\"orientation\":\"v\",\"showlegend\":true,\"textposition\":\"auto\",\"x\":[\"\\u0412\\u0430\\u0440\\u0448\\u0430\\u0432\\u0441\\u043a\\u043e\\u0435\",\"\\u0412\\u0435\\u0440\\u043d\\u0430\\u0434\\u0441\\u043a\\u043e\\u0433\\u043e\",\"\\u041a\\u0430\\u0448\\u0438\\u0440\\u0441\\u043a\\u043e\\u0435\",\"\\u041a\\u0438\\u0440\\u043e\\u0432\\u043e\\u0433\\u0440\\u0430\\u0434\\u0441\\u043a\\u0430\\u044f\",\"\\u041a\\u0443\\u0442\\u0443\\u0437\\u043e\\u0432\\u0441\\u043a\\u0438\\u0439\",\"\\u041b\\u0435\\u043d\\u0438\\u043d\\u0433\\u0440\\u0430\\u0434\\u0441\\u043a\\u0438\\u0439\",\"\\u041b\\u0435\\u043d\\u0438\\u043d\\u0441\\u043a\\u0438\\u0439\",\"\\u041c\\u0438\\u0440\\u0430\",\"\\u041f\\u0440\\u0435\\u0441\\u043d\\u0435\\u043d\\u0441\\u043a\\u0430\\u044f \\u043d\\u0430\\u0431\\u0435\\u0440\\u0435\\u0436\\u043d\\u0430\\u044f\",\"\\u041f\\u0440\\u043e\\u0444\\u0441\\u043e\\u044e\\u0437\\u043d\\u0430\\u044f\"],\"xaxis\":\"x\",\"y\":[6,5,3,1,1,6,2,3,1,5],\"yaxis\":\"y\",\"type\":\"bar\"},{\"alignmentgroup\":\"True\",\"hovertemplate\":\"\\u0412\\u0438\\u0434 \\u0437\\u0430\\u0432\\u0435\\u0434\\u0435\\u043d\\u0438\\u044f=\\u0437\\u0430\\u043a\\u0443\\u0441\\u043e\\u0447\\u043d\\u0430\\u044f<br>\\u041d\\u0430\\u0438\\u043c\\u0435\\u043d\\u043e\\u0432\\u0430\\u043d\\u0438\\u0435 \\u0443\\u043b\\u0438\\u0446\\u044b=%{x}<br>\\u041a\\u043e\\u043b\\u0438\\u0447\\u0435\\u0441\\u0442\\u0432\\u043e \\u0437\\u0430\\u0432\\u0435\\u0434\\u0435\\u043d\\u0438\\u0439=%{y}<extra></extra>\",\"legendgroup\":\"\\u0437\\u0430\\u043a\\u0443\\u0441\\u043e\\u0447\\u043d\\u0430\\u044f\",\"marker\":{\"color\":\"#E45756\",\"pattern\":{\"shape\":\"\"}},\"name\":\"\\u0437\\u0430\\u043a\\u0443\\u0441\\u043e\\u0447\\u043d\\u0430\\u044f\",\"offsetgroup\":\"\\u0437\\u0430\\u043a\\u0443\\u0441\\u043e\\u0447\\u043d\\u0430\\u044f\",\"orientation\":\"v\",\"showlegend\":true,\"textposition\":\"auto\",\"x\":[\"\\u0412\\u0430\\u0440\\u0448\\u0430\\u0432\\u0441\\u043a\\u043e\\u0435\",\"\\u0412\\u0435\\u0440\\u043d\\u0430\\u0434\\u0441\\u043a\\u043e\\u0433\\u043e\",\"\\u041a\\u0430\\u0448\\u0438\\u0440\\u0441\\u043a\\u043e\\u0435\",\"\\u041a\\u0438\\u0440\\u043e\\u0432\\u043e\\u0433\\u0440\\u0430\\u0434\\u0441\\u043a\\u0430\\u044f\",\"\\u041a\\u0443\\u0442\\u0443\\u0437\\u043e\\u0432\\u0441\\u043a\\u0438\\u0439\",\"\\u041b\\u0435\\u043d\\u0438\\u043d\\u0433\\u0440\\u0430\\u0434\\u0441\\u043a\\u0438\\u0439\",\"\\u041b\\u0435\\u043d\\u0438\\u043d\\u0441\\u043a\\u0438\\u0439\",\"\\u041c\\u0438\\u0440\\u0430\",\"\\u041f\\u0440\\u0435\\u0441\\u043d\\u0435\\u043d\\u0441\\u043a\\u0430\\u044f \\u043d\\u0430\\u0431\\u0435\\u0440\\u0435\\u0436\\u043d\\u0430\\u044f\",\"\\u041f\\u0440\\u043e\\u0444\\u0441\\u043e\\u044e\\u0437\\u043d\\u0430\\u044f\"],\"xaxis\":\"x\",\"y\":[2,2,0,4,2,0,1,4,0,2],\"yaxis\":\"y\",\"type\":\"bar\"},{\"alignmentgroup\":\"True\",\"hovertemplate\":\"\\u0412\\u0438\\u0434 \\u0437\\u0430\\u0432\\u0435\\u0434\\u0435\\u043d\\u0438\\u044f=\\u043a\\u0430\\u0444\\u0435<br>\\u041d\\u0430\\u0438\\u043c\\u0435\\u043d\\u043e\\u0432\\u0430\\u043d\\u0438\\u0435 \\u0443\\u043b\\u0438\\u0446\\u044b=%{x}<br>\\u041a\\u043e\\u043b\\u0438\\u0447\\u0435\\u0441\\u0442\\u0432\\u043e \\u0437\\u0430\\u0432\\u0435\\u0434\\u0435\\u043d\\u0438\\u0439=%{y}<extra></extra>\",\"legendgroup\":\"\\u043a\\u0430\\u0444\\u0435\",\"marker\":{\"color\":\"#72B7B2\",\"pattern\":{\"shape\":\"\"}},\"name\":\"\\u043a\\u0430\\u0444\\u0435\",\"offsetgroup\":\"\\u043a\\u0430\\u0444\\u0435\",\"orientation\":\"v\",\"showlegend\":true,\"textposition\":\"auto\",\"x\":[\"\\u0412\\u0430\\u0440\\u0448\\u0430\\u0432\\u0441\\u043a\\u043e\\u0435\",\"\\u0412\\u0435\\u0440\\u043d\\u0430\\u0434\\u0441\\u043a\\u043e\\u0433\\u043e\",\"\\u041a\\u0430\\u0448\\u0438\\u0440\\u0441\\u043a\\u043e\\u0435\",\"\\u041a\\u0438\\u0440\\u043e\\u0432\\u043e\\u0433\\u0440\\u0430\\u0434\\u0441\\u043a\\u0430\\u044f\",\"\\u041a\\u0443\\u0442\\u0443\\u0437\\u043e\\u0432\\u0441\\u043a\\u0438\\u0439\",\"\\u041b\\u0435\\u043d\\u0438\\u043d\\u0433\\u0440\\u0430\\u0434\\u0441\\u043a\\u0438\\u0439\",\"\\u041b\\u0435\\u043d\\u0438\\u043d\\u0441\\u043a\\u0438\\u0439\",\"\\u041c\\u0438\\u0440\\u0430\",\"\\u041f\\u0440\\u0435\\u0441\\u043d\\u0435\\u043d\\u0441\\u043a\\u0430\\u044f \\u043d\\u0430\\u0431\\u0435\\u0440\\u0435\\u0436\\u043d\\u0430\\u044f\",\"\\u041f\\u0440\\u043e\\u0444\\u0441\\u043e\\u044e\\u0437\\u043d\\u0430\\u044f\"],\"xaxis\":\"x\",\"y\":[63,56,30,17,41,70,64,103,98,90],\"yaxis\":\"y\",\"type\":\"bar\"},{\"alignmentgroup\":\"True\",\"hovertemplate\":\"\\u0412\\u0438\\u0434 \\u0437\\u0430\\u0432\\u0435\\u0434\\u0435\\u043d\\u0438\\u044f=\\u043a\\u0430\\u0444\\u0435\\u0442\\u0435\\u0440\\u0438\\u0439<br>\\u041d\\u0430\\u0438\\u043c\\u0435\\u043d\\u043e\\u0432\\u0430\\u043d\\u0438\\u0435 \\u0443\\u043b\\u0438\\u0446\\u044b=%{x}<br>\\u041a\\u043e\\u043b\\u0438\\u0447\\u0435\\u0441\\u0442\\u0432\\u043e \\u0437\\u0430\\u0432\\u0435\\u0434\\u0435\\u043d\\u0438\\u0439=%{y}<extra></extra>\",\"legendgroup\":\"\\u043a\\u0430\\u0444\\u0435\\u0442\\u0435\\u0440\\u0438\\u0439\",\"marker\":{\"color\":\"#54A24B\",\"pattern\":{\"shape\":\"\"}},\"name\":\"\\u043a\\u0430\\u0444\\u0435\\u0442\\u0435\\u0440\\u0438\\u0439\",\"offsetgroup\":\"\\u043a\\u0430\\u0444\\u0435\\u0442\\u0435\\u0440\\u0438\\u0439\",\"orientation\":\"v\",\"showlegend\":true,\"textposition\":\"auto\",\"x\":[\"\\u0412\\u0430\\u0440\\u0448\\u0430\\u0432\\u0441\\u043a\\u043e\\u0435\",\"\\u0412\\u0435\\u0440\\u043d\\u0430\\u0434\\u0441\\u043a\\u043e\\u0433\\u043e\",\"\\u041a\\u0430\\u0448\\u0438\\u0440\\u0441\\u043a\\u043e\\u0435\",\"\\u041a\\u0438\\u0440\\u043e\\u0432\\u043e\\u0433\\u0440\\u0430\\u0434\\u0441\\u043a\\u0430\\u044f\",\"\\u041a\\u0443\\u0442\\u0443\\u0437\\u043e\\u0432\\u0441\\u043a\\u0438\\u0439\",\"\\u041b\\u0435\\u043d\\u0438\\u043d\\u0433\\u0440\\u0430\\u0434\\u0441\\u043a\\u0438\\u0439\",\"\\u041b\\u0435\\u043d\\u0438\\u043d\\u0441\\u043a\\u0438\\u0439\",\"\\u041c\\u0438\\u0440\\u0430\",\"\\u041f\\u0440\\u0435\\u0441\\u043d\\u0435\\u043d\\u0441\\u043a\\u0430\\u044f \\u043d\\u0430\\u0431\\u0435\\u0440\\u0435\\u0436\\u043d\\u0430\\u044f\",\"\\u041f\\u0440\\u043e\\u0444\\u0441\\u043e\\u044e\\u0437\\u043d\\u0430\\u044f\"],\"xaxis\":\"x\",\"y\":[8,3,8,2,0,4,3,5,5,10],\"yaxis\":\"y\",\"type\":\"bar\"},{\"alignmentgroup\":\"True\",\"hovertemplate\":\"\\u0412\\u0438\\u0434 \\u0437\\u0430\\u0432\\u0435\\u0434\\u0435\\u043d\\u0438\\u044f=\\u043c\\u0430\\u0433\\u0430\\u0437\\u0438\\u043d (\\u043e\\u0442\\u0434\\u0435\\u043b \\u043a\\u0443\\u043b\\u0438\\u043d\\u0430\\u0440\\u0438\\u0438)<br>\\u041d\\u0430\\u0438\\u043c\\u0435\\u043d\\u043e\\u0432\\u0430\\u043d\\u0438\\u0435 \\u0443\\u043b\\u0438\\u0446\\u044b=%{x}<br>\\u041a\\u043e\\u043b\\u0438\\u0447\\u0435\\u0441\\u0442\\u0432\\u043e \\u0437\\u0430\\u0432\\u0435\\u0434\\u0435\\u043d\\u0438\\u0439=%{y}<extra></extra>\",\"legendgroup\":\"\\u043c\\u0430\\u0433\\u0430\\u0437\\u0438\\u043d (\\u043e\\u0442\\u0434\\u0435\\u043b \\u043a\\u0443\\u043b\\u0438\\u043d\\u0430\\u0440\\u0438\\u0438)\",\"marker\":{\"color\":\"#EECA3B\",\"pattern\":{\"shape\":\"\"}},\"name\":\"\\u043c\\u0430\\u0433\\u0430\\u0437\\u0438\\u043d (\\u043e\\u0442\\u0434\\u0435\\u043b \\u043a\\u0443\\u043b\\u0438\\u043d\\u0430\\u0440\\u0438\\u0438)\",\"offsetgroup\":\"\\u043c\\u0430\\u0433\\u0430\\u0437\\u0438\\u043d (\\u043e\\u0442\\u0434\\u0435\\u043b \\u043a\\u0443\\u043b\\u0438\\u043d\\u0430\\u0440\\u0438\\u0438)\",\"orientation\":\"v\",\"showlegend\":true,\"textposition\":\"auto\",\"x\":[\"\\u0412\\u0430\\u0440\\u0448\\u0430\\u0432\\u0441\\u043a\\u043e\\u0435\",\"\\u0412\\u0435\\u0440\\u043d\\u0430\\u0434\\u0441\\u043a\\u043e\\u0433\\u043e\",\"\\u041a\\u0430\\u0448\\u0438\\u0440\\u0441\\u043a\\u043e\\u0435\",\"\\u041a\\u0438\\u0440\\u043e\\u0432\\u043e\\u0433\\u0440\\u0430\\u0434\\u0441\\u043a\\u0430\\u044f\",\"\\u041a\\u0443\\u0442\\u0443\\u0437\\u043e\\u0432\\u0441\\u043a\\u0438\\u0439\",\"\\u041b\\u0435\\u043d\\u0438\\u043d\\u0433\\u0440\\u0430\\u0434\\u0441\\u043a\\u0438\\u0439\",\"\\u041b\\u0435\\u043d\\u0438\\u043d\\u0441\\u043a\\u0438\\u0439\",\"\\u041c\\u0438\\u0440\\u0430\",\"\\u041f\\u0440\\u0435\\u0441\\u043d\\u0435\\u043d\\u0441\\u043a\\u0430\\u044f \\u043d\\u0430\\u0431\\u0435\\u0440\\u0435\\u0436\\u043d\\u0430\\u044f\",\"\\u041f\\u0440\\u043e\\u0444\\u0441\\u043e\\u044e\\u0437\\u043d\\u0430\\u044f\"],\"xaxis\":\"x\",\"y\":[2,2,0,3,2,5,0,8,0,2],\"yaxis\":\"y\",\"type\":\"bar\"},{\"alignmentgroup\":\"True\",\"hovertemplate\":\"\\u0412\\u0438\\u0434 \\u0437\\u0430\\u0432\\u0435\\u0434\\u0435\\u043d\\u0438\\u044f=\\u043f\\u0440\\u0435\\u0434\\u043f\\u0440\\u0438\\u044f\\u0442\\u0438\\u0435 \\u0431\\u044b\\u0441\\u0442\\u0440\\u043e\\u0433\\u043e \\u043e\\u0431\\u0441\\u043b\\u0443\\u0436\\u0438\\u0432\\u0430\\u043d\\u0438\\u044f<br>\\u041d\\u0430\\u0438\\u043c\\u0435\\u043d\\u043e\\u0432\\u0430\\u043d\\u0438\\u0435 \\u0443\\u043b\\u0438\\u0446\\u044b=%{x}<br>\\u041a\\u043e\\u043b\\u0438\\u0447\\u0435\\u0441\\u0442\\u0432\\u043e \\u0437\\u0430\\u0432\\u0435\\u0434\\u0435\\u043d\\u0438\\u0439=%{y}<extra></extra>\",\"legendgroup\":\"\\u043f\\u0440\\u0435\\u0434\\u043f\\u0440\\u0438\\u044f\\u0442\\u0438\\u0435 \\u0431\\u044b\\u0441\\u0442\\u0440\\u043e\\u0433\\u043e \\u043e\\u0431\\u0441\\u043b\\u0443\\u0436\\u0438\\u0432\\u0430\\u043d\\u0438\\u044f\",\"marker\":{\"color\":\"#B279A2\",\"pattern\":{\"shape\":\"\"}},\"name\":\"\\u043f\\u0440\\u0435\\u0434\\u043f\\u0440\\u0438\\u044f\\u0442\\u0438\\u0435 \\u0431\\u044b\\u0441\\u0442\\u0440\\u043e\\u0433\\u043e \\u043e\\u0431\\u0441\\u043b\\u0443\\u0436\\u0438\\u0432\\u0430\\u043d\\u0438\\u044f\",\"offsetgroup\":\"\\u043f\\u0440\\u0435\\u0434\\u043f\\u0440\\u0438\\u044f\\u0442\\u0438\\u0435 \\u0431\\u044b\\u0441\\u0442\\u0440\\u043e\\u0433\\u043e \\u043e\\u0431\\u0441\\u043b\\u0443\\u0436\\u0438\\u0432\\u0430\\u043d\\u0438\\u044f\",\"orientation\":\"v\",\"showlegend\":true,\"textposition\":\"auto\",\"x\":[\"\\u0412\\u0430\\u0440\\u0448\\u0430\\u0432\\u0441\\u043a\\u043e\\u0435\",\"\\u0412\\u0435\\u0440\\u043d\\u0430\\u0434\\u0441\\u043a\\u043e\\u0433\\u043e\",\"\\u041a\\u0430\\u0448\\u0438\\u0440\\u0441\\u043a\\u043e\\u0435\",\"\\u041a\\u0438\\u0440\\u043e\\u0432\\u043e\\u0433\\u0440\\u0430\\u0434\\u0441\\u043a\\u0430\\u044f\",\"\\u041a\\u0443\\u0442\\u0443\\u0437\\u043e\\u0432\\u0441\\u043a\\u0438\\u0439\",\"\\u041b\\u0435\\u043d\\u0438\\u043d\\u0433\\u0440\\u0430\\u0434\\u0441\\u043a\\u0438\\u0439\",\"\\u041b\\u0435\\u043d\\u0438\\u043d\\u0441\\u043a\\u0438\\u0439\",\"\\u041c\\u0438\\u0440\\u0430\",\"\\u041f\\u0440\\u0435\\u0441\\u043d\\u0435\\u043d\\u0441\\u043a\\u0430\\u044f \\u043d\\u0430\\u0431\\u0435\\u0440\\u0435\\u0436\\u043d\\u0430\\u044f\",\"\\u041f\\u0440\\u043e\\u0444\\u0441\\u043e\\u044e\\u0437\\u043d\\u0430\\u044f\"],\"xaxis\":\"x\",\"y\":[41,27,43,47,8,16,9,26,18,23],\"yaxis\":\"y\",\"type\":\"bar\"},{\"alignmentgroup\":\"True\",\"hovertemplate\":\"\\u0412\\u0438\\u0434 \\u0437\\u0430\\u0432\\u0435\\u0434\\u0435\\u043d\\u0438\\u044f=\\u0440\\u0435\\u0441\\u0442\\u043e\\u0440\\u0430\\u043d<br>\\u041d\\u0430\\u0438\\u043c\\u0435\\u043d\\u043e\\u0432\\u0430\\u043d\\u0438\\u0435 \\u0443\\u043b\\u0438\\u0446\\u044b=%{x}<br>\\u041a\\u043e\\u043b\\u0438\\u0447\\u0435\\u0441\\u0442\\u0432\\u043e \\u0437\\u0430\\u0432\\u0435\\u0434\\u0435\\u043d\\u0438\\u0439=%{y}<extra></extra>\",\"legendgroup\":\"\\u0440\\u0435\\u0441\\u0442\\u043e\\u0440\\u0430\\u043d\",\"marker\":{\"color\":\"#FF9DA6\",\"pattern\":{\"shape\":\"\"}},\"name\":\"\\u0440\\u0435\\u0441\\u0442\\u043e\\u0440\\u0430\\u043d\",\"offsetgroup\":\"\\u0440\\u0435\\u0441\\u0442\\u043e\\u0440\\u0430\\u043d\",\"orientation\":\"v\",\"showlegend\":true,\"textposition\":\"auto\",\"x\":[\"\\u0412\\u0430\\u0440\\u0448\\u0430\\u0432\\u0441\\u043a\\u043e\\u0435\",\"\\u0412\\u0435\\u0440\\u043d\\u0430\\u0434\\u0441\\u043a\\u043e\\u0433\\u043e\",\"\\u041a\\u0430\\u0448\\u0438\\u0440\\u0441\\u043a\\u043e\\u0435\",\"\\u041a\\u0438\\u0440\\u043e\\u0432\\u043e\\u0433\\u0440\\u0430\\u0434\\u0441\\u043a\\u0430\\u044f\",\"\\u041a\\u0443\\u0442\\u0443\\u0437\\u043e\\u0432\\u0441\\u043a\\u0438\\u0439\",\"\\u041b\\u0435\\u043d\\u0438\\u043d\\u0433\\u0440\\u0430\\u0434\\u0441\\u043a\\u0438\\u0439\",\"\\u041b\\u0435\\u043d\\u0438\\u043d\\u0441\\u043a\\u0438\\u0439\",\"\\u041c\\u0438\\u0440\\u0430\",\"\\u041f\\u0440\\u0435\\u0441\\u043d\\u0435\\u043d\\u0441\\u043a\\u0430\\u044f \\u043d\\u0430\\u0431\\u0435\\u0440\\u0435\\u0436\\u043d\\u0430\\u044f\",\"\\u041f\\u0440\\u043e\\u0444\\u0441\\u043e\\u044e\\u0437\\u043d\\u0430\\u044f\"],\"xaxis\":\"x\",\"y\":[9,19,9,18,48,48,37,32,40,31],\"yaxis\":\"y\",\"type\":\"bar\"},{\"alignmentgroup\":\"True\",\"hovertemplate\":\"\\u0412\\u0438\\u0434 \\u0437\\u0430\\u0432\\u0435\\u0434\\u0435\\u043d\\u0438\\u044f=\\u0441\\u0442\\u043e\\u043b\\u043e\\u0432\\u0430\\u044f<br>\\u041d\\u0430\\u0438\\u043c\\u0435\\u043d\\u043e\\u0432\\u0430\\u043d\\u0438\\u0435 \\u0443\\u043b\\u0438\\u0446\\u044b=%{x}<br>\\u041a\\u043e\\u043b\\u0438\\u0447\\u0435\\u0441\\u0442\\u0432\\u043e \\u0437\\u0430\\u0432\\u0435\\u0434\\u0435\\u043d\\u0438\\u0439=%{y}<extra></extra>\",\"legendgroup\":\"\\u0441\\u0442\\u043e\\u043b\\u043e\\u0432\\u0430\\u044f\",\"marker\":{\"color\":\"#9D755D\",\"pattern\":{\"shape\":\"\"}},\"name\":\"\\u0441\\u0442\\u043e\\u043b\\u043e\\u0432\\u0430\\u044f\",\"offsetgroup\":\"\\u0441\\u0442\\u043e\\u043b\\u043e\\u0432\\u0430\\u044f\",\"orientation\":\"v\",\"showlegend\":true,\"textposition\":\"auto\",\"x\":[\"\\u0412\\u0430\\u0440\\u0448\\u0430\\u0432\\u0441\\u043a\\u043e\\u0435\",\"\\u0412\\u0435\\u0440\\u043d\\u0430\\u0434\\u0441\\u043a\\u043e\\u0433\\u043e\",\"\\u041a\\u0430\\u0448\\u0438\\u0440\\u0441\\u043a\\u043e\\u0435\",\"\\u041a\\u0438\\u0440\\u043e\\u0432\\u043e\\u0433\\u0440\\u0430\\u0434\\u0441\\u043a\\u0430\\u044f\",\"\\u041a\\u0443\\u0442\\u0443\\u0437\\u043e\\u0432\\u0441\\u043a\\u0438\\u0439\",\"\\u041b\\u0435\\u043d\\u0438\\u043d\\u0433\\u0440\\u0430\\u0434\\u0441\\u043a\\u0438\\u0439\",\"\\u041b\\u0435\\u043d\\u0438\\u043d\\u0441\\u043a\\u0438\\u0439\",\"\\u041c\\u0438\\u0440\\u0430\",\"\\u041f\\u0440\\u0435\\u0441\\u043d\\u0435\\u043d\\u0441\\u043a\\u0430\\u044f \\u043d\\u0430\\u0431\\u0435\\u0440\\u0435\\u0436\\u043d\\u0430\\u044f\",\"\\u041f\\u0440\\u043e\\u0444\\u0441\\u043e\\u044e\\u0437\\u043d\\u0430\\u044f\"],\"xaxis\":\"x\",\"y\":[25,14,17,14,6,14,26,8,0,15],\"yaxis\":\"y\",\"type\":\"bar\"}],                        {\"template\":{\"data\":{\"bar\":[{\"error_x\":{\"color\":\"#2a3f5f\"},\"error_y\":{\"color\":\"#2a3f5f\"},\"marker\":{\"line\":{\"color\":\"#E5ECF6\",\"width\":0.5},\"pattern\":{\"fillmode\":\"overlay\",\"size\":10,\"solidity\":0.2}},\"type\":\"bar\"}],\"barpolar\":[{\"marker\":{\"line\":{\"color\":\"#E5ECF6\",\"width\":0.5},\"pattern\":{\"fillmode\":\"overlay\",\"size\":10,\"solidity\":0.2}},\"type\":\"barpolar\"}],\"carpet\":[{\"aaxis\":{\"endlinecolor\":\"#2a3f5f\",\"gridcolor\":\"white\",\"linecolor\":\"white\",\"minorgridcolor\":\"white\",\"startlinecolor\":\"#2a3f5f\"},\"baxis\":{\"endlinecolor\":\"#2a3f5f\",\"gridcolor\":\"white\",\"linecolor\":\"white\",\"minorgridcolor\":\"white\",\"startlinecolor\":\"#2a3f5f\"},\"type\":\"carpet\"}],\"choropleth\":[{\"colorbar\":{\"outlinewidth\":0,\"ticks\":\"\"},\"type\":\"choropleth\"}],\"contour\":[{\"colorbar\":{\"outlinewidth\":0,\"ticks\":\"\"},\"colorscale\":[[0.0,\"#0d0887\"],[0.1111111111111111,\"#46039f\"],[0.2222222222222222,\"#7201a8\"],[0.3333333333333333,\"#9c179e\"],[0.4444444444444444,\"#bd3786\"],[0.5555555555555556,\"#d8576b\"],[0.6666666666666666,\"#ed7953\"],[0.7777777777777778,\"#fb9f3a\"],[0.8888888888888888,\"#fdca26\"],[1.0,\"#f0f921\"]],\"type\":\"contour\"}],\"contourcarpet\":[{\"colorbar\":{\"outlinewidth\":0,\"ticks\":\"\"},\"type\":\"contourcarpet\"}],\"heatmap\":[{\"colorbar\":{\"outlinewidth\":0,\"ticks\":\"\"},\"colorscale\":[[0.0,\"#0d0887\"],[0.1111111111111111,\"#46039f\"],[0.2222222222222222,\"#7201a8\"],[0.3333333333333333,\"#9c179e\"],[0.4444444444444444,\"#bd3786\"],[0.5555555555555556,\"#d8576b\"],[0.6666666666666666,\"#ed7953\"],[0.7777777777777778,\"#fb9f3a\"],[0.8888888888888888,\"#fdca26\"],[1.0,\"#f0f921\"]],\"type\":\"heatmap\"}],\"heatmapgl\":[{\"colorbar\":{\"outlinewidth\":0,\"ticks\":\"\"},\"colorscale\":[[0.0,\"#0d0887\"],[0.1111111111111111,\"#46039f\"],[0.2222222222222222,\"#7201a8\"],[0.3333333333333333,\"#9c179e\"],[0.4444444444444444,\"#bd3786\"],[0.5555555555555556,\"#d8576b\"],[0.6666666666666666,\"#ed7953\"],[0.7777777777777778,\"#fb9f3a\"],[0.8888888888888888,\"#fdca26\"],[1.0,\"#f0f921\"]],\"type\":\"heatmapgl\"}],\"histogram\":[{\"marker\":{\"pattern\":{\"fillmode\":\"overlay\",\"size\":10,\"solidity\":0.2}},\"type\":\"histogram\"}],\"histogram2d\":[{\"colorbar\":{\"outlinewidth\":0,\"ticks\":\"\"},\"colorscale\":[[0.0,\"#0d0887\"],[0.1111111111111111,\"#46039f\"],[0.2222222222222222,\"#7201a8\"],[0.3333333333333333,\"#9c179e\"],[0.4444444444444444,\"#bd3786\"],[0.5555555555555556,\"#d8576b\"],[0.6666666666666666,\"#ed7953\"],[0.7777777777777778,\"#fb9f3a\"],[0.8888888888888888,\"#fdca26\"],[1.0,\"#f0f921\"]],\"type\":\"histogram2d\"}],\"histogram2dcontour\":[{\"colorbar\":{\"outlinewidth\":0,\"ticks\":\"\"},\"colorscale\":[[0.0,\"#0d0887\"],[0.1111111111111111,\"#46039f\"],[0.2222222222222222,\"#7201a8\"],[0.3333333333333333,\"#9c179e\"],[0.4444444444444444,\"#bd3786\"],[0.5555555555555556,\"#d8576b\"],[0.6666666666666666,\"#ed7953\"],[0.7777777777777778,\"#fb9f3a\"],[0.8888888888888888,\"#fdca26\"],[1.0,\"#f0f921\"]],\"type\":\"histogram2dcontour\"}],\"mesh3d\":[{\"colorbar\":{\"outlinewidth\":0,\"ticks\":\"\"},\"type\":\"mesh3d\"}],\"parcoords\":[{\"line\":{\"colorbar\":{\"outlinewidth\":0,\"ticks\":\"\"}},\"type\":\"parcoords\"}],\"pie\":[{\"automargin\":true,\"type\":\"pie\"}],\"scatter\":[{\"marker\":{\"colorbar\":{\"outlinewidth\":0,\"ticks\":\"\"}},\"type\":\"scatter\"}],\"scatter3d\":[{\"line\":{\"colorbar\":{\"outlinewidth\":0,\"ticks\":\"\"}},\"marker\":{\"colorbar\":{\"outlinewidth\":0,\"ticks\":\"\"}},\"type\":\"scatter3d\"}],\"scattercarpet\":[{\"marker\":{\"colorbar\":{\"outlinewidth\":0,\"ticks\":\"\"}},\"type\":\"scattercarpet\"}],\"scattergeo\":[{\"marker\":{\"colorbar\":{\"outlinewidth\":0,\"ticks\":\"\"}},\"type\":\"scattergeo\"}],\"scattergl\":[{\"marker\":{\"colorbar\":{\"outlinewidth\":0,\"ticks\":\"\"}},\"type\":\"scattergl\"}],\"scattermapbox\":[{\"marker\":{\"colorbar\":{\"outlinewidth\":0,\"ticks\":\"\"}},\"type\":\"scattermapbox\"}],\"scatterpolar\":[{\"marker\":{\"colorbar\":{\"outlinewidth\":0,\"ticks\":\"\"}},\"type\":\"scatterpolar\"}],\"scatterpolargl\":[{\"marker\":{\"colorbar\":{\"outlinewidth\":0,\"ticks\":\"\"}},\"type\":\"scatterpolargl\"}],\"scatterternary\":[{\"marker\":{\"colorbar\":{\"outlinewidth\":0,\"ticks\":\"\"}},\"type\":\"scatterternary\"}],\"surface\":[{\"colorbar\":{\"outlinewidth\":0,\"ticks\":\"\"},\"colorscale\":[[0.0,\"#0d0887\"],[0.1111111111111111,\"#46039f\"],[0.2222222222222222,\"#7201a8\"],[0.3333333333333333,\"#9c179e\"],[0.4444444444444444,\"#bd3786\"],[0.5555555555555556,\"#d8576b\"],[0.6666666666666666,\"#ed7953\"],[0.7777777777777778,\"#fb9f3a\"],[0.8888888888888888,\"#fdca26\"],[1.0,\"#f0f921\"]],\"type\":\"surface\"}],\"table\":[{\"cells\":{\"fill\":{\"color\":\"#EBF0F8\"},\"line\":{\"color\":\"white\"}},\"header\":{\"fill\":{\"color\":\"#C8D4E3\"},\"line\":{\"color\":\"white\"}},\"type\":\"table\"}]},\"layout\":{\"annotationdefaults\":{\"arrowcolor\":\"#2a3f5f\",\"arrowhead\":0,\"arrowwidth\":1},\"autotypenumbers\":\"strict\",\"coloraxis\":{\"colorbar\":{\"outlinewidth\":0,\"ticks\":\"\"}},\"colorscale\":{\"diverging\":[[0,\"#8e0152\"],[0.1,\"#c51b7d\"],[0.2,\"#de77ae\"],[0.3,\"#f1b6da\"],[0.4,\"#fde0ef\"],[0.5,\"#f7f7f7\"],[0.6,\"#e6f5d0\"],[0.7,\"#b8e186\"],[0.8,\"#7fbc41\"],[0.9,\"#4d9221\"],[1,\"#276419\"]],\"sequential\":[[0.0,\"#0d0887\"],[0.1111111111111111,\"#46039f\"],[0.2222222222222222,\"#7201a8\"],[0.3333333333333333,\"#9c179e\"],[0.4444444444444444,\"#bd3786\"],[0.5555555555555556,\"#d8576b\"],[0.6666666666666666,\"#ed7953\"],[0.7777777777777778,\"#fb9f3a\"],[0.8888888888888888,\"#fdca26\"],[1.0,\"#f0f921\"]],\"sequentialminus\":[[0.0,\"#0d0887\"],[0.1111111111111111,\"#46039f\"],[0.2222222222222222,\"#7201a8\"],[0.3333333333333333,\"#9c179e\"],[0.4444444444444444,\"#bd3786\"],[0.5555555555555556,\"#d8576b\"],[0.6666666666666666,\"#ed7953\"],[0.7777777777777778,\"#fb9f3a\"],[0.8888888888888888,\"#fdca26\"],[1.0,\"#f0f921\"]]},\"colorway\":[\"#636efa\",\"#EF553B\",\"#00cc96\",\"#ab63fa\",\"#FFA15A\",\"#19d3f3\",\"#FF6692\",\"#B6E880\",\"#FF97FF\",\"#FECB52\"],\"font\":{\"color\":\"#2a3f5f\"},\"geo\":{\"bgcolor\":\"white\",\"lakecolor\":\"white\",\"landcolor\":\"#E5ECF6\",\"showlakes\":true,\"showland\":true,\"subunitcolor\":\"white\"},\"hoverlabel\":{\"align\":\"left\"},\"hovermode\":\"closest\",\"mapbox\":{\"style\":\"light\"},\"paper_bgcolor\":\"white\",\"plot_bgcolor\":\"#E5ECF6\",\"polar\":{\"angularaxis\":{\"gridcolor\":\"white\",\"linecolor\":\"white\",\"ticks\":\"\"},\"bgcolor\":\"#E5ECF6\",\"radialaxis\":{\"gridcolor\":\"white\",\"linecolor\":\"white\",\"ticks\":\"\"}},\"scene\":{\"xaxis\":{\"backgroundcolor\":\"#E5ECF6\",\"gridcolor\":\"white\",\"gridwidth\":2,\"linecolor\":\"white\",\"showbackground\":true,\"ticks\":\"\",\"zerolinecolor\":\"white\"},\"yaxis\":{\"backgroundcolor\":\"#E5ECF6\",\"gridcolor\":\"white\",\"gridwidth\":2,\"linecolor\":\"white\",\"showbackground\":true,\"ticks\":\"\",\"zerolinecolor\":\"white\"},\"zaxis\":{\"backgroundcolor\":\"#E5ECF6\",\"gridcolor\":\"white\",\"gridwidth\":2,\"linecolor\":\"white\",\"showbackground\":true,\"ticks\":\"\",\"zerolinecolor\":\"white\"}},\"shapedefaults\":{\"line\":{\"color\":\"#2a3f5f\"}},\"ternary\":{\"aaxis\":{\"gridcolor\":\"white\",\"linecolor\":\"white\",\"ticks\":\"\"},\"baxis\":{\"gridcolor\":\"white\",\"linecolor\":\"white\",\"ticks\":\"\"},\"bgcolor\":\"#E5ECF6\",\"caxis\":{\"gridcolor\":\"white\",\"linecolor\":\"white\",\"ticks\":\"\"}},\"title\":{\"x\":0.05},\"xaxis\":{\"automargin\":true,\"gridcolor\":\"white\",\"linecolor\":\"white\",\"ticks\":\"\",\"title\":{\"standoff\":15},\"zerolinecolor\":\"white\",\"zerolinewidth\":2},\"yaxis\":{\"automargin\":true,\"gridcolor\":\"white\",\"linecolor\":\"white\",\"ticks\":\"\",\"title\":{\"standoff\":15},\"zerolinecolor\":\"white\",\"zerolinewidth\":2}}},\"xaxis\":{\"anchor\":\"y\",\"domain\":[0.0,1.0],\"title\":{\"text\":\"\\u041d\\u0430\\u0438\\u043c\\u0435\\u043d\\u043e\\u0432\\u0430\\u043d\\u0438\\u0435 \\u0443\\u043b\\u0438\\u0446\\u044b\"},\"tickangle\":-45},\"yaxis\":{\"anchor\":\"x\",\"domain\":[0.0,1.0],\"title\":{\"text\":\"\\u041a\\u043e\\u043b\\u0438\\u0447\\u0435\\u0441\\u0442\\u0432\\u043e \\u0437\\u0430\\u0432\\u0435\\u0434\\u0435\\u043d\\u0438\\u0439\"}},\"legend\":{\"title\":{\"text\":\"\\u0412\\u0438\\u0434 \\u0437\\u0430\\u0432\\u0435\\u0434\\u0435\\u043d\\u0438\\u044f\"},\"tracegroupgap\":0},\"title\":{\"text\":\"\\u041a\\u043e\\u043b\\u0438\\u0447\\u0435\\u0441\\u0442\\u0432\\u043e \\u043e\\u0431\\u044a\\u0435\\u043a\\u0442\\u043e\\u0432 \\u043f\\u043e \\u0432\\u0438\\u0434\\u0430\\u043c \\u0437\\u0430\\u0432\\u0435\\u0434\\u0435\\u043d\\u0438\\u0439 \\u0434\\u043b\\u044f \\u0442\\u043e\\u043f-10 \\u0443\\u043b\\u0438\\u0446 \\u041c\\u043e\\u0441\\u043a\\u0432\\u044b\"},\"barmode\":\"relative\"},                        {\"responsive\": true}                    ).then(function(){\n",
              "                            \n",
              "var gd = document.getElementById('01141b47-c3c4-472b-92c4-07e4c83a0d6e');\n",
              "var x = new MutationObserver(function (mutations, observer) {{\n",
              "        var display = window.getComputedStyle(gd).display;\n",
              "        if (!display || display === 'none') {{\n",
              "            console.log([gd, 'removed!']);\n",
              "            Plotly.purge(gd);\n",
              "            observer.disconnect();\n",
              "        }}\n",
              "}});\n",
              "\n",
              "// Listen for the removal of the full notebook cells\n",
              "var notebookContainer = gd.closest('#notebook-container');\n",
              "if (notebookContainer) {{\n",
              "    x.observe(notebookContainer, {childList: true});\n",
              "}}\n",
              "\n",
              "// Listen for the clearing of the current output cell\n",
              "var outputEl = gd.closest('.output');\n",
              "if (outputEl) {{\n",
              "    x.observe(outputEl, {childList: true});\n",
              "}}\n",
              "\n",
              "                        })                };                            </script>        </div>\n",
              "</body>\n",
              "</html>"
            ]
          },
          "metadata": {}
        }
      ],
      "source": [
        "fig = px.bar(\n",
        "    street_type,\n",
        "    x=street_type.index,\n",
        "    y=['бар', 'буфет', 'закусочная', 'кафе', 'кафетерий',\n",
        "       'магазин (отдел кулинарии)', 'предприятие быстрого обслуживания',\n",
        "       'ресторан', 'столовая'],\n",
        "    title='Количество объектов по видам заведений для топ-10 улиц Москвы',\n",
        "    labels=dict(\n",
        "        value='Количество заведений',\n",
        "        street='Наименование улицы',\n",
        "        variable='Вид заведения'\n",
        "    ),\n",
        "    color_discrete_sequence=px.colors.qualitative.T10\n",
        ")\n",
        "\n",
        "fig.update_xaxes(tickangle=-45)\n",
        "fig.show() "
      ]
    },
    {
      "cell_type": "markdown",
      "metadata": {
        "id": "njR8VaHa52a0"
      },
      "source": [
        "**Вывод**\n",
        "\n",
        "    \n",
        "* На графике видно, что медианное значение посадочных мест составляет 40-46 для всех проспектов. На таких широких улицах много помещений, где можно разместить заведение побольше. Здесь много ресторанов (как было определено ранее, в них больше посадочных мест) и кафе.\n",
        "\n",
        "    \n",
        "* Для Варшавского и Каширского шоссе характерны заведения с 30 и 25 посадочными местами соответственно. Это может быть связано с тем, что данные шоссе направлены на выезд из города и вне жилых районов, а для путешественников важнее быстро перекусить. Поэтому здесь распространены кафе и заведения фастфуда.\n",
        "\n",
        "    \n",
        "* У Пресненской набережной и Профсоюзной улицы примерно одинаковое распределение различных видов заведений, кроме столовых, которых на набережной нет: их заменяют рестораны. Наибольшая доля на данных улицах у кафе. Это может быть связано с тем, что в отличие от проспектов, набережная и улица узкие, меньше помещений, в которых можно открыть большое заведение. Медианное количество посадочных мест для Пресненской набережной - 30, а для Профсоюзной улицы - 24.\n",
        "\n",
        "    \n",
        "* Кировоградская улица отличается от предыдущих тем, что здесь большую долю занимают предприятия быстрого обслуживания. Это можно связаться с тем, что большинство расположенных здесь заведений находится в торговых центрах,где есть фудкорты. Медианное количество посдачных мест - 30."
      ]
    },
    {
      "cell_type": "markdown",
      "metadata": {
        "id": "2oMrBvXZMMBK"
      },
      "source": [
        "## Общий вывод\n",
        "<a class='anchor' id='summary'></a>"
      ]
    },
    {
      "cell_type": "markdown",
      "metadata": {
        "id": "6QoZwrrgMoAV"
      },
      "source": [
        "1. 40% заведений составляют кафе. Предприятия быстрого обслуживания, рестораны и столовые занимают 12.5%, 14.9% и 16.8% рынка соответственно. Бары, буфеты, кафетерии, закусочные и отделы кулинарии в магазинах в сумме занимают 16%.\n",
        "\n",
        "---\n",
        "\n",
        "2. Только 19.3% заведений относятся к какой-либо сети. У столовых полностью отсутствует сетевое развитие. Лучше всего в сеть развиваются заведения фастфуда (41% заведений представляют какую-либо сеть). Далее - кафе и рестораны (23% составляют сети).\n",
        "\n",
        "---\n",
        "\n",
        "3. Все виды заведений общественного питания можно разделить на 4 группы в зависимости от количества посадочных мест:\n",
        "* закусочные и отделы кулинарии в магазинах - для них характерно отсутствие посадочных мест;\n",
        "* заведения фастфуда и кафетерии - 5 и 6 посадочных мест соответственно;\n",
        "* кафе, буфеты и бары - 30-35 посадочных мест;\n",
        "* рестораны и столовые - 80 и 103 посадочных места соответственно.\n",
        "\n",
        "---\n",
        "\n",
        "4. Для сетей характерно большое количество заведений с небольшим количеством посадочных мест. Чем больше среднее количество посадочных мест у заведений сети, тем реже сеть превышает отметку в 10-15 заведений. Сети редко развиваются в более чем 10 заведений. При этом наибольшее число из таких заведений имеет не более 50 посадочных мест.\n",
        "\n",
        "---\n",
        "\n",
        "5. Наибольшее количество заведений располагается:\n",
        "* на пересечении Центрального и Северо-Восточного административных округов и сам Северо-восточный округ;\n",
        "* на пересечении Юго-Западно и Западного административных округов Москвы;\n",
        "* в Северном административном округе;\n",
        "* на пересечении Западного и Центрального админитративных округов;\n",
        "* на пересечении Центрального и Южного административных округов и сам Южный округ.\n",
        "\n",
        "---\n",
        "\n",
        "6. Основные характеристики улиц, на которых расположено только одно заведений - они не длинные либо это не улицы, а переулки. Как правило, это улицы, расположеные в спальных районах, жилищных комплексах за пределами Третьего транспортного кольца, где нет какого-либо торгового центра или зоны отдыха. Либо это короткие улицы и переулки, которые находятся в самом центре Москвы. \n",
        "\n",
        "---\n",
        "\n",
        "7. Для проспектов медианное значение посадочных мест составляет 40-45. Здесь много ресторанов и кафе.\n",
        "\n",
        "  Для Варшавского и Каширского шоссе характерны заведения с 25-30 посадочными местами, т.к. данные шоссе направлены на выезд из города и вне жилых районов, а для путешественников важнее быстро перекусить. Здесь распространены кафе и заведения фастфуда.\n",
        "\n",
        "  У Пресненской набережной и Профсоюзной улицы примерно одинаковое распределение различных видов заведений, кроме столовых, которых на набережной нет: их заменяют рестораны. Наибольшая доля на данных улицах у кафе. Медианное количество посадочных мест для Пресненской набережной - 30, а для Профсоюзной улицы - 24.\n",
        "\n",
        "  На Кировоградской улице большую долю занимают предприятия быстрого обслуживания, поскольку большинство расположенных здесь заведений находится в торговых центрах, где есть фудкорты. Медианное количество посдачных мест - 30."
      ]
    },
    {
      "cell_type": "markdown",
      "metadata": {
        "id": "vDLLaZKyc0nl"
      },
      "source": [
        "**Итог**\n",
        "\n",
        "Самым распространенным видом заведения является кафе. Они хорошо развиваются в сеть и занимают большую долю заведений во всех популярных районах. Среднее количество посадочных мест для них - 30. \n",
        "\n",
        "Также, учитывая концепцию будущего заведния, можно обратить внимание на заведения фастфуда. Они лучше всего развиваются в сеть. Среднее количество посадочных мест - 5.\n",
        "\n",
        "Наиболее подходящие районы для развития: Северный, Южный и Северо-Восточный округ, район пересечения Юго-Западного и Западного округов, район пересечения Западного и Центрального административных округов Москвы."
      ]
    },
    {
      "cell_type": "code",
      "source": [
        ""
      ],
      "metadata": {
        "id": "4Mk7bc9nrr1n"
      },
      "execution_count": null,
      "outputs": []
    }
  ],
  "metadata": {
    "ExecuteTimeLog": [
      {
        "duration": 2421,
        "start_time": "2022-05-18T13:01:07.527Z"
      },
      {
        "duration": 154,
        "start_time": "2022-05-18T13:01:09.950Z"
      },
      {
        "duration": 14,
        "start_time": "2022-05-18T13:01:10.106Z"
      },
      {
        "duration": 21,
        "start_time": "2022-05-18T13:01:10.122Z"
      },
      {
        "duration": 15,
        "start_time": "2022-05-18T13:01:10.145Z"
      },
      {
        "duration": 67,
        "start_time": "2022-05-18T13:01:10.162Z"
      },
      {
        "duration": 5,
        "start_time": "2022-05-18T13:01:10.231Z"
      },
      {
        "duration": 13,
        "start_time": "2022-05-18T13:01:10.238Z"
      },
      {
        "duration": 37,
        "start_time": "2022-05-18T13:01:10.253Z"
      },
      {
        "duration": 29,
        "start_time": "2022-05-18T13:01:10.296Z"
      },
      {
        "duration": 7,
        "start_time": "2022-05-18T13:01:10.327Z"
      },
      {
        "duration": 8,
        "start_time": "2022-05-18T13:01:10.336Z"
      },
      {
        "duration": 33,
        "start_time": "2022-05-18T13:01:10.346Z"
      },
      {
        "duration": 25,
        "start_time": "2022-05-18T13:01:10.382Z"
      },
      {
        "duration": 14,
        "start_time": "2022-05-18T13:01:10.409Z"
      },
      {
        "duration": 9,
        "start_time": "2022-05-18T13:01:10.425Z"
      },
      {
        "duration": 12,
        "start_time": "2022-05-18T13:01:10.435Z"
      },
      {
        "duration": 15,
        "start_time": "2022-05-18T13:01:10.449Z"
      },
      {
        "duration": 61,
        "start_time": "2022-05-18T13:01:10.475Z"
      },
      {
        "duration": 54,
        "start_time": "2022-05-18T13:01:10.538Z"
      },
      {
        "duration": 36,
        "start_time": "2022-05-18T13:01:10.593Z"
      },
      {
        "duration": 11,
        "start_time": "2022-05-18T13:01:10.630Z"
      },
      {
        "duration": 31,
        "start_time": "2022-05-18T13:01:10.643Z"
      },
      {
        "duration": 31,
        "start_time": "2022-05-18T13:01:10.676Z"
      },
      {
        "duration": 12,
        "start_time": "2022-05-18T13:01:10.708Z"
      },
      {
        "duration": 373,
        "start_time": "2022-05-18T13:01:10.722Z"
      },
      {
        "duration": 2205,
        "start_time": "2022-05-18T13:01:11.102Z"
      },
      {
        "duration": 7,
        "start_time": "2022-05-18T13:01:13.311Z"
      },
      {
        "duration": 105,
        "start_time": "2022-05-18T13:01:13.320Z"
      },
      {
        "duration": 48,
        "start_time": "2022-05-18T13:01:13.427Z"
      },
      {
        "duration": 178,
        "start_time": "2022-05-18T13:01:13.477Z"
      },
      {
        "duration": 27,
        "start_time": "2022-05-18T13:01:13.657Z"
      },
      {
        "duration": 118,
        "start_time": "2022-05-18T13:01:13.686Z"
      },
      {
        "duration": 377,
        "start_time": "2022-05-18T13:01:13.806Z"
      },
      {
        "duration": 32,
        "start_time": "2022-05-18T13:01:14.188Z"
      },
      {
        "duration": 10,
        "start_time": "2022-05-18T13:01:14.222Z"
      },
      {
        "duration": 297,
        "start_time": "2022-05-18T13:01:14.234Z"
      },
      {
        "duration": 416,
        "start_time": "2022-05-18T13:01:14.533Z"
      },
      {
        "duration": 18,
        "start_time": "2022-05-18T13:01:14.951Z"
      },
      {
        "duration": 31,
        "start_time": "2022-05-18T13:01:14.971Z"
      },
      {
        "duration": 33,
        "start_time": "2022-05-18T13:01:15.008Z"
      },
      {
        "duration": 62,
        "start_time": "2022-05-18T13:01:15.043Z"
      },
      {
        "duration": 231,
        "start_time": "2022-05-18T13:01:15.107Z"
      },
      {
        "duration": 11,
        "start_time": "2022-05-18T13:01:15.339Z"
      },
      {
        "duration": 303,
        "start_time": "2022-05-18T13:01:15.352Z"
      },
      {
        "duration": 24,
        "start_time": "2022-05-18T13:01:15.657Z"
      },
      {
        "duration": 54,
        "start_time": "2022-05-18T13:01:15.684Z"
      },
      {
        "duration": 20,
        "start_time": "2022-05-18T13:01:15.740Z"
      },
      {
        "duration": 333,
        "start_time": "2022-05-18T13:01:15.762Z"
      },
      {
        "duration": 20,
        "start_time": "2022-05-18T13:01:16.100Z"
      },
      {
        "duration": 114,
        "start_time": "2022-05-18T13:01:16.122Z"
      },
      {
        "duration": 1519,
        "start_time": "2022-05-18T13:17:14.390Z"
      },
      {
        "duration": 78,
        "start_time": "2022-05-18T13:17:15.917Z"
      },
      {
        "duration": 24,
        "start_time": "2022-05-18T13:17:15.997Z"
      },
      {
        "duration": 26,
        "start_time": "2022-05-18T13:17:16.024Z"
      },
      {
        "duration": 31,
        "start_time": "2022-05-18T13:17:16.052Z"
      },
      {
        "duration": 49,
        "start_time": "2022-05-18T13:17:16.088Z"
      },
      {
        "duration": 16,
        "start_time": "2022-05-18T13:17:16.139Z"
      },
      {
        "duration": 32,
        "start_time": "2022-05-18T13:17:16.158Z"
      },
      {
        "duration": 47,
        "start_time": "2022-05-18T13:17:16.192Z"
      },
      {
        "duration": 19,
        "start_time": "2022-05-18T13:17:16.241Z"
      },
      {
        "duration": 17,
        "start_time": "2022-05-18T13:17:16.262Z"
      },
      {
        "duration": 46,
        "start_time": "2022-05-18T13:17:16.281Z"
      },
      {
        "duration": 19,
        "start_time": "2022-05-18T13:17:16.330Z"
      },
      {
        "duration": 5,
        "start_time": "2022-05-18T13:17:16.352Z"
      },
      {
        "duration": 69,
        "start_time": "2022-05-18T13:17:16.359Z"
      },
      {
        "duration": 10,
        "start_time": "2022-05-18T13:17:16.430Z"
      },
      {
        "duration": 19,
        "start_time": "2022-05-18T13:17:16.442Z"
      },
      {
        "duration": 67,
        "start_time": "2022-05-18T13:17:16.462Z"
      },
      {
        "duration": 41,
        "start_time": "2022-05-18T13:17:16.531Z"
      },
      {
        "duration": 79,
        "start_time": "2022-05-18T13:17:16.576Z"
      },
      {
        "duration": 25,
        "start_time": "2022-05-18T13:17:16.657Z"
      },
      {
        "duration": 47,
        "start_time": "2022-05-18T13:17:16.684Z"
      },
      {
        "duration": 26,
        "start_time": "2022-05-18T13:17:16.733Z"
      },
      {
        "duration": 57,
        "start_time": "2022-05-18T13:17:16.761Z"
      },
      {
        "duration": 12,
        "start_time": "2022-05-18T13:17:16.820Z"
      },
      {
        "duration": 404,
        "start_time": "2022-05-18T13:17:16.834Z"
      },
      {
        "duration": 457,
        "start_time": "2022-05-18T13:17:17.240Z"
      },
      {
        "duration": 13,
        "start_time": "2022-05-18T13:17:17.699Z"
      },
      {
        "duration": 74,
        "start_time": "2022-05-18T13:17:17.713Z"
      },
      {
        "duration": 98,
        "start_time": "2022-05-18T13:17:17.788Z"
      },
      {
        "duration": 112,
        "start_time": "2022-05-18T13:17:17.893Z"
      },
      {
        "duration": 21,
        "start_time": "2022-05-18T13:17:18.007Z"
      },
      {
        "duration": 34,
        "start_time": "2022-05-18T13:17:18.032Z"
      },
      {
        "duration": 389,
        "start_time": "2022-05-18T13:17:18.070Z"
      },
      {
        "duration": 53,
        "start_time": "2022-05-18T13:17:18.461Z"
      },
      {
        "duration": 13,
        "start_time": "2022-05-18T13:17:18.516Z"
      },
      {
        "duration": 306,
        "start_time": "2022-05-18T13:17:18.531Z"
      },
      {
        "duration": 489,
        "start_time": "2022-05-18T13:17:18.840Z"
      },
      {
        "duration": 8,
        "start_time": "2022-05-18T13:17:19.334Z"
      },
      {
        "duration": 17,
        "start_time": "2022-05-18T13:17:19.345Z"
      },
      {
        "duration": 69,
        "start_time": "2022-05-18T13:17:19.370Z"
      },
      {
        "duration": 23,
        "start_time": "2022-05-18T13:17:19.441Z"
      },
      {
        "duration": 264,
        "start_time": "2022-05-18T13:17:19.474Z"
      },
      {
        "duration": 10,
        "start_time": "2022-05-18T13:17:19.740Z"
      },
      {
        "duration": 297,
        "start_time": "2022-05-18T13:17:19.751Z"
      },
      {
        "duration": 19,
        "start_time": "2022-05-18T13:17:20.050Z"
      },
      {
        "duration": 63,
        "start_time": "2022-05-18T13:17:20.076Z"
      },
      {
        "duration": 13,
        "start_time": "2022-05-18T13:17:20.140Z"
      },
      {
        "duration": 323,
        "start_time": "2022-05-18T13:17:20.155Z"
      },
      {
        "duration": 31,
        "start_time": "2022-05-18T13:17:20.481Z"
      },
      {
        "duration": 138,
        "start_time": "2022-05-18T13:17:20.514Z"
      },
      {
        "duration": 1529,
        "start_time": "2022-05-21T06:31:52.562Z"
      },
      {
        "duration": 130,
        "start_time": "2022-05-21T06:31:54.094Z"
      },
      {
        "duration": 14,
        "start_time": "2022-05-21T06:31:54.225Z"
      },
      {
        "duration": 22,
        "start_time": "2022-05-21T06:31:54.240Z"
      },
      {
        "duration": 33,
        "start_time": "2022-05-21T06:31:54.265Z"
      },
      {
        "duration": 41,
        "start_time": "2022-05-21T06:31:54.300Z"
      },
      {
        "duration": 20,
        "start_time": "2022-05-21T06:31:54.343Z"
      },
      {
        "duration": 20,
        "start_time": "2022-05-21T06:31:54.366Z"
      },
      {
        "duration": 37,
        "start_time": "2022-05-21T06:31:54.388Z"
      },
      {
        "duration": 30,
        "start_time": "2022-05-21T06:31:54.427Z"
      },
      {
        "duration": 9,
        "start_time": "2022-05-21T06:31:54.459Z"
      },
      {
        "duration": 41,
        "start_time": "2022-05-21T06:31:54.470Z"
      },
      {
        "duration": 71,
        "start_time": "2022-05-21T06:31:54.513Z"
      },
      {
        "duration": 46,
        "start_time": "2022-05-21T06:31:54.589Z"
      },
      {
        "duration": 66,
        "start_time": "2022-05-21T06:31:54.637Z"
      },
      {
        "duration": 65,
        "start_time": "2022-05-21T06:31:54.705Z"
      },
      {
        "duration": 27,
        "start_time": "2022-05-21T06:31:54.773Z"
      },
      {
        "duration": 36,
        "start_time": "2022-05-21T06:31:54.802Z"
      },
      {
        "duration": 61,
        "start_time": "2022-05-21T06:31:54.840Z"
      },
      {
        "duration": 67,
        "start_time": "2022-05-21T06:31:54.903Z"
      },
      {
        "duration": 38,
        "start_time": "2022-05-21T06:31:54.971Z"
      },
      {
        "duration": 39,
        "start_time": "2022-05-21T06:31:55.010Z"
      },
      {
        "duration": 42,
        "start_time": "2022-05-21T06:31:55.051Z"
      },
      {
        "duration": 54,
        "start_time": "2022-05-21T06:31:55.096Z"
      },
      {
        "duration": 92,
        "start_time": "2022-05-21T06:31:55.152Z"
      },
      {
        "duration": 40,
        "start_time": "2022-05-21T06:31:55.246Z"
      },
      {
        "duration": 64,
        "start_time": "2022-05-21T06:31:55.289Z"
      },
      {
        "duration": 72,
        "start_time": "2022-05-21T06:31:55.356Z"
      },
      {
        "duration": 32,
        "start_time": "2022-05-21T06:31:55.431Z"
      },
      {
        "duration": 52,
        "start_time": "2022-05-21T06:31:55.465Z"
      },
      {
        "duration": 50,
        "start_time": "2022-05-21T06:31:55.520Z"
      },
      {
        "duration": 69,
        "start_time": "2022-05-21T06:31:55.572Z"
      },
      {
        "duration": 268,
        "start_time": "2022-05-21T06:31:55.643Z"
      },
      {
        "duration": 359,
        "start_time": "2022-05-21T06:31:55.913Z"
      },
      {
        "duration": 6,
        "start_time": "2022-05-21T06:31:56.274Z"
      },
      {
        "duration": 107,
        "start_time": "2022-05-21T06:31:56.282Z"
      },
      {
        "duration": 15,
        "start_time": "2022-05-21T06:31:56.391Z"
      },
      {
        "duration": 81,
        "start_time": "2022-05-21T06:31:56.408Z"
      },
      {
        "duration": 13,
        "start_time": "2022-05-21T06:31:56.491Z"
      },
      {
        "duration": 58,
        "start_time": "2022-05-21T06:31:56.506Z"
      },
      {
        "duration": 21,
        "start_time": "2022-05-21T06:31:56.569Z"
      },
      {
        "duration": 72,
        "start_time": "2022-05-21T06:31:56.592Z"
      },
      {
        "duration": 439,
        "start_time": "2022-05-21T06:31:56.667Z"
      },
      {
        "duration": 22,
        "start_time": "2022-05-21T06:31:57.109Z"
      },
      {
        "duration": 25,
        "start_time": "2022-05-21T06:31:57.133Z"
      },
      {
        "duration": 285,
        "start_time": "2022-05-21T06:31:57.163Z"
      },
      {
        "duration": 243,
        "start_time": "2022-05-21T06:31:57.449Z"
      },
      {
        "duration": 6,
        "start_time": "2022-05-21T06:31:57.694Z"
      },
      {
        "duration": 48,
        "start_time": "2022-05-21T06:31:57.702Z"
      },
      {
        "duration": 25,
        "start_time": "2022-05-21T06:31:57.752Z"
      },
      {
        "duration": 27,
        "start_time": "2022-05-21T06:31:57.779Z"
      },
      {
        "duration": 403,
        "start_time": "2022-05-21T06:31:57.808Z"
      },
      {
        "duration": 10,
        "start_time": "2022-05-21T06:31:58.215Z"
      },
      {
        "duration": 261,
        "start_time": "2022-05-21T06:31:58.227Z"
      },
      {
        "duration": 2365,
        "start_time": "2022-05-21T06:31:58.489Z"
      },
      {
        "duration": 19,
        "start_time": "2022-05-21T06:32:00.856Z"
      },
      {
        "duration": 23,
        "start_time": "2022-05-21T06:32:00.877Z"
      },
      {
        "duration": 52,
        "start_time": "2022-05-21T06:32:00.902Z"
      },
      {
        "duration": 53,
        "start_time": "2022-05-21T06:32:00.956Z"
      },
      {
        "duration": 36,
        "start_time": "2022-05-21T06:32:01.011Z"
      },
      {
        "duration": 42,
        "start_time": "2022-05-21T06:32:01.048Z"
      },
      {
        "duration": 246,
        "start_time": "2022-05-21T06:32:01.091Z"
      },
      {
        "duration": 23,
        "start_time": "2022-05-21T06:32:01.338Z"
      },
      {
        "duration": 139,
        "start_time": "2022-05-21T06:32:01.363Z"
      }
    ],
    "colab": {
      "collapsed_sections": [],
      "name": "41794fc9-3089-4e9e-81c2-a098bdfbc07a.ipynb",
      "provenance": []
    },
    "kernelspec": {
      "display_name": "Python 3 (ipykernel)",
      "language": "python",
      "name": "python3"
    },
    "language_info": {
      "codemirror_mode": {
        "name": "ipython",
        "version": 3
      },
      "file_extension": ".py",
      "mimetype": "text/x-python",
      "name": "python",
      "nbconvert_exporter": "python",
      "pygments_lexer": "ipython3",
      "version": "3.9.5"
    },
    "toc": {
      "base_numbering": 1,
      "nav_menu": {},
      "number_sections": true,
      "sideBar": true,
      "skip_h1_title": true,
      "title_cell": "Table of Contents",
      "title_sidebar": "Contents",
      "toc_cell": false,
      "toc_position": {},
      "toc_section_display": true,
      "toc_window_display": false
    }
  },
  "nbformat": 4,
  "nbformat_minor": 0
}
