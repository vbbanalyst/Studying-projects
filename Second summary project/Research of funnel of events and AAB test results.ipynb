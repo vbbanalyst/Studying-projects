{
  "cells": [
    {
      "cell_type": "markdown",
      "metadata": {
        "id": "5NigaJfGMvnA"
      },
      "source": [
        "# Исследование воронки событий и результатов А/А/В-теста"
      ]
    },
    {
      "cell_type": "markdown",
      "metadata": {
        "id": "eb80SxJyOoHt"
      },
      "source": [
        "## Содержание\n",
        "\n",
        "### [Обзор данных](#overview)\n",
        "\n",
        "### [Предобработка данных](#processing)\n",
        "\n",
        "[Переименование колонок](#columns)\n",
        "\n",
        "[Изменение типов данных](#data-type)\n",
        "\n",
        "[Поиск дубликатов](#dublicates)\n",
        "\n",
        "[Добавление колонки с датой события](#date-column)\n",
        "\n",
        "### [Проверка качества данных](#data-check)\n",
        "\n",
        "[События](#event-check)\n",
        "\n",
        "[Пользователи](#user-check)\n",
        "\n",
        "[Дата и время событий](#date-check)\n",
        "\n",
        "[Экспериментальные группы](#group-check)\n",
        "\n",
        "### [Изучение воронки событий](#funnel-research)\n",
        "\n",
        "### [Изучение результатов эксперимента](#exp-research)\n",
        "\n",
        "### [Общий вывод](#summary)\n",
        "\n",
        "---"
      ]
    },
    {
      "cell_type": "markdown",
      "metadata": {
        "id": "WMcNYP7xM7vh"
      },
      "source": [
        "**Краткое описание:** Заказчик - стартап, продающий продукты питания. (1) Необходимо разобраться, как ведут себя пользователи вашего мобильного приложения. (2) Дизайнеры захотели поменять шрифты во всём приложении, а менеджеры посчитали, что пользователям это может быть непривычно. Дизайнеры и менеджеры договорились провести A/A/B-теста. Пользователей разбили на 3 группы: 2 контрольные со старыми шрифтами и одну экспериментальную — с новыми. Нужно выяснить, какой шрифт лучше.\n",
        "    \n",
        "**Цель проекта:** Изучить воронку продаж и результаты A/A/B-эксперимента.\n",
        "\n",
        "**План работы:**\n",
        "1. выгрузить данные, осуществить первичный обзор;\n",
        "2. переименовать колонки, привести наименования к \"змеиному регистру\", если необходимо;\n",
        "2. определить, есть ли пропуски в данных; заполнить пропуски или удалить строки с пропусками;\n",
        "3. измененить тип данных;\n",
        "4. проверить данные на наличие явных и неявных дубликатов, исправить данные;\n",
        "5. добавить столбец даты и времени, отдельный столбец дат;\n",
        "6. изучить и проверить данные;\n",
        "7. изучить воронку событий;\n",
        "8. изучить результаты эксперимента.\n",
        "\n",
        "---"
      ]
    },
    {
      "cell_type": "markdown",
      "metadata": {
        "id": "1rFNQS9AO7YW"
      },
      "source": [
        "## Обзор данных\n",
        "<a class='anchor' id='overview'></a>"
      ]
    },
    {
      "cell_type": "code",
      "execution_count": 1,
      "metadata": {
        "id": "7BWNHZroO-ZT"
      },
      "outputs": [],
      "source": [
        "# загружаем нужные библиотеки\n",
        "import os\n",
        "import pandas as pd\n",
        "import warnings\n",
        "warnings.filterwarnings(\"ignore\")\n",
        "import numpy as np\n",
        "import math as mth\n",
        "from scipy import stats as st\n",
        "import matplotlib.pyplot as plt\n",
        "import plotly.express as px\n",
        "from plotly.subplots import make_subplots\n",
        "import plotly.graph_objects as go\n",
        "import seaborn as sns"
      ]
    },
    {
      "cell_type": "code",
      "execution_count": 2,
      "metadata": {
        "colab": {
          "base_uri": "https://localhost:8080/"
        },
        "id": "tiwNXUHNPFbq",
        "outputId": "eb07420c-4ec1-4f57-aebf-22db5bdc6d43"
      },
      "outputs": [
        {
          "output_type": "stream",
          "name": "stdout",
          "text": [
            "Данные загружены в Colaboratory\n"
          ]
        }
      ],
      "source": [
        "pth1 = 'logs_exp.csv' # Путь для Colaboratory\n",
        "pth2 = '/datasets/logs_exp.csv' # Путь для Jupyter Notebook в Практикуме\n",
        "pth3 = r'C:\\Users\\WANTNEON\\Downloads\\logs_exp.csv' # Локальный путь\n",
        "    \n",
        "if os.path.exists(pth1):\n",
        "    data = pd.read_csv(pth1, sep='\\t')\n",
        "    print('Данные загружены в Colaboratory')\n",
        "elif os.path.exists(pth2):\n",
        "    data = pd.read_csv(pth2, sep='\\t')\n",
        "    print('Данные загружены в Jupyter Notebook')\n",
        "elif os.path.exists(pth3):\n",
        "    data = pd.read_csv(pth3, sep='\\t')\n",
        "    print('Данные загружены локально')\n",
        "else:\n",
        "    print('Что-то пошло не так')  "
      ]
    },
    {
      "cell_type": "markdown",
      "metadata": {
        "id": "kKAJHVxpQedO"
      },
      "source": [
        "Посмотрим на данные и их характеристики."
      ]
    },
    {
      "cell_type": "code",
      "execution_count": 3,
      "metadata": {
        "colab": {
          "base_uri": "https://localhost:8080/",
          "height": 206
        },
        "id": "NjK9Eg9YPlkD",
        "outputId": "0a073a0b-38f4-4530-cff8-20e2c6b1b916"
      },
      "outputs": [
        {
          "output_type": "execute_result",
          "data": {
            "text/plain": [
              "                 EventName         DeviceIDHash  EventTimestamp  ExpId\n",
              "0         MainScreenAppear  4575588528974610257      1564029816    246\n",
              "1         MainScreenAppear  7416695313311560658      1564053102    246\n",
              "2  PaymentScreenSuccessful  3518123091307005509      1564054127    248\n",
              "3         CartScreenAppear  3518123091307005509      1564054127    248\n",
              "4  PaymentScreenSuccessful  6217807653094995999      1564055322    248"
            ],
            "text/html": [
              "\n",
              "  <div id=\"df-8bb022f9-e190-4cba-a912-72d675456941\">\n",
              "    <div class=\"colab-df-container\">\n",
              "      <div>\n",
              "<style scoped>\n",
              "    .dataframe tbody tr th:only-of-type {\n",
              "        vertical-align: middle;\n",
              "    }\n",
              "\n",
              "    .dataframe tbody tr th {\n",
              "        vertical-align: top;\n",
              "    }\n",
              "\n",
              "    .dataframe thead th {\n",
              "        text-align: right;\n",
              "    }\n",
              "</style>\n",
              "<table border=\"1\" class=\"dataframe\">\n",
              "  <thead>\n",
              "    <tr style=\"text-align: right;\">\n",
              "      <th></th>\n",
              "      <th>EventName</th>\n",
              "      <th>DeviceIDHash</th>\n",
              "      <th>EventTimestamp</th>\n",
              "      <th>ExpId</th>\n",
              "    </tr>\n",
              "  </thead>\n",
              "  <tbody>\n",
              "    <tr>\n",
              "      <th>0</th>\n",
              "      <td>MainScreenAppear</td>\n",
              "      <td>4575588528974610257</td>\n",
              "      <td>1564029816</td>\n",
              "      <td>246</td>\n",
              "    </tr>\n",
              "    <tr>\n",
              "      <th>1</th>\n",
              "      <td>MainScreenAppear</td>\n",
              "      <td>7416695313311560658</td>\n",
              "      <td>1564053102</td>\n",
              "      <td>246</td>\n",
              "    </tr>\n",
              "    <tr>\n",
              "      <th>2</th>\n",
              "      <td>PaymentScreenSuccessful</td>\n",
              "      <td>3518123091307005509</td>\n",
              "      <td>1564054127</td>\n",
              "      <td>248</td>\n",
              "    </tr>\n",
              "    <tr>\n",
              "      <th>3</th>\n",
              "      <td>CartScreenAppear</td>\n",
              "      <td>3518123091307005509</td>\n",
              "      <td>1564054127</td>\n",
              "      <td>248</td>\n",
              "    </tr>\n",
              "    <tr>\n",
              "      <th>4</th>\n",
              "      <td>PaymentScreenSuccessful</td>\n",
              "      <td>6217807653094995999</td>\n",
              "      <td>1564055322</td>\n",
              "      <td>248</td>\n",
              "    </tr>\n",
              "  </tbody>\n",
              "</table>\n",
              "</div>\n",
              "      <button class=\"colab-df-convert\" onclick=\"convertToInteractive('df-8bb022f9-e190-4cba-a912-72d675456941')\"\n",
              "              title=\"Convert this dataframe to an interactive table.\"\n",
              "              style=\"display:none;\">\n",
              "        \n",
              "  <svg xmlns=\"http://www.w3.org/2000/svg\" height=\"24px\"viewBox=\"0 0 24 24\"\n",
              "       width=\"24px\">\n",
              "    <path d=\"M0 0h24v24H0V0z\" fill=\"none\"/>\n",
              "    <path d=\"M18.56 5.44l.94 2.06.94-2.06 2.06-.94-2.06-.94-.94-2.06-.94 2.06-2.06.94zm-11 1L8.5 8.5l.94-2.06 2.06-.94-2.06-.94L8.5 2.5l-.94 2.06-2.06.94zm10 10l.94 2.06.94-2.06 2.06-.94-2.06-.94-.94-2.06-.94 2.06-2.06.94z\"/><path d=\"M17.41 7.96l-1.37-1.37c-.4-.4-.92-.59-1.43-.59-.52 0-1.04.2-1.43.59L10.3 9.45l-7.72 7.72c-.78.78-.78 2.05 0 2.83L4 21.41c.39.39.9.59 1.41.59.51 0 1.02-.2 1.41-.59l7.78-7.78 2.81-2.81c.8-.78.8-2.07 0-2.86zM5.41 20L4 18.59l7.72-7.72 1.47 1.35L5.41 20z\"/>\n",
              "  </svg>\n",
              "      </button>\n",
              "      \n",
              "  <style>\n",
              "    .colab-df-container {\n",
              "      display:flex;\n",
              "      flex-wrap:wrap;\n",
              "      gap: 12px;\n",
              "    }\n",
              "\n",
              "    .colab-df-convert {\n",
              "      background-color: #E8F0FE;\n",
              "      border: none;\n",
              "      border-radius: 50%;\n",
              "      cursor: pointer;\n",
              "      display: none;\n",
              "      fill: #1967D2;\n",
              "      height: 32px;\n",
              "      padding: 0 0 0 0;\n",
              "      width: 32px;\n",
              "    }\n",
              "\n",
              "    .colab-df-convert:hover {\n",
              "      background-color: #E2EBFA;\n",
              "      box-shadow: 0px 1px 2px rgba(60, 64, 67, 0.3), 0px 1px 3px 1px rgba(60, 64, 67, 0.15);\n",
              "      fill: #174EA6;\n",
              "    }\n",
              "\n",
              "    [theme=dark] .colab-df-convert {\n",
              "      background-color: #3B4455;\n",
              "      fill: #D2E3FC;\n",
              "    }\n",
              "\n",
              "    [theme=dark] .colab-df-convert:hover {\n",
              "      background-color: #434B5C;\n",
              "      box-shadow: 0px 1px 3px 1px rgba(0, 0, 0, 0.15);\n",
              "      filter: drop-shadow(0px 1px 2px rgba(0, 0, 0, 0.3));\n",
              "      fill: #FFFFFF;\n",
              "    }\n",
              "  </style>\n",
              "\n",
              "      <script>\n",
              "        const buttonEl =\n",
              "          document.querySelector('#df-8bb022f9-e190-4cba-a912-72d675456941 button.colab-df-convert');\n",
              "        buttonEl.style.display =\n",
              "          google.colab.kernel.accessAllowed ? 'block' : 'none';\n",
              "\n",
              "        async function convertToInteractive(key) {\n",
              "          const element = document.querySelector('#df-8bb022f9-e190-4cba-a912-72d675456941');\n",
              "          const dataTable =\n",
              "            await google.colab.kernel.invokeFunction('convertToInteractive',\n",
              "                                                     [key], {});\n",
              "          if (!dataTable) return;\n",
              "\n",
              "          const docLinkHtml = 'Like what you see? Visit the ' +\n",
              "            '<a target=\"_blank\" href=https://colab.research.google.com/notebooks/data_table.ipynb>data table notebook</a>'\n",
              "            + ' to learn more about interactive tables.';\n",
              "          element.innerHTML = '';\n",
              "          dataTable['output_type'] = 'display_data';\n",
              "          await google.colab.output.renderOutput(dataTable, element);\n",
              "          const docLink = document.createElement('div');\n",
              "          docLink.innerHTML = docLinkHtml;\n",
              "          element.appendChild(docLink);\n",
              "        }\n",
              "      </script>\n",
              "    </div>\n",
              "  </div>\n",
              "  "
            ]
          },
          "metadata": {},
          "execution_count": 3
        }
      ],
      "source": [
        "data.head()"
      ]
    },
    {
      "cell_type": "code",
      "execution_count": 4,
      "metadata": {
        "colab": {
          "base_uri": "https://localhost:8080/"
        },
        "id": "pWahprtqPsjm",
        "outputId": "796a5b81-7117-4cd3-f49b-0dcabce36d72"
      },
      "outputs": [
        {
          "output_type": "stream",
          "name": "stdout",
          "text": [
            "<class 'pandas.core.frame.DataFrame'>\n",
            "RangeIndex: 244126 entries, 0 to 244125\n",
            "Data columns (total 4 columns):\n",
            " #   Column          Non-Null Count   Dtype \n",
            "---  ------          --------------   ----- \n",
            " 0   EventName       244126 non-null  object\n",
            " 1   DeviceIDHash    244126 non-null  int64 \n",
            " 2   EventTimestamp  244126 non-null  int64 \n",
            " 3   ExpId           244126 non-null  int64 \n",
            "dtypes: int64(3), object(1)\n",
            "memory usage: 7.5+ MB\n"
          ]
        }
      ],
      "source": [
        "data.info()"
      ]
    },
    {
      "cell_type": "code",
      "execution_count": 5,
      "metadata": {
        "colab": {
          "base_uri": "https://localhost:8080/"
        },
        "id": "rMbO1q5zQjG-",
        "outputId": "91e5f750-68c6-464b-bdd5-83231ddbc85d"
      },
      "outputs": [
        {
          "output_type": "execute_result",
          "data": {
            "text/plain": [
              "Index(['EventName', 'DeviceIDHash', 'EventTimestamp', 'ExpId'], dtype='object')"
            ]
          },
          "metadata": {},
          "execution_count": 5
        }
      ],
      "source": [
        "data.columns"
      ]
    },
    {
      "cell_type": "markdown",
      "metadata": {
        "id": "iXqOa_mzQ14X"
      },
      "source": [
        "**Результаты первичного обзора данных**\n",
        "\n",
        "* Все колонки не соответствуют требуемому стилю написания и не всегда отображают суть. Поменяем наименование колонок, чтобы было удобно и не забыть, что отображает каждая колонка;\n",
        "\n",
        "* В данных нет пропусков;\n",
        "\n",
        "* В колонке со временем события данные проедставлены в формате unix time. Необходимо перевести данную колонку в привычный вид даты и времени."
      ]
    },
    {
      "cell_type": "markdown",
      "metadata": {
        "id": "uLJEa2IZSZmd"
      },
      "source": [
        "## Предобработка данных\n",
        "<a class='anchor' id='processing'></a>"
      ]
    },
    {
      "cell_type": "markdown",
      "metadata": {
        "id": "WakaKBNRScZ1"
      },
      "source": [
        "### Переименование колонок\n",
        "<a class='anchor' id='columns'></a>"
      ]
    },
    {
      "cell_type": "markdown",
      "metadata": {
        "id": "hzo8VbsxTaIt"
      },
      "source": [
        "Переименуем колонки и проверим, все ли получилось."
      ]
    },
    {
      "cell_type": "code",
      "execution_count": 6,
      "metadata": {
        "colab": {
          "base_uri": "https://localhost:8080/"
        },
        "id": "Sz-IQK76Qxde",
        "outputId": "506ccc14-a817-4aaf-c8f4-b0cb0fac60a8"
      },
      "outputs": [
        {
          "output_type": "execute_result",
          "data": {
            "text/plain": [
              "Index(['event_name', 'user_id', 'event_time', 'exp_group'], dtype='object')"
            ]
          },
          "metadata": {},
          "execution_count": 6
        }
      ],
      "source": [
        "data = data.rename(columns={\n",
        "    'EventName' : 'event_name',\n",
        "    'DeviceIDHash' : 'user_id',\n",
        "    'EventTimestamp' : 'event_time',\n",
        "    'ExpId' : 'exp_group'\n",
        "    })\n",
        "\n",
        "data.columns"
      ]
    },
    {
      "cell_type": "markdown",
      "metadata": {
        "id": "_ep9R9BUTgx0"
      },
      "source": [
        "### Изменение типов данных\n",
        "<a class='anchor' id='data-type'></a>"
      ]
    },
    {
      "cell_type": "markdown",
      "metadata": {
        "id": "gLU5ugMITvgs"
      },
      "source": [
        "Поменяем тип данных колонки `'event_time'` на `datetime` и проверим, все ли получилось."
      ]
    },
    {
      "cell_type": "code",
      "execution_count": 7,
      "metadata": {
        "colab": {
          "base_uri": "https://localhost:8080/"
        },
        "id": "caQyLR7hTUit",
        "outputId": "562f74e6-3fa6-45bd-d0fe-d71bb0b3112a"
      },
      "outputs": [
        {
          "output_type": "stream",
          "name": "stdout",
          "text": [
            "<class 'pandas.core.frame.DataFrame'>\n",
            "RangeIndex: 244126 entries, 0 to 244125\n",
            "Data columns (total 4 columns):\n",
            " #   Column      Non-Null Count   Dtype         \n",
            "---  ------      --------------   -----         \n",
            " 0   event_name  244126 non-null  object        \n",
            " 1   user_id     244126 non-null  int64         \n",
            " 2   event_time  244126 non-null  datetime64[ns]\n",
            " 3   exp_group   244126 non-null  int64         \n",
            "dtypes: datetime64[ns](1), int64(2), object(1)\n",
            "memory usage: 7.5+ MB\n"
          ]
        }
      ],
      "source": [
        "data['event_time'] = pd.to_datetime(data['event_time'], unit = 's')\n",
        "\n",
        "data.info()"
      ]
    },
    {
      "cell_type": "markdown",
      "metadata": {
        "id": "NEnl77q6YHt2"
      },
      "source": [
        "### Поиск дубликатов\n",
        "<a class='anchor' id='dublicates'></a>"
      ]
    },
    {
      "cell_type": "markdown",
      "metadata": {
        "id": "NLWm7GFjaWqt"
      },
      "source": [
        "Проверим, есть ли в таблице строки-дубликаты и посчитаем их количество."
      ]
    },
    {
      "cell_type": "code",
      "execution_count": 8,
      "metadata": {
        "colab": {
          "base_uri": "https://localhost:8080/"
        },
        "id": "ztlYojUiWHoy",
        "outputId": "31a1f6fe-9940-46d2-8630-1eb7120cebde"
      },
      "outputs": [
        {
          "output_type": "execute_result",
          "data": {
            "text/plain": [
              "413"
            ]
          },
          "metadata": {},
          "execution_count": 8
        }
      ],
      "source": [
        "data.duplicated().sum()"
      ]
    },
    {
      "cell_type": "markdown",
      "metadata": {
        "id": "3o5iDPg3apbs"
      },
      "source": [
        "Посмотрим, как выглядят дубликаты."
      ]
    },
    {
      "cell_type": "code",
      "execution_count": 9,
      "metadata": {
        "colab": {
          "base_uri": "https://localhost:8080/",
          "height": 363
        },
        "id": "Kz3-znV1YSzy",
        "outputId": "52de3150-c544-435d-ef07-029ef1fa7a9d"
      },
      "outputs": [
        {
          "output_type": "execute_result",
          "data": {
            "text/plain": [
              "            event_name              user_id          event_time  exp_group\n",
              "452   MainScreenAppear  5613408041324010552 2019-07-30 08:19:44        248\n",
              "453   MainScreenAppear  5613408041324010552 2019-07-30 08:19:44        248\n",
              "2348  CartScreenAppear  1694940645335807244 2019-07-31 21:51:39        248\n",
              "2350  CartScreenAppear  1694940645335807244 2019-07-31 21:51:39        248\n",
              "3572  MainScreenAppear   434103746454591587 2019-08-01 02:59:37        248\n",
              "3573  MainScreenAppear   434103746454591587 2019-08-01 02:59:37        248\n",
              "4075  MainScreenAppear  3761373764179762633 2019-08-01 03:47:46        247\n",
              "4076  MainScreenAppear  3761373764179762633 2019-08-01 03:47:46        247\n",
              "4801  MainScreenAppear  2835328739789306622 2019-08-01 04:44:01        248\n",
              "4803  MainScreenAppear  2835328739789306622 2019-08-01 04:44:01        248"
            ],
            "text/html": [
              "\n",
              "  <div id=\"df-51f79fe5-bd41-45d9-b334-3e23ec750d9c\">\n",
              "    <div class=\"colab-df-container\">\n",
              "      <div>\n",
              "<style scoped>\n",
              "    .dataframe tbody tr th:only-of-type {\n",
              "        vertical-align: middle;\n",
              "    }\n",
              "\n",
              "    .dataframe tbody tr th {\n",
              "        vertical-align: top;\n",
              "    }\n",
              "\n",
              "    .dataframe thead th {\n",
              "        text-align: right;\n",
              "    }\n",
              "</style>\n",
              "<table border=\"1\" class=\"dataframe\">\n",
              "  <thead>\n",
              "    <tr style=\"text-align: right;\">\n",
              "      <th></th>\n",
              "      <th>event_name</th>\n",
              "      <th>user_id</th>\n",
              "      <th>event_time</th>\n",
              "      <th>exp_group</th>\n",
              "    </tr>\n",
              "  </thead>\n",
              "  <tbody>\n",
              "    <tr>\n",
              "      <th>452</th>\n",
              "      <td>MainScreenAppear</td>\n",
              "      <td>5613408041324010552</td>\n",
              "      <td>2019-07-30 08:19:44</td>\n",
              "      <td>248</td>\n",
              "    </tr>\n",
              "    <tr>\n",
              "      <th>453</th>\n",
              "      <td>MainScreenAppear</td>\n",
              "      <td>5613408041324010552</td>\n",
              "      <td>2019-07-30 08:19:44</td>\n",
              "      <td>248</td>\n",
              "    </tr>\n",
              "    <tr>\n",
              "      <th>2348</th>\n",
              "      <td>CartScreenAppear</td>\n",
              "      <td>1694940645335807244</td>\n",
              "      <td>2019-07-31 21:51:39</td>\n",
              "      <td>248</td>\n",
              "    </tr>\n",
              "    <tr>\n",
              "      <th>2350</th>\n",
              "      <td>CartScreenAppear</td>\n",
              "      <td>1694940645335807244</td>\n",
              "      <td>2019-07-31 21:51:39</td>\n",
              "      <td>248</td>\n",
              "    </tr>\n",
              "    <tr>\n",
              "      <th>3572</th>\n",
              "      <td>MainScreenAppear</td>\n",
              "      <td>434103746454591587</td>\n",
              "      <td>2019-08-01 02:59:37</td>\n",
              "      <td>248</td>\n",
              "    </tr>\n",
              "    <tr>\n",
              "      <th>3573</th>\n",
              "      <td>MainScreenAppear</td>\n",
              "      <td>434103746454591587</td>\n",
              "      <td>2019-08-01 02:59:37</td>\n",
              "      <td>248</td>\n",
              "    </tr>\n",
              "    <tr>\n",
              "      <th>4075</th>\n",
              "      <td>MainScreenAppear</td>\n",
              "      <td>3761373764179762633</td>\n",
              "      <td>2019-08-01 03:47:46</td>\n",
              "      <td>247</td>\n",
              "    </tr>\n",
              "    <tr>\n",
              "      <th>4076</th>\n",
              "      <td>MainScreenAppear</td>\n",
              "      <td>3761373764179762633</td>\n",
              "      <td>2019-08-01 03:47:46</td>\n",
              "      <td>247</td>\n",
              "    </tr>\n",
              "    <tr>\n",
              "      <th>4801</th>\n",
              "      <td>MainScreenAppear</td>\n",
              "      <td>2835328739789306622</td>\n",
              "      <td>2019-08-01 04:44:01</td>\n",
              "      <td>248</td>\n",
              "    </tr>\n",
              "    <tr>\n",
              "      <th>4803</th>\n",
              "      <td>MainScreenAppear</td>\n",
              "      <td>2835328739789306622</td>\n",
              "      <td>2019-08-01 04:44:01</td>\n",
              "      <td>248</td>\n",
              "    </tr>\n",
              "  </tbody>\n",
              "</table>\n",
              "</div>\n",
              "      <button class=\"colab-df-convert\" onclick=\"convertToInteractive('df-51f79fe5-bd41-45d9-b334-3e23ec750d9c')\"\n",
              "              title=\"Convert this dataframe to an interactive table.\"\n",
              "              style=\"display:none;\">\n",
              "        \n",
              "  <svg xmlns=\"http://www.w3.org/2000/svg\" height=\"24px\"viewBox=\"0 0 24 24\"\n",
              "       width=\"24px\">\n",
              "    <path d=\"M0 0h24v24H0V0z\" fill=\"none\"/>\n",
              "    <path d=\"M18.56 5.44l.94 2.06.94-2.06 2.06-.94-2.06-.94-.94-2.06-.94 2.06-2.06.94zm-11 1L8.5 8.5l.94-2.06 2.06-.94-2.06-.94L8.5 2.5l-.94 2.06-2.06.94zm10 10l.94 2.06.94-2.06 2.06-.94-2.06-.94-.94-2.06-.94 2.06-2.06.94z\"/><path d=\"M17.41 7.96l-1.37-1.37c-.4-.4-.92-.59-1.43-.59-.52 0-1.04.2-1.43.59L10.3 9.45l-7.72 7.72c-.78.78-.78 2.05 0 2.83L4 21.41c.39.39.9.59 1.41.59.51 0 1.02-.2 1.41-.59l7.78-7.78 2.81-2.81c.8-.78.8-2.07 0-2.86zM5.41 20L4 18.59l7.72-7.72 1.47 1.35L5.41 20z\"/>\n",
              "  </svg>\n",
              "      </button>\n",
              "      \n",
              "  <style>\n",
              "    .colab-df-container {\n",
              "      display:flex;\n",
              "      flex-wrap:wrap;\n",
              "      gap: 12px;\n",
              "    }\n",
              "\n",
              "    .colab-df-convert {\n",
              "      background-color: #E8F0FE;\n",
              "      border: none;\n",
              "      border-radius: 50%;\n",
              "      cursor: pointer;\n",
              "      display: none;\n",
              "      fill: #1967D2;\n",
              "      height: 32px;\n",
              "      padding: 0 0 0 0;\n",
              "      width: 32px;\n",
              "    }\n",
              "\n",
              "    .colab-df-convert:hover {\n",
              "      background-color: #E2EBFA;\n",
              "      box-shadow: 0px 1px 2px rgba(60, 64, 67, 0.3), 0px 1px 3px 1px rgba(60, 64, 67, 0.15);\n",
              "      fill: #174EA6;\n",
              "    }\n",
              "\n",
              "    [theme=dark] .colab-df-convert {\n",
              "      background-color: #3B4455;\n",
              "      fill: #D2E3FC;\n",
              "    }\n",
              "\n",
              "    [theme=dark] .colab-df-convert:hover {\n",
              "      background-color: #434B5C;\n",
              "      box-shadow: 0px 1px 3px 1px rgba(0, 0, 0, 0.15);\n",
              "      filter: drop-shadow(0px 1px 2px rgba(0, 0, 0, 0.3));\n",
              "      fill: #FFFFFF;\n",
              "    }\n",
              "  </style>\n",
              "\n",
              "      <script>\n",
              "        const buttonEl =\n",
              "          document.querySelector('#df-51f79fe5-bd41-45d9-b334-3e23ec750d9c button.colab-df-convert');\n",
              "        buttonEl.style.display =\n",
              "          google.colab.kernel.accessAllowed ? 'block' : 'none';\n",
              "\n",
              "        async function convertToInteractive(key) {\n",
              "          const element = document.querySelector('#df-51f79fe5-bd41-45d9-b334-3e23ec750d9c');\n",
              "          const dataTable =\n",
              "            await google.colab.kernel.invokeFunction('convertToInteractive',\n",
              "                                                     [key], {});\n",
              "          if (!dataTable) return;\n",
              "\n",
              "          const docLinkHtml = 'Like what you see? Visit the ' +\n",
              "            '<a target=\"_blank\" href=https://colab.research.google.com/notebooks/data_table.ipynb>data table notebook</a>'\n",
              "            + ' to learn more about interactive tables.';\n",
              "          element.innerHTML = '';\n",
              "          dataTable['output_type'] = 'display_data';\n",
              "          await google.colab.output.renderOutput(dataTable, element);\n",
              "          const docLink = document.createElement('div');\n",
              "          docLink.innerHTML = docLinkHtml;\n",
              "          element.appendChild(docLink);\n",
              "        }\n",
              "      </script>\n",
              "    </div>\n",
              "  </div>\n",
              "  "
            ]
          },
          "metadata": {},
          "execution_count": 9
        }
      ],
      "source": [
        "data.loc[data.duplicated(keep=False)].head(10)"
      ]
    },
    {
      "cell_type": "code",
      "execution_count": 10,
      "metadata": {
        "colab": {
          "base_uri": "https://localhost:8080/"
        },
        "id": "r75VgrVvYYO5",
        "outputId": "fd694613-3e4c-4cb5-ae78-bfcb5bf404e0"
      },
      "outputs": [
        {
          "output_type": "stream",
          "name": "stdout",
          "text": [
            "Процент дубликатов на удаление: 0.17 %\n"
          ]
        }
      ],
      "source": [
        "print(\n",
        "    'Процент дубликатов на удаление:',\n",
        "    round(len(data.loc[data.duplicated()]) / len(data) * 100, 2),\n",
        "    '%'\n",
        "    )"
      ]
    },
    {
      "cell_type": "markdown",
      "metadata": {
        "id": "RElt_01Wbjg-"
      },
      "source": [
        "Всего в датасете более 244 тыс. строк, поэтому удаление 413 никак не повлияет на дальнейших анализ."
      ]
    },
    {
      "cell_type": "code",
      "execution_count": 11,
      "metadata": {
        "colab": {
          "base_uri": "https://localhost:8080/"
        },
        "id": "XZTw51cYbP82",
        "outputId": "6e75a453-876f-4241-f372-89ce2afea886"
      },
      "outputs": [
        {
          "output_type": "stream",
          "name": "stdout",
          "text": [
            "<class 'pandas.core.frame.DataFrame'>\n",
            "Int64Index: 243713 entries, 0 to 244125\n",
            "Data columns (total 4 columns):\n",
            " #   Column      Non-Null Count   Dtype         \n",
            "---  ------      --------------   -----         \n",
            " 0   event_name  243713 non-null  object        \n",
            " 1   user_id     243713 non-null  int64         \n",
            " 2   event_time  243713 non-null  datetime64[ns]\n",
            " 3   exp_group   243713 non-null  int64         \n",
            "dtypes: datetime64[ns](1), int64(2), object(1)\n",
            "memory usage: 9.3+ MB\n"
          ]
        }
      ],
      "source": [
        "data = data.drop_duplicates()\n",
        "\n",
        "data.info() # посмотрим, сколько строк стало в датасете"
      ]
    },
    {
      "cell_type": "markdown",
      "metadata": {
        "id": "IA5_8yvYc9nb"
      },
      "source": [
        "### Добавление колонки с датой события\n",
        "<a class='anchor' id='date-column'></a>"
      ]
    },
    {
      "cell_type": "markdown",
      "metadata": {
        "id": "bAOvZiBThyIc"
      },
      "source": [
        "Добавим колонку с датой, преобразовав колонку с временем события, и посмотрим, как выглядит датасет с новой колонкой."
      ]
    },
    {
      "cell_type": "code",
      "execution_count": 12,
      "metadata": {
        "colab": {
          "base_uri": "https://localhost:8080/",
          "height": 206
        },
        "id": "n28M4nrjcLgw",
        "outputId": "b06faf44-c9d0-4e64-f765-59b38202ef2d"
      },
      "outputs": [
        {
          "output_type": "execute_result",
          "data": {
            "text/plain": [
              "                event_name              user_id          event_time  \\\n",
              "0         MainScreenAppear  4575588528974610257 2019-07-25 04:43:36   \n",
              "1         MainScreenAppear  7416695313311560658 2019-07-25 11:11:42   \n",
              "2  PaymentScreenSuccessful  3518123091307005509 2019-07-25 11:28:47   \n",
              "3         CartScreenAppear  3518123091307005509 2019-07-25 11:28:47   \n",
              "4  PaymentScreenSuccessful  6217807653094995999 2019-07-25 11:48:42   \n",
              "\n",
              "   exp_group event_date  \n",
              "0        246 2019-07-25  \n",
              "1        246 2019-07-25  \n",
              "2        248 2019-07-25  \n",
              "3        248 2019-07-25  \n",
              "4        248 2019-07-25  "
            ],
            "text/html": [
              "\n",
              "  <div id=\"df-abdc6628-4444-4593-8e20-b4e5e4018b86\">\n",
              "    <div class=\"colab-df-container\">\n",
              "      <div>\n",
              "<style scoped>\n",
              "    .dataframe tbody tr th:only-of-type {\n",
              "        vertical-align: middle;\n",
              "    }\n",
              "\n",
              "    .dataframe tbody tr th {\n",
              "        vertical-align: top;\n",
              "    }\n",
              "\n",
              "    .dataframe thead th {\n",
              "        text-align: right;\n",
              "    }\n",
              "</style>\n",
              "<table border=\"1\" class=\"dataframe\">\n",
              "  <thead>\n",
              "    <tr style=\"text-align: right;\">\n",
              "      <th></th>\n",
              "      <th>event_name</th>\n",
              "      <th>user_id</th>\n",
              "      <th>event_time</th>\n",
              "      <th>exp_group</th>\n",
              "      <th>event_date</th>\n",
              "    </tr>\n",
              "  </thead>\n",
              "  <tbody>\n",
              "    <tr>\n",
              "      <th>0</th>\n",
              "      <td>MainScreenAppear</td>\n",
              "      <td>4575588528974610257</td>\n",
              "      <td>2019-07-25 04:43:36</td>\n",
              "      <td>246</td>\n",
              "      <td>2019-07-25</td>\n",
              "    </tr>\n",
              "    <tr>\n",
              "      <th>1</th>\n",
              "      <td>MainScreenAppear</td>\n",
              "      <td>7416695313311560658</td>\n",
              "      <td>2019-07-25 11:11:42</td>\n",
              "      <td>246</td>\n",
              "      <td>2019-07-25</td>\n",
              "    </tr>\n",
              "    <tr>\n",
              "      <th>2</th>\n",
              "      <td>PaymentScreenSuccessful</td>\n",
              "      <td>3518123091307005509</td>\n",
              "      <td>2019-07-25 11:28:47</td>\n",
              "      <td>248</td>\n",
              "      <td>2019-07-25</td>\n",
              "    </tr>\n",
              "    <tr>\n",
              "      <th>3</th>\n",
              "      <td>CartScreenAppear</td>\n",
              "      <td>3518123091307005509</td>\n",
              "      <td>2019-07-25 11:28:47</td>\n",
              "      <td>248</td>\n",
              "      <td>2019-07-25</td>\n",
              "    </tr>\n",
              "    <tr>\n",
              "      <th>4</th>\n",
              "      <td>PaymentScreenSuccessful</td>\n",
              "      <td>6217807653094995999</td>\n",
              "      <td>2019-07-25 11:48:42</td>\n",
              "      <td>248</td>\n",
              "      <td>2019-07-25</td>\n",
              "    </tr>\n",
              "  </tbody>\n",
              "</table>\n",
              "</div>\n",
              "      <button class=\"colab-df-convert\" onclick=\"convertToInteractive('df-abdc6628-4444-4593-8e20-b4e5e4018b86')\"\n",
              "              title=\"Convert this dataframe to an interactive table.\"\n",
              "              style=\"display:none;\">\n",
              "        \n",
              "  <svg xmlns=\"http://www.w3.org/2000/svg\" height=\"24px\"viewBox=\"0 0 24 24\"\n",
              "       width=\"24px\">\n",
              "    <path d=\"M0 0h24v24H0V0z\" fill=\"none\"/>\n",
              "    <path d=\"M18.56 5.44l.94 2.06.94-2.06 2.06-.94-2.06-.94-.94-2.06-.94 2.06-2.06.94zm-11 1L8.5 8.5l.94-2.06 2.06-.94-2.06-.94L8.5 2.5l-.94 2.06-2.06.94zm10 10l.94 2.06.94-2.06 2.06-.94-2.06-.94-.94-2.06-.94 2.06-2.06.94z\"/><path d=\"M17.41 7.96l-1.37-1.37c-.4-.4-.92-.59-1.43-.59-.52 0-1.04.2-1.43.59L10.3 9.45l-7.72 7.72c-.78.78-.78 2.05 0 2.83L4 21.41c.39.39.9.59 1.41.59.51 0 1.02-.2 1.41-.59l7.78-7.78 2.81-2.81c.8-.78.8-2.07 0-2.86zM5.41 20L4 18.59l7.72-7.72 1.47 1.35L5.41 20z\"/>\n",
              "  </svg>\n",
              "      </button>\n",
              "      \n",
              "  <style>\n",
              "    .colab-df-container {\n",
              "      display:flex;\n",
              "      flex-wrap:wrap;\n",
              "      gap: 12px;\n",
              "    }\n",
              "\n",
              "    .colab-df-convert {\n",
              "      background-color: #E8F0FE;\n",
              "      border: none;\n",
              "      border-radius: 50%;\n",
              "      cursor: pointer;\n",
              "      display: none;\n",
              "      fill: #1967D2;\n",
              "      height: 32px;\n",
              "      padding: 0 0 0 0;\n",
              "      width: 32px;\n",
              "    }\n",
              "\n",
              "    .colab-df-convert:hover {\n",
              "      background-color: #E2EBFA;\n",
              "      box-shadow: 0px 1px 2px rgba(60, 64, 67, 0.3), 0px 1px 3px 1px rgba(60, 64, 67, 0.15);\n",
              "      fill: #174EA6;\n",
              "    }\n",
              "\n",
              "    [theme=dark] .colab-df-convert {\n",
              "      background-color: #3B4455;\n",
              "      fill: #D2E3FC;\n",
              "    }\n",
              "\n",
              "    [theme=dark] .colab-df-convert:hover {\n",
              "      background-color: #434B5C;\n",
              "      box-shadow: 0px 1px 3px 1px rgba(0, 0, 0, 0.15);\n",
              "      filter: drop-shadow(0px 1px 2px rgba(0, 0, 0, 0.3));\n",
              "      fill: #FFFFFF;\n",
              "    }\n",
              "  </style>\n",
              "\n",
              "      <script>\n",
              "        const buttonEl =\n",
              "          document.querySelector('#df-abdc6628-4444-4593-8e20-b4e5e4018b86 button.colab-df-convert');\n",
              "        buttonEl.style.display =\n",
              "          google.colab.kernel.accessAllowed ? 'block' : 'none';\n",
              "\n",
              "        async function convertToInteractive(key) {\n",
              "          const element = document.querySelector('#df-abdc6628-4444-4593-8e20-b4e5e4018b86');\n",
              "          const dataTable =\n",
              "            await google.colab.kernel.invokeFunction('convertToInteractive',\n",
              "                                                     [key], {});\n",
              "          if (!dataTable) return;\n",
              "\n",
              "          const docLinkHtml = 'Like what you see? Visit the ' +\n",
              "            '<a target=\"_blank\" href=https://colab.research.google.com/notebooks/data_table.ipynb>data table notebook</a>'\n",
              "            + ' to learn more about interactive tables.';\n",
              "          element.innerHTML = '';\n",
              "          dataTable['output_type'] = 'display_data';\n",
              "          await google.colab.output.renderOutput(dataTable, element);\n",
              "          const docLink = document.createElement('div');\n",
              "          docLink.innerHTML = docLinkHtml;\n",
              "          element.appendChild(docLink);\n",
              "        }\n",
              "      </script>\n",
              "    </div>\n",
              "  </div>\n",
              "  "
            ]
          },
          "metadata": {},
          "execution_count": 12
        }
      ],
      "source": [
        "data['event_date'] = pd.to_datetime(data['event_time']).dt.normalize()\n",
        "\n",
        "data.head()"
      ]
    },
    {
      "cell_type": "markdown",
      "metadata": {
        "id": "1Z3eJpxG5BJb"
      },
      "source": [
        "## Проверка качества данных\n",
        "<a class='anchor' id='data-check'></a>"
      ]
    },
    {
      "cell_type": "markdown",
      "metadata": {
        "id": "WodT3aBj8y-t"
      },
      "source": [
        "Мы сделали предобработку данных. Теперь посмотрим на их качество."
      ]
    },
    {
      "cell_type": "markdown",
      "metadata": {
        "id": "jHm3y3XSLC3a"
      },
      "source": [
        "### События\n",
        "<a class='anchor' id='event-check'></a>"
      ]
    },
    {
      "cell_type": "code",
      "execution_count": 13,
      "metadata": {
        "colab": {
          "base_uri": "https://localhost:8080/"
        },
        "id": "p_nAN--OgTWk",
        "outputId": "f743e5bb-491d-41cf-fd84-c10818b20556"
      },
      "outputs": [
        {
          "output_type": "execute_result",
          "data": {
            "text/plain": [
              "MainScreenAppear           119101\n",
              "OffersScreenAppear          46808\n",
              "CartScreenAppear            42668\n",
              "PaymentScreenSuccessful     34118\n",
              "Tutorial                     1018\n",
              "Name: event_name, dtype: int64"
            ]
          },
          "metadata": {},
          "execution_count": 13
        }
      ],
      "source": [
        "# посмотрим, какие события есть в датасете\n",
        "\n",
        "data['event_name'].value_counts()"
      ]
    },
    {
      "cell_type": "markdown",
      "metadata": {
        "id": "J3CQ61I69hah"
      },
      "source": [
        "Всего 5 событий:\n",
        "1. просмотр главной страницы;\n",
        "2. просмотр страницы с товарами;\n",
        "3. просмотр страницы с корзиной;\n",
        "4. просмотр страницы с успешной оплатой;\n",
        "5. просмотр страницы с инструкцией.\n",
        "\n",
        "Конечно, главную страницу смотрят чаще всего. По количеству событий, можно предположить, что меньше половины пользователей с главной страницы переходят к товарам, а вот дальнейшая конверсия выглядит хорошо. Проверим это в анализе воронки."
      ]
    },
    {
      "cell_type": "markdown",
      "metadata": {
        "id": "GQiuoyXDLbWX"
      },
      "source": [
        "### Пользователи\n",
        "<a class='anchor' id='user-check'></a>"
      ]
    },
    {
      "cell_type": "code",
      "execution_count": 14,
      "metadata": {
        "colab": {
          "base_uri": "https://localhost:8080/"
        },
        "id": "XPhZRl2x9WfO",
        "outputId": "7c5096e3-bae1-479f-d111-56b52f7188bc"
      },
      "outputs": [
        {
          "output_type": "execute_result",
          "data": {
            "text/plain": [
              "7551"
            ]
          },
          "metadata": {},
          "execution_count": 14
        }
      ],
      "source": [
        "# посмотрим количество уникальных пользователей\n",
        "\n",
        "data['user_id'].nunique()"
      ]
    },
    {
      "cell_type": "markdown",
      "metadata": {
        "id": "JNoY9KQA_Evq"
      },
      "source": [
        "Выглядит так, что 7.5 тыс. пользователей очень активны и совершают огромное количество действий либо может оказаться наоборот, что из этих 7.5 лишь маленький процент очень продуктивен в совершении покупок."
      ]
    },
    {
      "cell_type": "code",
      "execution_count": 15,
      "metadata": {
        "colab": {
          "base_uri": "https://localhost:8080/"
        },
        "id": "KxlLMJaC-9fc",
        "outputId": "a0c04a04-27d2-4170-996b-cc3f4c391d1c"
      },
      "outputs": [
        {
          "output_type": "stream",
          "name": "stdout",
          "text": [
            "Среднее количество событий на пользователя: 32\n",
            "Медианное количество событий на пользователя: 20\n"
          ]
        }
      ],
      "source": [
        "# посчтитаем среднее и медианное количество событий для одного пользователя\n",
        "# для этого сгруппируем данные по id пользователей и посчитаем количесво строк\n",
        "# колонки со временем события, значения которой уникальны для пользователей\n",
        "\n",
        "print(\n",
        "    'Среднее количество событий на пользователя:',\n",
        "    int(data.groupby('user_id').agg({'event_time' : 'count'}).mean())\n",
        ")\n",
        "\n",
        "print(\n",
        "    'Медианное количество событий на пользователя:',\n",
        "    int(data.groupby('user_id').agg({'event_time' : 'count'}).median())\n",
        ")"
      ]
    },
    {
      "cell_type": "markdown",
      "metadata": {
        "id": "h5EKbccJAsZp"
      },
      "source": [
        "Среднее количество больше медианного на 60% процентов, поэтому есть большая вероятность того, что вторая теория (большинство пользователей не активно в совершении действий) может подтвердиться. Проверим это, построив гистограмму."
      ]
    },
    {
      "cell_type": "code",
      "execution_count": 16,
      "metadata": {
        "colab": {
          "base_uri": "https://localhost:8080/",
          "height": 459
        },
        "id": "KZO8sWO6pUnd",
        "outputId": "83137b7e-1da8-4c70-f042-207a24899101"
      },
      "outputs": [
        {
          "output_type": "display_data",
          "data": {
            "text/plain": [
              "<Figure size 1080x504 with 1 Axes>"
            ],
            "image/png": "[encoded data removed]"
          },
          "metadata": {
            "needs_background": "light"
          }
        }
      ],
      "source": [
        "plt.figure(figsize=(15, 7))\n",
        "\n",
        "sns.histplot(\n",
        "    data=data.groupby('user_id').agg({'event_time' : 'count'})['event_time'],\n",
        "    bins=300, color='#9400D3')\n",
        "\n",
        "plt.title('Распределение количества событий на одного пользователя')\n",
        "plt.xlabel('Количество событий')\n",
        "plt.xlim(0, 200)\n",
        "plt.ylabel('Количество пользователей')\n",
        "\n",
        "plt.show()"
      ]
    },
    {
      "cell_type": "markdown",
      "metadata": {
        "id": "kC1B--w7q5Vw"
      },
      "source": [
        "Предположение подтвердилось: большинство пользователей, а именно 1700, за время проведения эксперимента совершило до 8 событий."
      ]
    },
    {
      "cell_type": "markdown",
      "metadata": {
        "id": "VsawFtkBLiKn"
      },
      "source": [
        "### Дата и время событий\n",
        "<a class='anchor' id='date-check'></a>"
      ]
    },
    {
      "cell_type": "code",
      "execution_count": 17,
      "metadata": {
        "colab": {
          "base_uri": "https://localhost:8080/"
        },
        "id": "-4wUG_28BZjT",
        "outputId": "3f1a1947-60b2-4ec4-8494-ae3465e5c92f"
      },
      "outputs": [
        {
          "output_type": "stream",
          "name": "stdout",
          "text": [
            "Начало периода: 2019-07-25 00:00:00\n",
            "Конец периода: 2019-08-07 00:00:00\n"
          ]
        }
      ],
      "source": [
        "# посмотрим период, за который предоставлены данные\n",
        "# найдем максимальное и минимальное значения колонки с датами событий\n",
        "\n",
        "print('Начало периода:', min(data['event_date']))\n",
        "\n",
        "print('Конец периода:', max(data['event_date']))"
      ]
    },
    {
      "cell_type": "markdown",
      "metadata": {
        "id": "H5V_GmtACkcC"
      },
      "source": [
        "Мы имеем данные с 25.07.2019 по 07.08.2019. Посмотрим, как они распределены, с помощью графика."
      ]
    },
    {
      "cell_type": "code",
      "execution_count": 18,
      "metadata": {
        "colab": {
          "base_uri": "https://localhost:8080/",
          "height": 497
        },
        "id": "Li92YHuhpL8B",
        "outputId": "dae2b885-c76d-406d-f851-822bb2b7ab15"
      },
      "outputs": [
        {
          "output_type": "display_data",
          "data": {
            "text/plain": [
              "<Figure size 1080x504 with 1 Axes>"
            ],
            "image/png": "[encoded data removed]"
          },
          "metadata": {
            "needs_background": "light"
          }
        }
      ],
      "source": [
        "plt.figure(figsize=(15, 7))\n",
        "\n",
        "sns.histplot(data=data['event_time'], bins=100, color='#4B0082')\n",
        "\n",
        "plt.title('Распределение данных по времени и дате события')\n",
        "plt.xlabel('Дата события')\n",
        "plt.xticks(rotation=-45)\n",
        "plt.ylabel('Количество событий')\n",
        "\n",
        "plt.show()"
      ]
    },
    {
      "cell_type": "markdown",
      "metadata": {
        "id": "gGeUX7lHIig6"
      },
      "source": [
        "Данные распределены неравномерно. Определенно, до 01.08.2019 данные неполные. Придется их удалить."
      ]
    },
    {
      "cell_type": "code",
      "execution_count": 19,
      "metadata": {
        "colab": {
          "base_uri": "https://localhost:8080/"
        },
        "id": "cefZRwxWJ4zB",
        "outputId": "6633cc40-e9bb-482d-a9c3-7084bb75b19c"
      },
      "outputs": [
        {
          "output_type": "stream",
          "name": "stdout",
          "text": [
            "Всего строк / событий в таблице: 243713\n",
            "Количество строк / событий на удаление: 2826\n",
            "Процент строк / событий на удаление: 1.16 %\n",
            "\n",
            "Всего пользователей в таблице: 7551\n",
            "Количество пользователей на удаление: 1451\n",
            "Процент пользователей на удаление: 19.22 %\n"
          ]
        }
      ],
      "source": [
        "# посмотрим, сколько данных нужно удалить\n",
        "\n",
        "print('Всего строк / событий в таблице:', len(data))\n",
        "\n",
        "print(\n",
        "    'Количество строк / событий на удаление:',\n",
        "    len(data.loc[data['event_date'] < '2019-08-01'])\n",
        "    )\n",
        "\n",
        "print(\n",
        "    'Процент строк / событий на удаление:',\n",
        "    round(\n",
        "        len(data.loc[data['event_date'] < '2019-08-01']) /\n",
        "        len(data) * 100, 2\n",
        "        ), '%'\n",
        "    )\n",
        "\n",
        "print()\n",
        "\n",
        "print('Всего пользователей в таблице:', data['user_id'].nunique())\n",
        "\n",
        "print(\n",
        "    'Количество пользователей на удаление:',\n",
        "    data.query('event_date < \"2019-08-01\"')['user_id'].nunique()\n",
        "    )\n",
        "\n",
        "print(\n",
        "    'Процент пользователей на удаление:',\n",
        "    round(\n",
        "        data.query('event_date < \"2019-08-01\"')['user_id'].nunique() /\n",
        "        data['user_id'].nunique() * 100, 2\n",
        "        ), '%'\n",
        "    )"
      ]
    },
    {
      "cell_type": "code",
      "execution_count": 20,
      "metadata": {
        "colab": {
          "base_uri": "https://localhost:8080/"
        },
        "id": "VMA1yNRJEL5R",
        "outputId": "4dbb39e4-b902-4a50-af7e-9e805ad1c79a"
      },
      "outputs": [
        {
          "output_type": "execute_result",
          "data": {
            "text/plain": [
              "2019-08-01    36141\n",
              "2019-08-05    36058\n",
              "2019-08-06    35788\n",
              "2019-08-02    35554\n",
              "2019-08-03    33282\n",
              "2019-08-04    32968\n",
              "2019-08-07    31096\n",
              "Name: event_date, dtype: int64"
            ]
          },
          "metadata": {},
          "execution_count": 20
        }
      ],
      "source": [
        "# удаляем лишние строки\n",
        "\n",
        "data = data.loc[data['event_date'] >= '2019-08-01']\n",
        "\n",
        "# проверим, все ли получилось\n",
        "\n",
        "data['event_date'].value_counts()"
      ]
    },
    {
      "cell_type": "code",
      "source": [
        "# посмотрим, сколько пользователей осталось\n",
        "\n",
        "print(\n",
        "    'Количество уникальных пользователей в новом датасете:',\n",
        "    data['user_id'].nunique()\n",
        "    )"
      ],
      "metadata": {
        "colab": {
          "base_uri": "https://localhost:8080/"
        },
        "id": "JwS7BlB-yGJZ",
        "outputId": "bb2aa210-6928-4e0b-b5f0-53769a90ccb5"
      },
      "execution_count": 21,
      "outputs": [
        {
          "output_type": "stream",
          "name": "stdout",
          "text": [
            "Количество уникальных пользователей в новом датасете: 7534\n"
          ]
        }
      ]
    },
    {
      "cell_type": "markdown",
      "metadata": {
        "id": "mEx3IpffJVQv"
      },
      "source": [
        "Мы удалили 1.16% строк, что очень мало. Также мы полность удалили данные о 17 пользователях, или 0.23% от всех пользователей.\n",
        "\n",
        "В итоге у нас остались данные за период 01-07.08.2019: неделя с равномерным ежедневным распределением данных."
      ]
    },
    {
      "cell_type": "markdown",
      "metadata": {
        "id": "I8-XwY-SL3rQ"
      },
      "source": [
        "### Экспериментальные группы\n",
        "<a class='anchor' id='group-check'></a>"
      ]
    },
    {
      "cell_type": "code",
      "execution_count": 22,
      "metadata": {
        "colab": {
          "base_uri": "https://localhost:8080/"
        },
        "id": "FnxZJDLvMOvy",
        "outputId": "f5ecb90c-7eeb-4aff-f9b3-2ba0b1fc400a"
      },
      "outputs": [
        {
          "output_type": "execute_result",
          "data": {
            "text/plain": [
              "248    84563\n",
              "246    79302\n",
              "247    77022\n",
              "Name: exp_group, dtype: int64"
            ]
          },
          "metadata": {},
          "execution_count": 22
        }
      ],
      "source": [
        "# проверим, есть ли в датасете три экспериментальные группы\n",
        "\n",
        "data['exp_group'].value_counts()"
      ]
    },
    {
      "cell_type": "markdown",
      "metadata": {
        "id": "54J6eJkeMnp5"
      },
      "source": [
        "В датасете присутствуют три группы пользователей: 246 и 247 — контрольные группы, 248 — экспериментальная. Лишних групп нет.\n",
        "\n",
        "Проверим, не попали ли пользователи в разные группы. Для этого сгруппируем данные по группам, найдем количество уникальных пользователей для каждой из них и найдем сумму полученных значений. если она совпадет с количество уникальных пользователей во всей таблице, то трафик был разделен успешно."
      ]
    },
    {
      "cell_type": "code",
      "execution_count": 23,
      "metadata": {
        "colab": {
          "base_uri": "https://localhost:8080/"
        },
        "id": "10KAHebPwPw5",
        "outputId": "b34215e6-620d-4994-e8ab-295afbd8d9f7"
      },
      "outputs": [
        {
          "output_type": "stream",
          "name": "stdout",
          "text": [
            "Всего пользователей в таблице: 7534\n",
            "Сумма уникальных пользователей экспериментальных групп: 7534\n"
          ]
        }
      ],
      "source": [
        "print('Всего пользователей в таблице:', data['user_id'].nunique())\n",
        "\n",
        "print(\n",
        "    'Сумма уникальных пользователей экспериментальных групп:',\n",
        "    data.groupby('exp_group').agg({'user_id' : 'nunique'})['user_id'].sum()\n",
        ")"
      ]
    },
    {
      "cell_type": "markdown",
      "metadata": {
        "id": "WSyRWOeDOxvX"
      },
      "source": [
        "Отличная работа команды! Ни один пользователь не попал в несколько групп.\n",
        "\n",
        "Данные подготовлены, можно приступать к исследовательскому анализу."
      ]
    },
    {
      "cell_type": "markdown",
      "metadata": {
        "id": "2KSdN3C_hRra"
      },
      "source": [
        "## Изучение воронки событий\n",
        "<a class='anchor' id='funnel-research'></a>"
      ]
    },
    {
      "cell_type": "markdown",
      "metadata": {
        "id": "3u3pC682ih2r"
      },
      "source": [
        "Прежде чем начать изучат воронку, посмотрим на события еще раз."
      ]
    },
    {
      "cell_type": "code",
      "execution_count": 24,
      "metadata": {
        "colab": {
          "base_uri": "https://localhost:8080/"
        },
        "id": "pU3wkWh1i6Hl",
        "outputId": "5bbf168b-845e-4fca-b2e1-5f40965add16"
      },
      "outputs": [
        {
          "output_type": "execute_result",
          "data": {
            "text/plain": [
              "MainScreenAppear           117328\n",
              "OffersScreenAppear          46333\n",
              "CartScreenAppear            42303\n",
              "PaymentScreenSuccessful     33918\n",
              "Tutorial                     1005\n",
              "Name: event_name, dtype: int64"
            ]
          },
          "metadata": {},
          "execution_count": 24
        }
      ],
      "source": [
        "data['event_name'].value_counts()"
      ]
    },
    {
      "cell_type": "markdown",
      "metadata": {
        "id": "K1Mm0jDSjJ6H"
      },
      "source": [
        "Напомним, что всего 5 событий (в порядке убывания популярности):\n",
        "1. просмотр главной страницы;\n",
        "2. просмотр страницы с товарами;\n",
        "3. просмотр страницы с корзиной;\n",
        "4. просмотр страницы с успешной оплатой;\n",
        "5. просмотр страницы с инструкцией.\n",
        "\n",
        "Посмотрим, какое количество пользователей и какая их доля совершает каждое действие. Для этого сгруппируем данные по событиям и посчитаем количество уникальных пользователей для них, построим графики."
      ]
    },
    {
      "cell_type": "code",
      "execution_count": 25,
      "metadata": {
        "colab": {
          "base_uri": "https://localhost:8080/",
          "height": 238
        },
        "id": "kbJw4nipjVhQ",
        "outputId": "0103d890-c305-42b1-ab4f-201a3b1a44ae"
      },
      "outputs": [
        {
          "output_type": "execute_result",
          "data": {
            "text/plain": [
              "                event_name  user_id  percent\n",
              "0               UsersCount     7534   100.00\n",
              "1         MainScreenAppear     7419    98.47\n",
              "2       OffersScreenAppear     4593    60.96\n",
              "3         CartScreenAppear     3734    49.56\n",
              "4  PaymentScreenSuccessful     3539    46.97\n",
              "5                 Tutorial      840    11.15"
            ],
            "text/html": [
              "\n",
              "  <div id=\"df-8d4b1b40-ba48-40d0-b131-e26281df02b3\">\n",
              "    <div class=\"colab-df-container\">\n",
              "      <div>\n",
              "<style scoped>\n",
              "    .dataframe tbody tr th:only-of-type {\n",
              "        vertical-align: middle;\n",
              "    }\n",
              "\n",
              "    .dataframe tbody tr th {\n",
              "        vertical-align: top;\n",
              "    }\n",
              "\n",
              "    .dataframe thead th {\n",
              "        text-align: right;\n",
              "    }\n",
              "</style>\n",
              "<table border=\"1\" class=\"dataframe\">\n",
              "  <thead>\n",
              "    <tr style=\"text-align: right;\">\n",
              "      <th></th>\n",
              "      <th>event_name</th>\n",
              "      <th>user_id</th>\n",
              "      <th>percent</th>\n",
              "    </tr>\n",
              "  </thead>\n",
              "  <tbody>\n",
              "    <tr>\n",
              "      <th>0</th>\n",
              "      <td>UsersCount</td>\n",
              "      <td>7534</td>\n",
              "      <td>100.00</td>\n",
              "    </tr>\n",
              "    <tr>\n",
              "      <th>1</th>\n",
              "      <td>MainScreenAppear</td>\n",
              "      <td>7419</td>\n",
              "      <td>98.47</td>\n",
              "    </tr>\n",
              "    <tr>\n",
              "      <th>2</th>\n",
              "      <td>OffersScreenAppear</td>\n",
              "      <td>4593</td>\n",
              "      <td>60.96</td>\n",
              "    </tr>\n",
              "    <tr>\n",
              "      <th>3</th>\n",
              "      <td>CartScreenAppear</td>\n",
              "      <td>3734</td>\n",
              "      <td>49.56</td>\n",
              "    </tr>\n",
              "    <tr>\n",
              "      <th>4</th>\n",
              "      <td>PaymentScreenSuccessful</td>\n",
              "      <td>3539</td>\n",
              "      <td>46.97</td>\n",
              "    </tr>\n",
              "    <tr>\n",
              "      <th>5</th>\n",
              "      <td>Tutorial</td>\n",
              "      <td>840</td>\n",
              "      <td>11.15</td>\n",
              "    </tr>\n",
              "  </tbody>\n",
              "</table>\n",
              "</div>\n",
              "      <button class=\"colab-df-convert\" onclick=\"convertToInteractive('df-8d4b1b40-ba48-40d0-b131-e26281df02b3')\"\n",
              "              title=\"Convert this dataframe to an interactive table.\"\n",
              "              style=\"display:none;\">\n",
              "        \n",
              "  <svg xmlns=\"http://www.w3.org/2000/svg\" height=\"24px\"viewBox=\"0 0 24 24\"\n",
              "       width=\"24px\">\n",
              "    <path d=\"M0 0h24v24H0V0z\" fill=\"none\"/>\n",
              "    <path d=\"M18.56 5.44l.94 2.06.94-2.06 2.06-.94-2.06-.94-.94-2.06-.94 2.06-2.06.94zm-11 1L8.5 8.5l.94-2.06 2.06-.94-2.06-.94L8.5 2.5l-.94 2.06-2.06.94zm10 10l.94 2.06.94-2.06 2.06-.94-2.06-.94-.94-2.06-.94 2.06-2.06.94z\"/><path d=\"M17.41 7.96l-1.37-1.37c-.4-.4-.92-.59-1.43-.59-.52 0-1.04.2-1.43.59L10.3 9.45l-7.72 7.72c-.78.78-.78 2.05 0 2.83L4 21.41c.39.39.9.59 1.41.59.51 0 1.02-.2 1.41-.59l7.78-7.78 2.81-2.81c.8-.78.8-2.07 0-2.86zM5.41 20L4 18.59l7.72-7.72 1.47 1.35L5.41 20z\"/>\n",
              "  </svg>\n",
              "      </button>\n",
              "      \n",
              "  <style>\n",
              "    .colab-df-container {\n",
              "      display:flex;\n",
              "      flex-wrap:wrap;\n",
              "      gap: 12px;\n",
              "    }\n",
              "\n",
              "    .colab-df-convert {\n",
              "      background-color: #E8F0FE;\n",
              "      border: none;\n",
              "      border-radius: 50%;\n",
              "      cursor: pointer;\n",
              "      display: none;\n",
              "      fill: #1967D2;\n",
              "      height: 32px;\n",
              "      padding: 0 0 0 0;\n",
              "      width: 32px;\n",
              "    }\n",
              "\n",
              "    .colab-df-convert:hover {\n",
              "      background-color: #E2EBFA;\n",
              "      box-shadow: 0px 1px 2px rgba(60, 64, 67, 0.3), 0px 1px 3px 1px rgba(60, 64, 67, 0.15);\n",
              "      fill: #174EA6;\n",
              "    }\n",
              "\n",
              "    [theme=dark] .colab-df-convert {\n",
              "      background-color: #3B4455;\n",
              "      fill: #D2E3FC;\n",
              "    }\n",
              "\n",
              "    [theme=dark] .colab-df-convert:hover {\n",
              "      background-color: #434B5C;\n",
              "      box-shadow: 0px 1px 3px 1px rgba(0, 0, 0, 0.15);\n",
              "      filter: drop-shadow(0px 1px 2px rgba(0, 0, 0, 0.3));\n",
              "      fill: #FFFFFF;\n",
              "    }\n",
              "  </style>\n",
              "\n",
              "      <script>\n",
              "        const buttonEl =\n",
              "          document.querySelector('#df-8d4b1b40-ba48-40d0-b131-e26281df02b3 button.colab-df-convert');\n",
              "        buttonEl.style.display =\n",
              "          google.colab.kernel.accessAllowed ? 'block' : 'none';\n",
              "\n",
              "        async function convertToInteractive(key) {\n",
              "          const element = document.querySelector('#df-8d4b1b40-ba48-40d0-b131-e26281df02b3');\n",
              "          const dataTable =\n",
              "            await google.colab.kernel.invokeFunction('convertToInteractive',\n",
              "                                                     [key], {});\n",
              "          if (!dataTable) return;\n",
              "\n",
              "          const docLinkHtml = 'Like what you see? Visit the ' +\n",
              "            '<a target=\"_blank\" href=https://colab.research.google.com/notebooks/data_table.ipynb>data table notebook</a>'\n",
              "            + ' to learn more about interactive tables.';\n",
              "          element.innerHTML = '';\n",
              "          dataTable['output_type'] = 'display_data';\n",
              "          await google.colab.output.renderOutput(dataTable, element);\n",
              "          const docLink = document.createElement('div');\n",
              "          docLink.innerHTML = docLinkHtml;\n",
              "          element.appendChild(docLink);\n",
              "        }\n",
              "      </script>\n",
              "    </div>\n",
              "  </div>\n",
              "  "
            ]
          },
          "metadata": {},
          "execution_count": 25
        }
      ],
      "source": [
        "event_user = (\n",
        "    data.groupby('event_name')\n",
        "    .agg({'user_id' : 'nunique'})\n",
        "    .sort_values(by='user_id', ascending=False)\n",
        "    .reset_index()\n",
        ")\n",
        "\n",
        "# добавляем общее количество пользователей для каждой группы в начало таблицы\n",
        "\n",
        "event_user.loc[-1] = ['UsersCount', data['user_id'].nunique()]\n",
        "event_user.index = event_user.index + 1\n",
        "event_user = event_user.sort_index()\n",
        "\n",
        "# добавляем колонку с процентом пользователей, совершивших действия\n",
        "# от общего количества пользователей, участвовавших в эксперименте\n",
        "\n",
        "event_user['percent'] = round(\n",
        "    event_user['user_id'] / data['user_id'].nunique() * 100, 2\n",
        "    )\n",
        "\n",
        "event_user"
      ]
    },
    {
      "cell_type": "code",
      "execution_count": 26,
      "metadata": {
        "colab": {
          "base_uri": "https://localhost:8080/",
          "height": 542
        },
        "id": "tjPx-iZJmCjw",
        "outputId": "2a84a064-ff56-4c9b-ab7b-728c33b156fc"
      },
      "outputs": [
        {
          "output_type": "display_data",
          "data": {
            "text/html": [
              "<html>\n",
              "<head><meta charset=\"utf-8\" /></head>\n",
              "<body>\n",
              "    <div>            <script src=\"https://cdnjs.cloudflare.com/ajax/libs/mathjax/2.7.5/MathJax.js?config=TeX-AMS-MML_SVG\"></script><script type=\"text/javascript\">if (window.MathJax) {MathJax.Hub.Config({SVG: {font: \"STIX-Web\"}});}</script>                <script type=\"text/javascript\">window.PlotlyConfig = {MathJaxConfig: 'local'};</script>\n",
              "        <script src=\"https://cdn.plot.ly/plotly-2.8.3.min.js\"></script>                <div id=\"967033f1-b3d5-4029-941d-d1efa6db73c4\" class=\"plotly-graph-div\" style=\"height:525px; width:100%;\"></div>            <script type=\"text/javascript\">                                    window.PLOTLYENV=window.PLOTLYENV || {};                                    if (document.getElementById(\"967033f1-b3d5-4029-941d-d1efa6db73c4\")) {                    Plotly.newPlot(                        \"967033f1-b3d5-4029-941d-d1efa6db73c4\",                        [{\"marker\":{\"color\":[\"#4B0082\",\"#8B008B\",\"#9932CC\",\"#9400D3\",\"#8A2BE2\",\"#483D8B\"]},\"x\":[\"UsersCount\",\"MainScreenAppear\",\"OffersScreenAppear\",\"CartScreenAppear\",\"PaymentScreenSuccessful\",\"Tutorial\"],\"y\":[7534,7419,4593,3734,3539,840],\"type\":\"bar\",\"xaxis\":\"x\",\"yaxis\":\"y\"},{\"marker\":{\"color\":[\"#4B0082\",\"#8B008B\",\"#9932CC\",\"#9400D3\",\"#8A2BE2\",\"#483D8B\"]},\"x\":[\"UsersCount\",\"MainScreenAppear\",\"OffersScreenAppear\",\"CartScreenAppear\",\"PaymentScreenSuccessful\",\"Tutorial\"],\"y\":[100.0,98.47,60.96,49.56,46.97,11.15],\"type\":\"bar\",\"xaxis\":\"x2\",\"yaxis\":\"y2\"}],                        {\"template\":{\"data\":{\"bar\":[{\"error_x\":{\"color\":\"#2a3f5f\"},\"error_y\":{\"color\":\"#2a3f5f\"},\"marker\":{\"line\":{\"color\":\"#E5ECF6\",\"width\":0.5},\"pattern\":{\"fillmode\":\"overlay\",\"size\":10,\"solidity\":0.2}},\"type\":\"bar\"}],\"barpolar\":[{\"marker\":{\"line\":{\"color\":\"#E5ECF6\",\"width\":0.5},\"pattern\":{\"fillmode\":\"overlay\",\"size\":10,\"solidity\":0.2}},\"type\":\"barpolar\"}],\"carpet\":[{\"aaxis\":{\"endlinecolor\":\"#2a3f5f\",\"gridcolor\":\"white\",\"linecolor\":\"white\",\"minorgridcolor\":\"white\",\"startlinecolor\":\"#2a3f5f\"},\"baxis\":{\"endlinecolor\":\"#2a3f5f\",\"gridcolor\":\"white\",\"linecolor\":\"white\",\"minorgridcolor\":\"white\",\"startlinecolor\":\"#2a3f5f\"},\"type\":\"carpet\"}],\"choropleth\":[{\"colorbar\":{\"outlinewidth\":0,\"ticks\":\"\"},\"type\":\"choropleth\"}],\"contour\":[{\"colorbar\":{\"outlinewidth\":0,\"ticks\":\"\"},\"colorscale\":[[0.0,\"#0d0887\"],[0.1111111111111111,\"#46039f\"],[0.2222222222222222,\"#7201a8\"],[0.3333333333333333,\"#9c179e\"],[0.4444444444444444,\"#bd3786\"],[0.5555555555555556,\"#d8576b\"],[0.6666666666666666,\"#ed7953\"],[0.7777777777777778,\"#fb9f3a\"],[0.8888888888888888,\"#fdca26\"],[1.0,\"#f0f921\"]],\"type\":\"contour\"}],\"contourcarpet\":[{\"colorbar\":{\"outlinewidth\":0,\"ticks\":\"\"},\"type\":\"contourcarpet\"}],\"heatmap\":[{\"colorbar\":{\"outlinewidth\":0,\"ticks\":\"\"},\"colorscale\":[[0.0,\"#0d0887\"],[0.1111111111111111,\"#46039f\"],[0.2222222222222222,\"#7201a8\"],[0.3333333333333333,\"#9c179e\"],[0.4444444444444444,\"#bd3786\"],[0.5555555555555556,\"#d8576b\"],[0.6666666666666666,\"#ed7953\"],[0.7777777777777778,\"#fb9f3a\"],[0.8888888888888888,\"#fdca26\"],[1.0,\"#f0f921\"]],\"type\":\"heatmap\"}],\"heatmapgl\":[{\"colorbar\":{\"outlinewidth\":0,\"ticks\":\"\"},\"colorscale\":[[0.0,\"#0d0887\"],[0.1111111111111111,\"#46039f\"],[0.2222222222222222,\"#7201a8\"],[0.3333333333333333,\"#9c179e\"],[0.4444444444444444,\"#bd3786\"],[0.5555555555555556,\"#d8576b\"],[0.6666666666666666,\"#ed7953\"],[0.7777777777777778,\"#fb9f3a\"],[0.8888888888888888,\"#fdca26\"],[1.0,\"#f0f921\"]],\"type\":\"heatmapgl\"}],\"histogram\":[{\"marker\":{\"pattern\":{\"fillmode\":\"overlay\",\"size\":10,\"solidity\":0.2}},\"type\":\"histogram\"}],\"histogram2d\":[{\"colorbar\":{\"outlinewidth\":0,\"ticks\":\"\"},\"colorscale\":[[0.0,\"#0d0887\"],[0.1111111111111111,\"#46039f\"],[0.2222222222222222,\"#7201a8\"],[0.3333333333333333,\"#9c179e\"],[0.4444444444444444,\"#bd3786\"],[0.5555555555555556,\"#d8576b\"],[0.6666666666666666,\"#ed7953\"],[0.7777777777777778,\"#fb9f3a\"],[0.8888888888888888,\"#fdca26\"],[1.0,\"#f0f921\"]],\"type\":\"histogram2d\"}],\"histogram2dcontour\":[{\"colorbar\":{\"outlinewidth\":0,\"ticks\":\"\"},\"colorscale\":[[0.0,\"#0d0887\"],[0.1111111111111111,\"#46039f\"],[0.2222222222222222,\"#7201a8\"],[0.3333333333333333,\"#9c179e\"],[0.4444444444444444,\"#bd3786\"],[0.5555555555555556,\"#d8576b\"],[0.6666666666666666,\"#ed7953\"],[0.7777777777777778,\"#fb9f3a\"],[0.8888888888888888,\"#fdca26\"],[1.0,\"#f0f921\"]],\"type\":\"histogram2dcontour\"}],\"mesh3d\":[{\"colorbar\":{\"outlinewidth\":0,\"ticks\":\"\"},\"type\":\"mesh3d\"}],\"parcoords\":[{\"line\":{\"colorbar\":{\"outlinewidth\":0,\"ticks\":\"\"}},\"type\":\"parcoords\"}],\"pie\":[{\"automargin\":true,\"type\":\"pie\"}],\"scatter\":[{\"marker\":{\"colorbar\":{\"outlinewidth\":0,\"ticks\":\"\"}},\"type\":\"scatter\"}],\"scatter3d\":[{\"line\":{\"colorbar\":{\"outlinewidth\":0,\"ticks\":\"\"}},\"marker\":{\"colorbar\":{\"outlinewidth\":0,\"ticks\":\"\"}},\"type\":\"scatter3d\"}],\"scattercarpet\":[{\"marker\":{\"colorbar\":{\"outlinewidth\":0,\"ticks\":\"\"}},\"type\":\"scattercarpet\"}],\"scattergeo\":[{\"marker\":{\"colorbar\":{\"outlinewidth\":0,\"ticks\":\"\"}},\"type\":\"scattergeo\"}],\"scattergl\":[{\"marker\":{\"colorbar\":{\"outlinewidth\":0,\"ticks\":\"\"}},\"type\":\"scattergl\"}],\"scattermapbox\":[{\"marker\":{\"colorbar\":{\"outlinewidth\":0,\"ticks\":\"\"}},\"type\":\"scattermapbox\"}],\"scatterpolar\":[{\"marker\":{\"colorbar\":{\"outlinewidth\":0,\"ticks\":\"\"}},\"type\":\"scatterpolar\"}],\"scatterpolargl\":[{\"marker\":{\"colorbar\":{\"outlinewidth\":0,\"ticks\":\"\"}},\"type\":\"scatterpolargl\"}],\"scatterternary\":[{\"marker\":{\"colorbar\":{\"outlinewidth\":0,\"ticks\":\"\"}},\"type\":\"scatterternary\"}],\"surface\":[{\"colorbar\":{\"outlinewidth\":0,\"ticks\":\"\"},\"colorscale\":[[0.0,\"#0d0887\"],[0.1111111111111111,\"#46039f\"],[0.2222222222222222,\"#7201a8\"],[0.3333333333333333,\"#9c179e\"],[0.4444444444444444,\"#bd3786\"],[0.5555555555555556,\"#d8576b\"],[0.6666666666666666,\"#ed7953\"],[0.7777777777777778,\"#fb9f3a\"],[0.8888888888888888,\"#fdca26\"],[1.0,\"#f0f921\"]],\"type\":\"surface\"}],\"table\":[{\"cells\":{\"fill\":{\"color\":\"#EBF0F8\"},\"line\":{\"color\":\"white\"}},\"header\":{\"fill\":{\"color\":\"#C8D4E3\"},\"line\":{\"color\":\"white\"}},\"type\":\"table\"}]},\"layout\":{\"annotationdefaults\":{\"arrowcolor\":\"#2a3f5f\",\"arrowhead\":0,\"arrowwidth\":1},\"autotypenumbers\":\"strict\",\"coloraxis\":{\"colorbar\":{\"outlinewidth\":0,\"ticks\":\"\"}},\"colorscale\":{\"diverging\":[[0,\"#8e0152\"],[0.1,\"#c51b7d\"],[0.2,\"#de77ae\"],[0.3,\"#f1b6da\"],[0.4,\"#fde0ef\"],[0.5,\"#f7f7f7\"],[0.6,\"#e6f5d0\"],[0.7,\"#b8e186\"],[0.8,\"#7fbc41\"],[0.9,\"#4d9221\"],[1,\"#276419\"]],\"sequential\":[[0.0,\"#0d0887\"],[0.1111111111111111,\"#46039f\"],[0.2222222222222222,\"#7201a8\"],[0.3333333333333333,\"#9c179e\"],[0.4444444444444444,\"#bd3786\"],[0.5555555555555556,\"#d8576b\"],[0.6666666666666666,\"#ed7953\"],[0.7777777777777778,\"#fb9f3a\"],[0.8888888888888888,\"#fdca26\"],[1.0,\"#f0f921\"]],\"sequentialminus\":[[0.0,\"#0d0887\"],[0.1111111111111111,\"#46039f\"],[0.2222222222222222,\"#7201a8\"],[0.3333333333333333,\"#9c179e\"],[0.4444444444444444,\"#bd3786\"],[0.5555555555555556,\"#d8576b\"],[0.6666666666666666,\"#ed7953\"],[0.7777777777777778,\"#fb9f3a\"],[0.8888888888888888,\"#fdca26\"],[1.0,\"#f0f921\"]]},\"colorway\":[\"#636efa\",\"#EF553B\",\"#00cc96\",\"#ab63fa\",\"#FFA15A\",\"#19d3f3\",\"#FF6692\",\"#B6E880\",\"#FF97FF\",\"#FECB52\"],\"font\":{\"color\":\"#2a3f5f\"},\"geo\":{\"bgcolor\":\"white\",\"lakecolor\":\"white\",\"landcolor\":\"#E5ECF6\",\"showlakes\":true,\"showland\":true,\"subunitcolor\":\"white\"},\"hoverlabel\":{\"align\":\"left\"},\"hovermode\":\"closest\",\"mapbox\":{\"style\":\"light\"},\"paper_bgcolor\":\"white\",\"plot_bgcolor\":\"#E5ECF6\",\"polar\":{\"angularaxis\":{\"gridcolor\":\"white\",\"linecolor\":\"white\",\"ticks\":\"\"},\"bgcolor\":\"#E5ECF6\",\"radialaxis\":{\"gridcolor\":\"white\",\"linecolor\":\"white\",\"ticks\":\"\"}},\"scene\":{\"xaxis\":{\"backgroundcolor\":\"#E5ECF6\",\"gridcolor\":\"white\",\"gridwidth\":2,\"linecolor\":\"white\",\"showbackground\":true,\"ticks\":\"\",\"zerolinecolor\":\"white\"},\"yaxis\":{\"backgroundcolor\":\"#E5ECF6\",\"gridcolor\":\"white\",\"gridwidth\":2,\"linecolor\":\"white\",\"showbackground\":true,\"ticks\":\"\",\"zerolinecolor\":\"white\"},\"zaxis\":{\"backgroundcolor\":\"#E5ECF6\",\"gridcolor\":\"white\",\"gridwidth\":2,\"linecolor\":\"white\",\"showbackground\":true,\"ticks\":\"\",\"zerolinecolor\":\"white\"}},\"shapedefaults\":{\"line\":{\"color\":\"#2a3f5f\"}},\"ternary\":{\"aaxis\":{\"gridcolor\":\"white\",\"linecolor\":\"white\",\"ticks\":\"\"},\"baxis\":{\"gridcolor\":\"white\",\"linecolor\":\"white\",\"ticks\":\"\"},\"bgcolor\":\"#E5ECF6\",\"caxis\":{\"gridcolor\":\"white\",\"linecolor\":\"white\",\"ticks\":\"\"}},\"title\":{\"x\":0.05},\"xaxis\":{\"automargin\":true,\"gridcolor\":\"white\",\"linecolor\":\"white\",\"ticks\":\"\",\"title\":{\"standoff\":15},\"zerolinecolor\":\"white\",\"zerolinewidth\":2},\"yaxis\":{\"automargin\":true,\"gridcolor\":\"white\",\"linecolor\":\"white\",\"ticks\":\"\",\"title\":{\"standoff\":15},\"zerolinecolor\":\"white\",\"zerolinewidth\":2}}},\"xaxis\":{\"anchor\":\"y\",\"domain\":[0.0,0.45]},\"yaxis\":{\"anchor\":\"x\",\"domain\":[0.0,1.0]},\"xaxis2\":{\"anchor\":\"y2\",\"domain\":[0.55,1.0]},\"yaxis2\":{\"anchor\":\"x2\",\"domain\":[0.0,1.0]},\"annotations\":[{\"font\":{\"size\":16},\"showarrow\":false,\"text\":\"\\u041a\\u043e\\u043b\\u0438\\u0447\\u0435\\u0441\\u0442\\u0432\\u043e \\u043f\\u043e\\u043b\\u044c\\u0437\\u043e\\u0432\\u0430\\u0442\\u0435\\u043b\\u0435\\u0439, \\u0441\\u043e\\u0432\\u0435\\u0440\\u0448\\u0438\\u0432\\u0448\\u0438\\u0445 \\u0441\\u043e\\u0431\\u044b\\u0442\\u0438\\u0435\",\"x\":0.225,\"xanchor\":\"center\",\"xref\":\"paper\",\"y\":1.0,\"yanchor\":\"bottom\",\"yref\":\"paper\"},{\"font\":{\"size\":16},\"showarrow\":false,\"text\":\"\\u041f\\u0440\\u043e\\u0446\\u0435\\u043d\\u0442 \\u043f\\u043e\\u043b\\u044c\\u0437\\u043e\\u0432\\u0430\\u0442\\u0435\\u043b\\u0435\\u0439, \\u0441\\u043e\\u0432\\u0435\\u0440\\u0448\\u0438\\u0432\\u0448\\u0438\\u0445 \\u0441\\u043e\\u0431\\u044b\\u0442\\u0438\\u0435\",\"x\":0.775,\"xanchor\":\"center\",\"xref\":\"paper\",\"y\":1.0,\"yanchor\":\"bottom\",\"yref\":\"paper\"}],\"showlegend\":false},                        {\"responsive\": true}                    ).then(function(){\n",
              "                            \n",
              "var gd = document.getElementById('967033f1-b3d5-4029-941d-d1efa6db73c4');\n",
              "var x = new MutationObserver(function (mutations, observer) {{\n",
              "        var display = window.getComputedStyle(gd).display;\n",
              "        if (!display || display === 'none') {{\n",
              "            console.log([gd, 'removed!']);\n",
              "            Plotly.purge(gd);\n",
              "            observer.disconnect();\n",
              "        }}\n",
              "}});\n",
              "\n",
              "// Listen for the removal of the full notebook cells\n",
              "var notebookContainer = gd.closest('#notebook-container');\n",
              "if (notebookContainer) {{\n",
              "    x.observe(notebookContainer, {childList: true});\n",
              "}}\n",
              "\n",
              "// Listen for the clearing of the current output cell\n",
              "var outputEl = gd.closest('.output');\n",
              "if (outputEl) {{\n",
              "    x.observe(outputEl, {childList: true});\n",
              "}}\n",
              "\n",
              "                        })                };                            </script>        </div>\n",
              "</body>\n",
              "</html>"
            ]
          },
          "metadata": {}
        }
      ],
      "source": [
        "colors = ['#4B0082', '#8B008B', '#9932CC', '#9400D3', '#8A2BE2', '#483D8B']\n",
        "\n",
        "fig = make_subplots(rows=1, cols=2,\n",
        "                    subplot_titles=(\n",
        "                        'Количество пользователей, совершивших событие',\n",
        "                        'Процент пользователей, совершивших событие'\n",
        "                        ),\n",
        "                    specs=[[{'type': 'xy'}, {'type': 'xy'}]])\n",
        "\n",
        "fig.add_trace(\n",
        "    go.Bar(y=event_user['user_id'], x=event_user['event_name'],\n",
        "           marker_color=colors),\n",
        "           row=1, col=1\n",
        ")\n",
        "\n",
        "fig.add_trace(\n",
        "    go.Bar(y=event_user['percent'], x=event_user['event_name'],\n",
        "           marker_color=colors),\n",
        "           row=1, col=2\n",
        ")\n",
        "\n",
        "fig.update_layout(showlegend=False)\n",
        "\n",
        "fig.show()"
      ]
    },
    {
      "cell_type": "markdown",
      "metadata": {
        "id": "0fzipNG51w5_"
      },
      "source": [
        "**Вывод**\n",
        "\n",
        "Самое популярное событие, как ни странно, - это посещение главной страницы. Это событие совершили 98% пользователей, или 7419 пользователей из 7551 пользователя, участвовавших в эксперименте.\n",
        "\n",
        "Страницу с товарами просматривал 61% пользователей, корзину смотрели почти 50%, страницу с успешной оплатой увидели 47% пользователей. Инструкцию посмотрело 11%.\n",
        "\n",
        "Вероятнее всего события происходят примерно в таком порядке. Это видно и по уменьшению процента пользователей, переходящих к следующей странице. Исключение - просмотр инструкции: ее можно посмотреть на любом из указанных этапов, когда у пользователя возникли вопросы."
      ]
    },
    {
      "cell_type": "markdown",
      "metadata": {
        "id": "cwIt6YuG5vOj"
      },
      "source": [
        "Исключим строки с событием \"просмотр инструкции\" из датасета, т.к. он будет мешать анализу."
      ]
    },
    {
      "cell_type": "code",
      "execution_count": 27,
      "metadata": {
        "colab": {
          "base_uri": "https://localhost:8080/"
        },
        "id": "kVs9iH3f6Lor",
        "outputId": "6f3ff88b-38c4-4d04-eddd-2f8d500faff0"
      },
      "outputs": [
        {
          "output_type": "stream",
          "name": "stdout",
          "text": [
            "Количество строк на удаление: 1005\n",
            "Процент строк на удаление: 0.42 %\n"
          ]
        }
      ],
      "source": [
        "# посмотрим, сколько данных нужно удалить\n",
        "\n",
        "print(\n",
        "    'Количество строк на удаление:',\n",
        "    len(data.loc[data['event_name'] == 'Tutorial'])\n",
        "    )\n",
        "\n",
        "print(\n",
        "    'Процент строк на удаление:',\n",
        "    round(\n",
        "        len(data.loc[data['event_name'] == 'Tutorial']) /\n",
        "        len(data) * 100, 2\n",
        "        ), '%'\n",
        "    )"
      ]
    },
    {
      "cell_type": "code",
      "execution_count": 28,
      "metadata": {
        "id": "QrQiwpajjSVr"
      },
      "outputs": [],
      "source": [
        "# удаляем лишние строки\n",
        "\n",
        "data = data.loc[data['event_name'] != 'Tutorial']\n",
        "event_user = event_user[event_user['event_name'] != 'Tutorial']"
      ]
    },
    {
      "cell_type": "markdown",
      "metadata": {
        "id": "5KLznguIXz-1"
      },
      "source": [
        "Добавим в группированную по событиям таблицу долю пользователей, которая проходит на следующий шаг воронки (от числа пользователей на предыдущем).\n",
        "\n",
        "Построим воронку, в которой отобразим количество пользователей для каждого шага и долю пользователей, которая проходит на следующий шаг воронки."
      ]
    },
    {
      "cell_type": "code",
      "execution_count": 29,
      "metadata": {
        "colab": {
          "base_uri": "https://localhost:8080/",
          "height": 206
        },
        "id": "PJaHNPZI2Ecj",
        "outputId": "ee1973a1-fedc-4bf6-b52d-aec7a933a491"
      },
      "outputs": [
        {
          "output_type": "execute_result",
          "data": {
            "text/plain": [
              "                event_name  user_id  percent  prev_percent\n",
              "0               UsersCount     7534   100.00        100.00\n",
              "1         MainScreenAppear     7419    98.47         98.47\n",
              "2       OffersScreenAppear     4593    60.96         61.91\n",
              "3         CartScreenAppear     3734    49.56         81.30\n",
              "4  PaymentScreenSuccessful     3539    46.97         94.78"
            ],
            "text/html": [
              "\n",
              "  <div id=\"df-1060cef7-b9b0-4f16-a8ed-993a10dd9cf4\">\n",
              "    <div class=\"colab-df-container\">\n",
              "      <div>\n",
              "<style scoped>\n",
              "    .dataframe tbody tr th:only-of-type {\n",
              "        vertical-align: middle;\n",
              "    }\n",
              "\n",
              "    .dataframe tbody tr th {\n",
              "        vertical-align: top;\n",
              "    }\n",
              "\n",
              "    .dataframe thead th {\n",
              "        text-align: right;\n",
              "    }\n",
              "</style>\n",
              "<table border=\"1\" class=\"dataframe\">\n",
              "  <thead>\n",
              "    <tr style=\"text-align: right;\">\n",
              "      <th></th>\n",
              "      <th>event_name</th>\n",
              "      <th>user_id</th>\n",
              "      <th>percent</th>\n",
              "      <th>prev_percent</th>\n",
              "    </tr>\n",
              "  </thead>\n",
              "  <tbody>\n",
              "    <tr>\n",
              "      <th>0</th>\n",
              "      <td>UsersCount</td>\n",
              "      <td>7534</td>\n",
              "      <td>100.00</td>\n",
              "      <td>100.00</td>\n",
              "    </tr>\n",
              "    <tr>\n",
              "      <th>1</th>\n",
              "      <td>MainScreenAppear</td>\n",
              "      <td>7419</td>\n",
              "      <td>98.47</td>\n",
              "      <td>98.47</td>\n",
              "    </tr>\n",
              "    <tr>\n",
              "      <th>2</th>\n",
              "      <td>OffersScreenAppear</td>\n",
              "      <td>4593</td>\n",
              "      <td>60.96</td>\n",
              "      <td>61.91</td>\n",
              "    </tr>\n",
              "    <tr>\n",
              "      <th>3</th>\n",
              "      <td>CartScreenAppear</td>\n",
              "      <td>3734</td>\n",
              "      <td>49.56</td>\n",
              "      <td>81.30</td>\n",
              "    </tr>\n",
              "    <tr>\n",
              "      <th>4</th>\n",
              "      <td>PaymentScreenSuccessful</td>\n",
              "      <td>3539</td>\n",
              "      <td>46.97</td>\n",
              "      <td>94.78</td>\n",
              "    </tr>\n",
              "  </tbody>\n",
              "</table>\n",
              "</div>\n",
              "      <button class=\"colab-df-convert\" onclick=\"convertToInteractive('df-1060cef7-b9b0-4f16-a8ed-993a10dd9cf4')\"\n",
              "              title=\"Convert this dataframe to an interactive table.\"\n",
              "              style=\"display:none;\">\n",
              "        \n",
              "  <svg xmlns=\"http://www.w3.org/2000/svg\" height=\"24px\"viewBox=\"0 0 24 24\"\n",
              "       width=\"24px\">\n",
              "    <path d=\"M0 0h24v24H0V0z\" fill=\"none\"/>\n",
              "    <path d=\"M18.56 5.44l.94 2.06.94-2.06 2.06-.94-2.06-.94-.94-2.06-.94 2.06-2.06.94zm-11 1L8.5 8.5l.94-2.06 2.06-.94-2.06-.94L8.5 2.5l-.94 2.06-2.06.94zm10 10l.94 2.06.94-2.06 2.06-.94-2.06-.94-.94-2.06-.94 2.06-2.06.94z\"/><path d=\"M17.41 7.96l-1.37-1.37c-.4-.4-.92-.59-1.43-.59-.52 0-1.04.2-1.43.59L10.3 9.45l-7.72 7.72c-.78.78-.78 2.05 0 2.83L4 21.41c.39.39.9.59 1.41.59.51 0 1.02-.2 1.41-.59l7.78-7.78 2.81-2.81c.8-.78.8-2.07 0-2.86zM5.41 20L4 18.59l7.72-7.72 1.47 1.35L5.41 20z\"/>\n",
              "  </svg>\n",
              "      </button>\n",
              "      \n",
              "  <style>\n",
              "    .colab-df-container {\n",
              "      display:flex;\n",
              "      flex-wrap:wrap;\n",
              "      gap: 12px;\n",
              "    }\n",
              "\n",
              "    .colab-df-convert {\n",
              "      background-color: #E8F0FE;\n",
              "      border: none;\n",
              "      border-radius: 50%;\n",
              "      cursor: pointer;\n",
              "      display: none;\n",
              "      fill: #1967D2;\n",
              "      height: 32px;\n",
              "      padding: 0 0 0 0;\n",
              "      width: 32px;\n",
              "    }\n",
              "\n",
              "    .colab-df-convert:hover {\n",
              "      background-color: #E2EBFA;\n",
              "      box-shadow: 0px 1px 2px rgba(60, 64, 67, 0.3), 0px 1px 3px 1px rgba(60, 64, 67, 0.15);\n",
              "      fill: #174EA6;\n",
              "    }\n",
              "\n",
              "    [theme=dark] .colab-df-convert {\n",
              "      background-color: #3B4455;\n",
              "      fill: #D2E3FC;\n",
              "    }\n",
              "\n",
              "    [theme=dark] .colab-df-convert:hover {\n",
              "      background-color: #434B5C;\n",
              "      box-shadow: 0px 1px 3px 1px rgba(0, 0, 0, 0.15);\n",
              "      filter: drop-shadow(0px 1px 2px rgba(0, 0, 0, 0.3));\n",
              "      fill: #FFFFFF;\n",
              "    }\n",
              "  </style>\n",
              "\n",
              "      <script>\n",
              "        const buttonEl =\n",
              "          document.querySelector('#df-1060cef7-b9b0-4f16-a8ed-993a10dd9cf4 button.colab-df-convert');\n",
              "        buttonEl.style.display =\n",
              "          google.colab.kernel.accessAllowed ? 'block' : 'none';\n",
              "\n",
              "        async function convertToInteractive(key) {\n",
              "          const element = document.querySelector('#df-1060cef7-b9b0-4f16-a8ed-993a10dd9cf4');\n",
              "          const dataTable =\n",
              "            await google.colab.kernel.invokeFunction('convertToInteractive',\n",
              "                                                     [key], {});\n",
              "          if (!dataTable) return;\n",
              "\n",
              "          const docLinkHtml = 'Like what you see? Visit the ' +\n",
              "            '<a target=\"_blank\" href=https://colab.research.google.com/notebooks/data_table.ipynb>data table notebook</a>'\n",
              "            + ' to learn more about interactive tables.';\n",
              "          element.innerHTML = '';\n",
              "          dataTable['output_type'] = 'display_data';\n",
              "          await google.colab.output.renderOutput(dataTable, element);\n",
              "          const docLink = document.createElement('div');\n",
              "          docLink.innerHTML = docLinkHtml;\n",
              "          element.appendChild(docLink);\n",
              "        }\n",
              "      </script>\n",
              "    </div>\n",
              "  </div>\n",
              "  "
            ]
          },
          "metadata": {},
          "execution_count": 29
        }
      ],
      "source": [
        "event_user['prev_percent'] = round(\n",
        "    event_user['user_id'] / event_user['user_id'].shift(1) * 100,\n",
        "    2).fillna(100)\n",
        "\n",
        "event_user"
      ]
    },
    {
      "cell_type": "code",
      "execution_count": 30,
      "metadata": {
        "colab": {
          "base_uri": "https://localhost:8080/",
          "height": 542
        },
        "id": "ujNBKEQWV9rQ",
        "outputId": "84a524ff-a247-44ce-bb8d-71a5eadfbcdb"
      },
      "outputs": [
        {
          "output_type": "display_data",
          "data": {
            "text/html": [
              "<html>\n",
              "<head><meta charset=\"utf-8\" /></head>\n",
              "<body>\n",
              "    <div>            <script src=\"https://cdnjs.cloudflare.com/ajax/libs/mathjax/2.7.5/MathJax.js?config=TeX-AMS-MML_SVG\"></script><script type=\"text/javascript\">if (window.MathJax) {MathJax.Hub.Config({SVG: {font: \"STIX-Web\"}});}</script>                <script type=\"text/javascript\">window.PlotlyConfig = {MathJaxConfig: 'local'};</script>\n",
              "        <script src=\"https://cdn.plot.ly/plotly-2.8.3.min.js\"></script>                <div id=\"8e0005c4-0942-4fde-9ea4-0b97e2b5ce5a\" class=\"plotly-graph-div\" style=\"height:525px; width:100%;\"></div>            <script type=\"text/javascript\">                                    window.PLOTLYENV=window.PLOTLYENV || {};                                    if (document.getElementById(\"8e0005c4-0942-4fde-9ea4-0b97e2b5ce5a\")) {                    Plotly.newPlot(                        \"8e0005c4-0942-4fde-9ea4-0b97e2b5ce5a\",                        [{\"marker\":{\"color\":\"#8A2BE2\"},\"textinfo\":\"value+percent previous\",\"x\":[7534,7419,4593,3734,3539],\"y\":[\"UsersCount\",\"MainScreenAppear\",\"OffersScreenAppear\",\"CartScreenAppear\",\"PaymentScreenSuccessful\"],\"type\":\"funnel\"}],                        {\"template\":{\"data\":{\"bar\":[{\"error_x\":{\"color\":\"#2a3f5f\"},\"error_y\":{\"color\":\"#2a3f5f\"},\"marker\":{\"line\":{\"color\":\"#E5ECF6\",\"width\":0.5},\"pattern\":{\"fillmode\":\"overlay\",\"size\":10,\"solidity\":0.2}},\"type\":\"bar\"}],\"barpolar\":[{\"marker\":{\"line\":{\"color\":\"#E5ECF6\",\"width\":0.5},\"pattern\":{\"fillmode\":\"overlay\",\"size\":10,\"solidity\":0.2}},\"type\":\"barpolar\"}],\"carpet\":[{\"aaxis\":{\"endlinecolor\":\"#2a3f5f\",\"gridcolor\":\"white\",\"linecolor\":\"white\",\"minorgridcolor\":\"white\",\"startlinecolor\":\"#2a3f5f\"},\"baxis\":{\"endlinecolor\":\"#2a3f5f\",\"gridcolor\":\"white\",\"linecolor\":\"white\",\"minorgridcolor\":\"white\",\"startlinecolor\":\"#2a3f5f\"},\"type\":\"carpet\"}],\"choropleth\":[{\"colorbar\":{\"outlinewidth\":0,\"ticks\":\"\"},\"type\":\"choropleth\"}],\"contour\":[{\"colorbar\":{\"outlinewidth\":0,\"ticks\":\"\"},\"colorscale\":[[0.0,\"#0d0887\"],[0.1111111111111111,\"#46039f\"],[0.2222222222222222,\"#7201a8\"],[0.3333333333333333,\"#9c179e\"],[0.4444444444444444,\"#bd3786\"],[0.5555555555555556,\"#d8576b\"],[0.6666666666666666,\"#ed7953\"],[0.7777777777777778,\"#fb9f3a\"],[0.8888888888888888,\"#fdca26\"],[1.0,\"#f0f921\"]],\"type\":\"contour\"}],\"contourcarpet\":[{\"colorbar\":{\"outlinewidth\":0,\"ticks\":\"\"},\"type\":\"contourcarpet\"}],\"heatmap\":[{\"colorbar\":{\"outlinewidth\":0,\"ticks\":\"\"},\"colorscale\":[[0.0,\"#0d0887\"],[0.1111111111111111,\"#46039f\"],[0.2222222222222222,\"#7201a8\"],[0.3333333333333333,\"#9c179e\"],[0.4444444444444444,\"#bd3786\"],[0.5555555555555556,\"#d8576b\"],[0.6666666666666666,\"#ed7953\"],[0.7777777777777778,\"#fb9f3a\"],[0.8888888888888888,\"#fdca26\"],[1.0,\"#f0f921\"]],\"type\":\"heatmap\"}],\"heatmapgl\":[{\"colorbar\":{\"outlinewidth\":0,\"ticks\":\"\"},\"colorscale\":[[0.0,\"#0d0887\"],[0.1111111111111111,\"#46039f\"],[0.2222222222222222,\"#7201a8\"],[0.3333333333333333,\"#9c179e\"],[0.4444444444444444,\"#bd3786\"],[0.5555555555555556,\"#d8576b\"],[0.6666666666666666,\"#ed7953\"],[0.7777777777777778,\"#fb9f3a\"],[0.8888888888888888,\"#fdca26\"],[1.0,\"#f0f921\"]],\"type\":\"heatmapgl\"}],\"histogram\":[{\"marker\":{\"pattern\":{\"fillmode\":\"overlay\",\"size\":10,\"solidity\":0.2}},\"type\":\"histogram\"}],\"histogram2d\":[{\"colorbar\":{\"outlinewidth\":0,\"ticks\":\"\"},\"colorscale\":[[0.0,\"#0d0887\"],[0.1111111111111111,\"#46039f\"],[0.2222222222222222,\"#7201a8\"],[0.3333333333333333,\"#9c179e\"],[0.4444444444444444,\"#bd3786\"],[0.5555555555555556,\"#d8576b\"],[0.6666666666666666,\"#ed7953\"],[0.7777777777777778,\"#fb9f3a\"],[0.8888888888888888,\"#fdca26\"],[1.0,\"#f0f921\"]],\"type\":\"histogram2d\"}],\"histogram2dcontour\":[{\"colorbar\":{\"outlinewidth\":0,\"ticks\":\"\"},\"colorscale\":[[0.0,\"#0d0887\"],[0.1111111111111111,\"#46039f\"],[0.2222222222222222,\"#7201a8\"],[0.3333333333333333,\"#9c179e\"],[0.4444444444444444,\"#bd3786\"],[0.5555555555555556,\"#d8576b\"],[0.6666666666666666,\"#ed7953\"],[0.7777777777777778,\"#fb9f3a\"],[0.8888888888888888,\"#fdca26\"],[1.0,\"#f0f921\"]],\"type\":\"histogram2dcontour\"}],\"mesh3d\":[{\"colorbar\":{\"outlinewidth\":0,\"ticks\":\"\"},\"type\":\"mesh3d\"}],\"parcoords\":[{\"line\":{\"colorbar\":{\"outlinewidth\":0,\"ticks\":\"\"}},\"type\":\"parcoords\"}],\"pie\":[{\"automargin\":true,\"type\":\"pie\"}],\"scatter\":[{\"marker\":{\"colorbar\":{\"outlinewidth\":0,\"ticks\":\"\"}},\"type\":\"scatter\"}],\"scatter3d\":[{\"line\":{\"colorbar\":{\"outlinewidth\":0,\"ticks\":\"\"}},\"marker\":{\"colorbar\":{\"outlinewidth\":0,\"ticks\":\"\"}},\"type\":\"scatter3d\"}],\"scattercarpet\":[{\"marker\":{\"colorbar\":{\"outlinewidth\":0,\"ticks\":\"\"}},\"type\":\"scattercarpet\"}],\"scattergeo\":[{\"marker\":{\"colorbar\":{\"outlinewidth\":0,\"ticks\":\"\"}},\"type\":\"scattergeo\"}],\"scattergl\":[{\"marker\":{\"colorbar\":{\"outlinewidth\":0,\"ticks\":\"\"}},\"type\":\"scattergl\"}],\"scattermapbox\":[{\"marker\":{\"colorbar\":{\"outlinewidth\":0,\"ticks\":\"\"}},\"type\":\"scattermapbox\"}],\"scatterpolar\":[{\"marker\":{\"colorbar\":{\"outlinewidth\":0,\"ticks\":\"\"}},\"type\":\"scatterpolar\"}],\"scatterpolargl\":[{\"marker\":{\"colorbar\":{\"outlinewidth\":0,\"ticks\":\"\"}},\"type\":\"scatterpolargl\"}],\"scatterternary\":[{\"marker\":{\"colorbar\":{\"outlinewidth\":0,\"ticks\":\"\"}},\"type\":\"scatterternary\"}],\"surface\":[{\"colorbar\":{\"outlinewidth\":0,\"ticks\":\"\"},\"colorscale\":[[0.0,\"#0d0887\"],[0.1111111111111111,\"#46039f\"],[0.2222222222222222,\"#7201a8\"],[0.3333333333333333,\"#9c179e\"],[0.4444444444444444,\"#bd3786\"],[0.5555555555555556,\"#d8576b\"],[0.6666666666666666,\"#ed7953\"],[0.7777777777777778,\"#fb9f3a\"],[0.8888888888888888,\"#fdca26\"],[1.0,\"#f0f921\"]],\"type\":\"surface\"}],\"table\":[{\"cells\":{\"fill\":{\"color\":\"#EBF0F8\"},\"line\":{\"color\":\"white\"}},\"header\":{\"fill\":{\"color\":\"#C8D4E3\"},\"line\":{\"color\":\"white\"}},\"type\":\"table\"}]},\"layout\":{\"annotationdefaults\":{\"arrowcolor\":\"#2a3f5f\",\"arrowhead\":0,\"arrowwidth\":1},\"autotypenumbers\":\"strict\",\"coloraxis\":{\"colorbar\":{\"outlinewidth\":0,\"ticks\":\"\"}},\"colorscale\":{\"diverging\":[[0,\"#8e0152\"],[0.1,\"#c51b7d\"],[0.2,\"#de77ae\"],[0.3,\"#f1b6da\"],[0.4,\"#fde0ef\"],[0.5,\"#f7f7f7\"],[0.6,\"#e6f5d0\"],[0.7,\"#b8e186\"],[0.8,\"#7fbc41\"],[0.9,\"#4d9221\"],[1,\"#276419\"]],\"sequential\":[[0.0,\"#0d0887\"],[0.1111111111111111,\"#46039f\"],[0.2222222222222222,\"#7201a8\"],[0.3333333333333333,\"#9c179e\"],[0.4444444444444444,\"#bd3786\"],[0.5555555555555556,\"#d8576b\"],[0.6666666666666666,\"#ed7953\"],[0.7777777777777778,\"#fb9f3a\"],[0.8888888888888888,\"#fdca26\"],[1.0,\"#f0f921\"]],\"sequentialminus\":[[0.0,\"#0d0887\"],[0.1111111111111111,\"#46039f\"],[0.2222222222222222,\"#7201a8\"],[0.3333333333333333,\"#9c179e\"],[0.4444444444444444,\"#bd3786\"],[0.5555555555555556,\"#d8576b\"],[0.6666666666666666,\"#ed7953\"],[0.7777777777777778,\"#fb9f3a\"],[0.8888888888888888,\"#fdca26\"],[1.0,\"#f0f921\"]]},\"colorway\":[\"#636efa\",\"#EF553B\",\"#00cc96\",\"#ab63fa\",\"#FFA15A\",\"#19d3f3\",\"#FF6692\",\"#B6E880\",\"#FF97FF\",\"#FECB52\"],\"font\":{\"color\":\"#2a3f5f\"},\"geo\":{\"bgcolor\":\"white\",\"lakecolor\":\"white\",\"landcolor\":\"#E5ECF6\",\"showlakes\":true,\"showland\":true,\"subunitcolor\":\"white\"},\"hoverlabel\":{\"align\":\"left\"},\"hovermode\":\"closest\",\"mapbox\":{\"style\":\"light\"},\"paper_bgcolor\":\"white\",\"plot_bgcolor\":\"#E5ECF6\",\"polar\":{\"angularaxis\":{\"gridcolor\":\"white\",\"linecolor\":\"white\",\"ticks\":\"\"},\"bgcolor\":\"#E5ECF6\",\"radialaxis\":{\"gridcolor\":\"white\",\"linecolor\":\"white\",\"ticks\":\"\"}},\"scene\":{\"xaxis\":{\"backgroundcolor\":\"#E5ECF6\",\"gridcolor\":\"white\",\"gridwidth\":2,\"linecolor\":\"white\",\"showbackground\":true,\"ticks\":\"\",\"zerolinecolor\":\"white\"},\"yaxis\":{\"backgroundcolor\":\"#E5ECF6\",\"gridcolor\":\"white\",\"gridwidth\":2,\"linecolor\":\"white\",\"showbackground\":true,\"ticks\":\"\",\"zerolinecolor\":\"white\"},\"zaxis\":{\"backgroundcolor\":\"#E5ECF6\",\"gridcolor\":\"white\",\"gridwidth\":2,\"linecolor\":\"white\",\"showbackground\":true,\"ticks\":\"\",\"zerolinecolor\":\"white\"}},\"shapedefaults\":{\"line\":{\"color\":\"#2a3f5f\"}},\"ternary\":{\"aaxis\":{\"gridcolor\":\"white\",\"linecolor\":\"white\",\"ticks\":\"\"},\"baxis\":{\"gridcolor\":\"white\",\"linecolor\":\"white\",\"ticks\":\"\"},\"bgcolor\":\"#E5ECF6\",\"caxis\":{\"gridcolor\":\"white\",\"linecolor\":\"white\",\"ticks\":\"\"}},\"title\":{\"x\":0.05},\"xaxis\":{\"automargin\":true,\"gridcolor\":\"white\",\"linecolor\":\"white\",\"ticks\":\"\",\"title\":{\"standoff\":15},\"zerolinecolor\":\"white\",\"zerolinewidth\":2},\"yaxis\":{\"automargin\":true,\"gridcolor\":\"white\",\"linecolor\":\"white\",\"ticks\":\"\",\"title\":{\"standoff\":15},\"zerolinecolor\":\"white\",\"zerolinewidth\":2}}}},                        {\"responsive\": true}                    ).then(function(){\n",
              "                            \n",
              "var gd = document.getElementById('8e0005c4-0942-4fde-9ea4-0b97e2b5ce5a');\n",
              "var x = new MutationObserver(function (mutations, observer) {{\n",
              "        var display = window.getComputedStyle(gd).display;\n",
              "        if (!display || display === 'none') {{\n",
              "            console.log([gd, 'removed!']);\n",
              "            Plotly.purge(gd);\n",
              "            observer.disconnect();\n",
              "        }}\n",
              "}});\n",
              "\n",
              "// Listen for the removal of the full notebook cells\n",
              "var notebookContainer = gd.closest('#notebook-container');\n",
              "if (notebookContainer) {{\n",
              "    x.observe(notebookContainer, {childList: true});\n",
              "}}\n",
              "\n",
              "// Listen for the clearing of the current output cell\n",
              "var outputEl = gd.closest('.output');\n",
              "if (outputEl) {{\n",
              "    x.observe(outputEl, {childList: true});\n",
              "}}\n",
              "\n",
              "                        })                };                            </script>        </div>\n",
              "</body>\n",
              "</html>"
            ]
          },
          "metadata": {}
        }
      ],
      "source": [
        "fig = go.Figure(go.Funnel(\n",
        "    y = event_user['event_name'],\n",
        "    x = event_user['user_id'],\n",
        "    textinfo = 'value+percent previous',\n",
        "    marker = {'color': '#8A2BE2'}))\n",
        "\n",
        "fig.show()"
      ]
    },
    {
      "cell_type": "markdown",
      "metadata": {
        "id": "cq8C6ZvhYg2Z"
      },
      "source": [
        "**Вывод**\n",
        "\n",
        "2% пользователей, зайдя в приложение, не попадают на главную страницу. Возможно, у приложения были ошибки при открытии, либо пользователи через push-уведомление попадали сразу на нужную страницу.\n",
        "\n",
        "36% пользователей не переходит с главной страницы на страницу с товарами. Это может быть связано с техническими проблемами (кнопка не всегда кликабельна, событие не всегда фиксируется и т.п.) или главная страница не привлекает пользователей. Также можно посмотреть, с каких каналов привлечения пришли пользователи, чтобы не использовать каналы с малой конверсией пользователей на данном шаге в дальнейшем.\n",
        "\n",
        "Далее картина выглядит приятно: 81% пользователей, посмотрев товары, переходит в корзину, а 95% из них успешно оплачивает товар.\n",
        "\n",
        "От первого события до оплаты доходит 47% пользователей."
      ]
    },
    {
      "cell_type": "markdown",
      "metadata": {
        "id": "clROCBBAak5f"
      },
      "source": [
        "## Изучение результатов эксперимента\n",
        "<a class='anchor' id='exp-research'></a>"
      ]
    },
    {
      "cell_type": "markdown",
      "metadata": {
        "id": "EVFYNeMTmfEg"
      },
      "source": [
        "Для начала посчитаем, количество уникальных пользователей для каждой экспериментальной группы."
      ]
    },
    {
      "cell_type": "code",
      "execution_count": 31,
      "metadata": {
        "colab": {
          "base_uri": "https://localhost:8080/",
          "height": 81
        },
        "id": "gHtVu4ptOJE_",
        "outputId": "6a4f8100-f7cf-4fd5-87ce-4a9c1937106a"
      },
      "outputs": [
        {
          "output_type": "execute_result",
          "data": {
            "text/plain": [
              "exp_group   246   247   248\n",
              "user_id    2483  2512  2535"
            ],
            "text/html": [
              "\n",
              "  <div id=\"df-facd4f2a-a6b3-4159-adcf-521b3b1a7d8f\">\n",
              "    <div class=\"colab-df-container\">\n",
              "      <div>\n",
              "<style scoped>\n",
              "    .dataframe tbody tr th:only-of-type {\n",
              "        vertical-align: middle;\n",
              "    }\n",
              "\n",
              "    .dataframe tbody tr th {\n",
              "        vertical-align: top;\n",
              "    }\n",
              "\n",
              "    .dataframe thead th {\n",
              "        text-align: right;\n",
              "    }\n",
              "</style>\n",
              "<table border=\"1\" class=\"dataframe\">\n",
              "  <thead>\n",
              "    <tr style=\"text-align: right;\">\n",
              "      <th>exp_group</th>\n",
              "      <th>246</th>\n",
              "      <th>247</th>\n",
              "      <th>248</th>\n",
              "    </tr>\n",
              "  </thead>\n",
              "  <tbody>\n",
              "    <tr>\n",
              "      <th>user_id</th>\n",
              "      <td>2483</td>\n",
              "      <td>2512</td>\n",
              "      <td>2535</td>\n",
              "    </tr>\n",
              "  </tbody>\n",
              "</table>\n",
              "</div>\n",
              "      <button class=\"colab-df-convert\" onclick=\"convertToInteractive('df-facd4f2a-a6b3-4159-adcf-521b3b1a7d8f')\"\n",
              "              title=\"Convert this dataframe to an interactive table.\"\n",
              "              style=\"display:none;\">\n",
              "        \n",
              "  <svg xmlns=\"http://www.w3.org/2000/svg\" height=\"24px\"viewBox=\"0 0 24 24\"\n",
              "       width=\"24px\">\n",
              "    <path d=\"M0 0h24v24H0V0z\" fill=\"none\"/>\n",
              "    <path d=\"M18.56 5.44l.94 2.06.94-2.06 2.06-.94-2.06-.94-.94-2.06-.94 2.06-2.06.94zm-11 1L8.5 8.5l.94-2.06 2.06-.94-2.06-.94L8.5 2.5l-.94 2.06-2.06.94zm10 10l.94 2.06.94-2.06 2.06-.94-2.06-.94-.94-2.06-.94 2.06-2.06.94z\"/><path d=\"M17.41 7.96l-1.37-1.37c-.4-.4-.92-.59-1.43-.59-.52 0-1.04.2-1.43.59L10.3 9.45l-7.72 7.72c-.78.78-.78 2.05 0 2.83L4 21.41c.39.39.9.59 1.41.59.51 0 1.02-.2 1.41-.59l7.78-7.78 2.81-2.81c.8-.78.8-2.07 0-2.86zM5.41 20L4 18.59l7.72-7.72 1.47 1.35L5.41 20z\"/>\n",
              "  </svg>\n",
              "      </button>\n",
              "      \n",
              "  <style>\n",
              "    .colab-df-container {\n",
              "      display:flex;\n",
              "      flex-wrap:wrap;\n",
              "      gap: 12px;\n",
              "    }\n",
              "\n",
              "    .colab-df-convert {\n",
              "      background-color: #E8F0FE;\n",
              "      border: none;\n",
              "      border-radius: 50%;\n",
              "      cursor: pointer;\n",
              "      display: none;\n",
              "      fill: #1967D2;\n",
              "      height: 32px;\n",
              "      padding: 0 0 0 0;\n",
              "      width: 32px;\n",
              "    }\n",
              "\n",
              "    .colab-df-convert:hover {\n",
              "      background-color: #E2EBFA;\n",
              "      box-shadow: 0px 1px 2px rgba(60, 64, 67, 0.3), 0px 1px 3px 1px rgba(60, 64, 67, 0.15);\n",
              "      fill: #174EA6;\n",
              "    }\n",
              "\n",
              "    [theme=dark] .colab-df-convert {\n",
              "      background-color: #3B4455;\n",
              "      fill: #D2E3FC;\n",
              "    }\n",
              "\n",
              "    [theme=dark] .colab-df-convert:hover {\n",
              "      background-color: #434B5C;\n",
              "      box-shadow: 0px 1px 3px 1px rgba(0, 0, 0, 0.15);\n",
              "      filter: drop-shadow(0px 1px 2px rgba(0, 0, 0, 0.3));\n",
              "      fill: #FFFFFF;\n",
              "    }\n",
              "  </style>\n",
              "\n",
              "      <script>\n",
              "        const buttonEl =\n",
              "          document.querySelector('#df-facd4f2a-a6b3-4159-adcf-521b3b1a7d8f button.colab-df-convert');\n",
              "        buttonEl.style.display =\n",
              "          google.colab.kernel.accessAllowed ? 'block' : 'none';\n",
              "\n",
              "        async function convertToInteractive(key) {\n",
              "          const element = document.querySelector('#df-facd4f2a-a6b3-4159-adcf-521b3b1a7d8f');\n",
              "          const dataTable =\n",
              "            await google.colab.kernel.invokeFunction('convertToInteractive',\n",
              "                                                     [key], {});\n",
              "          if (!dataTable) return;\n",
              "\n",
              "          const docLinkHtml = 'Like what you see? Visit the ' +\n",
              "            '<a target=\"_blank\" href=https://colab.research.google.com/notebooks/data_table.ipynb>data table notebook</a>'\n",
              "            + ' to learn more about interactive tables.';\n",
              "          element.innerHTML = '';\n",
              "          dataTable['output_type'] = 'display_data';\n",
              "          await google.colab.output.renderOutput(dataTable, element);\n",
              "          const docLink = document.createElement('div');\n",
              "          docLink.innerHTML = docLinkHtml;\n",
              "          element.appendChild(docLink);\n",
              "        }\n",
              "      </script>\n",
              "    </div>\n",
              "  </div>\n",
              "  "
            ]
          },
          "metadata": {},
          "execution_count": 31
        }
      ],
      "source": [
        "group_user = data.pivot_table(\n",
        "    columns='exp_group',\n",
        "    values='user_id',\n",
        "    aggfunc='nunique'\n",
        "    )\n",
        "\n",
        "group_user"
      ]
    },
    {
      "cell_type": "markdown",
      "metadata": {
        "id": "IPOrXAxdmnAP"
      },
      "source": [
        "В каждой группе примерно одникаковое количество пользователей.\n",
        "\n",
        "Создадим сводную таблицу, в которой будет определено уникальное количество пользователей для каждой экспериментальной группы и для каждого события."
      ]
    },
    {
      "cell_type": "code",
      "execution_count": 32,
      "metadata": {
        "id": "Z6OnbiCMqxjx"
      },
      "outputs": [],
      "source": [
        "group_stat = (\n",
        "    data.pivot_table(\n",
        "        index='event_name',\n",
        "        columns='exp_group',\n",
        "        values='user_id',\n",
        "        aggfunc='nunique'\n",
        "        )\n",
        "    .sort_values(by=246, ascending=False)\n",
        "    .reset_index()\n",
        "    .rename_axis(None, axis=1)\n",
        ")\n",
        "\n",
        "# добавляем общее количество пользователей для каждой группы в начало таблицы\n",
        "\n",
        "group_stat.loc[-1] = group_user.loc['user_id']\n",
        "group_stat.index = group_stat.index + 1\n",
        "group_stat = group_stat.sort_index()\n",
        "group_stat['event_name'] = group_stat['event_name'].fillna('UsersCount')\n",
        "group_stat = group_stat.set_index('event_name')\n",
        "\n",
        "# корректируем тип данных\n",
        "\n",
        "group_stat[[246, 247, 248]] = group_stat[[246, 247, 248]].astype(int)"
      ]
    },
    {
      "cell_type": "markdown",
      "metadata": {
        "id": "Y9zMrLQaY5jn"
      },
      "source": [
        "Построим воронку, в которой отобразим для каждой группы количество пользователей в каждом шаге и долю пользователей, которая проходит на следующий шаг воронки (от числа пользователей на предыдущем)."
      ]
    },
    {
      "cell_type": "code",
      "execution_count": 33,
      "metadata": {
        "colab": {
          "base_uri": "https://localhost:8080/",
          "height": 542
        },
        "id": "Zh5Cl9DWIoGa",
        "outputId": "784528c7-188b-4fc9-b0ff-8445f020bc78"
      },
      "outputs": [
        {
          "output_type": "display_data",
          "data": {
            "text/html": [
              "<html>\n",
              "<head><meta charset=\"utf-8\" /></head>\n",
              "<body>\n",
              "    <div>            <script src=\"https://cdnjs.cloudflare.com/ajax/libs/mathjax/2.7.5/MathJax.js?config=TeX-AMS-MML_SVG\"></script><script type=\"text/javascript\">if (window.MathJax) {MathJax.Hub.Config({SVG: {font: \"STIX-Web\"}});}</script>                <script type=\"text/javascript\">window.PlotlyConfig = {MathJaxConfig: 'local'};</script>\n",
              "        <script src=\"https://cdn.plot.ly/plotly-2.8.3.min.js\"></script>                <div id=\"3032e665-1028-4197-a9b4-40e5f79f1d9d\" class=\"plotly-graph-div\" style=\"height:525px; width:100%;\"></div>            <script type=\"text/javascript\">                                    window.PLOTLYENV=window.PLOTLYENV || {};                                    if (document.getElementById(\"3032e665-1028-4197-a9b4-40e5f79f1d9d\")) {                    Plotly.newPlot(                        \"3032e665-1028-4197-a9b4-40e5f79f1d9d\",                        [{\"marker\":{\"color\":\"#483D8B\"},\"name\":\"\\u0412\\u0441\\u0435 \\u0433\\u0440\\u0443\\u043f\\u043f\\u044b\",\"textinfo\":\"value+percent previous\",\"x\":[7534,7419,4593,3734,3539],\"y\":[\"UsersCount\",\"MainScreenAppear\",\"OffersScreenAppear\",\"CartScreenAppear\",\"PaymentScreenSuccessful\"],\"type\":\"funnel\"},{\"marker\":{\"color\":\"#8A2BE2\"},\"name\":\"\\u0413\\u0440\\u0443\\u043f\\u043f\\u0430 246\",\"textinfo\":\"value+percent previous\",\"x\":[2483,2450,1542,1266,1200],\"y\":[\"UsersCount\",\"MainScreenAppear\",\"OffersScreenAppear\",\"CartScreenAppear\",\"PaymentScreenSuccessful\"],\"type\":\"funnel\"},{\"marker\":{\"color\":\"#8B008B\"},\"name\":\"\\u0413\\u0440\\u0443\\u043f\\u043f\\u0430 247\",\"textinfo\":\"value+percent previous\",\"x\":[2512,2476,1520,1238,1158],\"y\":[\"UsersCount\",\"MainScreenAppear\",\"OffersScreenAppear\",\"CartScreenAppear\",\"PaymentScreenSuccessful\"],\"type\":\"funnel\"},{\"marker\":{\"color\":\"#4B0082\"},\"name\":\"\\u0413\\u0440\\u0443\\u043f\\u043f\\u0430 248\",\"textinfo\":\"value+percent previous\",\"x\":[2535,2493,1531,1230,1181],\"y\":[\"UsersCount\",\"MainScreenAppear\",\"OffersScreenAppear\",\"CartScreenAppear\",\"PaymentScreenSuccessful\"],\"type\":\"funnel\"}],                        {\"template\":{\"data\":{\"bar\":[{\"error_x\":{\"color\":\"#2a3f5f\"},\"error_y\":{\"color\":\"#2a3f5f\"},\"marker\":{\"line\":{\"color\":\"#E5ECF6\",\"width\":0.5},\"pattern\":{\"fillmode\":\"overlay\",\"size\":10,\"solidity\":0.2}},\"type\":\"bar\"}],\"barpolar\":[{\"marker\":{\"line\":{\"color\":\"#E5ECF6\",\"width\":0.5},\"pattern\":{\"fillmode\":\"overlay\",\"size\":10,\"solidity\":0.2}},\"type\":\"barpolar\"}],\"carpet\":[{\"aaxis\":{\"endlinecolor\":\"#2a3f5f\",\"gridcolor\":\"white\",\"linecolor\":\"white\",\"minorgridcolor\":\"white\",\"startlinecolor\":\"#2a3f5f\"},\"baxis\":{\"endlinecolor\":\"#2a3f5f\",\"gridcolor\":\"white\",\"linecolor\":\"white\",\"minorgridcolor\":\"white\",\"startlinecolor\":\"#2a3f5f\"},\"type\":\"carpet\"}],\"choropleth\":[{\"colorbar\":{\"outlinewidth\":0,\"ticks\":\"\"},\"type\":\"choropleth\"}],\"contour\":[{\"colorbar\":{\"outlinewidth\":0,\"ticks\":\"\"},\"colorscale\":[[0.0,\"#0d0887\"],[0.1111111111111111,\"#46039f\"],[0.2222222222222222,\"#7201a8\"],[0.3333333333333333,\"#9c179e\"],[0.4444444444444444,\"#bd3786\"],[0.5555555555555556,\"#d8576b\"],[0.6666666666666666,\"#ed7953\"],[0.7777777777777778,\"#fb9f3a\"],[0.8888888888888888,\"#fdca26\"],[1.0,\"#f0f921\"]],\"type\":\"contour\"}],\"contourcarpet\":[{\"colorbar\":{\"outlinewidth\":0,\"ticks\":\"\"},\"type\":\"contourcarpet\"}],\"heatmap\":[{\"colorbar\":{\"outlinewidth\":0,\"ticks\":\"\"},\"colorscale\":[[0.0,\"#0d0887\"],[0.1111111111111111,\"#46039f\"],[0.2222222222222222,\"#7201a8\"],[0.3333333333333333,\"#9c179e\"],[0.4444444444444444,\"#bd3786\"],[0.5555555555555556,\"#d8576b\"],[0.6666666666666666,\"#ed7953\"],[0.7777777777777778,\"#fb9f3a\"],[0.8888888888888888,\"#fdca26\"],[1.0,\"#f0f921\"]],\"type\":\"heatmap\"}],\"heatmapgl\":[{\"colorbar\":{\"outlinewidth\":0,\"ticks\":\"\"},\"colorscale\":[[0.0,\"#0d0887\"],[0.1111111111111111,\"#46039f\"],[0.2222222222222222,\"#7201a8\"],[0.3333333333333333,\"#9c179e\"],[0.4444444444444444,\"#bd3786\"],[0.5555555555555556,\"#d8576b\"],[0.6666666666666666,\"#ed7953\"],[0.7777777777777778,\"#fb9f3a\"],[0.8888888888888888,\"#fdca26\"],[1.0,\"#f0f921\"]],\"type\":\"heatmapgl\"}],\"histogram\":[{\"marker\":{\"pattern\":{\"fillmode\":\"overlay\",\"size\":10,\"solidity\":0.2}},\"type\":\"histogram\"}],\"histogram2d\":[{\"colorbar\":{\"outlinewidth\":0,\"ticks\":\"\"},\"colorscale\":[[0.0,\"#0d0887\"],[0.1111111111111111,\"#46039f\"],[0.2222222222222222,\"#7201a8\"],[0.3333333333333333,\"#9c179e\"],[0.4444444444444444,\"#bd3786\"],[0.5555555555555556,\"#d8576b\"],[0.6666666666666666,\"#ed7953\"],[0.7777777777777778,\"#fb9f3a\"],[0.8888888888888888,\"#fdca26\"],[1.0,\"#f0f921\"]],\"type\":\"histogram2d\"}],\"histogram2dcontour\":[{\"colorbar\":{\"outlinewidth\":0,\"ticks\":\"\"},\"colorscale\":[[0.0,\"#0d0887\"],[0.1111111111111111,\"#46039f\"],[0.2222222222222222,\"#7201a8\"],[0.3333333333333333,\"#9c179e\"],[0.4444444444444444,\"#bd3786\"],[0.5555555555555556,\"#d8576b\"],[0.6666666666666666,\"#ed7953\"],[0.7777777777777778,\"#fb9f3a\"],[0.8888888888888888,\"#fdca26\"],[1.0,\"#f0f921\"]],\"type\":\"histogram2dcontour\"}],\"mesh3d\":[{\"colorbar\":{\"outlinewidth\":0,\"ticks\":\"\"},\"type\":\"mesh3d\"}],\"parcoords\":[{\"line\":{\"colorbar\":{\"outlinewidth\":0,\"ticks\":\"\"}},\"type\":\"parcoords\"}],\"pie\":[{\"automargin\":true,\"type\":\"pie\"}],\"scatter\":[{\"marker\":{\"colorbar\":{\"outlinewidth\":0,\"ticks\":\"\"}},\"type\":\"scatter\"}],\"scatter3d\":[{\"line\":{\"colorbar\":{\"outlinewidth\":0,\"ticks\":\"\"}},\"marker\":{\"colorbar\":{\"outlinewidth\":0,\"ticks\":\"\"}},\"type\":\"scatter3d\"}],\"scattercarpet\":[{\"marker\":{\"colorbar\":{\"outlinewidth\":0,\"ticks\":\"\"}},\"type\":\"scattercarpet\"}],\"scattergeo\":[{\"marker\":{\"colorbar\":{\"outlinewidth\":0,\"ticks\":\"\"}},\"type\":\"scattergeo\"}],\"scattergl\":[{\"marker\":{\"colorbar\":{\"outlinewidth\":0,\"ticks\":\"\"}},\"type\":\"scattergl\"}],\"scattermapbox\":[{\"marker\":{\"colorbar\":{\"outlinewidth\":0,\"ticks\":\"\"}},\"type\":\"scattermapbox\"}],\"scatterpolar\":[{\"marker\":{\"colorbar\":{\"outlinewidth\":0,\"ticks\":\"\"}},\"type\":\"scatterpolar\"}],\"scatterpolargl\":[{\"marker\":{\"colorbar\":{\"outlinewidth\":0,\"ticks\":\"\"}},\"type\":\"scatterpolargl\"}],\"scatterternary\":[{\"marker\":{\"colorbar\":{\"outlinewidth\":0,\"ticks\":\"\"}},\"type\":\"scatterternary\"}],\"surface\":[{\"colorbar\":{\"outlinewidth\":0,\"ticks\":\"\"},\"colorscale\":[[0.0,\"#0d0887\"],[0.1111111111111111,\"#46039f\"],[0.2222222222222222,\"#7201a8\"],[0.3333333333333333,\"#9c179e\"],[0.4444444444444444,\"#bd3786\"],[0.5555555555555556,\"#d8576b\"],[0.6666666666666666,\"#ed7953\"],[0.7777777777777778,\"#fb9f3a\"],[0.8888888888888888,\"#fdca26\"],[1.0,\"#f0f921\"]],\"type\":\"surface\"}],\"table\":[{\"cells\":{\"fill\":{\"color\":\"#EBF0F8\"},\"line\":{\"color\":\"white\"}},\"header\":{\"fill\":{\"color\":\"#C8D4E3\"},\"line\":{\"color\":\"white\"}},\"type\":\"table\"}]},\"layout\":{\"annotationdefaults\":{\"arrowcolor\":\"#2a3f5f\",\"arrowhead\":0,\"arrowwidth\":1},\"autotypenumbers\":\"strict\",\"coloraxis\":{\"colorbar\":{\"outlinewidth\":0,\"ticks\":\"\"}},\"colorscale\":{\"diverging\":[[0,\"#8e0152\"],[0.1,\"#c51b7d\"],[0.2,\"#de77ae\"],[0.3,\"#f1b6da\"],[0.4,\"#fde0ef\"],[0.5,\"#f7f7f7\"],[0.6,\"#e6f5d0\"],[0.7,\"#b8e186\"],[0.8,\"#7fbc41\"],[0.9,\"#4d9221\"],[1,\"#276419\"]],\"sequential\":[[0.0,\"#0d0887\"],[0.1111111111111111,\"#46039f\"],[0.2222222222222222,\"#7201a8\"],[0.3333333333333333,\"#9c179e\"],[0.4444444444444444,\"#bd3786\"],[0.5555555555555556,\"#d8576b\"],[0.6666666666666666,\"#ed7953\"],[0.7777777777777778,\"#fb9f3a\"],[0.8888888888888888,\"#fdca26\"],[1.0,\"#f0f921\"]],\"sequentialminus\":[[0.0,\"#0d0887\"],[0.1111111111111111,\"#46039f\"],[0.2222222222222222,\"#7201a8\"],[0.3333333333333333,\"#9c179e\"],[0.4444444444444444,\"#bd3786\"],[0.5555555555555556,\"#d8576b\"],[0.6666666666666666,\"#ed7953\"],[0.7777777777777778,\"#fb9f3a\"],[0.8888888888888888,\"#fdca26\"],[1.0,\"#f0f921\"]]},\"colorway\":[\"#636efa\",\"#EF553B\",\"#00cc96\",\"#ab63fa\",\"#FFA15A\",\"#19d3f3\",\"#FF6692\",\"#B6E880\",\"#FF97FF\",\"#FECB52\"],\"font\":{\"color\":\"#2a3f5f\"},\"geo\":{\"bgcolor\":\"white\",\"lakecolor\":\"white\",\"landcolor\":\"#E5ECF6\",\"showlakes\":true,\"showland\":true,\"subunitcolor\":\"white\"},\"hoverlabel\":{\"align\":\"left\"},\"hovermode\":\"closest\",\"mapbox\":{\"style\":\"light\"},\"paper_bgcolor\":\"white\",\"plot_bgcolor\":\"#E5ECF6\",\"polar\":{\"angularaxis\":{\"gridcolor\":\"white\",\"linecolor\":\"white\",\"ticks\":\"\"},\"bgcolor\":\"#E5ECF6\",\"radialaxis\":{\"gridcolor\":\"white\",\"linecolor\":\"white\",\"ticks\":\"\"}},\"scene\":{\"xaxis\":{\"backgroundcolor\":\"#E5ECF6\",\"gridcolor\":\"white\",\"gridwidth\":2,\"linecolor\":\"white\",\"showbackground\":true,\"ticks\":\"\",\"zerolinecolor\":\"white\"},\"yaxis\":{\"backgroundcolor\":\"#E5ECF6\",\"gridcolor\":\"white\",\"gridwidth\":2,\"linecolor\":\"white\",\"showbackground\":true,\"ticks\":\"\",\"zerolinecolor\":\"white\"},\"zaxis\":{\"backgroundcolor\":\"#E5ECF6\",\"gridcolor\":\"white\",\"gridwidth\":2,\"linecolor\":\"white\",\"showbackground\":true,\"ticks\":\"\",\"zerolinecolor\":\"white\"}},\"shapedefaults\":{\"line\":{\"color\":\"#2a3f5f\"}},\"ternary\":{\"aaxis\":{\"gridcolor\":\"white\",\"linecolor\":\"white\",\"ticks\":\"\"},\"baxis\":{\"gridcolor\":\"white\",\"linecolor\":\"white\",\"ticks\":\"\"},\"bgcolor\":\"#E5ECF6\",\"caxis\":{\"gridcolor\":\"white\",\"linecolor\":\"white\",\"ticks\":\"\"}},\"title\":{\"x\":0.05},\"xaxis\":{\"automargin\":true,\"gridcolor\":\"white\",\"linecolor\":\"white\",\"ticks\":\"\",\"title\":{\"standoff\":15},\"zerolinecolor\":\"white\",\"zerolinewidth\":2},\"yaxis\":{\"automargin\":true,\"gridcolor\":\"white\",\"linecolor\":\"white\",\"ticks\":\"\",\"title\":{\"standoff\":15},\"zerolinecolor\":\"white\",\"zerolinewidth\":2}}}},                        {\"responsive\": true}                    ).then(function(){\n",
              "                            \n",
              "var gd = document.getElementById('3032e665-1028-4197-a9b4-40e5f79f1d9d');\n",
              "var x = new MutationObserver(function (mutations, observer) {{\n",
              "        var display = window.getComputedStyle(gd).display;\n",
              "        if (!display || display === 'none') {{\n",
              "            console.log([gd, 'removed!']);\n",
              "            Plotly.purge(gd);\n",
              "            observer.disconnect();\n",
              "        }}\n",
              "}});\n",
              "\n",
              "// Listen for the removal of the full notebook cells\n",
              "var notebookContainer = gd.closest('#notebook-container');\n",
              "if (notebookContainer) {{\n",
              "    x.observe(notebookContainer, {childList: true});\n",
              "}}\n",
              "\n",
              "// Listen for the clearing of the current output cell\n",
              "var outputEl = gd.closest('.output');\n",
              "if (outputEl) {{\n",
              "    x.observe(outputEl, {childList: true});\n",
              "}}\n",
              "\n",
              "                        })                };                            </script>        </div>\n",
              "</body>\n",
              "</html>"
            ]
          },
          "metadata": {}
        }
      ],
      "source": [
        "fig = go.Figure()\n",
        "\n",
        "fig.add_trace(go.Funnel(\n",
        "    name = 'Все группы',\n",
        "    y = event_user['event_name'],\n",
        "    x = event_user['user_id'],\n",
        "    textinfo = 'value+percent previous',\n",
        "    marker = {'color': '#483D8B'}))\n",
        "\n",
        "fig.add_trace(go.Funnel(\n",
        "    name = 'Группа 246',\n",
        "    y = group_stat.index,\n",
        "    x = group_stat[246],\n",
        "    textinfo = 'value+percent previous',\n",
        "    marker = {'color': '#8A2BE2'}))\n",
        "\n",
        "fig.add_trace(go.Funnel(\n",
        "    name = 'Группа 247',\n",
        "    y = group_stat.index,\n",
        "    x = group_stat[247],\n",
        "    textinfo = 'value+percent previous',\n",
        "    marker = {'color': '#8B008B'}))\n",
        "\n",
        "fig.add_trace(go.Funnel(\n",
        "    name = 'Группа 248',\n",
        "    y = group_stat.index,\n",
        "    x = group_stat[248],\n",
        "    textinfo = 'value+percent previous',\n",
        "    marker = {'color': '#4B0082'}))\n",
        "\n",
        "fig.show()"
      ]
    },
    {
      "cell_type": "markdown",
      "metadata": {
        "id": "7r1Ce2NbZiSH"
      },
      "source": [
        "**Вывод**\n",
        "\n",
        "У группы с измененным шрифтом № 248:\n",
        "  \n",
        "* конверсия перехода на главную страницу ниже, чем у контрольных групп на 0.4-0.5%;\n",
        "\n",
        "\n",
        "* конверсия перехода с главной страницы на страницу с предложением товаров такая же, как у контрольной группы № 247, но ниже конверсии группы № 246 на 1.5%;\n",
        "\n",
        "\n",
        "* конверсия перехода из просмотра товара в корзину наже, чем у контрольных групп на 1.1-1.8%;\n",
        "\n",
        "\n",
        "* конверсия перехода из корзины в успешную оплату выше, чем у контрольных групп на 1.2-2.5%.\n",
        "    \n",
        "Иными словами, процент пользователей, перешедших на следующий шаг, между группами отличается на 1-2 процента.\n",
        "    \n",
        "Процент перехода на страницу с успешной оплатой у группы с другим шрифтом немного больше, а процент перехода на просмотр корзины меньше, чем у других групп."
      ]
    },
    {
      "cell_type": "markdown",
      "metadata": {
        "id": "wo2PPFUsnEC9"
      },
      "source": [
        "Проверим статистическую значимость между группами, чтобы понять, является ли эти процент-два значительным отличием или нет."
      ]
    },
    {
      "cell_type": "code",
      "execution_count": 34,
      "metadata": {
        "id": "YJy4H0x0mauF"
      },
      "outputs": [],
      "source": [
        "# создадим функцию, которая будет рассчитывать статистическую значимость\n",
        "# различий в пропорциях при указанных размерах выборок\n",
        "\n",
        "def events_stat(user_count, group_number_1, group_number_2, event_name, alpha):\n",
        "\n",
        "    # определяем массив для выборок\n",
        "    trials = np.array(\n",
        "        [group_stat.loc[user_count, group_number_1],\n",
        "        group_stat.loc[user_count, group_number_2]]\n",
        "        )\n",
        "    \n",
        "    # определяем массив для событий\n",
        "    successes = np.array(\n",
        "        [group_stat.loc[event_name, group_number_1],\n",
        "        group_stat.loc[event_name, group_number_2]]\n",
        "        )\n",
        "\n",
        "    # пропорция успехов в первой группе:\n",
        "    p1 = successes[0]/trials[0]\n",
        "\n",
        "    # пропорция успехов во второй группе:\n",
        "    p2 = successes[1]/trials[1]\n",
        "\n",
        "    # пропорция успехов в комбинированном датасете:\n",
        "    p_combined = (successes[0] + successes[1]) / (trials[0] + trials[1])\n",
        "\n",
        "    # разница пропорций в датасетах\n",
        "    difference = p1 - p2 \n",
        "\n",
        "    # считаем статистику в ст.отклонениях стандартного нормального распределения\n",
        "    z_value = difference / mth.sqrt(\n",
        "        p_combined * (1 - p_combined) * (1/trials[0] + 1/trials[1])\n",
        "        )\n",
        "\n",
        "    # задаем стандартное нормальное распределение (среднее 0, ст.отклонение 1)\n",
        "    distr = st.norm(0, 1)  \n",
        "\n",
        "    p_value = (1 - distr.cdf(abs(z_value))) * 2\n",
        "\n",
        "    print('p-значение: ', round(p_value, 4))\n",
        "\n",
        "    if p_value < alpha:\n",
        "        print('Отвергаем нулевую гипотезу: между долями есть значимая разница')\n",
        "    else:\n",
        "        print(\n",
        "            'Не получилось отвергнуть нулевую гипотезу, нет оснований считать доли разными'\n",
        "        ) "
      ]
    },
    {
      "cell_type": "markdown",
      "metadata": {
        "id": "m3Ib--1Q2oR7"
      },
      "source": [
        "Данные и функция подготовлены.\n",
        "\n",
        "Если бы пропорции были равны, разница между ними была бы равна нулю. Посчитаем, как далеко статистика уехала от нуля. Сформируем гипотезы и применим функцию.\n",
        "\n",
        "*Примечание: Чтобы найти баланс между мощностью и значимостью, применем значимость равнойю 0.05, поскольку выборки получились примерно по 2.5 тысячи, но доли этих выборок для событий еще меньше. Это не та ситуация, когда при выборках большого объема случайные отклонения компенсируют друг друга, и получить значимое различие в выборках при их однородности менее вероятно.*\n",
        "\n",
        "*Таким образом, при данной значимости существует 5%-ная вероятность того, что результат является случайным.*\n",
        "\n",
        "*Поскольку мы будем сравнивать выборки не только по трем группам, а также с объединенной контрольной группой и подгруппами в виде четрыех действий пользователей, то получается 16 нулевых и альтернативных гипотез. В данном случае применение поправки на множественную проверку гипотез очень сильно уменьшит мощность, что не следует делать для небольшой выборки.*"
      ]
    },
    {
      "cell_type": "markdown",
      "metadata": {
        "id": "zDBf0CqvJ2vF"
      },
      "source": [
        "Н0: нет различий в конверсии из перехода в приложение в просмотр главной страницы между выборками.\n",
        "\n",
        "Н1: есть различия в конверсии из перехода в приложение в просмотр главной страницы между выборками."
      ]
    },
    {
      "cell_type": "code",
      "execution_count": 35,
      "metadata": {
        "colab": {
          "base_uri": "https://localhost:8080/"
        },
        "id": "CBho2CJdAyf5",
        "outputId": "6cfaaf9c-0630-4556-9779-950b4cd1e68d"
      },
      "outputs": [
        {
          "output_type": "stream",
          "name": "stdout",
          "text": [
            "p-значение:  0.7527\n",
            "Не получилось отвергнуть нулевую гипотезу, нет оснований считать доли разными\n"
          ]
        }
      ],
      "source": [
        "events_stat('UsersCount', 246, 247, 'MainScreenAppear', 0.01)"
      ]
    },
    {
      "cell_type": "markdown",
      "metadata": {
        "id": "M7PJR70mBB7q"
      },
      "source": [
        "Н0: нет различий в конверсии из перехода в приложение в просмотр товаров между выборками.\n",
        "\n",
        "Н1: есть различия в конверсии из перехода в приложение в просмотр товаров между выборками."
      ]
    },
    {
      "cell_type": "code",
      "execution_count": 36,
      "metadata": {
        "colab": {
          "base_uri": "https://localhost:8080/"
        },
        "id": "oNCSx5IIzjvH",
        "outputId": "8770f489-773c-4878-9a2a-cabcc83a4bfc"
      },
      "outputs": [
        {
          "output_type": "stream",
          "name": "stdout",
          "text": [
            "p-значение:  0.2479\n",
            "Не получилось отвергнуть нулевую гипотезу, нет оснований считать доли разными\n"
          ]
        }
      ],
      "source": [
        "events_stat('UsersCount', 246, 247, 'OffersScreenAppear', 0.01)"
      ]
    },
    {
      "cell_type": "markdown",
      "metadata": {
        "id": "kguahs-WMOIl"
      },
      "source": [
        "Н0: нет различий в конверсии из перехода в приложение в просмотр корзины между выборками.\n",
        "\n",
        "Н1: есть различия в конверсии из перехода в приложение в просмотр корзины между выборками."
      ]
    },
    {
      "cell_type": "code",
      "execution_count": 37,
      "metadata": {
        "colab": {
          "base_uri": "https://localhost:8080/"
        },
        "id": "iylU2qbbzoqs",
        "outputId": "7ae909ce-bf5e-42c0-d426-ba3be2147ed5"
      },
      "outputs": [
        {
          "output_type": "stream",
          "name": "stdout",
          "text": [
            "p-значение:  0.2287\n",
            "Не получилось отвергнуть нулевую гипотезу, нет оснований считать доли разными\n"
          ]
        }
      ],
      "source": [
        "events_stat('UsersCount', 246, 247, 'CartScreenAppear', 0.01)"
      ]
    },
    {
      "cell_type": "markdown",
      "metadata": {
        "id": "e3xRDIRgMR2L"
      },
      "source": [
        "Н0: нет различий в конверсии из перехода в приложение в просмотр страницы удачной оплаты между выборками.\n",
        "\n",
        "Н1: есть различия в конверсии из перехода в приложение в просмотр страницы удачной оплаты между выборками."
      ]
    },
    {
      "cell_type": "code",
      "execution_count": 38,
      "metadata": {
        "colab": {
          "base_uri": "https://localhost:8080/"
        },
        "id": "mjKClY02z-iC",
        "outputId": "516f550c-cf50-462b-e2d9-06209535f34d"
      },
      "outputs": [
        {
          "output_type": "stream",
          "name": "stdout",
          "text": [
            "p-значение:  0.1145\n",
            "Не получилось отвергнуть нулевую гипотезу, нет оснований считать доли разными\n"
          ]
        }
      ],
      "source": [
        "events_stat('UsersCount', 246, 247, 'PaymentScreenSuccessful', 0.01)"
      ]
    },
    {
      "cell_type": "markdown",
      "metadata": {
        "id": "N5MoIn6NY0gx"
      },
      "source": [
        "**Вывод**\n",
        "\n",
        "Нулевые гипотезы о различии между контрольными группами подтвердить не удалось, что говорит о том, что:\n",
        "\n",
        "* различия между ними не являются статистически значимыми,\n",
        "\n",
        "* все механизмы проведения эксперимента должны быть корректными."
      ]
    },
    {
      "cell_type": "markdown",
      "metadata": {
        "id": "MwSkNGwInP5E"
      },
      "source": [
        "Проверим статистическую значимость различий между контрольной группой № 246 и группой с измененным шрифтом № 248.\n",
        "\n",
        "Н0: нет различий в конверсии из перехода в приложение в просмотр главной страницы между выборками.\n",
        "\n",
        "Н1: есть различия в конверсии из перехода в приложение в просмотр главной страницы между выборками."
      ]
    },
    {
      "cell_type": "code",
      "execution_count": 39,
      "metadata": {
        "colab": {
          "base_uri": "https://localhost:8080/"
        },
        "id": "HwfHZINWnp6O",
        "outputId": "792db97d-aae1-4dc1-e3ac-32baae38f7e7"
      },
      "outputs": [
        {
          "output_type": "stream",
          "name": "stdout",
          "text": [
            "p-значение:  0.3387\n",
            "Не получилось отвергнуть нулевую гипотезу, нет оснований считать доли разными\n"
          ]
        }
      ],
      "source": [
        "events_stat('UsersCount', 246, 248, 'MainScreenAppear', 0.01)"
      ]
    },
    {
      "cell_type": "markdown",
      "metadata": {
        "id": "NDzqrVlSnp6P"
      },
      "source": [
        "Н0: нет различий в конверсии из перехода в приложение в просмотр товаров между выборками.\n",
        "\n",
        "Н1: есть различия в конверсии из перехода в приложение в просмотр товаров между выборками."
      ]
    },
    {
      "cell_type": "code",
      "execution_count": 40,
      "metadata": {
        "colab": {
          "base_uri": "https://localhost:8080/"
        },
        "id": "IIam6hognp6Q",
        "outputId": "7b5b8178-cd25-4069-c2d1-0507537b5e9b"
      },
      "outputs": [
        {
          "output_type": "stream",
          "name": "stdout",
          "text": [
            "p-значение:  0.2144\n",
            "Не получилось отвергнуть нулевую гипотезу, нет оснований считать доли разными\n"
          ]
        }
      ],
      "source": [
        "events_stat('UsersCount', 246, 248, 'OffersScreenAppear', 0.01)"
      ]
    },
    {
      "cell_type": "markdown",
      "metadata": {
        "id": "YzYEGJ7Knp6Q"
      },
      "source": [
        "Н0: нет различий в конверсии из перехода в приложение в просмотр корзины между выборками.\n",
        "\n",
        "Н1: есть различия в конверсии из перехода в приложение в просмотр корзины между выборками."
      ]
    },
    {
      "cell_type": "code",
      "execution_count": 41,
      "metadata": {
        "colab": {
          "base_uri": "https://localhost:8080/"
        },
        "id": "7CUDB46pnp6Q",
        "outputId": "7a0d8b47-4291-48b2-b518-114c8e34f6be"
      },
      "outputs": [
        {
          "output_type": "stream",
          "name": "stdout",
          "text": [
            "p-значение:  0.0807\n",
            "Не получилось отвергнуть нулевую гипотезу, нет оснований считать доли разными\n"
          ]
        }
      ],
      "source": [
        "events_stat('UsersCount', 246, 248, 'CartScreenAppear', 0.01)"
      ]
    },
    {
      "cell_type": "markdown",
      "metadata": {
        "id": "Vzt8TD1knp6Q"
      },
      "source": [
        "Н0: нет различий в конверсии из перехода в приложение в просмотр страницы удачной оплаты между выборками.\n",
        "\n",
        "Н1: есть различия в конверсии из перехода в приложение в просмотр страницы удачной оплаты между выборками."
      ]
    },
    {
      "cell_type": "code",
      "execution_count": 42,
      "metadata": {
        "colab": {
          "base_uri": "https://localhost:8080/"
        },
        "id": "K68oyO2Enp6R",
        "outputId": "52409a54-d146-4252-c66e-f47ece9e6d4c"
      },
      "outputs": [
        {
          "output_type": "stream",
          "name": "stdout",
          "text": [
            "p-значение:  0.2169\n",
            "Не получилось отвергнуть нулевую гипотезу, нет оснований считать доли разными\n"
          ]
        }
      ],
      "source": [
        "events_stat('UsersCount', 246, 248, 'PaymentScreenSuccessful', 0.01)"
      ]
    },
    {
      "cell_type": "markdown",
      "metadata": {
        "id": "olSfpgjjnp6R"
      },
      "source": [
        "**Вывод**\n",
        "\n",
        "Нулевые гипотезы о различии между контрольной группой № 246 и группой с измененным шрифтом № 248 подтвердить не удалось, что говорит о том, что:\n",
        "\n",
        "* различия между ними не являются статистически значимыми,\n",
        "\n",
        "* измененный шрифт не влияет на доли пользователей, посетивших страницы приложения."
      ]
    },
    {
      "cell_type": "markdown",
      "metadata": {
        "id": "gKuRZXWlohJQ"
      },
      "source": [
        "Проверим статистическую значимость различий между контрольной группой № 247 и группой с измененным шрифтом № 248.\n",
        "\n",
        "Н0: нет различий в конверсии из перехода в приложение в просмотр главной страницы между выборками.\n",
        "\n",
        "Н1: есть различия в конверсии из перехода в приложение в просмотр главной страницы между выборками."
      ]
    },
    {
      "cell_type": "code",
      "execution_count": 43,
      "metadata": {
        "colab": {
          "base_uri": "https://localhost:8080/"
        },
        "id": "zv1OIVTYohJQ",
        "outputId": "edca2076-7a5a-4d8a-9b6b-545a7477388b"
      },
      "outputs": [
        {
          "output_type": "stream",
          "name": "stdout",
          "text": [
            "p-значение:  0.5195\n",
            "Не получилось отвергнуть нулевую гипотезу, нет оснований считать доли разными\n"
          ]
        }
      ],
      "source": [
        "events_stat('UsersCount', 247, 248, 'MainScreenAppear', 0.01)"
      ]
    },
    {
      "cell_type": "markdown",
      "metadata": {
        "id": "4qfiymfkohJR"
      },
      "source": [
        "Н0: нет различий в конверсии из перехода в приложение в просмотр товаров между выборками.\n",
        "\n",
        "Н1: есть различия в конверсии из перехода в приложение в просмотр товаров между выборками."
      ]
    },
    {
      "cell_type": "code",
      "execution_count": 44,
      "metadata": {
        "colab": {
          "base_uri": "https://localhost:8080/"
        },
        "id": "qU49CUZsohJR",
        "outputId": "b6edcba2-67a8-4edc-dc10-5cab63cf5300"
      },
      "outputs": [
        {
          "output_type": "stream",
          "name": "stdout",
          "text": [
            "p-значение:  0.9334\n",
            "Не получилось отвергнуть нулевую гипотезу, нет оснований считать доли разными\n"
          ]
        }
      ],
      "source": [
        "events_stat('UsersCount', 247, 248, 'OffersScreenAppear', 0.01)"
      ]
    },
    {
      "cell_type": "markdown",
      "metadata": {
        "id": "rM-DoexWohJS"
      },
      "source": [
        "Н0: нет различий в конверсии из перехода в приложение в просмотр корзины между выборками.\n",
        "\n",
        "Н1: есть различия в конверсии из перехода в приложение в просмотр корзины между выборками."
      ]
    },
    {
      "cell_type": "code",
      "execution_count": 45,
      "metadata": {
        "colab": {
          "base_uri": "https://localhost:8080/"
        },
        "id": "L7M7g_EzohJS",
        "outputId": "69f6a14b-5fd5-41d3-e532-0edc437c0484"
      },
      "outputs": [
        {
          "output_type": "stream",
          "name": "stdout",
          "text": [
            "p-значение:  0.5878\n",
            "Не получилось отвергнуть нулевую гипотезу, нет оснований считать доли разными\n"
          ]
        }
      ],
      "source": [
        "events_stat('UsersCount', 247, 248, 'CartScreenAppear', 0.01)"
      ]
    },
    {
      "cell_type": "markdown",
      "metadata": {
        "id": "SCZN24q5ohJS"
      },
      "source": [
        "Н0: нет различий в конверсии из перехода в приложение в просмотр страницы удачной оплаты между выборками.\n",
        "\n",
        "Н1: есть различия в конверсии из перехода в приложение в просмотр страницы удачной оплаты между выборками."
      ]
    },
    {
      "cell_type": "code",
      "execution_count": 46,
      "metadata": {
        "colab": {
          "base_uri": "https://localhost:8080/"
        },
        "id": "6J4zbrTkohJS",
        "outputId": "be622efe-1135-454b-aa39-11a8d592b90b"
      },
      "outputs": [
        {
          "output_type": "stream",
          "name": "stdout",
          "text": [
            "p-значение:  0.7276\n",
            "Не получилось отвергнуть нулевую гипотезу, нет оснований считать доли разными\n"
          ]
        }
      ],
      "source": [
        "events_stat('UsersCount', 247, 248, 'PaymentScreenSuccessful', 0.01)"
      ]
    },
    {
      "cell_type": "markdown",
      "metadata": {
        "id": "aRXHVzG4ohJS"
      },
      "source": [
        "**Вывод**\n",
        "\n",
        "Нулевые гипотезы о различии между контрольной группой № 247 и группой с измененным шрифтом № 248 подтвердить не удалось, что говорит о том, что:\n",
        "\n",
        "* различия между ними не являются статистически значимыми,\n",
        "\n",
        "* измененный шрифт не влияет на доли пользователей, посетивших страницы приложения."
      ]
    },
    {
      "cell_type": "markdown",
      "metadata": {
        "id": "wQSFnLMfq0O1"
      },
      "source": [
        "Теперь проверим статистическую значимость различий между объединенными контрольными группами и группой с измененным шрифтом № 248.\n",
        "\n",
        "Добавим соответствующую колонку в group_stat, проверим гипотезы."
      ]
    },
    {
      "cell_type": "code",
      "execution_count": 47,
      "metadata": {
        "id": "H9Vdt-2WqAyU"
      },
      "outputs": [],
      "source": [
        "group_stat['control_sum'] = group_stat[246] + group_stat[247]"
      ]
    },
    {
      "cell_type": "markdown",
      "metadata": {
        "id": "XaYGeaumrJy-"
      },
      "source": [
        "Н0: нет различий в конверсии из перехода в приложение в просмотр главной страницы между выборками.\n",
        "\n",
        "Н1: есть различия в конверсии из перехода в приложение в просмотр главной страницы между выборками."
      ]
    },
    {
      "cell_type": "code",
      "execution_count": 48,
      "metadata": {
        "colab": {
          "base_uri": "https://localhost:8080/"
        },
        "id": "c7m-aO8mq0O2",
        "outputId": "4058a3d7-0395-4566-9dd1-d5f4f2d217bd"
      },
      "outputs": [
        {
          "output_type": "stream",
          "name": "stdout",
          "text": [
            "p-значение:  0.3487\n",
            "Не получилось отвергнуть нулевую гипотезу, нет оснований считать доли разными\n"
          ]
        }
      ],
      "source": [
        "events_stat('UsersCount', 'control_sum', 248, 'MainScreenAppear', 0.01)"
      ]
    },
    {
      "cell_type": "markdown",
      "metadata": {
        "id": "mZg9EoZkq0O2"
      },
      "source": [
        "Н0: нет различий в конверсии из перехода в приложение в просмотр товаров между выборками.\n",
        "\n",
        "Н1: есть различия в конверсии из перехода в приложение в просмотр товаров между выборками."
      ]
    },
    {
      "cell_type": "code",
      "execution_count": 49,
      "metadata": {
        "colab": {
          "base_uri": "https://localhost:8080/"
        },
        "id": "aBSc8Y6yq0O3",
        "outputId": "7e8b365f-50ac-4667-dd94-cac5e3294b2d"
      },
      "outputs": [
        {
          "output_type": "stream",
          "name": "stdout",
          "text": [
            "p-значение:  0.4458\n",
            "Не получилось отвергнуть нулевую гипотезу, нет оснований считать доли разными\n"
          ]
        }
      ],
      "source": [
        "events_stat('UsersCount', 'control_sum', 248, 'OffersScreenAppear', 0.01)"
      ]
    },
    {
      "cell_type": "markdown",
      "metadata": {
        "id": "AjtaCBQmq0O3"
      },
      "source": [
        "Н0: нет различий в конверсии из перехода в приложение в просмотр корзины между выборками.\n",
        "\n",
        "Н1: есть различия в конверсии из перехода в приложение в просмотр корзины между выборками."
      ]
    },
    {
      "cell_type": "code",
      "execution_count": 50,
      "metadata": {
        "colab": {
          "base_uri": "https://localhost:8080/"
        },
        "id": "Blkcnac8q0O3",
        "outputId": "7f3126e8-d629-4861-c934-6a62f0bf70ef"
      },
      "outputs": [
        {
          "output_type": "stream",
          "name": "stdout",
          "text": [
            "p-значение:  0.1868\n",
            "Не получилось отвергнуть нулевую гипотезу, нет оснований считать доли разными\n"
          ]
        }
      ],
      "source": [
        "events_stat('UsersCount', 'control_sum', 248, 'CartScreenAppear', 0.01)"
      ]
    },
    {
      "cell_type": "markdown",
      "metadata": {
        "id": "Q41aW47-q0O3"
      },
      "source": [
        "Н0: нет различий в конверсии из перехода в приложение в просмотр страницы удачной оплаты между выборками.\n",
        "\n",
        "Н1: есть различия в конверсии из перехода в приложение в просмотр страницы удачной оплаты между выборками."
      ]
    },
    {
      "cell_type": "code",
      "execution_count": 51,
      "metadata": {
        "colab": {
          "base_uri": "https://localhost:8080/"
        },
        "id": "VrVKhjzYq0O3",
        "outputId": "478d34c5-a2e6-442b-84f5-94e1a2e5c5fa"
      },
      "outputs": [
        {
          "output_type": "stream",
          "name": "stdout",
          "text": [
            "p-значение:  0.6108\n",
            "Не получилось отвергнуть нулевую гипотезу, нет оснований считать доли разными\n"
          ]
        }
      ],
      "source": [
        "events_stat('UsersCount', 'control_sum', 248, 'PaymentScreenSuccessful', 0.01)"
      ]
    },
    {
      "cell_type": "markdown",
      "metadata": {
        "id": "ophbBqvoq0O4"
      },
      "source": [
        "**Вывод**\n",
        "\n",
        "Нулевые гипотезы о различии между объединенными контрольными группами и группой с измененным шрифтом № 248 подтвердить не удалось, что говорит о том, что:\n",
        "\n",
        "* различия между ними не являются статистически значимыми,\n",
        "\n",
        "* измененный шрифт не влияет на доли пользователей, посетивших страницы приложения."
      ]
    },
    {
      "cell_type": "markdown",
      "metadata": {
        "id": "68gWN2gctHis"
      },
      "source": [
        "## Общий вывод\n",
        "<a class='anchor' id='summary'></a>"
      ]
    },
    {
      "cell_type": "markdown",
      "metadata": {
        "id": "odOEW_EktJdi"
      },
      "source": [
        "1. Самое популярное событие - это посещение главной страницы. Это событие совершили 98% пользователей, или 7419 пользователей из 7551 пользователя, участвовавших в эксперименте.\n",
        "\n",
        "  Страницу с товарами просматривал 61% пользователей.\n",
        "  \n",
        "  Корзину смотрели 50% пользователей.\n",
        "  \n",
        "  Страницу с успешной оплатой увидели 47% пользователей.\n",
        "  \n",
        "  Инструкцию посмотрело 11%.\n",
        "  \n",
        "---\n",
        "\n",
        "2. 2% пользователей, зайдя в приложение, не попадают на главную страницу. \n",
        "\n",
        "  62% пользователей переходит с главной страницы на страницу с товарами. \n",
        "  \n",
        "  81% пользователей, посмотрев товары, переходит в корзину.\n",
        "  \n",
        "  95% из корзины переходят к успешной оплате товара.\n",
        "  \n",
        "  От входа в приложение до оплаты доходит 47% пользователей.\n",
        "  \n",
        "---\n",
        "\n",
        "3. На главную страницу перешло 98.7% пользователей в контрольной группе № 246, 98.6% в контрольной группе № 247 и 98.3% в группе с другим шрифтом № 248.\n",
        "\n",
        "  С главной страницы на страницу с предложением товаров перешло 62.9% в группе № 246, 61.4% в группе № 247 и 61.4% в группе № 248.\n",
        "\n",
        "  После просмотра товара в корзину перешло 82.1% в группе № 246, 81.4% в группе № 247 и 80.3% в группе № 248.\n",
        "\n",
        "  Успешно оплатило товар 94.8% пользователей в группе № 246, 93.5% в группе № 247 и 96% в группе № 248.\n",
        "\n",
        "  Таким образом, у группы с измененным шрифтом № 248:\n",
        "  \n",
        "* конверсия перехода на главную страницу ниже, чем у контрольных групп на 0.4-0.5%;\n",
        "\n",
        "\n",
        "* конверсия перехода с главной страницы на страницу с предложением товаров такая же, как у контрольной группы № 247, но ниже конверсии группы № 246 на 1.5%;\n",
        "\n",
        "\n",
        "* конверсия перехода из просмотра товара в корзину наже, чем у контрольных групп на 1.1-1.8%;\n",
        "\n",
        "\n",
        "* конверсия перехода из корзины в успешную оплату выше, чем у контрольных групп на 1.2-2.5%.\n",
        "\n",
        "\n",
        "    \n",
        "    Однако, проверка статистической значимости различий выборок показала, что различия между ними не являются статистически значимыми.\n",
        "  \n",
        "---\n",
        "\n",
        "В итоге, опредилить лучший шрифт для приложения не удалось, т.е. измененный шрифт не влияет на доли пользователей, посетивших страницы приложения.\n",
        "\n"
      ]
    }
  ],
  "metadata": {
    "ExecuteTimeLog": [
      {
        "duration": 1316,
        "start_time": "2022-05-26T20:40:38.242Z"
      },
      {
        "duration": 600,
        "start_time": "2022-05-26T20:40:39.560Z"
      },
      {
        "duration": 11,
        "start_time": "2022-05-26T20:40:40.161Z"
      },
      {
        "duration": 20,
        "start_time": "2022-05-26T20:40:40.174Z"
      },
      {
        "duration": 4,
        "start_time": "2022-05-26T20:40:40.196Z"
      },
      {
        "duration": 11,
        "start_time": "2022-05-26T20:40:40.201Z"
      },
      {
        "duration": 40,
        "start_time": "2022-05-26T20:40:40.213Z"
      },
      {
        "duration": 71,
        "start_time": "2022-05-26T20:40:40.255Z"
      },
      {
        "duration": 65,
        "start_time": "2022-05-26T20:40:40.328Z"
      },
      {
        "duration": 74,
        "start_time": "2022-05-26T20:40:40.395Z"
      },
      {
        "duration": 85,
        "start_time": "2022-05-26T20:40:40.470Z"
      },
      {
        "duration": 19,
        "start_time": "2022-05-26T20:40:40.557Z"
      },
      {
        "duration": 21,
        "start_time": "2022-05-26T20:40:40.577Z"
      },
      {
        "duration": 24,
        "start_time": "2022-05-26T20:40:40.600Z"
      },
      {
        "duration": 21,
        "start_time": "2022-05-26T20:40:40.634Z"
      },
      {
        "duration": 786,
        "start_time": "2022-05-26T20:40:40.657Z"
      },
      {
        "duration": 114,
        "start_time": "2022-05-26T20:40:41.445Z"
      },
      {
        "duration": 0,
        "start_time": "2022-05-26T20:40:41.561Z"
      },
      {
        "duration": 0,
        "start_time": "2022-05-26T20:40:41.562Z"
      },
      {
        "duration": 0,
        "start_time": "2022-05-26T20:40:41.563Z"
      },
      {
        "duration": 0,
        "start_time": "2022-05-26T20:40:41.564Z"
      },
      {
        "duration": 0,
        "start_time": "2022-05-26T20:40:41.565Z"
      },
      {
        "duration": 0,
        "start_time": "2022-05-26T20:40:41.565Z"
      },
      {
        "duration": 0,
        "start_time": "2022-05-26T20:40:41.567Z"
      },
      {
        "duration": 0,
        "start_time": "2022-05-26T20:40:41.568Z"
      },
      {
        "duration": 0,
        "start_time": "2022-05-26T20:40:41.569Z"
      },
      {
        "duration": 0,
        "start_time": "2022-05-26T20:40:41.570Z"
      },
      {
        "duration": 0,
        "start_time": "2022-05-26T20:40:41.571Z"
      },
      {
        "duration": 0,
        "start_time": "2022-05-26T20:40:41.572Z"
      },
      {
        "duration": 0,
        "start_time": "2022-05-26T20:40:41.574Z"
      },
      {
        "duration": 0,
        "start_time": "2022-05-26T20:40:41.575Z"
      },
      {
        "duration": 0,
        "start_time": "2022-05-26T20:40:41.576Z"
      },
      {
        "duration": 0,
        "start_time": "2022-05-26T20:40:41.577Z"
      },
      {
        "duration": 0,
        "start_time": "2022-05-26T20:40:41.578Z"
      },
      {
        "duration": 0,
        "start_time": "2022-05-26T20:40:41.579Z"
      },
      {
        "duration": 0,
        "start_time": "2022-05-26T20:40:41.580Z"
      },
      {
        "duration": 0,
        "start_time": "2022-05-26T20:40:41.581Z"
      },
      {
        "duration": 0,
        "start_time": "2022-05-26T20:40:41.627Z"
      },
      {
        "duration": 0,
        "start_time": "2022-05-26T20:40:41.628Z"
      },
      {
        "duration": 0,
        "start_time": "2022-05-26T20:40:41.630Z"
      },
      {
        "duration": 0,
        "start_time": "2022-05-26T20:40:41.631Z"
      },
      {
        "duration": 0,
        "start_time": "2022-05-26T20:40:41.632Z"
      },
      {
        "duration": 0,
        "start_time": "2022-05-26T20:40:41.632Z"
      },
      {
        "duration": 0,
        "start_time": "2022-05-26T20:40:41.633Z"
      },
      {
        "duration": 0,
        "start_time": "2022-05-26T20:40:41.634Z"
      },
      {
        "duration": 0,
        "start_time": "2022-05-26T20:40:41.634Z"
      },
      {
        "duration": 0,
        "start_time": "2022-05-26T20:40:41.635Z"
      },
      {
        "duration": 0,
        "start_time": "2022-05-26T20:40:41.636Z"
      },
      {
        "duration": 0,
        "start_time": "2022-05-26T20:40:41.637Z"
      },
      {
        "duration": 12,
        "start_time": "2022-05-26T20:43:07.084Z"
      },
      {
        "duration": 38,
        "start_time": "2022-05-26T20:43:07.098Z"
      },
      {
        "duration": 10,
        "start_time": "2022-05-26T20:43:07.139Z"
      },
      {
        "duration": 349,
        "start_time": "2022-05-26T20:43:07.151Z"
      },
      {
        "duration": 172,
        "start_time": "2022-05-26T20:43:07.502Z"
      },
      {
        "duration": 39,
        "start_time": "2022-05-26T20:43:07.676Z"
      },
      {
        "duration": 70,
        "start_time": "2022-05-26T20:43:07.717Z"
      },
      {
        "duration": 243,
        "start_time": "2022-05-26T20:43:07.788Z"
      },
      {
        "duration": 20,
        "start_time": "2022-05-26T20:43:08.033Z"
      },
      {
        "duration": 85,
        "start_time": "2022-05-26T20:43:08.057Z"
      },
      {
        "duration": 34,
        "start_time": "2022-05-26T20:43:08.143Z"
      },
      {
        "duration": 87,
        "start_time": "2022-05-26T20:43:08.179Z"
      },
      {
        "duration": 109,
        "start_time": "2022-05-26T20:43:08.268Z"
      },
      {
        "duration": 16,
        "start_time": "2022-05-26T20:43:08.379Z"
      },
      {
        "duration": 9,
        "start_time": "2022-05-26T20:43:08.397Z"
      },
      {
        "duration": 14,
        "start_time": "2022-05-26T20:43:08.424Z"
      },
      {
        "duration": 19,
        "start_time": "2022-05-26T20:43:08.441Z"
      },
      {
        "duration": 17,
        "start_time": "2022-05-26T20:43:08.462Z"
      },
      {
        "duration": 18,
        "start_time": "2022-05-26T20:43:08.482Z"
      },
      {
        "duration": 17,
        "start_time": "2022-05-26T20:43:08.502Z"
      },
      {
        "duration": 35,
        "start_time": "2022-05-26T20:43:08.520Z"
      },
      {
        "duration": 19,
        "start_time": "2022-05-26T20:43:08.556Z"
      },
      {
        "duration": 9,
        "start_time": "2022-05-26T20:43:08.576Z"
      },
      {
        "duration": 8,
        "start_time": "2022-05-26T20:43:08.587Z"
      },
      {
        "duration": 12,
        "start_time": "2022-05-26T20:43:08.596Z"
      },
      {
        "duration": 10,
        "start_time": "2022-05-26T20:43:08.610Z"
      },
      {
        "duration": 29,
        "start_time": "2022-05-26T20:43:08.622Z"
      },
      {
        "duration": 17,
        "start_time": "2022-05-26T20:43:08.656Z"
      },
      {
        "duration": 19,
        "start_time": "2022-05-26T20:43:08.676Z"
      },
      {
        "duration": 18,
        "start_time": "2022-05-26T20:43:08.697Z"
      },
      {
        "duration": 36,
        "start_time": "2022-05-26T20:43:08.717Z"
      },
      {
        "duration": 10,
        "start_time": "2022-05-26T20:43:08.756Z"
      },
      {
        "duration": 1385,
        "start_time": "2022-05-28T08:03:35.106Z"
      },
      {
        "duration": 586,
        "start_time": "2022-05-28T08:03:36.493Z"
      },
      {
        "duration": 11,
        "start_time": "2022-05-28T08:03:37.081Z"
      },
      {
        "duration": 21,
        "start_time": "2022-05-28T08:03:37.094Z"
      },
      {
        "duration": 12,
        "start_time": "2022-05-28T08:03:37.116Z"
      },
      {
        "duration": 14,
        "start_time": "2022-05-28T08:03:37.130Z"
      },
      {
        "duration": 30,
        "start_time": "2022-05-28T08:03:37.145Z"
      },
      {
        "duration": 111,
        "start_time": "2022-05-28T08:03:37.177Z"
      },
      {
        "duration": 94,
        "start_time": "2022-05-28T08:03:37.290Z"
      },
      {
        "duration": 70,
        "start_time": "2022-05-28T08:03:37.386Z"
      },
      {
        "duration": 79,
        "start_time": "2022-05-28T08:03:37.458Z"
      },
      {
        "duration": 98,
        "start_time": "2022-05-28T08:03:37.538Z"
      },
      {
        "duration": 40,
        "start_time": "2022-05-28T08:03:37.638Z"
      },
      {
        "duration": 11,
        "start_time": "2022-05-28T08:03:37.680Z"
      },
      {
        "duration": 42,
        "start_time": "2022-05-28T08:03:37.693Z"
      },
      {
        "duration": 641,
        "start_time": "2022-05-28T08:03:37.738Z"
      },
      {
        "duration": 663,
        "start_time": "2022-05-28T08:03:38.381Z"
      },
      {
        "duration": 1184,
        "start_time": "2022-05-28T08:03:39.046Z"
      },
      {
        "duration": 9,
        "start_time": "2022-05-28T08:03:40.232Z"
      },
      {
        "duration": 15,
        "start_time": "2022-05-28T08:03:40.243Z"
      },
      {
        "duration": 28,
        "start_time": "2022-05-28T08:03:40.260Z"
      },
      {
        "duration": 50,
        "start_time": "2022-05-28T08:03:40.290Z"
      },
      {
        "duration": 6,
        "start_time": "2022-05-28T08:03:40.343Z"
      },
      {
        "duration": 38,
        "start_time": "2022-05-28T08:03:40.351Z"
      },
      {
        "duration": 54,
        "start_time": "2022-05-28T08:03:40.391Z"
      },
      {
        "duration": 90,
        "start_time": "2022-05-28T08:03:40.447Z"
      },
      {
        "duration": 192,
        "start_time": "2022-05-28T08:03:40.539Z"
      },
      {
        "duration": 91,
        "start_time": "2022-05-28T08:03:40.735Z"
      },
      {
        "duration": 26,
        "start_time": "2022-05-28T08:03:40.829Z"
      },
      {
        "duration": 20,
        "start_time": "2022-05-28T08:03:40.857Z"
      },
      {
        "duration": 57,
        "start_time": "2022-05-28T08:03:40.879Z"
      },
      {
        "duration": 90,
        "start_time": "2022-05-28T08:03:40.938Z"
      },
      {
        "duration": 73,
        "start_time": "2022-05-28T08:03:41.030Z"
      },
      {
        "duration": 31,
        "start_time": "2022-05-28T08:03:41.105Z"
      },
      {
        "duration": 8,
        "start_time": "2022-05-28T08:03:41.139Z"
      },
      {
        "duration": 12,
        "start_time": "2022-05-28T08:03:41.149Z"
      },
      {
        "duration": 12,
        "start_time": "2022-05-28T08:03:41.163Z"
      },
      {
        "duration": 13,
        "start_time": "2022-05-28T08:03:41.177Z"
      },
      {
        "duration": 21,
        "start_time": "2022-05-28T08:03:41.192Z"
      },
      {
        "duration": 6,
        "start_time": "2022-05-28T08:03:41.227Z"
      },
      {
        "duration": 6,
        "start_time": "2022-05-28T08:03:41.235Z"
      },
      {
        "duration": 14,
        "start_time": "2022-05-28T08:03:41.243Z"
      },
      {
        "duration": 8,
        "start_time": "2022-05-28T08:03:41.259Z"
      },
      {
        "duration": 9,
        "start_time": "2022-05-28T08:03:41.269Z"
      },
      {
        "duration": 7,
        "start_time": "2022-05-28T08:03:41.279Z"
      },
      {
        "duration": 40,
        "start_time": "2022-05-28T08:03:41.288Z"
      },
      {
        "duration": 6,
        "start_time": "2022-05-28T08:03:41.330Z"
      },
      {
        "duration": 10,
        "start_time": "2022-05-28T08:03:41.338Z"
      },
      {
        "duration": 10,
        "start_time": "2022-05-28T08:03:41.350Z"
      },
      {
        "duration": 9,
        "start_time": "2022-05-28T08:03:41.362Z"
      },
      {
        "duration": 11,
        "start_time": "2022-05-28T08:03:41.373Z"
      },
      {
        "duration": 10,
        "start_time": "2022-05-28T08:03:41.385Z"
      }
    ],
    "colab": {
      "collapsed_sections": [],
      "name": "d5afbe29-50e7-47ce-bd70-e96364271884.ipynb",
      "provenance": []
    },
    "kernelspec": {
      "display_name": "Python 3 (ipykernel)",
      "language": "python",
      "name": "python3"
    },
    "language_info": {
      "codemirror_mode": {
        "name": "ipython",
        "version": 3
      },
      "file_extension": ".py",
      "mimetype": "text/x-python",
      "name": "python",
      "nbconvert_exporter": "python",
      "pygments_lexer": "ipython3",
      "version": "3.9.5"
    },
    "toc": {
      "base_numbering": 1,
      "nav_menu": {},
      "number_sections": false,
      "sideBar": true,
      "skip_h1_title": false,
      "title_cell": "Table of Contents",
      "title_sidebar": "Contents",
      "toc_cell": false,
      "toc_position": {},
      "toc_section_display": true,
      "toc_window_display": true
    }
  },
  "nbformat": 4,
  "nbformat_minor": 0
}