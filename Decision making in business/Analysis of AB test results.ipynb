{
  "cells": [
    {
      "cell_type": "markdown",
      "metadata": {
        "id": "ksgPktu9y7iZ"
      },
      "source": [
        "# Приоритизация гипотез и анализ результатов A/B-теста"
      ]
    },
    {
      "cell_type": "markdown",
      "metadata": {
        "id": "2IJX5H0iRsNG"
      },
      "source": [
        "**Краткое описание:** Заказчик - крупный интернет-магазин. Отдел маркетинга подготовил девять гипотез для увеличения выручки, а также провел A/B-тест.\n",
        "    \n",
        "**Цель проекта:** Приоритизировать гипотезы и проанализировать результаты A/B-теста.\n",
        "\n",
        "**План работы:**\n",
        "1. выгрузить данные, осуществить первичный обзор;\n",
        "2. переименовать колонки, привести наименования к \"змеиному регистру\";\n",
        "2. определить, есть ли пропуски в данных; заполнить пропуски или удалить строки с пропусками;\n",
        "3. измененить тип данных;\n",
        "4. проверить данные на наличие явных и неявных дубликатов, исправить данные;\n",
        "5. приоритизировать гипотез, применив фреймворки `ICE` и `RICE`;\n",
        "6. проанализировать результаты A/B-теста;\n",
        "7. сформировать вывод, полученный из результатов анализа."
      ]
    },
    {
      "cell_type": "markdown",
      "metadata": {
        "id": "Pmvid3tA5QRc"
      },
      "source": [
        "## Обзор данных"
      ]
    },
    {
      "cell_type": "code",
      "execution_count": 99,
      "metadata": {
        "id": "lh263MRm5JzK"
      },
      "outputs": [],
      "source": [
        "import pandas as pd\n",
        "import datetime as dt\n",
        "import numpy as np\n",
        "import matplotlib.pyplot as plt\n",
        "from scipy import stats as st"
      ]
    },
    {
      "cell_type": "code",
      "execution_count": 100,
      "metadata": {
        "colab": {
          "base_uri": "https://localhost:8080/"
        },
        "id": "rpebf_pe5ceZ",
        "outputId": "c7b8cdce-af74-49be-facf-e22fa6795ca0"
      },
      "outputs": [
        {
          "output_type": "stream",
          "name": "stdout",
          "text": [
            "Данные загружены в Colaboratory\n"
          ]
        }
      ],
      "source": [
        "# загружаем данные\n",
        "try:\n",
        "    hypothesis = pd.read_csv('hypothesis.csv')\n",
        "    orders = pd.read_csv('orders.csv')\n",
        "    visits = pd.read_csv('visitors.csv')\n",
        "    print('Данные загружены в Colaboratory')\n",
        "except:\n",
        "    hypothesis = pd.read_csv('/datasets/hypothesis.csv')\n",
        "    orders = pd.read_csv('/datasets/orders.csv')\n",
        "    visits = pd.read_csv('/datasets/visitors.csv')\n",
        "    print('Данные загружены в Jupyter Notebook')"
      ]
    },
    {
      "cell_type": "markdown",
      "metadata": {
        "id": "5BHkhp5Z7ORs"
      },
      "source": [
        "Посмотрим данные с гипотезами."
      ]
    },
    {
      "cell_type": "code",
      "execution_count": 101,
      "metadata": {
        "colab": {
          "base_uri": "https://localhost:8080/",
          "height": 332
        },
        "id": "a6HyNq8b6pYZ",
        "outputId": "b15481ed-fbec-4b19-e6fb-8db3b22b7ea6"
      },
      "outputs": [
        {
          "output_type": "execute_result",
          "data": {
            "text/plain": [
              "                                                                                                     Hypothesis  \\\n",
              "0            Добавить два новых канала привлечения трафика, что позволит привлекать на 30% больше пользователей   \n",
              "1                                     Запустить собственную службу доставки, что сократит срок доставки заказов   \n",
              "2  Добавить блоки рекомендаций товаров на сайт интернет магазина, чтобы повысить конверсию и средний чек заказа   \n",
              "3           Изменить структура категорий, что увеличит конверсию, т.к. пользователи быстрее найдут нужный товар   \n",
              "4                              Изменить цвет фона главной страницы, чтобы увеличить вовлеченность пользователей   \n",
              "5                      Добавить страницу отзывов клиентов о магазине, что позволит увеличить количество заказов   \n",
              "6          Показать на главной странице баннеры с актуальными акциями и распродажами, чтобы увеличить конверсию   \n",
              "7              Добавить форму подписки на все основные страницы, чтобы собрать базу клиентов для email-рассылок   \n",
              "8                                                       Запустить акцию, дающую скидку на товар в день рождения   \n",
              "\n",
              "   Reach  Impact  Confidence  Efforts  \n",
              "0      3      10           8        6  \n",
              "1      2       5           4       10  \n",
              "2      8       3           7        3  \n",
              "3      8       3           3        8  \n",
              "4      3       1           1        1  \n",
              "5      3       2           2        3  \n",
              "6      5       3           8        3  \n",
              "7     10       7           8        5  \n",
              "8      1       9           9        5  "
            ],
            "text/html": [
              "\n",
              "  <div id=\"df-c9a570d9-00ce-4baf-91d2-86167a88e9b6\">\n",
              "    <div class=\"colab-df-container\">\n",
              "      <div>\n",
              "<style scoped>\n",
              "    .dataframe tbody tr th:only-of-type {\n",
              "        vertical-align: middle;\n",
              "    }\n",
              "\n",
              "    .dataframe tbody tr th {\n",
              "        vertical-align: top;\n",
              "    }\n",
              "\n",
              "    .dataframe thead th {\n",
              "        text-align: right;\n",
              "    }\n",
              "</style>\n",
              "<table border=\"1\" class=\"dataframe\">\n",
              "  <thead>\n",
              "    <tr style=\"text-align: right;\">\n",
              "      <th></th>\n",
              "      <th>Hypothesis</th>\n",
              "      <th>Reach</th>\n",
              "      <th>Impact</th>\n",
              "      <th>Confidence</th>\n",
              "      <th>Efforts</th>\n",
              "    </tr>\n",
              "  </thead>\n",
              "  <tbody>\n",
              "    <tr>\n",
              "      <th>0</th>\n",
              "      <td>Добавить два новых канала привлечения трафика, что позволит привлекать на 30% больше пользователей</td>\n",
              "      <td>3</td>\n",
              "      <td>10</td>\n",
              "      <td>8</td>\n",
              "      <td>6</td>\n",
              "    </tr>\n",
              "    <tr>\n",
              "      <th>1</th>\n",
              "      <td>Запустить собственную службу доставки, что сократит срок доставки заказов</td>\n",
              "      <td>2</td>\n",
              "      <td>5</td>\n",
              "      <td>4</td>\n",
              "      <td>10</td>\n",
              "    </tr>\n",
              "    <tr>\n",
              "      <th>2</th>\n",
              "      <td>Добавить блоки рекомендаций товаров на сайт интернет магазина, чтобы повысить конверсию и средний чек заказа</td>\n",
              "      <td>8</td>\n",
              "      <td>3</td>\n",
              "      <td>7</td>\n",
              "      <td>3</td>\n",
              "    </tr>\n",
              "    <tr>\n",
              "      <th>3</th>\n",
              "      <td>Изменить структура категорий, что увеличит конверсию, т.к. пользователи быстрее найдут нужный товар</td>\n",
              "      <td>8</td>\n",
              "      <td>3</td>\n",
              "      <td>3</td>\n",
              "      <td>8</td>\n",
              "    </tr>\n",
              "    <tr>\n",
              "      <th>4</th>\n",
              "      <td>Изменить цвет фона главной страницы, чтобы увеличить вовлеченность пользователей</td>\n",
              "      <td>3</td>\n",
              "      <td>1</td>\n",
              "      <td>1</td>\n",
              "      <td>1</td>\n",
              "    </tr>\n",
              "    <tr>\n",
              "      <th>5</th>\n",
              "      <td>Добавить страницу отзывов клиентов о магазине, что позволит увеличить количество заказов</td>\n",
              "      <td>3</td>\n",
              "      <td>2</td>\n",
              "      <td>2</td>\n",
              "      <td>3</td>\n",
              "    </tr>\n",
              "    <tr>\n",
              "      <th>6</th>\n",
              "      <td>Показать на главной странице баннеры с актуальными акциями и распродажами, чтобы увеличить конверсию</td>\n",
              "      <td>5</td>\n",
              "      <td>3</td>\n",
              "      <td>8</td>\n",
              "      <td>3</td>\n",
              "    </tr>\n",
              "    <tr>\n",
              "      <th>7</th>\n",
              "      <td>Добавить форму подписки на все основные страницы, чтобы собрать базу клиентов для email-рассылок</td>\n",
              "      <td>10</td>\n",
              "      <td>7</td>\n",
              "      <td>8</td>\n",
              "      <td>5</td>\n",
              "    </tr>\n",
              "    <tr>\n",
              "      <th>8</th>\n",
              "      <td>Запустить акцию, дающую скидку на товар в день рождения</td>\n",
              "      <td>1</td>\n",
              "      <td>9</td>\n",
              "      <td>9</td>\n",
              "      <td>5</td>\n",
              "    </tr>\n",
              "  </tbody>\n",
              "</table>\n",
              "</div>\n",
              "      <button class=\"colab-df-convert\" onclick=\"convertToInteractive('df-c9a570d9-00ce-4baf-91d2-86167a88e9b6')\"\n",
              "              title=\"Convert this dataframe to an interactive table.\"\n",
              "              style=\"display:none;\">\n",
              "        \n",
              "  <svg xmlns=\"http://www.w3.org/2000/svg\" height=\"24px\"viewBox=\"0 0 24 24\"\n",
              "       width=\"24px\">\n",
              "    <path d=\"M0 0h24v24H0V0z\" fill=\"none\"/>\n",
              "    <path d=\"M18.56 5.44l.94 2.06.94-2.06 2.06-.94-2.06-.94-.94-2.06-.94 2.06-2.06.94zm-11 1L8.5 8.5l.94-2.06 2.06-.94-2.06-.94L8.5 2.5l-.94 2.06-2.06.94zm10 10l.94 2.06.94-2.06 2.06-.94-2.06-.94-.94-2.06-.94 2.06-2.06.94z\"/><path d=\"M17.41 7.96l-1.37-1.37c-.4-.4-.92-.59-1.43-.59-.52 0-1.04.2-1.43.59L10.3 9.45l-7.72 7.72c-.78.78-.78 2.05 0 2.83L4 21.41c.39.39.9.59 1.41.59.51 0 1.02-.2 1.41-.59l7.78-7.78 2.81-2.81c.8-.78.8-2.07 0-2.86zM5.41 20L4 18.59l7.72-7.72 1.47 1.35L5.41 20z\"/>\n",
              "  </svg>\n",
              "      </button>\n",
              "      \n",
              "  <style>\n",
              "    .colab-df-container {\n",
              "      display:flex;\n",
              "      flex-wrap:wrap;\n",
              "      gap: 12px;\n",
              "    }\n",
              "\n",
              "    .colab-df-convert {\n",
              "      background-color: #E8F0FE;\n",
              "      border: none;\n",
              "      border-radius: 50%;\n",
              "      cursor: pointer;\n",
              "      display: none;\n",
              "      fill: #1967D2;\n",
              "      height: 32px;\n",
              "      padding: 0 0 0 0;\n",
              "      width: 32px;\n",
              "    }\n",
              "\n",
              "    .colab-df-convert:hover {\n",
              "      background-color: #E2EBFA;\n",
              "      box-shadow: 0px 1px 2px rgba(60, 64, 67, 0.3), 0px 1px 3px 1px rgba(60, 64, 67, 0.15);\n",
              "      fill: #174EA6;\n",
              "    }\n",
              "\n",
              "    [theme=dark] .colab-df-convert {\n",
              "      background-color: #3B4455;\n",
              "      fill: #D2E3FC;\n",
              "    }\n",
              "\n",
              "    [theme=dark] .colab-df-convert:hover {\n",
              "      background-color: #434B5C;\n",
              "      box-shadow: 0px 1px 3px 1px rgba(0, 0, 0, 0.15);\n",
              "      filter: drop-shadow(0px 1px 2px rgba(0, 0, 0, 0.3));\n",
              "      fill: #FFFFFF;\n",
              "    }\n",
              "  </style>\n",
              "\n",
              "      <script>\n",
              "        const buttonEl =\n",
              "          document.querySelector('#df-c9a570d9-00ce-4baf-91d2-86167a88e9b6 button.colab-df-convert');\n",
              "        buttonEl.style.display =\n",
              "          google.colab.kernel.accessAllowed ? 'block' : 'none';\n",
              "\n",
              "        async function convertToInteractive(key) {\n",
              "          const element = document.querySelector('#df-c9a570d9-00ce-4baf-91d2-86167a88e9b6');\n",
              "          const dataTable =\n",
              "            await google.colab.kernel.invokeFunction('convertToInteractive',\n",
              "                                                     [key], {});\n",
              "          if (!dataTable) return;\n",
              "\n",
              "          const docLinkHtml = 'Like what you see? Visit the ' +\n",
              "            '<a target=\"_blank\" href=https://colab.research.google.com/notebooks/data_table.ipynb>data table notebook</a>'\n",
              "            + ' to learn more about interactive tables.';\n",
              "          element.innerHTML = '';\n",
              "          dataTable['output_type'] = 'display_data';\n",
              "          await google.colab.output.renderOutput(dataTable, element);\n",
              "          const docLink = document.createElement('div');\n",
              "          docLink.innerHTML = docLinkHtml;\n",
              "          element.appendChild(docLink);\n",
              "        }\n",
              "      </script>\n",
              "    </div>\n",
              "  </div>\n",
              "  "
            ]
          },
          "metadata": {},
          "execution_count": 101
        }
      ],
      "source": [
        "hypothesis"
      ]
    },
    {
      "cell_type": "code",
      "execution_count": 102,
      "metadata": {
        "colab": {
          "base_uri": "https://localhost:8080/"
        },
        "id": "F8zzsSSq61WU",
        "outputId": "d2d7ded8-6975-4371-f743-1b80083a922c"
      },
      "outputs": [
        {
          "output_type": "stream",
          "name": "stdout",
          "text": [
            "<class 'pandas.core.frame.DataFrame'>\n",
            "RangeIndex: 9 entries, 0 to 8\n",
            "Data columns (total 5 columns):\n",
            " #   Column      Non-Null Count  Dtype \n",
            "---  ------      --------------  ----- \n",
            " 0   Hypothesis  9 non-null      object\n",
            " 1   Reach       9 non-null      int64 \n",
            " 2   Impact      9 non-null      int64 \n",
            " 3   Confidence  9 non-null      int64 \n",
            " 4   Efforts     9 non-null      int64 \n",
            "dtypes: int64(4), object(1)\n",
            "memory usage: 488.0+ bytes\n"
          ]
        }
      ],
      "source": [
        "hypothesis.info()"
      ]
    },
    {
      "cell_type": "code",
      "execution_count": 103,
      "metadata": {
        "colab": {
          "base_uri": "https://localhost:8080/"
        },
        "id": "ifdVNH4v7AHR",
        "outputId": "239b6da3-0486-47a0-e3f5-147ba29b7345"
      },
      "outputs": [
        {
          "output_type": "execute_result",
          "data": {
            "text/plain": [
              "Index(['Hypothesis', 'Reach', 'Impact', 'Confidence', 'Efforts'], dtype='object')"
            ]
          },
          "metadata": {},
          "execution_count": 103
        }
      ],
      "source": [
        "hypothesis.columns"
      ]
    },
    {
      "cell_type": "markdown",
      "metadata": {
        "id": "Uvjw6Jf65ZSL"
      },
      "source": [
        "Посмотрим данные с заказами."
      ]
    },
    {
      "cell_type": "code",
      "execution_count": 104,
      "metadata": {
        "colab": {
          "base_uri": "https://localhost:8080/",
          "height": 206
        },
        "id": "lEe3oYkP7W5K",
        "outputId": "78f2c716-b0f1-4324-d6f3-9a48a4490cb9"
      },
      "outputs": [
        {
          "output_type": "execute_result",
          "data": {
            "text/plain": [
              "   transactionId   visitorId        date  revenue group\n",
              "0     3667963787  3312258926  2019-08-15     1650     B\n",
              "1     2804400009  3642806036  2019-08-15      730     B\n",
              "2     2961555356  4069496402  2019-08-15      400     A\n",
              "3     3797467345  1196621759  2019-08-15     9759     B\n",
              "4     2282983706  2322279887  2019-08-15     2308     B"
            ],
            "text/html": [
              "\n",
              "  <div id=\"df-81d0e566-2f65-4f89-98fc-e9d90907a17a\">\n",
              "    <div class=\"colab-df-container\">\n",
              "      <div>\n",
              "<style scoped>\n",
              "    .dataframe tbody tr th:only-of-type {\n",
              "        vertical-align: middle;\n",
              "    }\n",
              "\n",
              "    .dataframe tbody tr th {\n",
              "        vertical-align: top;\n",
              "    }\n",
              "\n",
              "    .dataframe thead th {\n",
              "        text-align: right;\n",
              "    }\n",
              "</style>\n",
              "<table border=\"1\" class=\"dataframe\">\n",
              "  <thead>\n",
              "    <tr style=\"text-align: right;\">\n",
              "      <th></th>\n",
              "      <th>transactionId</th>\n",
              "      <th>visitorId</th>\n",
              "      <th>date</th>\n",
              "      <th>revenue</th>\n",
              "      <th>group</th>\n",
              "    </tr>\n",
              "  </thead>\n",
              "  <tbody>\n",
              "    <tr>\n",
              "      <th>0</th>\n",
              "      <td>3667963787</td>\n",
              "      <td>3312258926</td>\n",
              "      <td>2019-08-15</td>\n",
              "      <td>1650</td>\n",
              "      <td>B</td>\n",
              "    </tr>\n",
              "    <tr>\n",
              "      <th>1</th>\n",
              "      <td>2804400009</td>\n",
              "      <td>3642806036</td>\n",
              "      <td>2019-08-15</td>\n",
              "      <td>730</td>\n",
              "      <td>B</td>\n",
              "    </tr>\n",
              "    <tr>\n",
              "      <th>2</th>\n",
              "      <td>2961555356</td>\n",
              "      <td>4069496402</td>\n",
              "      <td>2019-08-15</td>\n",
              "      <td>400</td>\n",
              "      <td>A</td>\n",
              "    </tr>\n",
              "    <tr>\n",
              "      <th>3</th>\n",
              "      <td>3797467345</td>\n",
              "      <td>1196621759</td>\n",
              "      <td>2019-08-15</td>\n",
              "      <td>9759</td>\n",
              "      <td>B</td>\n",
              "    </tr>\n",
              "    <tr>\n",
              "      <th>4</th>\n",
              "      <td>2282983706</td>\n",
              "      <td>2322279887</td>\n",
              "      <td>2019-08-15</td>\n",
              "      <td>2308</td>\n",
              "      <td>B</td>\n",
              "    </tr>\n",
              "  </tbody>\n",
              "</table>\n",
              "</div>\n",
              "      <button class=\"colab-df-convert\" onclick=\"convertToInteractive('df-81d0e566-2f65-4f89-98fc-e9d90907a17a')\"\n",
              "              title=\"Convert this dataframe to an interactive table.\"\n",
              "              style=\"display:none;\">\n",
              "        \n",
              "  <svg xmlns=\"http://www.w3.org/2000/svg\" height=\"24px\"viewBox=\"0 0 24 24\"\n",
              "       width=\"24px\">\n",
              "    <path d=\"M0 0h24v24H0V0z\" fill=\"none\"/>\n",
              "    <path d=\"M18.56 5.44l.94 2.06.94-2.06 2.06-.94-2.06-.94-.94-2.06-.94 2.06-2.06.94zm-11 1L8.5 8.5l.94-2.06 2.06-.94-2.06-.94L8.5 2.5l-.94 2.06-2.06.94zm10 10l.94 2.06.94-2.06 2.06-.94-2.06-.94-.94-2.06-.94 2.06-2.06.94z\"/><path d=\"M17.41 7.96l-1.37-1.37c-.4-.4-.92-.59-1.43-.59-.52 0-1.04.2-1.43.59L10.3 9.45l-7.72 7.72c-.78.78-.78 2.05 0 2.83L4 21.41c.39.39.9.59 1.41.59.51 0 1.02-.2 1.41-.59l7.78-7.78 2.81-2.81c.8-.78.8-2.07 0-2.86zM5.41 20L4 18.59l7.72-7.72 1.47 1.35L5.41 20z\"/>\n",
              "  </svg>\n",
              "      </button>\n",
              "      \n",
              "  <style>\n",
              "    .colab-df-container {\n",
              "      display:flex;\n",
              "      flex-wrap:wrap;\n",
              "      gap: 12px;\n",
              "    }\n",
              "\n",
              "    .colab-df-convert {\n",
              "      background-color: #E8F0FE;\n",
              "      border: none;\n",
              "      border-radius: 50%;\n",
              "      cursor: pointer;\n",
              "      display: none;\n",
              "      fill: #1967D2;\n",
              "      height: 32px;\n",
              "      padding: 0 0 0 0;\n",
              "      width: 32px;\n",
              "    }\n",
              "\n",
              "    .colab-df-convert:hover {\n",
              "      background-color: #E2EBFA;\n",
              "      box-shadow: 0px 1px 2px rgba(60, 64, 67, 0.3), 0px 1px 3px 1px rgba(60, 64, 67, 0.15);\n",
              "      fill: #174EA6;\n",
              "    }\n",
              "\n",
              "    [theme=dark] .colab-df-convert {\n",
              "      background-color: #3B4455;\n",
              "      fill: #D2E3FC;\n",
              "    }\n",
              "\n",
              "    [theme=dark] .colab-df-convert:hover {\n",
              "      background-color: #434B5C;\n",
              "      box-shadow: 0px 1px 3px 1px rgba(0, 0, 0, 0.15);\n",
              "      filter: drop-shadow(0px 1px 2px rgba(0, 0, 0, 0.3));\n",
              "      fill: #FFFFFF;\n",
              "    }\n",
              "  </style>\n",
              "\n",
              "      <script>\n",
              "        const buttonEl =\n",
              "          document.querySelector('#df-81d0e566-2f65-4f89-98fc-e9d90907a17a button.colab-df-convert');\n",
              "        buttonEl.style.display =\n",
              "          google.colab.kernel.accessAllowed ? 'block' : 'none';\n",
              "\n",
              "        async function convertToInteractive(key) {\n",
              "          const element = document.querySelector('#df-81d0e566-2f65-4f89-98fc-e9d90907a17a');\n",
              "          const dataTable =\n",
              "            await google.colab.kernel.invokeFunction('convertToInteractive',\n",
              "                                                     [key], {});\n",
              "          if (!dataTable) return;\n",
              "\n",
              "          const docLinkHtml = 'Like what you see? Visit the ' +\n",
              "            '<a target=\"_blank\" href=https://colab.research.google.com/notebooks/data_table.ipynb>data table notebook</a>'\n",
              "            + ' to learn more about interactive tables.';\n",
              "          element.innerHTML = '';\n",
              "          dataTable['output_type'] = 'display_data';\n",
              "          await google.colab.output.renderOutput(dataTable, element);\n",
              "          const docLink = document.createElement('div');\n",
              "          docLink.innerHTML = docLinkHtml;\n",
              "          element.appendChild(docLink);\n",
              "        }\n",
              "      </script>\n",
              "    </div>\n",
              "  </div>\n",
              "  "
            ]
          },
          "metadata": {},
          "execution_count": 104
        }
      ],
      "source": [
        "orders.head()"
      ]
    },
    {
      "cell_type": "code",
      "execution_count": 105,
      "metadata": {
        "colab": {
          "base_uri": "https://localhost:8080/"
        },
        "id": "FwmGLoLA7Zza",
        "outputId": "3e250148-1adc-4e23-a26c-14914e41a22c"
      },
      "outputs": [
        {
          "output_type": "stream",
          "name": "stdout",
          "text": [
            "<class 'pandas.core.frame.DataFrame'>\n",
            "RangeIndex: 1197 entries, 0 to 1196\n",
            "Data columns (total 5 columns):\n",
            " #   Column         Non-Null Count  Dtype \n",
            "---  ------         --------------  ----- \n",
            " 0   transactionId  1197 non-null   int64 \n",
            " 1   visitorId      1197 non-null   int64 \n",
            " 2   date           1197 non-null   object\n",
            " 3   revenue        1197 non-null   int64 \n",
            " 4   group          1197 non-null   object\n",
            "dtypes: int64(3), object(2)\n",
            "memory usage: 46.9+ KB\n"
          ]
        }
      ],
      "source": [
        "orders.info()"
      ]
    },
    {
      "cell_type": "code",
      "execution_count": 106,
      "metadata": {
        "colab": {
          "base_uri": "https://localhost:8080/"
        },
        "id": "X9ljKnHm7sTC",
        "outputId": "da271231-7ba7-4f44-c977-44b76814500c"
      },
      "outputs": [
        {
          "output_type": "execute_result",
          "data": {
            "text/plain": [
              "Index(['transactionId', 'visitorId', 'date', 'revenue', 'group'], dtype='object')"
            ]
          },
          "metadata": {},
          "execution_count": 106
        }
      ],
      "source": [
        "orders.columns"
      ]
    },
    {
      "cell_type": "markdown",
      "metadata": {
        "id": "4TCKOT1j8KaG"
      },
      "source": [
        "Посмотрим на данные с посещениями."
      ]
    },
    {
      "cell_type": "code",
      "execution_count": 107,
      "metadata": {
        "colab": {
          "base_uri": "https://localhost:8080/",
          "height": 206
        },
        "id": "ur6W3eRc8JEV",
        "outputId": "78bc2afa-caab-4715-dad5-70b44b9a036c"
      },
      "outputs": [
        {
          "output_type": "execute_result",
          "data": {
            "text/plain": [
              "         date group  visitors\n",
              "0  2019-08-01     A       719\n",
              "1  2019-08-02     A       619\n",
              "2  2019-08-03     A       507\n",
              "3  2019-08-04     A       717\n",
              "4  2019-08-05     A       756"
            ],
            "text/html": [
              "\n",
              "  <div id=\"df-1afd4d46-6794-46b6-a4d1-d2f483dc77cc\">\n",
              "    <div class=\"colab-df-container\">\n",
              "      <div>\n",
              "<style scoped>\n",
              "    .dataframe tbody tr th:only-of-type {\n",
              "        vertical-align: middle;\n",
              "    }\n",
              "\n",
              "    .dataframe tbody tr th {\n",
              "        vertical-align: top;\n",
              "    }\n",
              "\n",
              "    .dataframe thead th {\n",
              "        text-align: right;\n",
              "    }\n",
              "</style>\n",
              "<table border=\"1\" class=\"dataframe\">\n",
              "  <thead>\n",
              "    <tr style=\"text-align: right;\">\n",
              "      <th></th>\n",
              "      <th>date</th>\n",
              "      <th>group</th>\n",
              "      <th>visitors</th>\n",
              "    </tr>\n",
              "  </thead>\n",
              "  <tbody>\n",
              "    <tr>\n",
              "      <th>0</th>\n",
              "      <td>2019-08-01</td>\n",
              "      <td>A</td>\n",
              "      <td>719</td>\n",
              "    </tr>\n",
              "    <tr>\n",
              "      <th>1</th>\n",
              "      <td>2019-08-02</td>\n",
              "      <td>A</td>\n",
              "      <td>619</td>\n",
              "    </tr>\n",
              "    <tr>\n",
              "      <th>2</th>\n",
              "      <td>2019-08-03</td>\n",
              "      <td>A</td>\n",
              "      <td>507</td>\n",
              "    </tr>\n",
              "    <tr>\n",
              "      <th>3</th>\n",
              "      <td>2019-08-04</td>\n",
              "      <td>A</td>\n",
              "      <td>717</td>\n",
              "    </tr>\n",
              "    <tr>\n",
              "      <th>4</th>\n",
              "      <td>2019-08-05</td>\n",
              "      <td>A</td>\n",
              "      <td>756</td>\n",
              "    </tr>\n",
              "  </tbody>\n",
              "</table>\n",
              "</div>\n",
              "      <button class=\"colab-df-convert\" onclick=\"convertToInteractive('df-1afd4d46-6794-46b6-a4d1-d2f483dc77cc')\"\n",
              "              title=\"Convert this dataframe to an interactive table.\"\n",
              "              style=\"display:none;\">\n",
              "        \n",
              "  <svg xmlns=\"http://www.w3.org/2000/svg\" height=\"24px\"viewBox=\"0 0 24 24\"\n",
              "       width=\"24px\">\n",
              "    <path d=\"M0 0h24v24H0V0z\" fill=\"none\"/>\n",
              "    <path d=\"M18.56 5.44l.94 2.06.94-2.06 2.06-.94-2.06-.94-.94-2.06-.94 2.06-2.06.94zm-11 1L8.5 8.5l.94-2.06 2.06-.94-2.06-.94L8.5 2.5l-.94 2.06-2.06.94zm10 10l.94 2.06.94-2.06 2.06-.94-2.06-.94-.94-2.06-.94 2.06-2.06.94z\"/><path d=\"M17.41 7.96l-1.37-1.37c-.4-.4-.92-.59-1.43-.59-.52 0-1.04.2-1.43.59L10.3 9.45l-7.72 7.72c-.78.78-.78 2.05 0 2.83L4 21.41c.39.39.9.59 1.41.59.51 0 1.02-.2 1.41-.59l7.78-7.78 2.81-2.81c.8-.78.8-2.07 0-2.86zM5.41 20L4 18.59l7.72-7.72 1.47 1.35L5.41 20z\"/>\n",
              "  </svg>\n",
              "      </button>\n",
              "      \n",
              "  <style>\n",
              "    .colab-df-container {\n",
              "      display:flex;\n",
              "      flex-wrap:wrap;\n",
              "      gap: 12px;\n",
              "    }\n",
              "\n",
              "    .colab-df-convert {\n",
              "      background-color: #E8F0FE;\n",
              "      border: none;\n",
              "      border-radius: 50%;\n",
              "      cursor: pointer;\n",
              "      display: none;\n",
              "      fill: #1967D2;\n",
              "      height: 32px;\n",
              "      padding: 0 0 0 0;\n",
              "      width: 32px;\n",
              "    }\n",
              "\n",
              "    .colab-df-convert:hover {\n",
              "      background-color: #E2EBFA;\n",
              "      box-shadow: 0px 1px 2px rgba(60, 64, 67, 0.3), 0px 1px 3px 1px rgba(60, 64, 67, 0.15);\n",
              "      fill: #174EA6;\n",
              "    }\n",
              "\n",
              "    [theme=dark] .colab-df-convert {\n",
              "      background-color: #3B4455;\n",
              "      fill: #D2E3FC;\n",
              "    }\n",
              "\n",
              "    [theme=dark] .colab-df-convert:hover {\n",
              "      background-color: #434B5C;\n",
              "      box-shadow: 0px 1px 3px 1px rgba(0, 0, 0, 0.15);\n",
              "      filter: drop-shadow(0px 1px 2px rgba(0, 0, 0, 0.3));\n",
              "      fill: #FFFFFF;\n",
              "    }\n",
              "  </style>\n",
              "\n",
              "      <script>\n",
              "        const buttonEl =\n",
              "          document.querySelector('#df-1afd4d46-6794-46b6-a4d1-d2f483dc77cc button.colab-df-convert');\n",
              "        buttonEl.style.display =\n",
              "          google.colab.kernel.accessAllowed ? 'block' : 'none';\n",
              "\n",
              "        async function convertToInteractive(key) {\n",
              "          const element = document.querySelector('#df-1afd4d46-6794-46b6-a4d1-d2f483dc77cc');\n",
              "          const dataTable =\n",
              "            await google.colab.kernel.invokeFunction('convertToInteractive',\n",
              "                                                     [key], {});\n",
              "          if (!dataTable) return;\n",
              "\n",
              "          const docLinkHtml = 'Like what you see? Visit the ' +\n",
              "            '<a target=\"_blank\" href=https://colab.research.google.com/notebooks/data_table.ipynb>data table notebook</a>'\n",
              "            + ' to learn more about interactive tables.';\n",
              "          element.innerHTML = '';\n",
              "          dataTable['output_type'] = 'display_data';\n",
              "          await google.colab.output.renderOutput(dataTable, element);\n",
              "          const docLink = document.createElement('div');\n",
              "          docLink.innerHTML = docLinkHtml;\n",
              "          element.appendChild(docLink);\n",
              "        }\n",
              "      </script>\n",
              "    </div>\n",
              "  </div>\n",
              "  "
            ]
          },
          "metadata": {},
          "execution_count": 107
        }
      ],
      "source": [
        "visits.head()"
      ]
    },
    {
      "cell_type": "code",
      "execution_count": 108,
      "metadata": {
        "colab": {
          "base_uri": "https://localhost:8080/"
        },
        "id": "cLsP-gAQ8Q1J",
        "outputId": "6cd5e78c-c383-4006-8127-02d542650e17"
      },
      "outputs": [
        {
          "output_type": "stream",
          "name": "stdout",
          "text": [
            "<class 'pandas.core.frame.DataFrame'>\n",
            "RangeIndex: 62 entries, 0 to 61\n",
            "Data columns (total 3 columns):\n",
            " #   Column    Non-Null Count  Dtype \n",
            "---  ------    --------------  ----- \n",
            " 0   date      62 non-null     object\n",
            " 1   group     62 non-null     object\n",
            " 2   visitors  62 non-null     int64 \n",
            "dtypes: int64(1), object(2)\n",
            "memory usage: 1.6+ KB\n"
          ]
        }
      ],
      "source": [
        "visits.info()"
      ]
    },
    {
      "cell_type": "code",
      "execution_count": 109,
      "metadata": {
        "colab": {
          "base_uri": "https://localhost:8080/"
        },
        "id": "4aDwcYwN8gSO",
        "outputId": "690fb46e-aedd-4133-9ab6-d09c4569eeba"
      },
      "outputs": [
        {
          "output_type": "execute_result",
          "data": {
            "text/plain": [
              "Index(['date', 'group', 'visitors'], dtype='object')"
            ]
          },
          "metadata": {},
          "execution_count": 109
        }
      ],
      "source": [
        "visits.columns"
      ]
    },
    {
      "cell_type": "markdown",
      "metadata": {
        "id": "dqZgswVh8xco"
      },
      "source": [
        "**Проблемы, выявленные после первичного обзора данных:**\n",
        "1. Наименование колонок в таблицах с гипотезами и заказами не соответствует \"змеиному_регистру\";\n",
        "2. Данные в колонках с датами имеют тип `object`, а должны иметь тип `datetime`."
      ]
    },
    {
      "cell_type": "markdown",
      "metadata": {
        "id": "iN76AKda853F"
      },
      "source": [
        "## Предобработка данных"
      ]
    },
    {
      "cell_type": "markdown",
      "metadata": {
        "id": "XghWF7A4-mm_"
      },
      "source": [
        "### Переименование колонок"
      ]
    },
    {
      "cell_type": "markdown",
      "metadata": {
        "id": "r78KV6Fo9Ktt"
      },
      "source": [
        "Приведем все колонки к \"змеиному_регистру\". Это упростит дальнейшую работу."
      ]
    },
    {
      "cell_type": "code",
      "execution_count": 110,
      "metadata": {
        "colab": {
          "base_uri": "https://localhost:8080/"
        },
        "id": "KZk8CWM28n_x",
        "outputId": "0874922a-c211-4921-c02b-211dd3c57b79"
      },
      "outputs": [
        {
          "output_type": "execute_result",
          "data": {
            "text/plain": [
              "Index(['hypothesis', 'reach', 'impact', 'confidence', 'efforts'], dtype='object')"
            ]
          },
          "metadata": {},
          "execution_count": 110
        }
      ],
      "source": [
        "hypothesis.columns = hypothesis.columns.str.lower()\n",
        "hypothesis.columns # проверяем, все ли получилось"
      ]
    },
    {
      "cell_type": "code",
      "execution_count": 111,
      "metadata": {
        "colab": {
          "base_uri": "https://localhost:8080/"
        },
        "id": "9CwjyL2H9Tto",
        "outputId": "8dcba6bc-5602-4862-d186-12d4083d5f69"
      },
      "outputs": [
        {
          "output_type": "execute_result",
          "data": {
            "text/plain": [
              "Index(['transaction_id', 'visitor_id', 'date', 'revenue', 'group'], dtype='object')"
            ]
          },
          "metadata": {},
          "execution_count": 111
        }
      ],
      "source": [
        "orders = orders.rename(columns={'transactionId' : 'transaction_id',\n",
        "                                'visitorId' : 'visitor_id'})\n",
        "\n",
        "orders.columns # проверяем, все ли получилось"
      ]
    },
    {
      "cell_type": "markdown",
      "metadata": {
        "id": "3I90tNex-prA"
      },
      "source": [
        "### Изменение типов данных"
      ]
    },
    {
      "cell_type": "markdown",
      "metadata": {
        "id": "uLFvOCL7Ao9w"
      },
      "source": [
        "Изменим тип данных в колонках с датами с `object` на `datetime`."
      ]
    },
    {
      "cell_type": "code",
      "execution_count": 112,
      "metadata": {
        "colab": {
          "base_uri": "https://localhost:8080/"
        },
        "id": "TdO0-NMC9bUq",
        "outputId": "b5f7da31-002c-4665-ec9c-d46cb320e48e"
      },
      "outputs": [
        {
          "output_type": "stream",
          "name": "stdout",
          "text": [
            "<class 'pandas.core.frame.DataFrame'>\n",
            "RangeIndex: 1197 entries, 0 to 1196\n",
            "Data columns (total 5 columns):\n",
            " #   Column          Non-Null Count  Dtype         \n",
            "---  ------          --------------  -----         \n",
            " 0   transaction_id  1197 non-null   int64         \n",
            " 1   visitor_id      1197 non-null   int64         \n",
            " 2   date            1197 non-null   datetime64[ns]\n",
            " 3   revenue         1197 non-null   int64         \n",
            " 4   group           1197 non-null   object        \n",
            "dtypes: datetime64[ns](1), int64(3), object(1)\n",
            "memory usage: 46.9+ KB\n"
          ]
        }
      ],
      "source": [
        "orders['date'] = orders['date'].map(\n",
        "    lambda x: dt.datetime.strptime(x, '%Y-%m-%d'))\n",
        "\n",
        "orders.info() # проверяем, все ли получилось"
      ]
    },
    {
      "cell_type": "code",
      "execution_count": 113,
      "metadata": {
        "colab": {
          "base_uri": "https://localhost:8080/"
        },
        "id": "n7y0uLrsA0aN",
        "outputId": "b3d6ccf6-f30e-41a7-aff0-c5415ffc663b"
      },
      "outputs": [
        {
          "output_type": "execute_result",
          "data": {
            "text/plain": [
              "min   2019-08-01\n",
              "max   2019-08-31\n",
              "Name: date, dtype: datetime64[ns]"
            ]
          },
          "metadata": {},
          "execution_count": 113
        }
      ],
      "source": [
        "# посмотрим период, за который предоставлены данные\n",
        "orders['date'].agg(['min', 'max'])"
      ]
    },
    {
      "cell_type": "code",
      "execution_count": 114,
      "metadata": {
        "colab": {
          "base_uri": "https://localhost:8080/"
        },
        "id": "J5VeyHbdAIff",
        "outputId": "bd2598e7-657c-4bca-a65f-d7b1f67037f6"
      },
      "outputs": [
        {
          "output_type": "stream",
          "name": "stdout",
          "text": [
            "<class 'pandas.core.frame.DataFrame'>\n",
            "RangeIndex: 62 entries, 0 to 61\n",
            "Data columns (total 3 columns):\n",
            " #   Column    Non-Null Count  Dtype         \n",
            "---  ------    --------------  -----         \n",
            " 0   date      62 non-null     datetime64[ns]\n",
            " 1   group     62 non-null     object        \n",
            " 2   visitors  62 non-null     int64         \n",
            "dtypes: datetime64[ns](1), int64(1), object(1)\n",
            "memory usage: 1.6+ KB\n"
          ]
        }
      ],
      "source": [
        "visits['date'] = visits['date'].map(\n",
        "    lambda x: dt.datetime.strptime(x, '%Y-%m-%d'))\n",
        "\n",
        "visits.info() # проверяем, все ли получилось"
      ]
    },
    {
      "cell_type": "code",
      "execution_count": 115,
      "metadata": {
        "colab": {
          "base_uri": "https://localhost:8080/"
        },
        "id": "A7Lyxum3BAek",
        "outputId": "79080920-79a8-4a04-87f7-bcbb8082934d"
      },
      "outputs": [
        {
          "output_type": "execute_result",
          "data": {
            "text/plain": [
              "min   2019-08-01\n",
              "max   2019-08-31\n",
              "Name: date, dtype: datetime64[ns]"
            ]
          },
          "metadata": {},
          "execution_count": 115
        }
      ],
      "source": [
        "# посмотрим период, за который предоставлены данные\n",
        "visits['date'].agg(['min', 'max'])"
      ]
    },
    {
      "cell_type": "markdown",
      "metadata": {
        "id": "eAglAX7BBGkP"
      },
      "source": [
        "Период в таблицах с заказами и визитами совпадает: `01/08/2019 - 31/08/2019`, т.е. тест продолжался месяц."
      ]
    },
    {
      "cell_type": "markdown",
      "metadata": {
        "id": "xmKmjenyBlOx"
      },
      "source": [
        "### Поиск дубликатов"
      ]
    },
    {
      "cell_type": "markdown",
      "metadata": {
        "id": "YrjGGSt2Ch4P"
      },
      "source": [
        "Просмотрев таблицу с гипотезами, очевидно, что там не дубликатов. Посмотрим, есть ли они в других таблицах."
      ]
    },
    {
      "cell_type": "code",
      "execution_count": 116,
      "metadata": {
        "colab": {
          "base_uri": "https://localhost:8080/"
        },
        "id": "9relWi8PCXh-",
        "outputId": "d482ecca-89eb-41c6-c440-2de35abeefd4"
      },
      "outputs": [
        {
          "output_type": "execute_result",
          "data": {
            "text/plain": [
              "0"
            ]
          },
          "metadata": {},
          "execution_count": 116
        }
      ],
      "source": [
        "orders.duplicated().sum()"
      ]
    },
    {
      "cell_type": "code",
      "execution_count": 117,
      "metadata": {
        "colab": {
          "base_uri": "https://localhost:8080/"
        },
        "id": "ip4pxNanBDLS",
        "outputId": "e3faa923-c523-4ad7-b5e3-b5474f89fd56"
      },
      "outputs": [
        {
          "output_type": "execute_result",
          "data": {
            "text/plain": [
              "0"
            ]
          },
          "metadata": {},
          "execution_count": 117
        }
      ],
      "source": [
        "visits.duplicated().sum()"
      ]
    },
    {
      "cell_type": "markdown",
      "metadata": {
        "id": "-oF0AoleCvji"
      },
      "source": [
        "В таблицах отсутствуют явные дубликаты. Пропусков в таблицах нет. Это было видно при вызове метода `info()`.\n",
        "\n",
        "Проверим, есть ли пользователи, которые попали в обе группы. Создадим списки с id пользователей, попавших в группу А и группу В."
      ]
    },
    {
      "cell_type": "code",
      "execution_count": 118,
      "metadata": {
        "id": "1ju1bfL_bVk3"
      },
      "outputs": [],
      "source": [
        "check_b = orders.loc[orders['group'] == 'B', 'visitor_id'].tolist()\n",
        "check_a = orders.loc[orders['group'] == 'A', 'visitor_id'].tolist()"
      ]
    },
    {
      "cell_type": "markdown",
      "metadata": {
        "id": "gzvRPN0lgoP_"
      },
      "source": [
        "Создадим список id пользователей, попавших в обе группы."
      ]
    },
    {
      "cell_type": "code",
      "execution_count": 119,
      "metadata": {
        "id": "IuDJ0rtabm8f"
      },
      "outputs": [],
      "source": [
        "double = []\n",
        "\n",
        "for visitor in check_b:\n",
        "    if visitor in check_a:\n",
        "        double.append(visitor)\n",
        "\n",
        "double = list(set(double))"
      ]
    },
    {
      "cell_type": "markdown",
      "metadata": {
        "id": "4yciJUbMhMfG"
      },
      "source": [
        "Посчитаем количество таких пользователей."
      ]
    },
    {
      "cell_type": "code",
      "execution_count": 120,
      "metadata": {
        "colab": {
          "base_uri": "https://localhost:8080/"
        },
        "id": "bpPwAzVDg9hx",
        "outputId": "9abdbf4c-44e3-4855-cdff-68acc4f0d30e"
      },
      "outputs": [
        {
          "output_type": "execute_result",
          "data": {
            "text/plain": [
              "58"
            ]
          },
          "metadata": {},
          "execution_count": 120
        }
      ],
      "source": [
        "len(double)"
      ]
    },
    {
      "cell_type": "markdown",
      "metadata": {
        "id": "F0vetYKwhhY_"
      },
      "source": [
        "Посчитаем процент строк с id пользователей, попавших и в группу А, и в группу В."
      ]
    },
    {
      "cell_type": "code",
      "execution_count": 121,
      "metadata": {
        "colab": {
          "base_uri": "https://localhost:8080/"
        },
        "id": "5NY4t0IdejOT",
        "outputId": "a1fbfa83-b7b1-446d-e75f-f629c333f8df"
      },
      "outputs": [
        {
          "output_type": "execute_result",
          "data": {
            "text/plain": [
              "15"
            ]
          },
          "metadata": {},
          "execution_count": 121
        }
      ],
      "source": [
        "int(len(orders.query('visitor_id in @double')) / len(orders) * 100)"
      ]
    },
    {
      "cell_type": "markdown",
      "metadata": {
        "id": "0QJU579tbafU"
      },
      "source": [
        "К сожалению, эти строки придется удалить, т.к. иначе результаты будут неточными.\n",
        "\n",
        "К такой ситуации могло привести то, что перед A/B-тестом не был проведен А/А-тест и не налажено деление трафика."
      ]
    },
    {
      "cell_type": "code",
      "execution_count": 122,
      "metadata": {
        "id": "5_eMs7WNcMQh"
      },
      "outputs": [],
      "source": [
        "orders = orders.query('visitor_id not in @double').reset_index(drop=True)"
      ]
    },
    {
      "cell_type": "markdown",
      "metadata": {
        "id": "4heNxG8OkVs4"
      },
      "source": [
        "Посмотрим, есть ли повторы в id заказов. Для этого разделим количество уникальных id заказов на длину таблицы. Если получится единица, то дубликатов нет."
      ]
    },
    {
      "cell_type": "code",
      "execution_count": 123,
      "metadata": {
        "colab": {
          "base_uri": "https://localhost:8080/"
        },
        "id": "3YaPtXcve1BW",
        "outputId": "3f1599aa-69f3-451a-bd7d-28a8a6b2e79b"
      },
      "outputs": [
        {
          "output_type": "execute_result",
          "data": {
            "text/plain": [
              "1.0"
            ]
          },
          "metadata": {},
          "execution_count": 123
        }
      ],
      "source": [
        "orders['transaction_id'].nunique() / len(orders)"
      ]
    },
    {
      "cell_type": "markdown",
      "metadata": {
        "id": "gFYWuqg2a_cA"
      },
      "source": [
        "После переименования колонок, изменения типов данных и удаления дубликатов данные готовы к дальнейшим действиям."
      ]
    },
    {
      "cell_type": "markdown",
      "metadata": {
        "id": "caMmt-P-C0jh"
      },
      "source": [
        "## Приоритизация гипотез"
      ]
    },
    {
      "cell_type": "markdown",
      "metadata": {
        "id": "B_QLZXUGLTZl"
      },
      "source": [
        "Поскольку описание гипотез очень длинное, то для удобства создадим словарь с гипотезами как отдельную таблицу, а в таблице с параметрами будет отображен индекс гипотезы. Для этого создадим новыу колонку с индексами, перенесем ее вместе с описанием гипотез в таблицу-словарь, удалим описание гипотез из основной таблицы и изменим порядок столбцов."
      ]
    },
    {
      "cell_type": "code",
      "execution_count": 124,
      "metadata": {
        "id": "7X1L2wwfIbNz"
      },
      "outputs": [],
      "source": [
        "hypothesis['hypothesis_id'] = ['hyp_1', 'hyp_2', 'hyp_3', 'hyp_4', 'hyp_5',\n",
        "                               'hyp_6', 'hyp_7', 'hyp_8', 'hyp_9']"
      ]
    },
    {
      "cell_type": "code",
      "execution_count": 125,
      "metadata": {
        "id": "WrMutzeHfARO"
      },
      "outputs": [],
      "source": [
        "# установим параметр display() для полного отображения гипотез\n",
        "pd.options.display.max_colwidth = 250"
      ]
    },
    {
      "cell_type": "code",
      "execution_count": 126,
      "metadata": {
        "colab": {
          "base_uri": "https://localhost:8080/",
          "height": 332
        },
        "id": "b7vyPigEJ4oU",
        "outputId": "7b6fab01-79ae-40cc-f22c-9fb9bbd522f6"
      },
      "outputs": [
        {
          "output_type": "execute_result",
          "data": {
            "text/plain": [
              "                                                                                                     hypothesis  \\\n",
              "0            Добавить два новых канала привлечения трафика, что позволит привлекать на 30% больше пользователей   \n",
              "1                                     Запустить собственную службу доставки, что сократит срок доставки заказов   \n",
              "2  Добавить блоки рекомендаций товаров на сайт интернет магазина, чтобы повысить конверсию и средний чек заказа   \n",
              "3           Изменить структура категорий, что увеличит конверсию, т.к. пользователи быстрее найдут нужный товар   \n",
              "4                              Изменить цвет фона главной страницы, чтобы увеличить вовлеченность пользователей   \n",
              "5                      Добавить страницу отзывов клиентов о магазине, что позволит увеличить количество заказов   \n",
              "6          Показать на главной странице баннеры с актуальными акциями и распродажами, чтобы увеличить конверсию   \n",
              "7              Добавить форму подписки на все основные страницы, чтобы собрать базу клиентов для email-рассылок   \n",
              "8                                                       Запустить акцию, дающую скидку на товар в день рождения   \n",
              "\n",
              "  hypothesis_id  \n",
              "0         hyp_1  \n",
              "1         hyp_2  \n",
              "2         hyp_3  \n",
              "3         hyp_4  \n",
              "4         hyp_5  \n",
              "5         hyp_6  \n",
              "6         hyp_7  \n",
              "7         hyp_8  \n",
              "8         hyp_9  "
            ],
            "text/html": [
              "\n",
              "  <div id=\"df-f7050ed3-62a3-4710-b282-cfa656ca9d1e\">\n",
              "    <div class=\"colab-df-container\">\n",
              "      <div>\n",
              "<style scoped>\n",
              "    .dataframe tbody tr th:only-of-type {\n",
              "        vertical-align: middle;\n",
              "    }\n",
              "\n",
              "    .dataframe tbody tr th {\n",
              "        vertical-align: top;\n",
              "    }\n",
              "\n",
              "    .dataframe thead th {\n",
              "        text-align: right;\n",
              "    }\n",
              "</style>\n",
              "<table border=\"1\" class=\"dataframe\">\n",
              "  <thead>\n",
              "    <tr style=\"text-align: right;\">\n",
              "      <th></th>\n",
              "      <th>hypothesis</th>\n",
              "      <th>hypothesis_id</th>\n",
              "    </tr>\n",
              "  </thead>\n",
              "  <tbody>\n",
              "    <tr>\n",
              "      <th>0</th>\n",
              "      <td>Добавить два новых канала привлечения трафика, что позволит привлекать на 30% больше пользователей</td>\n",
              "      <td>hyp_1</td>\n",
              "    </tr>\n",
              "    <tr>\n",
              "      <th>1</th>\n",
              "      <td>Запустить собственную службу доставки, что сократит срок доставки заказов</td>\n",
              "      <td>hyp_2</td>\n",
              "    </tr>\n",
              "    <tr>\n",
              "      <th>2</th>\n",
              "      <td>Добавить блоки рекомендаций товаров на сайт интернет магазина, чтобы повысить конверсию и средний чек заказа</td>\n",
              "      <td>hyp_3</td>\n",
              "    </tr>\n",
              "    <tr>\n",
              "      <th>3</th>\n",
              "      <td>Изменить структура категорий, что увеличит конверсию, т.к. пользователи быстрее найдут нужный товар</td>\n",
              "      <td>hyp_4</td>\n",
              "    </tr>\n",
              "    <tr>\n",
              "      <th>4</th>\n",
              "      <td>Изменить цвет фона главной страницы, чтобы увеличить вовлеченность пользователей</td>\n",
              "      <td>hyp_5</td>\n",
              "    </tr>\n",
              "    <tr>\n",
              "      <th>5</th>\n",
              "      <td>Добавить страницу отзывов клиентов о магазине, что позволит увеличить количество заказов</td>\n",
              "      <td>hyp_6</td>\n",
              "    </tr>\n",
              "    <tr>\n",
              "      <th>6</th>\n",
              "      <td>Показать на главной странице баннеры с актуальными акциями и распродажами, чтобы увеличить конверсию</td>\n",
              "      <td>hyp_7</td>\n",
              "    </tr>\n",
              "    <tr>\n",
              "      <th>7</th>\n",
              "      <td>Добавить форму подписки на все основные страницы, чтобы собрать базу клиентов для email-рассылок</td>\n",
              "      <td>hyp_8</td>\n",
              "    </tr>\n",
              "    <tr>\n",
              "      <th>8</th>\n",
              "      <td>Запустить акцию, дающую скидку на товар в день рождения</td>\n",
              "      <td>hyp_9</td>\n",
              "    </tr>\n",
              "  </tbody>\n",
              "</table>\n",
              "</div>\n",
              "      <button class=\"colab-df-convert\" onclick=\"convertToInteractive('df-f7050ed3-62a3-4710-b282-cfa656ca9d1e')\"\n",
              "              title=\"Convert this dataframe to an interactive table.\"\n",
              "              style=\"display:none;\">\n",
              "        \n",
              "  <svg xmlns=\"http://www.w3.org/2000/svg\" height=\"24px\"viewBox=\"0 0 24 24\"\n",
              "       width=\"24px\">\n",
              "    <path d=\"M0 0h24v24H0V0z\" fill=\"none\"/>\n",
              "    <path d=\"M18.56 5.44l.94 2.06.94-2.06 2.06-.94-2.06-.94-.94-2.06-.94 2.06-2.06.94zm-11 1L8.5 8.5l.94-2.06 2.06-.94-2.06-.94L8.5 2.5l-.94 2.06-2.06.94zm10 10l.94 2.06.94-2.06 2.06-.94-2.06-.94-.94-2.06-.94 2.06-2.06.94z\"/><path d=\"M17.41 7.96l-1.37-1.37c-.4-.4-.92-.59-1.43-.59-.52 0-1.04.2-1.43.59L10.3 9.45l-7.72 7.72c-.78.78-.78 2.05 0 2.83L4 21.41c.39.39.9.59 1.41.59.51 0 1.02-.2 1.41-.59l7.78-7.78 2.81-2.81c.8-.78.8-2.07 0-2.86zM5.41 20L4 18.59l7.72-7.72 1.47 1.35L5.41 20z\"/>\n",
              "  </svg>\n",
              "      </button>\n",
              "      \n",
              "  <style>\n",
              "    .colab-df-container {\n",
              "      display:flex;\n",
              "      flex-wrap:wrap;\n",
              "      gap: 12px;\n",
              "    }\n",
              "\n",
              "    .colab-df-convert {\n",
              "      background-color: #E8F0FE;\n",
              "      border: none;\n",
              "      border-radius: 50%;\n",
              "      cursor: pointer;\n",
              "      display: none;\n",
              "      fill: #1967D2;\n",
              "      height: 32px;\n",
              "      padding: 0 0 0 0;\n",
              "      width: 32px;\n",
              "    }\n",
              "\n",
              "    .colab-df-convert:hover {\n",
              "      background-color: #E2EBFA;\n",
              "      box-shadow: 0px 1px 2px rgba(60, 64, 67, 0.3), 0px 1px 3px 1px rgba(60, 64, 67, 0.15);\n",
              "      fill: #174EA6;\n",
              "    }\n",
              "\n",
              "    [theme=dark] .colab-df-convert {\n",
              "      background-color: #3B4455;\n",
              "      fill: #D2E3FC;\n",
              "    }\n",
              "\n",
              "    [theme=dark] .colab-df-convert:hover {\n",
              "      background-color: #434B5C;\n",
              "      box-shadow: 0px 1px 3px 1px rgba(0, 0, 0, 0.15);\n",
              "      filter: drop-shadow(0px 1px 2px rgba(0, 0, 0, 0.3));\n",
              "      fill: #FFFFFF;\n",
              "    }\n",
              "  </style>\n",
              "\n",
              "      <script>\n",
              "        const buttonEl =\n",
              "          document.querySelector('#df-f7050ed3-62a3-4710-b282-cfa656ca9d1e button.colab-df-convert');\n",
              "        buttonEl.style.display =\n",
              "          google.colab.kernel.accessAllowed ? 'block' : 'none';\n",
              "\n",
              "        async function convertToInteractive(key) {\n",
              "          const element = document.querySelector('#df-f7050ed3-62a3-4710-b282-cfa656ca9d1e');\n",
              "          const dataTable =\n",
              "            await google.colab.kernel.invokeFunction('convertToInteractive',\n",
              "                                                     [key], {});\n",
              "          if (!dataTable) return;\n",
              "\n",
              "          const docLinkHtml = 'Like what you see? Visit the ' +\n",
              "            '<a target=\"_blank\" href=https://colab.research.google.com/notebooks/data_table.ipynb>data table notebook</a>'\n",
              "            + ' to learn more about interactive tables.';\n",
              "          element.innerHTML = '';\n",
              "          dataTable['output_type'] = 'display_data';\n",
              "          await google.colab.output.renderOutput(dataTable, element);\n",
              "          const docLink = document.createElement('div');\n",
              "          docLink.innerHTML = docLinkHtml;\n",
              "          element.appendChild(docLink);\n",
              "        }\n",
              "      </script>\n",
              "    </div>\n",
              "  </div>\n",
              "  "
            ]
          },
          "metadata": {},
          "execution_count": 126
        }
      ],
      "source": [
        "hypothesis_vocabulary = hypothesis[['hypothesis', 'hypothesis_id']]\n",
        "hypothesis_vocabulary # посмотрим на получившийся словарь"
      ]
    },
    {
      "cell_type": "code",
      "execution_count": 127,
      "metadata": {
        "colab": {
          "base_uri": "https://localhost:8080/",
          "height": 332
        },
        "id": "dcXEv6GyKNDL",
        "outputId": "71a47cac-a1c8-4fa0-968f-074864e13fbc"
      },
      "outputs": [
        {
          "output_type": "execute_result",
          "data": {
            "text/plain": [
              "  hypothesis_id  reach  impact  confidence  efforts\n",
              "0         hyp_1      3      10           8        6\n",
              "1         hyp_2      2       5           4       10\n",
              "2         hyp_3      8       3           7        3\n",
              "3         hyp_4      8       3           3        8\n",
              "4         hyp_5      3       1           1        1\n",
              "5         hyp_6      3       2           2        3\n",
              "6         hyp_7      5       3           8        3\n",
              "7         hyp_8     10       7           8        5\n",
              "8         hyp_9      1       9           9        5"
            ],
            "text/html": [
              "\n",
              "  <div id=\"df-ad8de6b6-37d6-41f2-ad05-0b45b0050181\">\n",
              "    <div class=\"colab-df-container\">\n",
              "      <div>\n",
              "<style scoped>\n",
              "    .dataframe tbody tr th:only-of-type {\n",
              "        vertical-align: middle;\n",
              "    }\n",
              "\n",
              "    .dataframe tbody tr th {\n",
              "        vertical-align: top;\n",
              "    }\n",
              "\n",
              "    .dataframe thead th {\n",
              "        text-align: right;\n",
              "    }\n",
              "</style>\n",
              "<table border=\"1\" class=\"dataframe\">\n",
              "  <thead>\n",
              "    <tr style=\"text-align: right;\">\n",
              "      <th></th>\n",
              "      <th>hypothesis_id</th>\n",
              "      <th>reach</th>\n",
              "      <th>impact</th>\n",
              "      <th>confidence</th>\n",
              "      <th>efforts</th>\n",
              "    </tr>\n",
              "  </thead>\n",
              "  <tbody>\n",
              "    <tr>\n",
              "      <th>0</th>\n",
              "      <td>hyp_1</td>\n",
              "      <td>3</td>\n",
              "      <td>10</td>\n",
              "      <td>8</td>\n",
              "      <td>6</td>\n",
              "    </tr>\n",
              "    <tr>\n",
              "      <th>1</th>\n",
              "      <td>hyp_2</td>\n",
              "      <td>2</td>\n",
              "      <td>5</td>\n",
              "      <td>4</td>\n",
              "      <td>10</td>\n",
              "    </tr>\n",
              "    <tr>\n",
              "      <th>2</th>\n",
              "      <td>hyp_3</td>\n",
              "      <td>8</td>\n",
              "      <td>3</td>\n",
              "      <td>7</td>\n",
              "      <td>3</td>\n",
              "    </tr>\n",
              "    <tr>\n",
              "      <th>3</th>\n",
              "      <td>hyp_4</td>\n",
              "      <td>8</td>\n",
              "      <td>3</td>\n",
              "      <td>3</td>\n",
              "      <td>8</td>\n",
              "    </tr>\n",
              "    <tr>\n",
              "      <th>4</th>\n",
              "      <td>hyp_5</td>\n",
              "      <td>3</td>\n",
              "      <td>1</td>\n",
              "      <td>1</td>\n",
              "      <td>1</td>\n",
              "    </tr>\n",
              "    <tr>\n",
              "      <th>5</th>\n",
              "      <td>hyp_6</td>\n",
              "      <td>3</td>\n",
              "      <td>2</td>\n",
              "      <td>2</td>\n",
              "      <td>3</td>\n",
              "    </tr>\n",
              "    <tr>\n",
              "      <th>6</th>\n",
              "      <td>hyp_7</td>\n",
              "      <td>5</td>\n",
              "      <td>3</td>\n",
              "      <td>8</td>\n",
              "      <td>3</td>\n",
              "    </tr>\n",
              "    <tr>\n",
              "      <th>7</th>\n",
              "      <td>hyp_8</td>\n",
              "      <td>10</td>\n",
              "      <td>7</td>\n",
              "      <td>8</td>\n",
              "      <td>5</td>\n",
              "    </tr>\n",
              "    <tr>\n",
              "      <th>8</th>\n",
              "      <td>hyp_9</td>\n",
              "      <td>1</td>\n",
              "      <td>9</td>\n",
              "      <td>9</td>\n",
              "      <td>5</td>\n",
              "    </tr>\n",
              "  </tbody>\n",
              "</table>\n",
              "</div>\n",
              "      <button class=\"colab-df-convert\" onclick=\"convertToInteractive('df-ad8de6b6-37d6-41f2-ad05-0b45b0050181')\"\n",
              "              title=\"Convert this dataframe to an interactive table.\"\n",
              "              style=\"display:none;\">\n",
              "        \n",
              "  <svg xmlns=\"http://www.w3.org/2000/svg\" height=\"24px\"viewBox=\"0 0 24 24\"\n",
              "       width=\"24px\">\n",
              "    <path d=\"M0 0h24v24H0V0z\" fill=\"none\"/>\n",
              "    <path d=\"M18.56 5.44l.94 2.06.94-2.06 2.06-.94-2.06-.94-.94-2.06-.94 2.06-2.06.94zm-11 1L8.5 8.5l.94-2.06 2.06-.94-2.06-.94L8.5 2.5l-.94 2.06-2.06.94zm10 10l.94 2.06.94-2.06 2.06-.94-2.06-.94-.94-2.06-.94 2.06-2.06.94z\"/><path d=\"M17.41 7.96l-1.37-1.37c-.4-.4-.92-.59-1.43-.59-.52 0-1.04.2-1.43.59L10.3 9.45l-7.72 7.72c-.78.78-.78 2.05 0 2.83L4 21.41c.39.39.9.59 1.41.59.51 0 1.02-.2 1.41-.59l7.78-7.78 2.81-2.81c.8-.78.8-2.07 0-2.86zM5.41 20L4 18.59l7.72-7.72 1.47 1.35L5.41 20z\"/>\n",
              "  </svg>\n",
              "      </button>\n",
              "      \n",
              "  <style>\n",
              "    .colab-df-container {\n",
              "      display:flex;\n",
              "      flex-wrap:wrap;\n",
              "      gap: 12px;\n",
              "    }\n",
              "\n",
              "    .colab-df-convert {\n",
              "      background-color: #E8F0FE;\n",
              "      border: none;\n",
              "      border-radius: 50%;\n",
              "      cursor: pointer;\n",
              "      display: none;\n",
              "      fill: #1967D2;\n",
              "      height: 32px;\n",
              "      padding: 0 0 0 0;\n",
              "      width: 32px;\n",
              "    }\n",
              "\n",
              "    .colab-df-convert:hover {\n",
              "      background-color: #E2EBFA;\n",
              "      box-shadow: 0px 1px 2px rgba(60, 64, 67, 0.3), 0px 1px 3px 1px rgba(60, 64, 67, 0.15);\n",
              "      fill: #174EA6;\n",
              "    }\n",
              "\n",
              "    [theme=dark] .colab-df-convert {\n",
              "      background-color: #3B4455;\n",
              "      fill: #D2E3FC;\n",
              "    }\n",
              "\n",
              "    [theme=dark] .colab-df-convert:hover {\n",
              "      background-color: #434B5C;\n",
              "      box-shadow: 0px 1px 3px 1px rgba(0, 0, 0, 0.15);\n",
              "      filter: drop-shadow(0px 1px 2px rgba(0, 0, 0, 0.3));\n",
              "      fill: #FFFFFF;\n",
              "    }\n",
              "  </style>\n",
              "\n",
              "      <script>\n",
              "        const buttonEl =\n",
              "          document.querySelector('#df-ad8de6b6-37d6-41f2-ad05-0b45b0050181 button.colab-df-convert');\n",
              "        buttonEl.style.display =\n",
              "          google.colab.kernel.accessAllowed ? 'block' : 'none';\n",
              "\n",
              "        async function convertToInteractive(key) {\n",
              "          const element = document.querySelector('#df-ad8de6b6-37d6-41f2-ad05-0b45b0050181');\n",
              "          const dataTable =\n",
              "            await google.colab.kernel.invokeFunction('convertToInteractive',\n",
              "                                                     [key], {});\n",
              "          if (!dataTable) return;\n",
              "\n",
              "          const docLinkHtml = 'Like what you see? Visit the ' +\n",
              "            '<a target=\"_blank\" href=https://colab.research.google.com/notebooks/data_table.ipynb>data table notebook</a>'\n",
              "            + ' to learn more about interactive tables.';\n",
              "          element.innerHTML = '';\n",
              "          dataTable['output_type'] = 'display_data';\n",
              "          await google.colab.output.renderOutput(dataTable, element);\n",
              "          const docLink = document.createElement('div');\n",
              "          docLink.innerHTML = docLinkHtml;\n",
              "          element.appendChild(docLink);\n",
              "        }\n",
              "      </script>\n",
              "    </div>\n",
              "  </div>\n",
              "  "
            ]
          },
          "metadata": {},
          "execution_count": 127
        }
      ],
      "source": [
        "hypothesis = hypothesis.drop(columns=['hypothesis'])\n",
        "\n",
        "hypothesis = hypothesis[['hypothesis_id', 'reach', 'impact',\n",
        "                         'confidence',\t'efforts']]\n",
        "\n",
        "hypothesis # посмотрим, как теперь выглядит основная таблица с параметрами"
      ]
    },
    {
      "cell_type": "markdown",
      "metadata": {
        "id": "uvSNZY1oE-BE"
      },
      "source": [
        "Теперь можно приступать к приоритизации гипотез.\n",
        "\n",
        "Судя по описанию данных и по самим данным показатели отображены по десятибальной шкале.\n",
        "\n",
        "Для начала приоритизируем гипотезы методом `ICE`: результат умножения значения влияния на пользователей и значения уверенности в точности разделим на значение трудозатрат для проверки гипотезы."
      ]
    },
    {
      "cell_type": "code",
      "execution_count": 128,
      "metadata": {
        "colab": {
          "base_uri": "https://localhost:8080/",
          "height": 332
        },
        "id": "ggi0Rv6eDpF1",
        "outputId": "ba3f9d89-df7d-4afb-808c-a77418239b8f"
      },
      "outputs": [
        {
          "output_type": "execute_result",
          "data": {
            "text/plain": [
              "  hypothesis_id  reach  impact  confidence  efforts   ice\n",
              "8         hyp_9      1       9           9        5  16.2\n",
              "0         hyp_1      3      10           8        6  13.3\n",
              "7         hyp_8     10       7           8        5  11.2\n",
              "6         hyp_7      5       3           8        3   8.0\n",
              "2         hyp_3      8       3           7        3   7.0\n",
              "1         hyp_2      2       5           4       10   2.0\n",
              "5         hyp_6      3       2           2        3   1.3\n",
              "3         hyp_4      8       3           3        8   1.1\n",
              "4         hyp_5      3       1           1        1   1.0"
            ],
            "text/html": [
              "\n",
              "  <div id=\"df-d21d7ecc-be79-4ad0-8bef-98ed3cda4c9f\">\n",
              "    <div class=\"colab-df-container\">\n",
              "      <div>\n",
              "<style scoped>\n",
              "    .dataframe tbody tr th:only-of-type {\n",
              "        vertical-align: middle;\n",
              "    }\n",
              "\n",
              "    .dataframe tbody tr th {\n",
              "        vertical-align: top;\n",
              "    }\n",
              "\n",
              "    .dataframe thead th {\n",
              "        text-align: right;\n",
              "    }\n",
              "</style>\n",
              "<table border=\"1\" class=\"dataframe\">\n",
              "  <thead>\n",
              "    <tr style=\"text-align: right;\">\n",
              "      <th></th>\n",
              "      <th>hypothesis_id</th>\n",
              "      <th>reach</th>\n",
              "      <th>impact</th>\n",
              "      <th>confidence</th>\n",
              "      <th>efforts</th>\n",
              "      <th>ice</th>\n",
              "    </tr>\n",
              "  </thead>\n",
              "  <tbody>\n",
              "    <tr>\n",
              "      <th>8</th>\n",
              "      <td>hyp_9</td>\n",
              "      <td>1</td>\n",
              "      <td>9</td>\n",
              "      <td>9</td>\n",
              "      <td>5</td>\n",
              "      <td>16.2</td>\n",
              "    </tr>\n",
              "    <tr>\n",
              "      <th>0</th>\n",
              "      <td>hyp_1</td>\n",
              "      <td>3</td>\n",
              "      <td>10</td>\n",
              "      <td>8</td>\n",
              "      <td>6</td>\n",
              "      <td>13.3</td>\n",
              "    </tr>\n",
              "    <tr>\n",
              "      <th>7</th>\n",
              "      <td>hyp_8</td>\n",
              "      <td>10</td>\n",
              "      <td>7</td>\n",
              "      <td>8</td>\n",
              "      <td>5</td>\n",
              "      <td>11.2</td>\n",
              "    </tr>\n",
              "    <tr>\n",
              "      <th>6</th>\n",
              "      <td>hyp_7</td>\n",
              "      <td>5</td>\n",
              "      <td>3</td>\n",
              "      <td>8</td>\n",
              "      <td>3</td>\n",
              "      <td>8.0</td>\n",
              "    </tr>\n",
              "    <tr>\n",
              "      <th>2</th>\n",
              "      <td>hyp_3</td>\n",
              "      <td>8</td>\n",
              "      <td>3</td>\n",
              "      <td>7</td>\n",
              "      <td>3</td>\n",
              "      <td>7.0</td>\n",
              "    </tr>\n",
              "    <tr>\n",
              "      <th>1</th>\n",
              "      <td>hyp_2</td>\n",
              "      <td>2</td>\n",
              "      <td>5</td>\n",
              "      <td>4</td>\n",
              "      <td>10</td>\n",
              "      <td>2.0</td>\n",
              "    </tr>\n",
              "    <tr>\n",
              "      <th>5</th>\n",
              "      <td>hyp_6</td>\n",
              "      <td>3</td>\n",
              "      <td>2</td>\n",
              "      <td>2</td>\n",
              "      <td>3</td>\n",
              "      <td>1.3</td>\n",
              "    </tr>\n",
              "    <tr>\n",
              "      <th>3</th>\n",
              "      <td>hyp_4</td>\n",
              "      <td>8</td>\n",
              "      <td>3</td>\n",
              "      <td>3</td>\n",
              "      <td>8</td>\n",
              "      <td>1.1</td>\n",
              "    </tr>\n",
              "    <tr>\n",
              "      <th>4</th>\n",
              "      <td>hyp_5</td>\n",
              "      <td>3</td>\n",
              "      <td>1</td>\n",
              "      <td>1</td>\n",
              "      <td>1</td>\n",
              "      <td>1.0</td>\n",
              "    </tr>\n",
              "  </tbody>\n",
              "</table>\n",
              "</div>\n",
              "      <button class=\"colab-df-convert\" onclick=\"convertToInteractive('df-d21d7ecc-be79-4ad0-8bef-98ed3cda4c9f')\"\n",
              "              title=\"Convert this dataframe to an interactive table.\"\n",
              "              style=\"display:none;\">\n",
              "        \n",
              "  <svg xmlns=\"http://www.w3.org/2000/svg\" height=\"24px\"viewBox=\"0 0 24 24\"\n",
              "       width=\"24px\">\n",
              "    <path d=\"M0 0h24v24H0V0z\" fill=\"none\"/>\n",
              "    <path d=\"M18.56 5.44l.94 2.06.94-2.06 2.06-.94-2.06-.94-.94-2.06-.94 2.06-2.06.94zm-11 1L8.5 8.5l.94-2.06 2.06-.94-2.06-.94L8.5 2.5l-.94 2.06-2.06.94zm10 10l.94 2.06.94-2.06 2.06-.94-2.06-.94-.94-2.06-.94 2.06-2.06.94z\"/><path d=\"M17.41 7.96l-1.37-1.37c-.4-.4-.92-.59-1.43-.59-.52 0-1.04.2-1.43.59L10.3 9.45l-7.72 7.72c-.78.78-.78 2.05 0 2.83L4 21.41c.39.39.9.59 1.41.59.51 0 1.02-.2 1.41-.59l7.78-7.78 2.81-2.81c.8-.78.8-2.07 0-2.86zM5.41 20L4 18.59l7.72-7.72 1.47 1.35L5.41 20z\"/>\n",
              "  </svg>\n",
              "      </button>\n",
              "      \n",
              "  <style>\n",
              "    .colab-df-container {\n",
              "      display:flex;\n",
              "      flex-wrap:wrap;\n",
              "      gap: 12px;\n",
              "    }\n",
              "\n",
              "    .colab-df-convert {\n",
              "      background-color: #E8F0FE;\n",
              "      border: none;\n",
              "      border-radius: 50%;\n",
              "      cursor: pointer;\n",
              "      display: none;\n",
              "      fill: #1967D2;\n",
              "      height: 32px;\n",
              "      padding: 0 0 0 0;\n",
              "      width: 32px;\n",
              "    }\n",
              "\n",
              "    .colab-df-convert:hover {\n",
              "      background-color: #E2EBFA;\n",
              "      box-shadow: 0px 1px 2px rgba(60, 64, 67, 0.3), 0px 1px 3px 1px rgba(60, 64, 67, 0.15);\n",
              "      fill: #174EA6;\n",
              "    }\n",
              "\n",
              "    [theme=dark] .colab-df-convert {\n",
              "      background-color: #3B4455;\n",
              "      fill: #D2E3FC;\n",
              "    }\n",
              "\n",
              "    [theme=dark] .colab-df-convert:hover {\n",
              "      background-color: #434B5C;\n",
              "      box-shadow: 0px 1px 3px 1px rgba(0, 0, 0, 0.15);\n",
              "      filter: drop-shadow(0px 1px 2px rgba(0, 0, 0, 0.3));\n",
              "      fill: #FFFFFF;\n",
              "    }\n",
              "  </style>\n",
              "\n",
              "      <script>\n",
              "        const buttonEl =\n",
              "          document.querySelector('#df-d21d7ecc-be79-4ad0-8bef-98ed3cda4c9f button.colab-df-convert');\n",
              "        buttonEl.style.display =\n",
              "          google.colab.kernel.accessAllowed ? 'block' : 'none';\n",
              "\n",
              "        async function convertToInteractive(key) {\n",
              "          const element = document.querySelector('#df-d21d7ecc-be79-4ad0-8bef-98ed3cda4c9f');\n",
              "          const dataTable =\n",
              "            await google.colab.kernel.invokeFunction('convertToInteractive',\n",
              "                                                     [key], {});\n",
              "          if (!dataTable) return;\n",
              "\n",
              "          const docLinkHtml = 'Like what you see? Visit the ' +\n",
              "            '<a target=\"_blank\" href=https://colab.research.google.com/notebooks/data_table.ipynb>data table notebook</a>'\n",
              "            + ' to learn more about interactive tables.';\n",
              "          element.innerHTML = '';\n",
              "          dataTable['output_type'] = 'display_data';\n",
              "          await google.colab.output.renderOutput(dataTable, element);\n",
              "          const docLink = document.createElement('div');\n",
              "          docLink.innerHTML = docLinkHtml;\n",
              "          element.appendChild(docLink);\n",
              "        }\n",
              "      </script>\n",
              "    </div>\n",
              "  </div>\n",
              "  "
            ]
          },
          "metadata": {},
          "execution_count": 128
        }
      ],
      "source": [
        "hypothesis['ice'] = (hypothesis['impact'] * hypothesis['confidence'] /\n",
        "                     hypothesis['efforts']).round(1)\n",
        "\n",
        "hypothesis.sort_values(by='ice', ascending=False)"
      ]
    },
    {
      "cell_type": "markdown",
      "metadata": {
        "id": "Kth3BWa4HLIJ"
      },
      "source": [
        "В результате получили, что по методу `ICE` наиболее перспективные гипотезы - это гипотезы № 9, 1, 8 и 7.\n",
        "\n",
        "Теперь приоритизируем гипотезы по методы `RICE`: перемножим оценку количества затрагиваемых пользователей, оценку влияния изменений, оценку уверенности в точности параметров и результат разделим на оценку трудозатрат. "
      ]
    },
    {
      "cell_type": "code",
      "execution_count": 129,
      "metadata": {
        "colab": {
          "base_uri": "https://localhost:8080/",
          "height": 332
        },
        "id": "mu0-mwNNGirM",
        "outputId": "4c22a6f4-71b8-4cde-da80-60035e808a13"
      },
      "outputs": [
        {
          "output_type": "execute_result",
          "data": {
            "text/plain": [
              "  hypothesis_id  reach  impact  confidence  efforts   ice   rice\n",
              "7         hyp_8     10       7           8        5  11.2  112.0\n",
              "2         hyp_3      8       3           7        3   7.0   56.0\n",
              "0         hyp_1      3      10           8        6  13.3   40.0\n",
              "6         hyp_7      5       3           8        3   8.0   40.0\n",
              "8         hyp_9      1       9           9        5  16.2   16.2\n",
              "3         hyp_4      8       3           3        8   1.1    9.0\n",
              "1         hyp_2      2       5           4       10   2.0    4.0\n",
              "5         hyp_6      3       2           2        3   1.3    4.0\n",
              "4         hyp_5      3       1           1        1   1.0    3.0"
            ],
            "text/html": [
              "\n",
              "  <div id=\"df-37fcaa52-e690-47a6-84f8-2afc8ca92919\">\n",
              "    <div class=\"colab-df-container\">\n",
              "      <div>\n",
              "<style scoped>\n",
              "    .dataframe tbody tr th:only-of-type {\n",
              "        vertical-align: middle;\n",
              "    }\n",
              "\n",
              "    .dataframe tbody tr th {\n",
              "        vertical-align: top;\n",
              "    }\n",
              "\n",
              "    .dataframe thead th {\n",
              "        text-align: right;\n",
              "    }\n",
              "</style>\n",
              "<table border=\"1\" class=\"dataframe\">\n",
              "  <thead>\n",
              "    <tr style=\"text-align: right;\">\n",
              "      <th></th>\n",
              "      <th>hypothesis_id</th>\n",
              "      <th>reach</th>\n",
              "      <th>impact</th>\n",
              "      <th>confidence</th>\n",
              "      <th>efforts</th>\n",
              "      <th>ice</th>\n",
              "      <th>rice</th>\n",
              "    </tr>\n",
              "  </thead>\n",
              "  <tbody>\n",
              "    <tr>\n",
              "      <th>7</th>\n",
              "      <td>hyp_8</td>\n",
              "      <td>10</td>\n",
              "      <td>7</td>\n",
              "      <td>8</td>\n",
              "      <td>5</td>\n",
              "      <td>11.2</td>\n",
              "      <td>112.0</td>\n",
              "    </tr>\n",
              "    <tr>\n",
              "      <th>2</th>\n",
              "      <td>hyp_3</td>\n",
              "      <td>8</td>\n",
              "      <td>3</td>\n",
              "      <td>7</td>\n",
              "      <td>3</td>\n",
              "      <td>7.0</td>\n",
              "      <td>56.0</td>\n",
              "    </tr>\n",
              "    <tr>\n",
              "      <th>0</th>\n",
              "      <td>hyp_1</td>\n",
              "      <td>3</td>\n",
              "      <td>10</td>\n",
              "      <td>8</td>\n",
              "      <td>6</td>\n",
              "      <td>13.3</td>\n",
              "      <td>40.0</td>\n",
              "    </tr>\n",
              "    <tr>\n",
              "      <th>6</th>\n",
              "      <td>hyp_7</td>\n",
              "      <td>5</td>\n",
              "      <td>3</td>\n",
              "      <td>8</td>\n",
              "      <td>3</td>\n",
              "      <td>8.0</td>\n",
              "      <td>40.0</td>\n",
              "    </tr>\n",
              "    <tr>\n",
              "      <th>8</th>\n",
              "      <td>hyp_9</td>\n",
              "      <td>1</td>\n",
              "      <td>9</td>\n",
              "      <td>9</td>\n",
              "      <td>5</td>\n",
              "      <td>16.2</td>\n",
              "      <td>16.2</td>\n",
              "    </tr>\n",
              "    <tr>\n",
              "      <th>3</th>\n",
              "      <td>hyp_4</td>\n",
              "      <td>8</td>\n",
              "      <td>3</td>\n",
              "      <td>3</td>\n",
              "      <td>8</td>\n",
              "      <td>1.1</td>\n",
              "      <td>9.0</td>\n",
              "    </tr>\n",
              "    <tr>\n",
              "      <th>1</th>\n",
              "      <td>hyp_2</td>\n",
              "      <td>2</td>\n",
              "      <td>5</td>\n",
              "      <td>4</td>\n",
              "      <td>10</td>\n",
              "      <td>2.0</td>\n",
              "      <td>4.0</td>\n",
              "    </tr>\n",
              "    <tr>\n",
              "      <th>5</th>\n",
              "      <td>hyp_6</td>\n",
              "      <td>3</td>\n",
              "      <td>2</td>\n",
              "      <td>2</td>\n",
              "      <td>3</td>\n",
              "      <td>1.3</td>\n",
              "      <td>4.0</td>\n",
              "    </tr>\n",
              "    <tr>\n",
              "      <th>4</th>\n",
              "      <td>hyp_5</td>\n",
              "      <td>3</td>\n",
              "      <td>1</td>\n",
              "      <td>1</td>\n",
              "      <td>1</td>\n",
              "      <td>1.0</td>\n",
              "      <td>3.0</td>\n",
              "    </tr>\n",
              "  </tbody>\n",
              "</table>\n",
              "</div>\n",
              "      <button class=\"colab-df-convert\" onclick=\"convertToInteractive('df-37fcaa52-e690-47a6-84f8-2afc8ca92919')\"\n",
              "              title=\"Convert this dataframe to an interactive table.\"\n",
              "              style=\"display:none;\">\n",
              "        \n",
              "  <svg xmlns=\"http://www.w3.org/2000/svg\" height=\"24px\"viewBox=\"0 0 24 24\"\n",
              "       width=\"24px\">\n",
              "    <path d=\"M0 0h24v24H0V0z\" fill=\"none\"/>\n",
              "    <path d=\"M18.56 5.44l.94 2.06.94-2.06 2.06-.94-2.06-.94-.94-2.06-.94 2.06-2.06.94zm-11 1L8.5 8.5l.94-2.06 2.06-.94-2.06-.94L8.5 2.5l-.94 2.06-2.06.94zm10 10l.94 2.06.94-2.06 2.06-.94-2.06-.94-.94-2.06-.94 2.06-2.06.94z\"/><path d=\"M17.41 7.96l-1.37-1.37c-.4-.4-.92-.59-1.43-.59-.52 0-1.04.2-1.43.59L10.3 9.45l-7.72 7.72c-.78.78-.78 2.05 0 2.83L4 21.41c.39.39.9.59 1.41.59.51 0 1.02-.2 1.41-.59l7.78-7.78 2.81-2.81c.8-.78.8-2.07 0-2.86zM5.41 20L4 18.59l7.72-7.72 1.47 1.35L5.41 20z\"/>\n",
              "  </svg>\n",
              "      </button>\n",
              "      \n",
              "  <style>\n",
              "    .colab-df-container {\n",
              "      display:flex;\n",
              "      flex-wrap:wrap;\n",
              "      gap: 12px;\n",
              "    }\n",
              "\n",
              "    .colab-df-convert {\n",
              "      background-color: #E8F0FE;\n",
              "      border: none;\n",
              "      border-radius: 50%;\n",
              "      cursor: pointer;\n",
              "      display: none;\n",
              "      fill: #1967D2;\n",
              "      height: 32px;\n",
              "      padding: 0 0 0 0;\n",
              "      width: 32px;\n",
              "    }\n",
              "\n",
              "    .colab-df-convert:hover {\n",
              "      background-color: #E2EBFA;\n",
              "      box-shadow: 0px 1px 2px rgba(60, 64, 67, 0.3), 0px 1px 3px 1px rgba(60, 64, 67, 0.15);\n",
              "      fill: #174EA6;\n",
              "    }\n",
              "\n",
              "    [theme=dark] .colab-df-convert {\n",
              "      background-color: #3B4455;\n",
              "      fill: #D2E3FC;\n",
              "    }\n",
              "\n",
              "    [theme=dark] .colab-df-convert:hover {\n",
              "      background-color: #434B5C;\n",
              "      box-shadow: 0px 1px 3px 1px rgba(0, 0, 0, 0.15);\n",
              "      filter: drop-shadow(0px 1px 2px rgba(0, 0, 0, 0.3));\n",
              "      fill: #FFFFFF;\n",
              "    }\n",
              "  </style>\n",
              "\n",
              "      <script>\n",
              "        const buttonEl =\n",
              "          document.querySelector('#df-37fcaa52-e690-47a6-84f8-2afc8ca92919 button.colab-df-convert');\n",
              "        buttonEl.style.display =\n",
              "          google.colab.kernel.accessAllowed ? 'block' : 'none';\n",
              "\n",
              "        async function convertToInteractive(key) {\n",
              "          const element = document.querySelector('#df-37fcaa52-e690-47a6-84f8-2afc8ca92919');\n",
              "          const dataTable =\n",
              "            await google.colab.kernel.invokeFunction('convertToInteractive',\n",
              "                                                     [key], {});\n",
              "          if (!dataTable) return;\n",
              "\n",
              "          const docLinkHtml = 'Like what you see? Visit the ' +\n",
              "            '<a target=\"_blank\" href=https://colab.research.google.com/notebooks/data_table.ipynb>data table notebook</a>'\n",
              "            + ' to learn more about interactive tables.';\n",
              "          element.innerHTML = '';\n",
              "          dataTable['output_type'] = 'display_data';\n",
              "          await google.colab.output.renderOutput(dataTable, element);\n",
              "          const docLink = document.createElement('div');\n",
              "          docLink.innerHTML = docLinkHtml;\n",
              "          element.appendChild(docLink);\n",
              "        }\n",
              "      </script>\n",
              "    </div>\n",
              "  </div>\n",
              "  "
            ]
          },
          "metadata": {},
          "execution_count": 129
        }
      ],
      "source": [
        "hypothesis['rice'] = (hypothesis['reach'] * hypothesis['impact'] *\n",
        "                      hypothesis['confidence'] /hypothesis['efforts']).round(1)\n",
        "\n",
        "hypothesis.sort_values(by='rice', ascending=False)"
      ]
    },
    {
      "cell_type": "markdown",
      "metadata": {
        "id": "wUOVx75hOKHN"
      },
      "source": [
        "В результате получили, что по методу `RICE` наиболее перспективные гипотезы - это гипотезы № 8, 3, 1, и 7.\n",
        "\n",
        "Так произошло, потому что параметр `reach`, который не используется в методе `ICE` - минимальный и равен `1`. Это значит, что гипотеза № 9, связанная с запуском акции, дающей скидку на товар в день рождения, затронет малое количество пользователей в период проверки гипотезы.\n",
        "\n",
        "Этот же параметр у гипотезы № 3, который поднялся с 5 места на 2, равен `8`, т.е. добавление блока с рекомендациями товаров затронет 80% пользователей, но повлияет только на 30% пользователей, при трудозатратах, оцененных в `3`.\n",
        "\n",
        "Гипотеза № 1 (добавление двух новых канала привлечения трафика, что позволит привлекать на 30% больше пользователей), несмотря на низкий показатель `reach`, спустился лишь на одну ступень, поскольку имеет высокие показатели `impact` и `confidence`.\n",
        "\n",
        "Гипотеза № 8, а именно добавление формы подписки на все основные страницы для сбора базы клиентов для email-рассылок, стала первой, т.к. имеет высокую оценку показателей `reach`, `impact` и `confidence` при значении `efforts` в `5`.\n",
        "\n",
        "Гипотеза № 7 (показ на главной странице баннеров с актуальными акциями и распродажами для увеличения конверсии) осталась на том же уровне.\n",
        "\n",
        "Таким образом, самыми перспективными гипотезами являеются гипотезы № 8, 1 и 7, т.к. имеют наилучший баланс между силой гипотезы и количеством пользователей, на которых они могут повлиять.\n"
      ]
    },
    {
      "cell_type": "markdown",
      "metadata": {
        "id": "eMM-L9e_Z76L"
      },
      "source": [
        "## Анализ A/B-теста"
      ]
    },
    {
      "cell_type": "markdown",
      "metadata": {
        "id": "aQLXbccbz3R6"
      },
      "source": [
        "### Анализ кумулятивных данных"
      ]
    },
    {
      "cell_type": "markdown",
      "metadata": {
        "id": "-knB0JQnd9vI"
      },
      "source": [
        "Соберём агрегированные кумулятивные (накопленные) по дням данные о заказах."
      ]
    },
    {
      "cell_type": "code",
      "execution_count": 130,
      "metadata": {
        "id": "eEoco7b7TwVY"
      },
      "outputs": [],
      "source": [
        "# создадим датафрем с уникальми значениями, включающих дату и группу\n",
        "date_groups = orders[['date', 'group']].drop_duplicates()"
      ]
    },
    {
      "cell_type": "code",
      "execution_count": 131,
      "metadata": {
        "id": "_AtjSvbzb5Zg"
      },
      "outputs": [],
      "source": [
        "# получим строки таблицы orders, дата которых меньше или равна дате элемента\n",
        "# из date_groups, а группа теста равна группе из date_groups;\n",
        "# для каждой группы вычислим максимальную дату, группу (чтобы колонка осталась\n",
        "# в новой таблице), количество уникальных заказов и пользователей,\n",
        "# сумму заказов;\n",
        "# применим методы к каждой строке и отсортируем полученную таблицу\n",
        "\n",
        "orders_aggregated = date_groups.apply(\n",
        "    lambda x: orders[np.logical_and(orders['date'] <= x['date'],\n",
        "                                   orders['group'] == x['group'])].\n",
        "                                   agg({\n",
        "                                        'date' : 'max',\n",
        "                                        'group' : 'max',\n",
        "                                        'transaction_id' : pd.Series.nunique,\n",
        "                                        'visitor_id' : pd.Series.nunique,\n",
        "                                        'revenue' : 'sum'}), axis=1\n",
        "                                      ).sort_values(by=['date','group']) "
      ]
    },
    {
      "cell_type": "code",
      "execution_count": 132,
      "metadata": {
        "id": "bgxIrgP3gOxN"
      },
      "outputs": [],
      "source": [
        "# проделаем то же самое для определения количества посетителей\n",
        "\n",
        "visits_aggregated = date_groups.apply(\n",
        "    lambda x: visits[np.logical_and(visits['date'] <= x['date'],\n",
        "                                   visits['group'] == x['group'])].\n",
        "                                   agg({\n",
        "                                        'date' : 'max',\n",
        "                                        'group' : 'max',\n",
        "                                        'visitors' : 'sum'}), axis=1\n",
        "                                      ).sort_values(by=['date','group']) "
      ]
    },
    {
      "cell_type": "markdown",
      "metadata": {
        "id": "KYYI4nOShxXu"
      },
      "source": [
        "Объединим полученные таблицы и создадим датафреймы с кумулятивным количеством заказов и кумулятивной выручкой по дням для каждой группы теста."
      ]
    },
    {
      "cell_type": "code",
      "execution_count": 133,
      "metadata": {
        "id": "--Gn3qARbo7v"
      },
      "outputs": [],
      "source": [
        "cumulative_data = orders_aggregated.merge(visits_aggregated,\n",
        "                                           left_on=['date', 'group'],\n",
        "                                           right_on=['date', 'group'])\n",
        "\n",
        "cumulative_data.columns = ['date', 'group', 'orders', 'buyers',\n",
        "                            'revenue', 'visits']"
      ]
    },
    {
      "cell_type": "code",
      "execution_count": 134,
      "metadata": {
        "id": "cjLlEgYUjrhh"
      },
      "outputs": [],
      "source": [
        "cumulative_data_A = cumulative_data.loc[cumulative_data['group'] == 'A',\n",
        "                                        ['date', 'revenue', 'orders']]\n",
        "\n",
        "cumulative_data_B = cumulative_data.loc[cumulative_data['group'] == 'B',\n",
        "                                        ['date', 'revenue', 'orders']]"
      ]
    },
    {
      "cell_type": "markdown",
      "metadata": {
        "id": "E7hUt0OlloT3"
      },
      "source": [
        "Построим график кумулятивной выручки по дням для каждой группы. "
      ]
    },
    {
      "cell_type": "code",
      "execution_count": 135,
      "metadata": {
        "colab": {
          "base_uri": "https://localhost:8080/",
          "height": 388
        },
        "id": "yml8LRhkjMxd",
        "outputId": "59797105-adf2-46ea-9715-06b8db516f6c"
      },
      "outputs": [
        {
          "output_type": "display_data",
          "data": {
            "text/plain": [
              "<Figure size 720x360 with 1 Axes>"
            ],
            "image/png": "[encoded data removed]"
          },
          "metadata": {
            "needs_background": "light"
          }
        }
      ],
      "source": [
        "plt.figure(figsize=(10, 5))\n",
        "\n",
        "plt.plot(cumulative_data_A['date'], cumulative_data_A['revenue'],\n",
        "         label='группа A')\n",
        "\n",
        "plt.plot(cumulative_data_B['date'], cumulative_data_B['revenue'],\n",
        "         label='группа B')\n",
        "\n",
        "plt.xlabel('Дата')\n",
        "plt.xticks(rotation=45)\n",
        "plt.ylabel('Выручка, млн.')\n",
        "plt.title('Кумулятивная выручка по дням')\n",
        "plt.legend()\n",
        "\n",
        "plt.show()"
      ]
    },
    {
      "cell_type": "markdown",
      "metadata": {
        "id": "VwdT06Lrxj7K"
      },
      "source": [
        "**Вывод**\n",
        "\n",
        "Выручка группы А равномерно увеличивается на протяжении всего теста.\n",
        "\n",
        "Выручка группы В тоже растет плавно, кроме очень резкого скачка 18-19/08/2019.  Это может говорить о резком увеличении числа заказов или о появлении более дорогих заказов в выборке."
      ]
    },
    {
      "cell_type": "markdown",
      "metadata": {
        "id": "ianhv_WY0LNR"
      },
      "source": [
        "Построим график кумулятивного среднего чека по дням для каждой группы. "
      ]
    },
    {
      "cell_type": "code",
      "execution_count": 136,
      "metadata": {
        "colab": {
          "base_uri": "https://localhost:8080/",
          "height": 388
        },
        "id": "kNbD89oz0LNU",
        "outputId": "24217ee5-d79b-48b8-ed78-4b93372e319e"
      },
      "outputs": [
        {
          "output_type": "display_data",
          "data": {
            "text/plain": [
              "<Figure size 720x360 with 1 Axes>"
            ],
            "image/png": "[encoded data removed]"
          },
          "metadata": {
            "needs_background": "light"
          }
        }
      ],
      "source": [
        "plt.figure(figsize=(10, 5))\n",
        "\n",
        "plt.plot(cumulative_data_A['date'],\n",
        "         cumulative_data_A['revenue']/cumulative_data_A['orders'],\n",
        "         label='группа A')\n",
        "\n",
        "plt.plot(cumulative_data_B['date'],\n",
        "         cumulative_data_B['revenue']/cumulative_data_B['orders'],\n",
        "         label='группа B')\n",
        "\n",
        "plt.xlabel('Дата')\n",
        "plt.xticks(rotation=45)\n",
        "plt.ylabel('Размер среднего чека')\n",
        "plt.title('Кумулятивный средний чек по дням')\n",
        "plt.legend()\n",
        "\n",
        "plt.show()"
      ]
    },
    {
      "cell_type": "markdown",
      "metadata": {
        "id": "AkC1a2Sn1E_9"
      },
      "source": [
        "**Вывод**\n",
        "\n",
        "По группе А видно, что значения среднего чека примерно до серидины теста колебались, затем стабилизировались.\n",
        "\n",
        "У группы В заметен резкий скачок 18-19/08/2019. Теперь с точной уверенностью можно сказать, что в выборку попали крупные заказы. С указанного периода размер среднего чека снижается и продолжает свое снижение к концу теста.\n",
        "\n",
        "Необходимо проанализировать выбросы, чтобы принять решение по проведенному А/В-тесту."
      ]
    },
    {
      "cell_type": "markdown",
      "metadata": {
        "id": "hp7NWwlm5XOe"
      },
      "source": [
        "Объединим таблицу с кумулятивными данными групп. Построим график относительного изменения кумулятивного среднего чека группы B к группе A."
      ]
    },
    {
      "cell_type": "code",
      "execution_count": 137,
      "metadata": {
        "id": "XOgrBFo32Yjk"
      },
      "outputs": [],
      "source": [
        "merged_cumulative_data = cumulative_data_A.merge(cumulative_data_B,\n",
        "                                           left_on='date', right_on='date',\n",
        "                                           suffixes=['_A', '_B'])"
      ]
    },
    {
      "cell_type": "code",
      "execution_count": 138,
      "metadata": {
        "colab": {
          "base_uri": "https://localhost:8080/",
          "height": 388
        },
        "id": "-5EF5Yca6aii",
        "outputId": "6aa9a388-2910-44f4-adac-0a48796d5983"
      },
      "outputs": [
        {
          "output_type": "display_data",
          "data": {
            "text/plain": [
              "<Figure size 720x360 with 1 Axes>"
            ],
            "image/png": "[encoded data removed]"
          },
          "metadata": {
            "needs_background": "light"
          }
        }
      ],
      "source": [
        "plt.figure(figsize=(10, 5))\n",
        "\n",
        "plt.plot(\n",
        "    merged_cumulative_data['date'],\n",
        "    (merged_cumulative_data['revenue_B']/merged_cumulative_data['orders_B'])/\n",
        "    (merged_cumulative_data['revenue_A']/merged_cumulative_data['orders_A'])-1\n",
        ")\n",
        "\n",
        "plt.axhline(y=0, color='black', linestyle='--') \n",
        "plt.ylabel('Относительная разница')\n",
        "plt.xlabel('Дата')\n",
        "plt.xticks(rotation=45)\n",
        "plt.title(\n",
        "    'Относительное изменение кумулятивного среднего чека группы B к группе A'\n",
        "    )\n",
        "\n",
        "plt.show()"
      ]
    },
    {
      "cell_type": "markdown",
      "metadata": {
        "id": "v7SUasw-8QzX"
      },
      "source": [
        "**Вывод**\n",
        "\n",
        "График имеет скачок 18-19/08/2019 после 4 дней стабилизации. Скорее всего, в эти даты были сделаны крупные заказы в группе В.\n",
        "\n",
        "После данного скачка наблюдается явное падение относительной разницы куммулятивного среднего чека заказа группы В по отношению к группе А. В последние 3 дня теста падение замедлилось и похоже, что показатель стабилизируется."
      ]
    },
    {
      "cell_type": "markdown",
      "metadata": {
        "id": "1-EsQShh87GL"
      },
      "source": [
        "Посчитаем конверсию для каждой группы и сформируем отдельные датасеты . Построим график кумулятивной конверсии по датам."
      ]
    },
    {
      "cell_type": "code",
      "execution_count": 139,
      "metadata": {
        "id": "fD6eRd5e8tQt"
      },
      "outputs": [],
      "source": [
        "cumulative_data['conversion'] = (\n",
        "    cumulative_data['orders'] / cumulative_data['visits']\n",
        ")\n",
        "\n",
        "cumulative_data_A = cumulative_data.loc[cumulative_data['group'] == 'A']\n",
        "\n",
        "cumulative_data_B = cumulative_data.loc[cumulative_data['group'] == 'B']"
      ]
    },
    {
      "cell_type": "code",
      "execution_count": 140,
      "metadata": {
        "colab": {
          "base_uri": "https://localhost:8080/",
          "height": 388
        },
        "id": "ZKm8JKT09cWT",
        "outputId": "acf93c85-1d5a-461c-8b34-eb4a12107784"
      },
      "outputs": [
        {
          "output_type": "display_data",
          "data": {
            "text/plain": [
              "<Figure size 720x360 with 1 Axes>"
            ],
            "image/png": "[encoded data removed]"
          },
          "metadata": {
            "needs_background": "light"
          }
        }
      ],
      "source": [
        "plt.figure(figsize=(10, 5))\n",
        "\n",
        "plt.plot(cumulative_data_A['date'],\n",
        "         cumulative_data_A['conversion'],\n",
        "         label='группа A')\n",
        "\n",
        "plt.plot(cumulative_data_B['date'],\n",
        "         cumulative_data_B['conversion'],\n",
        "         label='группа B')\n",
        "\n",
        "plt.xlabel('Дата')\n",
        "plt.xticks(rotation=45)\n",
        "plt.ylabel('Размер конверсии')\n",
        "plt.title('Кумулятивная конверсия по дням')\n",
        "plt.axis([dt.datetime(2019, 8, 1), dt.datetime(2019, 8, 31), 0, 0.05])\n",
        "plt.legend()\n",
        "\n",
        "plt.show()"
      ]
    },
    {
      "cell_type": "markdown",
      "metadata": {
        "id": "QbddulbqGE_x"
      },
      "source": [
        "**Вывод**\n",
        "\n",
        "В начале значения конверсий обеих групп колебались, но уже к середине теста стабилизировались. В итоге, конверсия группы А меньше конверсии группы В примерно на `0.5%`."
      ]
    },
    {
      "cell_type": "markdown",
      "metadata": {
        "id": "wVu6nttoHOQi"
      },
      "source": [
        "Объединим таблицу с кумулятивными данными групп. Построим график относительного изменения кумулятивной конверсии группы B к группе A."
      ]
    },
    {
      "cell_type": "code",
      "execution_count": 141,
      "metadata": {
        "id": "TYJqnwWRHOQ3"
      },
      "outputs": [],
      "source": [
        "merged_cumulative_data = cumulative_data_A.merge(cumulative_data_B,\n",
        "                                           left_on='date', right_on='date',\n",
        "                                           suffixes=['_A', '_B'])"
      ]
    },
    {
      "cell_type": "code",
      "execution_count": 142,
      "metadata": {
        "colab": {
          "base_uri": "https://localhost:8080/",
          "height": 388
        },
        "id": "TNF5xQBcHOQ5",
        "outputId": "47e25c82-b919-4bc5-c521-04aed5a002c2"
      },
      "outputs": [
        {
          "output_type": "display_data",
          "data": {
            "text/plain": [
              "<Figure size 720x360 with 1 Axes>"
            ],
            "image/png": "[encoded data removed]"
          },
          "metadata": {
            "needs_background": "light"
          }
        }
      ],
      "source": [
        "plt.figure(figsize=(10, 5))\n",
        "\n",
        "plt.plot(\n",
        "    merged_cumulative_data['date'],\n",
        "    merged_cumulative_data['conversion_B']/\n",
        "    merged_cumulative_data['conversion_A']-1\n",
        ")\n",
        "\n",
        "plt.axhline(y=0, color='black', linestyle='--')\n",
        "plt.axhline(y=0.115, color='grey', linestyle='--') \n",
        "\n",
        "plt.ylabel('Относительная разница')\n",
        "plt.xlabel('Дата')\n",
        "plt.xticks(rotation=45)\n",
        "plt.title(\n",
        "    'Относительное изменение кумулятивной конверсии группы B к группе A'\n",
        "    )\n",
        "\n",
        "plt.show()"
      ]
    },
    {
      "cell_type": "markdown",
      "metadata": {
        "id": "AH-KkRU0IPnb"
      },
      "source": [
        "**Вывод**\n",
        "\n",
        "Уже с шестого дня теста конверсия группы В больше конверсии группы А. Значения все еще колеблются, в конце теста наблюдает тенденция на рост. Конверсия группы В явно выше конверсии группы А, тенденция на изменение в обратную сторону не наблюдается."
      ]
    },
    {
      "cell_type": "markdown",
      "metadata": {
        "id": "nzIHuLnqJk-6"
      },
      "source": [
        "### Анализ выбросов"
      ]
    },
    {
      "cell_type": "markdown",
      "metadata": {
        "id": "vcHQmbZNGgKy"
      },
      "source": [
        "При обзоре данных в начале было видно, что стоимость заказов в первых пяти строках соответствующей таблицы варируется от 400 до 9700. Возможно, в таблице есть и другие крупные заказы, которые могут искажать результаты.\n",
        "\n",
        "Чтобы определить, какая стоимость заказов будет считаться выбросами, построим гистограмму распределения стоимостей заказов и точечный график, а также определим 90, 95 и 99 перцентили.\n"
      ]
    },
    {
      "cell_type": "code",
      "execution_count": 143,
      "metadata": {
        "colab": {
          "base_uri": "https://localhost:8080/",
          "height": 350
        },
        "id": "hTKFGV7NGNr_",
        "outputId": "174086e0-f837-415a-efff-88e390e5593a"
      },
      "outputs": [
        {
          "output_type": "display_data",
          "data": {
            "text/plain": [
              "<Figure size 720x360 with 1 Axes>"
            ],
            "image/png": "[encoded data removed]"
          },
          "metadata": {
            "needs_background": "light"
          }
        }
      ],
      "source": [
        "plt.figure(figsize=(10, 5))\n",
        "\n",
        "plt.hist(orders['revenue'], range=(0, 150000))\n",
        "\n",
        "plt.xlabel('Стоимость заказов')\n",
        "plt.ylabel('Количество заказов')\n",
        "plt.title('Гистограмма распределения стоимостей заказов')\n",
        "\n",
        "plt.show()"
      ]
    },
    {
      "cell_type": "code",
      "execution_count": 144,
      "metadata": {
        "colab": {
          "base_uri": "https://localhost:8080/",
          "height": 350
        },
        "id": "jOvh-phIHt0D",
        "outputId": "97cba83e-36b1-4c6d-dede-0c2600120b81"
      },
      "outputs": [
        {
          "output_type": "display_data",
          "data": {
            "text/plain": [
              "<Figure size 720x360 with 1 Axes>"
            ],
            "image/png": "[encoded data removed]"
          },
          "metadata": {
            "needs_background": "light"
          }
        }
      ],
      "source": [
        "x_values = pd.Series(range(0, len(orders['revenue'])))\n",
        "\n",
        "plt.figure(figsize=(10, 5))\n",
        "\n",
        "plt.scatter(x_values, orders['revenue']) \n",
        "\n",
        "plt.ylim(0, 250000)\n",
        "plt.xlabel('Индекс строки заказа')\n",
        "plt.ylabel('Стоимость заказов')\n",
        "plt.title('Точечный график распределения стоимостей заказов')\n",
        "\n",
        "plt.show()"
      ]
    },
    {
      "cell_type": "code",
      "execution_count": 145,
      "metadata": {
        "colab": {
          "base_uri": "https://localhost:8080/"
        },
        "id": "pbE9ZWxcKpga",
        "outputId": "551c0bfa-95e7-48a6-e5a0-d903db1de5dd"
      },
      "outputs": [
        {
          "output_type": "execute_result",
          "data": {
            "text/plain": [
              "array([17990., 26785., 53904.])"
            ]
          },
          "metadata": {},
          "execution_count": 145
        }
      ],
      "source": [
        "np.percentile(orders['revenue'], [90, 95, 99])"
      ]
    },
    {
      "cell_type": "code",
      "execution_count": 146,
      "metadata": {
        "colab": {
          "base_uri": "https://localhost:8080/",
          "height": 81
        },
        "id": "L6lKH7GUL9Bo",
        "outputId": "1c47f52e-28bf-4070-a6c0-5df9c05b607b"
      },
      "outputs": [
        {
          "output_type": "execute_result",
          "data": {
            "text/plain": [
              "     transaction_id  visitor_id       date  revenue group\n",
              "365       590470918  1920142716 2019-08-19  1294500     B"
            ],
            "text/html": [
              "\n",
              "  <div id=\"df-cf8e9f30-52a1-40c2-9b5e-9d7332dac50e\">\n",
              "    <div class=\"colab-df-container\">\n",
              "      <div>\n",
              "<style scoped>\n",
              "    .dataframe tbody tr th:only-of-type {\n",
              "        vertical-align: middle;\n",
              "    }\n",
              "\n",
              "    .dataframe tbody tr th {\n",
              "        vertical-align: top;\n",
              "    }\n",
              "\n",
              "    .dataframe thead th {\n",
              "        text-align: right;\n",
              "    }\n",
              "</style>\n",
              "<table border=\"1\" class=\"dataframe\">\n",
              "  <thead>\n",
              "    <tr style=\"text-align: right;\">\n",
              "      <th></th>\n",
              "      <th>transaction_id</th>\n",
              "      <th>visitor_id</th>\n",
              "      <th>date</th>\n",
              "      <th>revenue</th>\n",
              "      <th>group</th>\n",
              "    </tr>\n",
              "  </thead>\n",
              "  <tbody>\n",
              "    <tr>\n",
              "      <th>365</th>\n",
              "      <td>590470918</td>\n",
              "      <td>1920142716</td>\n",
              "      <td>2019-08-19</td>\n",
              "      <td>1294500</td>\n",
              "      <td>B</td>\n",
              "    </tr>\n",
              "  </tbody>\n",
              "</table>\n",
              "</div>\n",
              "      <button class=\"colab-df-convert\" onclick=\"convertToInteractive('df-cf8e9f30-52a1-40c2-9b5e-9d7332dac50e')\"\n",
              "              title=\"Convert this dataframe to an interactive table.\"\n",
              "              style=\"display:none;\">\n",
              "        \n",
              "  <svg xmlns=\"http://www.w3.org/2000/svg\" height=\"24px\"viewBox=\"0 0 24 24\"\n",
              "       width=\"24px\">\n",
              "    <path d=\"M0 0h24v24H0V0z\" fill=\"none\"/>\n",
              "    <path d=\"M18.56 5.44l.94 2.06.94-2.06 2.06-.94-2.06-.94-.94-2.06-.94 2.06-2.06.94zm-11 1L8.5 8.5l.94-2.06 2.06-.94-2.06-.94L8.5 2.5l-.94 2.06-2.06.94zm10 10l.94 2.06.94-2.06 2.06-.94-2.06-.94-.94-2.06-.94 2.06-2.06.94z\"/><path d=\"M17.41 7.96l-1.37-1.37c-.4-.4-.92-.59-1.43-.59-.52 0-1.04.2-1.43.59L10.3 9.45l-7.72 7.72c-.78.78-.78 2.05 0 2.83L4 21.41c.39.39.9.59 1.41.59.51 0 1.02-.2 1.41-.59l7.78-7.78 2.81-2.81c.8-.78.8-2.07 0-2.86zM5.41 20L4 18.59l7.72-7.72 1.47 1.35L5.41 20z\"/>\n",
              "  </svg>\n",
              "      </button>\n",
              "      \n",
              "  <style>\n",
              "    .colab-df-container {\n",
              "      display:flex;\n",
              "      flex-wrap:wrap;\n",
              "      gap: 12px;\n",
              "    }\n",
              "\n",
              "    .colab-df-convert {\n",
              "      background-color: #E8F0FE;\n",
              "      border: none;\n",
              "      border-radius: 50%;\n",
              "      cursor: pointer;\n",
              "      display: none;\n",
              "      fill: #1967D2;\n",
              "      height: 32px;\n",
              "      padding: 0 0 0 0;\n",
              "      width: 32px;\n",
              "    }\n",
              "\n",
              "    .colab-df-convert:hover {\n",
              "      background-color: #E2EBFA;\n",
              "      box-shadow: 0px 1px 2px rgba(60, 64, 67, 0.3), 0px 1px 3px 1px rgba(60, 64, 67, 0.15);\n",
              "      fill: #174EA6;\n",
              "    }\n",
              "\n",
              "    [theme=dark] .colab-df-convert {\n",
              "      background-color: #3B4455;\n",
              "      fill: #D2E3FC;\n",
              "    }\n",
              "\n",
              "    [theme=dark] .colab-df-convert:hover {\n",
              "      background-color: #434B5C;\n",
              "      box-shadow: 0px 1px 3px 1px rgba(0, 0, 0, 0.15);\n",
              "      filter: drop-shadow(0px 1px 2px rgba(0, 0, 0, 0.3));\n",
              "      fill: #FFFFFF;\n",
              "    }\n",
              "  </style>\n",
              "\n",
              "      <script>\n",
              "        const buttonEl =\n",
              "          document.querySelector('#df-cf8e9f30-52a1-40c2-9b5e-9d7332dac50e button.colab-df-convert');\n",
              "        buttonEl.style.display =\n",
              "          google.colab.kernel.accessAllowed ? 'block' : 'none';\n",
              "\n",
              "        async function convertToInteractive(key) {\n",
              "          const element = document.querySelector('#df-cf8e9f30-52a1-40c2-9b5e-9d7332dac50e');\n",
              "          const dataTable =\n",
              "            await google.colab.kernel.invokeFunction('convertToInteractive',\n",
              "                                                     [key], {});\n",
              "          if (!dataTable) return;\n",
              "\n",
              "          const docLinkHtml = 'Like what you see? Visit the ' +\n",
              "            '<a target=\"_blank\" href=https://colab.research.google.com/notebooks/data_table.ipynb>data table notebook</a>'\n",
              "            + ' to learn more about interactive tables.';\n",
              "          element.innerHTML = '';\n",
              "          dataTable['output_type'] = 'display_data';\n",
              "          await google.colab.output.renderOutput(dataTable, element);\n",
              "          const docLink = document.createElement('div');\n",
              "          docLink.innerHTML = docLinkHtml;\n",
              "          element.appendChild(docLink);\n",
              "        }\n",
              "      </script>\n",
              "    </div>\n",
              "  </div>\n",
              "  "
            ]
          },
          "metadata": {},
          "execution_count": 146
        }
      ],
      "source": [
        "# посмотрим на самый крупный заказ\n",
        "orders.loc[orders['revenue'] == orders['revenue'].max()] "
      ]
    },
    {
      "cell_type": "markdown",
      "metadata": {
        "id": "wm1XSYyjNC9H"
      },
      "source": [
        "**Вывод**\n",
        "\n",
        "Самый дорогой заказ был сделан на суму 1,29 млн. 19/08/2019. Как было видно на графиках выше, именно этот заказ исказил результаты теста для группы В. \n",
        "\n",
        "99% заказов были сделаны на сумму до 54 тыс., а 95% - меньше 27 тыс. Если смотреть на гистограмму распределения стоимости заказов, то корзины с заказами после 60 тыс. уже плохо заметны невооруженным глазом. Таким образом, для дальнейшего анализа следует брать заказы до 53 тыс., так мы уберем 1-2% заказов, искажающих результаты теста.\n"
      ]
    },
    {
      "cell_type": "markdown",
      "metadata": {
        "id": "KnfAaS_ePyG6"
      },
      "source": [
        "Теперь создадим датасет с количеством заказов на одного уникального пользователя и проделаем то же самое с ним."
      ]
    },
    {
      "cell_type": "code",
      "execution_count": 147,
      "metadata": {
        "colab": {
          "base_uri": "https://localhost:8080/",
          "height": 363
        },
        "id": "4Hs8zWfjL-4b",
        "outputId": "cd0fc8da-7775-4f88-ff40-1fd18cf9eb58"
      },
      "outputs": [
        {
          "output_type": "execute_result",
          "data": {
            "text/plain": [
              "     visitor_id  orders\n",
              "908  3967698036       3\n",
              "55    249864742       3\n",
              "478  2108163459       3\n",
              "687  2988190573       3\n",
              "890  3908431265       3\n",
              "138   611059232       3\n",
              "632  2742574263       3\n",
              "157   678354126       2\n",
              "323  1404560065       2\n",
              "452  1985475298       2"
            ],
            "text/html": [
              "\n",
              "  <div id=\"df-7de1b299-5d6f-46ab-9e5a-946380827acf\">\n",
              "    <div class=\"colab-df-container\">\n",
              "      <div>\n",
              "<style scoped>\n",
              "    .dataframe tbody tr th:only-of-type {\n",
              "        vertical-align: middle;\n",
              "    }\n",
              "\n",
              "    .dataframe tbody tr th {\n",
              "        vertical-align: top;\n",
              "    }\n",
              "\n",
              "    .dataframe thead th {\n",
              "        text-align: right;\n",
              "    }\n",
              "</style>\n",
              "<table border=\"1\" class=\"dataframe\">\n",
              "  <thead>\n",
              "    <tr style=\"text-align: right;\">\n",
              "      <th></th>\n",
              "      <th>visitor_id</th>\n",
              "      <th>orders</th>\n",
              "    </tr>\n",
              "  </thead>\n",
              "  <tbody>\n",
              "    <tr>\n",
              "      <th>908</th>\n",
              "      <td>3967698036</td>\n",
              "      <td>3</td>\n",
              "    </tr>\n",
              "    <tr>\n",
              "      <th>55</th>\n",
              "      <td>249864742</td>\n",
              "      <td>3</td>\n",
              "    </tr>\n",
              "    <tr>\n",
              "      <th>478</th>\n",
              "      <td>2108163459</td>\n",
              "      <td>3</td>\n",
              "    </tr>\n",
              "    <tr>\n",
              "      <th>687</th>\n",
              "      <td>2988190573</td>\n",
              "      <td>3</td>\n",
              "    </tr>\n",
              "    <tr>\n",
              "      <th>890</th>\n",
              "      <td>3908431265</td>\n",
              "      <td>3</td>\n",
              "    </tr>\n",
              "    <tr>\n",
              "      <th>138</th>\n",
              "      <td>611059232</td>\n",
              "      <td>3</td>\n",
              "    </tr>\n",
              "    <tr>\n",
              "      <th>632</th>\n",
              "      <td>2742574263</td>\n",
              "      <td>3</td>\n",
              "    </tr>\n",
              "    <tr>\n",
              "      <th>157</th>\n",
              "      <td>678354126</td>\n",
              "      <td>2</td>\n",
              "    </tr>\n",
              "    <tr>\n",
              "      <th>323</th>\n",
              "      <td>1404560065</td>\n",
              "      <td>2</td>\n",
              "    </tr>\n",
              "    <tr>\n",
              "      <th>452</th>\n",
              "      <td>1985475298</td>\n",
              "      <td>2</td>\n",
              "    </tr>\n",
              "  </tbody>\n",
              "</table>\n",
              "</div>\n",
              "      <button class=\"colab-df-convert\" onclick=\"convertToInteractive('df-7de1b299-5d6f-46ab-9e5a-946380827acf')\"\n",
              "              title=\"Convert this dataframe to an interactive table.\"\n",
              "              style=\"display:none;\">\n",
              "        \n",
              "  <svg xmlns=\"http://www.w3.org/2000/svg\" height=\"24px\"viewBox=\"0 0 24 24\"\n",
              "       width=\"24px\">\n",
              "    <path d=\"M0 0h24v24H0V0z\" fill=\"none\"/>\n",
              "    <path d=\"M18.56 5.44l.94 2.06.94-2.06 2.06-.94-2.06-.94-.94-2.06-.94 2.06-2.06.94zm-11 1L8.5 8.5l.94-2.06 2.06-.94-2.06-.94L8.5 2.5l-.94 2.06-2.06.94zm10 10l.94 2.06.94-2.06 2.06-.94-2.06-.94-.94-2.06-.94 2.06-2.06.94z\"/><path d=\"M17.41 7.96l-1.37-1.37c-.4-.4-.92-.59-1.43-.59-.52 0-1.04.2-1.43.59L10.3 9.45l-7.72 7.72c-.78.78-.78 2.05 0 2.83L4 21.41c.39.39.9.59 1.41.59.51 0 1.02-.2 1.41-.59l7.78-7.78 2.81-2.81c.8-.78.8-2.07 0-2.86zM5.41 20L4 18.59l7.72-7.72 1.47 1.35L5.41 20z\"/>\n",
              "  </svg>\n",
              "      </button>\n",
              "      \n",
              "  <style>\n",
              "    .colab-df-container {\n",
              "      display:flex;\n",
              "      flex-wrap:wrap;\n",
              "      gap: 12px;\n",
              "    }\n",
              "\n",
              "    .colab-df-convert {\n",
              "      background-color: #E8F0FE;\n",
              "      border: none;\n",
              "      border-radius: 50%;\n",
              "      cursor: pointer;\n",
              "      display: none;\n",
              "      fill: #1967D2;\n",
              "      height: 32px;\n",
              "      padding: 0 0 0 0;\n",
              "      width: 32px;\n",
              "    }\n",
              "\n",
              "    .colab-df-convert:hover {\n",
              "      background-color: #E2EBFA;\n",
              "      box-shadow: 0px 1px 2px rgba(60, 64, 67, 0.3), 0px 1px 3px 1px rgba(60, 64, 67, 0.15);\n",
              "      fill: #174EA6;\n",
              "    }\n",
              "\n",
              "    [theme=dark] .colab-df-convert {\n",
              "      background-color: #3B4455;\n",
              "      fill: #D2E3FC;\n",
              "    }\n",
              "\n",
              "    [theme=dark] .colab-df-convert:hover {\n",
              "      background-color: #434B5C;\n",
              "      box-shadow: 0px 1px 3px 1px rgba(0, 0, 0, 0.15);\n",
              "      filter: drop-shadow(0px 1px 2px rgba(0, 0, 0, 0.3));\n",
              "      fill: #FFFFFF;\n",
              "    }\n",
              "  </style>\n",
              "\n",
              "      <script>\n",
              "        const buttonEl =\n",
              "          document.querySelector('#df-7de1b299-5d6f-46ab-9e5a-946380827acf button.colab-df-convert');\n",
              "        buttonEl.style.display =\n",
              "          google.colab.kernel.accessAllowed ? 'block' : 'none';\n",
              "\n",
              "        async function convertToInteractive(key) {\n",
              "          const element = document.querySelector('#df-7de1b299-5d6f-46ab-9e5a-946380827acf');\n",
              "          const dataTable =\n",
              "            await google.colab.kernel.invokeFunction('convertToInteractive',\n",
              "                                                     [key], {});\n",
              "          if (!dataTable) return;\n",
              "\n",
              "          const docLinkHtml = 'Like what you see? Visit the ' +\n",
              "            '<a target=\"_blank\" href=https://colab.research.google.com/notebooks/data_table.ipynb>data table notebook</a>'\n",
              "            + ' to learn more about interactive tables.';\n",
              "          element.innerHTML = '';\n",
              "          dataTable['output_type'] = 'display_data';\n",
              "          await google.colab.output.renderOutput(dataTable, element);\n",
              "          const docLink = document.createElement('div');\n",
              "          docLink.innerHTML = docLinkHtml;\n",
              "          element.appendChild(docLink);\n",
              "        }\n",
              "      </script>\n",
              "    </div>\n",
              "  </div>\n",
              "  "
            ]
          },
          "metadata": {},
          "execution_count": 147
        }
      ],
      "source": [
        "orders_by_users = (\n",
        "    orders.groupby('visitor_id', as_index=False).\n",
        "    agg({'transaction_id' : 'nunique'})\n",
        ")\n",
        "\n",
        "orders_by_users.columns = ['visitor_id', 'orders']\n",
        "\n",
        "orders_by_users.sort_values(by='orders', ascending=False).head(10)"
      ]
    },
    {
      "cell_type": "code",
      "execution_count": 148,
      "metadata": {
        "colab": {
          "base_uri": "https://localhost:8080/",
          "height": 350
        },
        "id": "S13sBniERDhw",
        "outputId": "0ebd416c-ac87-4e40-fe26-eceedaa5ae2f"
      },
      "outputs": [
        {
          "output_type": "display_data",
          "data": {
            "text/plain": [
              "<Figure size 720x360 with 1 Axes>"
            ],
            "image/png": "[encoded data removed]"
          },
          "metadata": {
            "needs_background": "light"
          }
        }
      ],
      "source": [
        "plt.figure(figsize=(10, 5))\n",
        "\n",
        "plt.hist(orders_by_users['orders'])\n",
        "\n",
        "plt.xlabel('Количество заказов на пользователя')\n",
        "plt.ylabel('Количество пользователей')\n",
        "plt.title('Гистограмма распределения количества заказов на одного пользователя')\n",
        "\n",
        "plt.show()"
      ]
    },
    {
      "cell_type": "code",
      "execution_count": 149,
      "metadata": {
        "colab": {
          "base_uri": "https://localhost:8080/",
          "height": 350
        },
        "id": "ZxDv6xtCRDhy",
        "outputId": "5311e510-f7c6-4949-db3e-931074b832c4"
      },
      "outputs": [
        {
          "output_type": "display_data",
          "data": {
            "text/plain": [
              "<Figure size 720x360 with 1 Axes>"
            ],
            "image/png": "[encoded data removed]"
          },
          "metadata": {
            "needs_background": "light"
          }
        }
      ],
      "source": [
        "x_values = pd.Series(range(0, len(orders_by_users['orders'])))\n",
        "\n",
        "plt.figure(figsize=(10, 5))\n",
        "\n",
        "plt.scatter(x_values, orders_by_users['orders']) \n",
        "\n",
        "plt.xlabel('Индекс строки пользователя')\n",
        "plt.ylabel('Количество заказов пользователя')\n",
        "plt.title('Точечный график распределения количества заказов на пользователя')\n",
        "\n",
        "plt.show()"
      ]
    },
    {
      "cell_type": "code",
      "execution_count": 150,
      "metadata": {
        "colab": {
          "base_uri": "https://localhost:8080/"
        },
        "id": "ouzVX756RDhz",
        "outputId": "cf44bb7b-f31e-452f-b3ff-cfaebc2614f8"
      },
      "outputs": [
        {
          "output_type": "execute_result",
          "data": {
            "text/plain": [
              "array([1., 1., 2.])"
            ]
          },
          "metadata": {},
          "execution_count": 150
        }
      ],
      "source": [
        "np.percentile(orders_by_users['orders'], [90, 95, 99])"
      ]
    },
    {
      "cell_type": "markdown",
      "metadata": {
        "id": "7g7SP2WiRDh2"
      },
      "source": [
        "**Вывод**\n",
        "\n",
        "Наибольшее количество заказов за месяц теста на одного пользователя - 3.\n",
        "\n",
        "В то же время 99% пользователей совершили не более 2 заказов, а 95% - не более 1. Таким образом, для дальнейшего анализа следует брать пользователей, совершивших 2 или 1 заказ, так мы уберем 1% пользователей, искажающих результаты теста.\n"
      ]
    },
    {
      "cell_type": "markdown",
      "metadata": {
        "id": "D4g3sAbxTH-l"
      },
      "source": [
        "### Анализ статистической значимости"
      ]
    },
    {
      "cell_type": "markdown",
      "metadata": {
        "id": "IrymG99KmUR1"
      },
      "source": [
        "Прежде чем проверять гипотезы и анализировать статистическую значимость, необходимо собрать данные, которые будут включать количество посещений, заказов и общую сумма заказов в день для каждой группы, а также кумулятивные данные этих показателей."
      ]
    },
    {
      "cell_type": "code",
      "execution_count": 151,
      "metadata": {
        "id": "gtQUu6NCep5g"
      },
      "outputs": [],
      "source": [
        "# получим строки таблицы visits для группы А, т.е. определим количество\n",
        "# посещений за каждый день теста\n",
        "\n",
        "visits_daily_A = visits.loc[visits['group'] == 'A', ['date', 'visitors']]\n",
        "\n",
        "visits_daily_A.columns = ['date', 'visitors_per_day_A']\n",
        "\n",
        "# получим строки таблицы visits_daily_A, дата которых меньше или равна дате\n",
        "# элемента из этой же таблицы;\n",
        "# вычислим максимальную дату и количество посещений,\n",
        "# применим методы к каждой строке\n",
        "\n",
        "cumulative_visits_A = visits_daily_A.apply(\n",
        "    lambda x: visits_daily_A[visits_daily_A['date'] <= x['date']].\n",
        "    agg({'date' : 'max', 'visitors_per_day_A' : 'sum'}), axis=1)\n",
        "\n",
        "cumulative_visits_A.columns = ['date', 'visitors_cumulative_A']"
      ]
    },
    {
      "cell_type": "code",
      "execution_count": 152,
      "metadata": {
        "id": "L7n1wZcHf523"
      },
      "outputs": [],
      "source": [
        "# сделаем то же самое для группы В\n",
        "\n",
        "visits_daily_B = visits.loc[visits['group'] == 'B', ['date', 'visitors']]\n",
        "\n",
        "visits_daily_B.columns = ['date', 'visitors_per_day_B']\n",
        "\n",
        "cumulative_visits_B = visits_daily_B.apply(\n",
        "    lambda x: visits_daily_B[visits_daily_B['date'] <= x['date']].\n",
        "    agg({'date' : 'max', 'visitors_per_day_B' : 'sum'}), axis=1)\n",
        "\n",
        "cumulative_visits_B.columns = ['date', 'visitors_cumulative_B']"
      ]
    },
    {
      "cell_type": "code",
      "execution_count": 153,
      "metadata": {
        "id": "NkfS4FdzhNXf"
      },
      "outputs": [],
      "source": [
        "# получим строки таблицы orders для группы А, сгруппируем данные по дате\n",
        "# и для каждой даты найдем количество уникальных заказов и общую прибыль\n",
        "\n",
        "orders_daily_A = (\n",
        "    orders.loc[orders['group'] == 'A', ['date', 'visitor_id',\n",
        "                                        'transaction_id', 'revenue']].\n",
        "                  groupby('date', as_index=False).\n",
        "                  agg({'transaction_id' : pd.Series.nunique,\n",
        "                       'revenue' : 'sum'})\n",
        ")\n",
        "\n",
        "orders_daily_A.columns = ['date', 'orders_per_day_A', 'revenue_per_day_A']\n",
        "\n",
        "# получим строки таблицы orders_daily_A, дата которых меньше или равна дате\n",
        "# элемента из этой же таблицы;\n",
        "# вычислим максимальную дату, количество заказов и общую прибыль,\n",
        "# применим методы к каждой строке и отсортируем полученную таблицу\n",
        "\n",
        "cumulative_orders_A = orders_daily_A.apply(\n",
        "    lambda x: orders_daily_A[orders_daily_A['date'] <= x['date']].\n",
        "    agg({'date' : 'max',\n",
        "         'orders_per_day_A' : 'sum',\n",
        "         'revenue_per_day_A' : 'sum'}), axis=1).sort_values(by='date')\n",
        "\n",
        "cumulative_orders_A.columns = ['date', 'orders_cumulative_A',\n",
        "                               'revenue_cumulative_A']"
      ]
    },
    {
      "cell_type": "code",
      "execution_count": 154,
      "metadata": {
        "id": "o98EEKnDjqtP"
      },
      "outputs": [],
      "source": [
        "# сделаем то же самое для группы В\n",
        "\n",
        "orders_daily_B = (\n",
        "    orders.loc[orders['group'] == 'B', ['date', 'visitor_id',\n",
        "                                        'transaction_id', 'revenue']].\n",
        "                  groupby('date', as_index=False).\n",
        "                  agg({'transaction_id' : pd.Series.nunique,\n",
        "                       'revenue' : 'sum'})\n",
        ")\n",
        "\n",
        "orders_daily_B.columns = ['date', 'orders_per_day_B', 'revenue_per_day_B']\n",
        "\n",
        "cumulative_orders_B = orders_daily_B.apply(\n",
        "    lambda x: orders_daily_B[orders_daily_B['date'] <= x['date']].\n",
        "    agg({'date' : 'max',\n",
        "         'orders_per_day_B' : 'sum',\n",
        "         'revenue_per_day_B' : 'sum'}), axis=1).sort_values(by='date')\n",
        "\n",
        "cumulative_orders_B.columns = ['date', 'orders_cumulative_B',\n",
        "                               'revenue_cumulative_B']"
      ]
    },
    {
      "cell_type": "code",
      "execution_count": 155,
      "metadata": {
        "id": "AOVShYQZkCgg"
      },
      "outputs": [],
      "source": [
        "# объединим все полученные таблицы\n",
        "\n",
        "data = (\n",
        "    orders_daily_A.merge(\n",
        "        orders_daily_B, left_on='date', right_on='date', how='left'\n",
        "        )\n",
        "    .merge(cumulative_orders_A, left_on='date', right_on='date', how='left')\n",
        "    .merge(cumulative_orders_B, left_on='date', right_on='date', how='left')\n",
        "    .merge(visits_daily_A, left_on='date', right_on='date', how='left')\n",
        "    .merge(visits_daily_B, left_on='date', right_on='date', how='left')\n",
        "    .merge(cumulative_visits_A, left_on='date', right_on='date', how='left')\n",
        "    .merge(cumulative_visits_B, left_on='date', right_on='date', how='left')\n",
        ")"
      ]
    },
    {
      "cell_type": "markdown",
      "metadata": {
        "id": "5RO5M9FhuLhh"
      },
      "source": [
        "#### Гипотеза: по \"сырым\" данным различий в конверсии между группами нет."
      ]
    },
    {
      "cell_type": "markdown",
      "metadata": {
        "id": "dq8yGC0LUgLP"
      },
      "source": [
        "Посчитаем статистическую значимость различий в конверсии между группами по «сырым» данным. \n",
        "\n",
        "**Н0:** нет различий в конверсии между группами.\n",
        "\n",
        "**Н1:** есть различия в конверсии между группами."
      ]
    },
    {
      "cell_type": "code",
      "execution_count": 156,
      "metadata": {
        "id": "aic5pMxHlV5h"
      },
      "outputs": [],
      "source": [
        "# создадим таблицу, в которой каждому пользователю из группы А будет \n",
        "# соответствовать число осуществленных им заказов\n",
        "\n",
        "orders_by_users_A = (\n",
        "    orders.loc[orders['group'] == 'A']\n",
        "    .groupby('visitor_id', as_index=False)\n",
        "    .agg({'transaction_id' : pd.Series.nunique})\n",
        ")\n",
        "\n",
        "orders_by_users_A.columns = ['visitor_id', 'orders']"
      ]
    },
    {
      "cell_type": "code",
      "execution_count": 157,
      "metadata": {
        "id": "ZEncIucyVs1i"
      },
      "outputs": [],
      "source": [
        "# создаем такую же таблицу для группы В\n",
        "\n",
        "orders_by_users_B = (\n",
        "    orders.loc[orders['group'] == 'B']\n",
        "    .groupby('visitor_id', as_index=False)\n",
        "    .agg({'transaction_id' : pd.Series.nunique})\n",
        ")\n",
        "\n",
        "orders_by_users_B.columns = ['visitor_id', 'orders']"
      ]
    },
    {
      "cell_type": "code",
      "execution_count": 158,
      "metadata": {
        "id": "JT-gcaTfXOij"
      },
      "outputs": [],
      "source": [
        "# создадим Series, в котором к колонке 'orders' из orders_by_users_A будут\n",
        "# добавлены строки с нулями в количестве пользователей, которые не совершали\n",
        "# покупок, из-за чего не попали в таблицу orders_by_users_A\n",
        "\n",
        "sample_A = pd.concat(\n",
        "    [orders_by_users_A['orders'],\n",
        "     pd.Series(0, index=np.arange(data['visitors_per_day_A'].sum() -\n",
        "                                  len(orders_by_users_A['orders'])),\n",
        "               name='orders')], axis=0)"
      ]
    },
    {
      "cell_type": "code",
      "execution_count": 159,
      "metadata": {
        "id": "SlBdjtlpYQx4"
      },
      "outputs": [],
      "source": [
        "# создаем Series для группы В по такому же принципу\n",
        "\n",
        "sample_B = pd.concat(\n",
        "    [orders_by_users_B['orders'],\n",
        "     pd.Series(0, index=np.arange(data['visitors_per_day_B'].sum() -\n",
        "                                  len(orders_by_users_B['orders'])),\n",
        "               name='orders')], axis=0)"
      ]
    },
    {
      "cell_type": "code",
      "execution_count": 160,
      "metadata": {
        "colab": {
          "base_uri": "https://localhost:8080/"
        },
        "id": "hPwRrr4Wp0Yl",
        "outputId": "8b934724-a9a2-4628-bda3-c3a3fd1da071"
      },
      "outputs": [
        {
          "output_type": "stream",
          "name": "stdout",
          "text": [
            "p-значение:  0.011\n",
            "Отвергаем нулевую гипотезу: разница статистически значима\n",
            "Относительное различие в конверсии группы B к группе A: 0.160\n"
          ]
        }
      ],
      "source": [
        "# проверяем гипотезу\n",
        "\n",
        "alpha = 0.05  # критический уровень статистической значимости\n",
        "\n",
        "results_conv_raw = (st.mannwhitneyu(\n",
        "    sample_A, sample_B, alternative='two-sided'\n",
        "    )[1]).round(4)\n",
        "\n",
        "print('p-значение: ', results_conv_raw)\n",
        "\n",
        "if results_conv_raw < alpha:\n",
        "    print('Отвергаем нулевую гипотезу: разница статистически значима')\n",
        "else:\n",
        "    print('Не получилось отвергнуть нулевую гипотезу') \n",
        "\n",
        "print('Относительное различие в конверсии группы B к группе A:',\n",
        "      '{0:.3f}'.format(sample_B.mean() / sample_A.mean() - 1))"
      ]
    },
    {
      "cell_type": "markdown",
      "metadata": {
        "id": "2DNoqOaFtD8Y"
      },
      "source": [
        "**Вывод**\n",
        "\n",
        "Принимаем альтернативную гипотезу, т.к. p-value = 0.011 меньше 0.05, т.е. по \"сырым данным\" разница в конверсии групп A и B статистически значима.\n",
        "\n",
        "Группа В выигрывает у группы А с преимуществом в 16%."
      ]
    },
    {
      "cell_type": "markdown",
      "metadata": {
        "id": "I-BXlz4WurKa"
      },
      "source": [
        "#### Гипотеза: по \"сырым\" данным различий в среднем чеке заказа между группами нет."
      ]
    },
    {
      "cell_type": "markdown",
      "metadata": {
        "id": "Nz5oVQe-g9UQ"
      },
      "source": [
        "Посчитаем статистическую значимость различий в среднем чеке заказа между группами по «сырым» данным. \n",
        "\n",
        "**Н0:** нет различий в среднем чеке заказа между группами.\n",
        "\n",
        "**Н1:** есть различия в среднем чеке заказа между группами."
      ]
    },
    {
      "cell_type": "code",
      "execution_count": 161,
      "metadata": {
        "colab": {
          "base_uri": "https://localhost:8080/"
        },
        "id": "aux52IqrhJ48",
        "outputId": "869455df-bafc-4839-9398-78782c454eca"
      },
      "outputs": [
        {
          "output_type": "stream",
          "name": "stdout",
          "text": [
            "p-значение:  0.8295\n",
            "Не получилось отвергнуть нулевую гипотезу\n",
            "Относительное различие в конверсии группы B к группе A: 0.287\n"
          ]
        }
      ],
      "source": [
        "# критический уровень статистической значимости остается 0.05\n",
        "\n",
        "results_check_raw = (\n",
        "    st.mannwhitneyu(\n",
        "        orders.loc[orders['group'] == 'A', 'revenue'],\n",
        "        orders.loc[orders['group'] == 'B', 'revenue'],\n",
        "        alternative='two-sided')[1]\n",
        "        ).round(4)\n",
        "\n",
        "print('p-значение: ', results_check_raw)\n",
        "\n",
        "if results_check_raw < alpha:\n",
        "    print('Отвергаем нулевую гипотезу: разница статистически значима')\n",
        "else:\n",
        "    print('Не получилось отвергнуть нулевую гипотезу') \n",
        "\n",
        "print(\n",
        "    'Относительное различие в конверсии группы B к группе A:',\n",
        "    '{0:.3f}'.format(orders.loc[orders['group'] == 'B', 'revenue'].mean() /\n",
        "                     orders.loc[orders['group'] == 'A', 'revenue'].mean() - 1)\n",
        "    )"
      ]
    },
    {
      "cell_type": "markdown",
      "metadata": {
        "id": "nde3ykUUjTXI"
      },
      "source": [
        "**Вывод**\n",
        "\n",
        "Не получилось отвергнуть нулевую гипотезу, т.к. p-value = 0.8295 больше 0.05, т.е. по \"сырым данным\" различие в среднем чеке заказа в 28.7% группы В по отношении к группе А статистически не значима."
      ]
    },
    {
      "cell_type": "markdown",
      "metadata": {
        "id": "szDm5vtbjsKt"
      },
      "source": [
        "#### Гипотеза: по \"очищенным\" данным различий в среднем чеке заказа между группами нет."
      ]
    },
    {
      "cell_type": "markdown",
      "metadata": {
        "id": "CO57o8DDj2HU"
      },
      "source": [
        "Посчитаем статистическую значимость различий в конверсии между группами по «очищенным» данным. \n",
        "\n",
        "**Н0:** нет различий в конверсии между группами.\n",
        "\n",
        "**Н1:** есть различия в конверсии между группами."
      ]
    },
    {
      "cell_type": "code",
      "execution_count": 162,
      "metadata": {
        "colab": {
          "base_uri": "https://localhost:8080/"
        },
        "id": "BWJNg_FRjrWH",
        "outputId": "477d902e-9211-4361-9178-74f4ae48255e"
      },
      "outputs": [
        {
          "output_type": "execute_result",
          "data": {
            "text/plain": [
              "35"
            ]
          },
          "metadata": {},
          "execution_count": 162
        }
      ],
      "source": [
        "# подготовим данные:\n",
        "# отберем пользователей из группы А и группы В, совершивших 3 заказа;\n",
        "# отберем пользователей, совершивших заказы на сумму более 53000;\n",
        "# соединим их в один Series\n",
        "\n",
        "many_orders_users = pd.concat(\n",
        "    [orders_by_users_A.loc[orders_by_users_A['orders'] >=\n",
        "                           np.percentile(orders_by_users_A['orders'], 99),\n",
        "                           'visitor_id'],\n",
        "     orders_by_users_B.loc[orders_by_users_B['orders'] >=\n",
        "                           np.percentile(orders_by_users_B['orders'], 99),\n",
        "                           'visitor_id']],\n",
        "     axis=0\n",
        "     )\n",
        "\n",
        "expensive_orders_users = orders.loc[orders['revenue'] >=\n",
        "                                    np.percentile(orders['revenue'], 99),\n",
        "                                    'visitor_id']\n",
        "\n",
        "extra_users = (\n",
        "    pd.concat([many_orders_users, expensive_orders_users], axis=0)\n",
        "    .drop_duplicates()\n",
        "    .sort_values()\n",
        ")\n",
        "\n",
        "len(extra_users) # посчитаем количество полученных пользователей"
      ]
    },
    {
      "cell_type": "markdown",
      "metadata": {
        "id": "i3eTLOUfm_u5"
      },
      "source": [
        "Всего 35 пользователей. Посмотрим, как их отсутствие отразится на результатах проверки гипотез."
      ]
    },
    {
      "cell_type": "code",
      "execution_count": 163,
      "metadata": {
        "id": "y-jD8UaxnYi_"
      },
      "outputs": [],
      "source": [
        "# создадим Series, в котором к колонке 'orders' из orders_by_users_A будут\n",
        "# добавлены строки с нулями в количестве пользователей, которые не совершали\n",
        "# покупок, из-за чего не попали в таблицу orders_by_users_A\n",
        "\n",
        "not_extra_sample_A = pd.concat(\n",
        "    [orders_by_users_A.loc[\n",
        "                           np.logical_not(orders_by_users_A['visitor_id']\n",
        "                                          .isin(extra_users)), 'orders'\n",
        "                           ],\n",
        "     pd.Series(0, index=np.arange(data['visitors_per_day_A'].sum() -\n",
        "                                  len(orders_by_users_A['orders'])),\n",
        "               name='orders')], axis=0)"
      ]
    },
    {
      "cell_type": "code",
      "execution_count": 164,
      "metadata": {
        "id": "7UwzYyb6nYjh"
      },
      "outputs": [],
      "source": [
        "# создаем Series для группы В по такому же принципу\n",
        "\n",
        "not_extra_sample_B = pd.concat(\n",
        "    [orders_by_users_B.loc[\n",
        "                           np.logical_not(orders_by_users_B['visitor_id']\n",
        "                                          .isin(extra_users)), 'orders'\n",
        "                           ],\n",
        "     pd.Series(0, index=np.arange(data['visitors_per_day_B'].sum() -\n",
        "                                  len(orders_by_users_B['orders'])),\n",
        "               name='orders')], axis=0)"
      ]
    },
    {
      "cell_type": "code",
      "execution_count": 166,
      "metadata": {
        "colab": {
          "base_uri": "https://localhost:8080/"
        },
        "id": "8j4op2PjnYji",
        "outputId": "4920e369-fc7f-4809-f5e9-b309c7de1a05"
      },
      "outputs": [
        {
          "output_type": "stream",
          "name": "stdout",
          "text": [
            "p-значение:  0.0258\n",
            "Отвергаем нулевую гипотезу: разница статистически значима\n",
            "Относительное различие в конверсии группы B к группе A: 0.122\n"
          ]
        }
      ],
      "source": [
        "# проверяем гипотезу\n",
        "\n",
        "# критический уровень статистической значимости остается 0.05\n",
        "\n",
        "results_conv_not_extra = (\n",
        "    st.mannwhitneyu(not_extra_sample_A, not_extra_sample_B,\n",
        "                    alternative='two-sided')[1]\n",
        "    ).round(4)\n",
        "\n",
        "print('p-значение: ', results_conv_not_extra)\n",
        "\n",
        "if results_conv_not_extra < alpha:\n",
        "    print('Отвергаем нулевую гипотезу: разница статистически значима')\n",
        "else:\n",
        "    print('Не получилось отвергнуть нулевую гипотезу') \n",
        "\n",
        "print('Относительное различие в конверсии группы B к группе A:',\n",
        "      '{0:.3f}'.format(\n",
        "          not_extra_sample_B.mean() / not_extra_sample_A.mean() - 1\n",
        "          ))"
      ]
    },
    {
      "cell_type": "markdown",
      "metadata": {
        "id": "z3oclwDLnYjl"
      },
      "source": [
        "**Вывод**\n",
        "\n",
        "Принимаем альтернативную гипотезу, т.к. p-value = 0.0258 меньше 0.05, т.е. по \"очищенным\" данным различия в конверсии группы B по отношению к группе А в 12.2% статистически значима, как и по \"сырым\"."
      ]
    },
    {
      "cell_type": "markdown",
      "metadata": {
        "id": "CvFrMz1wpfYg"
      },
      "source": [
        "#### Гипотеза: по \"очищенным\" данным различий в среднем чеке заказа между группами нет."
      ]
    },
    {
      "cell_type": "markdown",
      "metadata": {
        "id": "MgmFAa97pfYh"
      },
      "source": [
        "Посчитаем статистическую значимость различий в среднем чеке заказа между группами по \"очищенным\" данным. \n",
        "\n",
        "**Н0:** нет различий в среднем чеке заказа между группами.\n",
        "\n",
        "**Н1:** есть различия в среднем чеке заказа между группами."
      ]
    },
    {
      "cell_type": "code",
      "execution_count": 167,
      "metadata": {
        "id": "T7W7appBtIJy"
      },
      "outputs": [],
      "source": [
        "results_check_not_extra = st.mannwhitneyu(\n",
        "            orders.loc[\n",
        "                np.logical_and(\n",
        "                    orders['group'] == 'A',\n",
        "                    np.logical_not(orders['visitor_id'].isin(extra_users)),\n",
        "                ), 'revenue'],\n",
        "            orders.loc[\n",
        "                np.logical_and(\n",
        "                    orders['group'] == 'B',\n",
        "                    np.logical_not(orders['visitor_id'].isin(extra_users)),\n",
        "                ), 'revenue'],\n",
        "        )[1]"
      ]
    },
    {
      "cell_type": "code",
      "execution_count": 169,
      "metadata": {
        "colab": {
          "base_uri": "https://localhost:8080/"
        },
        "id": "4saFb6CHpfYi",
        "outputId": "b17ffca2-9905-4bdf-d2c3-e7dee7095d1a"
      },
      "outputs": [
        {
          "output_type": "stream",
          "name": "stdout",
          "text": [
            "p-значение:  0.8272\n",
            "Не получилось отвергнуть нулевую гипотезу\n",
            "Относительное различие в конверсии группы B к группе A: -0.003\n"
          ]
        }
      ],
      "source": [
        "# критический уровень статистической значимости остается 0.05\n",
        "\n",
        "results_check_not_extra = (\n",
        "    st.mannwhitneyu(\n",
        "        orders.loc[\n",
        "                   np.logical_and(\n",
        "                       orders['group'] == 'A',\n",
        "                       np.logical_not(\n",
        "                           orders['visitor_id']\n",
        "                           .isin(extra_users)\n",
        "                           )\n",
        "                   ), 'revenue'],\n",
        "                    orders.loc[\n",
        "                               np.logical_and(\n",
        "                                   orders['group'] == 'B',\n",
        "                                   np.logical_not(\n",
        "                                       orders['visitor_id']\n",
        "                                       .isin(extra_users)\n",
        "                                       )\n",
        "                                   ), 'revenue'], alternative='two-sided')[1]\n",
        "                           ).round(4)\n",
        "\n",
        "print('p-значение: ', results_check_not_extra)\n",
        "\n",
        "if results_check_not_extra < alpha:\n",
        "    print('Отвергаем нулевую гипотезу: разница статистически значима')\n",
        "else:\n",
        "    print('Не получилось отвергнуть нулевую гипотезу') \n",
        "\n",
        "print(\n",
        "    'Относительное различие в конверсии группы B к группе A:',\n",
        "    '{0:.3f}'.format(\n",
        "        orders.loc[\n",
        "                   np.logical_and(\n",
        "                       orders['group'] == 'A',\n",
        "                       np.logical_not(\n",
        "                           orders['visitor_id']\n",
        "                           .isin(extra_users)\n",
        "                           )\n",
        "                   ), 'revenue']\n",
        "                     .mean() /\n",
        "                     orders.loc[np.logical_and(\n",
        "                         orders['group'] == 'B',\n",
        "                         np.logical_not(\n",
        "                             orders['visitor_id']\n",
        "                             .isin(extra_users)\n",
        "                             )\n",
        "                         ), 'revenue']\n",
        "                     .mean() - 1\n",
        "                     )\n",
        "    )"
      ]
    },
    {
      "cell_type": "markdown",
      "metadata": {
        "id": "WqSRr78jpfYk"
      },
      "source": [
        "**Вывод**\n",
        "\n",
        "Не получилось отвергнуть нулевую гипотезу, т.к. p-value = 0.8272 больше 0.05, т.е. по \"очищенным\" данным различие в среднем чеке заказа групп A и B в 0.3% статистически не значимо, как и по \"сырым\"."
      ]
    },
    {
      "cell_type": "markdown",
      "metadata": {
        "id": "DTDsggh49a0t"
      },
      "source": [
        "## Общий вывод"
      ]
    },
    {
      "cell_type": "markdown",
      "metadata": {
        "id": "03q2vNumz420"
      },
      "source": [
        "1. Самыми перспективными гипотезами являются:\n",
        "* \"добавить форму подписки на все основные страницы, чтобы собрать базу клиентов для email-рассылок\";\n",
        "* \"добавить два новых канала привлечения трафика, что позволит привлекать на 30% больше пользователей\";\n",
        "* \"показать на главной странице баннеры с актуальными акциями и распродажами, чтобы увеличить конверсию\".\n",
        "\n",
        "Данные гипотезы имеют наилучший баланс между силой гипотезы и количеством пользователей, на которых они могут повлиять.\n",
        "\n",
        "---\n",
        "\n",
        "2. Кумулятивная выручка группы А плавно росла на протяжении всего теста. У группы В так же наблюдается плавный рост, но со скачком 19/08/2022, после чего продолжается рост, параллельный группе А. Поскольку к середине теста данные стабилизировались и группа В демонстрировала лучший объем выручки по отношению к группе А, то, исключив скачок и учитывая параллельный рост, можно сделать вывод о том, что куммулятивная выручка группы В выше группы А.\n",
        "\n",
        "---\n",
        "\n",
        "3. Куммулятивный средний чек показывает обратную ситуацию, но с сохранением скачка. У группы В наблюдается резкое падение куммулятивного среднего чека после скачка 19/08/2022. Учитывая стабилизацию показателя группы А с плавным ростом, резкое падение показателя группы В и ее демонстрацию худшего показателя до скачка, нежели показатель группы А, можно сделать вывод о том, что куммулятивный средний чек группы В ниже группы А.\n",
        "\n",
        "---\n",
        "\n",
        "4. Примерно то же самое показывает и куммулятивная разница среднего чека группы В к группе А: после скачка 19/08/2022 наблюдается резкий спад показателя. Поскольку до скачка данный показатель был приближен к 0, то можно сделать вывод о том, что относительная разница демонстрирует преимущество группы А.\n",
        "\n",
        "---\n",
        "\n",
        "5. Куммулятивная конверсия групп стабилизировалась к концу теста. Можно однозначно сказать, что конверсия группы В больше конверсии группы А примерно на `0.5%`.\n",
        "\n",
        "---\n",
        "\n",
        "6. Относительное изменение конверсии группы В к группе А показывает, что с шестого дня теста конверсия группы В больше конверсии группы А. С девятого дня теста относительная разница конверсия группы В по отношению к группе А не опускалась ниже 11.5%. Значения еще колебаются, но тенденция на изменение в обратную сторону не наблюдается, в конце теста наблюдает тенденция на дальнейшее увеличение относительной разницы.\n",
        "\n",
        "---\n",
        "\n",
        "7. Самый дорогой заказ, исказивший результаты теста, был сделан на суму 1,29 млн. 19/08/2019. 99% заказов были сделаны на сумму до 54 тыс., а 95% - меньше 27 тыс.\n",
        "\n",
        "---\n",
        "\n",
        "8. Наибольшее количество заказов на одного пользователя за анализируемый период равно трем. 99% пользователей осуществили два заказа за месяц, а 95% - один.\n",
        "\n",
        "---\n",
        "\n",
        "9. Различия в конверсии групп A и B статистически значима как по \"сырым\" данным, так и по \"очищенным\". По \"сырым\" данным группа В выигрывает у группы А с преимуществом в 16%, по очищенным - 12.2%.\n",
        "\n",
        "---\n",
        "\n",
        "10. Различия в среднем чеке групп A и B статистически не значимы как по \"сырым\" данным, так и по \"очищенным\", p-value равен 41% в обоих случаях при критическом уровне статистической значимости в 5%. По \"сырым\" данным группа В выигрывает у группы А с преимуществом в 28.7%, а по очищенным преимущество у группы А в 0.3%.\n",
        "\n",
        "---\n",
        "\n",
        "**Итог:**\n",
        "\n",
        "Учитывая вышеизложенное, можно остановить тест, т.к. он оказался успешным: группа В показывает лучшую выручку и конверсию по сравнению с группой А. Средний чек группы В меньше среднего чека группы А, но различия статистически не значимы.\n",
        "\n",
        "---\n",
        "\n",
        "*Есть пользователи, которые одновременно попали в группу А и группу В. Это могло произойти из-за того, что не была налажена система разделения трафика между группами, возможно, не был проведен А/А-тест до А/В-теста. По этой причине пришлось удалить данные о заказах 58 пользователей, или 15%. Данное обстоятельство следует учесть при проведении дальнейших исследований.*"
      ]
    }
  ],
  "metadata": {
    "ExecuteTimeLog": [
      {
        "duration": 1438,
        "start_time": "2022-05-06T10:59:25.371Z"
      },
      {
        "duration": 89,
        "start_time": "2022-05-06T10:59:26.811Z"
      },
      {
        "duration": 13,
        "start_time": "2022-05-06T10:59:26.902Z"
      },
      {
        "duration": 11,
        "start_time": "2022-05-06T10:59:26.916Z"
      },
      {
        "duration": 10,
        "start_time": "2022-05-06T10:59:26.929Z"
      },
      {
        "duration": 12,
        "start_time": "2022-05-06T10:59:26.940Z"
      },
      {
        "duration": 11,
        "start_time": "2022-05-06T10:59:26.954Z"
      },
      {
        "duration": 11,
        "start_time": "2022-05-06T10:59:26.966Z"
      },
      {
        "duration": 34,
        "start_time": "2022-05-06T10:59:26.979Z"
      },
      {
        "duration": 19,
        "start_time": "2022-05-06T10:59:27.016Z"
      },
      {
        "duration": 6,
        "start_time": "2022-05-06T10:59:27.037Z"
      },
      {
        "duration": 6,
        "start_time": "2022-05-06T10:59:27.045Z"
      },
      {
        "duration": 7,
        "start_time": "2022-05-06T10:59:27.053Z"
      },
      {
        "duration": 24,
        "start_time": "2022-05-06T10:59:27.062Z"
      },
      {
        "duration": 30,
        "start_time": "2022-05-06T10:59:27.087Z"
      },
      {
        "duration": 19,
        "start_time": "2022-05-06T10:59:27.119Z"
      },
      {
        "duration": 9,
        "start_time": "2022-05-06T10:59:27.139Z"
      },
      {
        "duration": 7,
        "start_time": "2022-05-06T10:59:27.150Z"
      },
      {
        "duration": 6,
        "start_time": "2022-05-06T10:59:27.159Z"
      },
      {
        "duration": 9,
        "start_time": "2022-05-06T10:59:27.166Z"
      },
      {
        "duration": 42,
        "start_time": "2022-05-06T10:59:27.177Z"
      },
      {
        "duration": 7,
        "start_time": "2022-05-06T10:59:27.220Z"
      },
      {
        "duration": 15,
        "start_time": "2022-05-06T10:59:27.229Z"
      },
      {
        "duration": 8,
        "start_time": "2022-05-06T10:59:27.245Z"
      },
      {
        "duration": 7,
        "start_time": "2022-05-06T10:59:27.255Z"
      },
      {
        "duration": 5,
        "start_time": "2022-05-06T10:59:27.264Z"
      },
      {
        "duration": 45,
        "start_time": "2022-05-06T10:59:27.270Z"
      },
      {
        "duration": 11,
        "start_time": "2022-05-06T10:59:27.319Z"
      },
      {
        "duration": 21,
        "start_time": "2022-05-06T10:59:27.331Z"
      },
      {
        "duration": 14,
        "start_time": "2022-05-06T10:59:27.353Z"
      },
      {
        "duration": 26,
        "start_time": "2022-05-06T10:59:27.369Z"
      },
      {
        "duration": 20,
        "start_time": "2022-05-06T10:59:27.397Z"
      },
      {
        "duration": 205,
        "start_time": "2022-05-06T10:59:27.419Z"
      },
      {
        "duration": 130,
        "start_time": "2022-05-06T10:59:27.626Z"
      },
      {
        "duration": 6,
        "start_time": "2022-05-06T10:59:27.758Z"
      },
      {
        "duration": 30,
        "start_time": "2022-05-06T10:59:27.775Z"
      },
      {
        "duration": 310,
        "start_time": "2022-05-06T10:59:27.807Z"
      },
      {
        "duration": 223,
        "start_time": "2022-05-06T10:59:28.119Z"
      },
      {
        "duration": 5,
        "start_time": "2022-05-06T10:59:28.344Z"
      },
      {
        "duration": 371,
        "start_time": "2022-05-06T10:59:28.351Z"
      },
      {
        "duration": 6,
        "start_time": "2022-05-06T10:59:28.723Z"
      },
      {
        "duration": 220,
        "start_time": "2022-05-06T10:59:28.730Z"
      },
      {
        "duration": 8,
        "start_time": "2022-05-06T10:59:28.952Z"
      },
      {
        "duration": 333,
        "start_time": "2022-05-06T10:59:28.961Z"
      },
      {
        "duration": 167,
        "start_time": "2022-05-06T10:59:29.296Z"
      },
      {
        "duration": 159,
        "start_time": "2022-05-06T10:59:29.472Z"
      },
      {
        "duration": 6,
        "start_time": "2022-05-06T10:59:29.633Z"
      },
      {
        "duration": 11,
        "start_time": "2022-05-06T10:59:29.640Z"
      },
      {
        "duration": 55,
        "start_time": "2022-05-06T10:59:29.653Z"
      },
      {
        "duration": 170,
        "start_time": "2022-05-06T10:59:29.709Z"
      },
      {
        "duration": 270,
        "start_time": "2022-05-06T10:59:29.881Z"
      },
      {
        "duration": 6,
        "start_time": "2022-05-06T10:59:30.153Z"
      },
      {
        "duration": 69,
        "start_time": "2022-05-06T10:59:30.160Z"
      },
      {
        "duration": 67,
        "start_time": "2022-05-06T10:59:30.230Z"
      },
      {
        "duration": 65,
        "start_time": "2022-05-06T10:59:30.301Z"
      },
      {
        "duration": 78,
        "start_time": "2022-05-06T10:59:30.368Z"
      },
      {
        "duration": 21,
        "start_time": "2022-05-06T10:59:30.448Z"
      },
      {
        "duration": 87,
        "start_time": "2022-05-06T10:59:30.470Z"
      },
      {
        "duration": 93,
        "start_time": "2022-05-06T10:59:30.559Z"
      },
      {
        "duration": 72,
        "start_time": "2022-05-06T10:59:30.654Z"
      },
      {
        "duration": 10,
        "start_time": "2022-05-06T10:59:30.728Z"
      },
      {
        "duration": 54,
        "start_time": "2022-05-06T10:59:30.740Z"
      },
      {
        "duration": 16,
        "start_time": "2022-05-06T10:59:30.796Z"
      },
      {
        "duration": 15,
        "start_time": "2022-05-06T10:59:30.814Z"
      },
      {
        "duration": 20,
        "start_time": "2022-05-06T10:59:30.830Z"
      },
      {
        "duration": 14,
        "start_time": "2022-05-06T10:59:30.852Z"
      },
      {
        "duration": 55,
        "start_time": "2022-05-06T10:59:30.867Z"
      },
      {
        "duration": 8,
        "start_time": "2022-05-06T10:59:30.924Z"
      },
      {
        "duration": 14,
        "start_time": "2022-05-06T10:59:30.934Z"
      },
      {
        "duration": 163,
        "start_time": "2022-05-06T11:15:47.926Z"
      },
      {
        "duration": 159,
        "start_time": "2022-05-06T11:16:22.542Z"
      },
      {
        "duration": 1483,
        "start_time": "2022-05-08T06:31:17.830Z"
      },
      {
        "duration": 195,
        "start_time": "2022-05-08T06:31:19.315Z"
      },
      {
        "duration": 17,
        "start_time": "2022-05-08T06:31:19.512Z"
      },
      {
        "duration": 20,
        "start_time": "2022-05-08T06:31:19.531Z"
      },
      {
        "duration": 8,
        "start_time": "2022-05-08T06:31:19.553Z"
      },
      {
        "duration": 13,
        "start_time": "2022-05-08T06:31:19.563Z"
      },
      {
        "duration": 39,
        "start_time": "2022-05-08T06:31:19.578Z"
      },
      {
        "duration": 16,
        "start_time": "2022-05-08T06:31:19.620Z"
      },
      {
        "duration": 11,
        "start_time": "2022-05-08T06:31:19.638Z"
      },
      {
        "duration": 13,
        "start_time": "2022-05-08T06:31:19.654Z"
      },
      {
        "duration": 9,
        "start_time": "2022-05-08T06:31:19.693Z"
      },
      {
        "duration": 12,
        "start_time": "2022-05-08T06:31:19.705Z"
      },
      {
        "duration": 7,
        "start_time": "2022-05-08T06:31:19.719Z"
      },
      {
        "duration": 31,
        "start_time": "2022-05-08T06:31:19.728Z"
      },
      {
        "duration": 35,
        "start_time": "2022-05-08T06:31:19.761Z"
      },
      {
        "duration": 29,
        "start_time": "2022-05-08T06:31:19.799Z"
      },
      {
        "duration": 8,
        "start_time": "2022-05-08T06:31:19.830Z"
      },
      {
        "duration": 8,
        "start_time": "2022-05-08T06:31:19.840Z"
      },
      {
        "duration": 8,
        "start_time": "2022-05-08T06:31:19.850Z"
      },
      {
        "duration": 41,
        "start_time": "2022-05-08T06:31:19.860Z"
      },
      {
        "duration": 16,
        "start_time": "2022-05-08T06:31:19.903Z"
      },
      {
        "duration": 8,
        "start_time": "2022-05-08T06:31:19.921Z"
      },
      {
        "duration": 18,
        "start_time": "2022-05-08T06:31:19.931Z"
      },
      {
        "duration": 6,
        "start_time": "2022-05-08T06:31:19.951Z"
      },
      {
        "duration": 9,
        "start_time": "2022-05-08T06:31:19.960Z"
      },
      {
        "duration": 5,
        "start_time": "2022-05-08T06:31:20.002Z"
      },
      {
        "duration": 11,
        "start_time": "2022-05-08T06:31:20.009Z"
      },
      {
        "duration": 15,
        "start_time": "2022-05-08T06:31:20.027Z"
      },
      {
        "duration": 16,
        "start_time": "2022-05-08T06:31:20.044Z"
      },
      {
        "duration": 46,
        "start_time": "2022-05-08T06:31:20.062Z"
      },
      {
        "duration": 18,
        "start_time": "2022-05-08T06:31:20.110Z"
      },
      {
        "duration": 13,
        "start_time": "2022-05-08T06:31:20.130Z"
      },
      {
        "duration": 307,
        "start_time": "2022-05-08T06:31:20.145Z"
      },
      {
        "duration": 212,
        "start_time": "2022-05-08T06:31:20.454Z"
      },
      {
        "duration": 39,
        "start_time": "2022-05-08T06:31:20.669Z"
      },
      {
        "duration": 15,
        "start_time": "2022-05-08T06:31:20.710Z"
      },
      {
        "duration": 441,
        "start_time": "2022-05-08T06:31:20.727Z"
      },
      {
        "duration": 328,
        "start_time": "2022-05-08T06:31:21.170Z"
      },
      {
        "duration": 13,
        "start_time": "2022-05-08T06:31:21.500Z"
      },
      {
        "duration": 383,
        "start_time": "2022-05-08T06:31:21.515Z"
      },
      {
        "duration": 9,
        "start_time": "2022-05-08T06:31:21.901Z"
      },
      {
        "duration": 303,
        "start_time": "2022-05-08T06:31:21.912Z"
      },
      {
        "duration": 10,
        "start_time": "2022-05-08T06:31:22.217Z"
      },
      {
        "duration": 403,
        "start_time": "2022-05-08T06:31:22.229Z"
      },
      {
        "duration": 238,
        "start_time": "2022-05-08T06:31:22.634Z"
      },
      {
        "duration": 232,
        "start_time": "2022-05-08T06:31:22.875Z"
      },
      {
        "duration": 7,
        "start_time": "2022-05-08T06:31:23.109Z"
      },
      {
        "duration": 17,
        "start_time": "2022-05-08T06:31:23.118Z"
      },
      {
        "duration": 18,
        "start_time": "2022-05-08T06:31:23.137Z"
      },
      {
        "duration": 283,
        "start_time": "2022-05-08T06:31:23.157Z"
      },
      {
        "duration": 369,
        "start_time": "2022-05-08T06:31:23.442Z"
      },
      {
        "duration": 9,
        "start_time": "2022-05-08T06:31:23.814Z"
      },
      {
        "duration": 113,
        "start_time": "2022-05-08T06:31:23.826Z"
      },
      {
        "duration": 81,
        "start_time": "2022-05-08T06:31:23.941Z"
      },
      {
        "duration": 106,
        "start_time": "2022-05-08T06:31:24.025Z"
      },
      {
        "duration": 116,
        "start_time": "2022-05-08T06:31:24.133Z"
      },
      {
        "duration": 61,
        "start_time": "2022-05-08T06:31:24.252Z"
      },
      {
        "duration": 128,
        "start_time": "2022-05-08T06:31:24.315Z"
      },
      {
        "duration": 170,
        "start_time": "2022-05-08T06:31:24.445Z"
      },
      {
        "duration": 6,
        "start_time": "2022-05-08T06:31:24.617Z"
      },
      {
        "duration": 9,
        "start_time": "2022-05-08T06:31:24.626Z"
      },
      {
        "duration": 32,
        "start_time": "2022-05-08T06:31:24.637Z"
      },
      {
        "duration": 36,
        "start_time": "2022-05-08T06:31:24.671Z"
      },
      {
        "duration": 20,
        "start_time": "2022-05-08T06:31:24.710Z"
      },
      {
        "duration": 10,
        "start_time": "2022-05-08T06:31:24.732Z"
      },
      {
        "duration": 16,
        "start_time": "2022-05-08T06:31:24.745Z"
      },
      {
        "duration": 62,
        "start_time": "2022-05-08T06:31:24.764Z"
      },
      {
        "duration": 12,
        "start_time": "2022-05-08T06:31:24.828Z"
      },
      {
        "duration": 18,
        "start_time": "2022-05-08T06:31:24.843Z"
      },
      {
        "duration": 31,
        "start_time": "2022-05-08T06:39:50.929Z"
      }
    ],
    "colab": {
      "collapsed_sections": [],
      "name": "4c295031-8a51-48aa-b574-9763938ba403.ipynb",
      "provenance": []
    },
    "kernelspec": {
      "display_name": "Python 3 (ipykernel)",
      "language": "python",
      "name": "python3"
    },
    "language_info": {
      "codemirror_mode": {
        "name": "ipython",
        "version": 3
      },
      "file_extension": ".py",
      "mimetype": "text/x-python",
      "name": "python",
      "nbconvert_exporter": "python",
      "pygments_lexer": "ipython3",
      "version": "3.9.5"
    },
    "toc": {
      "base_numbering": 1,
      "nav_menu": {},
      "number_sections": true,
      "sideBar": true,
      "skip_h1_title": true,
      "title_cell": "Table of Contents",
      "title_sidebar": "Contents",
      "toc_cell": false,
      "toc_position": {
        "height": "calc(100% - 180px)",
        "left": "10px",
        "top": "150px",
        "width": "165px"
      },
      "toc_section_display": true,
      "toc_window_display": true
    }
  },
  "nbformat": 4,
  "nbformat_minor": 0
}