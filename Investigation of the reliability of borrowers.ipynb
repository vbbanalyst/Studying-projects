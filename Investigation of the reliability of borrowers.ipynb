{
  "cells": [
    {
      "cell_type": "markdown",
      "id": "8bbd01a5",
      "metadata": {
        "id": "8bbd01a5"
      },
      "source": [
        "# Исследование надежности заемщиков"
      ]
    },
    {
      "cell_type": "markdown",
      "id": "a8f273e1",
      "metadata": {
        "id": "a8f273e1"
      },
      "source": [
        "   \n",
        "**Краткое описание:** Заказчик — кредитный отдел банка.  Результаты исследования будут учтены при построении модели кредитного скоринга — специальной системы, которая оценивает способность потенциального заёмщика вернуть кредит банку.\n",
        "    \n",
        "**Цель проекта:** Определить, влияет ли семейное положение и количество детей клиента на факт погашения кредита в срок.\n",
        "    \n",
        "**Описание данных:** Входные данные от банка, подлежащие анализу, — статистика о платёжеспособности клиентов. Таблица с данными состоит из следующих колонок:\n",
        "\n",
        "* `'children'` — количество детей в семье.\n",
        "* `'days_employed'` — общий трудовой стаж в днях.\n",
        "* `'dob_years'` — возраст клиента в годах.\n",
        "* `'education'` — уровень образования клиента.\n",
        "* `'education_id'` — идентификатор уровня образования.\n",
        "* `'family_status'` — семейное положение.\n",
        "* `'family_status_id'` — идентификатор семейного положения.\n",
        "* `'gender'` — пол клиента.\n",
        "* `'income_type'` — тип занятости.\n",
        "* `'debt'` — имел ли задолженность по возврату кредитов.\n",
        "* `'total_income'` — ежемесячный доход.\n",
        "* `'purpose'` — цель получения кредита.\n",
        "    \n",
        "**План работы:**\n",
        "1. выгрузить данные, осуществить первичный обзор;\n",
        "2. определить, есть ли пропуски в данных; заполнить пропуски или удалить строки с пропусками;\n",
        "3. проверить данные на аномалии, исправить их;\n",
        "4. проверить данные на наличие явных и неявных дубликатов, исправить данные;\n",
        "5. изменение типов данных;\n",
        "6. формирование новых датафреймов, декомпозиция основного датафрейма;\n",
        "7. анализ данных в соответствии с поставленной целью проекта;\n",
        "8. сформировать вывод, полученный из результатов анализа."
      ]
    },
    {
      "cell_type": "markdown",
      "id": "3d53f22e",
      "metadata": {
        "id": "3d53f22e"
      },
      "source": [
        "### Обзор данных"
      ]
    },
    {
      "cell_type": "code",
      "source": [
        "import pandas as pd"
      ],
      "metadata": {
        "id": "7Ttc3LpohxTB"
      },
      "id": "7Ttc3LpohxTB",
      "execution_count": 1,
      "outputs": []
    },
    {
      "cell_type": "code",
      "execution_count": 2,
      "id": "80b5226d",
      "metadata": {
        "scrolled": true,
        "colab": {
          "base_uri": "https://localhost:8080/",
          "height": 363
        },
        "id": "80b5226d",
        "outputId": "de4d9ff9-3d48-4f36-ce2c-58aabf883bb2"
      },
      "outputs": [
        {
          "output_type": "execute_result",
          "data": {
            "text/plain": [
              "   children  days_employed  dob_years education  education_id  \\\n",
              "0         1   -8437.673028         42    высшее             0   \n",
              "1         1   -4024.803754         36   среднее             1   \n",
              "2         0   -5623.422610         33   Среднее             1   \n",
              "3         3   -4124.747207         32   среднее             1   \n",
              "4         0  340266.072047         53   среднее             1   \n",
              "5         0    -926.185831         27    высшее             0   \n",
              "6         0   -2879.202052         43    высшее             0   \n",
              "7         0    -152.779569         50   СРЕДНЕЕ             1   \n",
              "8         2   -6929.865299         35    ВЫСШЕЕ             0   \n",
              "9         0   -2188.756445         41   среднее             1   \n",
              "\n",
              "      family_status  family_status_id gender income_type  debt   total_income  \\\n",
              "0   женат / замужем                 0      F   сотрудник     0  253875.639453   \n",
              "1   женат / замужем                 0      F   сотрудник     0  112080.014102   \n",
              "2   женат / замужем                 0      M   сотрудник     0  145885.952297   \n",
              "3   женат / замужем                 0      M   сотрудник     0  267628.550329   \n",
              "4  гражданский брак                 1      F   пенсионер     0  158616.077870   \n",
              "5  гражданский брак                 1      M   компаньон     0  255763.565419   \n",
              "6   женат / замужем                 0      F   компаньон     0  240525.971920   \n",
              "7   женат / замужем                 0      M   сотрудник     0  135823.934197   \n",
              "8  гражданский брак                 1      F   сотрудник     0   95856.832424   \n",
              "9   женат / замужем                 0      M   сотрудник     0  144425.938277   \n",
              "\n",
              "                      purpose  \n",
              "0               покупка жилья  \n",
              "1     приобретение автомобиля  \n",
              "2               покупка жилья  \n",
              "3  дополнительное образование  \n",
              "4             сыграть свадьбу  \n",
              "5               покупка жилья  \n",
              "6           операции с жильем  \n",
              "7                 образование  \n",
              "8       на проведение свадьбы  \n",
              "9     покупка жилья для семьи  "
            ],
            "text/html": [
              "\n",
              "  <div id=\"df-61a43649-fde7-48dd-a1a5-1cb3f0f899cc\">\n",
              "    <div class=\"colab-df-container\">\n",
              "      <div>\n",
              "<style scoped>\n",
              "    .dataframe tbody tr th:only-of-type {\n",
              "        vertical-align: middle;\n",
              "    }\n",
              "\n",
              "    .dataframe tbody tr th {\n",
              "        vertical-align: top;\n",
              "    }\n",
              "\n",
              "    .dataframe thead th {\n",
              "        text-align: right;\n",
              "    }\n",
              "</style>\n",
              "<table border=\"1\" class=\"dataframe\">\n",
              "  <thead>\n",
              "    <tr style=\"text-align: right;\">\n",
              "      <th></th>\n",
              "      <th>children</th>\n",
              "      <th>days_employed</th>\n",
              "      <th>dob_years</th>\n",
              "      <th>education</th>\n",
              "      <th>education_id</th>\n",
              "      <th>family_status</th>\n",
              "      <th>family_status_id</th>\n",
              "      <th>gender</th>\n",
              "      <th>income_type</th>\n",
              "      <th>debt</th>\n",
              "      <th>total_income</th>\n",
              "      <th>purpose</th>\n",
              "    </tr>\n",
              "  </thead>\n",
              "  <tbody>\n",
              "    <tr>\n",
              "      <th>0</th>\n",
              "      <td>1</td>\n",
              "      <td>-8437.673028</td>\n",
              "      <td>42</td>\n",
              "      <td>высшее</td>\n",
              "      <td>0</td>\n",
              "      <td>женат / замужем</td>\n",
              "      <td>0</td>\n",
              "      <td>F</td>\n",
              "      <td>сотрудник</td>\n",
              "      <td>0</td>\n",
              "      <td>253875.639453</td>\n",
              "      <td>покупка жилья</td>\n",
              "    </tr>\n",
              "    <tr>\n",
              "      <th>1</th>\n",
              "      <td>1</td>\n",
              "      <td>-4024.803754</td>\n",
              "      <td>36</td>\n",
              "      <td>среднее</td>\n",
              "      <td>1</td>\n",
              "      <td>женат / замужем</td>\n",
              "      <td>0</td>\n",
              "      <td>F</td>\n",
              "      <td>сотрудник</td>\n",
              "      <td>0</td>\n",
              "      <td>112080.014102</td>\n",
              "      <td>приобретение автомобиля</td>\n",
              "    </tr>\n",
              "    <tr>\n",
              "      <th>2</th>\n",
              "      <td>0</td>\n",
              "      <td>-5623.422610</td>\n",
              "      <td>33</td>\n",
              "      <td>Среднее</td>\n",
              "      <td>1</td>\n",
              "      <td>женат / замужем</td>\n",
              "      <td>0</td>\n",
              "      <td>M</td>\n",
              "      <td>сотрудник</td>\n",
              "      <td>0</td>\n",
              "      <td>145885.952297</td>\n",
              "      <td>покупка жилья</td>\n",
              "    </tr>\n",
              "    <tr>\n",
              "      <th>3</th>\n",
              "      <td>3</td>\n",
              "      <td>-4124.747207</td>\n",
              "      <td>32</td>\n",
              "      <td>среднее</td>\n",
              "      <td>1</td>\n",
              "      <td>женат / замужем</td>\n",
              "      <td>0</td>\n",
              "      <td>M</td>\n",
              "      <td>сотрудник</td>\n",
              "      <td>0</td>\n",
              "      <td>267628.550329</td>\n",
              "      <td>дополнительное образование</td>\n",
              "    </tr>\n",
              "    <tr>\n",
              "      <th>4</th>\n",
              "      <td>0</td>\n",
              "      <td>340266.072047</td>\n",
              "      <td>53</td>\n",
              "      <td>среднее</td>\n",
              "      <td>1</td>\n",
              "      <td>гражданский брак</td>\n",
              "      <td>1</td>\n",
              "      <td>F</td>\n",
              "      <td>пенсионер</td>\n",
              "      <td>0</td>\n",
              "      <td>158616.077870</td>\n",
              "      <td>сыграть свадьбу</td>\n",
              "    </tr>\n",
              "    <tr>\n",
              "      <th>5</th>\n",
              "      <td>0</td>\n",
              "      <td>-926.185831</td>\n",
              "      <td>27</td>\n",
              "      <td>высшее</td>\n",
              "      <td>0</td>\n",
              "      <td>гражданский брак</td>\n",
              "      <td>1</td>\n",
              "      <td>M</td>\n",
              "      <td>компаньон</td>\n",
              "      <td>0</td>\n",
              "      <td>255763.565419</td>\n",
              "      <td>покупка жилья</td>\n",
              "    </tr>\n",
              "    <tr>\n",
              "      <th>6</th>\n",
              "      <td>0</td>\n",
              "      <td>-2879.202052</td>\n",
              "      <td>43</td>\n",
              "      <td>высшее</td>\n",
              "      <td>0</td>\n",
              "      <td>женат / замужем</td>\n",
              "      <td>0</td>\n",
              "      <td>F</td>\n",
              "      <td>компаньон</td>\n",
              "      <td>0</td>\n",
              "      <td>240525.971920</td>\n",
              "      <td>операции с жильем</td>\n",
              "    </tr>\n",
              "    <tr>\n",
              "      <th>7</th>\n",
              "      <td>0</td>\n",
              "      <td>-152.779569</td>\n",
              "      <td>50</td>\n",
              "      <td>СРЕДНЕЕ</td>\n",
              "      <td>1</td>\n",
              "      <td>женат / замужем</td>\n",
              "      <td>0</td>\n",
              "      <td>M</td>\n",
              "      <td>сотрудник</td>\n",
              "      <td>0</td>\n",
              "      <td>135823.934197</td>\n",
              "      <td>образование</td>\n",
              "    </tr>\n",
              "    <tr>\n",
              "      <th>8</th>\n",
              "      <td>2</td>\n",
              "      <td>-6929.865299</td>\n",
              "      <td>35</td>\n",
              "      <td>ВЫСШЕЕ</td>\n",
              "      <td>0</td>\n",
              "      <td>гражданский брак</td>\n",
              "      <td>1</td>\n",
              "      <td>F</td>\n",
              "      <td>сотрудник</td>\n",
              "      <td>0</td>\n",
              "      <td>95856.832424</td>\n",
              "      <td>на проведение свадьбы</td>\n",
              "    </tr>\n",
              "    <tr>\n",
              "      <th>9</th>\n",
              "      <td>0</td>\n",
              "      <td>-2188.756445</td>\n",
              "      <td>41</td>\n",
              "      <td>среднее</td>\n",
              "      <td>1</td>\n",
              "      <td>женат / замужем</td>\n",
              "      <td>0</td>\n",
              "      <td>M</td>\n",
              "      <td>сотрудник</td>\n",
              "      <td>0</td>\n",
              "      <td>144425.938277</td>\n",
              "      <td>покупка жилья для семьи</td>\n",
              "    </tr>\n",
              "  </tbody>\n",
              "</table>\n",
              "</div>\n",
              "      <button class=\"colab-df-convert\" onclick=\"convertToInteractive('df-61a43649-fde7-48dd-a1a5-1cb3f0f899cc')\"\n",
              "              title=\"Convert this dataframe to an interactive table.\"\n",
              "              style=\"display:none;\">\n",
              "        \n",
              "  <svg xmlns=\"http://www.w3.org/2000/svg\" height=\"24px\"viewBox=\"0 0 24 24\"\n",
              "       width=\"24px\">\n",
              "    <path d=\"M0 0h24v24H0V0z\" fill=\"none\"/>\n",
              "    <path d=\"M18.56 5.44l.94 2.06.94-2.06 2.06-.94-2.06-.94-.94-2.06-.94 2.06-2.06.94zm-11 1L8.5 8.5l.94-2.06 2.06-.94-2.06-.94L8.5 2.5l-.94 2.06-2.06.94zm10 10l.94 2.06.94-2.06 2.06-.94-2.06-.94-.94-2.06-.94 2.06-2.06.94z\"/><path d=\"M17.41 7.96l-1.37-1.37c-.4-.4-.92-.59-1.43-.59-.52 0-1.04.2-1.43.59L10.3 9.45l-7.72 7.72c-.78.78-.78 2.05 0 2.83L4 21.41c.39.39.9.59 1.41.59.51 0 1.02-.2 1.41-.59l7.78-7.78 2.81-2.81c.8-.78.8-2.07 0-2.86zM5.41 20L4 18.59l7.72-7.72 1.47 1.35L5.41 20z\"/>\n",
              "  </svg>\n",
              "      </button>\n",
              "      \n",
              "  <style>\n",
              "    .colab-df-container {\n",
              "      display:flex;\n",
              "      flex-wrap:wrap;\n",
              "      gap: 12px;\n",
              "    }\n",
              "\n",
              "    .colab-df-convert {\n",
              "      background-color: #E8F0FE;\n",
              "      border: none;\n",
              "      border-radius: 50%;\n",
              "      cursor: pointer;\n",
              "      display: none;\n",
              "      fill: #1967D2;\n",
              "      height: 32px;\n",
              "      padding: 0 0 0 0;\n",
              "      width: 32px;\n",
              "    }\n",
              "\n",
              "    .colab-df-convert:hover {\n",
              "      background-color: #E2EBFA;\n",
              "      box-shadow: 0px 1px 2px rgba(60, 64, 67, 0.3), 0px 1px 3px 1px rgba(60, 64, 67, 0.15);\n",
              "      fill: #174EA6;\n",
              "    }\n",
              "\n",
              "    [theme=dark] .colab-df-convert {\n",
              "      background-color: #3B4455;\n",
              "      fill: #D2E3FC;\n",
              "    }\n",
              "\n",
              "    [theme=dark] .colab-df-convert:hover {\n",
              "      background-color: #434B5C;\n",
              "      box-shadow: 0px 1px 3px 1px rgba(0, 0, 0, 0.15);\n",
              "      filter: drop-shadow(0px 1px 2px rgba(0, 0, 0, 0.3));\n",
              "      fill: #FFFFFF;\n",
              "    }\n",
              "  </style>\n",
              "\n",
              "      <script>\n",
              "        const buttonEl =\n",
              "          document.querySelector('#df-61a43649-fde7-48dd-a1a5-1cb3f0f899cc button.colab-df-convert');\n",
              "        buttonEl.style.display =\n",
              "          google.colab.kernel.accessAllowed ? 'block' : 'none';\n",
              "\n",
              "        async function convertToInteractive(key) {\n",
              "          const element = document.querySelector('#df-61a43649-fde7-48dd-a1a5-1cb3f0f899cc');\n",
              "          const dataTable =\n",
              "            await google.colab.kernel.invokeFunction('convertToInteractive',\n",
              "                                                     [key], {});\n",
              "          if (!dataTable) return;\n",
              "\n",
              "          const docLinkHtml = 'Like what you see? Visit the ' +\n",
              "            '<a target=\"_blank\" href=https://colab.research.google.com/notebooks/data_table.ipynb>data table notebook</a>'\n",
              "            + ' to learn more about interactive tables.';\n",
              "          element.innerHTML = '';\n",
              "          dataTable['output_type'] = 'display_data';\n",
              "          await google.colab.output.renderOutput(dataTable, element);\n",
              "          const docLink = document.createElement('div');\n",
              "          docLink.innerHTML = docLinkHtml;\n",
              "          element.appendChild(docLink);\n",
              "        }\n",
              "      </script>\n",
              "    </div>\n",
              "  </div>\n",
              "  "
            ]
          },
          "metadata": {},
          "execution_count": 2
        }
      ],
      "source": [
        "df = pd.read_csv('data.csv')\n",
        "\n",
        "df.head(10)"
      ]
    },
    {
      "cell_type": "code",
      "execution_count": 3,
      "id": "213e6799",
      "metadata": {
        "colab": {
          "base_uri": "https://localhost:8080/"
        },
        "id": "213e6799",
        "outputId": "540f44fa-9dfe-4326-e100-62c55e8c3b0f"
      },
      "outputs": [
        {
          "output_type": "stream",
          "name": "stdout",
          "text": [
            "<class 'pandas.core.frame.DataFrame'>\n",
            "RangeIndex: 21525 entries, 0 to 21524\n",
            "Data columns (total 12 columns):\n",
            " #   Column            Non-Null Count  Dtype  \n",
            "---  ------            --------------  -----  \n",
            " 0   children          21525 non-null  int64  \n",
            " 1   days_employed     19351 non-null  float64\n",
            " 2   dob_years         21525 non-null  int64  \n",
            " 3   education         21525 non-null  object \n",
            " 4   education_id      21525 non-null  int64  \n",
            " 5   family_status     21525 non-null  object \n",
            " 6   family_status_id  21525 non-null  int64  \n",
            " 7   gender            21525 non-null  object \n",
            " 8   income_type       21525 non-null  object \n",
            " 9   debt              21525 non-null  int64  \n",
            " 10  total_income      19351 non-null  float64\n",
            " 11  purpose           21525 non-null  object \n",
            "dtypes: float64(2), int64(5), object(5)\n",
            "memory usage: 2.0+ MB\n"
          ]
        }
      ],
      "source": [
        "df.info()"
      ]
    },
    {
      "cell_type": "code",
      "execution_count": 4,
      "id": "3ae7cca3",
      "metadata": {
        "colab": {
          "base_uri": "https://localhost:8080/"
        },
        "id": "3ae7cca3",
        "outputId": "61c523bf-851f-4a28-ce75-99ad996e37af"
      },
      "outputs": [
        {
          "output_type": "execute_result",
          "data": {
            "text/plain": [
              "Index(['children', 'days_employed', 'dob_years', 'education', 'education_id',\n",
              "       'family_status', 'family_status_id', 'gender', 'income_type', 'debt',\n",
              "       'total_income', 'purpose'],\n",
              "      dtype='object')"
            ]
          },
          "metadata": {},
          "execution_count": 4
        }
      ],
      "source": [
        "df.columns"
      ]
    },
    {
      "cell_type": "markdown",
      "id": "c57b6909",
      "metadata": {
        "id": "c57b6909"
      },
      "source": [
        "<b>Проблемы, выявенные после первичного обзора данных:</b>\n",
        "\n",
        "1. В колонке `'days_employed'` должен быть указан трудовой стаж в днях. Однако в ней есть отрицательные значения, а сами значения кажутся слишком большими, что нереалистично.\n",
        "\n",
        "\n",
        "2. В колонках `'total_income'` и `'days_employed'` есть пропуски.\n",
        "\n",
        "\n",
        "3. В колонке `'education'` строчные буквы сочетаются с прописными.\n"
      ]
    },
    {
      "cell_type": "markdown",
      "id": "e6877350",
      "metadata": {
        "id": "e6877350"
      },
      "source": [
        "### Заполнение пропусков"
      ]
    },
    {
      "cell_type": "markdown",
      "id": "28c3aa1b",
      "metadata": {
        "id": "28c3aa1b"
      },
      "source": [
        "#### Расчет количества пропущенных значений в таблице."
      ]
    },
    {
      "cell_type": "code",
      "execution_count": 5,
      "id": "daff0ba0",
      "metadata": {
        "colab": {
          "base_uri": "https://localhost:8080/"
        },
        "id": "daff0ba0",
        "outputId": "57e255da-573f-45b9-a3e9-391430c52ef7"
      },
      "outputs": [
        {
          "output_type": "execute_result",
          "data": {
            "text/plain": [
              "children               0\n",
              "days_employed       2174\n",
              "dob_years              0\n",
              "education              0\n",
              "education_id           0\n",
              "family_status          0\n",
              "family_status_id       0\n",
              "gender                 0\n",
              "income_type            0\n",
              "debt                   0\n",
              "total_income        2174\n",
              "purpose                0\n",
              "dtype: int64"
            ]
          },
          "metadata": {},
          "execution_count": 5
        }
      ],
      "source": [
        "df.isna().sum()"
      ]
    },
    {
      "cell_type": "markdown",
      "id": "10fa39f9",
      "metadata": {
        "id": "10fa39f9"
      },
      "source": [
        "Количество пропусков в колонках `'total_income'` и `'days_employed'` совпадает и равняется `2174`. Эти пропуски могут быть взаимосвязаны, поскольку неработающие люди не имеют ежемесячного дохода."
      ]
    },
    {
      "cell_type": "markdown",
      "id": "c639c434",
      "metadata": {
        "id": "c639c434"
      },
      "source": [
        "#### Вывод строк с пропущенными значениями, отвечающих двум условиям."
      ]
    },
    {
      "cell_type": "code",
      "execution_count": 6,
      "id": "31d26c11",
      "metadata": {
        "colab": {
          "base_uri": "https://localhost:8080/",
          "height": 520
        },
        "id": "31d26c11",
        "outputId": "1b258a21-7938-4a99-d926-8bafbc2eb4bb"
      },
      "outputs": [
        {
          "output_type": "execute_result",
          "data": {
            "text/plain": [
              "       children  days_employed  dob_years education  education_id  \\\n",
              "12            0            NaN         65   среднее             1   \n",
              "26            0            NaN         41   среднее             1   \n",
              "29            0            NaN         63   среднее             1   \n",
              "41            0            NaN         50   среднее             1   \n",
              "55            0            NaN         54   среднее             1   \n",
              "...         ...            ...        ...       ...           ...   \n",
              "21489         2            NaN         47   Среднее             1   \n",
              "21495         1            NaN         50   среднее             1   \n",
              "21497         0            NaN         48    ВЫСШЕЕ             0   \n",
              "21502         1            NaN         42   среднее             1   \n",
              "21510         2            NaN         28   среднее             1   \n",
              "\n",
              "               family_status  family_status_id gender  income_type  debt  \\\n",
              "12          гражданский брак                 1      M    пенсионер     0   \n",
              "26           женат / замужем                 0      M  госслужащий     0   \n",
              "29     Не женат / не замужем                 4      F    пенсионер     0   \n",
              "41           женат / замужем                 0      F  госслужащий     0   \n",
              "55          гражданский брак                 1      F    пенсионер     1   \n",
              "...                      ...               ...    ...          ...   ...   \n",
              "21489        женат / замужем                 0      M    компаньон     0   \n",
              "21495       гражданский брак                 1      F    сотрудник     0   \n",
              "21497        женат / замужем                 0      F    компаньон     0   \n",
              "21502        женат / замужем                 0      F    сотрудник     0   \n",
              "21510        женат / замужем                 0      F    сотрудник     0   \n",
              "\n",
              "       total_income                           purpose  \n",
              "12              NaN                   сыграть свадьбу  \n",
              "26              NaN                       образование  \n",
              "29              NaN  строительство жилой недвижимости  \n",
              "41              NaN  сделка с подержанным автомобилем  \n",
              "55              NaN                   сыграть свадьбу  \n",
              "...             ...                               ...  \n",
              "21489           NaN              сделка с автомобилем  \n",
              "21495           NaN                           свадьба  \n",
              "21497           NaN        строительство недвижимости  \n",
              "21502           NaN  строительство жилой недвижимости  \n",
              "21510           NaN           приобретение автомобиля  \n",
              "\n",
              "[2174 rows x 12 columns]"
            ],
            "text/html": [
              "\n",
              "  <div id=\"df-181ed480-ee33-4b50-8ce4-065218595cdc\">\n",
              "    <div class=\"colab-df-container\">\n",
              "      <div>\n",
              "<style scoped>\n",
              "    .dataframe tbody tr th:only-of-type {\n",
              "        vertical-align: middle;\n",
              "    }\n",
              "\n",
              "    .dataframe tbody tr th {\n",
              "        vertical-align: top;\n",
              "    }\n",
              "\n",
              "    .dataframe thead th {\n",
              "        text-align: right;\n",
              "    }\n",
              "</style>\n",
              "<table border=\"1\" class=\"dataframe\">\n",
              "  <thead>\n",
              "    <tr style=\"text-align: right;\">\n",
              "      <th></th>\n",
              "      <th>children</th>\n",
              "      <th>days_employed</th>\n",
              "      <th>dob_years</th>\n",
              "      <th>education</th>\n",
              "      <th>education_id</th>\n",
              "      <th>family_status</th>\n",
              "      <th>family_status_id</th>\n",
              "      <th>gender</th>\n",
              "      <th>income_type</th>\n",
              "      <th>debt</th>\n",
              "      <th>total_income</th>\n",
              "      <th>purpose</th>\n",
              "    </tr>\n",
              "  </thead>\n",
              "  <tbody>\n",
              "    <tr>\n",
              "      <th>12</th>\n",
              "      <td>0</td>\n",
              "      <td>NaN</td>\n",
              "      <td>65</td>\n",
              "      <td>среднее</td>\n",
              "      <td>1</td>\n",
              "      <td>гражданский брак</td>\n",
              "      <td>1</td>\n",
              "      <td>M</td>\n",
              "      <td>пенсионер</td>\n",
              "      <td>0</td>\n",
              "      <td>NaN</td>\n",
              "      <td>сыграть свадьбу</td>\n",
              "    </tr>\n",
              "    <tr>\n",
              "      <th>26</th>\n",
              "      <td>0</td>\n",
              "      <td>NaN</td>\n",
              "      <td>41</td>\n",
              "      <td>среднее</td>\n",
              "      <td>1</td>\n",
              "      <td>женат / замужем</td>\n",
              "      <td>0</td>\n",
              "      <td>M</td>\n",
              "      <td>госслужащий</td>\n",
              "      <td>0</td>\n",
              "      <td>NaN</td>\n",
              "      <td>образование</td>\n",
              "    </tr>\n",
              "    <tr>\n",
              "      <th>29</th>\n",
              "      <td>0</td>\n",
              "      <td>NaN</td>\n",
              "      <td>63</td>\n",
              "      <td>среднее</td>\n",
              "      <td>1</td>\n",
              "      <td>Не женат / не замужем</td>\n",
              "      <td>4</td>\n",
              "      <td>F</td>\n",
              "      <td>пенсионер</td>\n",
              "      <td>0</td>\n",
              "      <td>NaN</td>\n",
              "      <td>строительство жилой недвижимости</td>\n",
              "    </tr>\n",
              "    <tr>\n",
              "      <th>41</th>\n",
              "      <td>0</td>\n",
              "      <td>NaN</td>\n",
              "      <td>50</td>\n",
              "      <td>среднее</td>\n",
              "      <td>1</td>\n",
              "      <td>женат / замужем</td>\n",
              "      <td>0</td>\n",
              "      <td>F</td>\n",
              "      <td>госслужащий</td>\n",
              "      <td>0</td>\n",
              "      <td>NaN</td>\n",
              "      <td>сделка с подержанным автомобилем</td>\n",
              "    </tr>\n",
              "    <tr>\n",
              "      <th>55</th>\n",
              "      <td>0</td>\n",
              "      <td>NaN</td>\n",
              "      <td>54</td>\n",
              "      <td>среднее</td>\n",
              "      <td>1</td>\n",
              "      <td>гражданский брак</td>\n",
              "      <td>1</td>\n",
              "      <td>F</td>\n",
              "      <td>пенсионер</td>\n",
              "      <td>1</td>\n",
              "      <td>NaN</td>\n",
              "      <td>сыграть свадьбу</td>\n",
              "    </tr>\n",
              "    <tr>\n",
              "      <th>...</th>\n",
              "      <td>...</td>\n",
              "      <td>...</td>\n",
              "      <td>...</td>\n",
              "      <td>...</td>\n",
              "      <td>...</td>\n",
              "      <td>...</td>\n",
              "      <td>...</td>\n",
              "      <td>...</td>\n",
              "      <td>...</td>\n",
              "      <td>...</td>\n",
              "      <td>...</td>\n",
              "      <td>...</td>\n",
              "    </tr>\n",
              "    <tr>\n",
              "      <th>21489</th>\n",
              "      <td>2</td>\n",
              "      <td>NaN</td>\n",
              "      <td>47</td>\n",
              "      <td>Среднее</td>\n",
              "      <td>1</td>\n",
              "      <td>женат / замужем</td>\n",
              "      <td>0</td>\n",
              "      <td>M</td>\n",
              "      <td>компаньон</td>\n",
              "      <td>0</td>\n",
              "      <td>NaN</td>\n",
              "      <td>сделка с автомобилем</td>\n",
              "    </tr>\n",
              "    <tr>\n",
              "      <th>21495</th>\n",
              "      <td>1</td>\n",
              "      <td>NaN</td>\n",
              "      <td>50</td>\n",
              "      <td>среднее</td>\n",
              "      <td>1</td>\n",
              "      <td>гражданский брак</td>\n",
              "      <td>1</td>\n",
              "      <td>F</td>\n",
              "      <td>сотрудник</td>\n",
              "      <td>0</td>\n",
              "      <td>NaN</td>\n",
              "      <td>свадьба</td>\n",
              "    </tr>\n",
              "    <tr>\n",
              "      <th>21497</th>\n",
              "      <td>0</td>\n",
              "      <td>NaN</td>\n",
              "      <td>48</td>\n",
              "      <td>ВЫСШЕЕ</td>\n",
              "      <td>0</td>\n",
              "      <td>женат / замужем</td>\n",
              "      <td>0</td>\n",
              "      <td>F</td>\n",
              "      <td>компаньон</td>\n",
              "      <td>0</td>\n",
              "      <td>NaN</td>\n",
              "      <td>строительство недвижимости</td>\n",
              "    </tr>\n",
              "    <tr>\n",
              "      <th>21502</th>\n",
              "      <td>1</td>\n",
              "      <td>NaN</td>\n",
              "      <td>42</td>\n",
              "      <td>среднее</td>\n",
              "      <td>1</td>\n",
              "      <td>женат / замужем</td>\n",
              "      <td>0</td>\n",
              "      <td>F</td>\n",
              "      <td>сотрудник</td>\n",
              "      <td>0</td>\n",
              "      <td>NaN</td>\n",
              "      <td>строительство жилой недвижимости</td>\n",
              "    </tr>\n",
              "    <tr>\n",
              "      <th>21510</th>\n",
              "      <td>2</td>\n",
              "      <td>NaN</td>\n",
              "      <td>28</td>\n",
              "      <td>среднее</td>\n",
              "      <td>1</td>\n",
              "      <td>женат / замужем</td>\n",
              "      <td>0</td>\n",
              "      <td>F</td>\n",
              "      <td>сотрудник</td>\n",
              "      <td>0</td>\n",
              "      <td>NaN</td>\n",
              "      <td>приобретение автомобиля</td>\n",
              "    </tr>\n",
              "  </tbody>\n",
              "</table>\n",
              "<p>2174 rows × 12 columns</p>\n",
              "</div>\n",
              "      <button class=\"colab-df-convert\" onclick=\"convertToInteractive('df-181ed480-ee33-4b50-8ce4-065218595cdc')\"\n",
              "              title=\"Convert this dataframe to an interactive table.\"\n",
              "              style=\"display:none;\">\n",
              "        \n",
              "  <svg xmlns=\"http://www.w3.org/2000/svg\" height=\"24px\"viewBox=\"0 0 24 24\"\n",
              "       width=\"24px\">\n",
              "    <path d=\"M0 0h24v24H0V0z\" fill=\"none\"/>\n",
              "    <path d=\"M18.56 5.44l.94 2.06.94-2.06 2.06-.94-2.06-.94-.94-2.06-.94 2.06-2.06.94zm-11 1L8.5 8.5l.94-2.06 2.06-.94-2.06-.94L8.5 2.5l-.94 2.06-2.06.94zm10 10l.94 2.06.94-2.06 2.06-.94-2.06-.94-.94-2.06-.94 2.06-2.06.94z\"/><path d=\"M17.41 7.96l-1.37-1.37c-.4-.4-.92-.59-1.43-.59-.52 0-1.04.2-1.43.59L10.3 9.45l-7.72 7.72c-.78.78-.78 2.05 0 2.83L4 21.41c.39.39.9.59 1.41.59.51 0 1.02-.2 1.41-.59l7.78-7.78 2.81-2.81c.8-.78.8-2.07 0-2.86zM5.41 20L4 18.59l7.72-7.72 1.47 1.35L5.41 20z\"/>\n",
              "  </svg>\n",
              "      </button>\n",
              "      \n",
              "  <style>\n",
              "    .colab-df-container {\n",
              "      display:flex;\n",
              "      flex-wrap:wrap;\n",
              "      gap: 12px;\n",
              "    }\n",
              "\n",
              "    .colab-df-convert {\n",
              "      background-color: #E8F0FE;\n",
              "      border: none;\n",
              "      border-radius: 50%;\n",
              "      cursor: pointer;\n",
              "      display: none;\n",
              "      fill: #1967D2;\n",
              "      height: 32px;\n",
              "      padding: 0 0 0 0;\n",
              "      width: 32px;\n",
              "    }\n",
              "\n",
              "    .colab-df-convert:hover {\n",
              "      background-color: #E2EBFA;\n",
              "      box-shadow: 0px 1px 2px rgba(60, 64, 67, 0.3), 0px 1px 3px 1px rgba(60, 64, 67, 0.15);\n",
              "      fill: #174EA6;\n",
              "    }\n",
              "\n",
              "    [theme=dark] .colab-df-convert {\n",
              "      background-color: #3B4455;\n",
              "      fill: #D2E3FC;\n",
              "    }\n",
              "\n",
              "    [theme=dark] .colab-df-convert:hover {\n",
              "      background-color: #434B5C;\n",
              "      box-shadow: 0px 1px 3px 1px rgba(0, 0, 0, 0.15);\n",
              "      filter: drop-shadow(0px 1px 2px rgba(0, 0, 0, 0.3));\n",
              "      fill: #FFFFFF;\n",
              "    }\n",
              "  </style>\n",
              "\n",
              "      <script>\n",
              "        const buttonEl =\n",
              "          document.querySelector('#df-181ed480-ee33-4b50-8ce4-065218595cdc button.colab-df-convert');\n",
              "        buttonEl.style.display =\n",
              "          google.colab.kernel.accessAllowed ? 'block' : 'none';\n",
              "\n",
              "        async function convertToInteractive(key) {\n",
              "          const element = document.querySelector('#df-181ed480-ee33-4b50-8ce4-065218595cdc');\n",
              "          const dataTable =\n",
              "            await google.colab.kernel.invokeFunction('convertToInteractive',\n",
              "                                                     [key], {});\n",
              "          if (!dataTable) return;\n",
              "\n",
              "          const docLinkHtml = 'Like what you see? Visit the ' +\n",
              "            '<a target=\"_blank\" href=https://colab.research.google.com/notebooks/data_table.ipynb>data table notebook</a>'\n",
              "            + ' to learn more about interactive tables.';\n",
              "          element.innerHTML = '';\n",
              "          dataTable['output_type'] = 'display_data';\n",
              "          await google.colab.output.renderOutput(dataTable, element);\n",
              "          const docLink = document.createElement('div');\n",
              "          docLink.innerHTML = docLinkHtml;\n",
              "          element.appendChild(docLink);\n",
              "        }\n",
              "      </script>\n",
              "    </div>\n",
              "  </div>\n",
              "  "
            ]
          },
          "metadata": {},
          "execution_count": 6
        }
      ],
      "source": [
        "df.loc[\n",
        "       (df['days_employed'].isna() == True) &\n",
        "       (df['total_income'].isna() == True)\n",
        "       ]"
      ]
    },
    {
      "cell_type": "markdown",
      "id": "d3aafc18",
      "metadata": {
        "id": "d3aafc18"
      },
      "source": [
        "Всего получилось `2174` строки. Значит, теория о том, что люди без стажа работы не имеют дохода, подтвердилась.\n",
        "Следовательно, пропуски не случайны, а имеют реалистичную причину."
      ]
    },
    {
      "cell_type": "markdown",
      "id": "bdb97446",
      "metadata": {
        "id": "bdb97446"
      },
      "source": [
        "#### Определение доли пропущенных значений"
      ]
    },
    {
      "cell_type": "markdown",
      "id": "73ffb0b1",
      "metadata": {
        "id": "73ffb0b1"
      },
      "source": [
        "Определим долю пропусков в процентах."
      ]
    },
    {
      "cell_type": "code",
      "execution_count": 7,
      "id": "a00026d5",
      "metadata": {
        "colab": {
          "base_uri": "https://localhost:8080/"
        },
        "id": "a00026d5",
        "outputId": "2f06c6b8-061e-40fd-c0bf-ca86b0bc12da"
      },
      "outputs": [
        {
          "output_type": "execute_result",
          "data": {
            "text/plain": [
              "children             0.0\n",
              "days_employed       10.1\n",
              "dob_years            0.0\n",
              "education            0.0\n",
              "education_id         0.0\n",
              "family_status        0.0\n",
              "family_status_id     0.0\n",
              "gender               0.0\n",
              "income_type          0.0\n",
              "debt                 0.0\n",
              "total_income        10.1\n",
              "purpose              0.0\n",
              "dtype: float64"
            ]
          },
          "metadata": {},
          "execution_count": 7
        }
      ],
      "source": [
        "(df.isna().mean()*100).round(1)"
      ]
    },
    {
      "cell_type": "markdown",
      "id": "8b27f0f5",
      "metadata": {
        "id": "8b27f0f5"
      },
      "source": [
        "Получается, что каждая десятая строка имеет пропуски, что довольно много. Поскольку нам необходимо проанализировать семейное положение и количество детей клиента на факт погашения кредита в срок, то удалять строки с пропусками данных о стаже работы и доходе не целесообразно. Эти строки имеют необходимые для анализа данные, поэтому их надо заполнить."
      ]
    },
    {
      "cell_type": "markdown",
      "id": "b20eedba",
      "metadata": {
        "id": "b20eedba"
      },
      "source": [
        "#### Проверка и исправление данных о трудовом стаже и ежемесячном доходе."
      ]
    },
    {
      "cell_type": "markdown",
      "id": "658b88d2",
      "metadata": {
        "id": "658b88d2"
      },
      "source": [
        "Прежде, чем заполнить пропуски, необходимо исправить ошибки в данных."
      ]
    },
    {
      "cell_type": "markdown",
      "id": "d8aa367a",
      "metadata": {
        "id": "d8aa367a"
      },
      "source": [
        " Из пояснений к данным видно, что в колонке `'days_employed'` отображен общий трудовой стаж в днях. Однако в данной колонке есть отрицательные значения. Это может быть вызвано ошибкой в записи данных. Необходимо отрицательные значения сделать положительными."
      ]
    },
    {
      "cell_type": "code",
      "execution_count": 8,
      "id": "ec632ba2",
      "metadata": {
        "colab": {
          "base_uri": "https://localhost:8080/"
        },
        "id": "ec632ba2",
        "outputId": "b84e4908-6d68-44d3-feef-0caa9359ab02"
      },
      "outputs": [
        {
          "output_type": "execute_result",
          "data": {
            "text/plain": [
              "24.14163324048118"
            ]
          },
          "metadata": {},
          "execution_count": 8
        }
      ],
      "source": [
        "df['days_employed'] = abs(df['days_employed'])\n",
        "df['days_employed'].min() # проверяем наличие / отсутсвие отрицательных значений в колонке"
      ]
    },
    {
      "cell_type": "markdown",
      "id": "04bb59ef",
      "metadata": {
        "id": "04bb59ef"
      },
      "source": [
        "Отрицательных значений нет."
      ]
    },
    {
      "cell_type": "markdown",
      "id": "1a9cb3be",
      "metadata": {
        "id": "1a9cb3be"
      },
      "source": [
        "Также в колонке `'days_employed'` трудовой стаж должен быть отображен в днях, однако имеющиеся значения кажутся нереалистичными. Попробуем это проверить, определив максимальное значение в столбце и разделив его на 365 дней. Отображение количества лет будет наглядным."
      ]
    },
    {
      "cell_type": "code",
      "execution_count": 9,
      "id": "ba062811",
      "metadata": {
        "colab": {
          "base_uri": "https://localhost:8080/"
        },
        "id": "ba062811",
        "outputId": "8ee2dae1-182d-455f-d06b-289912b27baf"
      },
      "outputs": [
        {
          "output_type": "execute_result",
          "data": {
            "text/plain": [
              "1100"
            ]
          },
          "metadata": {},
          "execution_count": 9
        }
      ],
      "source": [
        "int(df['days_employed'].max() / 365)"
      ]
    },
    {
      "cell_type": "markdown",
      "id": "d66c3bf9",
      "metadata": {
        "id": "d66c3bf9"
      },
      "source": [
        "Определенно, люди не живут 1100 лет =)"
      ]
    },
    {
      "cell_type": "markdown",
      "id": "73e1fb2d",
      "metadata": {
        "id": "73e1fb2d"
      },
      "source": [
        "Значит, данные представлены не в днях, а, вероятнее, в часах. Попробуем это проверить, разделив максимальное значение столбца сначала на 24 часа, а затем  - на 365 дней."
      ]
    },
    {
      "cell_type": "code",
      "execution_count": 10,
      "id": "e442e858",
      "metadata": {
        "colab": {
          "base_uri": "https://localhost:8080/"
        },
        "id": "e442e858",
        "outputId": "55922bda-148d-41d4-d269-de2e2a82c4c2"
      },
      "outputs": [
        {
          "output_type": "execute_result",
          "data": {
            "text/plain": [
              "45"
            ]
          },
          "metadata": {},
          "execution_count": 10
        }
      ],
      "source": [
        "int(df['days_employed'].max() / 24 / 365)"
      ]
    },
    {
      "cell_type": "markdown",
      "id": "620292f1",
      "metadata": {
        "id": "620292f1"
      },
      "source": [
        "Получается 45 лет. Такой стаж работы вполне возможен. Значит, данные в колонке `'days_employed'` отображают общий трудовой стаж не в днях, а в часах. В данном случае будет достаточно переименовать наименование колонки, чтобы оно отображало данные, которые в ней находятся."
      ]
    },
    {
      "cell_type": "code",
      "execution_count": 11,
      "id": "9527ef2d",
      "metadata": {
        "scrolled": true,
        "colab": {
          "base_uri": "https://localhost:8080/",
          "height": 206
        },
        "id": "9527ef2d",
        "outputId": "efcd5dba-9d14-4974-a8f2-439edb4b2c52"
      },
      "outputs": [
        {
          "output_type": "execute_result",
          "data": {
            "text/plain": [
              "   children  hours_employed  dob_years education  education_id  \\\n",
              "0         1     8437.673028         42    высшее             0   \n",
              "1         1     4024.803754         36   среднее             1   \n",
              "2         0     5623.422610         33   Среднее             1   \n",
              "3         3     4124.747207         32   среднее             1   \n",
              "4         0   340266.072047         53   среднее             1   \n",
              "\n",
              "      family_status  family_status_id gender income_type  debt   total_income  \\\n",
              "0   женат / замужем                 0      F   сотрудник     0  253875.639453   \n",
              "1   женат / замужем                 0      F   сотрудник     0  112080.014102   \n",
              "2   женат / замужем                 0      M   сотрудник     0  145885.952297   \n",
              "3   женат / замужем                 0      M   сотрудник     0  267628.550329   \n",
              "4  гражданский брак                 1      F   пенсионер     0  158616.077870   \n",
              "\n",
              "                      purpose  \n",
              "0               покупка жилья  \n",
              "1     приобретение автомобиля  \n",
              "2               покупка жилья  \n",
              "3  дополнительное образование  \n",
              "4             сыграть свадьбу  "
            ],
            "text/html": [
              "\n",
              "  <div id=\"df-05e93a8f-bcfb-41c2-b7b1-a8699a43e129\">\n",
              "    <div class=\"colab-df-container\">\n",
              "      <div>\n",
              "<style scoped>\n",
              "    .dataframe tbody tr th:only-of-type {\n",
              "        vertical-align: middle;\n",
              "    }\n",
              "\n",
              "    .dataframe tbody tr th {\n",
              "        vertical-align: top;\n",
              "    }\n",
              "\n",
              "    .dataframe thead th {\n",
              "        text-align: right;\n",
              "    }\n",
              "</style>\n",
              "<table border=\"1\" class=\"dataframe\">\n",
              "  <thead>\n",
              "    <tr style=\"text-align: right;\">\n",
              "      <th></th>\n",
              "      <th>children</th>\n",
              "      <th>hours_employed</th>\n",
              "      <th>dob_years</th>\n",
              "      <th>education</th>\n",
              "      <th>education_id</th>\n",
              "      <th>family_status</th>\n",
              "      <th>family_status_id</th>\n",
              "      <th>gender</th>\n",
              "      <th>income_type</th>\n",
              "      <th>debt</th>\n",
              "      <th>total_income</th>\n",
              "      <th>purpose</th>\n",
              "    </tr>\n",
              "  </thead>\n",
              "  <tbody>\n",
              "    <tr>\n",
              "      <th>0</th>\n",
              "      <td>1</td>\n",
              "      <td>8437.673028</td>\n",
              "      <td>42</td>\n",
              "      <td>высшее</td>\n",
              "      <td>0</td>\n",
              "      <td>женат / замужем</td>\n",
              "      <td>0</td>\n",
              "      <td>F</td>\n",
              "      <td>сотрудник</td>\n",
              "      <td>0</td>\n",
              "      <td>253875.639453</td>\n",
              "      <td>покупка жилья</td>\n",
              "    </tr>\n",
              "    <tr>\n",
              "      <th>1</th>\n",
              "      <td>1</td>\n",
              "      <td>4024.803754</td>\n",
              "      <td>36</td>\n",
              "      <td>среднее</td>\n",
              "      <td>1</td>\n",
              "      <td>женат / замужем</td>\n",
              "      <td>0</td>\n",
              "      <td>F</td>\n",
              "      <td>сотрудник</td>\n",
              "      <td>0</td>\n",
              "      <td>112080.014102</td>\n",
              "      <td>приобретение автомобиля</td>\n",
              "    </tr>\n",
              "    <tr>\n",
              "      <th>2</th>\n",
              "      <td>0</td>\n",
              "      <td>5623.422610</td>\n",
              "      <td>33</td>\n",
              "      <td>Среднее</td>\n",
              "      <td>1</td>\n",
              "      <td>женат / замужем</td>\n",
              "      <td>0</td>\n",
              "      <td>M</td>\n",
              "      <td>сотрудник</td>\n",
              "      <td>0</td>\n",
              "      <td>145885.952297</td>\n",
              "      <td>покупка жилья</td>\n",
              "    </tr>\n",
              "    <tr>\n",
              "      <th>3</th>\n",
              "      <td>3</td>\n",
              "      <td>4124.747207</td>\n",
              "      <td>32</td>\n",
              "      <td>среднее</td>\n",
              "      <td>1</td>\n",
              "      <td>женат / замужем</td>\n",
              "      <td>0</td>\n",
              "      <td>M</td>\n",
              "      <td>сотрудник</td>\n",
              "      <td>0</td>\n",
              "      <td>267628.550329</td>\n",
              "      <td>дополнительное образование</td>\n",
              "    </tr>\n",
              "    <tr>\n",
              "      <th>4</th>\n",
              "      <td>0</td>\n",
              "      <td>340266.072047</td>\n",
              "      <td>53</td>\n",
              "      <td>среднее</td>\n",
              "      <td>1</td>\n",
              "      <td>гражданский брак</td>\n",
              "      <td>1</td>\n",
              "      <td>F</td>\n",
              "      <td>пенсионер</td>\n",
              "      <td>0</td>\n",
              "      <td>158616.077870</td>\n",
              "      <td>сыграть свадьбу</td>\n",
              "    </tr>\n",
              "  </tbody>\n",
              "</table>\n",
              "</div>\n",
              "      <button class=\"colab-df-convert\" onclick=\"convertToInteractive('df-05e93a8f-bcfb-41c2-b7b1-a8699a43e129')\"\n",
              "              title=\"Convert this dataframe to an interactive table.\"\n",
              "              style=\"display:none;\">\n",
              "        \n",
              "  <svg xmlns=\"http://www.w3.org/2000/svg\" height=\"24px\"viewBox=\"0 0 24 24\"\n",
              "       width=\"24px\">\n",
              "    <path d=\"M0 0h24v24H0V0z\" fill=\"none\"/>\n",
              "    <path d=\"M18.56 5.44l.94 2.06.94-2.06 2.06-.94-2.06-.94-.94-2.06-.94 2.06-2.06.94zm-11 1L8.5 8.5l.94-2.06 2.06-.94-2.06-.94L8.5 2.5l-.94 2.06-2.06.94zm10 10l.94 2.06.94-2.06 2.06-.94-2.06-.94-.94-2.06-.94 2.06-2.06.94z\"/><path d=\"M17.41 7.96l-1.37-1.37c-.4-.4-.92-.59-1.43-.59-.52 0-1.04.2-1.43.59L10.3 9.45l-7.72 7.72c-.78.78-.78 2.05 0 2.83L4 21.41c.39.39.9.59 1.41.59.51 0 1.02-.2 1.41-.59l7.78-7.78 2.81-2.81c.8-.78.8-2.07 0-2.86zM5.41 20L4 18.59l7.72-7.72 1.47 1.35L5.41 20z\"/>\n",
              "  </svg>\n",
              "      </button>\n",
              "      \n",
              "  <style>\n",
              "    .colab-df-container {\n",
              "      display:flex;\n",
              "      flex-wrap:wrap;\n",
              "      gap: 12px;\n",
              "    }\n",
              "\n",
              "    .colab-df-convert {\n",
              "      background-color: #E8F0FE;\n",
              "      border: none;\n",
              "      border-radius: 50%;\n",
              "      cursor: pointer;\n",
              "      display: none;\n",
              "      fill: #1967D2;\n",
              "      height: 32px;\n",
              "      padding: 0 0 0 0;\n",
              "      width: 32px;\n",
              "    }\n",
              "\n",
              "    .colab-df-convert:hover {\n",
              "      background-color: #E2EBFA;\n",
              "      box-shadow: 0px 1px 2px rgba(60, 64, 67, 0.3), 0px 1px 3px 1px rgba(60, 64, 67, 0.15);\n",
              "      fill: #174EA6;\n",
              "    }\n",
              "\n",
              "    [theme=dark] .colab-df-convert {\n",
              "      background-color: #3B4455;\n",
              "      fill: #D2E3FC;\n",
              "    }\n",
              "\n",
              "    [theme=dark] .colab-df-convert:hover {\n",
              "      background-color: #434B5C;\n",
              "      box-shadow: 0px 1px 3px 1px rgba(0, 0, 0, 0.15);\n",
              "      filter: drop-shadow(0px 1px 2px rgba(0, 0, 0, 0.3));\n",
              "      fill: #FFFFFF;\n",
              "    }\n",
              "  </style>\n",
              "\n",
              "      <script>\n",
              "        const buttonEl =\n",
              "          document.querySelector('#df-05e93a8f-bcfb-41c2-b7b1-a8699a43e129 button.colab-df-convert');\n",
              "        buttonEl.style.display =\n",
              "          google.colab.kernel.accessAllowed ? 'block' : 'none';\n",
              "\n",
              "        async function convertToInteractive(key) {\n",
              "          const element = document.querySelector('#df-05e93a8f-bcfb-41c2-b7b1-a8699a43e129');\n",
              "          const dataTable =\n",
              "            await google.colab.kernel.invokeFunction('convertToInteractive',\n",
              "                                                     [key], {});\n",
              "          if (!dataTable) return;\n",
              "\n",
              "          const docLinkHtml = 'Like what you see? Visit the ' +\n",
              "            '<a target=\"_blank\" href=https://colab.research.google.com/notebooks/data_table.ipynb>data table notebook</a>'\n",
              "            + ' to learn more about interactive tables.';\n",
              "          element.innerHTML = '';\n",
              "          dataTable['output_type'] = 'display_data';\n",
              "          await google.colab.output.renderOutput(dataTable, element);\n",
              "          const docLink = document.createElement('div');\n",
              "          docLink.innerHTML = docLinkHtml;\n",
              "          element.appendChild(docLink);\n",
              "        }\n",
              "      </script>\n",
              "    </div>\n",
              "  </div>\n",
              "  "
            ]
          },
          "metadata": {},
          "execution_count": 11
        }
      ],
      "source": [
        "df = df.rename(columns={'days_employed' : 'hours_employed'})\n",
        "df.head() # проверяем, как теперь выглядит таблица"
      ]
    },
    {
      "cell_type": "markdown",
      "id": "6e207098",
      "metadata": {
        "id": "6e207098"
      },
      "source": [
        "Проверим, есть ли отрицательные значения ежемесячного дохода, определив минимальное значение в колонке `total_income`."
      ]
    },
    {
      "cell_type": "code",
      "execution_count": 12,
      "id": "e8d01689",
      "metadata": {
        "colab": {
          "base_uri": "https://localhost:8080/"
        },
        "id": "e8d01689",
        "outputId": "c5bcfc57-8a7f-4473-9e81-a54e8d9a0693"
      },
      "outputs": [
        {
          "output_type": "execute_result",
          "data": {
            "text/plain": [
              "20667.26379327158"
            ]
          },
          "metadata": {},
          "execution_count": 12
        }
      ],
      "source": [
        "df['total_income'].min()"
      ]
    },
    {
      "cell_type": "markdown",
      "id": "9820d493",
      "metadata": {
        "id": "9820d493"
      },
      "source": [
        "Таких значений нет, значит, данные не требуют исправлений."
      ]
    },
    {
      "cell_type": "markdown",
      "id": "aeee0816",
      "metadata": {
        "id": "aeee0816"
      },
      "source": [
        "#### Заполнение пропусков"
      ]
    },
    {
      "cell_type": "markdown",
      "id": "b379a849",
      "metadata": {
        "id": "b379a849"
      },
      "source": [
        "Обе колонки с пропусками имеют количественные значения. В данном случае пропуски лучше заполнять медианным значением, чем средним. Продемонстрируем на примере колонки `'hours_employed'`. Вызовим ее описание."
      ]
    },
    {
      "cell_type": "code",
      "execution_count": 13,
      "id": "802d993d",
      "metadata": {
        "colab": {
          "base_uri": "https://localhost:8080/"
        },
        "id": "802d993d",
        "outputId": "bd5fd860-3914-4688-cef9-a0aae8040bbd"
      },
      "outputs": [
        {
          "output_type": "execute_result",
          "data": {
            "text/plain": [
              "count     19351.000000\n",
              "mean      66914.728907\n",
              "std      139030.880527\n",
              "min          24.141633\n",
              "25%         927.009265\n",
              "50%        2194.220567\n",
              "75%        5537.882441\n",
              "max      401755.400475\n",
              "Name: hours_employed, dtype: float64"
            ]
          },
          "metadata": {},
          "execution_count": 13
        }
      ],
      "source": [
        "df['hours_employed'].describe()"
      ]
    },
    {
      "cell_type": "markdown",
      "id": "677fc35f",
      "metadata": {
        "id": "677fc35f"
      },
      "source": [
        "Из описания видно, что минимальное и максимальное значения в колонке сильно различаются. Это влияет на среднее значение (все помнят про капусту у бедняков, мясо у богатых, а среднее - это голубцы). Медианное же значение отображет значение, которое находится посередине и более точно выражает вероятные данные, которые пропущены."
      ]
    },
    {
      "cell_type": "markdown",
      "id": "841b6d3b",
      "metadata": {
        "id": "841b6d3b"
      },
      "source": [
        "Заполняем пропущенные значения трудового стажа и ежемесячного дохода медианным значением."
      ]
    },
    {
      "cell_type": "code",
      "execution_count": 14,
      "id": "b1573c89",
      "metadata": {
        "colab": {
          "base_uri": "https://localhost:8080/"
        },
        "id": "b1573c89",
        "outputId": "638ff6a2-d0e7-4488-e516-dfef28bd92ca"
      },
      "outputs": [
        {
          "output_type": "execute_result",
          "data": {
            "text/plain": [
              "children            0\n",
              "hours_employed      0\n",
              "dob_years           0\n",
              "education           0\n",
              "education_id        0\n",
              "family_status       0\n",
              "family_status_id    0\n",
              "gender              0\n",
              "income_type         0\n",
              "debt                0\n",
              "total_income        0\n",
              "purpose             0\n",
              "dtype: int64"
            ]
          },
          "metadata": {},
          "execution_count": 14
        }
      ],
      "source": [
        "df['hours_employed'] = df['hours_employed'].fillna(df['hours_employed'].median())\n",
        "df['total_income'] = df['total_income'].fillna(df['total_income'].median())\n",
        "df.isna().sum() # проверяем, все ли пропуски заполнены."
      ]
    },
    {
      "cell_type": "markdown",
      "id": "fa577102",
      "metadata": {
        "id": "fa577102"
      },
      "source": [
        "### Проверка данных на аномалии и исправления."
      ]
    },
    {
      "cell_type": "markdown",
      "id": "68717972",
      "metadata": {
        "id": "68717972"
      },
      "source": [
        "Чтобы проверить, есть ли проблемы с данными, можно использовать метод `value_counts()`. Он покажет количество уникальных значений в столбце."
      ]
    },
    {
      "cell_type": "markdown",
      "id": "5c64bff0",
      "metadata": {
        "id": "5c64bff0"
      },
      "source": [
        "#### Проверка и исправление данных о количестве детей."
      ]
    },
    {
      "cell_type": "code",
      "execution_count": 15,
      "id": "d109d274",
      "metadata": {
        "colab": {
          "base_uri": "https://localhost:8080/"
        },
        "id": "d109d274",
        "outputId": "3aeff7c6-7440-44f4-a1f7-5957aecba4b3"
      },
      "outputs": [
        {
          "output_type": "execute_result",
          "data": {
            "text/plain": [
              "-1        47\n",
              " 0     14149\n",
              " 1      4818\n",
              " 2      2055\n",
              " 3       330\n",
              " 4        41\n",
              " 5         9\n",
              " 20       76\n",
              "Name: children, dtype: int64"
            ]
          },
          "metadata": {},
          "execution_count": 15
        }
      ],
      "source": [
        "df['children'].value_counts().sort_index()"
      ]
    },
    {
      "cell_type": "markdown",
      "id": "ca301cb5",
      "metadata": {
        "id": "ca301cb5"
      },
      "source": [
        "Значение `-1` может быть ошибкой в записи данных. Сделаем отрицательных значения положительными."
      ]
    },
    {
      "cell_type": "code",
      "execution_count": 16,
      "id": "ea0f68f6",
      "metadata": {
        "id": "ea0f68f6"
      },
      "outputs": [],
      "source": [
        "df['children'] = abs(df['children'])"
      ]
    },
    {
      "cell_type": "markdown",
      "id": "dfba2f86",
      "metadata": {
        "id": "dfba2f86"
      },
      "source": [
        "Вероятность того, что у одного человека есть 20 детей, крайне мала, а у 76 - и подавно. =)"
      ]
    },
    {
      "cell_type": "markdown",
      "id": "0c04d4ae",
      "metadata": {
        "id": "0c04d4ae"
      },
      "source": [
        "Это тоже может быть результатом влияния человеческого фактора. Заменим все значения `20` на `2`. Так малозначительная группа присоединится к крупной группе данных."
      ]
    },
    {
      "cell_type": "code",
      "execution_count": 17,
      "id": "168cff16",
      "metadata": {
        "colab": {
          "base_uri": "https://localhost:8080/"
        },
        "id": "168cff16",
        "outputId": "1b5b71b9-7b4a-4c78-c6b1-5fa72a146315"
      },
      "outputs": [
        {
          "output_type": "execute_result",
          "data": {
            "text/plain": [
              "0    14149\n",
              "1     4865\n",
              "2     2131\n",
              "3      330\n",
              "4       41\n",
              "5        9\n",
              "Name: children, dtype: int64"
            ]
          },
          "metadata": {},
          "execution_count": 17
        }
      ],
      "source": [
        "df.loc[(df['children'] == 20), 'children'] = 2\n",
        "\n",
        "# проверяем количество уникальных значений в столбце после внесения изменений.\n",
        "df['children'].value_counts().sort_index()  "
      ]
    },
    {
      "cell_type": "markdown",
      "id": "687b406c",
      "metadata": {
        "id": "687b406c"
      },
      "source": [
        "#### Проверка и исправление данных о возрасте клиентов"
      ]
    },
    {
      "cell_type": "code",
      "execution_count": 18,
      "id": "282451f1",
      "metadata": {
        "colab": {
          "base_uri": "https://localhost:8080/"
        },
        "id": "282451f1",
        "outputId": "c75734fa-c4b8-4dd8-81e5-06dd57884c50"
      },
      "outputs": [
        {
          "output_type": "execute_result",
          "data": {
            "text/plain": [
              "0     101\n",
              "19     14\n",
              "20     51\n",
              "21    111\n",
              "22    183\n",
              "Name: dob_years, dtype: int64"
            ]
          },
          "metadata": {},
          "execution_count": 18
        }
      ],
      "source": [
        "df['dob_years'].value_counts().sort_index().head()"
      ]
    },
    {
      "cell_type": "markdown",
      "id": "b0aa00d9",
      "metadata": {
        "id": "b0aa00d9"
      },
      "source": [
        "Оказывается, что новорожденные не против взять на себя такое бремя, как кредит =)"
      ]
    },
    {
      "cell_type": "markdown",
      "id": "bce4e1ca",
      "metadata": {
        "id": "bce4e1ca"
      },
      "source": [
        "Значение `0` - это явно ошибка в данных. Это может означать отсутвие данных о возрасте или неправильную запись данных. Чтобы не удалять строки, заменим эти значения медианным. Тип данных в  колонке `dob_years` изменится на `float24`, вернем тип `int24`."
      ]
    },
    {
      "cell_type": "code",
      "execution_count": 19,
      "id": "88e9e5e3",
      "metadata": {
        "colab": {
          "base_uri": "https://localhost:8080/"
        },
        "id": "88e9e5e3",
        "outputId": "fd1e6536-1d4e-47d6-ff66-cfb367977105"
      },
      "outputs": [
        {
          "output_type": "execute_result",
          "data": {
            "text/plain": [
              "19     14\n",
              "20     51\n",
              "21    111\n",
              "22    183\n",
              "23    254\n",
              "Name: dob_years, dtype: int64"
            ]
          },
          "metadata": {},
          "execution_count": 19
        }
      ],
      "source": [
        "df.loc[((df['dob_years'] == 0) | (df['dob_years'] == 2)), 'dob_years'] = (\n",
        "    df['dob_years'].median())\n",
        "\n",
        "df['dob_years'] = df['dob_years'].astype('int')\n",
        "\n",
        "# проверяем, все ли получилось\n",
        "df['dob_years'].value_counts().sort_index().head()"
      ]
    },
    {
      "cell_type": "markdown",
      "id": "00616dc9",
      "metadata": {
        "id": "00616dc9"
      },
      "source": [
        "#### Проверка других столбцов с численными значениями"
      ]
    },
    {
      "cell_type": "markdown",
      "id": "a9aae03d",
      "metadata": {
        "id": "a9aae03d"
      },
      "source": [
        "Проверим другие столбцы с численными значениями."
      ]
    },
    {
      "cell_type": "code",
      "execution_count": 20,
      "id": "b3e315a3",
      "metadata": {
        "colab": {
          "base_uri": "https://localhost:8080/"
        },
        "id": "b3e315a3",
        "outputId": "43167efe-bcb7-4386-a029-0195ed7df870"
      },
      "outputs": [
        {
          "output_type": "execute_result",
          "data": {
            "text/plain": [
              "0     5260\n",
              "1    15233\n",
              "2      744\n",
              "3      282\n",
              "4        6\n",
              "Name: education_id, dtype: int64"
            ]
          },
          "metadata": {},
          "execution_count": 20
        }
      ],
      "source": [
        "df['education_id'].value_counts().sort_index()"
      ]
    },
    {
      "cell_type": "code",
      "execution_count": 21,
      "id": "14315603",
      "metadata": {
        "colab": {
          "base_uri": "https://localhost:8080/"
        },
        "id": "14315603",
        "outputId": "8d9042f7-889d-4fb2-d5ac-27ef74164b9f"
      },
      "outputs": [
        {
          "output_type": "execute_result",
          "data": {
            "text/plain": [
              "0    12380\n",
              "1     4177\n",
              "2      960\n",
              "3     1195\n",
              "4     2813\n",
              "Name: family_status_id, dtype: int64"
            ]
          },
          "metadata": {},
          "execution_count": 21
        }
      ],
      "source": [
        "df['family_status_id'].value_counts().sort_index()"
      ]
    },
    {
      "cell_type": "code",
      "execution_count": 22,
      "id": "f3fe0d9d",
      "metadata": {
        "colab": {
          "base_uri": "https://localhost:8080/"
        },
        "id": "f3fe0d9d",
        "outputId": "19b1969e-02d2-41e4-8879-49559d9a6b12"
      },
      "outputs": [
        {
          "output_type": "execute_result",
          "data": {
            "text/plain": [
              "0    19784\n",
              "1     1741\n",
              "Name: debt, dtype: int64"
            ]
          },
          "metadata": {},
          "execution_count": 22
        }
      ],
      "source": [
        "df['debt'].value_counts().sort_index()"
      ]
    },
    {
      "cell_type": "markdown",
      "id": "09a08cdf",
      "metadata": {
        "id": "09a08cdf"
      },
      "source": [
        "В столбцах `'education_id'`, `'family_status_id'` и `'debt'` аномалий не обнаружено."
      ]
    },
    {
      "cell_type": "markdown",
      "id": "83c81ae9",
      "metadata": {
        "id": "83c81ae9"
      },
      "source": [
        "### Удаление дубликатов."
      ]
    },
    {
      "cell_type": "markdown",
      "id": "773c5105",
      "metadata": {
        "id": "773c5105"
      },
      "source": [
        "#### Удаление дубликатов в колонке `'education'`"
      ]
    },
    {
      "cell_type": "markdown",
      "id": "47078986",
      "metadata": {
        "id": "47078986"
      },
      "source": [
        "После первичного обзора данных было обнаружено, что в колонке `'education'` строчные буквы сочетаются с прописными. Проверим это, вызвав метод `value_counts()`."
      ]
    },
    {
      "cell_type": "code",
      "execution_count": 23,
      "id": "fbaef5ee",
      "metadata": {
        "colab": {
          "base_uri": "https://localhost:8080/"
        },
        "id": "fbaef5ee",
        "outputId": "ee3bc5a7-54f9-4083-a0c2-9148cde31dae"
      },
      "outputs": [
        {
          "output_type": "execute_result",
          "data": {
            "text/plain": [
              "среднее                13750\n",
              "высшее                  4718\n",
              "СРЕДНЕЕ                  772\n",
              "Среднее                  711\n",
              "неоконченное высшее      668\n",
              "ВЫСШЕЕ                   274\n",
              "Высшее                   268\n",
              "начальное                250\n",
              "Неоконченное высшее       47\n",
              "НЕОКОНЧЕННОЕ ВЫСШЕЕ       29\n",
              "НАЧАЛЬНОЕ                 17\n",
              "Начальное                 15\n",
              "ученая степень             4\n",
              "Ученая степень             1\n",
              "УЧЕНАЯ СТЕПЕНЬ             1\n",
              "Name: education, dtype: int64"
            ]
          },
          "metadata": {},
          "execution_count": 23
        }
      ],
      "source": [
        "df['education'].value_counts()"
      ]
    },
    {
      "cell_type": "markdown",
      "id": "59a326fc",
      "metadata": {
        "id": "59a326fc"
      },
      "source": [
        "Предположение подтвердилось: в этой колонке есть дубликаты. Дубликаты могут появиться из-за того, что данные вносят разные люди. Кто-то пишет с большой буквы, кто-то капсом. Для начала приведем все символы в строках к нижнему регистру вызовом метода `str.lower()`. "
      ]
    },
    {
      "cell_type": "code",
      "execution_count": 24,
      "id": "ce028436",
      "metadata": {
        "colab": {
          "base_uri": "https://localhost:8080/"
        },
        "id": "ce028436",
        "outputId": "f5d1b417-64c6-4e9b-da43-3546216f6259"
      },
      "outputs": [
        {
          "output_type": "execute_result",
          "data": {
            "text/plain": [
              "среднее                15233\n",
              "высшее                  5260\n",
              "неоконченное высшее      744\n",
              "начальное                282\n",
              "ученая степень             6\n",
              "Name: education, dtype: int64"
            ]
          },
          "metadata": {},
          "execution_count": 24
        }
      ],
      "source": [
        "df['education'] = df['education'].str.lower()\n",
        "\n",
        "# проверяем количество уникальных значений в столбце после внесения изменений\n",
        "df['education'].value_counts() "
      ]
    },
    {
      "cell_type": "markdown",
      "id": "0f228248",
      "metadata": {
        "id": "0f228248"
      },
      "source": [
        "Теперь видно, что есть 5 категорий данных об образовании. Если сопоставить колонки `'education'` и `'education_id'`, то видно, что \n",
        "* `0` - `высшее`\n",
        "* `1` - `среднее`\n",
        "* `2` - `неоконченное высшее`\n",
        "* `3` - `начальное`\n",
        "* `4` - `ученая степень`"
      ]
    },
    {
      "cell_type": "markdown",
      "id": "89dcea90",
      "metadata": {
        "id": "89dcea90"
      },
      "source": [
        "#### Проверка на наличие дубликатов в колонке `'family_status'`"
      ]
    },
    {
      "cell_type": "code",
      "execution_count": 25,
      "id": "73a0e1d5",
      "metadata": {
        "colab": {
          "base_uri": "https://localhost:8080/"
        },
        "id": "73a0e1d5",
        "outputId": "4b26e19e-45c7-4fa2-d45e-4a0a2da2c983"
      },
      "outputs": [
        {
          "output_type": "execute_result",
          "data": {
            "text/plain": [
              "женат / замужем          12380\n",
              "гражданский брак          4177\n",
              "Не женат / не замужем     2813\n",
              "в разводе                 1195\n",
              "вдовец / вдова             960\n",
              "Name: family_status, dtype: int64"
            ]
          },
          "metadata": {},
          "execution_count": 25
        }
      ],
      "source": [
        "df['family_status'].value_counts()"
      ]
    },
    {
      "cell_type": "markdown",
      "id": "c3e8b01f",
      "metadata": {
        "id": "c3e8b01f"
      },
      "source": [
        "Дубликатов здесь нет, но используются разные регистры написания. Приведем все символы в строках к нижнему регистру вызовом метода `str.lower()`"
      ]
    },
    {
      "cell_type": "code",
      "execution_count": 26,
      "id": "2a99be96",
      "metadata": {
        "colab": {
          "base_uri": "https://localhost:8080/"
        },
        "id": "2a99be96",
        "outputId": "d2e44cee-46e0-4b47-f2e8-cdbadc628175"
      },
      "outputs": [
        {
          "output_type": "execute_result",
          "data": {
            "text/plain": [
              "женат / замужем          12380\n",
              "гражданский брак          4177\n",
              "не женат / не замужем     2813\n",
              "в разводе                 1195\n",
              "вдовец / вдова             960\n",
              "Name: family_status, dtype: int64"
            ]
          },
          "metadata": {},
          "execution_count": 26
        }
      ],
      "source": [
        "df['family_status'] = df['family_status'].str.lower()\n",
        "\n",
        "# проверяем, как выглядят уникальные значения в столбце после внесения изменений\n",
        "df['family_status'].value_counts()"
      ]
    },
    {
      "cell_type": "markdown",
      "id": "1cb333b5",
      "metadata": {
        "id": "1cb333b5"
      },
      "source": [
        "Также видно, что есть 5 категорий данных о семейном положении. Если сопоставить колонки `'family_status'` и `'family_status_id'`, то видно, что \n",
        "\n",
        "* `0` - `женат / замужем`\n",
        "* `1` - `гражданский брак`\n",
        "* `2` - `вдовец / вдова`\n",
        "* `3` - `в разводе`\n",
        "* `4` - `не женат / не замужем`"
      ]
    },
    {
      "cell_type": "markdown",
      "id": "d3d55701",
      "metadata": {
        "id": "d3d55701"
      },
      "source": [
        "#### Проверка на наличие дубликатов в колонке `'income_type'`"
      ]
    },
    {
      "cell_type": "code",
      "execution_count": 27,
      "id": "ace3f6b9",
      "metadata": {
        "colab": {
          "base_uri": "https://localhost:8080/"
        },
        "id": "ace3f6b9",
        "outputId": "adda6a65-8976-4702-a8e4-ac3e41dd4350"
      },
      "outputs": [
        {
          "output_type": "execute_result",
          "data": {
            "text/plain": [
              "сотрудник          11119\n",
              "компаньон           5085\n",
              "пенсионер           3856\n",
              "госслужащий         1459\n",
              "безработный            2\n",
              "предприниматель        2\n",
              "студент                1\n",
              "в декрете              1\n",
              "Name: income_type, dtype: int64"
            ]
          },
          "metadata": {},
          "execution_count": 27
        }
      ],
      "source": [
        "df['income_type'].value_counts()"
      ]
    },
    {
      "cell_type": "markdown",
      "id": "9acf4487",
      "metadata": {
        "id": "9acf4487"
      },
      "source": [
        "В столбце `'income_type'` дубликатов нет, но есть малозначительные группы: `предприниматель`, `безработный`, `в декрете` и `студент`. Эти строки можно было бы удалить или распределить малые группы по большим, но посольку нам необходимо проанализировать влияние семейного положения и количества детей клиента на факт погашения кредита в срок, это можно не делать. В анализе будут использованы числовые данные о доходе, а не тип доходов."
      ]
    },
    {
      "cell_type": "markdown",
      "id": "d5a32082",
      "metadata": {
        "id": "d5a32082"
      },
      "source": [
        "#### Проверка на наличие дубликатов в колонке `'gender'`"
      ]
    },
    {
      "cell_type": "code",
      "execution_count": 28,
      "id": "dfe4dacd",
      "metadata": {
        "colab": {
          "base_uri": "https://localhost:8080/"
        },
        "id": "dfe4dacd",
        "outputId": "03b64aa6-4ac6-4a57-986b-5c54be6586fe"
      },
      "outputs": [
        {
          "output_type": "execute_result",
          "data": {
            "text/plain": [
              "F      14236\n",
              "M       7288\n",
              "XNA        1\n",
              "Name: gender, dtype: int64"
            ]
          },
          "metadata": {},
          "execution_count": 28
        }
      ],
      "source": [
        "df['gender'].value_counts()"
      ]
    },
    {
      "cell_type": "markdown",
      "id": "b25b4436",
      "metadata": {
        "id": "b25b4436"
      },
      "source": [
        "В столбце 'gender' дубликатов нет, но есть одно значение '`XNA`'. Возможно, понадобится исследования, связанные с полом, а это значение может повлиять на результаты анализа. Удалим эту строку, перезаписав dataframe без строки со значением '`XNA`'."
      ]
    },
    {
      "cell_type": "code",
      "execution_count": 29,
      "id": "56e4f131",
      "metadata": {
        "colab": {
          "base_uri": "https://localhost:8080/"
        },
        "id": "56e4f131",
        "outputId": "cdff40f3-929b-4c83-b58c-7b3e17d362ab"
      },
      "outputs": [
        {
          "output_type": "execute_result",
          "data": {
            "text/plain": [
              "F    14236\n",
              "M     7288\n",
              "Name: gender, dtype: int64"
            ]
          },
          "metadata": {},
          "execution_count": 29
        }
      ],
      "source": [
        "df = df.loc[df['gender'] != 'XNA']\n",
        "\n",
        "# проверяем, как выглядят уникальные значения в столбце после внесения изменений.\n",
        "df['gender'].value_counts() "
      ]
    },
    {
      "cell_type": "markdown",
      "id": "3762ca23",
      "metadata": {
        "id": "3762ca23"
      },
      "source": [
        "#### Проверка на наличие явных дубликатов"
      ]
    },
    {
      "cell_type": "markdown",
      "id": "066e1463",
      "metadata": {
        "id": "066e1463"
      },
      "source": [
        "Посмотрим количество явных дубликов в таблице."
      ]
    },
    {
      "cell_type": "code",
      "execution_count": 30,
      "id": "9bc9d322",
      "metadata": {
        "colab": {
          "base_uri": "https://localhost:8080/"
        },
        "id": "9bc9d322",
        "outputId": "db8d3abf-b1d5-4dc7-c90a-7fa0b93d2a7c"
      },
      "outputs": [
        {
          "output_type": "execute_result",
          "data": {
            "text/plain": [
              "72"
            ]
          },
          "metadata": {},
          "execution_count": 30
        }
      ],
      "source": [
        "df.duplicated().sum()"
      ]
    },
    {
      "cell_type": "markdown",
      "id": "039b899c",
      "metadata": {
        "id": "039b899c"
      },
      "source": [
        "Выведим на экран первые 10 дубликатов."
      ]
    },
    {
      "cell_type": "code",
      "execution_count": 31,
      "id": "633c1dc9",
      "metadata": {
        "scrolled": false,
        "colab": {
          "base_uri": "https://localhost:8080/",
          "height": 442
        },
        "id": "633c1dc9",
        "outputId": "b57224df-80ed-4e3a-fad2-45fae00faeb0"
      },
      "outputs": [
        {
          "output_type": "execute_result",
          "data": {
            "text/plain": [
              "      children  hours_employed  dob_years education  education_id  \\\n",
              "2849         0     2194.220567         41   среднее             1   \n",
              "3290         0     2194.220567         58   среднее             1   \n",
              "4182         1     2194.220567         34    высшее             0   \n",
              "4851         0     2194.220567         60   среднее             1   \n",
              "5557         0     2194.220567         58   среднее             1   \n",
              "6312         0     2194.220567         30   среднее             1   \n",
              "7808         0     2194.220567         57   среднее             1   \n",
              "7921         0     2194.220567         64    высшее             0   \n",
              "7938         0     2194.220567         71   среднее             1   \n",
              "8583         0     2194.220567         58    высшее             0   \n",
              "\n",
              "              family_status  family_status_id gender income_type  debt  \\\n",
              "2849        женат / замужем                 0      F   сотрудник     0   \n",
              "3290       гражданский брак                 1      F   пенсионер     0   \n",
              "4182       гражданский брак                 1      F   сотрудник     0   \n",
              "4851       гражданский брак                 1      F   пенсионер     0   \n",
              "5557       гражданский брак                 1      F   пенсионер     0   \n",
              "6312        женат / замужем                 0      M   сотрудник     0   \n",
              "7808       гражданский брак                 1      F   пенсионер     0   \n",
              "7921       гражданский брак                 1      F   пенсионер     0   \n",
              "7938       гражданский брак                 1      F   пенсионер     0   \n",
              "8583  не женат / не замужем                 4      F   пенсионер     0   \n",
              "\n",
              "       total_income                           purpose  \n",
              "2849  145017.937533           покупка жилья для семьи  \n",
              "3290  145017.937533                   сыграть свадьбу  \n",
              "4182  145017.937533                           свадьба  \n",
              "4851  145017.937533                           свадьба  \n",
              "5557  145017.937533                   сыграть свадьбу  \n",
              "6312  145017.937533  строительство жилой недвижимости  \n",
              "7808  145017.937533             на проведение свадьбы  \n",
              "7921  145017.937533             на проведение свадьбы  \n",
              "7938  145017.937533             на проведение свадьбы  \n",
              "8583  145017.937533        дополнительное образование  "
            ],
            "text/html": [
              "\n",
              "  <div id=\"df-9b0e0569-1f0f-441d-adff-f06f18e6fbad\">\n",
              "    <div class=\"colab-df-container\">\n",
              "      <div>\n",
              "<style scoped>\n",
              "    .dataframe tbody tr th:only-of-type {\n",
              "        vertical-align: middle;\n",
              "    }\n",
              "\n",
              "    .dataframe tbody tr th {\n",
              "        vertical-align: top;\n",
              "    }\n",
              "\n",
              "    .dataframe thead th {\n",
              "        text-align: right;\n",
              "    }\n",
              "</style>\n",
              "<table border=\"1\" class=\"dataframe\">\n",
              "  <thead>\n",
              "    <tr style=\"text-align: right;\">\n",
              "      <th></th>\n",
              "      <th>children</th>\n",
              "      <th>hours_employed</th>\n",
              "      <th>dob_years</th>\n",
              "      <th>education</th>\n",
              "      <th>education_id</th>\n",
              "      <th>family_status</th>\n",
              "      <th>family_status_id</th>\n",
              "      <th>gender</th>\n",
              "      <th>income_type</th>\n",
              "      <th>debt</th>\n",
              "      <th>total_income</th>\n",
              "      <th>purpose</th>\n",
              "    </tr>\n",
              "  </thead>\n",
              "  <tbody>\n",
              "    <tr>\n",
              "      <th>2849</th>\n",
              "      <td>0</td>\n",
              "      <td>2194.220567</td>\n",
              "      <td>41</td>\n",
              "      <td>среднее</td>\n",
              "      <td>1</td>\n",
              "      <td>женат / замужем</td>\n",
              "      <td>0</td>\n",
              "      <td>F</td>\n",
              "      <td>сотрудник</td>\n",
              "      <td>0</td>\n",
              "      <td>145017.937533</td>\n",
              "      <td>покупка жилья для семьи</td>\n",
              "    </tr>\n",
              "    <tr>\n",
              "      <th>3290</th>\n",
              "      <td>0</td>\n",
              "      <td>2194.220567</td>\n",
              "      <td>58</td>\n",
              "      <td>среднее</td>\n",
              "      <td>1</td>\n",
              "      <td>гражданский брак</td>\n",
              "      <td>1</td>\n",
              "      <td>F</td>\n",
              "      <td>пенсионер</td>\n",
              "      <td>0</td>\n",
              "      <td>145017.937533</td>\n",
              "      <td>сыграть свадьбу</td>\n",
              "    </tr>\n",
              "    <tr>\n",
              "      <th>4182</th>\n",
              "      <td>1</td>\n",
              "      <td>2194.220567</td>\n",
              "      <td>34</td>\n",
              "      <td>высшее</td>\n",
              "      <td>0</td>\n",
              "      <td>гражданский брак</td>\n",
              "      <td>1</td>\n",
              "      <td>F</td>\n",
              "      <td>сотрудник</td>\n",
              "      <td>0</td>\n",
              "      <td>145017.937533</td>\n",
              "      <td>свадьба</td>\n",
              "    </tr>\n",
              "    <tr>\n",
              "      <th>4851</th>\n",
              "      <td>0</td>\n",
              "      <td>2194.220567</td>\n",
              "      <td>60</td>\n",
              "      <td>среднее</td>\n",
              "      <td>1</td>\n",
              "      <td>гражданский брак</td>\n",
              "      <td>1</td>\n",
              "      <td>F</td>\n",
              "      <td>пенсионер</td>\n",
              "      <td>0</td>\n",
              "      <td>145017.937533</td>\n",
              "      <td>свадьба</td>\n",
              "    </tr>\n",
              "    <tr>\n",
              "      <th>5557</th>\n",
              "      <td>0</td>\n",
              "      <td>2194.220567</td>\n",
              "      <td>58</td>\n",
              "      <td>среднее</td>\n",
              "      <td>1</td>\n",
              "      <td>гражданский брак</td>\n",
              "      <td>1</td>\n",
              "      <td>F</td>\n",
              "      <td>пенсионер</td>\n",
              "      <td>0</td>\n",
              "      <td>145017.937533</td>\n",
              "      <td>сыграть свадьбу</td>\n",
              "    </tr>\n",
              "    <tr>\n",
              "      <th>6312</th>\n",
              "      <td>0</td>\n",
              "      <td>2194.220567</td>\n",
              "      <td>30</td>\n",
              "      <td>среднее</td>\n",
              "      <td>1</td>\n",
              "      <td>женат / замужем</td>\n",
              "      <td>0</td>\n",
              "      <td>M</td>\n",
              "      <td>сотрудник</td>\n",
              "      <td>0</td>\n",
              "      <td>145017.937533</td>\n",
              "      <td>строительство жилой недвижимости</td>\n",
              "    </tr>\n",
              "    <tr>\n",
              "      <th>7808</th>\n",
              "      <td>0</td>\n",
              "      <td>2194.220567</td>\n",
              "      <td>57</td>\n",
              "      <td>среднее</td>\n",
              "      <td>1</td>\n",
              "      <td>гражданский брак</td>\n",
              "      <td>1</td>\n",
              "      <td>F</td>\n",
              "      <td>пенсионер</td>\n",
              "      <td>0</td>\n",
              "      <td>145017.937533</td>\n",
              "      <td>на проведение свадьбы</td>\n",
              "    </tr>\n",
              "    <tr>\n",
              "      <th>7921</th>\n",
              "      <td>0</td>\n",
              "      <td>2194.220567</td>\n",
              "      <td>64</td>\n",
              "      <td>высшее</td>\n",
              "      <td>0</td>\n",
              "      <td>гражданский брак</td>\n",
              "      <td>1</td>\n",
              "      <td>F</td>\n",
              "      <td>пенсионер</td>\n",
              "      <td>0</td>\n",
              "      <td>145017.937533</td>\n",
              "      <td>на проведение свадьбы</td>\n",
              "    </tr>\n",
              "    <tr>\n",
              "      <th>7938</th>\n",
              "      <td>0</td>\n",
              "      <td>2194.220567</td>\n",
              "      <td>71</td>\n",
              "      <td>среднее</td>\n",
              "      <td>1</td>\n",
              "      <td>гражданский брак</td>\n",
              "      <td>1</td>\n",
              "      <td>F</td>\n",
              "      <td>пенсионер</td>\n",
              "      <td>0</td>\n",
              "      <td>145017.937533</td>\n",
              "      <td>на проведение свадьбы</td>\n",
              "    </tr>\n",
              "    <tr>\n",
              "      <th>8583</th>\n",
              "      <td>0</td>\n",
              "      <td>2194.220567</td>\n",
              "      <td>58</td>\n",
              "      <td>высшее</td>\n",
              "      <td>0</td>\n",
              "      <td>не женат / не замужем</td>\n",
              "      <td>4</td>\n",
              "      <td>F</td>\n",
              "      <td>пенсионер</td>\n",
              "      <td>0</td>\n",
              "      <td>145017.937533</td>\n",
              "      <td>дополнительное образование</td>\n",
              "    </tr>\n",
              "  </tbody>\n",
              "</table>\n",
              "</div>\n",
              "      <button class=\"colab-df-convert\" onclick=\"convertToInteractive('df-9b0e0569-1f0f-441d-adff-f06f18e6fbad')\"\n",
              "              title=\"Convert this dataframe to an interactive table.\"\n",
              "              style=\"display:none;\">\n",
              "        \n",
              "  <svg xmlns=\"http://www.w3.org/2000/svg\" height=\"24px\"viewBox=\"0 0 24 24\"\n",
              "       width=\"24px\">\n",
              "    <path d=\"M0 0h24v24H0V0z\" fill=\"none\"/>\n",
              "    <path d=\"M18.56 5.44l.94 2.06.94-2.06 2.06-.94-2.06-.94-.94-2.06-.94 2.06-2.06.94zm-11 1L8.5 8.5l.94-2.06 2.06-.94-2.06-.94L8.5 2.5l-.94 2.06-2.06.94zm10 10l.94 2.06.94-2.06 2.06-.94-2.06-.94-.94-2.06-.94 2.06-2.06.94z\"/><path d=\"M17.41 7.96l-1.37-1.37c-.4-.4-.92-.59-1.43-.59-.52 0-1.04.2-1.43.59L10.3 9.45l-7.72 7.72c-.78.78-.78 2.05 0 2.83L4 21.41c.39.39.9.59 1.41.59.51 0 1.02-.2 1.41-.59l7.78-7.78 2.81-2.81c.8-.78.8-2.07 0-2.86zM5.41 20L4 18.59l7.72-7.72 1.47 1.35L5.41 20z\"/>\n",
              "  </svg>\n",
              "      </button>\n",
              "      \n",
              "  <style>\n",
              "    .colab-df-container {\n",
              "      display:flex;\n",
              "      flex-wrap:wrap;\n",
              "      gap: 12px;\n",
              "    }\n",
              "\n",
              "    .colab-df-convert {\n",
              "      background-color: #E8F0FE;\n",
              "      border: none;\n",
              "      border-radius: 50%;\n",
              "      cursor: pointer;\n",
              "      display: none;\n",
              "      fill: #1967D2;\n",
              "      height: 32px;\n",
              "      padding: 0 0 0 0;\n",
              "      width: 32px;\n",
              "    }\n",
              "\n",
              "    .colab-df-convert:hover {\n",
              "      background-color: #E2EBFA;\n",
              "      box-shadow: 0px 1px 2px rgba(60, 64, 67, 0.3), 0px 1px 3px 1px rgba(60, 64, 67, 0.15);\n",
              "      fill: #174EA6;\n",
              "    }\n",
              "\n",
              "    [theme=dark] .colab-df-convert {\n",
              "      background-color: #3B4455;\n",
              "      fill: #D2E3FC;\n",
              "    }\n",
              "\n",
              "    [theme=dark] .colab-df-convert:hover {\n",
              "      background-color: #434B5C;\n",
              "      box-shadow: 0px 1px 3px 1px rgba(0, 0, 0, 0.15);\n",
              "      filter: drop-shadow(0px 1px 2px rgba(0, 0, 0, 0.3));\n",
              "      fill: #FFFFFF;\n",
              "    }\n",
              "  </style>\n",
              "\n",
              "      <script>\n",
              "        const buttonEl =\n",
              "          document.querySelector('#df-9b0e0569-1f0f-441d-adff-f06f18e6fbad button.colab-df-convert');\n",
              "        buttonEl.style.display =\n",
              "          google.colab.kernel.accessAllowed ? 'block' : 'none';\n",
              "\n",
              "        async function convertToInteractive(key) {\n",
              "          const element = document.querySelector('#df-9b0e0569-1f0f-441d-adff-f06f18e6fbad');\n",
              "          const dataTable =\n",
              "            await google.colab.kernel.invokeFunction('convertToInteractive',\n",
              "                                                     [key], {});\n",
              "          if (!dataTable) return;\n",
              "\n",
              "          const docLinkHtml = 'Like what you see? Visit the ' +\n",
              "            '<a target=\"_blank\" href=https://colab.research.google.com/notebooks/data_table.ipynb>data table notebook</a>'\n",
              "            + ' to learn more about interactive tables.';\n",
              "          element.innerHTML = '';\n",
              "          dataTable['output_type'] = 'display_data';\n",
              "          await google.colab.output.renderOutput(dataTable, element);\n",
              "          const docLink = document.createElement('div');\n",
              "          docLink.innerHTML = docLinkHtml;\n",
              "          element.appendChild(docLink);\n",
              "        }\n",
              "      </script>\n",
              "    </div>\n",
              "  </div>\n",
              "  "
            ]
          },
          "metadata": {},
          "execution_count": 31
        }
      ],
      "source": [
        "df[df.duplicated()].head(10)"
      ]
    },
    {
      "cell_type": "markdown",
      "id": "be4f70ff",
      "metadata": {
        "id": "be4f70ff"
      },
      "source": [
        "Посчитаем долю дубликатов в датафрейме в процентах."
      ]
    },
    {
      "cell_type": "code",
      "execution_count": 32,
      "id": "0475a375",
      "metadata": {
        "colab": {
          "base_uri": "https://localhost:8080/"
        },
        "id": "0475a375",
        "outputId": "dff95b85-8104-43f3-91ee-1b46abc28e0b"
      },
      "outputs": [
        {
          "output_type": "execute_result",
          "data": {
            "text/plain": [
              "children            0.3\n",
              "hours_employed      0.3\n",
              "dob_years           0.3\n",
              "education           0.3\n",
              "education_id        0.3\n",
              "family_status       0.3\n",
              "family_status_id    0.3\n",
              "gender              0.3\n",
              "income_type         0.3\n",
              "debt                0.3\n",
              "total_income        0.3\n",
              "purpose             0.3\n",
              "dtype: float64"
            ]
          },
          "metadata": {},
          "execution_count": 32
        }
      ],
      "source": [
        "(df.duplicated().sum() / df.count() * 100).round(1)"
      ]
    },
    {
      "cell_type": "markdown",
      "id": "bd8eadf4",
      "metadata": {
        "id": "bd8eadf4"
      },
      "source": [
        "Доля дубликатов составляет `0.3%`. Это не так много, поэтому явные дубликаты можно удалить. Перезапишем датафрейм без дубликатов."
      ]
    },
    {
      "cell_type": "code",
      "execution_count": 33,
      "id": "f1efce41",
      "metadata": {
        "colab": {
          "base_uri": "https://localhost:8080/"
        },
        "id": "f1efce41",
        "outputId": "4b554688-a417-4c55-e5f2-139e1d15a01c"
      },
      "outputs": [
        {
          "output_type": "execute_result",
          "data": {
            "text/plain": [
              "0"
            ]
          },
          "metadata": {},
          "execution_count": 33
        }
      ],
      "source": [
        "df = df.drop_duplicates().reset_index(drop=True)\n",
        "\n",
        "#проверяем, остались ли дубликаты в таблице\n",
        "df.duplicated().sum()"
      ]
    },
    {
      "cell_type": "markdown",
      "id": "bc2064e4",
      "metadata": {
        "id": "bc2064e4"
      },
      "source": [
        "### Изменение типов данных."
      ]
    },
    {
      "cell_type": "markdown",
      "id": "ed39c645",
      "metadata": {
        "id": "ed39c645"
      },
      "source": [
        "Для упрощения анализа и большей наглядности стоит поменять тип данных в колонках `hours_employed` и `total_income`. Часы - маленькая единица значения, будет достаточно выражения в целых числах. Так же и с доходом: копейки не так важны."
      ]
    },
    {
      "cell_type": "markdown",
      "id": "1e92d081",
      "metadata": {
        "id": "1e92d081"
      },
      "source": [
        "Также заменим тип колонки `'debt'` на `bool`. Теперь вместо `0` и `1` в колонке будет отображаться `False` и `True` соответственно."
      ]
    },
    {
      "cell_type": "code",
      "execution_count": 34,
      "id": "b57017ce",
      "metadata": {
        "colab": {
          "base_uri": "https://localhost:8080/"
        },
        "id": "b57017ce",
        "outputId": "91882a05-60a8-4bbc-d822-4f8d241a71d7"
      },
      "outputs": [
        {
          "output_type": "stream",
          "name": "stdout",
          "text": [
            "<class 'pandas.core.frame.DataFrame'>\n",
            "RangeIndex: 21452 entries, 0 to 21451\n",
            "Data columns (total 12 columns):\n",
            " #   Column            Non-Null Count  Dtype \n",
            "---  ------            --------------  ----- \n",
            " 0   children          21452 non-null  int64 \n",
            " 1   hours_employed    21452 non-null  int64 \n",
            " 2   dob_years         21452 non-null  int64 \n",
            " 3   education         21452 non-null  object\n",
            " 4   education_id      21452 non-null  int64 \n",
            " 5   family_status     21452 non-null  object\n",
            " 6   family_status_id  21452 non-null  int64 \n",
            " 7   gender            21452 non-null  object\n",
            " 8   income_type       21452 non-null  object\n",
            " 9   debt              21452 non-null  bool  \n",
            " 10  total_income      21452 non-null  int64 \n",
            " 11  purpose           21452 non-null  object\n",
            "dtypes: bool(1), int64(6), object(5)\n",
            "memory usage: 1.8+ MB\n"
          ]
        }
      ],
      "source": [
        "df['hours_employed'] = df['hours_employed'].astype('int')\n",
        "df['total_income'] = df['total_income'].astype('int')\n",
        "df['debt'] = df['debt'].astype('bool')\n",
        "\n",
        "df.info() # проверяем, поменялся ли тип данных."
      ]
    },
    {
      "cell_type": "markdown",
      "id": "52a2656e",
      "metadata": {
        "id": "52a2656e"
      },
      "source": [
        "Посмотрим, как теперь выглядят данные в таблице."
      ]
    },
    {
      "cell_type": "code",
      "execution_count": 35,
      "id": "77af2cbd",
      "metadata": {
        "colab": {
          "base_uri": "https://localhost:8080/",
          "height": 206
        },
        "id": "77af2cbd",
        "outputId": "a750307a-e8b9-4765-96e4-53cf1e737b93"
      },
      "outputs": [
        {
          "output_type": "execute_result",
          "data": {
            "text/plain": [
              "   children  hours_employed  dob_years education  education_id  \\\n",
              "0         1            8437         42    высшее             0   \n",
              "1         1            4024         36   среднее             1   \n",
              "2         0            5623         33   среднее             1   \n",
              "3         3            4124         32   среднее             1   \n",
              "4         0          340266         53   среднее             1   \n",
              "\n",
              "      family_status  family_status_id gender income_type   debt  total_income  \\\n",
              "0   женат / замужем                 0      F   сотрудник  False        253875   \n",
              "1   женат / замужем                 0      F   сотрудник  False        112080   \n",
              "2   женат / замужем                 0      M   сотрудник  False        145885   \n",
              "3   женат / замужем                 0      M   сотрудник  False        267628   \n",
              "4  гражданский брак                 1      F   пенсионер  False        158616   \n",
              "\n",
              "                      purpose  \n",
              "0               покупка жилья  \n",
              "1     приобретение автомобиля  \n",
              "2               покупка жилья  \n",
              "3  дополнительное образование  \n",
              "4             сыграть свадьбу  "
            ],
            "text/html": [
              "\n",
              "  <div id=\"df-cca69183-36e7-41ef-9ed1-7d5cf84b227b\">\n",
              "    <div class=\"colab-df-container\">\n",
              "      <div>\n",
              "<style scoped>\n",
              "    .dataframe tbody tr th:only-of-type {\n",
              "        vertical-align: middle;\n",
              "    }\n",
              "\n",
              "    .dataframe tbody tr th {\n",
              "        vertical-align: top;\n",
              "    }\n",
              "\n",
              "    .dataframe thead th {\n",
              "        text-align: right;\n",
              "    }\n",
              "</style>\n",
              "<table border=\"1\" class=\"dataframe\">\n",
              "  <thead>\n",
              "    <tr style=\"text-align: right;\">\n",
              "      <th></th>\n",
              "      <th>children</th>\n",
              "      <th>hours_employed</th>\n",
              "      <th>dob_years</th>\n",
              "      <th>education</th>\n",
              "      <th>education_id</th>\n",
              "      <th>family_status</th>\n",
              "      <th>family_status_id</th>\n",
              "      <th>gender</th>\n",
              "      <th>income_type</th>\n",
              "      <th>debt</th>\n",
              "      <th>total_income</th>\n",
              "      <th>purpose</th>\n",
              "    </tr>\n",
              "  </thead>\n",
              "  <tbody>\n",
              "    <tr>\n",
              "      <th>0</th>\n",
              "      <td>1</td>\n",
              "      <td>8437</td>\n",
              "      <td>42</td>\n",
              "      <td>высшее</td>\n",
              "      <td>0</td>\n",
              "      <td>женат / замужем</td>\n",
              "      <td>0</td>\n",
              "      <td>F</td>\n",
              "      <td>сотрудник</td>\n",
              "      <td>False</td>\n",
              "      <td>253875</td>\n",
              "      <td>покупка жилья</td>\n",
              "    </tr>\n",
              "    <tr>\n",
              "      <th>1</th>\n",
              "      <td>1</td>\n",
              "      <td>4024</td>\n",
              "      <td>36</td>\n",
              "      <td>среднее</td>\n",
              "      <td>1</td>\n",
              "      <td>женат / замужем</td>\n",
              "      <td>0</td>\n",
              "      <td>F</td>\n",
              "      <td>сотрудник</td>\n",
              "      <td>False</td>\n",
              "      <td>112080</td>\n",
              "      <td>приобретение автомобиля</td>\n",
              "    </tr>\n",
              "    <tr>\n",
              "      <th>2</th>\n",
              "      <td>0</td>\n",
              "      <td>5623</td>\n",
              "      <td>33</td>\n",
              "      <td>среднее</td>\n",
              "      <td>1</td>\n",
              "      <td>женат / замужем</td>\n",
              "      <td>0</td>\n",
              "      <td>M</td>\n",
              "      <td>сотрудник</td>\n",
              "      <td>False</td>\n",
              "      <td>145885</td>\n",
              "      <td>покупка жилья</td>\n",
              "    </tr>\n",
              "    <tr>\n",
              "      <th>3</th>\n",
              "      <td>3</td>\n",
              "      <td>4124</td>\n",
              "      <td>32</td>\n",
              "      <td>среднее</td>\n",
              "      <td>1</td>\n",
              "      <td>женат / замужем</td>\n",
              "      <td>0</td>\n",
              "      <td>M</td>\n",
              "      <td>сотрудник</td>\n",
              "      <td>False</td>\n",
              "      <td>267628</td>\n",
              "      <td>дополнительное образование</td>\n",
              "    </tr>\n",
              "    <tr>\n",
              "      <th>4</th>\n",
              "      <td>0</td>\n",
              "      <td>340266</td>\n",
              "      <td>53</td>\n",
              "      <td>среднее</td>\n",
              "      <td>1</td>\n",
              "      <td>гражданский брак</td>\n",
              "      <td>1</td>\n",
              "      <td>F</td>\n",
              "      <td>пенсионер</td>\n",
              "      <td>False</td>\n",
              "      <td>158616</td>\n",
              "      <td>сыграть свадьбу</td>\n",
              "    </tr>\n",
              "  </tbody>\n",
              "</table>\n",
              "</div>\n",
              "      <button class=\"colab-df-convert\" onclick=\"convertToInteractive('df-cca69183-36e7-41ef-9ed1-7d5cf84b227b')\"\n",
              "              title=\"Convert this dataframe to an interactive table.\"\n",
              "              style=\"display:none;\">\n",
              "        \n",
              "  <svg xmlns=\"http://www.w3.org/2000/svg\" height=\"24px\"viewBox=\"0 0 24 24\"\n",
              "       width=\"24px\">\n",
              "    <path d=\"M0 0h24v24H0V0z\" fill=\"none\"/>\n",
              "    <path d=\"M18.56 5.44l.94 2.06.94-2.06 2.06-.94-2.06-.94-.94-2.06-.94 2.06-2.06.94zm-11 1L8.5 8.5l.94-2.06 2.06-.94-2.06-.94L8.5 2.5l-.94 2.06-2.06.94zm10 10l.94 2.06.94-2.06 2.06-.94-2.06-.94-.94-2.06-.94 2.06-2.06.94z\"/><path d=\"M17.41 7.96l-1.37-1.37c-.4-.4-.92-.59-1.43-.59-.52 0-1.04.2-1.43.59L10.3 9.45l-7.72 7.72c-.78.78-.78 2.05 0 2.83L4 21.41c.39.39.9.59 1.41.59.51 0 1.02-.2 1.41-.59l7.78-7.78 2.81-2.81c.8-.78.8-2.07 0-2.86zM5.41 20L4 18.59l7.72-7.72 1.47 1.35L5.41 20z\"/>\n",
              "  </svg>\n",
              "      </button>\n",
              "      \n",
              "  <style>\n",
              "    .colab-df-container {\n",
              "      display:flex;\n",
              "      flex-wrap:wrap;\n",
              "      gap: 12px;\n",
              "    }\n",
              "\n",
              "    .colab-df-convert {\n",
              "      background-color: #E8F0FE;\n",
              "      border: none;\n",
              "      border-radius: 50%;\n",
              "      cursor: pointer;\n",
              "      display: none;\n",
              "      fill: #1967D2;\n",
              "      height: 32px;\n",
              "      padding: 0 0 0 0;\n",
              "      width: 32px;\n",
              "    }\n",
              "\n",
              "    .colab-df-convert:hover {\n",
              "      background-color: #E2EBFA;\n",
              "      box-shadow: 0px 1px 2px rgba(60, 64, 67, 0.3), 0px 1px 3px 1px rgba(60, 64, 67, 0.15);\n",
              "      fill: #174EA6;\n",
              "    }\n",
              "\n",
              "    [theme=dark] .colab-df-convert {\n",
              "      background-color: #3B4455;\n",
              "      fill: #D2E3FC;\n",
              "    }\n",
              "\n",
              "    [theme=dark] .colab-df-convert:hover {\n",
              "      background-color: #434B5C;\n",
              "      box-shadow: 0px 1px 3px 1px rgba(0, 0, 0, 0.15);\n",
              "      filter: drop-shadow(0px 1px 2px rgba(0, 0, 0, 0.3));\n",
              "      fill: #FFFFFF;\n",
              "    }\n",
              "  </style>\n",
              "\n",
              "      <script>\n",
              "        const buttonEl =\n",
              "          document.querySelector('#df-cca69183-36e7-41ef-9ed1-7d5cf84b227b button.colab-df-convert');\n",
              "        buttonEl.style.display =\n",
              "          google.colab.kernel.accessAllowed ? 'block' : 'none';\n",
              "\n",
              "        async function convertToInteractive(key) {\n",
              "          const element = document.querySelector('#df-cca69183-36e7-41ef-9ed1-7d5cf84b227b');\n",
              "          const dataTable =\n",
              "            await google.colab.kernel.invokeFunction('convertToInteractive',\n",
              "                                                     [key], {});\n",
              "          if (!dataTable) return;\n",
              "\n",
              "          const docLinkHtml = 'Like what you see? Visit the ' +\n",
              "            '<a target=\"_blank\" href=https://colab.research.google.com/notebooks/data_table.ipynb>data table notebook</a>'\n",
              "            + ' to learn more about interactive tables.';\n",
              "          element.innerHTML = '';\n",
              "          dataTable['output_type'] = 'display_data';\n",
              "          await google.colab.output.renderOutput(dataTable, element);\n",
              "          const docLink = document.createElement('div');\n",
              "          docLink.innerHTML = docLinkHtml;\n",
              "          element.appendChild(docLink);\n",
              "        }\n",
              "      </script>\n",
              "    </div>\n",
              "  </div>\n",
              "  "
            ]
          },
          "metadata": {},
          "execution_count": 35
        }
      ],
      "source": [
        "df.head()"
      ]
    },
    {
      "cell_type": "markdown",
      "id": "f2037ff1",
      "metadata": {
        "id": "f2037ff1"
      },
      "source": [
        "### Формирование дополнительных датафреймов словарей, декомпозиция исходного датафрейма."
      ]
    },
    {
      "cell_type": "markdown",
      "id": "fe300d4f",
      "metadata": {
        "id": "fe300d4f"
      },
      "source": [
        "Данные об образовании и семейном статусе выражены не только в виде наименований, но и в виде индентификаторов. Создадим два датафрейма-словаря для этих данных, чтобы облегчить основной датафрейм."
      ]
    },
    {
      "cell_type": "code",
      "execution_count": 36,
      "id": "d5176cda",
      "metadata": {
        "colab": {
          "base_uri": "https://localhost:8080/",
          "height": 206
        },
        "id": "d5176cda",
        "outputId": "f1911542-c212-4d57-dbe2-e97c2a071363"
      },
      "outputs": [
        {
          "output_type": "execute_result",
          "data": {
            "text/plain": [
              "             education  education_id\n",
              "0               высшее             0\n",
              "1              среднее             1\n",
              "2  неоконченное высшее             2\n",
              "3            начальное             3\n",
              "4       ученая степень             4"
            ],
            "text/html": [
              "\n",
              "  <div id=\"df-113d0159-220a-4feb-922a-e4c77d51f819\">\n",
              "    <div class=\"colab-df-container\">\n",
              "      <div>\n",
              "<style scoped>\n",
              "    .dataframe tbody tr th:only-of-type {\n",
              "        vertical-align: middle;\n",
              "    }\n",
              "\n",
              "    .dataframe tbody tr th {\n",
              "        vertical-align: top;\n",
              "    }\n",
              "\n",
              "    .dataframe thead th {\n",
              "        text-align: right;\n",
              "    }\n",
              "</style>\n",
              "<table border=\"1\" class=\"dataframe\">\n",
              "  <thead>\n",
              "    <tr style=\"text-align: right;\">\n",
              "      <th></th>\n",
              "      <th>education</th>\n",
              "      <th>education_id</th>\n",
              "    </tr>\n",
              "  </thead>\n",
              "  <tbody>\n",
              "    <tr>\n",
              "      <th>0</th>\n",
              "      <td>высшее</td>\n",
              "      <td>0</td>\n",
              "    </tr>\n",
              "    <tr>\n",
              "      <th>1</th>\n",
              "      <td>среднее</td>\n",
              "      <td>1</td>\n",
              "    </tr>\n",
              "    <tr>\n",
              "      <th>2</th>\n",
              "      <td>неоконченное высшее</td>\n",
              "      <td>2</td>\n",
              "    </tr>\n",
              "    <tr>\n",
              "      <th>3</th>\n",
              "      <td>начальное</td>\n",
              "      <td>3</td>\n",
              "    </tr>\n",
              "    <tr>\n",
              "      <th>4</th>\n",
              "      <td>ученая степень</td>\n",
              "      <td>4</td>\n",
              "    </tr>\n",
              "  </tbody>\n",
              "</table>\n",
              "</div>\n",
              "      <button class=\"colab-df-convert\" onclick=\"convertToInteractive('df-113d0159-220a-4feb-922a-e4c77d51f819')\"\n",
              "              title=\"Convert this dataframe to an interactive table.\"\n",
              "              style=\"display:none;\">\n",
              "        \n",
              "  <svg xmlns=\"http://www.w3.org/2000/svg\" height=\"24px\"viewBox=\"0 0 24 24\"\n",
              "       width=\"24px\">\n",
              "    <path d=\"M0 0h24v24H0V0z\" fill=\"none\"/>\n",
              "    <path d=\"M18.56 5.44l.94 2.06.94-2.06 2.06-.94-2.06-.94-.94-2.06-.94 2.06-2.06.94zm-11 1L8.5 8.5l.94-2.06 2.06-.94-2.06-.94L8.5 2.5l-.94 2.06-2.06.94zm10 10l.94 2.06.94-2.06 2.06-.94-2.06-.94-.94-2.06-.94 2.06-2.06.94z\"/><path d=\"M17.41 7.96l-1.37-1.37c-.4-.4-.92-.59-1.43-.59-.52 0-1.04.2-1.43.59L10.3 9.45l-7.72 7.72c-.78.78-.78 2.05 0 2.83L4 21.41c.39.39.9.59 1.41.59.51 0 1.02-.2 1.41-.59l7.78-7.78 2.81-2.81c.8-.78.8-2.07 0-2.86zM5.41 20L4 18.59l7.72-7.72 1.47 1.35L5.41 20z\"/>\n",
              "  </svg>\n",
              "      </button>\n",
              "      \n",
              "  <style>\n",
              "    .colab-df-container {\n",
              "      display:flex;\n",
              "      flex-wrap:wrap;\n",
              "      gap: 12px;\n",
              "    }\n",
              "\n",
              "    .colab-df-convert {\n",
              "      background-color: #E8F0FE;\n",
              "      border: none;\n",
              "      border-radius: 50%;\n",
              "      cursor: pointer;\n",
              "      display: none;\n",
              "      fill: #1967D2;\n",
              "      height: 32px;\n",
              "      padding: 0 0 0 0;\n",
              "      width: 32px;\n",
              "    }\n",
              "\n",
              "    .colab-df-convert:hover {\n",
              "      background-color: #E2EBFA;\n",
              "      box-shadow: 0px 1px 2px rgba(60, 64, 67, 0.3), 0px 1px 3px 1px rgba(60, 64, 67, 0.15);\n",
              "      fill: #174EA6;\n",
              "    }\n",
              "\n",
              "    [theme=dark] .colab-df-convert {\n",
              "      background-color: #3B4455;\n",
              "      fill: #D2E3FC;\n",
              "    }\n",
              "\n",
              "    [theme=dark] .colab-df-convert:hover {\n",
              "      background-color: #434B5C;\n",
              "      box-shadow: 0px 1px 3px 1px rgba(0, 0, 0, 0.15);\n",
              "      filter: drop-shadow(0px 1px 2px rgba(0, 0, 0, 0.3));\n",
              "      fill: #FFFFFF;\n",
              "    }\n",
              "  </style>\n",
              "\n",
              "      <script>\n",
              "        const buttonEl =\n",
              "          document.querySelector('#df-113d0159-220a-4feb-922a-e4c77d51f819 button.colab-df-convert');\n",
              "        buttonEl.style.display =\n",
              "          google.colab.kernel.accessAllowed ? 'block' : 'none';\n",
              "\n",
              "        async function convertToInteractive(key) {\n",
              "          const element = document.querySelector('#df-113d0159-220a-4feb-922a-e4c77d51f819');\n",
              "          const dataTable =\n",
              "            await google.colab.kernel.invokeFunction('convertToInteractive',\n",
              "                                                     [key], {});\n",
              "          if (!dataTable) return;\n",
              "\n",
              "          const docLinkHtml = 'Like what you see? Visit the ' +\n",
              "            '<a target=\"_blank\" href=https://colab.research.google.com/notebooks/data_table.ipynb>data table notebook</a>'\n",
              "            + ' to learn more about interactive tables.';\n",
              "          element.innerHTML = '';\n",
              "          dataTable['output_type'] = 'display_data';\n",
              "          await google.colab.output.renderOutput(dataTable, element);\n",
              "          const docLink = document.createElement('div');\n",
              "          docLink.innerHTML = docLinkHtml;\n",
              "          element.appendChild(docLink);\n",
              "        }\n",
              "      </script>\n",
              "    </div>\n",
              "  </div>\n",
              "  "
            ]
          },
          "metadata": {},
          "execution_count": 36
        }
      ],
      "source": [
        "df_education = (\n",
        "    df[['education', 'education_id']].drop_duplicates().reset_index(drop=True)\n",
        ")\n",
        "\n",
        "df_education # проверяем содержание нового датафрейма."
      ]
    },
    {
      "cell_type": "code",
      "execution_count": 37,
      "id": "2f057927",
      "metadata": {
        "colab": {
          "base_uri": "https://localhost:8080/",
          "height": 206
        },
        "id": "2f057927",
        "outputId": "64bac2f8-a935-483d-bad3-f67d7ba0a2f0"
      },
      "outputs": [
        {
          "output_type": "execute_result",
          "data": {
            "text/plain": [
              "           family_status  family_status_id\n",
              "0        женат / замужем                 0\n",
              "1       гражданский брак                 1\n",
              "2         вдовец / вдова                 2\n",
              "3              в разводе                 3\n",
              "4  не женат / не замужем                 4"
            ],
            "text/html": [
              "\n",
              "  <div id=\"df-5156d02d-2879-44aa-9e5b-43235cc50a39\">\n",
              "    <div class=\"colab-df-container\">\n",
              "      <div>\n",
              "<style scoped>\n",
              "    .dataframe tbody tr th:only-of-type {\n",
              "        vertical-align: middle;\n",
              "    }\n",
              "\n",
              "    .dataframe tbody tr th {\n",
              "        vertical-align: top;\n",
              "    }\n",
              "\n",
              "    .dataframe thead th {\n",
              "        text-align: right;\n",
              "    }\n",
              "</style>\n",
              "<table border=\"1\" class=\"dataframe\">\n",
              "  <thead>\n",
              "    <tr style=\"text-align: right;\">\n",
              "      <th></th>\n",
              "      <th>family_status</th>\n",
              "      <th>family_status_id</th>\n",
              "    </tr>\n",
              "  </thead>\n",
              "  <tbody>\n",
              "    <tr>\n",
              "      <th>0</th>\n",
              "      <td>женат / замужем</td>\n",
              "      <td>0</td>\n",
              "    </tr>\n",
              "    <tr>\n",
              "      <th>1</th>\n",
              "      <td>гражданский брак</td>\n",
              "      <td>1</td>\n",
              "    </tr>\n",
              "    <tr>\n",
              "      <th>2</th>\n",
              "      <td>вдовец / вдова</td>\n",
              "      <td>2</td>\n",
              "    </tr>\n",
              "    <tr>\n",
              "      <th>3</th>\n",
              "      <td>в разводе</td>\n",
              "      <td>3</td>\n",
              "    </tr>\n",
              "    <tr>\n",
              "      <th>4</th>\n",
              "      <td>не женат / не замужем</td>\n",
              "      <td>4</td>\n",
              "    </tr>\n",
              "  </tbody>\n",
              "</table>\n",
              "</div>\n",
              "      <button class=\"colab-df-convert\" onclick=\"convertToInteractive('df-5156d02d-2879-44aa-9e5b-43235cc50a39')\"\n",
              "              title=\"Convert this dataframe to an interactive table.\"\n",
              "              style=\"display:none;\">\n",
              "        \n",
              "  <svg xmlns=\"http://www.w3.org/2000/svg\" height=\"24px\"viewBox=\"0 0 24 24\"\n",
              "       width=\"24px\">\n",
              "    <path d=\"M0 0h24v24H0V0z\" fill=\"none\"/>\n",
              "    <path d=\"M18.56 5.44l.94 2.06.94-2.06 2.06-.94-2.06-.94-.94-2.06-.94 2.06-2.06.94zm-11 1L8.5 8.5l.94-2.06 2.06-.94-2.06-.94L8.5 2.5l-.94 2.06-2.06.94zm10 10l.94 2.06.94-2.06 2.06-.94-2.06-.94-.94-2.06-.94 2.06-2.06.94z\"/><path d=\"M17.41 7.96l-1.37-1.37c-.4-.4-.92-.59-1.43-.59-.52 0-1.04.2-1.43.59L10.3 9.45l-7.72 7.72c-.78.78-.78 2.05 0 2.83L4 21.41c.39.39.9.59 1.41.59.51 0 1.02-.2 1.41-.59l7.78-7.78 2.81-2.81c.8-.78.8-2.07 0-2.86zM5.41 20L4 18.59l7.72-7.72 1.47 1.35L5.41 20z\"/>\n",
              "  </svg>\n",
              "      </button>\n",
              "      \n",
              "  <style>\n",
              "    .colab-df-container {\n",
              "      display:flex;\n",
              "      flex-wrap:wrap;\n",
              "      gap: 12px;\n",
              "    }\n",
              "\n",
              "    .colab-df-convert {\n",
              "      background-color: #E8F0FE;\n",
              "      border: none;\n",
              "      border-radius: 50%;\n",
              "      cursor: pointer;\n",
              "      display: none;\n",
              "      fill: #1967D2;\n",
              "      height: 32px;\n",
              "      padding: 0 0 0 0;\n",
              "      width: 32px;\n",
              "    }\n",
              "\n",
              "    .colab-df-convert:hover {\n",
              "      background-color: #E2EBFA;\n",
              "      box-shadow: 0px 1px 2px rgba(60, 64, 67, 0.3), 0px 1px 3px 1px rgba(60, 64, 67, 0.15);\n",
              "      fill: #174EA6;\n",
              "    }\n",
              "\n",
              "    [theme=dark] .colab-df-convert {\n",
              "      background-color: #3B4455;\n",
              "      fill: #D2E3FC;\n",
              "    }\n",
              "\n",
              "    [theme=dark] .colab-df-convert:hover {\n",
              "      background-color: #434B5C;\n",
              "      box-shadow: 0px 1px 3px 1px rgba(0, 0, 0, 0.15);\n",
              "      filter: drop-shadow(0px 1px 2px rgba(0, 0, 0, 0.3));\n",
              "      fill: #FFFFFF;\n",
              "    }\n",
              "  </style>\n",
              "\n",
              "      <script>\n",
              "        const buttonEl =\n",
              "          document.querySelector('#df-5156d02d-2879-44aa-9e5b-43235cc50a39 button.colab-df-convert');\n",
              "        buttonEl.style.display =\n",
              "          google.colab.kernel.accessAllowed ? 'block' : 'none';\n",
              "\n",
              "        async function convertToInteractive(key) {\n",
              "          const element = document.querySelector('#df-5156d02d-2879-44aa-9e5b-43235cc50a39');\n",
              "          const dataTable =\n",
              "            await google.colab.kernel.invokeFunction('convertToInteractive',\n",
              "                                                     [key], {});\n",
              "          if (!dataTable) return;\n",
              "\n",
              "          const docLinkHtml = 'Like what you see? Visit the ' +\n",
              "            '<a target=\"_blank\" href=https://colab.research.google.com/notebooks/data_table.ipynb>data table notebook</a>'\n",
              "            + ' to learn more about interactive tables.';\n",
              "          element.innerHTML = '';\n",
              "          dataTable['output_type'] = 'display_data';\n",
              "          await google.colab.output.renderOutput(dataTable, element);\n",
              "          const docLink = document.createElement('div');\n",
              "          docLink.innerHTML = docLinkHtml;\n",
              "          element.appendChild(docLink);\n",
              "        }\n",
              "      </script>\n",
              "    </div>\n",
              "  </div>\n",
              "  "
            ]
          },
          "metadata": {},
          "execution_count": 37
        }
      ],
      "source": [
        "df_family_status = (\n",
        "    df[['family_status', 'family_status_id']]\n",
        "    .drop_duplicates()\n",
        "    .reset_index(drop=True)\n",
        ")\n",
        "\n",
        "df_family_status # проверяем содержание нового датафрейма."
      ]
    },
    {
      "cell_type": "markdown",
      "id": "3781ab8f",
      "metadata": {
        "id": "3781ab8f"
      },
      "source": [
        "Удалим столбцы `'family_status'` и `'education'` из основного датафрейма, чтобы его облегчить."
      ]
    },
    {
      "cell_type": "code",
      "execution_count": 38,
      "id": "cc6f1471",
      "metadata": {
        "scrolled": true,
        "colab": {
          "base_uri": "https://localhost:8080/",
          "height": 206
        },
        "id": "cc6f1471",
        "outputId": "5d482d6a-036f-4ea9-c333-0101ab0d6579"
      },
      "outputs": [
        {
          "output_type": "execute_result",
          "data": {
            "text/plain": [
              "   children  hours_employed  dob_years  education_id  family_status_id gender  \\\n",
              "0         1            8437         42             0                 0      F   \n",
              "1         1            4024         36             1                 0      F   \n",
              "2         0            5623         33             1                 0      M   \n",
              "3         3            4124         32             1                 0      M   \n",
              "4         0          340266         53             1                 1      F   \n",
              "\n",
              "  income_type   debt  total_income                     purpose  \n",
              "0   сотрудник  False        253875               покупка жилья  \n",
              "1   сотрудник  False        112080     приобретение автомобиля  \n",
              "2   сотрудник  False        145885               покупка жилья  \n",
              "3   сотрудник  False        267628  дополнительное образование  \n",
              "4   пенсионер  False        158616             сыграть свадьбу  "
            ],
            "text/html": [
              "\n",
              "  <div id=\"df-e588d687-6c04-48d7-a37e-ae287e9fa4c2\">\n",
              "    <div class=\"colab-df-container\">\n",
              "      <div>\n",
              "<style scoped>\n",
              "    .dataframe tbody tr th:only-of-type {\n",
              "        vertical-align: middle;\n",
              "    }\n",
              "\n",
              "    .dataframe tbody tr th {\n",
              "        vertical-align: top;\n",
              "    }\n",
              "\n",
              "    .dataframe thead th {\n",
              "        text-align: right;\n",
              "    }\n",
              "</style>\n",
              "<table border=\"1\" class=\"dataframe\">\n",
              "  <thead>\n",
              "    <tr style=\"text-align: right;\">\n",
              "      <th></th>\n",
              "      <th>children</th>\n",
              "      <th>hours_employed</th>\n",
              "      <th>dob_years</th>\n",
              "      <th>education_id</th>\n",
              "      <th>family_status_id</th>\n",
              "      <th>gender</th>\n",
              "      <th>income_type</th>\n",
              "      <th>debt</th>\n",
              "      <th>total_income</th>\n",
              "      <th>purpose</th>\n",
              "    </tr>\n",
              "  </thead>\n",
              "  <tbody>\n",
              "    <tr>\n",
              "      <th>0</th>\n",
              "      <td>1</td>\n",
              "      <td>8437</td>\n",
              "      <td>42</td>\n",
              "      <td>0</td>\n",
              "      <td>0</td>\n",
              "      <td>F</td>\n",
              "      <td>сотрудник</td>\n",
              "      <td>False</td>\n",
              "      <td>253875</td>\n",
              "      <td>покупка жилья</td>\n",
              "    </tr>\n",
              "    <tr>\n",
              "      <th>1</th>\n",
              "      <td>1</td>\n",
              "      <td>4024</td>\n",
              "      <td>36</td>\n",
              "      <td>1</td>\n",
              "      <td>0</td>\n",
              "      <td>F</td>\n",
              "      <td>сотрудник</td>\n",
              "      <td>False</td>\n",
              "      <td>112080</td>\n",
              "      <td>приобретение автомобиля</td>\n",
              "    </tr>\n",
              "    <tr>\n",
              "      <th>2</th>\n",
              "      <td>0</td>\n",
              "      <td>5623</td>\n",
              "      <td>33</td>\n",
              "      <td>1</td>\n",
              "      <td>0</td>\n",
              "      <td>M</td>\n",
              "      <td>сотрудник</td>\n",
              "      <td>False</td>\n",
              "      <td>145885</td>\n",
              "      <td>покупка жилья</td>\n",
              "    </tr>\n",
              "    <tr>\n",
              "      <th>3</th>\n",
              "      <td>3</td>\n",
              "      <td>4124</td>\n",
              "      <td>32</td>\n",
              "      <td>1</td>\n",
              "      <td>0</td>\n",
              "      <td>M</td>\n",
              "      <td>сотрудник</td>\n",
              "      <td>False</td>\n",
              "      <td>267628</td>\n",
              "      <td>дополнительное образование</td>\n",
              "    </tr>\n",
              "    <tr>\n",
              "      <th>4</th>\n",
              "      <td>0</td>\n",
              "      <td>340266</td>\n",
              "      <td>53</td>\n",
              "      <td>1</td>\n",
              "      <td>1</td>\n",
              "      <td>F</td>\n",
              "      <td>пенсионер</td>\n",
              "      <td>False</td>\n",
              "      <td>158616</td>\n",
              "      <td>сыграть свадьбу</td>\n",
              "    </tr>\n",
              "  </tbody>\n",
              "</table>\n",
              "</div>\n",
              "      <button class=\"colab-df-convert\" onclick=\"convertToInteractive('df-e588d687-6c04-48d7-a37e-ae287e9fa4c2')\"\n",
              "              title=\"Convert this dataframe to an interactive table.\"\n",
              "              style=\"display:none;\">\n",
              "        \n",
              "  <svg xmlns=\"http://www.w3.org/2000/svg\" height=\"24px\"viewBox=\"0 0 24 24\"\n",
              "       width=\"24px\">\n",
              "    <path d=\"M0 0h24v24H0V0z\" fill=\"none\"/>\n",
              "    <path d=\"M18.56 5.44l.94 2.06.94-2.06 2.06-.94-2.06-.94-.94-2.06-.94 2.06-2.06.94zm-11 1L8.5 8.5l.94-2.06 2.06-.94-2.06-.94L8.5 2.5l-.94 2.06-2.06.94zm10 10l.94 2.06.94-2.06 2.06-.94-2.06-.94-.94-2.06-.94 2.06-2.06.94z\"/><path d=\"M17.41 7.96l-1.37-1.37c-.4-.4-.92-.59-1.43-.59-.52 0-1.04.2-1.43.59L10.3 9.45l-7.72 7.72c-.78.78-.78 2.05 0 2.83L4 21.41c.39.39.9.59 1.41.59.51 0 1.02-.2 1.41-.59l7.78-7.78 2.81-2.81c.8-.78.8-2.07 0-2.86zM5.41 20L4 18.59l7.72-7.72 1.47 1.35L5.41 20z\"/>\n",
              "  </svg>\n",
              "      </button>\n",
              "      \n",
              "  <style>\n",
              "    .colab-df-container {\n",
              "      display:flex;\n",
              "      flex-wrap:wrap;\n",
              "      gap: 12px;\n",
              "    }\n",
              "\n",
              "    .colab-df-convert {\n",
              "      background-color: #E8F0FE;\n",
              "      border: none;\n",
              "      border-radius: 50%;\n",
              "      cursor: pointer;\n",
              "      display: none;\n",
              "      fill: #1967D2;\n",
              "      height: 32px;\n",
              "      padding: 0 0 0 0;\n",
              "      width: 32px;\n",
              "    }\n",
              "\n",
              "    .colab-df-convert:hover {\n",
              "      background-color: #E2EBFA;\n",
              "      box-shadow: 0px 1px 2px rgba(60, 64, 67, 0.3), 0px 1px 3px 1px rgba(60, 64, 67, 0.15);\n",
              "      fill: #174EA6;\n",
              "    }\n",
              "\n",
              "    [theme=dark] .colab-df-convert {\n",
              "      background-color: #3B4455;\n",
              "      fill: #D2E3FC;\n",
              "    }\n",
              "\n",
              "    [theme=dark] .colab-df-convert:hover {\n",
              "      background-color: #434B5C;\n",
              "      box-shadow: 0px 1px 3px 1px rgba(0, 0, 0, 0.15);\n",
              "      filter: drop-shadow(0px 1px 2px rgba(0, 0, 0, 0.3));\n",
              "      fill: #FFFFFF;\n",
              "    }\n",
              "  </style>\n",
              "\n",
              "      <script>\n",
              "        const buttonEl =\n",
              "          document.querySelector('#df-e588d687-6c04-48d7-a37e-ae287e9fa4c2 button.colab-df-convert');\n",
              "        buttonEl.style.display =\n",
              "          google.colab.kernel.accessAllowed ? 'block' : 'none';\n",
              "\n",
              "        async function convertToInteractive(key) {\n",
              "          const element = document.querySelector('#df-e588d687-6c04-48d7-a37e-ae287e9fa4c2');\n",
              "          const dataTable =\n",
              "            await google.colab.kernel.invokeFunction('convertToInteractive',\n",
              "                                                     [key], {});\n",
              "          if (!dataTable) return;\n",
              "\n",
              "          const docLinkHtml = 'Like what you see? Visit the ' +\n",
              "            '<a target=\"_blank\" href=https://colab.research.google.com/notebooks/data_table.ipynb>data table notebook</a>'\n",
              "            + ' to learn more about interactive tables.';\n",
              "          element.innerHTML = '';\n",
              "          dataTable['output_type'] = 'display_data';\n",
              "          await google.colab.output.renderOutput(dataTable, element);\n",
              "          const docLink = document.createElement('div');\n",
              "          docLink.innerHTML = docLinkHtml;\n",
              "          element.appendChild(docLink);\n",
              "        }\n",
              "      </script>\n",
              "    </div>\n",
              "  </div>\n",
              "  "
            ]
          },
          "metadata": {},
          "execution_count": 38
        }
      ],
      "source": [
        "df = df.drop (columns=['family_status', 'education'])\n",
        "\n",
        "df.head() # проверяем содержание нового датафрейма."
      ]
    },
    {
      "cell_type": "markdown",
      "id": "e81b5d85",
      "metadata": {
        "id": "e81b5d85"
      },
      "source": [
        "### Категоризация дохода."
      ]
    },
    {
      "cell_type": "markdown",
      "id": "40ab7c4a",
      "metadata": {
        "id": "40ab7c4a"
      },
      "source": [
        "Для упрощения анализа разделим доход на категории:\n",
        "* `до 30000 руб.` — `E`;\n",
        "* `30001–50000 руб.` — `D`;\n",
        "* `50001–200000 руб.` — `C`;\n",
        "* `200001–1000000 руб.` — `B`;\n",
        "* `1000001 руб. и выше` — `A`."
      ]
    },
    {
      "cell_type": "code",
      "execution_count": 39,
      "id": "603b0547",
      "metadata": {
        "colab": {
          "base_uri": "https://localhost:8080/"
        },
        "id": "603b0547",
        "outputId": "1d97fbfb-1e1b-47d9-c8fd-a4cb20b09f21"
      },
      "outputs": [
        {
          "output_type": "execute_result",
          "data": {
            "text/plain": [
              "A       25\n",
              "B     5040\n",
              "C    16015\n",
              "D      350\n",
              "E       22\n",
              "Name: total_income_category, dtype: int64"
            ]
          },
          "metadata": {},
          "execution_count": 39
        }
      ],
      "source": [
        "def income_category(income):\n",
        "    if income <= 30000:\n",
        "        return 'E'\n",
        "    elif 30001 <= income <= 50000:\n",
        "        return 'D'\n",
        "    elif 50001 <= income <= 200000:\n",
        "        return 'C'\n",
        "    elif 200001 <= income <= 1000000:\n",
        "        return 'B'\n",
        "    elif 1000001 <= income:\n",
        "        return 'A'\n",
        "    \n",
        "df['total_income_category'] = df['total_income'].apply(income_category)\n",
        "\n",
        "# проверяем, как выглядят уникальные значения в новом столбце.\n",
        "df['total_income_category'].value_counts().sort_index() "
      ]
    },
    {
      "cell_type": "markdown",
      "id": "94f91d57",
      "metadata": {
        "id": "94f91d57"
      },
      "source": [
        "### Категоризация целей кредита."
      ]
    },
    {
      "cell_type": "code",
      "execution_count": 40,
      "id": "93780afc",
      "metadata": {
        "colab": {
          "base_uri": "https://localhost:8080/"
        },
        "id": "93780afc",
        "outputId": "4bd128b8-9f1e-4448-c775-534e5c42aba1"
      },
      "outputs": [
        {
          "output_type": "execute_result",
          "data": {
            "text/plain": [
              "свадьба                                   791\n",
              "на проведение свадьбы                     767\n",
              "сыграть свадьбу                           765\n",
              "операции с недвижимостью                  675\n",
              "покупка коммерческой недвижимости         661\n",
              "операции с жильем                         652\n",
              "покупка жилья для сдачи                   651\n",
              "операции с коммерческой недвижимостью     650\n",
              "покупка жилья                             646\n",
              "жилье                                     646\n",
              "покупка жилья для семьи                   638\n",
              "строительство собственной недвижимости    635\n",
              "недвижимость                              633\n",
              "операции со своей недвижимостью           627\n",
              "строительство жилой недвижимости          624\n",
              "покупка недвижимости                      620\n",
              "покупка своего жилья                      620\n",
              "строительство недвижимости                619\n",
              "ремонт жилью                              607\n",
              "покупка жилой недвижимости                606\n",
              "на покупку своего автомобиля              505\n",
              "заняться высшим образованием              496\n",
              "автомобиль                                494\n",
              "сделка с подержанным автомобилем          486\n",
              "свой автомобиль                           478\n",
              "на покупку подержанного автомобиля        478\n",
              "автомобили                                478\n",
              "на покупку автомобиля                     471\n",
              "приобретение автомобиля                   461\n",
              "дополнительное образование                460\n",
              "сделка с автомобилем                      455\n",
              "высшее образование                        452\n",
              "образование                               447\n",
              "получение дополнительного образования     446\n",
              "получение образования                     442\n",
              "профильное образование                    436\n",
              "получение высшего образования             426\n",
              "заняться образованием                     408\n",
              "Name: purpose, dtype: int64"
            ]
          },
          "metadata": {},
          "execution_count": 40
        }
      ],
      "source": [
        "df['purpose'].value_counts()"
      ]
    },
    {
      "cell_type": "markdown",
      "id": "f834c786",
      "metadata": {
        "id": "f834c786"
      },
      "source": [
        "В колонке `'purpose'` большое количество неявных дубликатов: цели имеют один смысл, а описаны по-разному. Попробуем это исправить, заменив наименование целей с ключевыми словами на единое обозначение."
      ]
    },
    {
      "cell_type": "code",
      "execution_count": 41,
      "id": "826576ae",
      "metadata": {
        "colab": {
          "base_uri": "https://localhost:8080/"
        },
        "id": "826576ae",
        "outputId": "aa86d08d-3034-46f1-f465-92897698e3a9"
      },
      "outputs": [
        {
          "output_type": "execute_result",
          "data": {
            "text/plain": [
              "операции с недвижимостью    10810\n",
              "операции с автомобилем       4306\n",
              "получение образования        4013\n",
              "проведение свадьбы           2323\n",
              "Name: purpose_category, dtype: int64"
            ]
          },
          "metadata": {},
          "execution_count": 41
        }
      ],
      "source": [
        "def purpose_category(word):\n",
        "    if 'авто' in word:\n",
        "        return 'операции с автомобилем'\n",
        "    elif 'свадьб' in word:\n",
        "        return 'проведение свадьбы'\n",
        "    elif 'недвиж' in word or 'жиль' in word:\n",
        "        return 'операции с недвижимостью'\n",
        "    elif 'образов' in word:\n",
        "        return 'получение образования'\n",
        "        \n",
        "df['purpose_category'] = df['purpose'].apply(purpose_category)\n",
        "\n",
        " # проверяем, как выглядят уникальные значения в новом столбце.\n",
        "df['purpose_category'].value_counts()"
      ]
    },
    {
      "cell_type": "markdown",
      "id": "a65f90b3",
      "metadata": {
        "id": "a65f90b3"
      },
      "source": [
        "### Категоризация количества детей."
      ]
    },
    {
      "cell_type": "markdown",
      "id": "27b4e627",
      "metadata": {
        "id": "27b4e627"
      },
      "source": [
        "При проверке данных о количестве детей было заметно, что количество значений равных `4` и `5` очень мало. Их следует добавить в группу со значением `3`. Создадим новый столбец с категориями количества детей и добавим ее в основной датафрейм."
      ]
    },
    {
      "cell_type": "code",
      "execution_count": 42,
      "id": "9f9343a5",
      "metadata": {
        "colab": {
          "base_uri": "https://localhost:8080/"
        },
        "id": "9f9343a5",
        "outputId": "9093ab5e-2837-4392-9d4b-800ed08bb506"
      },
      "outputs": [
        {
          "output_type": "execute_result",
          "data": {
            "text/plain": [
              "0    14089\n",
              "1     4855\n",
              "2     2128\n",
              "3      330\n",
              "4       41\n",
              "5        9\n",
              "Name: children, dtype: int64"
            ]
          },
          "metadata": {},
          "execution_count": 42
        }
      ],
      "source": [
        "# выведим количество уникальных значений столбца 'children'\n",
        "df['children'].value_counts().sort_index() "
      ]
    },
    {
      "cell_type": "code",
      "execution_count": 43,
      "id": "3060fd33",
      "metadata": {
        "colab": {
          "base_uri": "https://localhost:8080/"
        },
        "id": "3060fd33",
        "outputId": "abe3be50-dfeb-48f5-a6e7-a8eb04c72ff7"
      },
      "outputs": [
        {
          "output_type": "execute_result",
          "data": {
            "text/plain": [
              "нет детей             14089\n",
              "один ребенок           4855\n",
              "двое детей             2128\n",
              "трое и более детей      380\n",
              "Name: children_category, dtype: int64"
            ]
          },
          "metadata": {},
          "execution_count": 43
        }
      ],
      "source": [
        "def children_category(child):\n",
        "    if child == 0:\n",
        "        return 'нет детей'\n",
        "    elif child == 1:\n",
        "        return 'один ребенок'\n",
        "    elif child == 2:\n",
        "        return 'двое детей'\n",
        "    elif child == 3 or child == 4 or child == 5:\n",
        "        return 'трое и более детей'\n",
        "        \n",
        "df['children_category'] = df['children'].apply(children_category)\n",
        "\n",
        "# проверяем, как выглядят уникальные значения в новом столбце\n",
        "df['children_category'].value_counts()"
      ]
    },
    {
      "cell_type": "markdown",
      "id": "b42fd598",
      "metadata": {
        "id": "b42fd598"
      },
      "source": [
        "Посмотрим, как выглядит новый датафрейм, готовый к дальнейшему анализу."
      ]
    },
    {
      "cell_type": "code",
      "execution_count": 44,
      "id": "3a06c493",
      "metadata": {
        "colab": {
          "base_uri": "https://localhost:8080/",
          "height": 357
        },
        "id": "3a06c493",
        "outputId": "913c9245-caa5-4cf6-d6e2-b92fbd32b441"
      },
      "outputs": [
        {
          "output_type": "execute_result",
          "data": {
            "text/plain": [
              "   children   children_category  hours_employed  dob_years  education_id  \\\n",
              "0         1        один ребенок            8437         42             0   \n",
              "1         1        один ребенок            4024         36             1   \n",
              "2         0           нет детей            5623         33             1   \n",
              "3         3  трое и более детей            4124         32             1   \n",
              "4         0           нет детей          340266         53             1   \n",
              "\n",
              "   family_status_id gender income_type   debt  total_income  \\\n",
              "0                 0      F   сотрудник  False        253875   \n",
              "1                 0      F   сотрудник  False        112080   \n",
              "2                 0      M   сотрудник  False        145885   \n",
              "3                 0      M   сотрудник  False        267628   \n",
              "4                 1      F   пенсионер  False        158616   \n",
              "\n",
              "  total_income_category                     purpose          purpose_category  \n",
              "0                     B               покупка жилья  операции с недвижимостью  \n",
              "1                     C     приобретение автомобиля    операции с автомобилем  \n",
              "2                     C               покупка жилья  операции с недвижимостью  \n",
              "3                     B  дополнительное образование     получение образования  \n",
              "4                     C             сыграть свадьбу        проведение свадьбы  "
            ],
            "text/html": [
              "\n",
              "  <div id=\"df-6464022b-2008-48c2-acfb-a81e9fa30b61\">\n",
              "    <div class=\"colab-df-container\">\n",
              "      <div>\n",
              "<style scoped>\n",
              "    .dataframe tbody tr th:only-of-type {\n",
              "        vertical-align: middle;\n",
              "    }\n",
              "\n",
              "    .dataframe tbody tr th {\n",
              "        vertical-align: top;\n",
              "    }\n",
              "\n",
              "    .dataframe thead th {\n",
              "        text-align: right;\n",
              "    }\n",
              "</style>\n",
              "<table border=\"1\" class=\"dataframe\">\n",
              "  <thead>\n",
              "    <tr style=\"text-align: right;\">\n",
              "      <th></th>\n",
              "      <th>children</th>\n",
              "      <th>children_category</th>\n",
              "      <th>hours_employed</th>\n",
              "      <th>dob_years</th>\n",
              "      <th>education_id</th>\n",
              "      <th>family_status_id</th>\n",
              "      <th>gender</th>\n",
              "      <th>income_type</th>\n",
              "      <th>debt</th>\n",
              "      <th>total_income</th>\n",
              "      <th>total_income_category</th>\n",
              "      <th>purpose</th>\n",
              "      <th>purpose_category</th>\n",
              "    </tr>\n",
              "  </thead>\n",
              "  <tbody>\n",
              "    <tr>\n",
              "      <th>0</th>\n",
              "      <td>1</td>\n",
              "      <td>один ребенок</td>\n",
              "      <td>8437</td>\n",
              "      <td>42</td>\n",
              "      <td>0</td>\n",
              "      <td>0</td>\n",
              "      <td>F</td>\n",
              "      <td>сотрудник</td>\n",
              "      <td>False</td>\n",
              "      <td>253875</td>\n",
              "      <td>B</td>\n",
              "      <td>покупка жилья</td>\n",
              "      <td>операции с недвижимостью</td>\n",
              "    </tr>\n",
              "    <tr>\n",
              "      <th>1</th>\n",
              "      <td>1</td>\n",
              "      <td>один ребенок</td>\n",
              "      <td>4024</td>\n",
              "      <td>36</td>\n",
              "      <td>1</td>\n",
              "      <td>0</td>\n",
              "      <td>F</td>\n",
              "      <td>сотрудник</td>\n",
              "      <td>False</td>\n",
              "      <td>112080</td>\n",
              "      <td>C</td>\n",
              "      <td>приобретение автомобиля</td>\n",
              "      <td>операции с автомобилем</td>\n",
              "    </tr>\n",
              "    <tr>\n",
              "      <th>2</th>\n",
              "      <td>0</td>\n",
              "      <td>нет детей</td>\n",
              "      <td>5623</td>\n",
              "      <td>33</td>\n",
              "      <td>1</td>\n",
              "      <td>0</td>\n",
              "      <td>M</td>\n",
              "      <td>сотрудник</td>\n",
              "      <td>False</td>\n",
              "      <td>145885</td>\n",
              "      <td>C</td>\n",
              "      <td>покупка жилья</td>\n",
              "      <td>операции с недвижимостью</td>\n",
              "    </tr>\n",
              "    <tr>\n",
              "      <th>3</th>\n",
              "      <td>3</td>\n",
              "      <td>трое и более детей</td>\n",
              "      <td>4124</td>\n",
              "      <td>32</td>\n",
              "      <td>1</td>\n",
              "      <td>0</td>\n",
              "      <td>M</td>\n",
              "      <td>сотрудник</td>\n",
              "      <td>False</td>\n",
              "      <td>267628</td>\n",
              "      <td>B</td>\n",
              "      <td>дополнительное образование</td>\n",
              "      <td>получение образования</td>\n",
              "    </tr>\n",
              "    <tr>\n",
              "      <th>4</th>\n",
              "      <td>0</td>\n",
              "      <td>нет детей</td>\n",
              "      <td>340266</td>\n",
              "      <td>53</td>\n",
              "      <td>1</td>\n",
              "      <td>1</td>\n",
              "      <td>F</td>\n",
              "      <td>пенсионер</td>\n",
              "      <td>False</td>\n",
              "      <td>158616</td>\n",
              "      <td>C</td>\n",
              "      <td>сыграть свадьбу</td>\n",
              "      <td>проведение свадьбы</td>\n",
              "    </tr>\n",
              "  </tbody>\n",
              "</table>\n",
              "</div>\n",
              "      <button class=\"colab-df-convert\" onclick=\"convertToInteractive('df-6464022b-2008-48c2-acfb-a81e9fa30b61')\"\n",
              "              title=\"Convert this dataframe to an interactive table.\"\n",
              "              style=\"display:none;\">\n",
              "        \n",
              "  <svg xmlns=\"http://www.w3.org/2000/svg\" height=\"24px\"viewBox=\"0 0 24 24\"\n",
              "       width=\"24px\">\n",
              "    <path d=\"M0 0h24v24H0V0z\" fill=\"none\"/>\n",
              "    <path d=\"M18.56 5.44l.94 2.06.94-2.06 2.06-.94-2.06-.94-.94-2.06-.94 2.06-2.06.94zm-11 1L8.5 8.5l.94-2.06 2.06-.94-2.06-.94L8.5 2.5l-.94 2.06-2.06.94zm10 10l.94 2.06.94-2.06 2.06-.94-2.06-.94-.94-2.06-.94 2.06-2.06.94z\"/><path d=\"M17.41 7.96l-1.37-1.37c-.4-.4-.92-.59-1.43-.59-.52 0-1.04.2-1.43.59L10.3 9.45l-7.72 7.72c-.78.78-.78 2.05 0 2.83L4 21.41c.39.39.9.59 1.41.59.51 0 1.02-.2 1.41-.59l7.78-7.78 2.81-2.81c.8-.78.8-2.07 0-2.86zM5.41 20L4 18.59l7.72-7.72 1.47 1.35L5.41 20z\"/>\n",
              "  </svg>\n",
              "      </button>\n",
              "      \n",
              "  <style>\n",
              "    .colab-df-container {\n",
              "      display:flex;\n",
              "      flex-wrap:wrap;\n",
              "      gap: 12px;\n",
              "    }\n",
              "\n",
              "    .colab-df-convert {\n",
              "      background-color: #E8F0FE;\n",
              "      border: none;\n",
              "      border-radius: 50%;\n",
              "      cursor: pointer;\n",
              "      display: none;\n",
              "      fill: #1967D2;\n",
              "      height: 32px;\n",
              "      padding: 0 0 0 0;\n",
              "      width: 32px;\n",
              "    }\n",
              "\n",
              "    .colab-df-convert:hover {\n",
              "      background-color: #E2EBFA;\n",
              "      box-shadow: 0px 1px 2px rgba(60, 64, 67, 0.3), 0px 1px 3px 1px rgba(60, 64, 67, 0.15);\n",
              "      fill: #174EA6;\n",
              "    }\n",
              "\n",
              "    [theme=dark] .colab-df-convert {\n",
              "      background-color: #3B4455;\n",
              "      fill: #D2E3FC;\n",
              "    }\n",
              "\n",
              "    [theme=dark] .colab-df-convert:hover {\n",
              "      background-color: #434B5C;\n",
              "      box-shadow: 0px 1px 3px 1px rgba(0, 0, 0, 0.15);\n",
              "      filter: drop-shadow(0px 1px 2px rgba(0, 0, 0, 0.3));\n",
              "      fill: #FFFFFF;\n",
              "    }\n",
              "  </style>\n",
              "\n",
              "      <script>\n",
              "        const buttonEl =\n",
              "          document.querySelector('#df-6464022b-2008-48c2-acfb-a81e9fa30b61 button.colab-df-convert');\n",
              "        buttonEl.style.display =\n",
              "          google.colab.kernel.accessAllowed ? 'block' : 'none';\n",
              "\n",
              "        async function convertToInteractive(key) {\n",
              "          const element = document.querySelector('#df-6464022b-2008-48c2-acfb-a81e9fa30b61');\n",
              "          const dataTable =\n",
              "            await google.colab.kernel.invokeFunction('convertToInteractive',\n",
              "                                                     [key], {});\n",
              "          if (!dataTable) return;\n",
              "\n",
              "          const docLinkHtml = 'Like what you see? Visit the ' +\n",
              "            '<a target=\"_blank\" href=https://colab.research.google.com/notebooks/data_table.ipynb>data table notebook</a>'\n",
              "            + ' to learn more about interactive tables.';\n",
              "          element.innerHTML = '';\n",
              "          dataTable['output_type'] = 'display_data';\n",
              "          await google.colab.output.renderOutput(dataTable, element);\n",
              "          const docLink = document.createElement('div');\n",
              "          docLink.innerHTML = docLinkHtml;\n",
              "          element.appendChild(docLink);\n",
              "        }\n",
              "      </script>\n",
              "    </div>\n",
              "  </div>\n",
              "  "
            ]
          },
          "metadata": {},
          "execution_count": 44
        }
      ],
      "source": [
        "# изменяем порядок столбцов\n",
        "df = df[['children', 'children_category', 'hours_employed', 'dob_years', 'education_id',\n",
        "         'family_status_id', 'gender', 'income_type', 'debt', 'total_income',\n",
        "         'total_income_category', 'purpose', 'purpose_category']]\n",
        "\n",
        "df.head() # проверяем содержание нового датафрейма"
      ]
    },
    {
      "cell_type": "markdown",
      "id": "9327d3ec",
      "metadata": {
        "id": "9327d3ec"
      },
      "source": [
        "### Ответы на вопросы."
      ]
    },
    {
      "cell_type": "markdown",
      "id": "414dfa01",
      "metadata": {
        "id": "414dfa01"
      },
      "source": [
        "Прежде, чем отвечать на поставленные вопросы, посчитаем процент невозвращенных кредитов в зависимости от общего количества кредитов. Так мы определим среднюю статистику, с которой мы будем сравнивнивать статистику по отдельным категориям."
      ]
    },
    {
      "cell_type": "code",
      "execution_count": 45,
      "id": "28e515cc",
      "metadata": {
        "colab": {
          "base_uri": "https://localhost:8080/"
        },
        "id": "28e515cc",
        "outputId": "15e14a34-1cf9-477e-b01e-aac7c69cb2a3"
      },
      "outputs": [
        {
          "output_type": "stream",
          "name": "stdout",
          "text": [
            "Процент невозвращенных кредитов: 8.1\n"
          ]
        }
      ],
      "source": [
        "percent_debt_true = (\n",
        "    (df[df['debt'] == True].count() / df.count() * 100).mean().round(1)\n",
        ")\n",
        "\n",
        "print('Процент невозвращенных кредитов:', percent_debt_true)"
      ]
    },
    {
      "cell_type": "markdown",
      "id": "df7713c3",
      "metadata": {
        "id": "df7713c3"
      },
      "source": [
        "##### Вопрос 1: Есть ли зависимость между количеством детей и возвратом кредита в срок?"
      ]
    },
    {
      "cell_type": "markdown",
      "id": "94e5195a",
      "metadata": {
        "id": "94e5195a"
      },
      "source": [
        "Создадим сводную таблицу, которая покажет количество клиентов в зависимости от наличия детей, их количества и наличия задолженности по кредиту."
      ]
    },
    {
      "cell_type": "code",
      "execution_count": 46,
      "id": "3955b8ca",
      "metadata": {
        "colab": {
          "base_uri": "https://localhost:8080/",
          "height": 206
        },
        "id": "3955b8ca",
        "outputId": "26dc2bde-bc33-48ea-a487-b8ec95bdd04f"
      },
      "outputs": [
        {
          "output_type": "execute_result",
          "data": {
            "text/plain": [
              "debt                False  True\n",
              "children_category              \n",
              "двое детей           1926   202\n",
              "нет детей           13026  1063\n",
              "один ребенок         4410   445\n",
              "трое и более детей    349    31"
            ],
            "text/html": [
              "\n",
              "  <div id=\"df-f36798f1-30c1-4c91-a940-6cb0bbf0ce1b\">\n",
              "    <div class=\"colab-df-container\">\n",
              "      <div>\n",
              "<style scoped>\n",
              "    .dataframe tbody tr th:only-of-type {\n",
              "        vertical-align: middle;\n",
              "    }\n",
              "\n",
              "    .dataframe tbody tr th {\n",
              "        vertical-align: top;\n",
              "    }\n",
              "\n",
              "    .dataframe thead th {\n",
              "        text-align: right;\n",
              "    }\n",
              "</style>\n",
              "<table border=\"1\" class=\"dataframe\">\n",
              "  <thead>\n",
              "    <tr style=\"text-align: right;\">\n",
              "      <th>debt</th>\n",
              "      <th>False</th>\n",
              "      <th>True</th>\n",
              "    </tr>\n",
              "    <tr>\n",
              "      <th>children_category</th>\n",
              "      <th></th>\n",
              "      <th></th>\n",
              "    </tr>\n",
              "  </thead>\n",
              "  <tbody>\n",
              "    <tr>\n",
              "      <th>двое детей</th>\n",
              "      <td>1926</td>\n",
              "      <td>202</td>\n",
              "    </tr>\n",
              "    <tr>\n",
              "      <th>нет детей</th>\n",
              "      <td>13026</td>\n",
              "      <td>1063</td>\n",
              "    </tr>\n",
              "    <tr>\n",
              "      <th>один ребенок</th>\n",
              "      <td>4410</td>\n",
              "      <td>445</td>\n",
              "    </tr>\n",
              "    <tr>\n",
              "      <th>трое и более детей</th>\n",
              "      <td>349</td>\n",
              "      <td>31</td>\n",
              "    </tr>\n",
              "  </tbody>\n",
              "</table>\n",
              "</div>\n",
              "      <button class=\"colab-df-convert\" onclick=\"convertToInteractive('df-f36798f1-30c1-4c91-a940-6cb0bbf0ce1b')\"\n",
              "              title=\"Convert this dataframe to an interactive table.\"\n",
              "              style=\"display:none;\">\n",
              "        \n",
              "  <svg xmlns=\"http://www.w3.org/2000/svg\" height=\"24px\"viewBox=\"0 0 24 24\"\n",
              "       width=\"24px\">\n",
              "    <path d=\"M0 0h24v24H0V0z\" fill=\"none\"/>\n",
              "    <path d=\"M18.56 5.44l.94 2.06.94-2.06 2.06-.94-2.06-.94-.94-2.06-.94 2.06-2.06.94zm-11 1L8.5 8.5l.94-2.06 2.06-.94-2.06-.94L8.5 2.5l-.94 2.06-2.06.94zm10 10l.94 2.06.94-2.06 2.06-.94-2.06-.94-.94-2.06-.94 2.06-2.06.94z\"/><path d=\"M17.41 7.96l-1.37-1.37c-.4-.4-.92-.59-1.43-.59-.52 0-1.04.2-1.43.59L10.3 9.45l-7.72 7.72c-.78.78-.78 2.05 0 2.83L4 21.41c.39.39.9.59 1.41.59.51 0 1.02-.2 1.41-.59l7.78-7.78 2.81-2.81c.8-.78.8-2.07 0-2.86zM5.41 20L4 18.59l7.72-7.72 1.47 1.35L5.41 20z\"/>\n",
              "  </svg>\n",
              "      </button>\n",
              "      \n",
              "  <style>\n",
              "    .colab-df-container {\n",
              "      display:flex;\n",
              "      flex-wrap:wrap;\n",
              "      gap: 12px;\n",
              "    }\n",
              "\n",
              "    .colab-df-convert {\n",
              "      background-color: #E8F0FE;\n",
              "      border: none;\n",
              "      border-radius: 50%;\n",
              "      cursor: pointer;\n",
              "      display: none;\n",
              "      fill: #1967D2;\n",
              "      height: 32px;\n",
              "      padding: 0 0 0 0;\n",
              "      width: 32px;\n",
              "    }\n",
              "\n",
              "    .colab-df-convert:hover {\n",
              "      background-color: #E2EBFA;\n",
              "      box-shadow: 0px 1px 2px rgba(60, 64, 67, 0.3), 0px 1px 3px 1px rgba(60, 64, 67, 0.15);\n",
              "      fill: #174EA6;\n",
              "    }\n",
              "\n",
              "    [theme=dark] .colab-df-convert {\n",
              "      background-color: #3B4455;\n",
              "      fill: #D2E3FC;\n",
              "    }\n",
              "\n",
              "    [theme=dark] .colab-df-convert:hover {\n",
              "      background-color: #434B5C;\n",
              "      box-shadow: 0px 1px 3px 1px rgba(0, 0, 0, 0.15);\n",
              "      filter: drop-shadow(0px 1px 2px rgba(0, 0, 0, 0.3));\n",
              "      fill: #FFFFFF;\n",
              "    }\n",
              "  </style>\n",
              "\n",
              "      <script>\n",
              "        const buttonEl =\n",
              "          document.querySelector('#df-f36798f1-30c1-4c91-a940-6cb0bbf0ce1b button.colab-df-convert');\n",
              "        buttonEl.style.display =\n",
              "          google.colab.kernel.accessAllowed ? 'block' : 'none';\n",
              "\n",
              "        async function convertToInteractive(key) {\n",
              "          const element = document.querySelector('#df-f36798f1-30c1-4c91-a940-6cb0bbf0ce1b');\n",
              "          const dataTable =\n",
              "            await google.colab.kernel.invokeFunction('convertToInteractive',\n",
              "                                                     [key], {});\n",
              "          if (!dataTable) return;\n",
              "\n",
              "          const docLinkHtml = 'Like what you see? Visit the ' +\n",
              "            '<a target=\"_blank\" href=https://colab.research.google.com/notebooks/data_table.ipynb>data table notebook</a>'\n",
              "            + ' to learn more about interactive tables.';\n",
              "          element.innerHTML = '';\n",
              "          dataTable['output_type'] = 'display_data';\n",
              "          await google.colab.output.renderOutput(dataTable, element);\n",
              "          const docLink = document.createElement('div');\n",
              "          docLink.innerHTML = docLinkHtml;\n",
              "          element.appendChild(docLink);\n",
              "        }\n",
              "      </script>\n",
              "    </div>\n",
              "  </div>\n",
              "  "
            ]
          },
          "metadata": {},
          "execution_count": 46
        }
      ],
      "source": [
        "df_children_debt = df.pivot_table(\n",
        "    index='children_category',\n",
        "    columns='debt',\n",
        "    values='dob_years',\n",
        "    aggfunc='count'\n",
        "    )\n",
        "\n",
        "df_children_debt"
      ]
    },
    {
      "cell_type": "markdown",
      "id": "82c0ea34",
      "metadata": {
        "id": "82c0ea34"
      },
      "source": [
        "Посчитаем процент невозвращенных в срок кредитов для каждой категории клиентов с детьми. Запишем результаты в новой колонке `'percent'`."
      ]
    },
    {
      "cell_type": "code",
      "execution_count": 48,
      "id": "677ea36a",
      "metadata": {
        "scrolled": true,
        "colab": {
          "base_uri": "https://localhost:8080/",
          "height": 206
        },
        "id": "677ea36a",
        "outputId": "0ccc094f-b784-4904-c342-3d1158a3d905"
      },
      "outputs": [
        {
          "output_type": "execute_result",
          "data": {
            "text/plain": [
              "debt                False  True  percent\n",
              "children_category                       \n",
              "нет детей           13026  1063      7.5\n",
              "один ребенок         4410   445      9.2\n",
              "двое детей           1926   202      9.5\n",
              "трое и более детей    349    31      8.2"
            ],
            "text/html": [
              "\n",
              "  <div id=\"df-4a7f3c1e-4626-406c-9785-5693b4cc186d\">\n",
              "    <div class=\"colab-df-container\">\n",
              "      <div>\n",
              "<style scoped>\n",
              "    .dataframe tbody tr th:only-of-type {\n",
              "        vertical-align: middle;\n",
              "    }\n",
              "\n",
              "    .dataframe tbody tr th {\n",
              "        vertical-align: top;\n",
              "    }\n",
              "\n",
              "    .dataframe thead th {\n",
              "        text-align: right;\n",
              "    }\n",
              "</style>\n",
              "<table border=\"1\" class=\"dataframe\">\n",
              "  <thead>\n",
              "    <tr style=\"text-align: right;\">\n",
              "      <th>debt</th>\n",
              "      <th>False</th>\n",
              "      <th>True</th>\n",
              "      <th>percent</th>\n",
              "    </tr>\n",
              "    <tr>\n",
              "      <th>children_category</th>\n",
              "      <th></th>\n",
              "      <th></th>\n",
              "      <th></th>\n",
              "    </tr>\n",
              "  </thead>\n",
              "  <tbody>\n",
              "    <tr>\n",
              "      <th>нет детей</th>\n",
              "      <td>13026</td>\n",
              "      <td>1063</td>\n",
              "      <td>7.5</td>\n",
              "    </tr>\n",
              "    <tr>\n",
              "      <th>один ребенок</th>\n",
              "      <td>4410</td>\n",
              "      <td>445</td>\n",
              "      <td>9.2</td>\n",
              "    </tr>\n",
              "    <tr>\n",
              "      <th>двое детей</th>\n",
              "      <td>1926</td>\n",
              "      <td>202</td>\n",
              "      <td>9.5</td>\n",
              "    </tr>\n",
              "    <tr>\n",
              "      <th>трое и более детей</th>\n",
              "      <td>349</td>\n",
              "      <td>31</td>\n",
              "      <td>8.2</td>\n",
              "    </tr>\n",
              "  </tbody>\n",
              "</table>\n",
              "</div>\n",
              "      <button class=\"colab-df-convert\" onclick=\"convertToInteractive('df-4a7f3c1e-4626-406c-9785-5693b4cc186d')\"\n",
              "              title=\"Convert this dataframe to an interactive table.\"\n",
              "              style=\"display:none;\">\n",
              "        \n",
              "  <svg xmlns=\"http://www.w3.org/2000/svg\" height=\"24px\"viewBox=\"0 0 24 24\"\n",
              "       width=\"24px\">\n",
              "    <path d=\"M0 0h24v24H0V0z\" fill=\"none\"/>\n",
              "    <path d=\"M18.56 5.44l.94 2.06.94-2.06 2.06-.94-2.06-.94-.94-2.06-.94 2.06-2.06.94zm-11 1L8.5 8.5l.94-2.06 2.06-.94-2.06-.94L8.5 2.5l-.94 2.06-2.06.94zm10 10l.94 2.06.94-2.06 2.06-.94-2.06-.94-.94-2.06-.94 2.06-2.06.94z\"/><path d=\"M17.41 7.96l-1.37-1.37c-.4-.4-.92-.59-1.43-.59-.52 0-1.04.2-1.43.59L10.3 9.45l-7.72 7.72c-.78.78-.78 2.05 0 2.83L4 21.41c.39.39.9.59 1.41.59.51 0 1.02-.2 1.41-.59l7.78-7.78 2.81-2.81c.8-.78.8-2.07 0-2.86zM5.41 20L4 18.59l7.72-7.72 1.47 1.35L5.41 20z\"/>\n",
              "  </svg>\n",
              "      </button>\n",
              "      \n",
              "  <style>\n",
              "    .colab-df-container {\n",
              "      display:flex;\n",
              "      flex-wrap:wrap;\n",
              "      gap: 12px;\n",
              "    }\n",
              "\n",
              "    .colab-df-convert {\n",
              "      background-color: #E8F0FE;\n",
              "      border: none;\n",
              "      border-radius: 50%;\n",
              "      cursor: pointer;\n",
              "      display: none;\n",
              "      fill: #1967D2;\n",
              "      height: 32px;\n",
              "      padding: 0 0 0 0;\n",
              "      width: 32px;\n",
              "    }\n",
              "\n",
              "    .colab-df-convert:hover {\n",
              "      background-color: #E2EBFA;\n",
              "      box-shadow: 0px 1px 2px rgba(60, 64, 67, 0.3), 0px 1px 3px 1px rgba(60, 64, 67, 0.15);\n",
              "      fill: #174EA6;\n",
              "    }\n",
              "\n",
              "    [theme=dark] .colab-df-convert {\n",
              "      background-color: #3B4455;\n",
              "      fill: #D2E3FC;\n",
              "    }\n",
              "\n",
              "    [theme=dark] .colab-df-convert:hover {\n",
              "      background-color: #434B5C;\n",
              "      box-shadow: 0px 1px 3px 1px rgba(0, 0, 0, 0.15);\n",
              "      filter: drop-shadow(0px 1px 2px rgba(0, 0, 0, 0.3));\n",
              "      fill: #FFFFFF;\n",
              "    }\n",
              "  </style>\n",
              "\n",
              "      <script>\n",
              "        const buttonEl =\n",
              "          document.querySelector('#df-4a7f3c1e-4626-406c-9785-5693b4cc186d button.colab-df-convert');\n",
              "        buttonEl.style.display =\n",
              "          google.colab.kernel.accessAllowed ? 'block' : 'none';\n",
              "\n",
              "        async function convertToInteractive(key) {\n",
              "          const element = document.querySelector('#df-4a7f3c1e-4626-406c-9785-5693b4cc186d');\n",
              "          const dataTable =\n",
              "            await google.colab.kernel.invokeFunction('convertToInteractive',\n",
              "                                                     [key], {});\n",
              "          if (!dataTable) return;\n",
              "\n",
              "          const docLinkHtml = 'Like what you see? Visit the ' +\n",
              "            '<a target=\"_blank\" href=https://colab.research.google.com/notebooks/data_table.ipynb>data table notebook</a>'\n",
              "            + ' to learn more about interactive tables.';\n",
              "          element.innerHTML = '';\n",
              "          dataTable['output_type'] = 'display_data';\n",
              "          await google.colab.output.renderOutput(dataTable, element);\n",
              "          const docLink = document.createElement('div');\n",
              "          docLink.innerHTML = docLinkHtml;\n",
              "          element.appendChild(docLink);\n",
              "        }\n",
              "      </script>\n",
              "    </div>\n",
              "  </div>\n",
              "  "
            ]
          },
          "metadata": {},
          "execution_count": 48
        }
      ],
      "source": [
        "df_children_debt['percent'] = (\n",
        "    (df_children_debt[1] / (df_children_debt[1]\n",
        "                           + df_children_debt[0]) * 100).round(1)\n",
        "                           )\n",
        "\n",
        "#сортировка данных по количеству возвращенных кредитов\n",
        "df_children_debt.sort_values(by=1, ascending=False)"
      ]
    },
    {
      "cell_type": "code",
      "execution_count": 49,
      "id": "2c2e79fb",
      "metadata": {
        "colab": {
          "base_uri": "https://localhost:8080/",
          "height": 206
        },
        "id": "2c2e79fb",
        "outputId": "2fb3152d-336c-442a-d87e-2ec393ff8160"
      },
      "outputs": [
        {
          "output_type": "execute_result",
          "data": {
            "text/plain": [
              "debt                False  True  percent\n",
              "children_category                       \n",
              "двое детей           1926   202      9.5\n",
              "один ребенок         4410   445      9.2\n",
              "трое и более детей    349    31      8.2\n",
              "нет детей           13026  1063      7.5"
            ],
            "text/html": [
              "\n",
              "  <div id=\"df-17338530-b112-44e4-8455-447a4c27ceaf\">\n",
              "    <div class=\"colab-df-container\">\n",
              "      <div>\n",
              "<style scoped>\n",
              "    .dataframe tbody tr th:only-of-type {\n",
              "        vertical-align: middle;\n",
              "    }\n",
              "\n",
              "    .dataframe tbody tr th {\n",
              "        vertical-align: top;\n",
              "    }\n",
              "\n",
              "    .dataframe thead th {\n",
              "        text-align: right;\n",
              "    }\n",
              "</style>\n",
              "<table border=\"1\" class=\"dataframe\">\n",
              "  <thead>\n",
              "    <tr style=\"text-align: right;\">\n",
              "      <th>debt</th>\n",
              "      <th>False</th>\n",
              "      <th>True</th>\n",
              "      <th>percent</th>\n",
              "    </tr>\n",
              "    <tr>\n",
              "      <th>children_category</th>\n",
              "      <th></th>\n",
              "      <th></th>\n",
              "      <th></th>\n",
              "    </tr>\n",
              "  </thead>\n",
              "  <tbody>\n",
              "    <tr>\n",
              "      <th>двое детей</th>\n",
              "      <td>1926</td>\n",
              "      <td>202</td>\n",
              "      <td>9.5</td>\n",
              "    </tr>\n",
              "    <tr>\n",
              "      <th>один ребенок</th>\n",
              "      <td>4410</td>\n",
              "      <td>445</td>\n",
              "      <td>9.2</td>\n",
              "    </tr>\n",
              "    <tr>\n",
              "      <th>трое и более детей</th>\n",
              "      <td>349</td>\n",
              "      <td>31</td>\n",
              "      <td>8.2</td>\n",
              "    </tr>\n",
              "    <tr>\n",
              "      <th>нет детей</th>\n",
              "      <td>13026</td>\n",
              "      <td>1063</td>\n",
              "      <td>7.5</td>\n",
              "    </tr>\n",
              "  </tbody>\n",
              "</table>\n",
              "</div>\n",
              "      <button class=\"colab-df-convert\" onclick=\"convertToInteractive('df-17338530-b112-44e4-8455-447a4c27ceaf')\"\n",
              "              title=\"Convert this dataframe to an interactive table.\"\n",
              "              style=\"display:none;\">\n",
              "        \n",
              "  <svg xmlns=\"http://www.w3.org/2000/svg\" height=\"24px\"viewBox=\"0 0 24 24\"\n",
              "       width=\"24px\">\n",
              "    <path d=\"M0 0h24v24H0V0z\" fill=\"none\"/>\n",
              "    <path d=\"M18.56 5.44l.94 2.06.94-2.06 2.06-.94-2.06-.94-.94-2.06-.94 2.06-2.06.94zm-11 1L8.5 8.5l.94-2.06 2.06-.94-2.06-.94L8.5 2.5l-.94 2.06-2.06.94zm10 10l.94 2.06.94-2.06 2.06-.94-2.06-.94-.94-2.06-.94 2.06-2.06.94z\"/><path d=\"M17.41 7.96l-1.37-1.37c-.4-.4-.92-.59-1.43-.59-.52 0-1.04.2-1.43.59L10.3 9.45l-7.72 7.72c-.78.78-.78 2.05 0 2.83L4 21.41c.39.39.9.59 1.41.59.51 0 1.02-.2 1.41-.59l7.78-7.78 2.81-2.81c.8-.78.8-2.07 0-2.86zM5.41 20L4 18.59l7.72-7.72 1.47 1.35L5.41 20z\"/>\n",
              "  </svg>\n",
              "      </button>\n",
              "      \n",
              "  <style>\n",
              "    .colab-df-container {\n",
              "      display:flex;\n",
              "      flex-wrap:wrap;\n",
              "      gap: 12px;\n",
              "    }\n",
              "\n",
              "    .colab-df-convert {\n",
              "      background-color: #E8F0FE;\n",
              "      border: none;\n",
              "      border-radius: 50%;\n",
              "      cursor: pointer;\n",
              "      display: none;\n",
              "      fill: #1967D2;\n",
              "      height: 32px;\n",
              "      padding: 0 0 0 0;\n",
              "      width: 32px;\n",
              "    }\n",
              "\n",
              "    .colab-df-convert:hover {\n",
              "      background-color: #E2EBFA;\n",
              "      box-shadow: 0px 1px 2px rgba(60, 64, 67, 0.3), 0px 1px 3px 1px rgba(60, 64, 67, 0.15);\n",
              "      fill: #174EA6;\n",
              "    }\n",
              "\n",
              "    [theme=dark] .colab-df-convert {\n",
              "      background-color: #3B4455;\n",
              "      fill: #D2E3FC;\n",
              "    }\n",
              "\n",
              "    [theme=dark] .colab-df-convert:hover {\n",
              "      background-color: #434B5C;\n",
              "      box-shadow: 0px 1px 3px 1px rgba(0, 0, 0, 0.15);\n",
              "      filter: drop-shadow(0px 1px 2px rgba(0, 0, 0, 0.3));\n",
              "      fill: #FFFFFF;\n",
              "    }\n",
              "  </style>\n",
              "\n",
              "      <script>\n",
              "        const buttonEl =\n",
              "          document.querySelector('#df-17338530-b112-44e4-8455-447a4c27ceaf button.colab-df-convert');\n",
              "        buttonEl.style.display =\n",
              "          google.colab.kernel.accessAllowed ? 'block' : 'none';\n",
              "\n",
              "        async function convertToInteractive(key) {\n",
              "          const element = document.querySelector('#df-17338530-b112-44e4-8455-447a4c27ceaf');\n",
              "          const dataTable =\n",
              "            await google.colab.kernel.invokeFunction('convertToInteractive',\n",
              "                                                     [key], {});\n",
              "          if (!dataTable) return;\n",
              "\n",
              "          const docLinkHtml = 'Like what you see? Visit the ' +\n",
              "            '<a target=\"_blank\" href=https://colab.research.google.com/notebooks/data_table.ipynb>data table notebook</a>'\n",
              "            + ' to learn more about interactive tables.';\n",
              "          element.innerHTML = '';\n",
              "          dataTable['output_type'] = 'display_data';\n",
              "          await google.colab.output.renderOutput(dataTable, element);\n",
              "          const docLink = document.createElement('div');\n",
              "          docLink.innerHTML = docLinkHtml;\n",
              "          element.appendChild(docLink);\n",
              "        }\n",
              "      </script>\n",
              "    </div>\n",
              "  </div>\n",
              "  "
            ]
          },
          "metadata": {},
          "execution_count": 49
        }
      ],
      "source": [
        "#сортировка данных по проценту невозвращенных кредитов\n",
        "df_children_debt.sort_values(by='percent', ascending=False)"
      ]
    },
    {
      "cell_type": "markdown",
      "id": "e5bb5c3d",
      "metadata": {
        "id": "e5bb5c3d"
      },
      "source": [
        "Расчитаем средний процент невозвращенных кредитов среди клиентов, у которых есть дети."
      ]
    },
    {
      "cell_type": "code",
      "execution_count": 50,
      "id": "b325d4a2",
      "metadata": {
        "colab": {
          "base_uri": "https://localhost:8080/"
        },
        "id": "b325d4a2",
        "outputId": "11fa1611-4bfa-4009-d8af-40c050d4f083"
      },
      "outputs": [
        {
          "output_type": "execute_result",
          "data": {
            "text/plain": [
              "9.0"
            ]
          },
          "metadata": {},
          "execution_count": 50
        }
      ],
      "source": [
        "df_children_debt['percent'].loc[['один ребенок', 'двое детей', 'трое и более детей']].mean().round(1)"
      ]
    },
    {
      "cell_type": "markdown",
      "id": "837102a3",
      "metadata": {
        "id": "837102a3"
      },
      "source": [
        "##### Вывод 1:"
      ]
    },
    {
      "cell_type": "markdown",
      "id": "7810036c",
      "metadata": {
        "id": "7810036c"
      },
      "source": [
        "Из результатов видно, что наибольшее количество людей, которые обращаются за кредитами, не имеют детей. Количество кредитов уменьшается в зависимости от увеличения количества детей."
      ]
    },
    {
      "cell_type": "markdown",
      "id": "3a8ef9e4",
      "metadata": {
        "id": "3a8ef9e4"
      },
      "source": [
        "При этом наименьший процент невозвращенных кредитов именно у категории людей, не имеющих детей - `7.5%`, что меньше средних `8.1%` по всем данным."
      ]
    },
    {
      "cell_type": "markdown",
      "id": "c5d428a1",
      "metadata": {
        "id": "c5d428a1"
      },
      "source": [
        "Процент невозвращенных кредитов у клиентов, у которых `один ребенок` и `двое детей`, увеличивается до `9.2%` и `9.5%` соответственно, что больше среднего."
      ]
    },
    {
      "cell_type": "markdown",
      "id": "0682a0b9",
      "metadata": {
        "id": "0682a0b9"
      },
      "source": [
        "У тех, у кого `трое и более детей`, процент неоплат снижается до `8.2%`."
      ]
    },
    {
      "cell_type": "markdown",
      "id": "1eb8ac18",
      "metadata": {
        "id": "1eb8ac18"
      },
      "source": [
        "Если сравнивать результаты в разрезе \"нет детей - есть дети\", то наличие детей влияет на возврат кредита.\n",
        "* Клиенты, у которых нет детей, не возвращают `7.5%` кредитов, что меньше среднего процента невозврата, равного `8.1%`.\n",
        "\n",
        "* Клиенты, у которых есть дети, не возвращают `9.0%` кредитов, что больше среднего процента невозврата."
      ]
    },
    {
      "cell_type": "markdown",
      "id": "705b9b9d",
      "metadata": {
        "id": "705b9b9d"
      },
      "source": [
        "##### Вопрос 2: Есть ли зависимость между семейным положением и возвратом кредита в срок?"
      ]
    },
    {
      "cell_type": "markdown",
      "id": "38cc00bb",
      "metadata": {
        "id": "38cc00bb"
      },
      "source": [
        "Создадим сводную таблицу, которая покажет количество клиентов в зависимости от семейного положения и наличия задолженности по кредиту."
      ]
    },
    {
      "cell_type": "code",
      "execution_count": 51,
      "id": "27038f85",
      "metadata": {
        "colab": {
          "base_uri": "https://localhost:8080/",
          "height": 237
        },
        "id": "27038f85",
        "outputId": "c8f7fb68-68a4-48d0-b62c-bf176223b025"
      },
      "outputs": [
        {
          "output_type": "execute_result",
          "data": {
            "text/plain": [
              "debt              False  True\n",
              "family_status_id             \n",
              "0                 11408   931\n",
              "1                  3761   388\n",
              "2                   896    63\n",
              "3                  1110    85\n",
              "4                  2536   274"
            ],
            "text/html": [
              "\n",
              "  <div id=\"df-57f8250e-041d-487a-ae42-1f176767a71b\">\n",
              "    <div class=\"colab-df-container\">\n",
              "      <div>\n",
              "<style scoped>\n",
              "    .dataframe tbody tr th:only-of-type {\n",
              "        vertical-align: middle;\n",
              "    }\n",
              "\n",
              "    .dataframe tbody tr th {\n",
              "        vertical-align: top;\n",
              "    }\n",
              "\n",
              "    .dataframe thead th {\n",
              "        text-align: right;\n",
              "    }\n",
              "</style>\n",
              "<table border=\"1\" class=\"dataframe\">\n",
              "  <thead>\n",
              "    <tr style=\"text-align: right;\">\n",
              "      <th>debt</th>\n",
              "      <th>False</th>\n",
              "      <th>True</th>\n",
              "    </tr>\n",
              "    <tr>\n",
              "      <th>family_status_id</th>\n",
              "      <th></th>\n",
              "      <th></th>\n",
              "    </tr>\n",
              "  </thead>\n",
              "  <tbody>\n",
              "    <tr>\n",
              "      <th>0</th>\n",
              "      <td>11408</td>\n",
              "      <td>931</td>\n",
              "    </tr>\n",
              "    <tr>\n",
              "      <th>1</th>\n",
              "      <td>3761</td>\n",
              "      <td>388</td>\n",
              "    </tr>\n",
              "    <tr>\n",
              "      <th>2</th>\n",
              "      <td>896</td>\n",
              "      <td>63</td>\n",
              "    </tr>\n",
              "    <tr>\n",
              "      <th>3</th>\n",
              "      <td>1110</td>\n",
              "      <td>85</td>\n",
              "    </tr>\n",
              "    <tr>\n",
              "      <th>4</th>\n",
              "      <td>2536</td>\n",
              "      <td>274</td>\n",
              "    </tr>\n",
              "  </tbody>\n",
              "</table>\n",
              "</div>\n",
              "      <button class=\"colab-df-convert\" onclick=\"convertToInteractive('df-57f8250e-041d-487a-ae42-1f176767a71b')\"\n",
              "              title=\"Convert this dataframe to an interactive table.\"\n",
              "              style=\"display:none;\">\n",
              "        \n",
              "  <svg xmlns=\"http://www.w3.org/2000/svg\" height=\"24px\"viewBox=\"0 0 24 24\"\n",
              "       width=\"24px\">\n",
              "    <path d=\"M0 0h24v24H0V0z\" fill=\"none\"/>\n",
              "    <path d=\"M18.56 5.44l.94 2.06.94-2.06 2.06-.94-2.06-.94-.94-2.06-.94 2.06-2.06.94zm-11 1L8.5 8.5l.94-2.06 2.06-.94-2.06-.94L8.5 2.5l-.94 2.06-2.06.94zm10 10l.94 2.06.94-2.06 2.06-.94-2.06-.94-.94-2.06-.94 2.06-2.06.94z\"/><path d=\"M17.41 7.96l-1.37-1.37c-.4-.4-.92-.59-1.43-.59-.52 0-1.04.2-1.43.59L10.3 9.45l-7.72 7.72c-.78.78-.78 2.05 0 2.83L4 21.41c.39.39.9.59 1.41.59.51 0 1.02-.2 1.41-.59l7.78-7.78 2.81-2.81c.8-.78.8-2.07 0-2.86zM5.41 20L4 18.59l7.72-7.72 1.47 1.35L5.41 20z\"/>\n",
              "  </svg>\n",
              "      </button>\n",
              "      \n",
              "  <style>\n",
              "    .colab-df-container {\n",
              "      display:flex;\n",
              "      flex-wrap:wrap;\n",
              "      gap: 12px;\n",
              "    }\n",
              "\n",
              "    .colab-df-convert {\n",
              "      background-color: #E8F0FE;\n",
              "      border: none;\n",
              "      border-radius: 50%;\n",
              "      cursor: pointer;\n",
              "      display: none;\n",
              "      fill: #1967D2;\n",
              "      height: 32px;\n",
              "      padding: 0 0 0 0;\n",
              "      width: 32px;\n",
              "    }\n",
              "\n",
              "    .colab-df-convert:hover {\n",
              "      background-color: #E2EBFA;\n",
              "      box-shadow: 0px 1px 2px rgba(60, 64, 67, 0.3), 0px 1px 3px 1px rgba(60, 64, 67, 0.15);\n",
              "      fill: #174EA6;\n",
              "    }\n",
              "\n",
              "    [theme=dark] .colab-df-convert {\n",
              "      background-color: #3B4455;\n",
              "      fill: #D2E3FC;\n",
              "    }\n",
              "\n",
              "    [theme=dark] .colab-df-convert:hover {\n",
              "      background-color: #434B5C;\n",
              "      box-shadow: 0px 1px 3px 1px rgba(0, 0, 0, 0.15);\n",
              "      filter: drop-shadow(0px 1px 2px rgba(0, 0, 0, 0.3));\n",
              "      fill: #FFFFFF;\n",
              "    }\n",
              "  </style>\n",
              "\n",
              "      <script>\n",
              "        const buttonEl =\n",
              "          document.querySelector('#df-57f8250e-041d-487a-ae42-1f176767a71b button.colab-df-convert');\n",
              "        buttonEl.style.display =\n",
              "          google.colab.kernel.accessAllowed ? 'block' : 'none';\n",
              "\n",
              "        async function convertToInteractive(key) {\n",
              "          const element = document.querySelector('#df-57f8250e-041d-487a-ae42-1f176767a71b');\n",
              "          const dataTable =\n",
              "            await google.colab.kernel.invokeFunction('convertToInteractive',\n",
              "                                                     [key], {});\n",
              "          if (!dataTable) return;\n",
              "\n",
              "          const docLinkHtml = 'Like what you see? Visit the ' +\n",
              "            '<a target=\"_blank\" href=https://colab.research.google.com/notebooks/data_table.ipynb>data table notebook</a>'\n",
              "            + ' to learn more about interactive tables.';\n",
              "          element.innerHTML = '';\n",
              "          dataTable['output_type'] = 'display_data';\n",
              "          await google.colab.output.renderOutput(dataTable, element);\n",
              "          const docLink = document.createElement('div');\n",
              "          docLink.innerHTML = docLinkHtml;\n",
              "          element.appendChild(docLink);\n",
              "        }\n",
              "      </script>\n",
              "    </div>\n",
              "  </div>\n",
              "  "
            ]
          },
          "metadata": {},
          "execution_count": 51
        }
      ],
      "source": [
        "df_family_status_debt = df.pivot_table(\n",
        "    index='family_status_id',\n",
        "    columns='debt',\n",
        "    values='dob_years',\n",
        "    aggfunc='count'\n",
        "    )\n",
        "\n",
        "df_family_status_debt"
      ]
    },
    {
      "cell_type": "markdown",
      "id": "a5753bd7",
      "metadata": {
        "id": "a5753bd7"
      },
      "source": [
        "Посчитаем процент невозвращенных в срок кредитов для каждой категории клиентов. Запишем результаты в новой колонке `'percent'`."
      ]
    },
    {
      "cell_type": "code",
      "execution_count": 53,
      "id": "051d0def",
      "metadata": {
        "colab": {
          "base_uri": "https://localhost:8080/",
          "height": 237
        },
        "id": "051d0def",
        "outputId": "617050ce-886b-4bfa-b0d7-8f298bb10427"
      },
      "outputs": [
        {
          "output_type": "execute_result",
          "data": {
            "text/plain": [
              "debt              False  True  percent\n",
              "family_status_id                      \n",
              "0                 11408   931      7.5\n",
              "1                  3761   388      9.4\n",
              "4                  2536   274      9.8\n",
              "3                  1110    85      7.1\n",
              "2                   896    63      6.6"
            ],
            "text/html": [
              "\n",
              "  <div id=\"df-50452109-27cf-4322-9d32-ab833d6ea3f1\">\n",
              "    <div class=\"colab-df-container\">\n",
              "      <div>\n",
              "<style scoped>\n",
              "    .dataframe tbody tr th:only-of-type {\n",
              "        vertical-align: middle;\n",
              "    }\n",
              "\n",
              "    .dataframe tbody tr th {\n",
              "        vertical-align: top;\n",
              "    }\n",
              "\n",
              "    .dataframe thead th {\n",
              "        text-align: right;\n",
              "    }\n",
              "</style>\n",
              "<table border=\"1\" class=\"dataframe\">\n",
              "  <thead>\n",
              "    <tr style=\"text-align: right;\">\n",
              "      <th>debt</th>\n",
              "      <th>False</th>\n",
              "      <th>True</th>\n",
              "      <th>percent</th>\n",
              "    </tr>\n",
              "    <tr>\n",
              "      <th>family_status_id</th>\n",
              "      <th></th>\n",
              "      <th></th>\n",
              "      <th></th>\n",
              "    </tr>\n",
              "  </thead>\n",
              "  <tbody>\n",
              "    <tr>\n",
              "      <th>0</th>\n",
              "      <td>11408</td>\n",
              "      <td>931</td>\n",
              "      <td>7.5</td>\n",
              "    </tr>\n",
              "    <tr>\n",
              "      <th>1</th>\n",
              "      <td>3761</td>\n",
              "      <td>388</td>\n",
              "      <td>9.4</td>\n",
              "    </tr>\n",
              "    <tr>\n",
              "      <th>4</th>\n",
              "      <td>2536</td>\n",
              "      <td>274</td>\n",
              "      <td>9.8</td>\n",
              "    </tr>\n",
              "    <tr>\n",
              "      <th>3</th>\n",
              "      <td>1110</td>\n",
              "      <td>85</td>\n",
              "      <td>7.1</td>\n",
              "    </tr>\n",
              "    <tr>\n",
              "      <th>2</th>\n",
              "      <td>896</td>\n",
              "      <td>63</td>\n",
              "      <td>6.6</td>\n",
              "    </tr>\n",
              "  </tbody>\n",
              "</table>\n",
              "</div>\n",
              "      <button class=\"colab-df-convert\" onclick=\"convertToInteractive('df-50452109-27cf-4322-9d32-ab833d6ea3f1')\"\n",
              "              title=\"Convert this dataframe to an interactive table.\"\n",
              "              style=\"display:none;\">\n",
              "        \n",
              "  <svg xmlns=\"http://www.w3.org/2000/svg\" height=\"24px\"viewBox=\"0 0 24 24\"\n",
              "       width=\"24px\">\n",
              "    <path d=\"M0 0h24v24H0V0z\" fill=\"none\"/>\n",
              "    <path d=\"M18.56 5.44l.94 2.06.94-2.06 2.06-.94-2.06-.94-.94-2.06-.94 2.06-2.06.94zm-11 1L8.5 8.5l.94-2.06 2.06-.94-2.06-.94L8.5 2.5l-.94 2.06-2.06.94zm10 10l.94 2.06.94-2.06 2.06-.94-2.06-.94-.94-2.06-.94 2.06-2.06.94z\"/><path d=\"M17.41 7.96l-1.37-1.37c-.4-.4-.92-.59-1.43-.59-.52 0-1.04.2-1.43.59L10.3 9.45l-7.72 7.72c-.78.78-.78 2.05 0 2.83L4 21.41c.39.39.9.59 1.41.59.51 0 1.02-.2 1.41-.59l7.78-7.78 2.81-2.81c.8-.78.8-2.07 0-2.86zM5.41 20L4 18.59l7.72-7.72 1.47 1.35L5.41 20z\"/>\n",
              "  </svg>\n",
              "      </button>\n",
              "      \n",
              "  <style>\n",
              "    .colab-df-container {\n",
              "      display:flex;\n",
              "      flex-wrap:wrap;\n",
              "      gap: 12px;\n",
              "    }\n",
              "\n",
              "    .colab-df-convert {\n",
              "      background-color: #E8F0FE;\n",
              "      border: none;\n",
              "      border-radius: 50%;\n",
              "      cursor: pointer;\n",
              "      display: none;\n",
              "      fill: #1967D2;\n",
              "      height: 32px;\n",
              "      padding: 0 0 0 0;\n",
              "      width: 32px;\n",
              "    }\n",
              "\n",
              "    .colab-df-convert:hover {\n",
              "      background-color: #E2EBFA;\n",
              "      box-shadow: 0px 1px 2px rgba(60, 64, 67, 0.3), 0px 1px 3px 1px rgba(60, 64, 67, 0.15);\n",
              "      fill: #174EA6;\n",
              "    }\n",
              "\n",
              "    [theme=dark] .colab-df-convert {\n",
              "      background-color: #3B4455;\n",
              "      fill: #D2E3FC;\n",
              "    }\n",
              "\n",
              "    [theme=dark] .colab-df-convert:hover {\n",
              "      background-color: #434B5C;\n",
              "      box-shadow: 0px 1px 3px 1px rgba(0, 0, 0, 0.15);\n",
              "      filter: drop-shadow(0px 1px 2px rgba(0, 0, 0, 0.3));\n",
              "      fill: #FFFFFF;\n",
              "    }\n",
              "  </style>\n",
              "\n",
              "      <script>\n",
              "        const buttonEl =\n",
              "          document.querySelector('#df-50452109-27cf-4322-9d32-ab833d6ea3f1 button.colab-df-convert');\n",
              "        buttonEl.style.display =\n",
              "          google.colab.kernel.accessAllowed ? 'block' : 'none';\n",
              "\n",
              "        async function convertToInteractive(key) {\n",
              "          const element = document.querySelector('#df-50452109-27cf-4322-9d32-ab833d6ea3f1');\n",
              "          const dataTable =\n",
              "            await google.colab.kernel.invokeFunction('convertToInteractive',\n",
              "                                                     [key], {});\n",
              "          if (!dataTable) return;\n",
              "\n",
              "          const docLinkHtml = 'Like what you see? Visit the ' +\n",
              "            '<a target=\"_blank\" href=https://colab.research.google.com/notebooks/data_table.ipynb>data table notebook</a>'\n",
              "            + ' to learn more about interactive tables.';\n",
              "          element.innerHTML = '';\n",
              "          dataTable['output_type'] = 'display_data';\n",
              "          await google.colab.output.renderOutput(dataTable, element);\n",
              "          const docLink = document.createElement('div');\n",
              "          docLink.innerHTML = docLinkHtml;\n",
              "          element.appendChild(docLink);\n",
              "        }\n",
              "      </script>\n",
              "    </div>\n",
              "  </div>\n",
              "  "
            ]
          },
          "metadata": {},
          "execution_count": 53
        }
      ],
      "source": [
        "df_family_status_debt['percent'] = (\n",
        "    (df_family_status_debt[1] / (df_family_status_debt[1]\n",
        "                                + df_family_status_debt[0]) * 100).round(1)\n",
        "                                )\n",
        "\n",
        "#сортировка данных по количеству возвращенных кредитов.\n",
        "df_family_status_debt.sort_values(by=1, ascending=False) "
      ]
    },
    {
      "cell_type": "code",
      "execution_count": 54,
      "id": "a3954148",
      "metadata": {
        "colab": {
          "base_uri": "https://localhost:8080/",
          "height": 237
        },
        "id": "a3954148",
        "outputId": "5e12102a-5935-435f-8aa4-70f43eb3d4ce"
      },
      "outputs": [
        {
          "output_type": "execute_result",
          "data": {
            "text/plain": [
              "debt              False  True  percent\n",
              "family_status_id                      \n",
              "4                  2536   274      9.8\n",
              "1                  3761   388      9.4\n",
              "0                 11408   931      7.5\n",
              "3                  1110    85      7.1\n",
              "2                   896    63      6.6"
            ],
            "text/html": [
              "\n",
              "  <div id=\"df-b6389b57-2b74-401c-8435-fb38af53dbcf\">\n",
              "    <div class=\"colab-df-container\">\n",
              "      <div>\n",
              "<style scoped>\n",
              "    .dataframe tbody tr th:only-of-type {\n",
              "        vertical-align: middle;\n",
              "    }\n",
              "\n",
              "    .dataframe tbody tr th {\n",
              "        vertical-align: top;\n",
              "    }\n",
              "\n",
              "    .dataframe thead th {\n",
              "        text-align: right;\n",
              "    }\n",
              "</style>\n",
              "<table border=\"1\" class=\"dataframe\">\n",
              "  <thead>\n",
              "    <tr style=\"text-align: right;\">\n",
              "      <th>debt</th>\n",
              "      <th>False</th>\n",
              "      <th>True</th>\n",
              "      <th>percent</th>\n",
              "    </tr>\n",
              "    <tr>\n",
              "      <th>family_status_id</th>\n",
              "      <th></th>\n",
              "      <th></th>\n",
              "      <th></th>\n",
              "    </tr>\n",
              "  </thead>\n",
              "  <tbody>\n",
              "    <tr>\n",
              "      <th>4</th>\n",
              "      <td>2536</td>\n",
              "      <td>274</td>\n",
              "      <td>9.8</td>\n",
              "    </tr>\n",
              "    <tr>\n",
              "      <th>1</th>\n",
              "      <td>3761</td>\n",
              "      <td>388</td>\n",
              "      <td>9.4</td>\n",
              "    </tr>\n",
              "    <tr>\n",
              "      <th>0</th>\n",
              "      <td>11408</td>\n",
              "      <td>931</td>\n",
              "      <td>7.5</td>\n",
              "    </tr>\n",
              "    <tr>\n",
              "      <th>3</th>\n",
              "      <td>1110</td>\n",
              "      <td>85</td>\n",
              "      <td>7.1</td>\n",
              "    </tr>\n",
              "    <tr>\n",
              "      <th>2</th>\n",
              "      <td>896</td>\n",
              "      <td>63</td>\n",
              "      <td>6.6</td>\n",
              "    </tr>\n",
              "  </tbody>\n",
              "</table>\n",
              "</div>\n",
              "      <button class=\"colab-df-convert\" onclick=\"convertToInteractive('df-b6389b57-2b74-401c-8435-fb38af53dbcf')\"\n",
              "              title=\"Convert this dataframe to an interactive table.\"\n",
              "              style=\"display:none;\">\n",
              "        \n",
              "  <svg xmlns=\"http://www.w3.org/2000/svg\" height=\"24px\"viewBox=\"0 0 24 24\"\n",
              "       width=\"24px\">\n",
              "    <path d=\"M0 0h24v24H0V0z\" fill=\"none\"/>\n",
              "    <path d=\"M18.56 5.44l.94 2.06.94-2.06 2.06-.94-2.06-.94-.94-2.06-.94 2.06-2.06.94zm-11 1L8.5 8.5l.94-2.06 2.06-.94-2.06-.94L8.5 2.5l-.94 2.06-2.06.94zm10 10l.94 2.06.94-2.06 2.06-.94-2.06-.94-.94-2.06-.94 2.06-2.06.94z\"/><path d=\"M17.41 7.96l-1.37-1.37c-.4-.4-.92-.59-1.43-.59-.52 0-1.04.2-1.43.59L10.3 9.45l-7.72 7.72c-.78.78-.78 2.05 0 2.83L4 21.41c.39.39.9.59 1.41.59.51 0 1.02-.2 1.41-.59l7.78-7.78 2.81-2.81c.8-.78.8-2.07 0-2.86zM5.41 20L4 18.59l7.72-7.72 1.47 1.35L5.41 20z\"/>\n",
              "  </svg>\n",
              "      </button>\n",
              "      \n",
              "  <style>\n",
              "    .colab-df-container {\n",
              "      display:flex;\n",
              "      flex-wrap:wrap;\n",
              "      gap: 12px;\n",
              "    }\n",
              "\n",
              "    .colab-df-convert {\n",
              "      background-color: #E8F0FE;\n",
              "      border: none;\n",
              "      border-radius: 50%;\n",
              "      cursor: pointer;\n",
              "      display: none;\n",
              "      fill: #1967D2;\n",
              "      height: 32px;\n",
              "      padding: 0 0 0 0;\n",
              "      width: 32px;\n",
              "    }\n",
              "\n",
              "    .colab-df-convert:hover {\n",
              "      background-color: #E2EBFA;\n",
              "      box-shadow: 0px 1px 2px rgba(60, 64, 67, 0.3), 0px 1px 3px 1px rgba(60, 64, 67, 0.15);\n",
              "      fill: #174EA6;\n",
              "    }\n",
              "\n",
              "    [theme=dark] .colab-df-convert {\n",
              "      background-color: #3B4455;\n",
              "      fill: #D2E3FC;\n",
              "    }\n",
              "\n",
              "    [theme=dark] .colab-df-convert:hover {\n",
              "      background-color: #434B5C;\n",
              "      box-shadow: 0px 1px 3px 1px rgba(0, 0, 0, 0.15);\n",
              "      filter: drop-shadow(0px 1px 2px rgba(0, 0, 0, 0.3));\n",
              "      fill: #FFFFFF;\n",
              "    }\n",
              "  </style>\n",
              "\n",
              "      <script>\n",
              "        const buttonEl =\n",
              "          document.querySelector('#df-b6389b57-2b74-401c-8435-fb38af53dbcf button.colab-df-convert');\n",
              "        buttonEl.style.display =\n",
              "          google.colab.kernel.accessAllowed ? 'block' : 'none';\n",
              "\n",
              "        async function convertToInteractive(key) {\n",
              "          const element = document.querySelector('#df-b6389b57-2b74-401c-8435-fb38af53dbcf');\n",
              "          const dataTable =\n",
              "            await google.colab.kernel.invokeFunction('convertToInteractive',\n",
              "                                                     [key], {});\n",
              "          if (!dataTable) return;\n",
              "\n",
              "          const docLinkHtml = 'Like what you see? Visit the ' +\n",
              "            '<a target=\"_blank\" href=https://colab.research.google.com/notebooks/data_table.ipynb>data table notebook</a>'\n",
              "            + ' to learn more about interactive tables.';\n",
              "          element.innerHTML = '';\n",
              "          dataTable['output_type'] = 'display_data';\n",
              "          await google.colab.output.renderOutput(dataTable, element);\n",
              "          const docLink = document.createElement('div');\n",
              "          docLink.innerHTML = docLinkHtml;\n",
              "          element.appendChild(docLink);\n",
              "        }\n",
              "      </script>\n",
              "    </div>\n",
              "  </div>\n",
              "  "
            ]
          },
          "metadata": {},
          "execution_count": 54
        }
      ],
      "source": [
        "#сортировка данных по проценту невозвращенных кредитов\n",
        "df_family_status_debt.sort_values(by='percent', ascending=False) "
      ]
    },
    {
      "cell_type": "markdown",
      "id": "c70fa3a7",
      "metadata": {
        "id": "c70fa3a7"
      },
      "source": [
        "Напомним соответствие id семейному статусу."
      ]
    },
    {
      "cell_type": "code",
      "execution_count": 55,
      "id": "11b89a72",
      "metadata": {
        "colab": {
          "base_uri": "https://localhost:8080/",
          "height": 206
        },
        "id": "11b89a72",
        "outputId": "0232de58-8590-4b4c-9dd9-d55b4f35e81a"
      },
      "outputs": [
        {
          "output_type": "execute_result",
          "data": {
            "text/plain": [
              "           family_status  family_status_id\n",
              "0        женат / замужем                 0\n",
              "1       гражданский брак                 1\n",
              "2         вдовец / вдова                 2\n",
              "3              в разводе                 3\n",
              "4  не женат / не замужем                 4"
            ],
            "text/html": [
              "\n",
              "  <div id=\"df-fb17d0ed-ba63-4258-868b-542ce80369d5\">\n",
              "    <div class=\"colab-df-container\">\n",
              "      <div>\n",
              "<style scoped>\n",
              "    .dataframe tbody tr th:only-of-type {\n",
              "        vertical-align: middle;\n",
              "    }\n",
              "\n",
              "    .dataframe tbody tr th {\n",
              "        vertical-align: top;\n",
              "    }\n",
              "\n",
              "    .dataframe thead th {\n",
              "        text-align: right;\n",
              "    }\n",
              "</style>\n",
              "<table border=\"1\" class=\"dataframe\">\n",
              "  <thead>\n",
              "    <tr style=\"text-align: right;\">\n",
              "      <th></th>\n",
              "      <th>family_status</th>\n",
              "      <th>family_status_id</th>\n",
              "    </tr>\n",
              "  </thead>\n",
              "  <tbody>\n",
              "    <tr>\n",
              "      <th>0</th>\n",
              "      <td>женат / замужем</td>\n",
              "      <td>0</td>\n",
              "    </tr>\n",
              "    <tr>\n",
              "      <th>1</th>\n",
              "      <td>гражданский брак</td>\n",
              "      <td>1</td>\n",
              "    </tr>\n",
              "    <tr>\n",
              "      <th>2</th>\n",
              "      <td>вдовец / вдова</td>\n",
              "      <td>2</td>\n",
              "    </tr>\n",
              "    <tr>\n",
              "      <th>3</th>\n",
              "      <td>в разводе</td>\n",
              "      <td>3</td>\n",
              "    </tr>\n",
              "    <tr>\n",
              "      <th>4</th>\n",
              "      <td>не женат / не замужем</td>\n",
              "      <td>4</td>\n",
              "    </tr>\n",
              "  </tbody>\n",
              "</table>\n",
              "</div>\n",
              "      <button class=\"colab-df-convert\" onclick=\"convertToInteractive('df-fb17d0ed-ba63-4258-868b-542ce80369d5')\"\n",
              "              title=\"Convert this dataframe to an interactive table.\"\n",
              "              style=\"display:none;\">\n",
              "        \n",
              "  <svg xmlns=\"http://www.w3.org/2000/svg\" height=\"24px\"viewBox=\"0 0 24 24\"\n",
              "       width=\"24px\">\n",
              "    <path d=\"M0 0h24v24H0V0z\" fill=\"none\"/>\n",
              "    <path d=\"M18.56 5.44l.94 2.06.94-2.06 2.06-.94-2.06-.94-.94-2.06-.94 2.06-2.06.94zm-11 1L8.5 8.5l.94-2.06 2.06-.94-2.06-.94L8.5 2.5l-.94 2.06-2.06.94zm10 10l.94 2.06.94-2.06 2.06-.94-2.06-.94-.94-2.06-.94 2.06-2.06.94z\"/><path d=\"M17.41 7.96l-1.37-1.37c-.4-.4-.92-.59-1.43-.59-.52 0-1.04.2-1.43.59L10.3 9.45l-7.72 7.72c-.78.78-.78 2.05 0 2.83L4 21.41c.39.39.9.59 1.41.59.51 0 1.02-.2 1.41-.59l7.78-7.78 2.81-2.81c.8-.78.8-2.07 0-2.86zM5.41 20L4 18.59l7.72-7.72 1.47 1.35L5.41 20z\"/>\n",
              "  </svg>\n",
              "      </button>\n",
              "      \n",
              "  <style>\n",
              "    .colab-df-container {\n",
              "      display:flex;\n",
              "      flex-wrap:wrap;\n",
              "      gap: 12px;\n",
              "    }\n",
              "\n",
              "    .colab-df-convert {\n",
              "      background-color: #E8F0FE;\n",
              "      border: none;\n",
              "      border-radius: 50%;\n",
              "      cursor: pointer;\n",
              "      display: none;\n",
              "      fill: #1967D2;\n",
              "      height: 32px;\n",
              "      padding: 0 0 0 0;\n",
              "      width: 32px;\n",
              "    }\n",
              "\n",
              "    .colab-df-convert:hover {\n",
              "      background-color: #E2EBFA;\n",
              "      box-shadow: 0px 1px 2px rgba(60, 64, 67, 0.3), 0px 1px 3px 1px rgba(60, 64, 67, 0.15);\n",
              "      fill: #174EA6;\n",
              "    }\n",
              "\n",
              "    [theme=dark] .colab-df-convert {\n",
              "      background-color: #3B4455;\n",
              "      fill: #D2E3FC;\n",
              "    }\n",
              "\n",
              "    [theme=dark] .colab-df-convert:hover {\n",
              "      background-color: #434B5C;\n",
              "      box-shadow: 0px 1px 3px 1px rgba(0, 0, 0, 0.15);\n",
              "      filter: drop-shadow(0px 1px 2px rgba(0, 0, 0, 0.3));\n",
              "      fill: #FFFFFF;\n",
              "    }\n",
              "  </style>\n",
              "\n",
              "      <script>\n",
              "        const buttonEl =\n",
              "          document.querySelector('#df-fb17d0ed-ba63-4258-868b-542ce80369d5 button.colab-df-convert');\n",
              "        buttonEl.style.display =\n",
              "          google.colab.kernel.accessAllowed ? 'block' : 'none';\n",
              "\n",
              "        async function convertToInteractive(key) {\n",
              "          const element = document.querySelector('#df-fb17d0ed-ba63-4258-868b-542ce80369d5');\n",
              "          const dataTable =\n",
              "            await google.colab.kernel.invokeFunction('convertToInteractive',\n",
              "                                                     [key], {});\n",
              "          if (!dataTable) return;\n",
              "\n",
              "          const docLinkHtml = 'Like what you see? Visit the ' +\n",
              "            '<a target=\"_blank\" href=https://colab.research.google.com/notebooks/data_table.ipynb>data table notebook</a>'\n",
              "            + ' to learn more about interactive tables.';\n",
              "          element.innerHTML = '';\n",
              "          dataTable['output_type'] = 'display_data';\n",
              "          await google.colab.output.renderOutput(dataTable, element);\n",
              "          const docLink = document.createElement('div');\n",
              "          docLink.innerHTML = docLinkHtml;\n",
              "          element.appendChild(docLink);\n",
              "        }\n",
              "      </script>\n",
              "    </div>\n",
              "  </div>\n",
              "  "
            ]
          },
          "metadata": {},
          "execution_count": 55
        }
      ],
      "source": [
        "df_family_status"
      ]
    },
    {
      "cell_type": "markdown",
      "id": "8ec6139f",
      "metadata": {
        "id": "8ec6139f"
      },
      "source": [
        "Расчитаем средний процент невозвращенных кредитов среди клиентов, которые состоят в браке или состояли."
      ]
    },
    {
      "cell_type": "code",
      "execution_count": 56,
      "id": "c7149bc3",
      "metadata": {
        "colab": {
          "base_uri": "https://localhost:8080/"
        },
        "id": "c7149bc3",
        "outputId": "42b6f407-7d80-41a3-f6cf-2d2d92d9169b"
      },
      "outputs": [
        {
          "output_type": "execute_result",
          "data": {
            "text/plain": [
              "7.1"
            ]
          },
          "metadata": {},
          "execution_count": 56
        }
      ],
      "source": [
        "df_family_status_debt['percent'].loc[[0, 2, 3]].mean().round(1)"
      ]
    },
    {
      "cell_type": "markdown",
      "id": "39e25f2e",
      "metadata": {
        "id": "39e25f2e"
      },
      "source": [
        "Расчитаем средний процент невозвращенных кредитов среди клиентов, которые в браке не состоят и не состояли."
      ]
    },
    {
      "cell_type": "code",
      "execution_count": 57,
      "id": "2e14ff61",
      "metadata": {
        "scrolled": true,
        "colab": {
          "base_uri": "https://localhost:8080/"
        },
        "id": "2e14ff61",
        "outputId": "e05b0803-f884-485f-bff1-281a43d99848"
      },
      "outputs": [
        {
          "output_type": "execute_result",
          "data": {
            "text/plain": [
              "9.6"
            ]
          },
          "metadata": {},
          "execution_count": 57
        }
      ],
      "source": [
        "df_family_status_debt['percent'].loc[[1, 4]].mean().round(1)"
      ]
    },
    {
      "cell_type": "markdown",
      "id": "e138ccf7",
      "metadata": {
        "id": "e138ccf7"
      },
      "source": [
        "##### Вывод 2:"
      ]
    },
    {
      "cell_type": "markdown",
      "id": "4229795d",
      "metadata": {
        "id": "4229795d"
      },
      "source": [
        "Из результатов видно, что наибольшее количество людей, которые обращаются за кредитами, состоят в официальном браке, т.е. относятся к категории `женат / замужем`. Клиенты из других категорий обращаются за кредитами намного реже."
      ]
    },
    {
      "cell_type": "markdown",
      "id": "6b4f2c86",
      "metadata": {
        "id": "6b4f2c86"
      },
      "source": [
        "Клиенты из категорий `вдовец / вдова`, `в разводе`, `женат / замужем` чаще возвращают кредиты срок. Процент невозвращенных кредитов среди этих категорий ниже средних `8.1%` и составляет `6.6%`, `7.1%`, `7.5%` соответственно."
      ]
    },
    {
      "cell_type": "markdown",
      "id": "4cf15eaf",
      "metadata": {
        "id": "4cf15eaf"
      },
      "source": [
        "Клиенты, находящиеся в гражданском браке или, которые в браке никогда не состояли, возвращают кредиты значительно хуже. Процент невозвращенных кредитов для категорий `гражданский брак` и `не женат / не замужем` составляет `9.4%` и `9.8%` соответственно."
      ]
    },
    {
      "cell_type": "markdown",
      "id": "8b4953d1",
      "metadata": {
        "id": "8b4953d1"
      },
      "source": [
        "Из вышеизложенного делаем вывод, что семейное положение влияет на возможность вернуть кредитные средства банку: клиенты, которые состоят в официальном браке или когда-либо состояли, погашают долги в срок чаще, чем клиенты, которые в браке не состоят и не состояли."
      ]
    },
    {
      "cell_type": "markdown",
      "id": "0c93956f",
      "metadata": {
        "id": "0c93956f"
      },
      "source": [
        "##### Вопрос 3: Есть ли зависимость между уровнем дохода и возвратом кредита в срок?"
      ]
    },
    {
      "cell_type": "markdown",
      "id": "817b0e2a",
      "metadata": {
        "id": "817b0e2a"
      },
      "source": [
        "Создадим сводную таблицу, которая покажет количество клиентов в зависимости от категории дохода и наличия задолженности по кредиту."
      ]
    },
    {
      "cell_type": "code",
      "execution_count": 58,
      "id": "3e42801e",
      "metadata": {
        "colab": {
          "base_uri": "https://localhost:8080/",
          "height": 237
        },
        "id": "3e42801e",
        "outputId": "f9003412-2e23-4abf-8e58-5553f4679e33"
      },
      "outputs": [
        {
          "output_type": "execute_result",
          "data": {
            "text/plain": [
              "debt                   False  True\n",
              "total_income_category             \n",
              "A                         23     2\n",
              "B                       4684   356\n",
              "C                      14655  1360\n",
              "D                        329    21\n",
              "E                         20     2"
            ],
            "text/html": [
              "\n",
              "  <div id=\"df-47739070-431a-4e21-b74d-a66fc27649db\">\n",
              "    <div class=\"colab-df-container\">\n",
              "      <div>\n",
              "<style scoped>\n",
              "    .dataframe tbody tr th:only-of-type {\n",
              "        vertical-align: middle;\n",
              "    }\n",
              "\n",
              "    .dataframe tbody tr th {\n",
              "        vertical-align: top;\n",
              "    }\n",
              "\n",
              "    .dataframe thead th {\n",
              "        text-align: right;\n",
              "    }\n",
              "</style>\n",
              "<table border=\"1\" class=\"dataframe\">\n",
              "  <thead>\n",
              "    <tr style=\"text-align: right;\">\n",
              "      <th>debt</th>\n",
              "      <th>False</th>\n",
              "      <th>True</th>\n",
              "    </tr>\n",
              "    <tr>\n",
              "      <th>total_income_category</th>\n",
              "      <th></th>\n",
              "      <th></th>\n",
              "    </tr>\n",
              "  </thead>\n",
              "  <tbody>\n",
              "    <tr>\n",
              "      <th>A</th>\n",
              "      <td>23</td>\n",
              "      <td>2</td>\n",
              "    </tr>\n",
              "    <tr>\n",
              "      <th>B</th>\n",
              "      <td>4684</td>\n",
              "      <td>356</td>\n",
              "    </tr>\n",
              "    <tr>\n",
              "      <th>C</th>\n",
              "      <td>14655</td>\n",
              "      <td>1360</td>\n",
              "    </tr>\n",
              "    <tr>\n",
              "      <th>D</th>\n",
              "      <td>329</td>\n",
              "      <td>21</td>\n",
              "    </tr>\n",
              "    <tr>\n",
              "      <th>E</th>\n",
              "      <td>20</td>\n",
              "      <td>2</td>\n",
              "    </tr>\n",
              "  </tbody>\n",
              "</table>\n",
              "</div>\n",
              "      <button class=\"colab-df-convert\" onclick=\"convertToInteractive('df-47739070-431a-4e21-b74d-a66fc27649db')\"\n",
              "              title=\"Convert this dataframe to an interactive table.\"\n",
              "              style=\"display:none;\">\n",
              "        \n",
              "  <svg xmlns=\"http://www.w3.org/2000/svg\" height=\"24px\"viewBox=\"0 0 24 24\"\n",
              "       width=\"24px\">\n",
              "    <path d=\"M0 0h24v24H0V0z\" fill=\"none\"/>\n",
              "    <path d=\"M18.56 5.44l.94 2.06.94-2.06 2.06-.94-2.06-.94-.94-2.06-.94 2.06-2.06.94zm-11 1L8.5 8.5l.94-2.06 2.06-.94-2.06-.94L8.5 2.5l-.94 2.06-2.06.94zm10 10l.94 2.06.94-2.06 2.06-.94-2.06-.94-.94-2.06-.94 2.06-2.06.94z\"/><path d=\"M17.41 7.96l-1.37-1.37c-.4-.4-.92-.59-1.43-.59-.52 0-1.04.2-1.43.59L10.3 9.45l-7.72 7.72c-.78.78-.78 2.05 0 2.83L4 21.41c.39.39.9.59 1.41.59.51 0 1.02-.2 1.41-.59l7.78-7.78 2.81-2.81c.8-.78.8-2.07 0-2.86zM5.41 20L4 18.59l7.72-7.72 1.47 1.35L5.41 20z\"/>\n",
              "  </svg>\n",
              "      </button>\n",
              "      \n",
              "  <style>\n",
              "    .colab-df-container {\n",
              "      display:flex;\n",
              "      flex-wrap:wrap;\n",
              "      gap: 12px;\n",
              "    }\n",
              "\n",
              "    .colab-df-convert {\n",
              "      background-color: #E8F0FE;\n",
              "      border: none;\n",
              "      border-radius: 50%;\n",
              "      cursor: pointer;\n",
              "      display: none;\n",
              "      fill: #1967D2;\n",
              "      height: 32px;\n",
              "      padding: 0 0 0 0;\n",
              "      width: 32px;\n",
              "    }\n",
              "\n",
              "    .colab-df-convert:hover {\n",
              "      background-color: #E2EBFA;\n",
              "      box-shadow: 0px 1px 2px rgba(60, 64, 67, 0.3), 0px 1px 3px 1px rgba(60, 64, 67, 0.15);\n",
              "      fill: #174EA6;\n",
              "    }\n",
              "\n",
              "    [theme=dark] .colab-df-convert {\n",
              "      background-color: #3B4455;\n",
              "      fill: #D2E3FC;\n",
              "    }\n",
              "\n",
              "    [theme=dark] .colab-df-convert:hover {\n",
              "      background-color: #434B5C;\n",
              "      box-shadow: 0px 1px 3px 1px rgba(0, 0, 0, 0.15);\n",
              "      filter: drop-shadow(0px 1px 2px rgba(0, 0, 0, 0.3));\n",
              "      fill: #FFFFFF;\n",
              "    }\n",
              "  </style>\n",
              "\n",
              "      <script>\n",
              "        const buttonEl =\n",
              "          document.querySelector('#df-47739070-431a-4e21-b74d-a66fc27649db button.colab-df-convert');\n",
              "        buttonEl.style.display =\n",
              "          google.colab.kernel.accessAllowed ? 'block' : 'none';\n",
              "\n",
              "        async function convertToInteractive(key) {\n",
              "          const element = document.querySelector('#df-47739070-431a-4e21-b74d-a66fc27649db');\n",
              "          const dataTable =\n",
              "            await google.colab.kernel.invokeFunction('convertToInteractive',\n",
              "                                                     [key], {});\n",
              "          if (!dataTable) return;\n",
              "\n",
              "          const docLinkHtml = 'Like what you see? Visit the ' +\n",
              "            '<a target=\"_blank\" href=https://colab.research.google.com/notebooks/data_table.ipynb>data table notebook</a>'\n",
              "            + ' to learn more about interactive tables.';\n",
              "          element.innerHTML = '';\n",
              "          dataTable['output_type'] = 'display_data';\n",
              "          await google.colab.output.renderOutput(dataTable, element);\n",
              "          const docLink = document.createElement('div');\n",
              "          docLink.innerHTML = docLinkHtml;\n",
              "          element.appendChild(docLink);\n",
              "        }\n",
              "      </script>\n",
              "    </div>\n",
              "  </div>\n",
              "  "
            ]
          },
          "metadata": {},
          "execution_count": 58
        }
      ],
      "source": [
        "df_total_income_debt = df.pivot_table(\n",
        "    index='total_income_category',\n",
        "    columns='debt',\n",
        "     values='dob_years',\n",
        "     aggfunc='count'\n",
        "     )\n",
        "\n",
        "df_total_income_debt"
      ]
    },
    {
      "cell_type": "markdown",
      "id": "7a2b378b",
      "metadata": {
        "id": "7a2b378b"
      },
      "source": [
        "Посчитаем процент невозвращенных в срок кредитов для каждой категории клиентов. Запишем результаты в новой колонке `'percent'`."
      ]
    },
    {
      "cell_type": "code",
      "execution_count": 59,
      "id": "fe7a98c5",
      "metadata": {
        "colab": {
          "base_uri": "https://localhost:8080/",
          "height": 237
        },
        "id": "fe7a98c5",
        "outputId": "5d6afb2a-45a7-4caa-e397-5779d9a59da7"
      },
      "outputs": [
        {
          "output_type": "execute_result",
          "data": {
            "text/plain": [
              "debt                   False  True  percent\n",
              "total_income_category                      \n",
              "C                      14655  1360      8.5\n",
              "B                       4684   356      7.1\n",
              "D                        329    21      6.0\n",
              "A                         23     2      8.0\n",
              "E                         20     2      9.1"
            ],
            "text/html": [
              "\n",
              "  <div id=\"df-818dd675-ccf7-43bf-b533-a1b19f406455\">\n",
              "    <div class=\"colab-df-container\">\n",
              "      <div>\n",
              "<style scoped>\n",
              "    .dataframe tbody tr th:only-of-type {\n",
              "        vertical-align: middle;\n",
              "    }\n",
              "\n",
              "    .dataframe tbody tr th {\n",
              "        vertical-align: top;\n",
              "    }\n",
              "\n",
              "    .dataframe thead th {\n",
              "        text-align: right;\n",
              "    }\n",
              "</style>\n",
              "<table border=\"1\" class=\"dataframe\">\n",
              "  <thead>\n",
              "    <tr style=\"text-align: right;\">\n",
              "      <th>debt</th>\n",
              "      <th>False</th>\n",
              "      <th>True</th>\n",
              "      <th>percent</th>\n",
              "    </tr>\n",
              "    <tr>\n",
              "      <th>total_income_category</th>\n",
              "      <th></th>\n",
              "      <th></th>\n",
              "      <th></th>\n",
              "    </tr>\n",
              "  </thead>\n",
              "  <tbody>\n",
              "    <tr>\n",
              "      <th>C</th>\n",
              "      <td>14655</td>\n",
              "      <td>1360</td>\n",
              "      <td>8.5</td>\n",
              "    </tr>\n",
              "    <tr>\n",
              "      <th>B</th>\n",
              "      <td>4684</td>\n",
              "      <td>356</td>\n",
              "      <td>7.1</td>\n",
              "    </tr>\n",
              "    <tr>\n",
              "      <th>D</th>\n",
              "      <td>329</td>\n",
              "      <td>21</td>\n",
              "      <td>6.0</td>\n",
              "    </tr>\n",
              "    <tr>\n",
              "      <th>A</th>\n",
              "      <td>23</td>\n",
              "      <td>2</td>\n",
              "      <td>8.0</td>\n",
              "    </tr>\n",
              "    <tr>\n",
              "      <th>E</th>\n",
              "      <td>20</td>\n",
              "      <td>2</td>\n",
              "      <td>9.1</td>\n",
              "    </tr>\n",
              "  </tbody>\n",
              "</table>\n",
              "</div>\n",
              "      <button class=\"colab-df-convert\" onclick=\"convertToInteractive('df-818dd675-ccf7-43bf-b533-a1b19f406455')\"\n",
              "              title=\"Convert this dataframe to an interactive table.\"\n",
              "              style=\"display:none;\">\n",
              "        \n",
              "  <svg xmlns=\"http://www.w3.org/2000/svg\" height=\"24px\"viewBox=\"0 0 24 24\"\n",
              "       width=\"24px\">\n",
              "    <path d=\"M0 0h24v24H0V0z\" fill=\"none\"/>\n",
              "    <path d=\"M18.56 5.44l.94 2.06.94-2.06 2.06-.94-2.06-.94-.94-2.06-.94 2.06-2.06.94zm-11 1L8.5 8.5l.94-2.06 2.06-.94-2.06-.94L8.5 2.5l-.94 2.06-2.06.94zm10 10l.94 2.06.94-2.06 2.06-.94-2.06-.94-.94-2.06-.94 2.06-2.06.94z\"/><path d=\"M17.41 7.96l-1.37-1.37c-.4-.4-.92-.59-1.43-.59-.52 0-1.04.2-1.43.59L10.3 9.45l-7.72 7.72c-.78.78-.78 2.05 0 2.83L4 21.41c.39.39.9.59 1.41.59.51 0 1.02-.2 1.41-.59l7.78-7.78 2.81-2.81c.8-.78.8-2.07 0-2.86zM5.41 20L4 18.59l7.72-7.72 1.47 1.35L5.41 20z\"/>\n",
              "  </svg>\n",
              "      </button>\n",
              "      \n",
              "  <style>\n",
              "    .colab-df-container {\n",
              "      display:flex;\n",
              "      flex-wrap:wrap;\n",
              "      gap: 12px;\n",
              "    }\n",
              "\n",
              "    .colab-df-convert {\n",
              "      background-color: #E8F0FE;\n",
              "      border: none;\n",
              "      border-radius: 50%;\n",
              "      cursor: pointer;\n",
              "      display: none;\n",
              "      fill: #1967D2;\n",
              "      height: 32px;\n",
              "      padding: 0 0 0 0;\n",
              "      width: 32px;\n",
              "    }\n",
              "\n",
              "    .colab-df-convert:hover {\n",
              "      background-color: #E2EBFA;\n",
              "      box-shadow: 0px 1px 2px rgba(60, 64, 67, 0.3), 0px 1px 3px 1px rgba(60, 64, 67, 0.15);\n",
              "      fill: #174EA6;\n",
              "    }\n",
              "\n",
              "    [theme=dark] .colab-df-convert {\n",
              "      background-color: #3B4455;\n",
              "      fill: #D2E3FC;\n",
              "    }\n",
              "\n",
              "    [theme=dark] .colab-df-convert:hover {\n",
              "      background-color: #434B5C;\n",
              "      box-shadow: 0px 1px 3px 1px rgba(0, 0, 0, 0.15);\n",
              "      filter: drop-shadow(0px 1px 2px rgba(0, 0, 0, 0.3));\n",
              "      fill: #FFFFFF;\n",
              "    }\n",
              "  </style>\n",
              "\n",
              "      <script>\n",
              "        const buttonEl =\n",
              "          document.querySelector('#df-818dd675-ccf7-43bf-b533-a1b19f406455 button.colab-df-convert');\n",
              "        buttonEl.style.display =\n",
              "          google.colab.kernel.accessAllowed ? 'block' : 'none';\n",
              "\n",
              "        async function convertToInteractive(key) {\n",
              "          const element = document.querySelector('#df-818dd675-ccf7-43bf-b533-a1b19f406455');\n",
              "          const dataTable =\n",
              "            await google.colab.kernel.invokeFunction('convertToInteractive',\n",
              "                                                     [key], {});\n",
              "          if (!dataTable) return;\n",
              "\n",
              "          const docLinkHtml = 'Like what you see? Visit the ' +\n",
              "            '<a target=\"_blank\" href=https://colab.research.google.com/notebooks/data_table.ipynb>data table notebook</a>'\n",
              "            + ' to learn more about interactive tables.';\n",
              "          element.innerHTML = '';\n",
              "          dataTable['output_type'] = 'display_data';\n",
              "          await google.colab.output.renderOutput(dataTable, element);\n",
              "          const docLink = document.createElement('div');\n",
              "          docLink.innerHTML = docLinkHtml;\n",
              "          element.appendChild(docLink);\n",
              "        }\n",
              "      </script>\n",
              "    </div>\n",
              "  </div>\n",
              "  "
            ]
          },
          "metadata": {},
          "execution_count": 59
        }
      ],
      "source": [
        "df_total_income_debt['percent'] = (\n",
        "    df_total_income_debt[1] / (df_total_income_debt[1]\n",
        "                               + df_total_income_debt[0]) * 100\n",
        ")\n",
        "\n",
        "#сортировка данных по количеству возвращенных кредитов.\n",
        "df_total_income_debt.sort_values(by=1, ascending=False).round(1)"
      ]
    },
    {
      "cell_type": "code",
      "execution_count": 60,
      "id": "49e36eae",
      "metadata": {
        "colab": {
          "base_uri": "https://localhost:8080/",
          "height": 237
        },
        "id": "49e36eae",
        "outputId": "c4b7b3df-bf32-456e-cb81-5eb545f2433a"
      },
      "outputs": [
        {
          "output_type": "execute_result",
          "data": {
            "text/plain": [
              "debt                   False  True  percent\n",
              "total_income_category                      \n",
              "E                         20     2      9.1\n",
              "C                      14655  1360      8.5\n",
              "A                         23     2      8.0\n",
              "B                       4684   356      7.1\n",
              "D                        329    21      6.0"
            ],
            "text/html": [
              "\n",
              "  <div id=\"df-7ea5bc5c-73ad-4e0d-b523-9661afe02354\">\n",
              "    <div class=\"colab-df-container\">\n",
              "      <div>\n",
              "<style scoped>\n",
              "    .dataframe tbody tr th:only-of-type {\n",
              "        vertical-align: middle;\n",
              "    }\n",
              "\n",
              "    .dataframe tbody tr th {\n",
              "        vertical-align: top;\n",
              "    }\n",
              "\n",
              "    .dataframe thead th {\n",
              "        text-align: right;\n",
              "    }\n",
              "</style>\n",
              "<table border=\"1\" class=\"dataframe\">\n",
              "  <thead>\n",
              "    <tr style=\"text-align: right;\">\n",
              "      <th>debt</th>\n",
              "      <th>False</th>\n",
              "      <th>True</th>\n",
              "      <th>percent</th>\n",
              "    </tr>\n",
              "    <tr>\n",
              "      <th>total_income_category</th>\n",
              "      <th></th>\n",
              "      <th></th>\n",
              "      <th></th>\n",
              "    </tr>\n",
              "  </thead>\n",
              "  <tbody>\n",
              "    <tr>\n",
              "      <th>E</th>\n",
              "      <td>20</td>\n",
              "      <td>2</td>\n",
              "      <td>9.1</td>\n",
              "    </tr>\n",
              "    <tr>\n",
              "      <th>C</th>\n",
              "      <td>14655</td>\n",
              "      <td>1360</td>\n",
              "      <td>8.5</td>\n",
              "    </tr>\n",
              "    <tr>\n",
              "      <th>A</th>\n",
              "      <td>23</td>\n",
              "      <td>2</td>\n",
              "      <td>8.0</td>\n",
              "    </tr>\n",
              "    <tr>\n",
              "      <th>B</th>\n",
              "      <td>4684</td>\n",
              "      <td>356</td>\n",
              "      <td>7.1</td>\n",
              "    </tr>\n",
              "    <tr>\n",
              "      <th>D</th>\n",
              "      <td>329</td>\n",
              "      <td>21</td>\n",
              "      <td>6.0</td>\n",
              "    </tr>\n",
              "  </tbody>\n",
              "</table>\n",
              "</div>\n",
              "      <button class=\"colab-df-convert\" onclick=\"convertToInteractive('df-7ea5bc5c-73ad-4e0d-b523-9661afe02354')\"\n",
              "              title=\"Convert this dataframe to an interactive table.\"\n",
              "              style=\"display:none;\">\n",
              "        \n",
              "  <svg xmlns=\"http://www.w3.org/2000/svg\" height=\"24px\"viewBox=\"0 0 24 24\"\n",
              "       width=\"24px\">\n",
              "    <path d=\"M0 0h24v24H0V0z\" fill=\"none\"/>\n",
              "    <path d=\"M18.56 5.44l.94 2.06.94-2.06 2.06-.94-2.06-.94-.94-2.06-.94 2.06-2.06.94zm-11 1L8.5 8.5l.94-2.06 2.06-.94-2.06-.94L8.5 2.5l-.94 2.06-2.06.94zm10 10l.94 2.06.94-2.06 2.06-.94-2.06-.94-.94-2.06-.94 2.06-2.06.94z\"/><path d=\"M17.41 7.96l-1.37-1.37c-.4-.4-.92-.59-1.43-.59-.52 0-1.04.2-1.43.59L10.3 9.45l-7.72 7.72c-.78.78-.78 2.05 0 2.83L4 21.41c.39.39.9.59 1.41.59.51 0 1.02-.2 1.41-.59l7.78-7.78 2.81-2.81c.8-.78.8-2.07 0-2.86zM5.41 20L4 18.59l7.72-7.72 1.47 1.35L5.41 20z\"/>\n",
              "  </svg>\n",
              "      </button>\n",
              "      \n",
              "  <style>\n",
              "    .colab-df-container {\n",
              "      display:flex;\n",
              "      flex-wrap:wrap;\n",
              "      gap: 12px;\n",
              "    }\n",
              "\n",
              "    .colab-df-convert {\n",
              "      background-color: #E8F0FE;\n",
              "      border: none;\n",
              "      border-radius: 50%;\n",
              "      cursor: pointer;\n",
              "      display: none;\n",
              "      fill: #1967D2;\n",
              "      height: 32px;\n",
              "      padding: 0 0 0 0;\n",
              "      width: 32px;\n",
              "    }\n",
              "\n",
              "    .colab-df-convert:hover {\n",
              "      background-color: #E2EBFA;\n",
              "      box-shadow: 0px 1px 2px rgba(60, 64, 67, 0.3), 0px 1px 3px 1px rgba(60, 64, 67, 0.15);\n",
              "      fill: #174EA6;\n",
              "    }\n",
              "\n",
              "    [theme=dark] .colab-df-convert {\n",
              "      background-color: #3B4455;\n",
              "      fill: #D2E3FC;\n",
              "    }\n",
              "\n",
              "    [theme=dark] .colab-df-convert:hover {\n",
              "      background-color: #434B5C;\n",
              "      box-shadow: 0px 1px 3px 1px rgba(0, 0, 0, 0.15);\n",
              "      filter: drop-shadow(0px 1px 2px rgba(0, 0, 0, 0.3));\n",
              "      fill: #FFFFFF;\n",
              "    }\n",
              "  </style>\n",
              "\n",
              "      <script>\n",
              "        const buttonEl =\n",
              "          document.querySelector('#df-7ea5bc5c-73ad-4e0d-b523-9661afe02354 button.colab-df-convert');\n",
              "        buttonEl.style.display =\n",
              "          google.colab.kernel.accessAllowed ? 'block' : 'none';\n",
              "\n",
              "        async function convertToInteractive(key) {\n",
              "          const element = document.querySelector('#df-7ea5bc5c-73ad-4e0d-b523-9661afe02354');\n",
              "          const dataTable =\n",
              "            await google.colab.kernel.invokeFunction('convertToInteractive',\n",
              "                                                     [key], {});\n",
              "          if (!dataTable) return;\n",
              "\n",
              "          const docLinkHtml = 'Like what you see? Visit the ' +\n",
              "            '<a target=\"_blank\" href=https://colab.research.google.com/notebooks/data_table.ipynb>data table notebook</a>'\n",
              "            + ' to learn more about interactive tables.';\n",
              "          element.innerHTML = '';\n",
              "          dataTable['output_type'] = 'display_data';\n",
              "          await google.colab.output.renderOutput(dataTable, element);\n",
              "          const docLink = document.createElement('div');\n",
              "          docLink.innerHTML = docLinkHtml;\n",
              "          element.appendChild(docLink);\n",
              "        }\n",
              "      </script>\n",
              "    </div>\n",
              "  </div>\n",
              "  "
            ]
          },
          "metadata": {},
          "execution_count": 60
        }
      ],
      "source": [
        "#сортировка данных по проценту невозвращенных кредитов\n",
        "df_total_income_debt.sort_values(by='percent', ascending=False).round(1)"
      ]
    },
    {
      "cell_type": "markdown",
      "id": "69d1087d",
      "metadata": {
        "id": "69d1087d"
      },
      "source": [
        "Напомним, что скрывается за буквами, обозначающими категорию дохода.\n",
        "\n",
        "* `до 30000 руб.` — `E`;\n",
        "* `30001–50000 руб.` — `D`;\n",
        "* `50001–200000 руб.` — `C`;\n",
        "* `200001–1000000 руб.` — `B`;\n",
        "* `1000001 руб. и более` — `A`."
      ]
    },
    {
      "cell_type": "markdown",
      "id": "70cfefe6",
      "metadata": {
        "id": "70cfefe6"
      },
      "source": [
        "##### Вывод 3:"
      ]
    },
    {
      "cell_type": "markdown",
      "id": "4c56852c",
      "metadata": {
        "id": "4c56852c"
      },
      "source": [
        "Из сводной таблицы видно, что за кредитами чаще всего обращаются люди с доходом `50001–200000 руб.`, далее - люди с доходом  `200001–1000000 руб.`. Люди обладающие меньшим или большим уровнем дохода обращаются за получением кредитных средств намного реже. Это также может быть связано со средним уровнем дохода среди населения."
      ]
    },
    {
      "cell_type": "markdown",
      "id": "f494711c",
      "metadata": {
        "id": "f494711c"
      },
      "source": [
        "Удивительный для меня инсайт - это то, что высокий уровень дохоада не гарантирует возврат кредита в срок. Наиболее ответственная категория - категория `D` с доходом `30001–50000 руб.`; процент невозврата для этой категории стоставляет `6.0%`, что меньше средних `8.1%`. Еще одна категория с более низким процентом невозвращенных кредитов - категория `B` с доходом `200001–1000000 руб.` - `7.1%` непогашенных долгов."
      ]
    },
    {
      "cell_type": "markdown",
      "id": "1ea46a45",
      "metadata": {
        "id": "1ea46a45"
      },
      "source": [
        "У самой многочисленной категории - категории `C` с доходом `50001–200000 руб.` - процент невозвратов немного превышает средний показатель и составляет `8.5%`. А самая неплатежеспособная группа - группа `E` с доходом до `30000 руб.`; процент невозвратов составляет `9.1%`."
      ]
    },
    {
      "cell_type": "markdown",
      "id": "61d26676",
      "metadata": {
        "id": "61d26676"
      },
      "source": [
        "Основные риски невозврата кредитных средств в срок связаны с людьми, имеющий низкий уровень доходов до 30000 руб. / мес. Остальные группы показывают процент невозврата ниже среднего или близко к среднему, поэтому можно сказать, что уровень дохода - не основной показатель, который влияет на возврат долга."
      ]
    },
    {
      "cell_type": "markdown",
      "id": "f81dc595",
      "metadata": {
        "id": "f81dc595"
      },
      "source": [
        "##### Вопрос 4: Как разные цели кредита влияют на его возврат в срок?"
      ]
    },
    {
      "cell_type": "markdown",
      "id": "ac9fb2b0",
      "metadata": {
        "id": "ac9fb2b0"
      },
      "source": [
        "Создадим сводную таблицу, которая покажет количество клиентов в зависимости от цели кредита и наличия задолженности по кредиту."
      ]
    },
    {
      "cell_type": "code",
      "execution_count": 61,
      "id": "dae4986b",
      "metadata": {
        "colab": {
          "base_uri": "https://localhost:8080/",
          "height": 206
        },
        "id": "dae4986b",
        "outputId": "95552ab2-0eb5-405d-fd12-4eeef9d213fe"
      },
      "outputs": [
        {
          "output_type": "execute_result",
          "data": {
            "text/plain": [
              "debt                      False  True\n",
              "purpose_category                     \n",
              "операции с автомобилем     3903   403\n",
              "операции с недвижимостью  10028   782\n",
              "получение образования      3643   370\n",
              "проведение свадьбы         2137   186"
            ],
            "text/html": [
              "\n",
              "  <div id=\"df-1675aee7-c6a1-446d-bd83-784e9c64f745\">\n",
              "    <div class=\"colab-df-container\">\n",
              "      <div>\n",
              "<style scoped>\n",
              "    .dataframe tbody tr th:only-of-type {\n",
              "        vertical-align: middle;\n",
              "    }\n",
              "\n",
              "    .dataframe tbody tr th {\n",
              "        vertical-align: top;\n",
              "    }\n",
              "\n",
              "    .dataframe thead th {\n",
              "        text-align: right;\n",
              "    }\n",
              "</style>\n",
              "<table border=\"1\" class=\"dataframe\">\n",
              "  <thead>\n",
              "    <tr style=\"text-align: right;\">\n",
              "      <th>debt</th>\n",
              "      <th>False</th>\n",
              "      <th>True</th>\n",
              "    </tr>\n",
              "    <tr>\n",
              "      <th>purpose_category</th>\n",
              "      <th></th>\n",
              "      <th></th>\n",
              "    </tr>\n",
              "  </thead>\n",
              "  <tbody>\n",
              "    <tr>\n",
              "      <th>операции с автомобилем</th>\n",
              "      <td>3903</td>\n",
              "      <td>403</td>\n",
              "    </tr>\n",
              "    <tr>\n",
              "      <th>операции с недвижимостью</th>\n",
              "      <td>10028</td>\n",
              "      <td>782</td>\n",
              "    </tr>\n",
              "    <tr>\n",
              "      <th>получение образования</th>\n",
              "      <td>3643</td>\n",
              "      <td>370</td>\n",
              "    </tr>\n",
              "    <tr>\n",
              "      <th>проведение свадьбы</th>\n",
              "      <td>2137</td>\n",
              "      <td>186</td>\n",
              "    </tr>\n",
              "  </tbody>\n",
              "</table>\n",
              "</div>\n",
              "      <button class=\"colab-df-convert\" onclick=\"convertToInteractive('df-1675aee7-c6a1-446d-bd83-784e9c64f745')\"\n",
              "              title=\"Convert this dataframe to an interactive table.\"\n",
              "              style=\"display:none;\">\n",
              "        \n",
              "  <svg xmlns=\"http://www.w3.org/2000/svg\" height=\"24px\"viewBox=\"0 0 24 24\"\n",
              "       width=\"24px\">\n",
              "    <path d=\"M0 0h24v24H0V0z\" fill=\"none\"/>\n",
              "    <path d=\"M18.56 5.44l.94 2.06.94-2.06 2.06-.94-2.06-.94-.94-2.06-.94 2.06-2.06.94zm-11 1L8.5 8.5l.94-2.06 2.06-.94-2.06-.94L8.5 2.5l-.94 2.06-2.06.94zm10 10l.94 2.06.94-2.06 2.06-.94-2.06-.94-.94-2.06-.94 2.06-2.06.94z\"/><path d=\"M17.41 7.96l-1.37-1.37c-.4-.4-.92-.59-1.43-.59-.52 0-1.04.2-1.43.59L10.3 9.45l-7.72 7.72c-.78.78-.78 2.05 0 2.83L4 21.41c.39.39.9.59 1.41.59.51 0 1.02-.2 1.41-.59l7.78-7.78 2.81-2.81c.8-.78.8-2.07 0-2.86zM5.41 20L4 18.59l7.72-7.72 1.47 1.35L5.41 20z\"/>\n",
              "  </svg>\n",
              "      </button>\n",
              "      \n",
              "  <style>\n",
              "    .colab-df-container {\n",
              "      display:flex;\n",
              "      flex-wrap:wrap;\n",
              "      gap: 12px;\n",
              "    }\n",
              "\n",
              "    .colab-df-convert {\n",
              "      background-color: #E8F0FE;\n",
              "      border: none;\n",
              "      border-radius: 50%;\n",
              "      cursor: pointer;\n",
              "      display: none;\n",
              "      fill: #1967D2;\n",
              "      height: 32px;\n",
              "      padding: 0 0 0 0;\n",
              "      width: 32px;\n",
              "    }\n",
              "\n",
              "    .colab-df-convert:hover {\n",
              "      background-color: #E2EBFA;\n",
              "      box-shadow: 0px 1px 2px rgba(60, 64, 67, 0.3), 0px 1px 3px 1px rgba(60, 64, 67, 0.15);\n",
              "      fill: #174EA6;\n",
              "    }\n",
              "\n",
              "    [theme=dark] .colab-df-convert {\n",
              "      background-color: #3B4455;\n",
              "      fill: #D2E3FC;\n",
              "    }\n",
              "\n",
              "    [theme=dark] .colab-df-convert:hover {\n",
              "      background-color: #434B5C;\n",
              "      box-shadow: 0px 1px 3px 1px rgba(0, 0, 0, 0.15);\n",
              "      filter: drop-shadow(0px 1px 2px rgba(0, 0, 0, 0.3));\n",
              "      fill: #FFFFFF;\n",
              "    }\n",
              "  </style>\n",
              "\n",
              "      <script>\n",
              "        const buttonEl =\n",
              "          document.querySelector('#df-1675aee7-c6a1-446d-bd83-784e9c64f745 button.colab-df-convert');\n",
              "        buttonEl.style.display =\n",
              "          google.colab.kernel.accessAllowed ? 'block' : 'none';\n",
              "\n",
              "        async function convertToInteractive(key) {\n",
              "          const element = document.querySelector('#df-1675aee7-c6a1-446d-bd83-784e9c64f745');\n",
              "          const dataTable =\n",
              "            await google.colab.kernel.invokeFunction('convertToInteractive',\n",
              "                                                     [key], {});\n",
              "          if (!dataTable) return;\n",
              "\n",
              "          const docLinkHtml = 'Like what you see? Visit the ' +\n",
              "            '<a target=\"_blank\" href=https://colab.research.google.com/notebooks/data_table.ipynb>data table notebook</a>'\n",
              "            + ' to learn more about interactive tables.';\n",
              "          element.innerHTML = '';\n",
              "          dataTable['output_type'] = 'display_data';\n",
              "          await google.colab.output.renderOutput(dataTable, element);\n",
              "          const docLink = document.createElement('div');\n",
              "          docLink.innerHTML = docLinkHtml;\n",
              "          element.appendChild(docLink);\n",
              "        }\n",
              "      </script>\n",
              "    </div>\n",
              "  </div>\n",
              "  "
            ]
          },
          "metadata": {},
          "execution_count": 61
        }
      ],
      "source": [
        "df_purpose_debt = df.pivot_table(\n",
        "    index='purpose_category',\n",
        "    columns='debt',\n",
        "    values='dob_years',\n",
        "    aggfunc='count'\n",
        "    )\n",
        "\n",
        "df_purpose_debt"
      ]
    },
    {
      "cell_type": "markdown",
      "id": "cc60f215",
      "metadata": {
        "id": "cc60f215"
      },
      "source": [
        "Посчитаем процент невозвращенных в срок кредитов для каждой категории клиентов. Запишем результаты в новой колонке `'percent'`."
      ]
    },
    {
      "cell_type": "code",
      "execution_count": 64,
      "id": "35cc7fa3",
      "metadata": {
        "colab": {
          "base_uri": "https://localhost:8080/",
          "height": 206
        },
        "id": "35cc7fa3",
        "outputId": "4ec69d0e-0a51-44bc-a052-c6ee6aa97964"
      },
      "outputs": [
        {
          "output_type": "execute_result",
          "data": {
            "text/plain": [
              "debt                      False  True  percent\n",
              "purpose_category                              \n",
              "операции с недвижимостью  10028   782      7.2\n",
              "операции с автомобилем     3903   403      9.4\n",
              "получение образования      3643   370      9.2\n",
              "проведение свадьбы         2137   186      8.0"
            ],
            "text/html": [
              "\n",
              "  <div id=\"df-e0ae7dba-5b01-4143-83a7-84c10fde2811\">\n",
              "    <div class=\"colab-df-container\">\n",
              "      <div>\n",
              "<style scoped>\n",
              "    .dataframe tbody tr th:only-of-type {\n",
              "        vertical-align: middle;\n",
              "    }\n",
              "\n",
              "    .dataframe tbody tr th {\n",
              "        vertical-align: top;\n",
              "    }\n",
              "\n",
              "    .dataframe thead th {\n",
              "        text-align: right;\n",
              "    }\n",
              "</style>\n",
              "<table border=\"1\" class=\"dataframe\">\n",
              "  <thead>\n",
              "    <tr style=\"text-align: right;\">\n",
              "      <th>debt</th>\n",
              "      <th>False</th>\n",
              "      <th>True</th>\n",
              "      <th>percent</th>\n",
              "    </tr>\n",
              "    <tr>\n",
              "      <th>purpose_category</th>\n",
              "      <th></th>\n",
              "      <th></th>\n",
              "      <th></th>\n",
              "    </tr>\n",
              "  </thead>\n",
              "  <tbody>\n",
              "    <tr>\n",
              "      <th>операции с недвижимостью</th>\n",
              "      <td>10028</td>\n",
              "      <td>782</td>\n",
              "      <td>7.2</td>\n",
              "    </tr>\n",
              "    <tr>\n",
              "      <th>операции с автомобилем</th>\n",
              "      <td>3903</td>\n",
              "      <td>403</td>\n",
              "      <td>9.4</td>\n",
              "    </tr>\n",
              "    <tr>\n",
              "      <th>получение образования</th>\n",
              "      <td>3643</td>\n",
              "      <td>370</td>\n",
              "      <td>9.2</td>\n",
              "    </tr>\n",
              "    <tr>\n",
              "      <th>проведение свадьбы</th>\n",
              "      <td>2137</td>\n",
              "      <td>186</td>\n",
              "      <td>8.0</td>\n",
              "    </tr>\n",
              "  </tbody>\n",
              "</table>\n",
              "</div>\n",
              "      <button class=\"colab-df-convert\" onclick=\"convertToInteractive('df-e0ae7dba-5b01-4143-83a7-84c10fde2811')\"\n",
              "              title=\"Convert this dataframe to an interactive table.\"\n",
              "              style=\"display:none;\">\n",
              "        \n",
              "  <svg xmlns=\"http://www.w3.org/2000/svg\" height=\"24px\"viewBox=\"0 0 24 24\"\n",
              "       width=\"24px\">\n",
              "    <path d=\"M0 0h24v24H0V0z\" fill=\"none\"/>\n",
              "    <path d=\"M18.56 5.44l.94 2.06.94-2.06 2.06-.94-2.06-.94-.94-2.06-.94 2.06-2.06.94zm-11 1L8.5 8.5l.94-2.06 2.06-.94-2.06-.94L8.5 2.5l-.94 2.06-2.06.94zm10 10l.94 2.06.94-2.06 2.06-.94-2.06-.94-.94-2.06-.94 2.06-2.06.94z\"/><path d=\"M17.41 7.96l-1.37-1.37c-.4-.4-.92-.59-1.43-.59-.52 0-1.04.2-1.43.59L10.3 9.45l-7.72 7.72c-.78.78-.78 2.05 0 2.83L4 21.41c.39.39.9.59 1.41.59.51 0 1.02-.2 1.41-.59l7.78-7.78 2.81-2.81c.8-.78.8-2.07 0-2.86zM5.41 20L4 18.59l7.72-7.72 1.47 1.35L5.41 20z\"/>\n",
              "  </svg>\n",
              "      </button>\n",
              "      \n",
              "  <style>\n",
              "    .colab-df-container {\n",
              "      display:flex;\n",
              "      flex-wrap:wrap;\n",
              "      gap: 12px;\n",
              "    }\n",
              "\n",
              "    .colab-df-convert {\n",
              "      background-color: #E8F0FE;\n",
              "      border: none;\n",
              "      border-radius: 50%;\n",
              "      cursor: pointer;\n",
              "      display: none;\n",
              "      fill: #1967D2;\n",
              "      height: 32px;\n",
              "      padding: 0 0 0 0;\n",
              "      width: 32px;\n",
              "    }\n",
              "\n",
              "    .colab-df-convert:hover {\n",
              "      background-color: #E2EBFA;\n",
              "      box-shadow: 0px 1px 2px rgba(60, 64, 67, 0.3), 0px 1px 3px 1px rgba(60, 64, 67, 0.15);\n",
              "      fill: #174EA6;\n",
              "    }\n",
              "\n",
              "    [theme=dark] .colab-df-convert {\n",
              "      background-color: #3B4455;\n",
              "      fill: #D2E3FC;\n",
              "    }\n",
              "\n",
              "    [theme=dark] .colab-df-convert:hover {\n",
              "      background-color: #434B5C;\n",
              "      box-shadow: 0px 1px 3px 1px rgba(0, 0, 0, 0.15);\n",
              "      filter: drop-shadow(0px 1px 2px rgba(0, 0, 0, 0.3));\n",
              "      fill: #FFFFFF;\n",
              "    }\n",
              "  </style>\n",
              "\n",
              "      <script>\n",
              "        const buttonEl =\n",
              "          document.querySelector('#df-e0ae7dba-5b01-4143-83a7-84c10fde2811 button.colab-df-convert');\n",
              "        buttonEl.style.display =\n",
              "          google.colab.kernel.accessAllowed ? 'block' : 'none';\n",
              "\n",
              "        async function convertToInteractive(key) {\n",
              "          const element = document.querySelector('#df-e0ae7dba-5b01-4143-83a7-84c10fde2811');\n",
              "          const dataTable =\n",
              "            await google.colab.kernel.invokeFunction('convertToInteractive',\n",
              "                                                     [key], {});\n",
              "          if (!dataTable) return;\n",
              "\n",
              "          const docLinkHtml = 'Like what you see? Visit the ' +\n",
              "            '<a target=\"_blank\" href=https://colab.research.google.com/notebooks/data_table.ipynb>data table notebook</a>'\n",
              "            + ' to learn more about interactive tables.';\n",
              "          element.innerHTML = '';\n",
              "          dataTable['output_type'] = 'display_data';\n",
              "          await google.colab.output.renderOutput(dataTable, element);\n",
              "          const docLink = document.createElement('div');\n",
              "          docLink.innerHTML = docLinkHtml;\n",
              "          element.appendChild(docLink);\n",
              "        }\n",
              "      </script>\n",
              "    </div>\n",
              "  </div>\n",
              "  "
            ]
          },
          "metadata": {},
          "execution_count": 64
        }
      ],
      "source": [
        "df_purpose_debt['percent'] = (\n",
        "    (df_purpose_debt[1] / (df_purpose_debt[1]\n",
        "                          + df_purpose_debt[0]) * 100).round(1)\n",
        "                          )\n",
        "\n",
        "#сортировка данных по количеству возвращенных кредитов.\n",
        "df_purpose_debt.sort_values(by=1, ascending=False) "
      ]
    },
    {
      "cell_type": "code",
      "execution_count": 65,
      "id": "3e3ae576",
      "metadata": {
        "colab": {
          "base_uri": "https://localhost:8080/",
          "height": 206
        },
        "id": "3e3ae576",
        "outputId": "baeced49-b0e3-4eb9-9b5e-2b53ee3fa432"
      },
      "outputs": [
        {
          "output_type": "execute_result",
          "data": {
            "text/plain": [
              "debt                      False  True  percent\n",
              "purpose_category                              \n",
              "операции с автомобилем     3903   403      9.4\n",
              "получение образования      3643   370      9.2\n",
              "проведение свадьбы         2137   186      8.0\n",
              "операции с недвижимостью  10028   782      7.2"
            ],
            "text/html": [
              "\n",
              "  <div id=\"df-87b3a608-cd46-4236-8cc5-e837a982dde6\">\n",
              "    <div class=\"colab-df-container\">\n",
              "      <div>\n",
              "<style scoped>\n",
              "    .dataframe tbody tr th:only-of-type {\n",
              "        vertical-align: middle;\n",
              "    }\n",
              "\n",
              "    .dataframe tbody tr th {\n",
              "        vertical-align: top;\n",
              "    }\n",
              "\n",
              "    .dataframe thead th {\n",
              "        text-align: right;\n",
              "    }\n",
              "</style>\n",
              "<table border=\"1\" class=\"dataframe\">\n",
              "  <thead>\n",
              "    <tr style=\"text-align: right;\">\n",
              "      <th>debt</th>\n",
              "      <th>False</th>\n",
              "      <th>True</th>\n",
              "      <th>percent</th>\n",
              "    </tr>\n",
              "    <tr>\n",
              "      <th>purpose_category</th>\n",
              "      <th></th>\n",
              "      <th></th>\n",
              "      <th></th>\n",
              "    </tr>\n",
              "  </thead>\n",
              "  <tbody>\n",
              "    <tr>\n",
              "      <th>операции с автомобилем</th>\n",
              "      <td>3903</td>\n",
              "      <td>403</td>\n",
              "      <td>9.4</td>\n",
              "    </tr>\n",
              "    <tr>\n",
              "      <th>получение образования</th>\n",
              "      <td>3643</td>\n",
              "      <td>370</td>\n",
              "      <td>9.2</td>\n",
              "    </tr>\n",
              "    <tr>\n",
              "      <th>проведение свадьбы</th>\n",
              "      <td>2137</td>\n",
              "      <td>186</td>\n",
              "      <td>8.0</td>\n",
              "    </tr>\n",
              "    <tr>\n",
              "      <th>операции с недвижимостью</th>\n",
              "      <td>10028</td>\n",
              "      <td>782</td>\n",
              "      <td>7.2</td>\n",
              "    </tr>\n",
              "  </tbody>\n",
              "</table>\n",
              "</div>\n",
              "      <button class=\"colab-df-convert\" onclick=\"convertToInteractive('df-87b3a608-cd46-4236-8cc5-e837a982dde6')\"\n",
              "              title=\"Convert this dataframe to an interactive table.\"\n",
              "              style=\"display:none;\">\n",
              "        \n",
              "  <svg xmlns=\"http://www.w3.org/2000/svg\" height=\"24px\"viewBox=\"0 0 24 24\"\n",
              "       width=\"24px\">\n",
              "    <path d=\"M0 0h24v24H0V0z\" fill=\"none\"/>\n",
              "    <path d=\"M18.56 5.44l.94 2.06.94-2.06 2.06-.94-2.06-.94-.94-2.06-.94 2.06-2.06.94zm-11 1L8.5 8.5l.94-2.06 2.06-.94-2.06-.94L8.5 2.5l-.94 2.06-2.06.94zm10 10l.94 2.06.94-2.06 2.06-.94-2.06-.94-.94-2.06-.94 2.06-2.06.94z\"/><path d=\"M17.41 7.96l-1.37-1.37c-.4-.4-.92-.59-1.43-.59-.52 0-1.04.2-1.43.59L10.3 9.45l-7.72 7.72c-.78.78-.78 2.05 0 2.83L4 21.41c.39.39.9.59 1.41.59.51 0 1.02-.2 1.41-.59l7.78-7.78 2.81-2.81c.8-.78.8-2.07 0-2.86zM5.41 20L4 18.59l7.72-7.72 1.47 1.35L5.41 20z\"/>\n",
              "  </svg>\n",
              "      </button>\n",
              "      \n",
              "  <style>\n",
              "    .colab-df-container {\n",
              "      display:flex;\n",
              "      flex-wrap:wrap;\n",
              "      gap: 12px;\n",
              "    }\n",
              "\n",
              "    .colab-df-convert {\n",
              "      background-color: #E8F0FE;\n",
              "      border: none;\n",
              "      border-radius: 50%;\n",
              "      cursor: pointer;\n",
              "      display: none;\n",
              "      fill: #1967D2;\n",
              "      height: 32px;\n",
              "      padding: 0 0 0 0;\n",
              "      width: 32px;\n",
              "    }\n",
              "\n",
              "    .colab-df-convert:hover {\n",
              "      background-color: #E2EBFA;\n",
              "      box-shadow: 0px 1px 2px rgba(60, 64, 67, 0.3), 0px 1px 3px 1px rgba(60, 64, 67, 0.15);\n",
              "      fill: #174EA6;\n",
              "    }\n",
              "\n",
              "    [theme=dark] .colab-df-convert {\n",
              "      background-color: #3B4455;\n",
              "      fill: #D2E3FC;\n",
              "    }\n",
              "\n",
              "    [theme=dark] .colab-df-convert:hover {\n",
              "      background-color: #434B5C;\n",
              "      box-shadow: 0px 1px 3px 1px rgba(0, 0, 0, 0.15);\n",
              "      filter: drop-shadow(0px 1px 2px rgba(0, 0, 0, 0.3));\n",
              "      fill: #FFFFFF;\n",
              "    }\n",
              "  </style>\n",
              "\n",
              "      <script>\n",
              "        const buttonEl =\n",
              "          document.querySelector('#df-87b3a608-cd46-4236-8cc5-e837a982dde6 button.colab-df-convert');\n",
              "        buttonEl.style.display =\n",
              "          google.colab.kernel.accessAllowed ? 'block' : 'none';\n",
              "\n",
              "        async function convertToInteractive(key) {\n",
              "          const element = document.querySelector('#df-87b3a608-cd46-4236-8cc5-e837a982dde6');\n",
              "          const dataTable =\n",
              "            await google.colab.kernel.invokeFunction('convertToInteractive',\n",
              "                                                     [key], {});\n",
              "          if (!dataTable) return;\n",
              "\n",
              "          const docLinkHtml = 'Like what you see? Visit the ' +\n",
              "            '<a target=\"_blank\" href=https://colab.research.google.com/notebooks/data_table.ipynb>data table notebook</a>'\n",
              "            + ' to learn more about interactive tables.';\n",
              "          element.innerHTML = '';\n",
              "          dataTable['output_type'] = 'display_data';\n",
              "          await google.colab.output.renderOutput(dataTable, element);\n",
              "          const docLink = document.createElement('div');\n",
              "          docLink.innerHTML = docLinkHtml;\n",
              "          element.appendChild(docLink);\n",
              "        }\n",
              "      </script>\n",
              "    </div>\n",
              "  </div>\n",
              "  "
            ]
          },
          "metadata": {},
          "execution_count": 65
        }
      ],
      "source": [
        "#сортировка данных по проценту невозвращенных кредитов.\n",
        "df_purpose_debt.sort_values(by='percent', ascending=False).round(1)"
      ]
    },
    {
      "cell_type": "markdown",
      "id": "53e19249",
      "metadata": {
        "id": "53e19249"
      },
      "source": [
        "##### Вывод 4:"
      ]
    },
    {
      "cell_type": "markdown",
      "id": "97b02eda",
      "metadata": {
        "id": "97b02eda"
      },
      "source": [
        "Основная группа людей берут кредит для того, чтобы осуществить операции с недвижимостью. Эта же группа чаще других возвращает кредит в срок: процент невозвратов составляет `7.2%`, что ниже средних `8.1%`."
      ]
    },
    {
      "cell_type": "markdown",
      "id": "048ac903",
      "metadata": {
        "id": "048ac903"
      },
      "source": [
        "Реже всего погашают долги те, кто обратился за кредитом для получения образования и осуществления операций с автомобилем. Процент невозврата долга для этих категорий составляет `9.2%` и `9.4%` соответственно."
      ]
    },
    {
      "cell_type": "markdown",
      "id": "7e16beb7",
      "metadata": {
        "id": "7e16beb7"
      },
      "source": [
        "При анализе данной категории данных четко прослеживается влияние цели кредита на возможность его возврата в срок: кредиты, за которыми обращались для проведения свадьбы или операций с недвижимостью возвращают вовремя чаще, чем кредиты для получения образования или операций с автомобилем. "
      ]
    },
    {
      "cell_type": "markdown",
      "id": "4ebe6f36",
      "metadata": {
        "id": "4ebe6f36"
      },
      "source": [
        "## Общий вывод:"
      ]
    },
    {
      "cell_type": "markdown",
      "id": "daf7f22f",
      "metadata": {
        "id": "daf7f22f"
      },
      "source": [
        "В ходе исследования необходимо было проанализировать влияние различных показателей на возврат кредита в срок.\n",
        "Было обнаружено следующее:"
      ]
    },
    {
      "cell_type": "markdown",
      "id": "9bfbcf14",
      "metadata": {
        "id": "9bfbcf14"
      },
      "source": [
        "* Наличие детей влияет на возможность вернуть кредит в срок: клиенты с детьми возвращают кредит в срок на 20% процентов (или 1.5 процентных пункта) реже, чем те, у кого детей нет. Наблюдается увеличение количества невозвращенных кредитов в зависимости от количества детей. При этом те, у кого трое и более детей, не имеют задолженности чаще, чем те, у кого один ребенок или двое детей."
      ]
    },
    {
      "cell_type": "markdown",
      "id": "25649cae",
      "metadata": {
        "id": "25649cae"
      },
      "source": [
        "* Семейное положение влияет на возможность вернуть кредит в срок: клиенты, которые состоят в официальном браке или когда-либо состояли, погашают долги в срок на 35% (или 2.5 процентных пункта) чаще, чем клиенты, которые в браке не состоят и не состояли."
      ]
    },
    {
      "cell_type": "markdown",
      "id": "558fd7f2",
      "metadata": {
        "id": "558fd7f2"
      },
      "source": [
        "* Уровень дохода не сильно влияет на возможность вернуть кредит в срок: разные категории показывают процент невозврата ниже среднего или близко к среднему. При этом основные риски невозврата кредитных средств в срок связаны с людьми, имеющий низкий уровень доходов до 30000 руб. / мес, т.к. процент невозврата на 12% (или 1 процентный пункт) больше среднего по всем показателям."
      ]
    },
    {
      "cell_type": "markdown",
      "id": "54403ce1",
      "metadata": {
        "id": "54403ce1"
      },
      "source": [
        "* Цель кредита влияет на возможность вернуть кредит в срок: кредиты, за которыми обращались для проведения свадьбы или операций с недвижимостью возвращают вовремя чаще, чем кредиты для получения образования или операций с автомобилем. Кредиты для получения образования или операций с автомобилем имеют процент невозврата кредитных средств в срок на 13.5% и 16% (или 1.1 и 1.3 процентных пункта) больше среднего по всем показателям соответвенно. Кредиты для проведения свадьбы или операций с недвижимостью имеют процент невозврата близкий к среднему по всем показателям соответвенно."
      ]
    }
  ],
  "metadata": {
    "ExecuteTimeLog": [
      {
        "duration": 839,
        "start_time": "2022-02-05T08:23:31.904Z"
      },
      {
        "duration": 22,
        "start_time": "2022-02-05T08:24:21.623Z"
      },
      {
        "duration": 16,
        "start_time": "2022-02-05T08:24:34.371Z"
      },
      {
        "duration": 440,
        "start_time": "2022-02-05T08:33:57.783Z"
      },
      {
        "duration": 5,
        "start_time": "2022-02-05T08:34:14.052Z"
      },
      {
        "duration": 103,
        "start_time": "2022-02-05T08:40:21.130Z"
      },
      {
        "duration": 80,
        "start_time": "2022-02-05T08:41:02.322Z"
      },
      {
        "duration": 85,
        "start_time": "2022-02-05T08:52:48.592Z"
      },
      {
        "duration": 15,
        "start_time": "2022-02-05T08:54:48.592Z"
      },
      {
        "duration": 952,
        "start_time": "2022-02-05T08:54:56.897Z"
      },
      {
        "duration": 20,
        "start_time": "2022-02-05T08:54:57.852Z"
      },
      {
        "duration": 7,
        "start_time": "2022-02-05T08:54:57.876Z"
      },
      {
        "duration": 13,
        "start_time": "2022-02-05T08:59:08.132Z"
      },
      {
        "duration": 29,
        "start_time": "2022-02-05T08:59:59.145Z"
      },
      {
        "duration": 14,
        "start_time": "2022-02-05T09:00:07.445Z"
      },
      {
        "duration": -616,
        "start_time": "2022-02-05T09:10:19.610Z"
      },
      {
        "duration": 291,
        "start_time": "2022-02-05T09:10:39.045Z"
      },
      {
        "duration": -726,
        "start_time": "2022-02-05T09:11:03.236Z"
      },
      {
        "duration": 21,
        "start_time": "2022-02-05T09:11:08.338Z"
      },
      {
        "duration": 89,
        "start_time": "2022-02-05T09:11:14.498Z"
      },
      {
        "duration": 903,
        "start_time": "2022-02-05T09:11:22.886Z"
      },
      {
        "duration": 14,
        "start_time": "2022-02-05T09:11:23.793Z"
      },
      {
        "duration": 9,
        "start_time": "2022-02-05T09:11:23.810Z"
      },
      {
        "duration": 32,
        "start_time": "2022-02-05T09:11:23.821Z"
      },
      {
        "duration": 30,
        "start_time": "2022-02-05T09:11:23.856Z"
      },
      {
        "duration": 575,
        "start_time": "2022-02-05T09:13:29.365Z"
      },
      {
        "duration": 299,
        "start_time": "2022-02-05T09:20:39.556Z"
      },
      {
        "duration": 278,
        "start_time": "2022-02-05T09:20:47.245Z"
      },
      {
        "duration": 38,
        "start_time": "2022-02-05T09:21:32.366Z"
      },
      {
        "duration": 119,
        "start_time": "2022-02-05T09:25:32.745Z"
      },
      {
        "duration": 926,
        "start_time": "2022-02-05T09:26:44.505Z"
      },
      {
        "duration": 15,
        "start_time": "2022-02-05T09:26:45.433Z"
      },
      {
        "duration": 6,
        "start_time": "2022-02-05T09:26:45.451Z"
      },
      {
        "duration": 15,
        "start_time": "2022-02-05T09:26:45.460Z"
      },
      {
        "duration": 34,
        "start_time": "2022-02-05T09:26:45.478Z"
      },
      {
        "duration": 113,
        "start_time": "2022-02-05T09:32:40.357Z"
      },
      {
        "duration": 5,
        "start_time": "2022-02-05T09:32:44.626Z"
      },
      {
        "duration": 5,
        "start_time": "2022-02-05T09:32:58.305Z"
      },
      {
        "duration": 7,
        "start_time": "2022-02-05T09:33:10.464Z"
      },
      {
        "duration": 6,
        "start_time": "2022-02-05T10:04:54.987Z"
      },
      {
        "duration": 7,
        "start_time": "2022-02-05T10:05:08.358Z"
      },
      {
        "duration": 10,
        "start_time": "2022-02-05T10:06:17.946Z"
      },
      {
        "duration": 124,
        "start_time": "2022-02-05T10:07:22.446Z"
      },
      {
        "duration": 8,
        "start_time": "2022-02-05T10:08:04.367Z"
      },
      {
        "duration": 8,
        "start_time": "2022-02-05T10:08:57.906Z"
      },
      {
        "duration": 11,
        "start_time": "2022-02-05T10:09:41.307Z"
      },
      {
        "duration": 8,
        "start_time": "2022-02-05T10:10:07.618Z"
      },
      {
        "duration": 7,
        "start_time": "2022-02-05T10:10:15.527Z"
      },
      {
        "duration": 36,
        "start_time": "2022-02-05T10:20:09.797Z"
      },
      {
        "duration": 42,
        "start_time": "2022-02-05T10:20:27.626Z"
      },
      {
        "duration": 23,
        "start_time": "2022-02-05T10:20:49.086Z"
      },
      {
        "duration": 5,
        "start_time": "2022-02-05T10:21:56.566Z"
      },
      {
        "duration": 4,
        "start_time": "2022-02-05T10:22:38.897Z"
      },
      {
        "duration": 18,
        "start_time": "2022-02-05T10:23:05.577Z"
      },
      {
        "duration": 8,
        "start_time": "2022-02-05T10:27:52.327Z"
      },
      {
        "duration": 6,
        "start_time": "2022-02-05T10:28:11.660Z"
      },
      {
        "duration": 100,
        "start_time": "2022-02-05T10:32:35.987Z"
      },
      {
        "duration": 7,
        "start_time": "2022-02-05T10:32:41.407Z"
      },
      {
        "duration": 55,
        "start_time": "2022-02-05T10:37:46.026Z"
      },
      {
        "duration": 35,
        "start_time": "2022-02-05T10:37:50.986Z"
      },
      {
        "duration": 21,
        "start_time": "2022-02-05T10:39:40.324Z"
      },
      {
        "duration": 29,
        "start_time": "2022-02-05T10:40:01.537Z"
      },
      {
        "duration": 8,
        "start_time": "2022-02-05T10:41:49.275Z"
      },
      {
        "duration": 6,
        "start_time": "2022-02-05T10:42:48.585Z"
      },
      {
        "duration": -991,
        "start_time": "2022-02-05T10:43:35.665Z"
      },
      {
        "duration": 8423,
        "start_time": "2022-02-05T10:43:38.666Z"
      },
      {
        "duration": 1344,
        "start_time": "2022-02-05T10:44:03.531Z"
      },
      {
        "duration": 15,
        "start_time": "2022-02-05T10:44:04.877Z"
      },
      {
        "duration": 6,
        "start_time": "2022-02-05T10:44:04.894Z"
      },
      {
        "duration": 16,
        "start_time": "2022-02-05T10:44:04.902Z"
      },
      {
        "duration": 66,
        "start_time": "2022-02-05T10:44:04.920Z"
      },
      {
        "duration": 5,
        "start_time": "2022-02-05T10:44:04.988Z"
      },
      {
        "duration": 21,
        "start_time": "2022-02-05T10:44:04.995Z"
      },
      {
        "duration": 35,
        "start_time": "2022-02-05T10:44:05.018Z"
      },
      {
        "duration": 8,
        "start_time": "2022-02-05T10:44:05.060Z"
      },
      {
        "duration": 31,
        "start_time": "2022-02-05T10:44:05.070Z"
      },
      {
        "duration": 6,
        "start_time": "2022-02-05T10:44:05.103Z"
      },
      {
        "duration": 62,
        "start_time": "2022-02-05T10:44:05.112Z"
      },
      {
        "duration": 9,
        "start_time": "2022-02-05T10:44:05.177Z"
      },
      {
        "duration": 836,
        "start_time": "2022-02-05T10:44:42.865Z"
      },
      {
        "duration": 14,
        "start_time": "2022-02-05T10:44:43.703Z"
      },
      {
        "duration": 6,
        "start_time": "2022-02-05T10:44:43.720Z"
      },
      {
        "duration": 31,
        "start_time": "2022-02-05T10:44:43.728Z"
      },
      {
        "duration": 18,
        "start_time": "2022-02-05T10:44:43.762Z"
      },
      {
        "duration": 42,
        "start_time": "2022-02-05T10:44:43.783Z"
      },
      {
        "duration": 28,
        "start_time": "2022-02-05T10:44:43.827Z"
      },
      {
        "duration": 30,
        "start_time": "2022-02-05T10:44:43.860Z"
      },
      {
        "duration": 7,
        "start_time": "2022-02-05T10:44:43.892Z"
      },
      {
        "duration": 10,
        "start_time": "2022-02-05T10:44:43.901Z"
      },
      {
        "duration": 54,
        "start_time": "2022-02-05T10:44:43.913Z"
      },
      {
        "duration": 6,
        "start_time": "2022-02-05T10:44:43.970Z"
      },
      {
        "duration": 10,
        "start_time": "2022-02-05T10:44:43.978Z"
      },
      {
        "duration": 9,
        "start_time": "2022-02-05T10:44:43.991Z"
      },
      {
        "duration": 871,
        "start_time": "2022-02-05T10:45:08.842Z"
      },
      {
        "duration": 15,
        "start_time": "2022-02-05T10:45:09.715Z"
      },
      {
        "duration": 25,
        "start_time": "2022-02-05T10:45:09.733Z"
      },
      {
        "duration": 24,
        "start_time": "2022-02-05T10:45:09.762Z"
      },
      {
        "duration": 34,
        "start_time": "2022-02-05T10:45:09.788Z"
      },
      {
        "duration": 23,
        "start_time": "2022-02-05T10:45:09.825Z"
      },
      {
        "duration": 20,
        "start_time": "2022-02-05T10:45:09.858Z"
      },
      {
        "duration": 6,
        "start_time": "2022-02-05T10:45:09.881Z"
      },
      {
        "duration": 6,
        "start_time": "2022-02-05T10:45:09.893Z"
      },
      {
        "duration": 71,
        "start_time": "2022-02-05T10:45:09.902Z"
      },
      {
        "duration": 7,
        "start_time": "2022-02-05T10:45:09.976Z"
      },
      {
        "duration": 31,
        "start_time": "2022-02-05T10:45:09.985Z"
      },
      {
        "duration": 14,
        "start_time": "2022-02-05T10:45:10.018Z"
      },
      {
        "duration": 6,
        "start_time": "2022-02-05T10:48:55.062Z"
      },
      {
        "duration": 6,
        "start_time": "2022-02-05T10:49:01.003Z"
      },
      {
        "duration": 398,
        "start_time": "2022-02-05T10:50:31.213Z"
      },
      {
        "duration": 44,
        "start_time": "2022-02-05T10:58:59.862Z"
      },
      {
        "duration": 13,
        "start_time": "2022-02-05T11:03:23.794Z"
      },
      {
        "duration": -815,
        "start_time": "2022-02-05T11:04:15.500Z"
      },
      {
        "duration": 1169,
        "start_time": "2022-02-05T11:04:39.147Z"
      },
      {
        "duration": 14,
        "start_time": "2022-02-05T11:04:40.319Z"
      },
      {
        "duration": 5,
        "start_time": "2022-02-05T11:04:40.336Z"
      },
      {
        "duration": 24,
        "start_time": "2022-02-05T11:04:40.348Z"
      },
      {
        "duration": 35,
        "start_time": "2022-02-05T11:04:40.375Z"
      },
      {
        "duration": 5,
        "start_time": "2022-02-05T11:04:40.412Z"
      },
      {
        "duration": 22,
        "start_time": "2022-02-05T11:04:40.419Z"
      },
      {
        "duration": 9,
        "start_time": "2022-02-05T11:04:40.443Z"
      },
      {
        "duration": 15,
        "start_time": "2022-02-05T11:04:40.457Z"
      },
      {
        "duration": 26,
        "start_time": "2022-02-05T11:04:40.474Z"
      },
      {
        "duration": 6,
        "start_time": "2022-02-05T11:04:40.502Z"
      },
      {
        "duration": -1068,
        "start_time": "2022-02-05T11:05:03.038Z"
      },
      {
        "duration": -1108,
        "start_time": "2022-02-05T11:05:03.079Z"
      },
      {
        "duration": 11,
        "start_time": "2022-02-05T11:05:21.173Z"
      },
      {
        "duration": 12,
        "start_time": "2022-02-05T11:13:07.220Z"
      },
      {
        "duration": 727,
        "start_time": "2022-02-05T11:14:04.693Z"
      },
      {
        "duration": 725,
        "start_time": "2022-02-05T11:14:23.333Z"
      },
      {
        "duration": 278,
        "start_time": "2022-02-05T11:15:36.772Z"
      },
      {
        "duration": 10,
        "start_time": "2022-02-05T11:15:53.934Z"
      },
      {
        "duration": 301,
        "start_time": "2022-02-05T11:18:41.813Z"
      },
      {
        "duration": 19,
        "start_time": "2022-02-05T11:27:22.773Z"
      },
      {
        "duration": 7242,
        "start_time": "2022-02-05T11:28:07.031Z"
      },
      {
        "duration": 8,
        "start_time": "2022-02-05T11:29:15.213Z"
      },
      {
        "duration": 8,
        "start_time": "2022-02-05T11:30:16.134Z"
      },
      {
        "duration": 9,
        "start_time": "2022-02-05T11:30:47.592Z"
      },
      {
        "duration": 10,
        "start_time": "2022-02-05T11:30:56.394Z"
      },
      {
        "duration": 10,
        "start_time": "2022-02-05T11:31:43.752Z"
      },
      {
        "duration": 10,
        "start_time": "2022-02-05T11:31:53.760Z"
      },
      {
        "duration": 10,
        "start_time": "2022-02-05T11:32:07.652Z"
      },
      {
        "duration": 10,
        "start_time": "2022-02-05T11:32:14.453Z"
      },
      {
        "duration": 829,
        "start_time": "2022-02-05T11:32:45.419Z"
      },
      {
        "duration": 15,
        "start_time": "2022-02-05T11:32:46.250Z"
      },
      {
        "duration": 6,
        "start_time": "2022-02-05T11:32:46.268Z"
      },
      {
        "duration": 19,
        "start_time": "2022-02-05T11:32:46.276Z"
      },
      {
        "duration": 58,
        "start_time": "2022-02-05T11:32:46.297Z"
      },
      {
        "duration": 5,
        "start_time": "2022-02-05T11:32:46.357Z"
      },
      {
        "duration": 21,
        "start_time": "2022-02-05T11:32:46.364Z"
      },
      {
        "duration": 6,
        "start_time": "2022-02-05T11:32:46.389Z"
      },
      {
        "duration": 7,
        "start_time": "2022-02-05T11:32:46.397Z"
      },
      {
        "duration": 65,
        "start_time": "2022-02-05T11:32:46.407Z"
      },
      {
        "duration": 6,
        "start_time": "2022-02-05T11:32:46.475Z"
      },
      {
        "duration": 13,
        "start_time": "2022-02-05T11:32:46.483Z"
      },
      {
        "duration": 9,
        "start_time": "2022-02-05T11:32:46.498Z"
      },
      {
        "duration": 18,
        "start_time": "2022-02-05T11:35:41.722Z"
      },
      {
        "duration": 96,
        "start_time": "2022-02-05T11:36:59.090Z"
      },
      {
        "duration": 811,
        "start_time": "2022-02-05T11:39:16.249Z"
      },
      {
        "duration": 15,
        "start_time": "2022-02-05T11:39:17.063Z"
      },
      {
        "duration": 7,
        "start_time": "2022-02-05T11:39:17.081Z"
      },
      {
        "duration": 24,
        "start_time": "2022-02-05T11:39:17.090Z"
      },
      {
        "duration": 65,
        "start_time": "2022-02-05T11:39:17.116Z"
      },
      {
        "duration": 6,
        "start_time": "2022-02-05T11:39:17.183Z"
      },
      {
        "duration": 20,
        "start_time": "2022-02-05T11:39:17.191Z"
      },
      {
        "duration": 40,
        "start_time": "2022-02-05T11:39:17.214Z"
      },
      {
        "duration": 7,
        "start_time": "2022-02-05T11:39:17.257Z"
      },
      {
        "duration": 25,
        "start_time": "2022-02-05T11:39:17.267Z"
      },
      {
        "duration": 6,
        "start_time": "2022-02-05T11:39:17.294Z"
      },
      {
        "duration": 57,
        "start_time": "2022-02-05T11:39:17.302Z"
      },
      {
        "duration": 16,
        "start_time": "2022-02-05T11:39:17.362Z"
      },
      {
        "duration": -1214,
        "start_time": "2022-02-05T11:42:25.389Z"
      },
      {
        "duration": 791,
        "start_time": "2022-02-05T11:42:36.165Z"
      },
      {
        "duration": 14,
        "start_time": "2022-02-05T11:42:36.959Z"
      },
      {
        "duration": 6,
        "start_time": "2022-02-05T11:42:36.976Z"
      },
      {
        "duration": 14,
        "start_time": "2022-02-05T11:42:36.984Z"
      },
      {
        "duration": 77,
        "start_time": "2022-02-05T11:42:37.000Z"
      },
      {
        "duration": 7,
        "start_time": "2022-02-05T11:42:37.080Z"
      },
      {
        "duration": 24,
        "start_time": "2022-02-05T11:42:37.090Z"
      },
      {
        "duration": 33,
        "start_time": "2022-02-05T11:42:37.117Z"
      },
      {
        "duration": 8,
        "start_time": "2022-02-05T11:42:37.155Z"
      },
      {
        "duration": 31,
        "start_time": "2022-02-05T11:42:37.166Z"
      },
      {
        "duration": 50,
        "start_time": "2022-02-05T11:42:37.200Z"
      },
      {
        "duration": 15,
        "start_time": "2022-02-05T11:42:37.253Z"
      },
      {
        "duration": 18,
        "start_time": "2022-02-05T11:42:37.270Z"
      },
      {
        "duration": 781,
        "start_time": "2022-02-05T11:45:50.682Z"
      },
      {
        "duration": 15,
        "start_time": "2022-02-05T11:45:51.466Z"
      },
      {
        "duration": 6,
        "start_time": "2022-02-05T11:45:51.485Z"
      },
      {
        "duration": 14,
        "start_time": "2022-02-05T11:45:51.495Z"
      },
      {
        "duration": 69,
        "start_time": "2022-02-05T11:45:51.511Z"
      },
      {
        "duration": 5,
        "start_time": "2022-02-05T11:45:51.583Z"
      },
      {
        "duration": 8,
        "start_time": "2022-02-05T11:45:51.590Z"
      },
      {
        "duration": 5,
        "start_time": "2022-02-05T11:45:51.602Z"
      },
      {
        "duration": 5,
        "start_time": "2022-02-05T11:45:51.650Z"
      },
      {
        "duration": 31,
        "start_time": "2022-02-05T11:45:51.658Z"
      },
      {
        "duration": 7,
        "start_time": "2022-02-05T11:45:51.691Z"
      },
      {
        "duration": 12,
        "start_time": "2022-02-05T11:45:51.700Z"
      },
      {
        "duration": 50,
        "start_time": "2022-02-05T11:45:51.714Z"
      },
      {
        "duration": 905,
        "start_time": "2022-02-05T11:48:31.019Z"
      },
      {
        "duration": 26,
        "start_time": "2022-02-05T11:48:31.928Z"
      },
      {
        "duration": 12,
        "start_time": "2022-02-05T11:48:31.958Z"
      },
      {
        "duration": 25,
        "start_time": "2022-02-05T11:48:31.973Z"
      },
      {
        "duration": 71,
        "start_time": "2022-02-05T11:48:32.001Z"
      },
      {
        "duration": 5,
        "start_time": "2022-02-05T11:48:32.075Z"
      },
      {
        "duration": 23,
        "start_time": "2022-02-05T11:48:32.082Z"
      },
      {
        "duration": 14,
        "start_time": "2022-02-05T11:48:32.109Z"
      },
      {
        "duration": 26,
        "start_time": "2022-02-05T11:48:32.126Z"
      },
      {
        "duration": 25,
        "start_time": "2022-02-05T11:48:32.155Z"
      },
      {
        "duration": 7,
        "start_time": "2022-02-05T11:48:32.182Z"
      },
      {
        "duration": 15,
        "start_time": "2022-02-05T11:48:32.192Z"
      },
      {
        "duration": 53,
        "start_time": "2022-02-05T11:48:32.210Z"
      },
      {
        "duration": 402,
        "start_time": "2022-02-06T08:36:50.433Z"
      },
      {
        "duration": 364,
        "start_time": "2022-02-06T08:37:01.573Z"
      },
      {
        "duration": 846,
        "start_time": "2022-02-06T08:37:21.468Z"
      },
      {
        "duration": 14,
        "start_time": "2022-02-06T08:37:22.317Z"
      },
      {
        "duration": 5,
        "start_time": "2022-02-06T08:37:22.334Z"
      },
      {
        "duration": 30,
        "start_time": "2022-02-06T08:37:22.341Z"
      },
      {
        "duration": 34,
        "start_time": "2022-02-06T08:37:22.374Z"
      },
      {
        "duration": 5,
        "start_time": "2022-02-06T08:37:22.411Z"
      },
      {
        "duration": 47,
        "start_time": "2022-02-06T08:37:22.419Z"
      },
      {
        "duration": 6,
        "start_time": "2022-02-06T08:37:22.470Z"
      },
      {
        "duration": 7,
        "start_time": "2022-02-06T08:37:22.478Z"
      },
      {
        "duration": 5,
        "start_time": "2022-02-06T08:37:22.488Z"
      },
      {
        "duration": 67,
        "start_time": "2022-02-06T08:37:22.496Z"
      },
      {
        "duration": 5,
        "start_time": "2022-02-06T08:37:22.566Z"
      },
      {
        "duration": 12,
        "start_time": "2022-02-06T08:37:22.574Z"
      },
      {
        "duration": 16,
        "start_time": "2022-02-06T08:37:22.588Z"
      },
      {
        "duration": 871,
        "start_time": "2022-02-06T08:38:31.228Z"
      },
      {
        "duration": 15,
        "start_time": "2022-02-06T08:38:32.101Z"
      },
      {
        "duration": 4,
        "start_time": "2022-02-06T08:38:32.119Z"
      },
      {
        "duration": 34,
        "start_time": "2022-02-06T08:38:32.126Z"
      },
      {
        "duration": 37,
        "start_time": "2022-02-06T08:38:32.163Z"
      },
      {
        "duration": 5,
        "start_time": "2022-02-06T08:38:32.202Z"
      },
      {
        "duration": 7,
        "start_time": "2022-02-06T08:38:32.209Z"
      },
      {
        "duration": 42,
        "start_time": "2022-02-06T08:38:32.221Z"
      },
      {
        "duration": 7,
        "start_time": "2022-02-06T08:38:32.267Z"
      },
      {
        "duration": 7,
        "start_time": "2022-02-06T08:38:32.277Z"
      },
      {
        "duration": 26,
        "start_time": "2022-02-06T08:38:32.286Z"
      },
      {
        "duration": 49,
        "start_time": "2022-02-06T08:38:32.314Z"
      },
      {
        "duration": 12,
        "start_time": "2022-02-06T08:38:32.365Z"
      },
      {
        "duration": 16,
        "start_time": "2022-02-06T08:38:32.379Z"
      },
      {
        "duration": 7,
        "start_time": "2022-02-06T08:56:33.242Z"
      },
      {
        "duration": 18,
        "start_time": "2022-02-06T08:56:49.401Z"
      },
      {
        "duration": 30,
        "start_time": "2022-02-06T08:57:14.755Z"
      },
      {
        "duration": 21,
        "start_time": "2022-02-06T08:57:28.555Z"
      },
      {
        "duration": 17,
        "start_time": "2022-02-06T08:57:46.704Z"
      },
      {
        "duration": 16,
        "start_time": "2022-02-06T08:58:31.135Z"
      },
      {
        "duration": 788,
        "start_time": "2022-02-06T08:58:44.696Z"
      },
      {
        "duration": 14,
        "start_time": "2022-02-06T08:58:45.486Z"
      },
      {
        "duration": 4,
        "start_time": "2022-02-06T08:58:45.503Z"
      },
      {
        "duration": 11,
        "start_time": "2022-02-06T08:58:45.510Z"
      },
      {
        "duration": 65,
        "start_time": "2022-02-06T08:58:45.523Z"
      },
      {
        "duration": 5,
        "start_time": "2022-02-06T08:58:45.590Z"
      },
      {
        "duration": 6,
        "start_time": "2022-02-06T08:58:45.597Z"
      },
      {
        "duration": 6,
        "start_time": "2022-02-06T08:58:45.606Z"
      },
      {
        "duration": 6,
        "start_time": "2022-02-06T08:58:45.615Z"
      },
      {
        "duration": 22,
        "start_time": "2022-02-06T08:58:45.660Z"
      },
      {
        "duration": 5,
        "start_time": "2022-02-06T08:58:45.685Z"
      },
      {
        "duration": 11,
        "start_time": "2022-02-06T08:58:45.692Z"
      },
      {
        "duration": 56,
        "start_time": "2022-02-06T08:58:45.705Z"
      },
      {
        "duration": 19,
        "start_time": "2022-02-06T08:58:45.763Z"
      },
      {
        "duration": 16,
        "start_time": "2022-02-06T08:58:45.784Z"
      },
      {
        "duration": 7,
        "start_time": "2022-02-06T09:02:10.348Z"
      },
      {
        "duration": 7,
        "start_time": "2022-02-06T09:02:28.608Z"
      },
      {
        "duration": 444,
        "start_time": "2022-02-06T09:02:33.803Z"
      },
      {
        "duration": 369,
        "start_time": "2022-02-06T09:05:46.622Z"
      },
      {
        "duration": 10,
        "start_time": "2022-02-06T09:06:01.715Z"
      },
      {
        "duration": 4,
        "start_time": "2022-02-06T09:09:24.836Z"
      },
      {
        "duration": 20,
        "start_time": "2022-02-06T09:14:09.659Z"
      },
      {
        "duration": 22,
        "start_time": "2022-02-06T09:14:31.137Z"
      },
      {
        "duration": 25,
        "start_time": "2022-02-06T09:14:36.528Z"
      },
      {
        "duration": 880,
        "start_time": "2022-02-06T09:14:42.665Z"
      },
      {
        "duration": 16,
        "start_time": "2022-02-06T09:14:43.547Z"
      },
      {
        "duration": 5,
        "start_time": "2022-02-06T09:14:43.566Z"
      },
      {
        "duration": 19,
        "start_time": "2022-02-06T09:14:43.574Z"
      },
      {
        "duration": 91,
        "start_time": "2022-02-06T09:14:43.596Z"
      },
      {
        "duration": 5,
        "start_time": "2022-02-06T09:14:43.689Z"
      },
      {
        "duration": 10,
        "start_time": "2022-02-06T09:14:43.696Z"
      },
      {
        "duration": 6,
        "start_time": "2022-02-06T09:14:43.711Z"
      },
      {
        "duration": 40,
        "start_time": "2022-02-06T09:14:43.720Z"
      },
      {
        "duration": 22,
        "start_time": "2022-02-06T09:14:43.763Z"
      },
      {
        "duration": 6,
        "start_time": "2022-02-06T09:14:43.787Z"
      },
      {
        "duration": 10,
        "start_time": "2022-02-06T09:14:43.795Z"
      },
      {
        "duration": 65,
        "start_time": "2022-02-06T09:14:43.807Z"
      },
      {
        "duration": 7,
        "start_time": "2022-02-06T09:14:43.874Z"
      },
      {
        "duration": 5,
        "start_time": "2022-02-06T09:14:43.883Z"
      },
      {
        "duration": 21,
        "start_time": "2022-02-06T09:14:43.890Z"
      },
      {
        "duration": 61,
        "start_time": "2022-02-06T09:14:43.913Z"
      },
      {
        "duration": 16,
        "start_time": "2022-02-06T09:14:43.976Z"
      },
      {
        "duration": 8,
        "start_time": "2022-02-06T09:18:56.215Z"
      },
      {
        "duration": 444,
        "start_time": "2022-02-06T09:19:24.239Z"
      },
      {
        "duration": 10,
        "start_time": "2022-02-06T09:21:45.640Z"
      },
      {
        "duration": 341,
        "start_time": "2022-02-06T09:22:54.473Z"
      },
      {
        "duration": 9,
        "start_time": "2022-02-06T09:24:02.392Z"
      },
      {
        "duration": 9,
        "start_time": "2022-02-06T09:24:08.440Z"
      },
      {
        "duration": 9,
        "start_time": "2022-02-06T09:27:37.095Z"
      },
      {
        "duration": 401,
        "start_time": "2022-02-06T09:32:35.536Z"
      },
      {
        "duration": 29,
        "start_time": "2022-02-06T09:34:18.094Z"
      },
      {
        "duration": 27,
        "start_time": "2022-02-06T09:36:26.478Z"
      },
      {
        "duration": 801,
        "start_time": "2022-02-06T09:37:37.300Z"
      },
      {
        "duration": 14,
        "start_time": "2022-02-06T09:37:38.104Z"
      },
      {
        "duration": 1214,
        "start_time": "2022-02-06T09:38:41.217Z"
      },
      {
        "duration": 17,
        "start_time": "2022-02-06T09:38:42.434Z"
      },
      {
        "duration": 7,
        "start_time": "2022-02-06T09:38:42.453Z"
      },
      {
        "duration": 13,
        "start_time": "2022-02-06T09:38:42.463Z"
      },
      {
        "duration": 35,
        "start_time": "2022-02-06T09:38:42.479Z"
      },
      {
        "duration": 5,
        "start_time": "2022-02-06T09:38:42.516Z"
      },
      {
        "duration": 7,
        "start_time": "2022-02-06T09:38:42.524Z"
      },
      {
        "duration": 29,
        "start_time": "2022-02-06T09:38:42.534Z"
      },
      {
        "duration": 5,
        "start_time": "2022-02-06T09:38:42.567Z"
      },
      {
        "duration": 23,
        "start_time": "2022-02-06T09:38:42.575Z"
      },
      {
        "duration": 6,
        "start_time": "2022-02-06T09:38:42.600Z"
      },
      {
        "duration": 53,
        "start_time": "2022-02-06T09:38:42.608Z"
      },
      {
        "duration": 21,
        "start_time": "2022-02-06T09:38:42.663Z"
      },
      {
        "duration": 8,
        "start_time": "2022-02-06T09:38:42.686Z"
      },
      {
        "duration": 5,
        "start_time": "2022-02-06T09:38:42.696Z"
      },
      {
        "duration": 23,
        "start_time": "2022-02-06T09:38:42.703Z"
      },
      {
        "duration": 10,
        "start_time": "2022-02-06T09:38:42.729Z"
      },
      {
        "duration": 43,
        "start_time": "2022-02-06T09:38:42.741Z"
      },
      {
        "duration": 18,
        "start_time": "2022-02-06T09:38:42.786Z"
      },
      {
        "duration": 54,
        "start_time": "2022-02-06T09:38:42.807Z"
      },
      {
        "duration": 18,
        "start_time": "2022-02-06T09:47:23.061Z"
      },
      {
        "duration": 805,
        "start_time": "2022-02-06T09:47:49.089Z"
      },
      {
        "duration": 17,
        "start_time": "2022-02-06T09:47:49.898Z"
      },
      {
        "duration": 6,
        "start_time": "2022-02-06T09:47:49.919Z"
      },
      {
        "duration": 14,
        "start_time": "2022-02-06T09:47:49.959Z"
      },
      {
        "duration": 36,
        "start_time": "2022-02-06T09:47:49.976Z"
      },
      {
        "duration": 7,
        "start_time": "2022-02-06T09:47:50.015Z"
      },
      {
        "duration": 9,
        "start_time": "2022-02-06T09:47:50.061Z"
      },
      {
        "duration": 5,
        "start_time": "2022-02-06T09:47:50.076Z"
      },
      {
        "duration": 5,
        "start_time": "2022-02-06T09:47:50.084Z"
      },
      {
        "duration": 68,
        "start_time": "2022-02-06T09:47:50.091Z"
      },
      {
        "duration": 6,
        "start_time": "2022-02-06T09:47:50.161Z"
      },
      {
        "duration": 12,
        "start_time": "2022-02-06T09:47:50.169Z"
      },
      {
        "duration": 17,
        "start_time": "2022-02-06T09:47:50.183Z"
      },
      {
        "duration": 11,
        "start_time": "2022-02-06T09:47:50.203Z"
      },
      {
        "duration": 6,
        "start_time": "2022-02-06T09:47:50.260Z"
      },
      {
        "duration": 23,
        "start_time": "2022-02-06T09:47:50.269Z"
      },
      {
        "duration": 10,
        "start_time": "2022-02-06T09:47:50.295Z"
      },
      {
        "duration": 72,
        "start_time": "2022-02-06T09:47:50.308Z"
      },
      {
        "duration": 21,
        "start_time": "2022-02-06T09:47:50.383Z"
      },
      {
        "duration": 18,
        "start_time": "2022-02-06T09:47:50.406Z"
      },
      {
        "duration": 28,
        "start_time": "2022-02-06T09:51:26.988Z"
      },
      {
        "duration": 916,
        "start_time": "2022-02-06T09:51:37.181Z"
      },
      {
        "duration": 19,
        "start_time": "2022-02-06T09:51:38.100Z"
      },
      {
        "duration": 5,
        "start_time": "2022-02-06T09:51:38.121Z"
      },
      {
        "duration": 41,
        "start_time": "2022-02-06T09:51:38.128Z"
      },
      {
        "duration": 34,
        "start_time": "2022-02-06T09:51:38.171Z"
      },
      {
        "duration": 4,
        "start_time": "2022-02-06T09:51:38.207Z"
      },
      {
        "duration": 6,
        "start_time": "2022-02-06T09:51:38.214Z"
      },
      {
        "duration": 6,
        "start_time": "2022-02-06T09:51:38.261Z"
      },
      {
        "duration": 6,
        "start_time": "2022-02-06T09:51:38.270Z"
      },
      {
        "duration": 25,
        "start_time": "2022-02-06T09:51:38.279Z"
      },
      {
        "duration": 7,
        "start_time": "2022-02-06T09:51:38.307Z"
      },
      {
        "duration": 14,
        "start_time": "2022-02-06T09:51:38.360Z"
      },
      {
        "duration": 24,
        "start_time": "2022-02-06T09:51:38.376Z"
      },
      {
        "duration": 11,
        "start_time": "2022-02-06T09:51:38.403Z"
      },
      {
        "duration": 44,
        "start_time": "2022-02-06T09:51:38.417Z"
      },
      {
        "duration": 31,
        "start_time": "2022-02-06T09:51:38.464Z"
      },
      {
        "duration": 12,
        "start_time": "2022-02-06T09:51:38.498Z"
      },
      {
        "duration": 74,
        "start_time": "2022-02-06T09:51:38.513Z"
      },
      {
        "duration": 28,
        "start_time": "2022-02-06T09:51:38.590Z"
      },
      {
        "duration": 48,
        "start_time": "2022-02-06T09:51:38.621Z"
      },
      {
        "duration": 8,
        "start_time": "2022-02-06T09:54:23.080Z"
      },
      {
        "duration": 9,
        "start_time": "2022-02-06T09:55:24.681Z"
      },
      {
        "duration": 122,
        "start_time": "2022-02-06T10:07:52.449Z"
      },
      {
        "duration": 24,
        "start_time": "2022-02-06T10:08:16.086Z"
      },
      {
        "duration": 25,
        "start_time": "2022-02-06T10:08:44.356Z"
      },
      {
        "duration": 15,
        "start_time": "2022-02-06T10:08:59.997Z"
      },
      {
        "duration": 869,
        "start_time": "2022-02-06T10:09:07.160Z"
      },
      {
        "duration": 15,
        "start_time": "2022-02-06T10:09:08.032Z"
      },
      {
        "duration": 14,
        "start_time": "2022-02-06T10:09:08.049Z"
      },
      {
        "duration": 13,
        "start_time": "2022-02-06T10:09:08.065Z"
      },
      {
        "duration": 35,
        "start_time": "2022-02-06T10:09:08.080Z"
      },
      {
        "duration": 5,
        "start_time": "2022-02-06T10:09:08.117Z"
      },
      {
        "duration": 7,
        "start_time": "2022-02-06T10:09:08.159Z"
      },
      {
        "duration": 5,
        "start_time": "2022-02-06T10:09:08.170Z"
      },
      {
        "duration": 5,
        "start_time": "2022-02-06T10:09:08.178Z"
      },
      {
        "duration": 22,
        "start_time": "2022-02-06T10:09:08.186Z"
      },
      {
        "duration": 52,
        "start_time": "2022-02-06T10:09:08.210Z"
      },
      {
        "duration": 12,
        "start_time": "2022-02-06T10:09:08.264Z"
      },
      {
        "duration": 16,
        "start_time": "2022-02-06T10:09:08.279Z"
      },
      {
        "duration": 8,
        "start_time": "2022-02-06T10:09:08.297Z"
      },
      {
        "duration": 4,
        "start_time": "2022-02-06T10:09:08.307Z"
      },
      {
        "duration": 66,
        "start_time": "2022-02-06T10:09:08.314Z"
      },
      {
        "duration": 9,
        "start_time": "2022-02-06T10:09:08.383Z"
      },
      {
        "duration": 26,
        "start_time": "2022-02-06T10:09:08.394Z"
      },
      {
        "duration": 41,
        "start_time": "2022-02-06T10:09:08.422Z"
      },
      {
        "duration": 26,
        "start_time": "2022-02-06T10:09:08.466Z"
      },
      {
        "duration": 19,
        "start_time": "2022-02-06T10:09:08.494Z"
      },
      {
        "duration": 52,
        "start_time": "2022-02-06T10:09:08.516Z"
      },
      {
        "duration": 24,
        "start_time": "2022-02-06T10:09:54.076Z"
      },
      {
        "duration": 913,
        "start_time": "2022-02-06T10:10:30.486Z"
      },
      {
        "duration": 13,
        "start_time": "2022-02-06T10:10:31.402Z"
      },
      {
        "duration": 5,
        "start_time": "2022-02-06T10:10:31.418Z"
      },
      {
        "duration": 36,
        "start_time": "2022-02-06T10:10:31.426Z"
      },
      {
        "duration": 34,
        "start_time": "2022-02-06T10:10:31.465Z"
      },
      {
        "duration": 5,
        "start_time": "2022-02-06T10:10:31.501Z"
      },
      {
        "duration": 7,
        "start_time": "2022-02-06T10:10:31.509Z"
      },
      {
        "duration": 42,
        "start_time": "2022-02-06T10:10:31.520Z"
      },
      {
        "duration": 9,
        "start_time": "2022-02-06T10:10:31.566Z"
      },
      {
        "duration": 23,
        "start_time": "2022-02-06T10:10:31.577Z"
      },
      {
        "duration": 5,
        "start_time": "2022-02-06T10:10:31.603Z"
      },
      {
        "duration": 56,
        "start_time": "2022-02-06T10:10:31.611Z"
      },
      {
        "duration": 17,
        "start_time": "2022-02-06T10:10:31.670Z"
      },
      {
        "duration": 10,
        "start_time": "2022-02-06T10:10:31.690Z"
      },
      {
        "duration": 10,
        "start_time": "2022-02-06T10:10:31.702Z"
      },
      {
        "duration": 61,
        "start_time": "2022-02-06T10:10:31.715Z"
      },
      {
        "duration": 10,
        "start_time": "2022-02-06T10:10:31.778Z"
      },
      {
        "duration": 30,
        "start_time": "2022-02-06T10:10:31.790Z"
      },
      {
        "duration": 40,
        "start_time": "2022-02-06T10:10:31.823Z"
      },
      {
        "duration": 28,
        "start_time": "2022-02-06T10:10:31.866Z"
      },
      {
        "duration": 19,
        "start_time": "2022-02-06T10:10:31.897Z"
      },
      {
        "duration": 54,
        "start_time": "2022-02-06T10:10:31.919Z"
      },
      {
        "duration": 838,
        "start_time": "2022-02-06T10:11:24.063Z"
      },
      {
        "duration": 13,
        "start_time": "2022-02-06T10:11:24.904Z"
      },
      {
        "duration": 5,
        "start_time": "2022-02-06T10:11:24.920Z"
      },
      {
        "duration": 37,
        "start_time": "2022-02-06T10:11:24.928Z"
      },
      {
        "duration": 35,
        "start_time": "2022-02-06T10:11:24.967Z"
      },
      {
        "duration": 5,
        "start_time": "2022-02-06T10:11:25.005Z"
      },
      {
        "duration": 6,
        "start_time": "2022-02-06T10:11:25.012Z"
      },
      {
        "duration": 6,
        "start_time": "2022-02-06T10:11:25.061Z"
      },
      {
        "duration": 7,
        "start_time": "2022-02-06T10:11:25.070Z"
      },
      {
        "duration": 25,
        "start_time": "2022-02-06T10:11:25.079Z"
      },
      {
        "duration": 6,
        "start_time": "2022-02-06T10:11:25.106Z"
      },
      {
        "duration": 47,
        "start_time": "2022-02-06T10:11:25.114Z"
      },
      {
        "duration": 17,
        "start_time": "2022-02-06T10:11:25.164Z"
      },
      {
        "duration": 7,
        "start_time": "2022-02-06T10:11:25.183Z"
      },
      {
        "duration": 5,
        "start_time": "2022-02-06T10:11:25.192Z"
      },
      {
        "duration": 67,
        "start_time": "2022-02-06T10:11:25.199Z"
      },
      {
        "duration": 9,
        "start_time": "2022-02-06T10:11:25.269Z"
      },
      {
        "duration": 25,
        "start_time": "2022-02-06T10:11:25.280Z"
      },
      {
        "duration": 10,
        "start_time": "2022-02-06T10:11:25.307Z"
      },
      {
        "duration": 64,
        "start_time": "2022-02-06T10:11:25.319Z"
      },
      {
        "duration": 24,
        "start_time": "2022-02-06T10:11:25.385Z"
      },
      {
        "duration": 47,
        "start_time": "2022-02-06T10:11:25.412Z"
      },
      {
        "duration": 13,
        "start_time": "2022-02-06T10:12:26.684Z"
      },
      {
        "duration": 37,
        "start_time": "2022-02-06T10:18:58.079Z"
      },
      {
        "duration": 850,
        "start_time": "2022-02-06T10:19:15.993Z"
      },
      {
        "duration": 14,
        "start_time": "2022-02-06T10:19:16.846Z"
      },
      {
        "duration": 6,
        "start_time": "2022-02-06T10:19:16.863Z"
      },
      {
        "duration": 13,
        "start_time": "2022-02-06T10:19:16.871Z"
      },
      {
        "duration": 36,
        "start_time": "2022-02-06T10:19:16.886Z"
      },
      {
        "duration": 37,
        "start_time": "2022-02-06T10:19:16.924Z"
      },
      {
        "duration": 6,
        "start_time": "2022-02-06T10:19:16.963Z"
      },
      {
        "duration": 5,
        "start_time": "2022-02-06T10:19:16.973Z"
      },
      {
        "duration": 7,
        "start_time": "2022-02-06T10:19:16.982Z"
      },
      {
        "duration": 77,
        "start_time": "2022-02-06T10:19:16.992Z"
      },
      {
        "duration": 8,
        "start_time": "2022-02-06T10:19:17.072Z"
      },
      {
        "duration": 14,
        "start_time": "2022-02-06T10:19:17.083Z"
      },
      {
        "duration": 19,
        "start_time": "2022-02-06T10:19:17.100Z"
      },
      {
        "duration": 8,
        "start_time": "2022-02-06T10:19:17.160Z"
      },
      {
        "duration": 3,
        "start_time": "2022-02-06T10:19:17.171Z"
      },
      {
        "duration": 24,
        "start_time": "2022-02-06T10:19:17.177Z"
      },
      {
        "duration": 8,
        "start_time": "2022-02-06T10:19:17.203Z"
      },
      {
        "duration": 70,
        "start_time": "2022-02-06T10:19:17.213Z"
      },
      {
        "duration": 9,
        "start_time": "2022-02-06T10:19:17.285Z"
      },
      {
        "duration": 26,
        "start_time": "2022-02-06T10:19:17.296Z"
      },
      {
        "duration": 42,
        "start_time": "2022-02-06T10:19:17.324Z"
      },
      {
        "duration": 34,
        "start_time": "2022-02-06T10:19:17.370Z"
      },
      {
        "duration": 17,
        "start_time": "2022-02-06T10:19:17.408Z"
      },
      {
        "duration": 49,
        "start_time": "2022-02-06T10:19:17.427Z"
      },
      {
        "duration": 840,
        "start_time": "2022-02-06T10:20:33.719Z"
      },
      {
        "duration": 14,
        "start_time": "2022-02-06T10:20:34.561Z"
      },
      {
        "duration": 5,
        "start_time": "2022-02-06T10:20:34.578Z"
      },
      {
        "duration": 12,
        "start_time": "2022-02-06T10:20:34.585Z"
      },
      {
        "duration": 67,
        "start_time": "2022-02-06T10:20:34.599Z"
      },
      {
        "duration": 5,
        "start_time": "2022-02-06T10:20:34.668Z"
      },
      {
        "duration": 8,
        "start_time": "2022-02-06T10:20:34.675Z"
      },
      {
        "duration": 6,
        "start_time": "2022-02-06T10:20:34.686Z"
      },
      {
        "duration": 7,
        "start_time": "2022-02-06T10:20:34.695Z"
      },
      {
        "duration": 67,
        "start_time": "2022-02-06T10:20:34.705Z"
      },
      {
        "duration": 6,
        "start_time": "2022-02-06T10:20:34.774Z"
      },
      {
        "duration": 11,
        "start_time": "2022-02-06T10:20:34.783Z"
      },
      {
        "duration": 17,
        "start_time": "2022-02-06T10:20:34.796Z"
      },
      {
        "duration": 50,
        "start_time": "2022-02-06T10:20:34.815Z"
      },
      {
        "duration": 5,
        "start_time": "2022-02-06T10:20:34.868Z"
      },
      {
        "duration": 21,
        "start_time": "2022-02-06T10:20:34.876Z"
      },
      {
        "duration": 8,
        "start_time": "2022-02-06T10:20:34.899Z"
      },
      {
        "duration": 64,
        "start_time": "2022-02-06T10:20:34.910Z"
      },
      {
        "duration": 9,
        "start_time": "2022-02-06T10:20:34.977Z"
      },
      {
        "duration": 13,
        "start_time": "2022-02-06T10:20:34.988Z"
      },
      {
        "duration": 17,
        "start_time": "2022-02-06T10:20:35.003Z"
      },
      {
        "duration": 51,
        "start_time": "2022-02-06T10:20:35.023Z"
      },
      {
        "duration": 24,
        "start_time": "2022-02-06T10:20:35.080Z"
      },
      {
        "duration": 21,
        "start_time": "2022-02-06T10:20:35.107Z"
      },
      {
        "duration": 37,
        "start_time": "2022-02-06T10:23:33.846Z"
      },
      {
        "duration": 882,
        "start_time": "2022-02-06T10:23:47.771Z"
      },
      {
        "duration": 22,
        "start_time": "2022-02-06T10:23:48.659Z"
      },
      {
        "duration": 7,
        "start_time": "2022-02-06T10:23:48.685Z"
      },
      {
        "duration": 17,
        "start_time": "2022-02-06T10:23:48.694Z"
      },
      {
        "duration": 82,
        "start_time": "2022-02-06T10:23:48.714Z"
      },
      {
        "duration": 5,
        "start_time": "2022-02-06T10:23:48.798Z"
      },
      {
        "duration": 8,
        "start_time": "2022-02-06T10:23:48.806Z"
      },
      {
        "duration": 41,
        "start_time": "2022-02-06T10:23:48.819Z"
      },
      {
        "duration": 9,
        "start_time": "2022-02-06T10:23:48.865Z"
      },
      {
        "duration": 32,
        "start_time": "2022-02-06T10:23:48.877Z"
      },
      {
        "duration": 6,
        "start_time": "2022-02-06T10:23:48.912Z"
      },
      {
        "duration": 45,
        "start_time": "2022-02-06T10:23:48.921Z"
      },
      {
        "duration": 18,
        "start_time": "2022-02-06T10:23:48.968Z"
      },
      {
        "duration": 8,
        "start_time": "2022-02-06T10:23:48.988Z"
      },
      {
        "duration": 5,
        "start_time": "2022-02-06T10:23:48.998Z"
      },
      {
        "duration": 74,
        "start_time": "2022-02-06T10:23:49.006Z"
      },
      {
        "duration": 12,
        "start_time": "2022-02-06T10:23:49.083Z"
      },
      {
        "duration": 53,
        "start_time": "2022-02-06T10:23:49.098Z"
      },
      {
        "duration": 34,
        "start_time": "2022-02-06T10:23:49.168Z"
      },
      {
        "duration": 87,
        "start_time": "2022-02-06T10:23:49.216Z"
      },
      {
        "duration": 80,
        "start_time": "2022-02-06T10:23:49.312Z"
      },
      {
        "duration": 110,
        "start_time": "2022-02-06T10:23:49.395Z"
      },
      {
        "duration": 94,
        "start_time": "2022-02-06T10:23:49.510Z"
      },
      {
        "duration": 116,
        "start_time": "2022-02-06T10:23:49.609Z"
      },
      {
        "duration": 102,
        "start_time": "2022-02-06T10:23:49.729Z"
      },
      {
        "duration": 34,
        "start_time": "2022-02-06T10:24:13.378Z"
      },
      {
        "duration": 42,
        "start_time": "2022-02-06T10:24:40.521Z"
      },
      {
        "duration": 13,
        "start_time": "2022-02-06T10:24:51.068Z"
      },
      {
        "duration": 39,
        "start_time": "2022-02-06T10:24:57.340Z"
      },
      {
        "duration": 36,
        "start_time": "2022-02-06T10:25:17.963Z"
      },
      {
        "duration": 38,
        "start_time": "2022-02-06T10:25:25.751Z"
      },
      {
        "duration": 37,
        "start_time": "2022-02-06T10:25:28.840Z"
      },
      {
        "duration": 790,
        "start_time": "2022-02-06T10:26:36.111Z"
      },
      {
        "duration": 15,
        "start_time": "2022-02-06T10:26:36.904Z"
      },
      {
        "duration": 5,
        "start_time": "2022-02-06T10:26:36.922Z"
      },
      {
        "duration": 37,
        "start_time": "2022-02-06T10:26:36.929Z"
      },
      {
        "duration": 12,
        "start_time": "2022-02-06T10:26:36.969Z"
      },
      {
        "duration": 34,
        "start_time": "2022-02-06T10:26:36.984Z"
      },
      {
        "duration": 6,
        "start_time": "2022-02-06T10:26:37.021Z"
      },
      {
        "duration": 7,
        "start_time": "2022-02-06T10:26:37.059Z"
      },
      {
        "duration": 5,
        "start_time": "2022-02-06T10:26:37.070Z"
      },
      {
        "duration": 6,
        "start_time": "2022-02-06T10:26:37.078Z"
      },
      {
        "duration": 26,
        "start_time": "2022-02-06T10:26:37.086Z"
      },
      {
        "duration": 6,
        "start_time": "2022-02-06T10:26:37.159Z"
      },
      {
        "duration": 12,
        "start_time": "2022-02-06T10:26:37.168Z"
      },
      {
        "duration": 18,
        "start_time": "2022-02-06T10:26:37.183Z"
      },
      {
        "duration": 10,
        "start_time": "2022-02-06T10:26:37.203Z"
      },
      {
        "duration": 6,
        "start_time": "2022-02-06T10:26:37.260Z"
      },
      {
        "duration": 23,
        "start_time": "2022-02-06T10:26:37.269Z"
      },
      {
        "duration": 10,
        "start_time": "2022-02-06T10:26:37.295Z"
      },
      {
        "duration": 70,
        "start_time": "2022-02-06T10:26:37.307Z"
      },
      {
        "duration": 10,
        "start_time": "2022-02-06T10:26:37.379Z"
      },
      {
        "duration": 39,
        "start_time": "2022-02-06T10:26:37.391Z"
      },
      {
        "duration": 31,
        "start_time": "2022-02-06T10:26:37.432Z"
      },
      {
        "duration": 12,
        "start_time": "2022-02-06T10:26:37.468Z"
      },
      {
        "duration": 12,
        "start_time": "2022-02-06T10:26:37.483Z"
      },
      {
        "duration": 19,
        "start_time": "2022-02-06T10:26:37.498Z"
      },
      {
        "duration": 57,
        "start_time": "2022-02-06T10:26:37.520Z"
      },
      {
        "duration": 6,
        "start_time": "2022-02-06T10:27:00.079Z"
      },
      {
        "duration": 10,
        "start_time": "2022-02-06T10:27:07.605Z"
      },
      {
        "duration": 37,
        "start_time": "2022-02-06T10:27:33.398Z"
      },
      {
        "duration": 824,
        "start_time": "2022-02-06T10:28:22.275Z"
      },
      {
        "duration": 14,
        "start_time": "2022-02-06T10:28:23.102Z"
      },
      {
        "duration": 5,
        "start_time": "2022-02-06T10:28:23.119Z"
      },
      {
        "duration": 43,
        "start_time": "2022-02-06T10:28:23.127Z"
      },
      {
        "duration": 35,
        "start_time": "2022-02-06T10:28:23.173Z"
      },
      {
        "duration": 13,
        "start_time": "2022-02-06T10:28:23.211Z"
      },
      {
        "duration": 36,
        "start_time": "2022-02-06T10:28:23.227Z"
      },
      {
        "duration": 9,
        "start_time": "2022-02-06T10:28:23.269Z"
      },
      {
        "duration": 7,
        "start_time": "2022-02-06T10:28:23.281Z"
      },
      {
        "duration": 6,
        "start_time": "2022-02-06T10:28:23.291Z"
      },
      {
        "duration": 78,
        "start_time": "2022-02-06T10:28:23.300Z"
      },
      {
        "duration": 7,
        "start_time": "2022-02-06T10:28:23.381Z"
      },
      {
        "duration": 13,
        "start_time": "2022-02-06T10:28:23.391Z"
      },
      {
        "duration": 59,
        "start_time": "2022-02-06T10:28:23.407Z"
      },
      {
        "duration": 11,
        "start_time": "2022-02-06T10:28:23.469Z"
      },
      {
        "duration": 6,
        "start_time": "2022-02-06T10:28:23.484Z"
      },
      {
        "duration": 70,
        "start_time": "2022-02-06T10:28:23.494Z"
      },
      {
        "duration": 8,
        "start_time": "2022-02-06T10:28:23.567Z"
      },
      {
        "duration": 27,
        "start_time": "2022-02-06T10:28:23.577Z"
      },
      {
        "duration": 9,
        "start_time": "2022-02-06T10:28:23.606Z"
      },
      {
        "duration": 80,
        "start_time": "2022-02-06T10:28:23.618Z"
      },
      {
        "duration": 9,
        "start_time": "2022-02-06T10:28:23.701Z"
      },
      {
        "duration": 12,
        "start_time": "2022-02-06T10:28:23.714Z"
      },
      {
        "duration": 40,
        "start_time": "2022-02-06T10:28:23.728Z"
      },
      {
        "duration": 18,
        "start_time": "2022-02-06T10:28:23.770Z"
      },
      {
        "duration": 17,
        "start_time": "2022-02-06T10:28:23.791Z"
      },
      {
        "duration": 884,
        "start_time": "2022-02-06T10:28:54.550Z"
      },
      {
        "duration": 27,
        "start_time": "2022-02-06T10:28:55.437Z"
      },
      {
        "duration": 5,
        "start_time": "2022-02-06T10:28:55.467Z"
      },
      {
        "duration": 16,
        "start_time": "2022-02-06T10:28:55.474Z"
      },
      {
        "duration": 35,
        "start_time": "2022-02-06T10:28:55.492Z"
      },
      {
        "duration": 38,
        "start_time": "2022-02-06T10:28:55.529Z"
      },
      {
        "duration": 8,
        "start_time": "2022-02-06T10:28:55.569Z"
      },
      {
        "duration": 9,
        "start_time": "2022-02-06T10:28:55.580Z"
      },
      {
        "duration": 6,
        "start_time": "2022-02-06T10:28:55.592Z"
      },
      {
        "duration": 7,
        "start_time": "2022-02-06T10:28:55.600Z"
      },
      {
        "duration": 66,
        "start_time": "2022-02-06T10:28:55.609Z"
      },
      {
        "duration": 6,
        "start_time": "2022-02-06T10:28:55.678Z"
      },
      {
        "duration": 13,
        "start_time": "2022-02-06T10:28:55.688Z"
      },
      {
        "duration": 67,
        "start_time": "2022-02-06T10:28:55.704Z"
      },
      {
        "duration": 8,
        "start_time": "2022-02-06T10:28:55.773Z"
      },
      {
        "duration": 7,
        "start_time": "2022-02-06T10:28:55.783Z"
      },
      {
        "duration": 23,
        "start_time": "2022-02-06T10:28:55.792Z"
      },
      {
        "duration": 44,
        "start_time": "2022-02-06T10:28:55.817Z"
      },
      {
        "duration": 26,
        "start_time": "2022-02-06T10:28:55.863Z"
      },
      {
        "duration": 9,
        "start_time": "2022-02-06T10:28:55.892Z"
      },
      {
        "duration": 63,
        "start_time": "2022-02-06T10:28:55.904Z"
      },
      {
        "duration": 10,
        "start_time": "2022-02-06T10:28:55.970Z"
      },
      {
        "duration": 13,
        "start_time": "2022-02-06T10:28:55.984Z"
      },
      {
        "duration": 15,
        "start_time": "2022-02-06T10:28:56.000Z"
      },
      {
        "duration": 61,
        "start_time": "2022-02-06T10:28:56.017Z"
      },
      {
        "duration": 20,
        "start_time": "2022-02-06T10:28:56.081Z"
      },
      {
        "duration": 866,
        "start_time": "2022-02-06T10:29:21.047Z"
      },
      {
        "duration": 16,
        "start_time": "2022-02-06T10:29:21.916Z"
      },
      {
        "duration": 27,
        "start_time": "2022-02-06T10:29:21.934Z"
      },
      {
        "duration": 13,
        "start_time": "2022-02-06T10:29:21.964Z"
      },
      {
        "duration": 36,
        "start_time": "2022-02-06T10:29:21.980Z"
      },
      {
        "duration": 44,
        "start_time": "2022-02-06T10:29:22.018Z"
      },
      {
        "duration": 6,
        "start_time": "2022-02-06T10:29:22.065Z"
      },
      {
        "duration": 7,
        "start_time": "2022-02-06T10:29:22.075Z"
      },
      {
        "duration": 5,
        "start_time": "2022-02-06T10:29:22.086Z"
      },
      {
        "duration": 5,
        "start_time": "2022-02-06T10:29:22.093Z"
      },
      {
        "duration": 71,
        "start_time": "2022-02-06T10:29:22.101Z"
      },
      {
        "duration": 5,
        "start_time": "2022-02-06T10:29:22.174Z"
      },
      {
        "duration": 13,
        "start_time": "2022-02-06T10:29:22.182Z"
      },
      {
        "duration": 18,
        "start_time": "2022-02-06T10:29:22.198Z"
      },
      {
        "duration": 45,
        "start_time": "2022-02-06T10:29:22.218Z"
      },
      {
        "duration": 5,
        "start_time": "2022-02-06T10:29:22.265Z"
      },
      {
        "duration": 20,
        "start_time": "2022-02-06T10:29:22.272Z"
      },
      {
        "duration": 9,
        "start_time": "2022-02-06T10:29:22.294Z"
      },
      {
        "duration": 66,
        "start_time": "2022-02-06T10:29:22.305Z"
      },
      {
        "duration": 9,
        "start_time": "2022-02-06T10:29:22.375Z"
      },
      {
        "duration": 35,
        "start_time": "2022-02-06T10:29:22.387Z"
      },
      {
        "duration": 39,
        "start_time": "2022-02-06T10:29:22.424Z"
      },
      {
        "duration": 13,
        "start_time": "2022-02-06T10:29:22.465Z"
      },
      {
        "duration": 13,
        "start_time": "2022-02-06T10:29:22.480Z"
      },
      {
        "duration": 17,
        "start_time": "2022-02-06T10:29:22.495Z"
      },
      {
        "duration": 54,
        "start_time": "2022-02-06T10:29:22.515Z"
      },
      {
        "duration": 898,
        "start_time": "2022-02-06T10:30:21.101Z"
      },
      {
        "duration": 15,
        "start_time": "2022-02-06T10:30:22.002Z"
      },
      {
        "duration": 5,
        "start_time": "2022-02-06T10:30:22.020Z"
      },
      {
        "duration": 40,
        "start_time": "2022-02-06T10:30:22.028Z"
      },
      {
        "duration": 38,
        "start_time": "2022-02-06T10:30:22.070Z"
      },
      {
        "duration": 10,
        "start_time": "2022-02-06T10:30:22.110Z"
      },
      {
        "duration": 44,
        "start_time": "2022-02-06T10:30:22.123Z"
      },
      {
        "duration": 8,
        "start_time": "2022-02-06T10:30:22.171Z"
      },
      {
        "duration": 6,
        "start_time": "2022-02-06T10:30:22.182Z"
      },
      {
        "duration": 6,
        "start_time": "2022-02-06T10:30:22.191Z"
      },
      {
        "duration": 69,
        "start_time": "2022-02-06T10:30:22.200Z"
      },
      {
        "duration": 7,
        "start_time": "2022-02-06T10:30:22.321Z"
      },
      {
        "duration": 11,
        "start_time": "2022-02-06T10:30:22.331Z"
      },
      {
        "duration": 17,
        "start_time": "2022-02-06T10:30:22.345Z"
      },
      {
        "duration": 7,
        "start_time": "2022-02-06T10:30:22.364Z"
      },
      {
        "duration": 4,
        "start_time": "2022-02-06T10:30:22.373Z"
      },
      {
        "duration": 24,
        "start_time": "2022-02-06T10:30:22.379Z"
      },
      {
        "duration": 9,
        "start_time": "2022-02-06T10:30:22.405Z"
      },
      {
        "duration": 63,
        "start_time": "2022-02-06T10:30:22.416Z"
      },
      {
        "duration": 9,
        "start_time": "2022-02-06T10:30:22.482Z"
      },
      {
        "duration": 37,
        "start_time": "2022-02-06T10:30:23.104Z"
      },
      {
        "duration": 10,
        "start_time": "2022-02-06T10:30:23.144Z"
      },
      {
        "duration": 14,
        "start_time": "2022-02-06T10:30:23.157Z"
      },
      {
        "duration": 16,
        "start_time": "2022-02-06T10:30:23.174Z"
      },
      {
        "duration": 21,
        "start_time": "2022-02-06T10:30:23.193Z"
      },
      {
        "duration": 21,
        "start_time": "2022-02-06T10:30:23.258Z"
      },
      {
        "duration": 816,
        "start_time": "2022-02-06T10:30:47.489Z"
      },
      {
        "duration": 15,
        "start_time": "2022-02-06T10:30:48.307Z"
      },
      {
        "duration": 5,
        "start_time": "2022-02-06T10:30:48.324Z"
      },
      {
        "duration": 31,
        "start_time": "2022-02-06T10:30:48.332Z"
      },
      {
        "duration": 36,
        "start_time": "2022-02-06T10:30:48.366Z"
      },
      {
        "duration": 7,
        "start_time": "2022-02-06T10:30:48.405Z"
      },
      {
        "duration": 5,
        "start_time": "2022-02-06T10:30:48.492Z"
      },
      {
        "duration": 7,
        "start_time": "2022-02-06T10:30:48.500Z"
      },
      {
        "duration": 9,
        "start_time": "2022-02-06T10:30:48.510Z"
      },
      {
        "duration": 6,
        "start_time": "2022-02-06T10:30:48.981Z"
      },
      {
        "duration": 24,
        "start_time": "2022-02-06T10:30:48.990Z"
      },
      {
        "duration": 6,
        "start_time": "2022-02-06T10:30:49.017Z"
      },
      {
        "duration": 35,
        "start_time": "2022-02-06T10:30:49.025Z"
      },
      {
        "duration": 16,
        "start_time": "2022-02-06T10:30:49.063Z"
      },
      {
        "duration": 7,
        "start_time": "2022-02-06T10:30:49.081Z"
      },
      {
        "duration": 5,
        "start_time": "2022-02-06T10:30:50.068Z"
      },
      {
        "duration": 27,
        "start_time": "2022-02-06T10:30:50.075Z"
      },
      {
        "duration": 9,
        "start_time": "2022-02-06T10:30:50.105Z"
      },
      {
        "duration": 57,
        "start_time": "2022-02-06T10:30:50.117Z"
      },
      {
        "duration": 9,
        "start_time": "2022-02-06T10:30:50.177Z"
      },
      {
        "duration": 36,
        "start_time": "2022-02-06T10:30:50.189Z"
      },
      {
        "duration": 37,
        "start_time": "2022-02-06T10:30:50.227Z"
      },
      {
        "duration": 13,
        "start_time": "2022-02-06T10:30:50.267Z"
      },
      {
        "duration": 14,
        "start_time": "2022-02-06T10:30:50.283Z"
      },
      {
        "duration": 18,
        "start_time": "2022-02-06T10:30:50.408Z"
      },
      {
        "duration": 18,
        "start_time": "2022-02-06T10:30:50.429Z"
      },
      {
        "duration": 753,
        "start_time": "2022-02-06T15:08:52.284Z"
      },
      {
        "duration": 20,
        "start_time": "2022-02-06T15:08:53.039Z"
      },
      {
        "duration": 9,
        "start_time": "2022-02-06T15:08:53.061Z"
      },
      {
        "duration": 36,
        "start_time": "2022-02-06T15:08:53.072Z"
      },
      {
        "duration": 26,
        "start_time": "2022-02-06T15:08:53.111Z"
      },
      {
        "duration": 4,
        "start_time": "2022-02-06T15:08:53.139Z"
      },
      {
        "duration": 7,
        "start_time": "2022-02-06T15:08:53.145Z"
      },
      {
        "duration": 6,
        "start_time": "2022-02-06T15:08:53.154Z"
      },
      {
        "duration": 51,
        "start_time": "2022-02-06T15:08:53.162Z"
      },
      {
        "duration": 33,
        "start_time": "2022-02-06T15:08:53.215Z"
      },
      {
        "duration": 4,
        "start_time": "2022-02-06T15:08:53.250Z"
      },
      {
        "duration": 15,
        "start_time": "2022-02-06T15:08:53.256Z"
      },
      {
        "duration": 35,
        "start_time": "2022-02-06T15:08:53.273Z"
      },
      {
        "duration": 9,
        "start_time": "2022-02-06T15:08:53.311Z"
      },
      {
        "duration": 9,
        "start_time": "2022-02-06T15:08:53.322Z"
      },
      {
        "duration": 19,
        "start_time": "2022-02-06T15:08:53.332Z"
      },
      {
        "duration": 7,
        "start_time": "2022-02-06T15:08:53.353Z"
      },
      {
        "duration": 61,
        "start_time": "2022-02-06T15:08:53.361Z"
      },
      {
        "duration": 8,
        "start_time": "2022-02-06T15:08:53.424Z"
      },
      {
        "duration": 30,
        "start_time": "2022-02-06T15:08:53.434Z"
      },
      {
        "duration": 8,
        "start_time": "2022-02-06T15:08:53.466Z"
      },
      {
        "duration": 11,
        "start_time": "2022-02-06T15:08:53.508Z"
      },
      {
        "duration": 11,
        "start_time": "2022-02-06T15:08:53.521Z"
      },
      {
        "duration": 23,
        "start_time": "2022-02-06T15:08:53.535Z"
      },
      {
        "duration": 62,
        "start_time": "2022-02-06T15:08:53.560Z"
      },
      {
        "duration": 670,
        "start_time": "2022-02-06T15:11:18.344Z"
      },
      {
        "duration": 10,
        "start_time": "2022-02-06T15:11:19.016Z"
      },
      {
        "duration": 14,
        "start_time": "2022-02-06T15:11:19.029Z"
      },
      {
        "duration": 11,
        "start_time": "2022-02-06T15:11:19.045Z"
      },
      {
        "duration": 16,
        "start_time": "2022-02-06T15:11:19.058Z"
      },
      {
        "duration": 49,
        "start_time": "2022-02-06T15:11:19.076Z"
      },
      {
        "duration": 4,
        "start_time": "2022-02-06T15:11:19.127Z"
      },
      {
        "duration": 8,
        "start_time": "2022-02-06T15:11:19.134Z"
      },
      {
        "duration": 6,
        "start_time": "2022-02-06T15:11:19.144Z"
      },
      {
        "duration": 7,
        "start_time": "2022-02-06T15:11:19.151Z"
      },
      {
        "duration": 61,
        "start_time": "2022-02-06T15:11:19.160Z"
      },
      {
        "duration": 4,
        "start_time": "2022-02-06T15:11:19.223Z"
      },
      {
        "duration": 14,
        "start_time": "2022-02-06T15:11:19.230Z"
      },
      {
        "duration": 15,
        "start_time": "2022-02-06T15:11:19.246Z"
      },
      {
        "duration": 6,
        "start_time": "2022-02-06T15:11:19.264Z"
      },
      {
        "duration": 5,
        "start_time": "2022-02-06T15:11:19.307Z"
      },
      {
        "duration": 20,
        "start_time": "2022-02-06T15:11:19.313Z"
      },
      {
        "duration": 9,
        "start_time": "2022-02-06T15:11:19.335Z"
      },
      {
        "duration": 25,
        "start_time": "2022-02-06T15:11:19.347Z"
      },
      {
        "duration": 41,
        "start_time": "2022-02-06T15:11:19.374Z"
      },
      {
        "duration": 44,
        "start_time": "2022-02-06T15:11:19.417Z"
      },
      {
        "duration": 9,
        "start_time": "2022-02-06T15:11:19.463Z"
      },
      {
        "duration": 41,
        "start_time": "2022-02-06T15:11:19.475Z"
      },
      {
        "duration": 11,
        "start_time": "2022-02-06T15:11:19.518Z"
      },
      {
        "duration": 17,
        "start_time": "2022-02-06T15:11:19.531Z"
      },
      {
        "duration": 14,
        "start_time": "2022-02-06T15:11:19.550Z"
      },
      {
        "duration": 690,
        "start_time": "2022-02-06T15:12:01.329Z"
      },
      {
        "duration": 5,
        "start_time": "2022-02-06T15:12:02.022Z"
      },
      {
        "duration": 22,
        "start_time": "2022-02-06T15:12:02.030Z"
      },
      {
        "duration": 10,
        "start_time": "2022-02-06T15:12:02.054Z"
      },
      {
        "duration": 18,
        "start_time": "2022-02-06T15:12:02.066Z"
      },
      {
        "duration": 46,
        "start_time": "2022-02-06T15:12:02.087Z"
      },
      {
        "duration": 4,
        "start_time": "2022-02-06T15:12:02.136Z"
      },
      {
        "duration": 19,
        "start_time": "2022-02-06T15:12:02.142Z"
      },
      {
        "duration": 38,
        "start_time": "2022-02-06T15:12:02.171Z"
      },
      {
        "duration": 43,
        "start_time": "2022-02-06T15:12:02.212Z"
      },
      {
        "duration": 57,
        "start_time": "2022-02-06T15:12:02.257Z"
      },
      {
        "duration": 6,
        "start_time": "2022-02-06T15:12:02.316Z"
      },
      {
        "duration": 16,
        "start_time": "2022-02-06T15:12:02.324Z"
      },
      {
        "duration": 37,
        "start_time": "2022-02-06T15:12:02.342Z"
      },
      {
        "duration": 7,
        "start_time": "2022-02-06T15:12:02.381Z"
      },
      {
        "duration": 25,
        "start_time": "2022-02-06T15:12:02.390Z"
      },
      {
        "duration": 19,
        "start_time": "2022-02-06T15:12:02.417Z"
      },
      {
        "duration": 7,
        "start_time": "2022-02-06T15:12:02.439Z"
      },
      {
        "duration": 30,
        "start_time": "2022-02-06T15:12:02.447Z"
      },
      {
        "duration": 30,
        "start_time": "2022-02-06T15:12:02.479Z"
      },
      {
        "duration": 37,
        "start_time": "2022-02-06T15:12:02.510Z"
      },
      {
        "duration": 8,
        "start_time": "2022-02-06T15:12:02.549Z"
      },
      {
        "duration": 19,
        "start_time": "2022-02-06T15:12:02.559Z"
      },
      {
        "duration": 33,
        "start_time": "2022-02-06T15:12:02.580Z"
      },
      {
        "duration": 17,
        "start_time": "2022-02-06T15:12:02.616Z"
      },
      {
        "duration": 16,
        "start_time": "2022-02-06T15:12:02.635Z"
      },
      {
        "duration": 689,
        "start_time": "2022-02-06T15:12:35.106Z"
      },
      {
        "duration": 8,
        "start_time": "2022-02-06T15:12:35.797Z"
      },
      {
        "duration": 13,
        "start_time": "2022-02-06T15:12:35.809Z"
      },
      {
        "duration": 9,
        "start_time": "2022-02-06T15:12:35.824Z"
      },
      {
        "duration": 16,
        "start_time": "2022-02-06T15:12:35.835Z"
      },
      {
        "duration": 48,
        "start_time": "2022-02-06T15:12:35.853Z"
      },
      {
        "duration": 4,
        "start_time": "2022-02-06T15:12:35.908Z"
      },
      {
        "duration": 11,
        "start_time": "2022-02-06T15:12:35.915Z"
      },
      {
        "duration": 7,
        "start_time": "2022-02-06T15:12:35.928Z"
      },
      {
        "duration": 8,
        "start_time": "2022-02-06T15:12:35.937Z"
      },
      {
        "duration": 19,
        "start_time": "2022-02-06T15:12:35.947Z"
      },
      {
        "duration": 5,
        "start_time": "2022-02-06T15:12:36.008Z"
      },
      {
        "duration": 15,
        "start_time": "2022-02-06T15:12:36.015Z"
      },
      {
        "duration": 15,
        "start_time": "2022-02-06T15:12:36.031Z"
      },
      {
        "duration": 7,
        "start_time": "2022-02-06T15:12:36.048Z"
      },
      {
        "duration": 51,
        "start_time": "2022-02-06T15:12:36.056Z"
      },
      {
        "duration": 17,
        "start_time": "2022-02-06T15:12:36.110Z"
      },
      {
        "duration": 7,
        "start_time": "2022-02-06T15:12:36.129Z"
      },
      {
        "duration": 22,
        "start_time": "2022-02-06T15:12:36.137Z"
      },
      {
        "duration": 46,
        "start_time": "2022-02-06T15:12:36.161Z"
      },
      {
        "duration": 26,
        "start_time": "2022-02-06T15:12:36.210Z"
      },
      {
        "duration": 8,
        "start_time": "2022-02-06T15:12:36.239Z"
      },
      {
        "duration": 25,
        "start_time": "2022-02-06T15:12:36.249Z"
      },
      {
        "duration": 39,
        "start_time": "2022-02-06T15:12:36.276Z"
      },
      {
        "duration": 14,
        "start_time": "2022-02-06T15:12:36.317Z"
      },
      {
        "duration": 14,
        "start_time": "2022-02-06T15:12:36.335Z"
      },
      {
        "duration": 686,
        "start_time": "2022-02-06T15:12:57.804Z"
      },
      {
        "duration": 9,
        "start_time": "2022-02-06T15:12:58.492Z"
      },
      {
        "duration": 17,
        "start_time": "2022-02-06T15:12:58.503Z"
      },
      {
        "duration": 4,
        "start_time": "2022-02-06T15:12:58.522Z"
      },
      {
        "duration": 16,
        "start_time": "2022-02-06T15:12:58.529Z"
      },
      {
        "duration": 9,
        "start_time": "2022-02-06T15:12:58.547Z"
      },
      {
        "duration": 51,
        "start_time": "2022-02-06T15:12:58.557Z"
      },
      {
        "duration": 3,
        "start_time": "2022-02-06T15:12:58.611Z"
      },
      {
        "duration": 7,
        "start_time": "2022-02-06T15:12:58.617Z"
      },
      {
        "duration": 12,
        "start_time": "2022-02-06T15:12:58.626Z"
      },
      {
        "duration": 10,
        "start_time": "2022-02-06T15:12:58.639Z"
      },
      {
        "duration": 20,
        "start_time": "2022-02-06T15:12:58.651Z"
      },
      {
        "duration": 37,
        "start_time": "2022-02-06T15:12:58.673Z"
      },
      {
        "duration": 13,
        "start_time": "2022-02-06T15:12:58.712Z"
      },
      {
        "duration": 19,
        "start_time": "2022-02-06T15:12:58.727Z"
      },
      {
        "duration": 5,
        "start_time": "2022-02-06T15:12:58.748Z"
      },
      {
        "duration": 15,
        "start_time": "2022-02-06T15:12:58.755Z"
      },
      {
        "duration": 45,
        "start_time": "2022-02-06T15:12:58.772Z"
      },
      {
        "duration": 7,
        "start_time": "2022-02-06T15:12:58.819Z"
      },
      {
        "duration": 20,
        "start_time": "2022-02-06T15:12:58.828Z"
      },
      {
        "duration": 8,
        "start_time": "2022-02-06T15:12:58.850Z"
      },
      {
        "duration": 71,
        "start_time": "2022-02-06T15:12:58.860Z"
      },
      {
        "duration": 8,
        "start_time": "2022-02-06T15:12:58.932Z"
      },
      {
        "duration": 15,
        "start_time": "2022-02-06T15:12:58.942Z"
      },
      {
        "duration": 14,
        "start_time": "2022-02-06T15:12:58.959Z"
      },
      {
        "duration": 44,
        "start_time": "2022-02-06T15:12:58.975Z"
      },
      {
        "duration": 13,
        "start_time": "2022-02-06T15:12:59.022Z"
      },
      {
        "duration": 707,
        "start_time": "2022-02-06T15:13:16.080Z"
      },
      {
        "duration": 9,
        "start_time": "2022-02-06T15:13:16.789Z"
      },
      {
        "duration": 17,
        "start_time": "2022-02-06T15:13:16.804Z"
      },
      {
        "duration": 5,
        "start_time": "2022-02-06T15:13:16.824Z"
      },
      {
        "duration": 12,
        "start_time": "2022-02-06T15:13:16.831Z"
      },
      {
        "duration": 9,
        "start_time": "2022-02-06T15:13:16.845Z"
      },
      {
        "duration": 67,
        "start_time": "2022-02-06T15:13:16.856Z"
      },
      {
        "duration": 8,
        "start_time": "2022-02-06T15:13:16.926Z"
      },
      {
        "duration": 5,
        "start_time": "2022-02-06T15:13:16.936Z"
      },
      {
        "duration": 10,
        "start_time": "2022-02-06T15:13:16.943Z"
      },
      {
        "duration": 9,
        "start_time": "2022-02-06T15:13:16.955Z"
      },
      {
        "duration": 43,
        "start_time": "2022-02-06T15:13:16.966Z"
      },
      {
        "duration": 22,
        "start_time": "2022-02-06T15:13:17.011Z"
      },
      {
        "duration": 4,
        "start_time": "2022-02-06T15:13:17.036Z"
      },
      {
        "duration": 13,
        "start_time": "2022-02-06T15:13:17.042Z"
      },
      {
        "duration": 13,
        "start_time": "2022-02-06T15:13:17.058Z"
      },
      {
        "duration": 39,
        "start_time": "2022-02-06T15:13:17.073Z"
      },
      {
        "duration": 14,
        "start_time": "2022-02-06T15:13:17.113Z"
      },
      {
        "duration": 31,
        "start_time": "2022-02-06T15:13:17.129Z"
      },
      {
        "duration": 9,
        "start_time": "2022-02-06T15:13:17.162Z"
      },
      {
        "duration": 51,
        "start_time": "2022-02-06T15:13:17.174Z"
      },
      {
        "duration": 10,
        "start_time": "2022-02-06T15:13:17.228Z"
      },
      {
        "duration": 41,
        "start_time": "2022-02-06T15:13:17.241Z"
      },
      {
        "duration": 32,
        "start_time": "2022-02-06T15:13:17.285Z"
      },
      {
        "duration": 15,
        "start_time": "2022-02-06T15:13:17.319Z"
      },
      {
        "duration": 12,
        "start_time": "2022-02-06T15:13:17.338Z"
      },
      {
        "duration": 55,
        "start_time": "2022-02-06T15:13:17.352Z"
      },
      {
        "duration": 15,
        "start_time": "2022-02-06T15:13:17.409Z"
      },
      {
        "duration": 687,
        "start_time": "2022-02-06T15:13:41.322Z"
      },
      {
        "duration": 8,
        "start_time": "2022-02-06T15:13:42.011Z"
      },
      {
        "duration": 14,
        "start_time": "2022-02-06T15:13:42.021Z"
      },
      {
        "duration": 5,
        "start_time": "2022-02-06T15:13:42.037Z"
      },
      {
        "duration": 15,
        "start_time": "2022-02-06T15:13:42.044Z"
      },
      {
        "duration": 47,
        "start_time": "2022-02-06T15:13:42.061Z"
      },
      {
        "duration": 29,
        "start_time": "2022-02-06T15:13:42.111Z"
      },
      {
        "duration": 10,
        "start_time": "2022-02-06T15:13:42.144Z"
      },
      {
        "duration": 6,
        "start_time": "2022-02-06T15:13:42.157Z"
      },
      {
        "duration": 46,
        "start_time": "2022-02-06T15:13:42.165Z"
      },
      {
        "duration": 12,
        "start_time": "2022-02-06T15:13:42.213Z"
      },
      {
        "duration": 6,
        "start_time": "2022-02-06T15:13:42.227Z"
      },
      {
        "duration": 7,
        "start_time": "2022-02-06T15:13:42.235Z"
      },
      {
        "duration": 22,
        "start_time": "2022-02-06T15:13:42.244Z"
      },
      {
        "duration": 41,
        "start_time": "2022-02-06T15:13:42.268Z"
      },
      {
        "duration": 10,
        "start_time": "2022-02-06T15:13:42.310Z"
      },
      {
        "duration": 15,
        "start_time": "2022-02-06T15:13:42.322Z"
      },
      {
        "duration": 6,
        "start_time": "2022-02-06T15:13:42.339Z"
      },
      {
        "duration": 8,
        "start_time": "2022-02-06T15:13:42.347Z"
      },
      {
        "duration": 59,
        "start_time": "2022-02-06T15:13:42.357Z"
      },
      {
        "duration": 7,
        "start_time": "2022-02-06T15:13:42.418Z"
      },
      {
        "duration": 24,
        "start_time": "2022-02-06T15:13:42.427Z"
      },
      {
        "duration": 8,
        "start_time": "2022-02-06T15:13:42.455Z"
      },
      {
        "duration": 64,
        "start_time": "2022-02-06T15:13:42.466Z"
      },
      {
        "duration": 9,
        "start_time": "2022-02-06T15:13:42.533Z"
      },
      {
        "duration": 15,
        "start_time": "2022-02-06T15:13:42.544Z"
      },
      {
        "duration": 50,
        "start_time": "2022-02-06T15:13:42.561Z"
      },
      {
        "duration": 17,
        "start_time": "2022-02-06T15:13:42.613Z"
      },
      {
        "duration": 14,
        "start_time": "2022-02-06T15:13:42.632Z"
      },
      {
        "duration": 674,
        "start_time": "2022-02-06T15:14:38.623Z"
      },
      {
        "duration": 8,
        "start_time": "2022-02-06T15:14:39.299Z"
      },
      {
        "duration": 25,
        "start_time": "2022-02-06T15:14:39.309Z"
      },
      {
        "duration": 4,
        "start_time": "2022-02-06T15:14:39.336Z"
      },
      {
        "duration": 13,
        "start_time": "2022-02-06T15:14:39.342Z"
      },
      {
        "duration": 9,
        "start_time": "2022-02-06T15:14:39.357Z"
      },
      {
        "duration": 54,
        "start_time": "2022-02-06T15:14:39.368Z"
      },
      {
        "duration": 8,
        "start_time": "2022-02-06T15:14:39.424Z"
      },
      {
        "duration": 6,
        "start_time": "2022-02-06T15:14:39.435Z"
      },
      {
        "duration": 7,
        "start_time": "2022-02-06T15:14:39.443Z"
      },
      {
        "duration": 8,
        "start_time": "2022-02-06T15:14:39.452Z"
      },
      {
        "duration": 47,
        "start_time": "2022-02-06T15:14:39.462Z"
      },
      {
        "duration": 5,
        "start_time": "2022-02-06T15:14:39.511Z"
      },
      {
        "duration": 20,
        "start_time": "2022-02-06T15:14:39.518Z"
      },
      {
        "duration": 5,
        "start_time": "2022-02-06T15:14:39.540Z"
      },
      {
        "duration": 19,
        "start_time": "2022-02-06T15:14:39.547Z"
      },
      {
        "duration": 44,
        "start_time": "2022-02-06T15:14:39.568Z"
      },
      {
        "duration": 17,
        "start_time": "2022-02-06T15:14:39.614Z"
      },
      {
        "duration": 7,
        "start_time": "2022-02-06T15:14:39.633Z"
      },
      {
        "duration": 10,
        "start_time": "2022-02-06T15:14:39.642Z"
      },
      {
        "duration": 7,
        "start_time": "2022-02-06T15:14:39.654Z"
      },
      {
        "duration": 47,
        "start_time": "2022-02-06T15:14:39.663Z"
      },
      {
        "duration": 18,
        "start_time": "2022-02-06T15:14:39.712Z"
      },
      {
        "duration": 7,
        "start_time": "2022-02-06T15:14:39.732Z"
      },
      {
        "duration": 20,
        "start_time": "2022-02-06T15:14:39.741Z"
      },
      {
        "duration": 44,
        "start_time": "2022-02-06T15:14:39.764Z"
      },
      {
        "duration": 26,
        "start_time": "2022-02-06T15:14:39.812Z"
      },
      {
        "duration": 9,
        "start_time": "2022-02-06T15:14:39.840Z"
      },
      {
        "duration": 17,
        "start_time": "2022-02-06T15:14:39.851Z"
      },
      {
        "duration": 11,
        "start_time": "2022-02-06T15:14:39.907Z"
      },
      {
        "duration": 18,
        "start_time": "2022-02-06T15:14:39.920Z"
      },
      {
        "duration": 14,
        "start_time": "2022-02-06T15:14:39.940Z"
      },
      {
        "duration": 716,
        "start_time": "2022-02-06T15:15:23.406Z"
      },
      {
        "duration": 8,
        "start_time": "2022-02-06T15:15:24.124Z"
      },
      {
        "duration": 33,
        "start_time": "2022-02-06T15:15:24.133Z"
      },
      {
        "duration": 24,
        "start_time": "2022-02-06T15:15:24.168Z"
      },
      {
        "duration": 37,
        "start_time": "2022-02-06T15:15:24.193Z"
      },
      {
        "duration": 18,
        "start_time": "2022-02-06T15:15:24.233Z"
      },
      {
        "duration": 44,
        "start_time": "2022-02-06T15:15:24.253Z"
      },
      {
        "duration": 10,
        "start_time": "2022-02-06T15:15:24.299Z"
      },
      {
        "duration": 35,
        "start_time": "2022-02-06T15:15:24.311Z"
      },
      {
        "duration": 23,
        "start_time": "2022-02-06T15:15:24.348Z"
      },
      {
        "duration": 34,
        "start_time": "2022-02-06T15:15:24.373Z"
      },
      {
        "duration": 23,
        "start_time": "2022-02-06T15:15:24.409Z"
      },
      {
        "duration": 19,
        "start_time": "2022-02-06T15:15:24.434Z"
      },
      {
        "duration": 40,
        "start_time": "2022-02-06T15:15:24.455Z"
      },
      {
        "duration": 13,
        "start_time": "2022-02-06T15:15:24.497Z"
      },
      {
        "duration": 37,
        "start_time": "2022-02-06T15:15:24.512Z"
      },
      {
        "duration": 32,
        "start_time": "2022-02-06T15:15:24.551Z"
      },
      {
        "duration": 36,
        "start_time": "2022-02-06T15:15:24.585Z"
      },
      {
        "duration": 10,
        "start_time": "2022-02-06T15:15:24.623Z"
      },
      {
        "duration": 27,
        "start_time": "2022-02-06T15:15:24.636Z"
      },
      {
        "duration": 34,
        "start_time": "2022-02-06T15:15:24.665Z"
      },
      {
        "duration": 33,
        "start_time": "2022-02-06T15:15:24.701Z"
      },
      {
        "duration": 45,
        "start_time": "2022-02-06T15:15:24.736Z"
      },
      {
        "duration": 13,
        "start_time": "2022-02-06T15:15:24.783Z"
      },
      {
        "duration": 41,
        "start_time": "2022-02-06T15:15:24.798Z"
      },
      {
        "duration": 41,
        "start_time": "2022-02-06T15:15:24.841Z"
      },
      {
        "duration": 13,
        "start_time": "2022-02-06T15:15:24.884Z"
      },
      {
        "duration": 48,
        "start_time": "2022-02-06T15:15:24.899Z"
      },
      {
        "duration": 8,
        "start_time": "2022-02-06T15:15:24.949Z"
      },
      {
        "duration": 33,
        "start_time": "2022-02-06T15:15:24.959Z"
      },
      {
        "duration": 33,
        "start_time": "2022-02-06T15:15:24.994Z"
      },
      {
        "duration": 30,
        "start_time": "2022-02-06T15:15:25.029Z"
      },
      {
        "duration": 33,
        "start_time": "2022-02-06T15:15:25.061Z"
      },
      {
        "duration": 712,
        "start_time": "2022-02-06T15:16:10.537Z"
      },
      {
        "duration": 8,
        "start_time": "2022-02-06T15:16:11.251Z"
      },
      {
        "duration": 14,
        "start_time": "2022-02-06T15:16:11.262Z"
      },
      {
        "duration": 7,
        "start_time": "2022-02-06T15:16:11.278Z"
      },
      {
        "duration": 35,
        "start_time": "2022-02-06T15:16:11.287Z"
      },
      {
        "duration": 11,
        "start_time": "2022-02-06T15:16:11.324Z"
      },
      {
        "duration": 26,
        "start_time": "2022-02-06T15:16:11.337Z"
      },
      {
        "duration": 7,
        "start_time": "2022-02-06T15:16:11.366Z"
      },
      {
        "duration": 34,
        "start_time": "2022-02-06T15:16:11.376Z"
      },
      {
        "duration": 6,
        "start_time": "2022-02-06T15:16:11.412Z"
      },
      {
        "duration": 12,
        "start_time": "2022-02-06T15:16:11.420Z"
      },
      {
        "duration": 13,
        "start_time": "2022-02-06T15:16:11.435Z"
      },
      {
        "duration": 10,
        "start_time": "2022-02-06T15:16:11.450Z"
      },
      {
        "duration": 58,
        "start_time": "2022-02-06T15:16:11.462Z"
      },
      {
        "duration": 6,
        "start_time": "2022-02-06T15:16:11.522Z"
      },
      {
        "duration": 9,
        "start_time": "2022-02-06T15:16:11.531Z"
      },
      {
        "duration": 18,
        "start_time": "2022-02-06T15:16:11.542Z"
      },
      {
        "duration": 62,
        "start_time": "2022-02-06T15:16:11.562Z"
      },
      {
        "duration": 10,
        "start_time": "2022-02-06T15:16:11.627Z"
      },
      {
        "duration": 16,
        "start_time": "2022-02-06T15:16:11.639Z"
      },
      {
        "duration": 6,
        "start_time": "2022-02-06T15:16:11.657Z"
      },
      {
        "duration": 14,
        "start_time": "2022-02-06T15:16:11.665Z"
      },
      {
        "duration": 38,
        "start_time": "2022-02-06T15:16:11.681Z"
      },
      {
        "duration": 9,
        "start_time": "2022-02-06T15:16:11.721Z"
      },
      {
        "duration": 12,
        "start_time": "2022-02-06T15:16:11.732Z"
      },
      {
        "duration": 13,
        "start_time": "2022-02-06T15:16:11.745Z"
      },
      {
        "duration": 57,
        "start_time": "2022-02-06T15:16:11.762Z"
      },
      {
        "duration": 7,
        "start_time": "2022-02-06T15:16:11.821Z"
      },
      {
        "duration": 12,
        "start_time": "2022-02-06T15:16:11.830Z"
      },
      {
        "duration": 32,
        "start_time": "2022-02-06T15:16:11.843Z"
      },
      {
        "duration": 36,
        "start_time": "2022-02-06T15:16:11.878Z"
      },
      {
        "duration": 18,
        "start_time": "2022-02-06T15:16:11.916Z"
      },
      {
        "duration": 41,
        "start_time": "2022-02-06T15:16:11.936Z"
      },
      {
        "duration": 20,
        "start_time": "2022-02-06T15:16:11.979Z"
      },
      {
        "duration": 18,
        "start_time": "2022-02-06T15:16:12.001Z"
      },
      {
        "duration": 739,
        "start_time": "2022-02-06T15:25:44.585Z"
      },
      {
        "duration": 12,
        "start_time": "2022-02-06T15:25:45.327Z"
      },
      {
        "duration": 5,
        "start_time": "2022-02-06T15:25:45.341Z"
      },
      {
        "duration": 16,
        "start_time": "2022-02-06T15:25:45.348Z"
      },
      {
        "duration": 68,
        "start_time": "2022-02-06T15:25:45.366Z"
      },
      {
        "duration": 8,
        "start_time": "2022-02-06T15:25:45.437Z"
      },
      {
        "duration": 9,
        "start_time": "2022-02-06T15:25:45.447Z"
      },
      {
        "duration": 12,
        "start_time": "2022-02-06T15:25:45.458Z"
      },
      {
        "duration": 34,
        "start_time": "2022-02-06T15:25:45.474Z"
      },
      {
        "duration": 5,
        "start_time": "2022-02-06T15:25:45.512Z"
      },
      {
        "duration": 23,
        "start_time": "2022-02-06T15:25:45.520Z"
      },
      {
        "duration": 5,
        "start_time": "2022-02-06T15:25:45.545Z"
      },
      {
        "duration": 13,
        "start_time": "2022-02-06T15:25:45.552Z"
      },
      {
        "duration": 10,
        "start_time": "2022-02-06T15:25:45.606Z"
      },
      {
        "duration": 13,
        "start_time": "2022-02-06T15:25:45.618Z"
      },
      {
        "duration": 6,
        "start_time": "2022-02-06T15:25:45.633Z"
      },
      {
        "duration": 9,
        "start_time": "2022-02-06T15:25:45.641Z"
      },
      {
        "duration": 16,
        "start_time": "2022-02-06T15:25:45.652Z"
      },
      {
        "duration": 43,
        "start_time": "2022-02-06T15:25:45.671Z"
      },
      {
        "duration": 8,
        "start_time": "2022-02-06T15:25:45.716Z"
      },
      {
        "duration": 8,
        "start_time": "2022-02-06T15:25:45.727Z"
      },
      {
        "duration": 25,
        "start_time": "2022-02-06T15:25:45.737Z"
      },
      {
        "duration": 45,
        "start_time": "2022-02-06T15:25:45.764Z"
      },
      {
        "duration": 11,
        "start_time": "2022-02-06T15:25:45.811Z"
      },
      {
        "duration": 30,
        "start_time": "2022-02-06T15:25:45.824Z"
      },
      {
        "duration": 8,
        "start_time": "2022-02-06T15:25:45.856Z"
      },
      {
        "duration": 50,
        "start_time": "2022-02-06T15:25:45.869Z"
      },
      {
        "duration": 11,
        "start_time": "2022-02-06T15:25:45.921Z"
      },
      {
        "duration": 20,
        "start_time": "2022-02-06T15:25:45.934Z"
      },
      {
        "duration": 19,
        "start_time": "2022-02-06T15:25:45.956Z"
      },
      {
        "duration": 731,
        "start_time": "2022-02-06T15:40:47.069Z"
      },
      {
        "duration": 13,
        "start_time": "2022-02-06T15:40:47.805Z"
      },
      {
        "duration": 4,
        "start_time": "2022-02-06T15:40:47.821Z"
      },
      {
        "duration": 22,
        "start_time": "2022-02-06T15:40:47.827Z"
      },
      {
        "duration": 58,
        "start_time": "2022-02-06T15:40:47.851Z"
      },
      {
        "duration": 8,
        "start_time": "2022-02-06T15:40:47.911Z"
      },
      {
        "duration": 6,
        "start_time": "2022-02-06T15:40:47.922Z"
      },
      {
        "duration": 7,
        "start_time": "2022-02-06T15:40:47.931Z"
      },
      {
        "duration": 7,
        "start_time": "2022-02-06T15:40:47.940Z"
      },
      {
        "duration": 5,
        "start_time": "2022-02-06T15:40:47.949Z"
      },
      {
        "duration": 64,
        "start_time": "2022-02-06T15:40:47.956Z"
      },
      {
        "duration": 6,
        "start_time": "2022-02-06T15:40:48.022Z"
      },
      {
        "duration": 46,
        "start_time": "2022-02-06T15:40:48.031Z"
      },
      {
        "duration": 17,
        "start_time": "2022-02-06T15:40:48.079Z"
      },
      {
        "duration": 17,
        "start_time": "2022-02-06T15:40:48.098Z"
      },
      {
        "duration": 8,
        "start_time": "2022-02-06T15:40:48.117Z"
      },
      {
        "duration": 4,
        "start_time": "2022-02-06T15:40:48.128Z"
      },
      {
        "duration": 12,
        "start_time": "2022-02-06T15:40:48.134Z"
      },
      {
        "duration": 9,
        "start_time": "2022-02-06T15:40:48.149Z"
      },
      {
        "duration": 8,
        "start_time": "2022-02-06T15:40:48.209Z"
      },
      {
        "duration": 9,
        "start_time": "2022-02-06T15:40:48.219Z"
      },
      {
        "duration": 22,
        "start_time": "2022-02-06T15:40:48.232Z"
      },
      {
        "duration": 7,
        "start_time": "2022-02-06T15:40:48.256Z"
      },
      {
        "duration": 50,
        "start_time": "2022-02-06T15:40:48.265Z"
      },
      {
        "duration": 33,
        "start_time": "2022-02-06T15:40:48.317Z"
      },
      {
        "duration": 8,
        "start_time": "2022-02-06T15:40:48.352Z"
      },
      {
        "duration": 14,
        "start_time": "2022-02-06T15:40:48.362Z"
      },
      {
        "duration": 42,
        "start_time": "2022-02-06T15:40:48.377Z"
      },
      {
        "duration": 17,
        "start_time": "2022-02-06T15:40:48.421Z"
      },
      {
        "duration": 14,
        "start_time": "2022-02-06T15:40:48.440Z"
      },
      {
        "duration": 654,
        "start_time": "2022-02-06T15:46:08.248Z"
      },
      {
        "duration": 13,
        "start_time": "2022-02-06T15:46:08.904Z"
      },
      {
        "duration": 4,
        "start_time": "2022-02-06T15:46:08.920Z"
      },
      {
        "duration": 14,
        "start_time": "2022-02-06T15:46:08.926Z"
      },
      {
        "duration": 26,
        "start_time": "2022-02-06T15:46:08.942Z"
      },
      {
        "duration": 39,
        "start_time": "2022-02-06T15:46:08.969Z"
      },
      {
        "duration": 4,
        "start_time": "2022-02-06T15:46:09.010Z"
      },
      {
        "duration": 8,
        "start_time": "2022-02-06T15:46:09.017Z"
      },
      {
        "duration": 8,
        "start_time": "2022-02-06T15:46:09.027Z"
      },
      {
        "duration": 8,
        "start_time": "2022-02-06T15:46:09.037Z"
      },
      {
        "duration": 22,
        "start_time": "2022-02-06T15:46:09.046Z"
      },
      {
        "duration": 5,
        "start_time": "2022-02-06T15:46:09.107Z"
      },
      {
        "duration": 12,
        "start_time": "2022-02-06T15:46:09.114Z"
      },
      {
        "duration": 14,
        "start_time": "2022-02-06T15:46:09.128Z"
      },
      {
        "duration": 15,
        "start_time": "2022-02-06T15:46:09.144Z"
      },
      {
        "duration": 6,
        "start_time": "2022-02-06T15:46:09.161Z"
      },
      {
        "duration": 42,
        "start_time": "2022-02-06T15:46:09.169Z"
      },
      {
        "duration": 11,
        "start_time": "2022-02-06T15:46:09.213Z"
      },
      {
        "duration": 10,
        "start_time": "2022-02-06T15:46:09.227Z"
      },
      {
        "duration": 15,
        "start_time": "2022-02-06T15:46:09.239Z"
      },
      {
        "duration": 17,
        "start_time": "2022-02-06T15:46:09.256Z"
      },
      {
        "duration": 21,
        "start_time": "2022-02-06T15:46:09.308Z"
      },
      {
        "duration": 8,
        "start_time": "2022-02-06T15:46:09.333Z"
      },
      {
        "duration": 16,
        "start_time": "2022-02-06T15:46:09.343Z"
      },
      {
        "duration": 59,
        "start_time": "2022-02-06T15:46:09.361Z"
      },
      {
        "duration": 9,
        "start_time": "2022-02-06T15:46:09.421Z"
      },
      {
        "duration": 13,
        "start_time": "2022-02-06T15:46:09.432Z"
      },
      {
        "duration": 11,
        "start_time": "2022-02-06T15:46:09.447Z"
      },
      {
        "duration": 55,
        "start_time": "2022-02-06T15:46:09.460Z"
      },
      {
        "duration": 15,
        "start_time": "2022-02-06T15:46:09.517Z"
      },
      {
        "duration": 728,
        "start_time": "2022-02-06T15:49:13.827Z"
      },
      {
        "duration": 13,
        "start_time": "2022-02-06T15:49:14.557Z"
      },
      {
        "duration": 26,
        "start_time": "2022-02-06T15:49:14.575Z"
      },
      {
        "duration": 27,
        "start_time": "2022-02-06T15:49:14.603Z"
      },
      {
        "duration": 41,
        "start_time": "2022-02-06T15:49:14.632Z"
      },
      {
        "duration": 8,
        "start_time": "2022-02-06T15:49:14.675Z"
      },
      {
        "duration": 14,
        "start_time": "2022-02-06T15:49:14.685Z"
      },
      {
        "duration": 17,
        "start_time": "2022-02-06T15:49:14.704Z"
      },
      {
        "duration": 22,
        "start_time": "2022-02-06T15:49:14.724Z"
      },
      {
        "duration": 20,
        "start_time": "2022-02-06T15:49:14.747Z"
      },
      {
        "duration": 22,
        "start_time": "2022-02-06T15:49:14.769Z"
      },
      {
        "duration": 7,
        "start_time": "2022-02-06T15:49:14.793Z"
      },
      {
        "duration": 14,
        "start_time": "2022-02-06T15:49:14.808Z"
      },
      {
        "duration": 23,
        "start_time": "2022-02-06T15:49:14.824Z"
      },
      {
        "duration": 24,
        "start_time": "2022-02-06T15:49:14.849Z"
      },
      {
        "duration": 8,
        "start_time": "2022-02-06T15:49:14.875Z"
      },
      {
        "duration": 9,
        "start_time": "2022-02-06T15:49:14.908Z"
      },
      {
        "duration": 43,
        "start_time": "2022-02-06T15:49:14.919Z"
      },
      {
        "duration": 37,
        "start_time": "2022-02-06T15:49:14.964Z"
      },
      {
        "duration": 35,
        "start_time": "2022-02-06T15:49:15.004Z"
      },
      {
        "duration": 21,
        "start_time": "2022-02-06T15:49:15.042Z"
      },
      {
        "duration": 19,
        "start_time": "2022-02-06T15:49:15.065Z"
      },
      {
        "duration": 29,
        "start_time": "2022-02-06T15:49:15.086Z"
      },
      {
        "duration": 23,
        "start_time": "2022-02-06T15:49:15.118Z"
      },
      {
        "duration": 29,
        "start_time": "2022-02-06T15:49:15.143Z"
      },
      {
        "duration": 28,
        "start_time": "2022-02-06T15:49:15.176Z"
      },
      {
        "duration": 28,
        "start_time": "2022-02-06T15:49:15.206Z"
      },
      {
        "duration": 19,
        "start_time": "2022-02-06T15:49:15.236Z"
      },
      {
        "duration": 754,
        "start_time": "2022-02-06T15:50:04.077Z"
      },
      {
        "duration": 13,
        "start_time": "2022-02-06T15:50:04.833Z"
      },
      {
        "duration": 19,
        "start_time": "2022-02-06T15:50:04.848Z"
      },
      {
        "duration": 38,
        "start_time": "2022-02-06T15:50:04.870Z"
      },
      {
        "duration": 52,
        "start_time": "2022-02-06T15:50:04.910Z"
      },
      {
        "duration": 8,
        "start_time": "2022-02-06T15:50:04.964Z"
      },
      {
        "duration": 26,
        "start_time": "2022-02-06T15:50:04.973Z"
      },
      {
        "duration": 18,
        "start_time": "2022-02-06T15:50:05.001Z"
      },
      {
        "duration": 13,
        "start_time": "2022-02-06T15:50:05.022Z"
      },
      {
        "duration": 11,
        "start_time": "2022-02-06T15:50:05.037Z"
      },
      {
        "duration": 23,
        "start_time": "2022-02-06T15:50:05.050Z"
      },
      {
        "duration": 5,
        "start_time": "2022-02-06T15:50:05.075Z"
      },
      {
        "duration": 26,
        "start_time": "2022-02-06T15:50:05.082Z"
      },
      {
        "duration": 13,
        "start_time": "2022-02-06T15:50:05.110Z"
      },
      {
        "duration": 25,
        "start_time": "2022-02-06T15:50:05.125Z"
      },
      {
        "duration": 16,
        "start_time": "2022-02-06T15:50:05.152Z"
      },
      {
        "duration": 11,
        "start_time": "2022-02-06T15:50:05.170Z"
      },
      {
        "duration": 31,
        "start_time": "2022-02-06T15:50:05.183Z"
      },
      {
        "duration": 17,
        "start_time": "2022-02-06T15:50:05.216Z"
      },
      {
        "duration": 47,
        "start_time": "2022-02-06T15:50:05.235Z"
      },
      {
        "duration": 78,
        "start_time": "2022-02-06T15:50:05.283Z"
      },
      {
        "duration": -999,
        "start_time": "2022-02-06T15:50:06.363Z"
      },
      {
        "duration": -1001,
        "start_time": "2022-02-06T15:50:06.366Z"
      },
      {
        "duration": -1004,
        "start_time": "2022-02-06T15:50:06.369Z"
      },
      {
        "duration": -1021,
        "start_time": "2022-02-06T15:50:06.387Z"
      },
      {
        "duration": -1023,
        "start_time": "2022-02-06T15:50:06.390Z"
      },
      {
        "duration": -1025,
        "start_time": "2022-02-06T15:50:06.393Z"
      },
      {
        "duration": -1046,
        "start_time": "2022-02-06T15:50:06.415Z"
      },
      {
        "duration": 655,
        "start_time": "2022-02-06T15:51:13.763Z"
      },
      {
        "duration": 13,
        "start_time": "2022-02-06T15:51:14.420Z"
      },
      {
        "duration": 15,
        "start_time": "2022-02-06T15:51:14.435Z"
      },
      {
        "duration": 30,
        "start_time": "2022-02-06T15:51:14.452Z"
      },
      {
        "duration": 35,
        "start_time": "2022-02-06T15:51:14.484Z"
      },
      {
        "duration": 8,
        "start_time": "2022-02-06T15:51:14.521Z"
      },
      {
        "duration": 8,
        "start_time": "2022-02-06T15:51:14.531Z"
      },
      {
        "duration": 8,
        "start_time": "2022-02-06T15:51:14.541Z"
      },
      {
        "duration": 9,
        "start_time": "2022-02-06T15:51:14.552Z"
      },
      {
        "duration": 46,
        "start_time": "2022-02-06T15:51:14.563Z"
      },
      {
        "duration": 17,
        "start_time": "2022-02-06T15:51:14.611Z"
      },
      {
        "duration": 4,
        "start_time": "2022-02-06T15:51:14.630Z"
      },
      {
        "duration": 12,
        "start_time": "2022-02-06T15:51:14.636Z"
      },
      {
        "duration": 16,
        "start_time": "2022-02-06T15:51:14.649Z"
      },
      {
        "duration": 51,
        "start_time": "2022-02-06T15:51:14.666Z"
      },
      {
        "duration": 6,
        "start_time": "2022-02-06T15:51:14.718Z"
      },
      {
        "duration": 12,
        "start_time": "2022-02-06T15:51:14.726Z"
      },
      {
        "duration": 13,
        "start_time": "2022-02-06T15:51:14.740Z"
      },
      {
        "duration": 7,
        "start_time": "2022-02-06T15:51:14.754Z"
      },
      {
        "duration": 48,
        "start_time": "2022-02-06T15:51:14.763Z"
      },
      {
        "duration": 8,
        "start_time": "2022-02-06T15:51:14.813Z"
      },
      {
        "duration": 14,
        "start_time": "2022-02-06T15:51:14.823Z"
      },
      {
        "duration": 8,
        "start_time": "2022-02-06T15:51:14.839Z"
      },
      {
        "duration": 14,
        "start_time": "2022-02-06T15:51:14.848Z"
      },
      {
        "duration": 46,
        "start_time": "2022-02-06T15:51:14.864Z"
      },
      {
        "duration": 20,
        "start_time": "2022-02-06T15:51:14.912Z"
      },
      {
        "duration": 13,
        "start_time": "2022-02-06T15:51:14.936Z"
      },
      {
        "duration": 672,
        "start_time": "2022-02-06T15:52:25.168Z"
      },
      {
        "duration": 13,
        "start_time": "2022-02-06T15:52:25.842Z"
      },
      {
        "duration": 5,
        "start_time": "2022-02-06T15:52:25.857Z"
      },
      {
        "duration": 13,
        "start_time": "2022-02-06T15:52:25.864Z"
      },
      {
        "duration": 49,
        "start_time": "2022-02-06T15:52:25.879Z"
      },
      {
        "duration": 8,
        "start_time": "2022-02-06T15:52:25.930Z"
      },
      {
        "duration": 6,
        "start_time": "2022-02-06T15:52:25.940Z"
      },
      {
        "duration": 10,
        "start_time": "2022-02-06T15:52:25.948Z"
      },
      {
        "duration": 49,
        "start_time": "2022-02-06T15:52:25.960Z"
      },
      {
        "duration": 9,
        "start_time": "2022-02-06T15:52:26.011Z"
      },
      {
        "duration": 18,
        "start_time": "2022-02-06T15:52:26.022Z"
      },
      {
        "duration": 5,
        "start_time": "2022-02-06T15:52:26.042Z"
      },
      {
        "duration": 11,
        "start_time": "2022-02-06T15:52:26.049Z"
      },
      {
        "duration": 48,
        "start_time": "2022-02-06T15:52:26.062Z"
      },
      {
        "duration": 14,
        "start_time": "2022-02-06T15:52:26.112Z"
      },
      {
        "duration": 6,
        "start_time": "2022-02-06T15:52:26.128Z"
      },
      {
        "duration": 8,
        "start_time": "2022-02-06T15:52:26.136Z"
      },
      {
        "duration": 20,
        "start_time": "2022-02-06T15:52:26.146Z"
      },
      {
        "duration": 41,
        "start_time": "2022-02-06T15:52:26.167Z"
      },
      {
        "duration": 13,
        "start_time": "2022-02-06T15:52:26.211Z"
      },
      {
        "duration": 8,
        "start_time": "2022-02-06T15:52:26.226Z"
      },
      {
        "duration": 13,
        "start_time": "2022-02-06T15:52:26.236Z"
      },
      {
        "duration": 7,
        "start_time": "2022-02-06T15:52:26.252Z"
      },
      {
        "duration": 53,
        "start_time": "2022-02-06T15:52:26.261Z"
      },
      {
        "duration": 13,
        "start_time": "2022-02-06T15:52:26.316Z"
      },
      {
        "duration": 20,
        "start_time": "2022-02-06T15:52:26.330Z"
      },
      {
        "duration": 12,
        "start_time": "2022-02-06T15:52:26.352Z"
      },
      {
        "duration": 8,
        "start_time": "2022-02-06T15:53:09.568Z"
      },
      {
        "duration": 8,
        "start_time": "2022-02-06T15:53:23.468Z"
      },
      {
        "duration": 7,
        "start_time": "2022-02-06T15:58:56.196Z"
      },
      {
        "duration": 8,
        "start_time": "2022-02-06T15:59:20.768Z"
      },
      {
        "duration": 6,
        "start_time": "2022-02-06T16:00:15.135Z"
      },
      {
        "duration": 7,
        "start_time": "2022-02-06T16:02:19.700Z"
      },
      {
        "duration": 735,
        "start_time": "2022-02-06T16:02:33.865Z"
      },
      {
        "duration": 14,
        "start_time": "2022-02-06T16:02:34.602Z"
      },
      {
        "duration": 10,
        "start_time": "2022-02-06T16:02:34.618Z"
      },
      {
        "duration": 19,
        "start_time": "2022-02-06T16:02:34.630Z"
      },
      {
        "duration": 30,
        "start_time": "2022-02-06T16:02:34.651Z"
      },
      {
        "duration": 28,
        "start_time": "2022-02-06T16:02:34.684Z"
      },
      {
        "duration": 9,
        "start_time": "2022-02-06T16:02:34.715Z"
      },
      {
        "duration": 10,
        "start_time": "2022-02-06T16:02:34.726Z"
      },
      {
        "duration": 8,
        "start_time": "2022-02-06T16:02:34.740Z"
      },
      {
        "duration": 7,
        "start_time": "2022-02-06T16:02:34.751Z"
      },
      {
        "duration": 63,
        "start_time": "2022-02-06T16:02:34.761Z"
      },
      {
        "duration": 6,
        "start_time": "2022-02-06T16:02:34.825Z"
      },
      {
        "duration": 12,
        "start_time": "2022-02-06T16:02:34.833Z"
      },
      {
        "duration": 15,
        "start_time": "2022-02-06T16:02:34.847Z"
      },
      {
        "duration": 56,
        "start_time": "2022-02-06T16:02:34.864Z"
      },
      {
        "duration": 7,
        "start_time": "2022-02-06T16:02:34.922Z"
      },
      {
        "duration": 5,
        "start_time": "2022-02-06T16:02:34.931Z"
      },
      {
        "duration": 14,
        "start_time": "2022-02-06T16:02:34.939Z"
      },
      {
        "duration": 50,
        "start_time": "2022-02-06T16:02:34.956Z"
      },
      {
        "duration": 19,
        "start_time": "2022-02-06T16:02:35.009Z"
      },
      {
        "duration": 7,
        "start_time": "2022-02-06T16:02:35.031Z"
      },
      {
        "duration": 20,
        "start_time": "2022-02-06T16:02:35.039Z"
      },
      {
        "duration": 9,
        "start_time": "2022-02-06T16:02:35.061Z"
      },
      {
        "duration": 41,
        "start_time": "2022-02-06T16:02:35.071Z"
      },
      {
        "duration": 11,
        "start_time": "2022-02-06T16:02:35.114Z"
      },
      {
        "duration": 14,
        "start_time": "2022-02-06T16:02:35.128Z"
      },
      {
        "duration": 12,
        "start_time": "2022-02-06T16:02:35.146Z"
      },
      {
        "duration": 56,
        "start_time": "2022-02-06T16:02:35.161Z"
      },
      {
        "duration": 15,
        "start_time": "2022-02-06T16:02:35.220Z"
      },
      {
        "duration": 19,
        "start_time": "2022-02-06T16:09:18.164Z"
      },
      {
        "duration": 10,
        "start_time": "2022-02-06T16:17:36.045Z"
      },
      {
        "duration": 22,
        "start_time": "2022-02-06T16:23:19.484Z"
      },
      {
        "duration": 21,
        "start_time": "2022-02-06T16:23:28.266Z"
      },
      {
        "duration": 717,
        "start_time": "2022-02-06T16:26:20.101Z"
      },
      {
        "duration": 14,
        "start_time": "2022-02-06T16:26:20.820Z"
      },
      {
        "duration": 6,
        "start_time": "2022-02-06T16:26:20.836Z"
      },
      {
        "duration": 16,
        "start_time": "2022-02-06T16:26:20.844Z"
      },
      {
        "duration": 56,
        "start_time": "2022-02-06T16:26:20.862Z"
      },
      {
        "duration": 8,
        "start_time": "2022-02-06T16:26:20.920Z"
      },
      {
        "duration": 21,
        "start_time": "2022-02-06T16:26:20.930Z"
      },
      {
        "duration": 12,
        "start_time": "2022-02-06T16:26:20.955Z"
      },
      {
        "duration": 18,
        "start_time": "2022-02-06T16:26:20.970Z"
      },
      {
        "duration": 20,
        "start_time": "2022-02-06T16:26:20.990Z"
      },
      {
        "duration": 34,
        "start_time": "2022-02-06T16:26:21.012Z"
      },
      {
        "duration": 5,
        "start_time": "2022-02-06T16:26:21.048Z"
      },
      {
        "duration": 20,
        "start_time": "2022-02-06T16:26:21.055Z"
      },
      {
        "duration": 35,
        "start_time": "2022-02-06T16:26:21.078Z"
      },
      {
        "duration": 18,
        "start_time": "2022-02-06T16:26:21.115Z"
      },
      {
        "duration": 7,
        "start_time": "2022-02-06T16:26:21.136Z"
      },
      {
        "duration": 21,
        "start_time": "2022-02-06T16:26:21.146Z"
      },
      {
        "duration": 21,
        "start_time": "2022-02-06T16:26:21.169Z"
      },
      {
        "duration": 22,
        "start_time": "2022-02-06T16:26:21.192Z"
      },
      {
        "duration": 22,
        "start_time": "2022-02-06T16:26:21.216Z"
      },
      {
        "duration": 14,
        "start_time": "2022-02-06T16:26:21.239Z"
      },
      {
        "duration": 29,
        "start_time": "2022-02-06T16:26:21.255Z"
      },
      {
        "duration": 21,
        "start_time": "2022-02-06T16:26:21.287Z"
      },
      {
        "duration": 8,
        "start_time": "2022-02-06T16:26:21.311Z"
      },
      {
        "duration": 28,
        "start_time": "2022-02-06T16:26:21.321Z"
      },
      {
        "duration": 7,
        "start_time": "2022-02-06T16:26:21.351Z"
      },
      {
        "duration": 48,
        "start_time": "2022-02-06T16:26:21.360Z"
      },
      {
        "duration": 15,
        "start_time": "2022-02-06T16:26:21.410Z"
      },
      {
        "duration": 23,
        "start_time": "2022-02-06T16:26:21.427Z"
      },
      {
        "duration": 13,
        "start_time": "2022-02-06T16:27:20.553Z"
      },
      {
        "duration": 681,
        "start_time": "2022-02-06T16:28:07.626Z"
      },
      {
        "duration": 13,
        "start_time": "2022-02-06T16:28:08.309Z"
      },
      {
        "duration": 4,
        "start_time": "2022-02-06T16:28:08.325Z"
      },
      {
        "duration": 15,
        "start_time": "2022-02-06T16:28:08.332Z"
      },
      {
        "duration": 33,
        "start_time": "2022-02-06T16:28:08.349Z"
      },
      {
        "duration": 9,
        "start_time": "2022-02-06T16:28:08.407Z"
      },
      {
        "duration": 8,
        "start_time": "2022-02-06T16:28:08.417Z"
      },
      {
        "duration": 8,
        "start_time": "2022-02-06T16:28:08.427Z"
      },
      {
        "duration": 5,
        "start_time": "2022-02-06T16:28:08.439Z"
      },
      {
        "duration": 6,
        "start_time": "2022-02-06T16:28:08.447Z"
      },
      {
        "duration": 71,
        "start_time": "2022-02-06T16:28:08.454Z"
      },
      {
        "duration": 4,
        "start_time": "2022-02-06T16:28:08.527Z"
      },
      {
        "duration": 10,
        "start_time": "2022-02-06T16:28:08.533Z"
      },
      {
        "duration": 11,
        "start_time": "2022-02-06T16:28:08.545Z"
      },
      {
        "duration": 52,
        "start_time": "2022-02-06T16:28:08.558Z"
      },
      {
        "duration": 6,
        "start_time": "2022-02-06T16:28:08.612Z"
      },
      {
        "duration": 4,
        "start_time": "2022-02-06T16:28:08.620Z"
      },
      {
        "duration": 12,
        "start_time": "2022-02-06T16:28:08.625Z"
      },
      {
        "duration": 7,
        "start_time": "2022-02-06T16:28:08.639Z"
      },
      {
        "duration": 13,
        "start_time": "2022-02-06T16:28:08.648Z"
      },
      {
        "duration": 49,
        "start_time": "2022-02-06T16:28:08.663Z"
      },
      {
        "duration": 8,
        "start_time": "2022-02-06T16:28:08.714Z"
      },
      {
        "duration": 7,
        "start_time": "2022-02-06T16:28:08.724Z"
      },
      {
        "duration": 12,
        "start_time": "2022-02-06T16:28:08.733Z"
      },
      {
        "duration": 24,
        "start_time": "2022-02-06T16:28:08.747Z"
      },
      {
        "duration": 41,
        "start_time": "2022-02-06T16:28:08.773Z"
      },
      {
        "duration": 24,
        "start_time": "2022-02-06T16:28:08.819Z"
      },
      {
        "duration": 18,
        "start_time": "2022-02-06T16:28:08.846Z"
      },
      {
        "duration": 53,
        "start_time": "2022-02-06T16:28:08.866Z"
      },
      {
        "duration": 8,
        "start_time": "2022-02-06T16:32:10.945Z"
      },
      {
        "duration": 9,
        "start_time": "2022-02-06T16:45:28.825Z"
      },
      {
        "duration": 13,
        "start_time": "2022-02-06T16:49:49.593Z"
      },
      {
        "duration": 320,
        "start_time": "2022-02-06T16:55:30.505Z"
      },
      {
        "duration": 7,
        "start_time": "2022-02-06T16:58:51.924Z"
      },
      {
        "duration": 252,
        "start_time": "2022-02-06T16:58:54.885Z"
      },
      {
        "duration": 298,
        "start_time": "2022-02-06T16:59:22.965Z"
      },
      {
        "duration": 722,
        "start_time": "2022-02-06T17:01:15.346Z"
      },
      {
        "duration": 14,
        "start_time": "2022-02-06T17:02:21.181Z"
      },
      {
        "duration": 13,
        "start_time": "2022-02-06T17:02:41.807Z"
      },
      {
        "duration": 21,
        "start_time": "2022-02-06T17:02:56.866Z"
      },
      {
        "duration": 13,
        "start_time": "2022-02-06T17:04:56.212Z"
      },
      {
        "duration": 8,
        "start_time": "2022-02-06T17:05:27.045Z"
      },
      {
        "duration": 753,
        "start_time": "2022-02-06T17:06:14.751Z"
      },
      {
        "duration": 14,
        "start_time": "2022-02-06T17:06:15.506Z"
      },
      {
        "duration": 6,
        "start_time": "2022-02-06T17:06:15.522Z"
      },
      {
        "duration": 16,
        "start_time": "2022-02-06T17:06:15.530Z"
      },
      {
        "duration": 27,
        "start_time": "2022-02-06T17:06:15.548Z"
      },
      {
        "duration": 41,
        "start_time": "2022-02-06T17:06:15.577Z"
      },
      {
        "duration": 9,
        "start_time": "2022-02-06T17:06:15.620Z"
      },
      {
        "duration": 8,
        "start_time": "2022-02-06T17:06:15.633Z"
      },
      {
        "duration": 10,
        "start_time": "2022-02-06T17:06:15.643Z"
      },
      {
        "duration": 52,
        "start_time": "2022-02-06T17:06:15.655Z"
      },
      {
        "duration": 19,
        "start_time": "2022-02-06T17:06:15.709Z"
      },
      {
        "duration": 5,
        "start_time": "2022-02-06T17:06:15.730Z"
      },
      {
        "duration": 10,
        "start_time": "2022-02-06T17:06:15.737Z"
      },
      {
        "duration": 60,
        "start_time": "2022-02-06T17:06:15.750Z"
      },
      {
        "duration": 16,
        "start_time": "2022-02-06T17:06:15.812Z"
      },
      {
        "duration": 9,
        "start_time": "2022-02-06T17:06:15.830Z"
      },
      {
        "duration": 9,
        "start_time": "2022-02-06T17:06:15.841Z"
      },
      {
        "duration": 59,
        "start_time": "2022-02-06T17:06:15.852Z"
      },
      {
        "duration": 11,
        "start_time": "2022-02-06T17:06:15.914Z"
      },
      {
        "duration": 16,
        "start_time": "2022-02-06T17:06:15.926Z"
      },
      {
        "duration": 11,
        "start_time": "2022-02-06T17:06:15.944Z"
      },
      {
        "duration": 56,
        "start_time": "2022-02-06T17:06:15.958Z"
      },
      {
        "duration": 7,
        "start_time": "2022-02-06T17:06:16.018Z"
      },
      {
        "duration": 15,
        "start_time": "2022-02-06T17:06:16.027Z"
      },
      {
        "duration": 22,
        "start_time": "2022-02-06T17:06:16.045Z"
      },
      {
        "duration": 42,
        "start_time": "2022-02-06T17:06:16.070Z"
      },
      {
        "duration": 25,
        "start_time": "2022-02-06T17:06:16.114Z"
      },
      {
        "duration": 15,
        "start_time": "2022-02-06T17:06:16.142Z"
      },
      {
        "duration": 18,
        "start_time": "2022-02-06T17:06:16.160Z"
      },
      {
        "duration": 15,
        "start_time": "2022-02-06T17:06:16.208Z"
      },
      {
        "duration": 9,
        "start_time": "2022-02-06T17:06:16.225Z"
      },
      {
        "duration": 18,
        "start_time": "2022-02-06T17:06:16.236Z"
      },
      {
        "duration": 13,
        "start_time": "2022-02-06T17:06:16.256Z"
      },
      {
        "duration": 348,
        "start_time": "2022-02-07T09:14:27.586Z"
      },
      {
        "duration": 931,
        "start_time": "2022-02-07T09:21:43.738Z"
      },
      {
        "duration": 18,
        "start_time": "2022-02-07T09:21:44.672Z"
      },
      {
        "duration": 7,
        "start_time": "2022-02-07T09:21:44.693Z"
      },
      {
        "duration": 47,
        "start_time": "2022-02-07T09:21:44.703Z"
      },
      {
        "duration": 38,
        "start_time": "2022-02-07T09:21:44.753Z"
      },
      {
        "duration": 10,
        "start_time": "2022-02-07T09:21:44.794Z"
      },
      {
        "duration": 44,
        "start_time": "2022-02-07T09:21:44.806Z"
      },
      {
        "duration": 7,
        "start_time": "2022-02-07T09:21:44.853Z"
      },
      {
        "duration": 5,
        "start_time": "2022-02-07T09:21:44.863Z"
      },
      {
        "duration": 8,
        "start_time": "2022-02-07T09:21:44.871Z"
      },
      {
        "duration": 23,
        "start_time": "2022-02-07T09:21:44.881Z"
      },
      {
        "duration": 6,
        "start_time": "2022-02-07T09:21:44.948Z"
      },
      {
        "duration": 13,
        "start_time": "2022-02-07T09:21:44.956Z"
      },
      {
        "duration": 16,
        "start_time": "2022-02-07T09:21:44.971Z"
      },
      {
        "duration": 18,
        "start_time": "2022-02-07T09:21:44.989Z"
      },
      {
        "duration": 45,
        "start_time": "2022-02-07T09:21:45.010Z"
      },
      {
        "duration": 7,
        "start_time": "2022-02-07T09:21:45.057Z"
      },
      {
        "duration": 15,
        "start_time": "2022-02-07T09:21:45.066Z"
      },
      {
        "duration": 7,
        "start_time": "2022-02-07T09:21:45.084Z"
      },
      {
        "duration": 14,
        "start_time": "2022-02-07T09:21:45.094Z"
      },
      {
        "duration": 46,
        "start_time": "2022-02-07T09:21:45.110Z"
      },
      {
        "duration": 10,
        "start_time": "2022-02-07T09:21:45.158Z"
      },
      {
        "duration": 8,
        "start_time": "2022-02-07T09:21:45.172Z"
      },
      {
        "duration": 12,
        "start_time": "2022-02-07T09:21:45.182Z"
      },
      {
        "duration": 73,
        "start_time": "2022-02-07T09:21:45.196Z"
      },
      {
        "duration": 9,
        "start_time": "2022-02-07T09:21:45.271Z"
      },
      {
        "duration": 24,
        "start_time": "2022-02-07T09:21:45.284Z"
      },
      {
        "duration": 16,
        "start_time": "2022-02-07T09:21:45.310Z"
      },
      {
        "duration": 10,
        "start_time": "2022-02-07T09:21:45.349Z"
      },
      {
        "duration": 18,
        "start_time": "2022-02-07T09:21:45.361Z"
      },
      {
        "duration": 10,
        "start_time": "2022-02-07T09:21:45.381Z"
      },
      {
        "duration": 19,
        "start_time": "2022-02-07T09:21:45.393Z"
      },
      {
        "duration": 19,
        "start_time": "2022-02-07T09:21:45.448Z"
      },
      {
        "duration": 16,
        "start_time": "2022-02-07T09:21:45.470Z"
      },
      {
        "duration": 12,
        "start_time": "2022-02-07T09:32:55.565Z"
      },
      {
        "duration": 859,
        "start_time": "2022-02-07T09:33:06.951Z"
      },
      {
        "duration": 16,
        "start_time": "2022-02-07T09:33:07.813Z"
      },
      {
        "duration": 22,
        "start_time": "2022-02-07T09:33:07.833Z"
      },
      {
        "duration": 15,
        "start_time": "2022-02-07T09:33:07.858Z"
      },
      {
        "duration": 44,
        "start_time": "2022-02-07T09:33:07.876Z"
      },
      {
        "duration": 10,
        "start_time": "2022-02-07T09:33:07.949Z"
      },
      {
        "duration": 9,
        "start_time": "2022-02-07T09:33:07.962Z"
      },
      {
        "duration": 11,
        "start_time": "2022-02-07T09:33:07.974Z"
      },
      {
        "duration": 11,
        "start_time": "2022-02-07T09:33:07.988Z"
      },
      {
        "duration": 15,
        "start_time": "2022-02-07T09:33:08.001Z"
      },
      {
        "duration": 56,
        "start_time": "2022-02-07T09:33:08.018Z"
      },
      {
        "duration": 9,
        "start_time": "2022-02-07T09:33:08.076Z"
      },
      {
        "duration": 24,
        "start_time": "2022-02-07T09:33:08.088Z"
      },
      {
        "duration": 39,
        "start_time": "2022-02-07T09:33:08.114Z"
      },
      {
        "duration": 36,
        "start_time": "2022-02-07T09:33:08.156Z"
      },
      {
        "duration": 10,
        "start_time": "2022-02-07T09:33:08.194Z"
      },
      {
        "duration": 18,
        "start_time": "2022-02-07T09:33:08.207Z"
      },
      {
        "duration": 44,
        "start_time": "2022-02-07T09:33:08.227Z"
      },
      {
        "duration": 33,
        "start_time": "2022-02-07T09:33:08.274Z"
      },
      {
        "duration": 23,
        "start_time": "2022-02-07T09:33:08.310Z"
      },
      {
        "duration": 10,
        "start_time": "2022-02-07T09:33:08.336Z"
      },
      {
        "duration": 10,
        "start_time": "2022-02-07T09:33:08.349Z"
      },
      {
        "duration": 9,
        "start_time": "2022-02-07T09:33:08.364Z"
      },
      {
        "duration": 14,
        "start_time": "2022-02-07T09:33:08.376Z"
      },
      {
        "duration": 58,
        "start_time": "2022-02-07T09:33:08.392Z"
      },
      {
        "duration": 10,
        "start_time": "2022-02-07T09:33:08.452Z"
      },
      {
        "duration": 35,
        "start_time": "2022-02-07T09:33:08.465Z"
      },
      {
        "duration": 10,
        "start_time": "2022-02-07T09:33:08.503Z"
      },
      {
        "duration": 36,
        "start_time": "2022-02-07T09:33:08.516Z"
      },
      {
        "duration": 19,
        "start_time": "2022-02-07T09:33:08.555Z"
      },
      {
        "duration": 11,
        "start_time": "2022-02-07T09:33:08.576Z"
      },
      {
        "duration": 14,
        "start_time": "2022-02-07T09:33:08.590Z"
      },
      {
        "duration": 57,
        "start_time": "2022-02-07T09:33:08.606Z"
      },
      {
        "duration": 17,
        "start_time": "2022-02-07T09:33:08.665Z"
      },
      {
        "duration": 13,
        "start_time": "2022-02-07T09:45:00.958Z"
      },
      {
        "duration": 12,
        "start_time": "2022-02-07T09:48:56.300Z"
      },
      {
        "duration": 106,
        "start_time": "2022-02-07T09:49:43.803Z"
      },
      {
        "duration": 869,
        "start_time": "2022-02-07T09:50:04.461Z"
      },
      {
        "duration": 16,
        "start_time": "2022-02-07T09:50:05.333Z"
      },
      {
        "duration": 6,
        "start_time": "2022-02-07T09:50:05.353Z"
      },
      {
        "duration": 17,
        "start_time": "2022-02-07T09:50:05.363Z"
      },
      {
        "duration": 72,
        "start_time": "2022-02-07T09:50:05.383Z"
      },
      {
        "duration": 10,
        "start_time": "2022-02-07T09:50:05.457Z"
      },
      {
        "duration": 11,
        "start_time": "2022-02-07T09:50:05.470Z"
      },
      {
        "duration": 9,
        "start_time": "2022-02-07T09:50:05.485Z"
      },
      {
        "duration": 24,
        "start_time": "2022-02-07T09:50:05.497Z"
      },
      {
        "duration": 27,
        "start_time": "2022-02-07T09:50:05.523Z"
      },
      {
        "duration": 31,
        "start_time": "2022-02-07T09:50:05.552Z"
      },
      {
        "duration": 6,
        "start_time": "2022-02-07T09:50:05.585Z"
      },
      {
        "duration": 19,
        "start_time": "2022-02-07T09:50:05.593Z"
      },
      {
        "duration": 46,
        "start_time": "2022-02-07T09:50:05.615Z"
      },
      {
        "duration": 18,
        "start_time": "2022-02-07T09:50:05.664Z"
      },
      {
        "duration": 8,
        "start_time": "2022-02-07T09:50:05.685Z"
      },
      {
        "duration": 33,
        "start_time": "2022-02-07T09:50:05.696Z"
      },
      {
        "duration": 31,
        "start_time": "2022-02-07T09:50:05.732Z"
      },
      {
        "duration": 16,
        "start_time": "2022-02-07T09:50:05.765Z"
      },
      {
        "duration": 18,
        "start_time": "2022-02-07T09:50:05.783Z"
      },
      {
        "duration": 9,
        "start_time": "2022-02-07T09:50:05.804Z"
      },
      {
        "duration": 14,
        "start_time": "2022-02-07T09:50:05.850Z"
      },
      {
        "duration": 11,
        "start_time": "2022-02-07T09:50:05.871Z"
      },
      {
        "duration": 13,
        "start_time": "2022-02-07T09:50:05.885Z"
      },
      {
        "duration": 74,
        "start_time": "2022-02-07T09:50:05.901Z"
      },
      {
        "duration": 16,
        "start_time": "2022-02-07T09:50:05.978Z"
      },
      {
        "duration": 35,
        "start_time": "2022-02-07T09:50:05.997Z"
      },
      {
        "duration": 13,
        "start_time": "2022-02-07T09:50:06.035Z"
      },
      {
        "duration": 12,
        "start_time": "2022-02-07T09:50:06.051Z"
      },
      {
        "duration": 26,
        "start_time": "2022-02-07T09:50:06.065Z"
      },
      {
        "duration": 14,
        "start_time": "2022-02-07T09:50:06.095Z"
      },
      {
        "duration": 129,
        "start_time": "2022-02-07T09:50:06.112Z"
      },
      {
        "duration": 19,
        "start_time": "2022-02-07T09:50:06.244Z"
      },
      {
        "duration": 23,
        "start_time": "2022-02-07T09:50:06.266Z"
      },
      {
        "duration": 17,
        "start_time": "2022-02-07T09:50:06.291Z"
      },
      {
        "duration": 8,
        "start_time": "2022-02-07T09:51:00.913Z"
      },
      {
        "duration": 897,
        "start_time": "2022-02-07T09:52:49.930Z"
      },
      {
        "duration": 25,
        "start_time": "2022-02-07T09:52:50.831Z"
      },
      {
        "duration": 6,
        "start_time": "2022-02-07T09:52:50.859Z"
      },
      {
        "duration": 15,
        "start_time": "2022-02-07T09:52:50.868Z"
      },
      {
        "duration": 79,
        "start_time": "2022-02-07T09:52:50.886Z"
      },
      {
        "duration": 10,
        "start_time": "2022-02-07T09:52:50.967Z"
      },
      {
        "duration": 9,
        "start_time": "2022-02-07T09:52:50.980Z"
      },
      {
        "duration": 10,
        "start_time": "2022-02-07T09:52:50.993Z"
      },
      {
        "duration": 47,
        "start_time": "2022-02-07T09:52:51.006Z"
      },
      {
        "duration": 11,
        "start_time": "2022-02-07T09:52:51.055Z"
      },
      {
        "duration": 26,
        "start_time": "2022-02-07T09:52:51.069Z"
      },
      {
        "duration": 7,
        "start_time": "2022-02-07T09:52:51.100Z"
      },
      {
        "duration": 48,
        "start_time": "2022-02-07T09:52:51.110Z"
      },
      {
        "duration": 15,
        "start_time": "2022-02-07T09:52:51.161Z"
      },
      {
        "duration": 17,
        "start_time": "2022-02-07T09:52:51.179Z"
      },
      {
        "duration": 52,
        "start_time": "2022-02-07T09:52:51.198Z"
      },
      {
        "duration": 10,
        "start_time": "2022-02-07T09:52:51.252Z"
      },
      {
        "duration": 17,
        "start_time": "2022-02-07T09:52:51.265Z"
      },
      {
        "duration": 9,
        "start_time": "2022-02-07T09:52:51.285Z"
      },
      {
        "duration": 17,
        "start_time": "2022-02-07T09:52:51.296Z"
      },
      {
        "duration": 10,
        "start_time": "2022-02-07T09:52:51.353Z"
      },
      {
        "duration": 9,
        "start_time": "2022-02-07T09:52:51.366Z"
      },
      {
        "duration": 8,
        "start_time": "2022-02-07T09:52:51.379Z"
      },
      {
        "duration": 9,
        "start_time": "2022-02-07T09:52:51.390Z"
      },
      {
        "duration": 64,
        "start_time": "2022-02-07T09:52:51.401Z"
      },
      {
        "duration": 10,
        "start_time": "2022-02-07T09:52:51.467Z"
      },
      {
        "duration": 26,
        "start_time": "2022-02-07T09:52:51.480Z"
      },
      {
        "duration": 43,
        "start_time": "2022-02-07T09:52:51.508Z"
      },
      {
        "duration": 12,
        "start_time": "2022-02-07T09:52:51.554Z"
      },
      {
        "duration": 21,
        "start_time": "2022-02-07T09:52:51.569Z"
      },
      {
        "duration": 12,
        "start_time": "2022-02-07T09:52:51.593Z"
      },
      {
        "duration": 17,
        "start_time": "2022-02-07T09:53:05.418Z"
      },
      {
        "duration": 23,
        "start_time": "2022-02-07T09:53:05.449Z"
      },
      {
        "duration": 17,
        "start_time": "2022-02-07T09:53:05.475Z"
      },
      {
        "duration": 9407,
        "start_time": "2022-02-07T09:53:14.622Z"
      },
      {
        "duration": 860,
        "start_time": "2022-02-07T09:54:56.930Z"
      },
      {
        "duration": 24,
        "start_time": "2022-02-07T09:54:57.792Z"
      },
      {
        "duration": 6,
        "start_time": "2022-02-07T09:54:57.820Z"
      },
      {
        "duration": 19,
        "start_time": "2022-02-07T09:54:57.849Z"
      },
      {
        "duration": 82,
        "start_time": "2022-02-07T09:54:57.871Z"
      },
      {
        "duration": 14,
        "start_time": "2022-02-07T09:54:57.956Z"
      },
      {
        "duration": 11,
        "start_time": "2022-02-07T09:54:57.972Z"
      },
      {
        "duration": 15,
        "start_time": "2022-02-07T09:54:57.987Z"
      },
      {
        "duration": 10,
        "start_time": "2022-02-07T09:54:58.005Z"
      },
      {
        "duration": 32,
        "start_time": "2022-02-07T09:54:58.018Z"
      },
      {
        "duration": 23,
        "start_time": "2022-02-07T09:54:58.053Z"
      },
      {
        "duration": 6,
        "start_time": "2022-02-07T09:54:58.078Z"
      },
      {
        "duration": 11,
        "start_time": "2022-02-07T09:54:58.087Z"
      },
      {
        "duration": 49,
        "start_time": "2022-02-07T09:54:58.100Z"
      },
      {
        "duration": 18,
        "start_time": "2022-02-07T09:54:58.152Z"
      },
      {
        "duration": 9,
        "start_time": "2022-02-07T09:54:58.172Z"
      },
      {
        "duration": 6,
        "start_time": "2022-02-07T09:54:58.184Z"
      },
      {
        "duration": 21,
        "start_time": "2022-02-07T09:54:58.192Z"
      },
      {
        "duration": 10,
        "start_time": "2022-02-07T09:54:58.248Z"
      },
      {
        "duration": 18,
        "start_time": "2022-02-07T09:54:58.260Z"
      },
      {
        "duration": 9,
        "start_time": "2022-02-07T09:54:58.280Z"
      },
      {
        "duration": 10,
        "start_time": "2022-02-07T09:54:58.292Z"
      },
      {
        "duration": 9,
        "start_time": "2022-02-07T09:54:58.351Z"
      },
      {
        "duration": 11,
        "start_time": "2022-02-07T09:54:58.363Z"
      },
      {
        "duration": 29,
        "start_time": "2022-02-07T09:54:58.377Z"
      },
      {
        "duration": 43,
        "start_time": "2022-02-07T09:54:58.409Z"
      },
      {
        "duration": 28,
        "start_time": "2022-02-07T09:54:58.455Z"
      },
      {
        "duration": 13,
        "start_time": "2022-02-07T09:54:58.485Z"
      },
      {
        "duration": 47,
        "start_time": "2022-02-07T09:54:58.501Z"
      },
      {
        "duration": 19,
        "start_time": "2022-02-07T09:54:58.551Z"
      },
      {
        "duration": 11,
        "start_time": "2022-02-07T09:54:58.573Z"
      },
      {
        "duration": 39798,
        "start_time": "2022-02-07T09:54:58.587Z"
      },
      {
        "duration": 11,
        "start_time": "2022-02-07T09:55:38.388Z"
      },
      {
        "duration": 47,
        "start_time": "2022-02-07T09:55:38.402Z"
      },
      {
        "duration": 17,
        "start_time": "2022-02-07T09:55:38.452Z"
      },
      {
        "duration": 17,
        "start_time": "2022-02-07T09:55:59.313Z"
      },
      {
        "duration": 15,
        "start_time": "2022-02-07T09:56:03.401Z"
      },
      {
        "duration": 24,
        "start_time": "2022-02-07T09:56:27.836Z"
      },
      {
        "duration": 942,
        "start_time": "2022-02-07T09:56:37.474Z"
      },
      {
        "duration": 33,
        "start_time": "2022-02-07T09:56:38.419Z"
      },
      {
        "duration": 11,
        "start_time": "2022-02-07T09:56:38.456Z"
      },
      {
        "duration": 14,
        "start_time": "2022-02-07T09:56:38.471Z"
      },
      {
        "duration": 71,
        "start_time": "2022-02-07T09:56:38.488Z"
      },
      {
        "duration": 11,
        "start_time": "2022-02-07T09:56:38.563Z"
      },
      {
        "duration": 15,
        "start_time": "2022-02-07T09:56:38.578Z"
      },
      {
        "duration": 15,
        "start_time": "2022-02-07T09:56:38.600Z"
      },
      {
        "duration": 33,
        "start_time": "2022-02-07T09:56:38.620Z"
      },
      {
        "duration": 7,
        "start_time": "2022-02-07T09:56:38.657Z"
      },
      {
        "duration": 36,
        "start_time": "2022-02-07T09:56:38.668Z"
      },
      {
        "duration": 44,
        "start_time": "2022-02-07T09:56:38.708Z"
      },
      {
        "duration": 13,
        "start_time": "2022-02-07T09:56:38.755Z"
      },
      {
        "duration": 20,
        "start_time": "2022-02-07T09:56:38.770Z"
      },
      {
        "duration": 17,
        "start_time": "2022-02-07T09:56:38.793Z"
      },
      {
        "duration": 11,
        "start_time": "2022-02-07T09:56:38.849Z"
      },
      {
        "duration": 8,
        "start_time": "2022-02-07T09:56:38.863Z"
      },
      {
        "duration": 20,
        "start_time": "2022-02-07T09:56:38.874Z"
      },
      {
        "duration": 13,
        "start_time": "2022-02-07T09:56:38.898Z"
      },
      {
        "duration": 55,
        "start_time": "2022-02-07T09:56:38.915Z"
      },
      {
        "duration": 11,
        "start_time": "2022-02-07T09:56:38.973Z"
      },
      {
        "duration": 11,
        "start_time": "2022-02-07T09:56:38.987Z"
      },
      {
        "duration": 48,
        "start_time": "2022-02-07T09:56:39.003Z"
      },
      {
        "duration": 24,
        "start_time": "2022-02-07T09:56:39.055Z"
      },
      {
        "duration": 37,
        "start_time": "2022-02-07T09:56:39.082Z"
      },
      {
        "duration": 33,
        "start_time": "2022-02-07T09:56:39.122Z"
      },
      {
        "duration": 61,
        "start_time": "2022-02-07T09:56:39.157Z"
      },
      {
        "duration": 10,
        "start_time": "2022-02-07T09:56:39.221Z"
      },
      {
        "duration": 32,
        "start_time": "2022-02-07T09:56:39.234Z"
      },
      {
        "duration": 29,
        "start_time": "2022-02-07T09:56:39.269Z"
      },
      {
        "duration": 23,
        "start_time": "2022-02-07T09:56:39.301Z"
      },
      {
        "duration": 6828,
        "start_time": "2022-02-07T09:56:39.327Z"
      },
      {
        "duration": 13,
        "start_time": "2022-02-07T09:56:46.158Z"
      },
      {
        "duration": 21,
        "start_time": "2022-02-07T09:56:46.174Z"
      },
      {
        "duration": 17,
        "start_time": "2022-02-07T09:56:46.198Z"
      },
      {
        "duration": 872,
        "start_time": "2022-02-07T09:59:51.462Z"
      },
      {
        "duration": 21,
        "start_time": "2022-02-07T09:59:52.338Z"
      },
      {
        "duration": 19,
        "start_time": "2022-02-07T09:59:52.362Z"
      },
      {
        "duration": 25,
        "start_time": "2022-02-07T09:59:52.384Z"
      },
      {
        "duration": 81,
        "start_time": "2022-02-07T09:59:52.412Z"
      },
      {
        "duration": 15,
        "start_time": "2022-02-07T09:59:52.496Z"
      },
      {
        "duration": 33,
        "start_time": "2022-02-07T09:59:52.514Z"
      },
      {
        "duration": 14,
        "start_time": "2022-02-07T09:59:52.551Z"
      },
      {
        "duration": 18,
        "start_time": "2022-02-07T09:59:52.571Z"
      },
      {
        "duration": 26,
        "start_time": "2022-02-07T09:59:52.592Z"
      },
      {
        "duration": 34,
        "start_time": "2022-02-07T09:59:52.620Z"
      },
      {
        "duration": 10,
        "start_time": "2022-02-07T09:59:52.657Z"
      },
      {
        "duration": 27,
        "start_time": "2022-02-07T09:59:52.670Z"
      },
      {
        "duration": 30,
        "start_time": "2022-02-07T09:59:52.700Z"
      },
      {
        "duration": 30,
        "start_time": "2022-02-07T09:59:52.732Z"
      },
      {
        "duration": 10,
        "start_time": "2022-02-07T09:59:52.765Z"
      },
      {
        "duration": 20,
        "start_time": "2022-02-07T09:59:52.777Z"
      },
      {
        "duration": 27,
        "start_time": "2022-02-07T09:59:52.799Z"
      },
      {
        "duration": 22,
        "start_time": "2022-02-07T09:59:52.829Z"
      },
      {
        "duration": 22,
        "start_time": "2022-02-07T09:59:52.853Z"
      },
      {
        "duration": 18,
        "start_time": "2022-02-07T09:59:52.878Z"
      },
      {
        "duration": 19,
        "start_time": "2022-02-07T09:59:52.899Z"
      },
      {
        "duration": 29,
        "start_time": "2022-02-07T09:59:52.921Z"
      },
      {
        "duration": 20,
        "start_time": "2022-02-07T09:59:52.954Z"
      },
      {
        "duration": 32,
        "start_time": "2022-02-07T09:59:52.977Z"
      },
      {
        "duration": 36,
        "start_time": "2022-02-07T09:59:53.012Z"
      },
      {
        "duration": 55,
        "start_time": "2022-02-07T09:59:53.053Z"
      },
      {
        "duration": 37,
        "start_time": "2022-02-07T09:59:53.110Z"
      },
      {
        "duration": 33,
        "start_time": "2022-02-07T09:59:53.150Z"
      },
      {
        "duration": 45,
        "start_time": "2022-02-07T09:59:53.186Z"
      },
      {
        "duration": 11,
        "start_time": "2022-02-07T09:59:53.233Z"
      },
      {
        "duration": 37078,
        "start_time": "2022-02-07T09:59:53.247Z"
      },
      {
        "duration": 27,
        "start_time": "2022-02-07T10:00:30.328Z"
      },
      {
        "duration": 97,
        "start_time": "2022-02-07T10:00:30.358Z"
      },
      {
        "duration": 29,
        "start_time": "2022-02-07T10:00:30.458Z"
      },
      {
        "duration": 37801,
        "start_time": "2022-02-07T10:01:55.481Z"
      },
      {
        "duration": 1142,
        "start_time": "2022-02-07T10:02:42.001Z"
      },
      {
        "duration": 16,
        "start_time": "2022-02-07T10:02:43.149Z"
      },
      {
        "duration": 6,
        "start_time": "2022-02-07T10:02:43.168Z"
      },
      {
        "duration": 14,
        "start_time": "2022-02-07T10:02:43.177Z"
      },
      {
        "duration": 82,
        "start_time": "2022-02-07T10:02:43.193Z"
      },
      {
        "duration": 12,
        "start_time": "2022-02-07T10:02:43.278Z"
      },
      {
        "duration": 6,
        "start_time": "2022-02-07T10:02:43.293Z"
      },
      {
        "duration": 11,
        "start_time": "2022-02-07T10:02:43.303Z"
      },
      {
        "duration": 34,
        "start_time": "2022-02-07T10:02:43.317Z"
      },
      {
        "duration": 9,
        "start_time": "2022-02-07T10:02:43.354Z"
      },
      {
        "duration": 35,
        "start_time": "2022-02-07T10:02:43.366Z"
      },
      {
        "duration": 6,
        "start_time": "2022-02-07T10:02:43.404Z"
      },
      {
        "duration": 42,
        "start_time": "2022-02-07T10:02:43.413Z"
      },
      {
        "duration": 15,
        "start_time": "2022-02-07T10:02:43.457Z"
      },
      {
        "duration": 16,
        "start_time": "2022-02-07T10:02:43.475Z"
      },
      {
        "duration": 9,
        "start_time": "2022-02-07T10:02:43.493Z"
      },
      {
        "duration": 44,
        "start_time": "2022-02-07T10:02:43.505Z"
      },
      {
        "duration": 15,
        "start_time": "2022-02-07T10:02:43.552Z"
      },
      {
        "duration": 13,
        "start_time": "2022-02-07T10:02:43.570Z"
      },
      {
        "duration": 17,
        "start_time": "2022-02-07T10:02:43.586Z"
      },
      {
        "duration": 46,
        "start_time": "2022-02-07T10:02:43.605Z"
      },
      {
        "duration": 11,
        "start_time": "2022-02-07T10:02:43.654Z"
      },
      {
        "duration": 7,
        "start_time": "2022-02-07T10:02:43.670Z"
      },
      {
        "duration": 13,
        "start_time": "2022-02-07T10:02:43.680Z"
      },
      {
        "duration": 64,
        "start_time": "2022-02-07T10:02:43.696Z"
      },
      {
        "duration": 10,
        "start_time": "2022-02-07T10:02:43.763Z"
      },
      {
        "duration": 41,
        "start_time": "2022-02-07T10:02:43.777Z"
      },
      {
        "duration": 14,
        "start_time": "2022-02-07T10:02:43.849Z"
      },
      {
        "duration": 13,
        "start_time": "2022-02-07T10:02:43.867Z"
      },
      {
        "duration": 25,
        "start_time": "2022-02-07T10:02:43.883Z"
      },
      {
        "duration": 47,
        "start_time": "2022-02-07T10:02:43.912Z"
      },
      {
        "duration": 30912,
        "start_time": "2022-02-07T10:02:43.963Z"
      },
      {
        "duration": 20,
        "start_time": "2022-02-07T10:03:14.877Z"
      },
      {
        "duration": 17,
        "start_time": "2022-02-07T10:03:14.899Z"
      },
      {
        "duration": 898,
        "start_time": "2022-02-07T10:06:00.564Z"
      },
      {
        "duration": 14,
        "start_time": "2022-02-07T10:06:01.465Z"
      },
      {
        "duration": 10,
        "start_time": "2022-02-07T10:06:01.482Z"
      },
      {
        "duration": 19,
        "start_time": "2022-02-07T10:06:01.495Z"
      },
      {
        "duration": 56,
        "start_time": "2022-02-07T10:06:01.517Z"
      },
      {
        "duration": 9,
        "start_time": "2022-02-07T10:06:01.576Z"
      },
      {
        "duration": 9,
        "start_time": "2022-02-07T10:06:01.588Z"
      },
      {
        "duration": 35,
        "start_time": "2022-02-07T10:06:01.601Z"
      },
      {
        "duration": 28,
        "start_time": "2022-02-07T10:06:01.639Z"
      },
      {
        "duration": 19,
        "start_time": "2022-02-07T10:06:01.670Z"
      },
      {
        "duration": 29,
        "start_time": "2022-02-07T10:06:01.692Z"
      },
      {
        "duration": 7,
        "start_time": "2022-02-07T10:06:01.724Z"
      },
      {
        "duration": 25,
        "start_time": "2022-02-07T10:06:01.733Z"
      },
      {
        "duration": 32,
        "start_time": "2022-02-07T10:06:01.760Z"
      },
      {
        "duration": 30,
        "start_time": "2022-02-07T10:06:01.795Z"
      },
      {
        "duration": 18,
        "start_time": "2022-02-07T10:06:01.827Z"
      },
      {
        "duration": 14,
        "start_time": "2022-02-07T10:06:01.848Z"
      },
      {
        "duration": 30,
        "start_time": "2022-02-07T10:06:01.864Z"
      },
      {
        "duration": 9,
        "start_time": "2022-02-07T10:06:01.897Z"
      },
      {
        "duration": 26,
        "start_time": "2022-02-07T10:06:01.909Z"
      },
      {
        "duration": 12,
        "start_time": "2022-02-07T10:06:01.937Z"
      },
      {
        "duration": 13,
        "start_time": "2022-02-07T10:06:01.952Z"
      },
      {
        "duration": 47,
        "start_time": "2022-02-07T10:06:01.969Z"
      },
      {
        "duration": 30,
        "start_time": "2022-02-07T10:06:02.019Z"
      },
      {
        "duration": 36,
        "start_time": "2022-02-07T10:06:02.051Z"
      },
      {
        "duration": 14,
        "start_time": "2022-02-07T10:06:02.090Z"
      },
      {
        "duration": 41,
        "start_time": "2022-02-07T10:06:02.107Z"
      },
      {
        "duration": 18,
        "start_time": "2022-02-07T10:06:02.151Z"
      },
      {
        "duration": 22,
        "start_time": "2022-02-07T10:06:02.173Z"
      },
      {
        "duration": 25,
        "start_time": "2022-02-07T10:06:02.198Z"
      },
      {
        "duration": 28,
        "start_time": "2022-02-07T10:06:02.226Z"
      },
      {
        "duration": 416,
        "start_time": "2022-02-07T10:06:02.257Z"
      },
      {
        "duration": 40,
        "start_time": "2022-02-07T10:06:02.635Z"
      },
      {
        "duration": 35,
        "start_time": "2022-02-07T10:06:02.642Z"
      },
      {
        "duration": 870,
        "start_time": "2022-02-07T10:07:56.375Z"
      },
      {
        "duration": 17,
        "start_time": "2022-02-07T10:07:57.248Z"
      },
      {
        "duration": 6,
        "start_time": "2022-02-07T10:07:57.270Z"
      },
      {
        "duration": 16,
        "start_time": "2022-02-07T10:07:57.280Z"
      },
      {
        "duration": 99,
        "start_time": "2022-02-07T10:07:57.299Z"
      },
      {
        "duration": 10,
        "start_time": "2022-02-07T10:07:57.400Z"
      },
      {
        "duration": 8,
        "start_time": "2022-02-07T10:07:57.413Z"
      },
      {
        "duration": 8,
        "start_time": "2022-02-07T10:07:57.450Z"
      },
      {
        "duration": 11,
        "start_time": "2022-02-07T10:07:57.461Z"
      },
      {
        "duration": 8,
        "start_time": "2022-02-07T10:07:57.474Z"
      },
      {
        "duration": 27,
        "start_time": "2022-02-07T10:07:57.485Z"
      },
      {
        "duration": 38,
        "start_time": "2022-02-07T10:07:57.515Z"
      },
      {
        "duration": 14,
        "start_time": "2022-02-07T10:07:57.556Z"
      },
      {
        "duration": 18,
        "start_time": "2022-02-07T10:07:57.573Z"
      },
      {
        "duration": 56,
        "start_time": "2022-02-07T10:07:57.594Z"
      },
      {
        "duration": 11,
        "start_time": "2022-02-07T10:07:57.654Z"
      },
      {
        "duration": 8,
        "start_time": "2022-02-07T10:07:57.668Z"
      },
      {
        "duration": 15,
        "start_time": "2022-02-07T10:07:57.678Z"
      },
      {
        "duration": 7,
        "start_time": "2022-02-07T10:07:57.696Z"
      },
      {
        "duration": 54,
        "start_time": "2022-02-07T10:07:57.706Z"
      },
      {
        "duration": 7,
        "start_time": "2022-02-07T10:07:57.762Z"
      },
      {
        "duration": 13,
        "start_time": "2022-02-07T10:07:57.772Z"
      },
      {
        "duration": 7,
        "start_time": "2022-02-07T10:07:57.790Z"
      },
      {
        "duration": 58,
        "start_time": "2022-02-07T10:07:57.800Z"
      },
      {
        "duration": 27,
        "start_time": "2022-02-07T10:07:57.860Z"
      },
      {
        "duration": 10,
        "start_time": "2022-02-07T10:07:57.889Z"
      },
      {
        "duration": 66,
        "start_time": "2022-02-07T10:07:57.901Z"
      },
      {
        "duration": 9,
        "start_time": "2022-02-07T10:07:57.969Z"
      },
      {
        "duration": 12,
        "start_time": "2022-02-07T10:07:57.980Z"
      },
      {
        "duration": 18,
        "start_time": "2022-02-07T10:07:57.994Z"
      },
      {
        "duration": 39,
        "start_time": "2022-02-07T10:07:58.014Z"
      },
      {
        "duration": 39253,
        "start_time": "2022-02-07T10:07:58.056Z"
      },
      {
        "duration": 49,
        "start_time": "2022-02-07T10:08:37.312Z"
      },
      {
        "duration": 26,
        "start_time": "2022-02-07T10:08:37.364Z"
      },
      {
        "duration": 15,
        "start_time": "2022-02-07T10:10:54.885Z"
      },
      {
        "duration": 6,
        "start_time": "2022-02-07T14:08:55.902Z"
      },
      {
        "duration": 11,
        "start_time": "2022-02-07T14:09:09.179Z"
      },
      {
        "duration": 12,
        "start_time": "2022-02-07T14:10:12.782Z"
      },
      {
        "duration": 23,
        "start_time": "2022-02-07T14:18:05.370Z"
      },
      {
        "duration": 17,
        "start_time": "2022-02-07T14:19:05.825Z"
      },
      {
        "duration": 28,
        "start_time": "2022-02-07T14:19:18.857Z"
      },
      {
        "duration": 17,
        "start_time": "2022-02-07T14:23:22.557Z"
      },
      {
        "duration": 104,
        "start_time": "2022-02-07T14:45:53.051Z"
      },
      {
        "duration": 550,
        "start_time": "2022-02-07T14:45:58.826Z"
      },
      {
        "duration": 97,
        "start_time": "2022-02-07T14:46:10.068Z"
      },
      {
        "duration": 109,
        "start_time": "2022-02-07T14:46:29.445Z"
      },
      {
        "duration": 334,
        "start_time": "2022-02-07T14:46:53.820Z"
      },
      {
        "duration": 1071,
        "start_time": "2022-02-07T14:47:13.098Z"
      },
      {
        "duration": 436,
        "start_time": "2022-02-07T14:47:22.906Z"
      },
      {
        "duration": 27,
        "start_time": "2022-02-07T14:48:37.037Z"
      },
      {
        "duration": 28,
        "start_time": "2022-02-07T14:48:53.002Z"
      },
      {
        "duration": 827,
        "start_time": "2022-02-07T14:49:08.255Z"
      },
      {
        "duration": 15,
        "start_time": "2022-02-07T14:49:09.085Z"
      },
      {
        "duration": 6,
        "start_time": "2022-02-07T14:49:09.103Z"
      },
      {
        "duration": 38,
        "start_time": "2022-02-07T14:49:09.112Z"
      },
      {
        "duration": 42,
        "start_time": "2022-02-07T14:49:09.153Z"
      },
      {
        "duration": 56,
        "start_time": "2022-02-07T14:49:09.198Z"
      },
      {
        "duration": 7,
        "start_time": "2022-02-07T14:49:09.257Z"
      },
      {
        "duration": 9,
        "start_time": "2022-02-07T14:49:09.271Z"
      },
      {
        "duration": 66,
        "start_time": "2022-02-07T14:49:09.284Z"
      },
      {
        "duration": 8,
        "start_time": "2022-02-07T14:49:09.353Z"
      },
      {
        "duration": 33,
        "start_time": "2022-02-07T14:49:09.364Z"
      },
      {
        "duration": 50,
        "start_time": "2022-02-07T14:49:09.400Z"
      },
      {
        "duration": 11,
        "start_time": "2022-02-07T14:49:09.452Z"
      },
      {
        "duration": 13,
        "start_time": "2022-02-07T14:49:09.465Z"
      },
      {
        "duration": 16,
        "start_time": "2022-02-07T14:49:09.480Z"
      },
      {
        "duration": 57,
        "start_time": "2022-02-07T14:49:09.498Z"
      },
      {
        "duration": 17,
        "start_time": "2022-02-07T14:49:09.558Z"
      },
      {
        "duration": 19,
        "start_time": "2022-02-07T14:49:09.578Z"
      },
      {
        "duration": 19,
        "start_time": "2022-02-07T14:49:09.600Z"
      },
      {
        "duration": 44,
        "start_time": "2022-02-07T14:49:09.622Z"
      },
      {
        "duration": 10,
        "start_time": "2022-02-07T14:49:09.669Z"
      },
      {
        "duration": 11,
        "start_time": "2022-02-07T14:49:09.682Z"
      },
      {
        "duration": 12,
        "start_time": "2022-02-07T14:49:09.751Z"
      },
      {
        "duration": 10,
        "start_time": "2022-02-07T14:49:09.767Z"
      },
      {
        "duration": 24,
        "start_time": "2022-02-07T14:49:09.779Z"
      },
      {
        "duration": 10,
        "start_time": "2022-02-07T14:49:09.849Z"
      },
      {
        "duration": 27,
        "start_time": "2022-02-07T14:49:09.861Z"
      },
      {
        "duration": 10,
        "start_time": "2022-02-07T14:49:09.890Z"
      },
      {
        "duration": 57,
        "start_time": "2022-02-07T14:49:09.902Z"
      },
      {
        "duration": 23,
        "start_time": "2022-02-07T14:49:09.962Z"
      },
      {
        "duration": 20,
        "start_time": "2022-02-07T14:49:09.988Z"
      },
      {
        "duration": 17,
        "start_time": "2022-02-07T14:49:10.048Z"
      },
      {
        "duration": 25,
        "start_time": "2022-02-07T14:49:10.068Z"
      },
      {
        "duration": 64,
        "start_time": "2022-02-07T14:49:10.097Z"
      },
      {
        "duration": 24,
        "start_time": "2022-02-07T14:49:10.165Z"
      },
      {
        "duration": 15,
        "start_time": "2022-02-07T14:49:10.192Z"
      },
      {
        "duration": 31,
        "start_time": "2022-02-07T14:49:10.249Z"
      },
      {
        "duration": 22,
        "start_time": "2022-02-07T14:50:47.872Z"
      },
      {
        "duration": 354,
        "start_time": "2022-02-08T09:05:27.964Z"
      },
      {
        "duration": 870,
        "start_time": "2022-02-08T09:05:37.923Z"
      },
      {
        "duration": 31,
        "start_time": "2022-02-08T09:05:38.795Z"
      },
      {
        "duration": 5,
        "start_time": "2022-02-08T09:05:38.833Z"
      },
      {
        "duration": 18,
        "start_time": "2022-02-08T09:05:38.841Z"
      },
      {
        "duration": 88,
        "start_time": "2022-02-08T09:05:38.862Z"
      },
      {
        "duration": 12,
        "start_time": "2022-02-08T09:05:38.953Z"
      },
      {
        "duration": 6,
        "start_time": "2022-02-08T09:05:38.970Z"
      },
      {
        "duration": 49,
        "start_time": "2022-02-08T09:05:38.980Z"
      },
      {
        "duration": 8,
        "start_time": "2022-02-08T09:05:39.032Z"
      },
      {
        "duration": 7,
        "start_time": "2022-02-08T09:05:39.043Z"
      },
      {
        "duration": 84,
        "start_time": "2022-02-08T09:05:39.053Z"
      },
      {
        "duration": 6,
        "start_time": "2022-02-08T09:05:39.140Z"
      },
      {
        "duration": 10,
        "start_time": "2022-02-08T09:05:39.148Z"
      },
      {
        "duration": 64,
        "start_time": "2022-02-08T09:05:39.160Z"
      },
      {
        "duration": 17,
        "start_time": "2022-02-08T09:05:39.226Z"
      },
      {
        "duration": 8,
        "start_time": "2022-02-08T09:05:39.246Z"
      },
      {
        "duration": 4,
        "start_time": "2022-02-08T09:05:39.257Z"
      },
      {
        "duration": 62,
        "start_time": "2022-02-08T09:05:39.264Z"
      },
      {
        "duration": 8,
        "start_time": "2022-02-08T09:05:39.329Z"
      },
      {
        "duration": 16,
        "start_time": "2022-02-08T09:05:39.340Z"
      },
      {
        "duration": 9,
        "start_time": "2022-02-08T09:05:39.358Z"
      },
      {
        "duration": 8,
        "start_time": "2022-02-08T09:05:39.425Z"
      },
      {
        "duration": 9,
        "start_time": "2022-02-08T09:05:39.436Z"
      },
      {
        "duration": 10,
        "start_time": "2022-02-08T09:05:39.448Z"
      },
      {
        "duration": 78,
        "start_time": "2022-02-08T09:05:39.461Z"
      },
      {
        "duration": 11,
        "start_time": "2022-02-08T09:05:39.542Z"
      },
      {
        "duration": 71,
        "start_time": "2022-02-08T09:05:39.556Z"
      },
      {
        "duration": 10,
        "start_time": "2022-02-08T09:05:39.630Z"
      },
      {
        "duration": 14,
        "start_time": "2022-02-08T09:05:39.643Z"
      },
      {
        "duration": 64,
        "start_time": "2022-02-08T09:05:39.659Z"
      },
      {
        "duration": 21,
        "start_time": "2022-02-08T09:05:39.727Z"
      },
      {
        "duration": 23,
        "start_time": "2022-02-08T09:05:39.751Z"
      },
      {
        "duration": 67,
        "start_time": "2022-02-08T09:05:39.777Z"
      },
      {
        "duration": 26,
        "start_time": "2022-02-08T09:05:39.847Z"
      },
      {
        "duration": 19,
        "start_time": "2022-02-08T09:05:39.876Z"
      },
      {
        "duration": 8823,
        "start_time": "2022-02-08T09:05:39.924Z"
      },
      {
        "duration": 567,
        "start_time": "2022-02-08T09:05:48.182Z"
      },
      {
        "duration": 565,
        "start_time": "2022-02-08T09:05:48.186Z"
      },
      {
        "duration": 24,
        "start_time": "2022-02-08T09:06:01.457Z"
      },
      {
        "duration": 17,
        "start_time": "2022-02-08T09:06:45.058Z"
      },
      {
        "duration": 22,
        "start_time": "2022-02-08T09:06:47.687Z"
      },
      {
        "duration": 16,
        "start_time": "2022-02-08T09:06:49.914Z"
      },
      {
        "duration": 21,
        "start_time": "2022-02-08T09:08:57.319Z"
      },
      {
        "duration": 787,
        "start_time": "2022-02-08T09:09:11.575Z"
      },
      {
        "duration": 16,
        "start_time": "2022-02-08T09:09:12.365Z"
      },
      {
        "duration": 6,
        "start_time": "2022-02-08T09:09:12.386Z"
      },
      {
        "duration": 17,
        "start_time": "2022-02-08T09:09:12.425Z"
      },
      {
        "duration": 79,
        "start_time": "2022-02-08T09:09:12.446Z"
      },
      {
        "duration": 9,
        "start_time": "2022-02-08T09:09:12.527Z"
      },
      {
        "duration": 8,
        "start_time": "2022-02-08T09:09:12.539Z"
      },
      {
        "duration": 8,
        "start_time": "2022-02-08T09:09:12.551Z"
      },
      {
        "duration": 5,
        "start_time": "2022-02-08T09:09:12.563Z"
      },
      {
        "duration": 57,
        "start_time": "2022-02-08T09:09:12.571Z"
      },
      {
        "duration": 23,
        "start_time": "2022-02-08T09:09:12.630Z"
      },
      {
        "duration": 7,
        "start_time": "2022-02-08T09:09:12.655Z"
      },
      {
        "duration": 65,
        "start_time": "2022-02-08T09:09:12.664Z"
      },
      {
        "duration": 14,
        "start_time": "2022-02-08T09:09:12.731Z"
      },
      {
        "duration": 17,
        "start_time": "2022-02-08T09:09:12.748Z"
      },
      {
        "duration": 56,
        "start_time": "2022-02-08T09:09:12.767Z"
      },
      {
        "duration": 5,
        "start_time": "2022-02-08T09:09:12.826Z"
      },
      {
        "duration": 15,
        "start_time": "2022-02-08T09:09:12.834Z"
      },
      {
        "duration": 12,
        "start_time": "2022-02-08T09:09:12.852Z"
      },
      {
        "duration": 69,
        "start_time": "2022-02-08T09:09:12.867Z"
      },
      {
        "duration": 8,
        "start_time": "2022-02-08T09:09:12.939Z"
      },
      {
        "duration": 11,
        "start_time": "2022-02-08T09:09:12.950Z"
      },
      {
        "duration": 62,
        "start_time": "2022-02-08T09:09:12.969Z"
      },
      {
        "duration": 14,
        "start_time": "2022-02-08T09:09:13.035Z"
      },
      {
        "duration": 73,
        "start_time": "2022-02-08T09:09:13.052Z"
      },
      {
        "duration": 10,
        "start_time": "2022-02-08T09:09:13.128Z"
      },
      {
        "duration": 30,
        "start_time": "2022-02-08T09:09:13.140Z"
      },
      {
        "duration": 10,
        "start_time": "2022-02-08T09:09:13.172Z"
      },
      {
        "duration": 13,
        "start_time": "2022-02-08T09:09:13.225Z"
      },
      {
        "duration": 20,
        "start_time": "2022-02-08T09:09:13.241Z"
      },
      {
        "duration": 69,
        "start_time": "2022-02-08T09:09:13.264Z"
      },
      {
        "duration": 17,
        "start_time": "2022-02-08T09:09:13.335Z"
      },
      {
        "duration": 24,
        "start_time": "2022-02-08T09:09:13.354Z"
      },
      {
        "duration": 48,
        "start_time": "2022-02-08T09:09:13.381Z"
      },
      {
        "duration": 17,
        "start_time": "2022-02-08T09:09:13.431Z"
      },
      {
        "duration": 23,
        "start_time": "2022-02-08T09:09:13.451Z"
      },
      {
        "duration": 66,
        "start_time": "2022-02-08T09:09:13.476Z"
      },
      {
        "duration": 11,
        "start_time": "2022-02-08T09:09:13.544Z"
      },
      {
        "duration": 21,
        "start_time": "2022-02-08T09:09:13.557Z"
      },
      {
        "duration": 60,
        "start_time": "2022-02-08T09:09:13.581Z"
      },
      {
        "duration": 813,
        "start_time": "2022-02-08T09:09:59.940Z"
      },
      {
        "duration": 16,
        "start_time": "2022-02-08T09:10:00.757Z"
      },
      {
        "duration": 6,
        "start_time": "2022-02-08T09:10:00.779Z"
      },
      {
        "duration": 46,
        "start_time": "2022-02-08T09:10:00.788Z"
      },
      {
        "duration": 38,
        "start_time": "2022-02-08T09:10:00.836Z"
      },
      {
        "duration": 48,
        "start_time": "2022-02-08T09:10:00.876Z"
      },
      {
        "duration": 5,
        "start_time": "2022-02-08T09:10:00.928Z"
      },
      {
        "duration": 18,
        "start_time": "2022-02-08T09:10:00.937Z"
      },
      {
        "duration": 11,
        "start_time": "2022-02-08T09:10:00.958Z"
      },
      {
        "duration": 53,
        "start_time": "2022-02-08T09:10:00.972Z"
      },
      {
        "duration": 38,
        "start_time": "2022-02-08T09:10:01.028Z"
      },
      {
        "duration": 6,
        "start_time": "2022-02-08T09:10:01.069Z"
      },
      {
        "duration": 15,
        "start_time": "2022-02-08T09:10:01.078Z"
      },
      {
        "duration": 12,
        "start_time": "2022-02-08T09:10:01.124Z"
      },
      {
        "duration": 27,
        "start_time": "2022-02-08T09:10:01.139Z"
      },
      {
        "duration": 12,
        "start_time": "2022-02-08T09:10:01.169Z"
      },
      {
        "duration": 6,
        "start_time": "2022-02-08T09:10:01.225Z"
      },
      {
        "duration": 39,
        "start_time": "2022-02-08T09:10:01.234Z"
      },
      {
        "duration": 22,
        "start_time": "2022-02-08T09:10:01.276Z"
      },
      {
        "duration": 42,
        "start_time": "2022-02-08T09:10:01.301Z"
      },
      {
        "duration": 21,
        "start_time": "2022-02-08T09:10:01.346Z"
      },
      {
        "duration": 11,
        "start_time": "2022-02-08T09:10:01.375Z"
      },
      {
        "duration": 41,
        "start_time": "2022-02-08T09:10:01.390Z"
      },
      {
        "duration": 23,
        "start_time": "2022-02-08T09:10:01.434Z"
      },
      {
        "duration": 43,
        "start_time": "2022-02-08T09:10:01.460Z"
      },
      {
        "duration": 21,
        "start_time": "2022-02-08T09:10:01.506Z"
      },
      {
        "duration": 39,
        "start_time": "2022-02-08T09:10:01.529Z"
      },
      {
        "duration": 28,
        "start_time": "2022-02-08T09:10:01.570Z"
      },
      {
        "duration": 27,
        "start_time": "2022-02-08T09:10:01.601Z"
      },
      {
        "duration": 36,
        "start_time": "2022-02-08T09:10:01.631Z"
      },
      {
        "duration": 53,
        "start_time": "2022-02-08T09:10:01.670Z"
      },
      {
        "duration": 18,
        "start_time": "2022-02-08T09:10:01.726Z"
      },
      {
        "duration": 25,
        "start_time": "2022-02-08T09:10:01.747Z"
      },
      {
        "duration": 54,
        "start_time": "2022-02-08T09:10:01.775Z"
      },
      {
        "duration": 17,
        "start_time": "2022-02-08T09:10:01.832Z"
      },
      {
        "duration": 32,
        "start_time": "2022-02-08T09:10:01.851Z"
      },
      {
        "duration": 45,
        "start_time": "2022-02-08T09:10:01.885Z"
      },
      {
        "duration": 10,
        "start_time": "2022-02-08T09:10:01.933Z"
      },
      {
        "duration": 24,
        "start_time": "2022-02-08T09:10:01.946Z"
      },
      {
        "duration": 54,
        "start_time": "2022-02-08T09:10:01.972Z"
      },
      {
        "duration": 21,
        "start_time": "2022-02-08T09:10:22.458Z"
      },
      {
        "duration": 839,
        "start_time": "2022-02-08T09:10:52.703Z"
      },
      {
        "duration": 20,
        "start_time": "2022-02-08T09:10:53.545Z"
      },
      {
        "duration": 6,
        "start_time": "2022-02-08T09:10:53.568Z"
      },
      {
        "duration": 47,
        "start_time": "2022-02-08T09:10:53.577Z"
      },
      {
        "duration": 35,
        "start_time": "2022-02-08T09:10:53.627Z"
      },
      {
        "duration": 11,
        "start_time": "2022-02-08T09:10:53.664Z"
      },
      {
        "duration": 46,
        "start_time": "2022-02-08T09:10:53.677Z"
      },
      {
        "duration": 7,
        "start_time": "2022-02-08T09:10:53.727Z"
      },
      {
        "duration": 8,
        "start_time": "2022-02-08T09:10:53.737Z"
      },
      {
        "duration": 12,
        "start_time": "2022-02-08T09:10:53.748Z"
      },
      {
        "duration": 71,
        "start_time": "2022-02-08T09:10:53.762Z"
      },
      {
        "duration": 6,
        "start_time": "2022-02-08T09:10:53.835Z"
      },
      {
        "duration": 10,
        "start_time": "2022-02-08T09:10:53.843Z"
      },
      {
        "duration": 21,
        "start_time": "2022-02-08T09:10:53.856Z"
      },
      {
        "duration": 51,
        "start_time": "2022-02-08T09:10:53.879Z"
      },
      {
        "duration": 9,
        "start_time": "2022-02-08T09:10:53.932Z"
      },
      {
        "duration": 14,
        "start_time": "2022-02-08T09:10:53.943Z"
      },
      {
        "duration": 13,
        "start_time": "2022-02-08T09:10:53.960Z"
      },
      {
        "duration": 49,
        "start_time": "2022-02-08T09:10:53.976Z"
      },
      {
        "duration": 16,
        "start_time": "2022-02-08T09:10:54.027Z"
      },
      {
        "duration": 8,
        "start_time": "2022-02-08T09:10:54.046Z"
      },
      {
        "duration": 10,
        "start_time": "2022-02-08T09:10:54.056Z"
      },
      {
        "duration": 57,
        "start_time": "2022-02-08T09:10:54.072Z"
      },
      {
        "duration": 12,
        "start_time": "2022-02-08T09:10:54.132Z"
      },
      {
        "duration": 23,
        "start_time": "2022-02-08T09:10:54.147Z"
      },
      {
        "duration": 55,
        "start_time": "2022-02-08T09:10:54.173Z"
      },
      {
        "duration": 29,
        "start_time": "2022-02-08T09:10:54.230Z"
      },
      {
        "duration": 10,
        "start_time": "2022-02-08T09:10:54.261Z"
      },
      {
        "duration": 51,
        "start_time": "2022-02-08T09:10:54.273Z"
      },
      {
        "duration": 15,
        "start_time": "2022-02-08T09:10:54.327Z"
      },
      {
        "duration": 18,
        "start_time": "2022-02-08T09:10:54.345Z"
      },
      {
        "duration": 15,
        "start_time": "2022-02-08T09:10:54.366Z"
      },
      {
        "duration": 54,
        "start_time": "2022-02-08T09:10:54.384Z"
      },
      {
        "duration": 18,
        "start_time": "2022-02-08T09:10:54.440Z"
      },
      {
        "duration": 64,
        "start_time": "2022-02-08T09:10:54.460Z"
      },
      {
        "duration": 28,
        "start_time": "2022-02-08T09:10:54.527Z"
      },
      {
        "duration": 21,
        "start_time": "2022-02-08T09:10:54.558Z"
      },
      {
        "duration": 55,
        "start_time": "2022-02-08T09:10:54.582Z"
      },
      {
        "duration": 23,
        "start_time": "2022-02-08T09:10:54.649Z"
      },
      {
        "duration": 50,
        "start_time": "2022-02-08T09:10:54.675Z"
      },
      {
        "duration": 25,
        "start_time": "2022-02-08T09:16:44.826Z"
      },
      {
        "duration": 815,
        "start_time": "2022-02-08T09:18:17.517Z"
      },
      {
        "duration": 14,
        "start_time": "2022-02-08T09:18:18.335Z"
      },
      {
        "duration": 5,
        "start_time": "2022-02-08T09:18:18.353Z"
      },
      {
        "duration": 13,
        "start_time": "2022-02-08T09:18:18.360Z"
      },
      {
        "duration": 76,
        "start_time": "2022-02-08T09:18:18.376Z"
      },
      {
        "duration": 10,
        "start_time": "2022-02-08T09:18:18.454Z"
      },
      {
        "duration": 6,
        "start_time": "2022-02-08T09:18:18.466Z"
      },
      {
        "duration": 6,
        "start_time": "2022-02-08T09:18:18.476Z"
      },
      {
        "duration": 6,
        "start_time": "2022-02-08T09:18:18.525Z"
      },
      {
        "duration": 8,
        "start_time": "2022-02-08T09:18:18.533Z"
      },
      {
        "duration": 28,
        "start_time": "2022-02-08T09:18:18.543Z"
      },
      {
        "duration": 8,
        "start_time": "2022-02-08T09:18:18.623Z"
      },
      {
        "duration": 10,
        "start_time": "2022-02-08T09:18:18.633Z"
      },
      {
        "duration": 13,
        "start_time": "2022-02-08T09:18:18.645Z"
      },
      {
        "duration": 73,
        "start_time": "2022-02-08T09:18:18.661Z"
      },
      {
        "duration": 8,
        "start_time": "2022-02-08T09:18:18.737Z"
      },
      {
        "duration": 5,
        "start_time": "2022-02-08T09:18:18.748Z"
      },
      {
        "duration": 14,
        "start_time": "2022-02-08T09:18:18.756Z"
      },
      {
        "duration": 53,
        "start_time": "2022-02-08T09:18:18.772Z"
      },
      {
        "duration": 17,
        "start_time": "2022-02-08T09:18:18.827Z"
      },
      {
        "duration": 8,
        "start_time": "2022-02-08T09:18:18.847Z"
      },
      {
        "duration": 9,
        "start_time": "2022-02-08T09:18:18.858Z"
      },
      {
        "duration": 9,
        "start_time": "2022-02-08T09:18:18.922Z"
      },
      {
        "duration": 11,
        "start_time": "2022-02-08T09:18:18.934Z"
      },
      {
        "duration": 26,
        "start_time": "2022-02-08T09:18:18.948Z"
      },
      {
        "duration": 52,
        "start_time": "2022-02-08T09:18:18.976Z"
      },
      {
        "duration": 27,
        "start_time": "2022-02-08T09:18:19.031Z"
      },
      {
        "duration": 10,
        "start_time": "2022-02-08T09:18:19.060Z"
      },
      {
        "duration": 10,
        "start_time": "2022-02-08T09:18:19.072Z"
      },
      {
        "duration": 17,
        "start_time": "2022-02-08T09:18:19.124Z"
      },
      {
        "duration": 20,
        "start_time": "2022-02-08T09:18:19.143Z"
      },
      {
        "duration": 61,
        "start_time": "2022-02-08T09:18:19.166Z"
      },
      {
        "duration": 18,
        "start_time": "2022-02-08T09:18:19.231Z"
      },
      {
        "duration": 18,
        "start_time": "2022-02-08T09:18:19.252Z"
      },
      {
        "duration": 59,
        "start_time": "2022-02-08T09:18:19.273Z"
      },
      {
        "duration": 23,
        "start_time": "2022-02-08T09:18:19.335Z"
      },
      {
        "duration": 9,
        "start_time": "2022-02-08T09:18:19.361Z"
      },
      {
        "duration": 65,
        "start_time": "2022-02-08T09:18:19.372Z"
      },
      {
        "duration": 22,
        "start_time": "2022-02-08T09:18:19.440Z"
      },
      {
        "duration": 864,
        "start_time": "2022-02-08T11:23:09.484Z"
      },
      {
        "duration": 18,
        "start_time": "2022-02-08T11:23:10.351Z"
      },
      {
        "duration": 6,
        "start_time": "2022-02-08T11:23:10.373Z"
      },
      {
        "duration": 47,
        "start_time": "2022-02-08T11:23:10.381Z"
      },
      {
        "duration": 36,
        "start_time": "2022-02-08T11:23:10.431Z"
      },
      {
        "duration": 6,
        "start_time": "2022-02-08T11:23:10.471Z"
      },
      {
        "duration": 46,
        "start_time": "2022-02-08T11:23:10.480Z"
      },
      {
        "duration": 7,
        "start_time": "2022-02-08T11:23:10.530Z"
      },
      {
        "duration": 6,
        "start_time": "2022-02-08T11:23:10.540Z"
      },
      {
        "duration": 77,
        "start_time": "2022-02-08T11:23:10.548Z"
      },
      {
        "duration": 7,
        "start_time": "2022-02-08T11:23:10.628Z"
      },
      {
        "duration": 12,
        "start_time": "2022-02-08T11:23:10.637Z"
      },
      {
        "duration": 17,
        "start_time": "2022-02-08T11:23:10.651Z"
      },
      {
        "duration": 60,
        "start_time": "2022-02-08T11:23:10.670Z"
      },
      {
        "duration": 7,
        "start_time": "2022-02-08T11:23:10.732Z"
      },
      {
        "duration": 15,
        "start_time": "2022-02-08T11:23:10.741Z"
      },
      {
        "duration": 9,
        "start_time": "2022-02-08T11:23:10.758Z"
      },
      {
        "duration": 69,
        "start_time": "2022-02-08T11:23:10.769Z"
      },
      {
        "duration": 8,
        "start_time": "2022-02-08T11:23:10.840Z"
      },
      {
        "duration": 13,
        "start_time": "2022-02-08T11:23:10.850Z"
      },
      {
        "duration": 8,
        "start_time": "2022-02-08T11:23:10.865Z"
      },
      {
        "duration": 58,
        "start_time": "2022-02-08T11:23:10.875Z"
      },
      {
        "duration": 24,
        "start_time": "2022-02-08T11:23:10.940Z"
      },
      {
        "duration": 56,
        "start_time": "2022-02-08T11:23:10.967Z"
      },
      {
        "duration": 26,
        "start_time": "2022-02-08T11:23:11.026Z"
      },
      {
        "duration": 11,
        "start_time": "2022-02-08T11:23:11.054Z"
      },
      {
        "duration": 10,
        "start_time": "2022-02-08T11:23:11.067Z"
      },
      {
        "duration": 56,
        "start_time": "2022-02-08T11:23:11.080Z"
      },
      {
        "duration": 22,
        "start_time": "2022-02-08T11:23:11.139Z"
      },
      {
        "duration": 18,
        "start_time": "2022-02-08T11:23:11.163Z"
      },
      {
        "duration": 55,
        "start_time": "2022-02-08T11:23:11.183Z"
      },
      {
        "duration": 19,
        "start_time": "2022-02-08T11:23:11.241Z"
      },
      {
        "duration": 61,
        "start_time": "2022-02-08T11:23:11.262Z"
      },
      {
        "duration": 25,
        "start_time": "2022-02-08T11:23:11.325Z"
      },
      {
        "duration": 13,
        "start_time": "2022-02-08T11:23:11.352Z"
      },
      {
        "duration": 67,
        "start_time": "2022-02-08T11:23:11.367Z"
      },
      {
        "duration": 26,
        "start_time": "2022-02-08T11:23:11.436Z"
      },
      {
        "duration": 383,
        "start_time": "2022-02-08T11:30:19.428Z"
      },
      {
        "duration": 317,
        "start_time": "2022-02-08T11:30:59.164Z"
      },
      {
        "duration": 295,
        "start_time": "2022-02-08T11:31:09.211Z"
      },
      {
        "duration": 348,
        "start_time": "2022-02-08T11:32:17.259Z"
      },
      {
        "duration": 287,
        "start_time": "2022-02-08T11:32:34.515Z"
      },
      {
        "duration": 846,
        "start_time": "2022-02-08T11:32:41.006Z"
      },
      {
        "duration": 19,
        "start_time": "2022-02-08T11:32:41.855Z"
      },
      {
        "duration": 7,
        "start_time": "2022-02-08T11:32:41.878Z"
      },
      {
        "duration": 48,
        "start_time": "2022-02-08T11:32:41.887Z"
      },
      {
        "duration": 36,
        "start_time": "2022-02-08T11:32:41.937Z"
      },
      {
        "duration": 5,
        "start_time": "2022-02-08T11:32:41.975Z"
      },
      {
        "duration": 7,
        "start_time": "2022-02-08T11:32:42.022Z"
      },
      {
        "duration": 6,
        "start_time": "2022-02-08T11:32:42.033Z"
      },
      {
        "duration": 5,
        "start_time": "2022-02-08T11:32:42.043Z"
      },
      {
        "duration": 75,
        "start_time": "2022-02-08T11:32:42.051Z"
      },
      {
        "duration": 6,
        "start_time": "2022-02-08T11:32:42.128Z"
      },
      {
        "duration": 15,
        "start_time": "2022-02-08T11:32:42.136Z"
      },
      {
        "duration": 16,
        "start_time": "2022-02-08T11:32:42.154Z"
      },
      {
        "duration": 55,
        "start_time": "2022-02-08T11:32:42.172Z"
      },
      {
        "duration": 7,
        "start_time": "2022-02-08T11:32:42.229Z"
      },
      {
        "duration": 13,
        "start_time": "2022-02-08T11:32:42.238Z"
      },
      {
        "duration": 9,
        "start_time": "2022-02-08T11:32:42.254Z"
      },
      {
        "duration": 65,
        "start_time": "2022-02-08T11:32:42.265Z"
      },
      {
        "duration": 8,
        "start_time": "2022-02-08T11:32:42.332Z"
      },
      {
        "duration": 11,
        "start_time": "2022-02-08T11:32:42.344Z"
      },
      {
        "duration": 7,
        "start_time": "2022-02-08T11:32:42.357Z"
      },
      {
        "duration": 65,
        "start_time": "2022-02-08T11:32:42.366Z"
      },
      {
        "duration": 23,
        "start_time": "2022-02-08T11:32:42.437Z"
      },
      {
        "duration": 9,
        "start_time": "2022-02-08T11:32:42.463Z"
      },
      {
        "duration": 67,
        "start_time": "2022-02-08T11:32:42.474Z"
      },
      {
        "duration": 10,
        "start_time": "2022-02-08T11:32:42.544Z"
      },
      {
        "duration": 9,
        "start_time": "2022-02-08T11:32:42.556Z"
      },
      {
        "duration": 56,
        "start_time": "2022-02-08T11:32:42.568Z"
      },
      {
        "duration": 19,
        "start_time": "2022-02-08T11:32:42.627Z"
      },
      {
        "duration": 17,
        "start_time": "2022-02-08T11:32:42.648Z"
      },
      {
        "duration": 62,
        "start_time": "2022-02-08T11:32:42.667Z"
      },
      {
        "duration": 18,
        "start_time": "2022-02-08T11:32:42.732Z"
      },
      {
        "duration": 17,
        "start_time": "2022-02-08T11:32:42.753Z"
      },
      {
        "duration": 62,
        "start_time": "2022-02-08T11:32:42.772Z"
      },
      {
        "duration": 22,
        "start_time": "2022-02-08T11:32:42.836Z"
      },
      {
        "duration": 24,
        "start_time": "2022-02-08T11:32:42.861Z"
      },
      {
        "duration": 27,
        "start_time": "2022-02-08T11:32:42.924Z"
      },
      {
        "duration": 456,
        "start_time": "2022-02-08T11:32:42.955Z"
      },
      {
        "duration": 308,
        "start_time": "2022-02-08T11:33:13.490Z"
      },
      {
        "duration": 28,
        "start_time": "2022-02-08T11:34:35.873Z"
      },
      {
        "duration": 27,
        "start_time": "2022-02-08T11:34:45.674Z"
      },
      {
        "duration": 59,
        "start_time": "2022-02-08T11:34:48.048Z"
      },
      {
        "duration": 410,
        "start_time": "2022-02-08T11:36:26.433Z"
      },
      {
        "duration": 65,
        "start_time": "2022-02-08T11:38:10.165Z"
      },
      {
        "duration": 829,
        "start_time": "2022-02-08T11:39:09.335Z"
      },
      {
        "duration": 19,
        "start_time": "2022-02-08T11:39:10.168Z"
      },
      {
        "duration": 35,
        "start_time": "2022-02-08T11:39:10.191Z"
      },
      {
        "duration": 16,
        "start_time": "2022-02-08T11:39:10.230Z"
      },
      {
        "duration": 77,
        "start_time": "2022-02-08T11:39:10.249Z"
      },
      {
        "duration": 5,
        "start_time": "2022-02-08T11:39:10.328Z"
      },
      {
        "duration": 14,
        "start_time": "2022-02-08T11:39:10.335Z"
      },
      {
        "duration": 6,
        "start_time": "2022-02-08T11:39:10.355Z"
      },
      {
        "duration": 58,
        "start_time": "2022-02-08T11:39:10.365Z"
      },
      {
        "duration": 27,
        "start_time": "2022-02-08T11:39:10.426Z"
      },
      {
        "duration": 7,
        "start_time": "2022-02-08T11:39:10.456Z"
      },
      {
        "duration": 59,
        "start_time": "2022-02-08T11:39:10.466Z"
      },
      {
        "duration": 21,
        "start_time": "2022-02-08T11:39:10.529Z"
      },
      {
        "duration": 10,
        "start_time": "2022-02-08T11:39:10.553Z"
      },
      {
        "duration": 5,
        "start_time": "2022-02-08T11:39:10.566Z"
      },
      {
        "duration": 13,
        "start_time": "2022-02-08T11:39:10.624Z"
      },
      {
        "duration": 8,
        "start_time": "2022-02-08T11:39:10.640Z"
      },
      {
        "duration": 16,
        "start_time": "2022-02-08T11:39:10.651Z"
      },
      {
        "duration": 61,
        "start_time": "2022-02-08T11:39:10.669Z"
      },
      {
        "duration": 12,
        "start_time": "2022-02-08T11:39:10.733Z"
      },
      {
        "duration": 11,
        "start_time": "2022-02-08T11:39:10.748Z"
      },
      {
        "duration": 64,
        "start_time": "2022-02-08T11:39:10.761Z"
      },
      {
        "duration": 24,
        "start_time": "2022-02-08T11:39:10.831Z"
      },
      {
        "duration": 11,
        "start_time": "2022-02-08T11:39:10.858Z"
      },
      {
        "duration": 61,
        "start_time": "2022-02-08T11:39:10.872Z"
      },
      {
        "duration": 10,
        "start_time": "2022-02-08T11:39:10.936Z"
      },
      {
        "duration": 9,
        "start_time": "2022-02-08T11:39:10.949Z"
      },
      {
        "duration": 65,
        "start_time": "2022-02-08T11:39:10.961Z"
      },
      {
        "duration": 18,
        "start_time": "2022-02-08T11:39:11.029Z"
      },
      {
        "duration": 16,
        "start_time": "2022-02-08T11:39:11.050Z"
      },
      {
        "duration": 66,
        "start_time": "2022-02-08T11:39:11.069Z"
      },
      {
        "duration": 27,
        "start_time": "2022-02-08T11:39:11.138Z"
      },
      {
        "duration": 18,
        "start_time": "2022-02-08T11:39:11.168Z"
      },
      {
        "duration": 24,
        "start_time": "2022-02-08T11:39:11.224Z"
      },
      {
        "duration": 33,
        "start_time": "2022-02-08T11:39:11.251Z"
      },
      {
        "duration": 46,
        "start_time": "2022-02-08T11:39:11.287Z"
      },
      {
        "duration": 39,
        "start_time": "2022-02-08T11:39:11.335Z"
      },
      {
        "duration": 67,
        "start_time": "2022-02-08T11:39:11.376Z"
      },
      {
        "duration": 388,
        "start_time": "2022-02-08T11:42:03.917Z"
      },
      {
        "duration": 293,
        "start_time": "2022-02-08T11:42:30.860Z"
      },
      {
        "duration": 42,
        "start_time": "2022-02-08T11:42:37.149Z"
      },
      {
        "duration": 31,
        "start_time": "2022-02-08T11:43:49.278Z"
      },
      {
        "duration": 55,
        "start_time": "2022-02-08T11:44:26.701Z"
      },
      {
        "duration": 385,
        "start_time": "2022-02-08T11:44:48.588Z"
      },
      {
        "duration": 304,
        "start_time": "2022-02-08T11:56:52.315Z"
      },
      {
        "duration": 281,
        "start_time": "2022-02-08T11:56:59.896Z"
      },
      {
        "duration": 14,
        "start_time": "2022-02-08T11:57:06.561Z"
      },
      {
        "duration": 60,
        "start_time": "2022-02-08T11:58:50.591Z"
      },
      {
        "duration": 59,
        "start_time": "2022-02-08T11:59:02.242Z"
      },
      {
        "duration": 349,
        "start_time": "2022-02-08T11:59:57.463Z"
      },
      {
        "duration": 29,
        "start_time": "2022-02-08T12:00:14.174Z"
      },
      {
        "duration": 26,
        "start_time": "2022-02-08T12:01:55.726Z"
      },
      {
        "duration": 804,
        "start_time": "2022-02-08T12:02:01.166Z"
      },
      {
        "duration": 15,
        "start_time": "2022-02-08T12:02:01.973Z"
      },
      {
        "duration": 31,
        "start_time": "2022-02-08T12:02:01.995Z"
      },
      {
        "duration": 22,
        "start_time": "2022-02-08T12:02:02.028Z"
      },
      {
        "duration": 37,
        "start_time": "2022-02-08T12:02:02.052Z"
      },
      {
        "duration": 34,
        "start_time": "2022-02-08T12:02:02.091Z"
      },
      {
        "duration": 8,
        "start_time": "2022-02-08T12:02:02.130Z"
      },
      {
        "duration": 7,
        "start_time": "2022-02-08T12:02:02.141Z"
      },
      {
        "duration": 6,
        "start_time": "2022-02-08T12:02:02.150Z"
      },
      {
        "duration": 77,
        "start_time": "2022-02-08T12:02:02.159Z"
      },
      {
        "duration": 7,
        "start_time": "2022-02-08T12:02:02.239Z"
      },
      {
        "duration": 17,
        "start_time": "2022-02-08T12:02:02.249Z"
      },
      {
        "duration": 70,
        "start_time": "2022-02-08T12:02:02.269Z"
      },
      {
        "duration": 11,
        "start_time": "2022-02-08T12:02:02.342Z"
      },
      {
        "duration": 16,
        "start_time": "2022-02-08T12:02:02.356Z"
      },
      {
        "duration": 56,
        "start_time": "2022-02-08T12:02:02.374Z"
      },
      {
        "duration": 11,
        "start_time": "2022-02-08T12:02:02.433Z"
      },
      {
        "duration": 18,
        "start_time": "2022-02-08T12:02:02.446Z"
      },
      {
        "duration": 9,
        "start_time": "2022-02-08T12:02:02.466Z"
      },
      {
        "duration": 8,
        "start_time": "2022-02-08T12:02:02.523Z"
      },
      {
        "duration": 13,
        "start_time": "2022-02-08T12:02:02.534Z"
      },
      {
        "duration": 9,
        "start_time": "2022-02-08T12:02:02.552Z"
      },
      {
        "duration": 67,
        "start_time": "2022-02-08T12:02:02.564Z"
      },
      {
        "duration": 12,
        "start_time": "2022-02-08T12:02:02.634Z"
      },
      {
        "duration": 25,
        "start_time": "2022-02-08T12:02:02.648Z"
      },
      {
        "duration": 49,
        "start_time": "2022-02-08T12:02:02.676Z"
      },
      {
        "duration": 10,
        "start_time": "2022-02-08T12:02:02.727Z"
      },
      {
        "duration": 27,
        "start_time": "2022-02-08T12:02:02.739Z"
      },
      {
        "duration": 37,
        "start_time": "2022-02-08T12:02:02.769Z"
      },
      {
        "duration": 18,
        "start_time": "2022-02-08T12:02:02.824Z"
      },
      {
        "duration": 34,
        "start_time": "2022-02-08T12:02:02.845Z"
      },
      {
        "duration": 44,
        "start_time": "2022-02-08T12:02:02.881Z"
      },
      {
        "duration": 16,
        "start_time": "2022-02-08T12:02:02.928Z"
      },
      {
        "duration": 21,
        "start_time": "2022-02-08T12:02:02.947Z"
      },
      {
        "duration": 13,
        "start_time": "2022-02-08T12:02:02.971Z"
      },
      {
        "duration": 21,
        "start_time": "2022-02-08T12:02:03.024Z"
      },
      {
        "duration": 23,
        "start_time": "2022-02-08T12:02:03.047Z"
      },
      {
        "duration": 61,
        "start_time": "2022-02-08T12:02:03.073Z"
      },
      {
        "duration": 55,
        "start_time": "2022-02-08T12:04:49.016Z"
      },
      {
        "duration": 30,
        "start_time": "2022-02-08T12:05:11.809Z"
      },
      {
        "duration": 29,
        "start_time": "2022-02-08T12:05:23.865Z"
      },
      {
        "duration": 25,
        "start_time": "2022-02-08T12:06:42.215Z"
      },
      {
        "duration": 468,
        "start_time": "2022-02-08T12:13:13.750Z"
      },
      {
        "duration": 838,
        "start_time": "2022-02-08T12:13:31.311Z"
      },
      {
        "duration": 19,
        "start_time": "2022-02-08T12:13:32.153Z"
      },
      {
        "duration": 7,
        "start_time": "2022-02-08T12:13:32.177Z"
      },
      {
        "duration": 47,
        "start_time": "2022-02-08T12:13:32.187Z"
      },
      {
        "duration": 40,
        "start_time": "2022-02-08T12:13:32.237Z"
      },
      {
        "duration": 6,
        "start_time": "2022-02-08T12:13:32.280Z"
      },
      {
        "duration": 41,
        "start_time": "2022-02-08T12:13:32.289Z"
      },
      {
        "duration": 6,
        "start_time": "2022-02-08T12:13:32.334Z"
      },
      {
        "duration": 11,
        "start_time": "2022-02-08T12:13:32.343Z"
      },
      {
        "duration": 71,
        "start_time": "2022-02-08T12:13:32.356Z"
      },
      {
        "duration": 5,
        "start_time": "2022-02-08T12:13:32.430Z"
      },
      {
        "duration": 30,
        "start_time": "2022-02-08T12:13:32.437Z"
      },
      {
        "duration": 17,
        "start_time": "2022-02-08T12:13:32.469Z"
      },
      {
        "duration": 38,
        "start_time": "2022-02-08T12:13:32.488Z"
      },
      {
        "duration": 12,
        "start_time": "2022-02-08T12:13:32.528Z"
      },
      {
        "duration": 17,
        "start_time": "2022-02-08T12:13:32.542Z"
      },
      {
        "duration": 9,
        "start_time": "2022-02-08T12:13:32.562Z"
      },
      {
        "duration": 58,
        "start_time": "2022-02-08T12:13:32.573Z"
      },
      {
        "duration": 9,
        "start_time": "2022-02-08T12:13:32.633Z"
      },
      {
        "duration": 13,
        "start_time": "2022-02-08T12:13:32.644Z"
      },
      {
        "duration": 8,
        "start_time": "2022-02-08T12:13:32.659Z"
      },
      {
        "duration": 56,
        "start_time": "2022-02-08T12:13:32.669Z"
      },
      {
        "duration": 25,
        "start_time": "2022-02-08T12:13:32.730Z"
      },
      {
        "duration": 16,
        "start_time": "2022-02-08T12:13:32.758Z"
      },
      {
        "duration": 63,
        "start_time": "2022-02-08T12:13:32.777Z"
      },
      {
        "duration": 8,
        "start_time": "2022-02-08T12:13:32.843Z"
      },
      {
        "duration": 12,
        "start_time": "2022-02-08T12:13:32.853Z"
      },
      {
        "duration": 57,
        "start_time": "2022-02-08T12:13:32.867Z"
      },
      {
        "duration": 19,
        "start_time": "2022-02-08T12:13:32.927Z"
      },
      {
        "duration": 16,
        "start_time": "2022-02-08T12:13:32.948Z"
      },
      {
        "duration": 59,
        "start_time": "2022-02-08T12:13:32.967Z"
      },
      {
        "duration": 18,
        "start_time": "2022-02-08T12:13:33.029Z"
      },
      {
        "duration": 16,
        "start_time": "2022-02-08T12:13:33.050Z"
      },
      {
        "duration": 63,
        "start_time": "2022-02-08T12:13:33.069Z"
      },
      {
        "duration": 10,
        "start_time": "2022-02-08T12:13:33.134Z"
      },
      {
        "duration": 26,
        "start_time": "2022-02-08T12:13:33.147Z"
      },
      {
        "duration": 63,
        "start_time": "2022-02-08T12:13:33.176Z"
      },
      {
        "duration": 27,
        "start_time": "2022-02-08T12:13:33.242Z"
      },
      {
        "duration": 5997,
        "start_time": "2022-02-08T12:13:33.272Z"
      },
      {
        "duration": 5851,
        "start_time": "2022-02-08T12:14:41.541Z"
      },
      {
        "duration": 30,
        "start_time": "2022-02-08T12:15:13.044Z"
      },
      {
        "duration": 13,
        "start_time": "2022-02-08T12:19:48.439Z"
      },
      {
        "duration": 13,
        "start_time": "2022-02-08T12:19:55.291Z"
      },
      {
        "duration": 8,
        "start_time": "2022-02-08T12:37:42.840Z"
      },
      {
        "duration": 5,
        "start_time": "2022-02-08T12:40:14.446Z"
      },
      {
        "duration": 7,
        "start_time": "2022-02-08T12:40:42.574Z"
      },
      {
        "duration": 6,
        "start_time": "2022-02-08T12:41:01.574Z"
      },
      {
        "duration": 6,
        "start_time": "2022-02-08T12:41:20.966Z"
      },
      {
        "duration": 249,
        "start_time": "2022-02-08T12:41:27.025Z"
      },
      {
        "duration": 5,
        "start_time": "2022-02-08T12:41:35.559Z"
      },
      {
        "duration": 6,
        "start_time": "2022-02-08T12:41:47.441Z"
      },
      {
        "duration": 4,
        "start_time": "2022-02-08T12:43:08.568Z"
      },
      {
        "duration": 6983,
        "start_time": "2022-02-08T13:14:31.088Z"
      },
      {
        "duration": 784,
        "start_time": "2022-02-08T13:14:54.951Z"
      },
      {
        "duration": 15,
        "start_time": "2022-02-08T13:14:55.737Z"
      },
      {
        "duration": 5,
        "start_time": "2022-02-08T13:14:55.756Z"
      },
      {
        "duration": 13,
        "start_time": "2022-02-08T13:14:55.763Z"
      },
      {
        "duration": 76,
        "start_time": "2022-02-08T13:14:55.778Z"
      },
      {
        "duration": 5,
        "start_time": "2022-02-08T13:14:55.856Z"
      },
      {
        "duration": 11,
        "start_time": "2022-02-08T13:14:55.863Z"
      },
      {
        "duration": 6,
        "start_time": "2022-02-08T13:14:55.876Z"
      },
      {
        "duration": 42,
        "start_time": "2022-02-08T13:14:55.885Z"
      },
      {
        "duration": 24,
        "start_time": "2022-02-08T13:14:55.930Z"
      },
      {
        "duration": 6,
        "start_time": "2022-02-08T13:14:55.956Z"
      },
      {
        "duration": 64,
        "start_time": "2022-02-08T13:14:55.964Z"
      },
      {
        "duration": 18,
        "start_time": "2022-02-08T13:14:56.030Z"
      },
      {
        "duration": 9,
        "start_time": "2022-02-08T13:14:56.051Z"
      },
      {
        "duration": 5,
        "start_time": "2022-02-08T13:14:56.063Z"
      },
      {
        "duration": 63,
        "start_time": "2022-02-08T13:14:56.071Z"
      },
      {
        "duration": 12,
        "start_time": "2022-02-08T13:14:56.137Z"
      },
      {
        "duration": 19,
        "start_time": "2022-02-08T13:14:56.152Z"
      },
      {
        "duration": 12,
        "start_time": "2022-02-08T13:14:56.223Z"
      },
      {
        "duration": 11,
        "start_time": "2022-02-08T13:14:56.238Z"
      },
      {
        "duration": 10,
        "start_time": "2022-02-08T13:14:56.252Z"
      },
      {
        "duration": 66,
        "start_time": "2022-02-08T13:14:56.265Z"
      },
      {
        "duration": 26,
        "start_time": "2022-02-08T13:14:56.335Z"
      },
      {
        "duration": 14,
        "start_time": "2022-02-08T13:14:56.364Z"
      },
      {
        "duration": 66,
        "start_time": "2022-02-08T13:14:56.381Z"
      },
      {
        "duration": 10,
        "start_time": "2022-02-08T13:14:56.450Z"
      },
      {
        "duration": 9,
        "start_time": "2022-02-08T13:14:56.465Z"
      },
      {
        "duration": 61,
        "start_time": "2022-02-08T13:14:56.477Z"
      },
      {
        "duration": 19,
        "start_time": "2022-02-08T13:14:56.540Z"
      },
      {
        "duration": 15,
        "start_time": "2022-02-08T13:14:56.562Z"
      },
      {
        "duration": 58,
        "start_time": "2022-02-08T13:14:56.580Z"
      },
      {
        "duration": 18,
        "start_time": "2022-02-08T13:14:56.641Z"
      },
      {
        "duration": 17,
        "start_time": "2022-02-08T13:14:56.661Z"
      },
      {
        "duration": 254,
        "start_time": "2022-02-08T13:14:56.681Z"
      },
      {
        "duration": 11,
        "start_time": "2022-02-08T13:14:56.937Z"
      },
      {
        "duration": 21,
        "start_time": "2022-02-08T13:14:56.951Z"
      },
      {
        "duration": 54,
        "start_time": "2022-02-08T13:14:56.975Z"
      },
      {
        "duration": 9,
        "start_time": "2022-02-08T13:14:57.032Z"
      },
      {
        "duration": 8,
        "start_time": "2022-02-08T13:14:57.043Z"
      },
      {
        "duration": 31,
        "start_time": "2022-02-08T13:14:57.053Z"
      },
      {
        "duration": 52,
        "start_time": "2022-02-08T13:14:57.086Z"
      },
      {
        "duration": 7210,
        "start_time": "2022-02-08T13:14:57.140Z"
      },
      {
        "duration": 7147,
        "start_time": "2022-02-08T13:15:21.071Z"
      },
      {
        "duration": 7371,
        "start_time": "2022-02-08T13:15:37.784Z"
      },
      {
        "duration": 8337,
        "start_time": "2022-02-08T13:16:01.417Z"
      },
      {
        "duration": 13,
        "start_time": "2022-02-08T13:18:19.207Z"
      },
      {
        "duration": 8,
        "start_time": "2022-02-08T13:19:33.335Z"
      },
      {
        "duration": 7,
        "start_time": "2022-02-08T13:19:45.864Z"
      },
      {
        "duration": 6,
        "start_time": "2022-02-08T13:21:07.686Z"
      },
      {
        "duration": 805,
        "start_time": "2022-02-08T13:25:26.679Z"
      },
      {
        "duration": 15,
        "start_time": "2022-02-08T13:25:27.487Z"
      },
      {
        "duration": 6,
        "start_time": "2022-02-08T13:25:27.523Z"
      },
      {
        "duration": 14,
        "start_time": "2022-02-08T13:25:27.531Z"
      },
      {
        "duration": 36,
        "start_time": "2022-02-08T13:25:27.548Z"
      },
      {
        "duration": 39,
        "start_time": "2022-02-08T13:25:27.586Z"
      },
      {
        "duration": 9,
        "start_time": "2022-02-08T13:25:27.629Z"
      },
      {
        "duration": 6,
        "start_time": "2022-02-08T13:25:27.644Z"
      },
      {
        "duration": 7,
        "start_time": "2022-02-08T13:25:27.655Z"
      },
      {
        "duration": 80,
        "start_time": "2022-02-08T13:25:27.664Z"
      },
      {
        "duration": 5,
        "start_time": "2022-02-08T13:25:27.747Z"
      },
      {
        "duration": 13,
        "start_time": "2022-02-08T13:25:27.754Z"
      },
      {
        "duration": 67,
        "start_time": "2022-02-08T13:25:27.769Z"
      },
      {
        "duration": 8,
        "start_time": "2022-02-08T13:25:27.838Z"
      },
      {
        "duration": 8,
        "start_time": "2022-02-08T13:25:27.848Z"
      },
      {
        "duration": 13,
        "start_time": "2022-02-08T13:25:27.859Z"
      },
      {
        "duration": 56,
        "start_time": "2022-02-08T13:25:27.874Z"
      },
      {
        "duration": 17,
        "start_time": "2022-02-08T13:25:27.932Z"
      },
      {
        "duration": 8,
        "start_time": "2022-02-08T13:25:27.952Z"
      },
      {
        "duration": 9,
        "start_time": "2022-02-08T13:25:27.963Z"
      },
      {
        "duration": 55,
        "start_time": "2022-02-08T13:25:27.974Z"
      },
      {
        "duration": 11,
        "start_time": "2022-02-08T13:25:28.031Z"
      },
      {
        "duration": 24,
        "start_time": "2022-02-08T13:25:28.048Z"
      },
      {
        "duration": 52,
        "start_time": "2022-02-08T13:25:28.075Z"
      },
      {
        "duration": 28,
        "start_time": "2022-02-08T13:25:28.130Z"
      },
      {
        "duration": 9,
        "start_time": "2022-02-08T13:25:28.161Z"
      },
      {
        "duration": 9,
        "start_time": "2022-02-08T13:25:28.173Z"
      },
      {
        "duration": 55,
        "start_time": "2022-02-08T13:25:28.184Z"
      },
      {
        "duration": 19,
        "start_time": "2022-02-08T13:25:28.242Z"
      },
      {
        "duration": 62,
        "start_time": "2022-02-08T13:25:28.264Z"
      },
      {
        "duration": 24,
        "start_time": "2022-02-08T13:25:28.328Z"
      },
      {
        "duration": 20,
        "start_time": "2022-02-08T13:25:28.355Z"
      },
      {
        "duration": 59,
        "start_time": "2022-02-08T13:25:28.378Z"
      },
      {
        "duration": 23,
        "start_time": "2022-02-08T13:25:28.439Z"
      },
      {
        "duration": 10,
        "start_time": "2022-02-08T13:25:28.464Z"
      },
      {
        "duration": 57,
        "start_time": "2022-02-08T13:25:28.477Z"
      },
      {
        "duration": 23,
        "start_time": "2022-02-08T13:25:28.537Z"
      },
      {
        "duration": 8,
        "start_time": "2022-02-08T13:25:28.563Z"
      },
      {
        "duration": 5,
        "start_time": "2022-02-08T13:25:28.573Z"
      },
      {
        "duration": 28,
        "start_time": "2022-02-08T13:25:28.623Z"
      },
      {
        "duration": 19,
        "start_time": "2022-02-08T13:25:28.654Z"
      },
      {
        "duration": 6,
        "start_time": "2022-02-08T13:25:28.675Z"
      },
      {
        "duration": 43,
        "start_time": "2022-02-08T13:26:17.739Z"
      },
      {
        "duration": 28,
        "start_time": "2022-02-08T14:40:28.378Z"
      },
      {
        "duration": 16,
        "start_time": "2022-02-08T14:41:06.767Z"
      },
      {
        "duration": 26,
        "start_time": "2022-02-08T14:41:39.352Z"
      },
      {
        "duration": 27,
        "start_time": "2022-02-08T14:41:48.073Z"
      },
      {
        "duration": 371,
        "start_time": "2022-02-08T14:42:57.864Z"
      },
      {
        "duration": 776,
        "start_time": "2022-02-08T14:43:20.476Z"
      },
      {
        "duration": 16,
        "start_time": "2022-02-08T14:43:21.255Z"
      },
      {
        "duration": 8,
        "start_time": "2022-02-08T14:43:21.274Z"
      },
      {
        "duration": 48,
        "start_time": "2022-02-08T14:43:21.284Z"
      },
      {
        "duration": 53,
        "start_time": "2022-02-08T14:43:21.335Z"
      },
      {
        "duration": 7,
        "start_time": "2022-02-08T14:43:21.391Z"
      },
      {
        "duration": 8,
        "start_time": "2022-02-08T14:43:21.424Z"
      },
      {
        "duration": 13,
        "start_time": "2022-02-08T14:43:21.436Z"
      },
      {
        "duration": 7,
        "start_time": "2022-02-08T14:43:21.452Z"
      },
      {
        "duration": 69,
        "start_time": "2022-02-08T14:43:21.462Z"
      },
      {
        "duration": 6,
        "start_time": "2022-02-08T14:43:21.534Z"
      },
      {
        "duration": 17,
        "start_time": "2022-02-08T14:43:21.543Z"
      },
      {
        "duration": 62,
        "start_time": "2022-02-08T14:43:21.563Z"
      },
      {
        "duration": 8,
        "start_time": "2022-02-08T14:43:21.627Z"
      },
      {
        "duration": 5,
        "start_time": "2022-02-08T14:43:21.638Z"
      },
      {
        "duration": 13,
        "start_time": "2022-02-08T14:43:21.645Z"
      },
      {
        "duration": 11,
        "start_time": "2022-02-08T14:43:21.660Z"
      },
      {
        "duration": 19,
        "start_time": "2022-02-08T14:43:21.724Z"
      },
      {
        "duration": 9,
        "start_time": "2022-02-08T14:43:21.745Z"
      },
      {
        "duration": 12,
        "start_time": "2022-02-08T14:43:21.757Z"
      },
      {
        "duration": 9,
        "start_time": "2022-02-08T14:43:21.823Z"
      },
      {
        "duration": 10,
        "start_time": "2022-02-08T14:43:21.835Z"
      },
      {
        "duration": 22,
        "start_time": "2022-02-08T14:43:21.851Z"
      },
      {
        "duration": 11,
        "start_time": "2022-02-08T14:43:21.923Z"
      },
      {
        "duration": 30,
        "start_time": "2022-02-08T14:43:21.937Z"
      },
      {
        "duration": 54,
        "start_time": "2022-02-08T14:43:21.969Z"
      },
      {
        "duration": 11,
        "start_time": "2022-02-08T14:43:22.026Z"
      },
      {
        "duration": 26,
        "start_time": "2022-02-08T14:43:22.040Z"
      },
      {
        "duration": 60,
        "start_time": "2022-02-08T14:43:22.068Z"
      },
      {
        "duration": 17,
        "start_time": "2022-02-08T14:43:22.130Z"
      },
      {
        "duration": 23,
        "start_time": "2022-02-08T14:43:22.149Z"
      },
      {
        "duration": 64,
        "start_time": "2022-02-08T14:43:22.175Z"
      },
      {
        "duration": 17,
        "start_time": "2022-02-08T14:43:22.242Z"
      },
      {
        "duration": 73,
        "start_time": "2022-02-08T14:43:22.262Z"
      },
      {
        "duration": 11,
        "start_time": "2022-02-08T14:43:22.337Z"
      },
      {
        "duration": 33,
        "start_time": "2022-02-08T14:43:22.351Z"
      },
      {
        "duration": 39,
        "start_time": "2022-02-08T14:43:22.423Z"
      },
      {
        "duration": 12,
        "start_time": "2022-02-08T14:43:22.465Z"
      },
      {
        "duration": 7,
        "start_time": "2022-02-08T14:43:22.480Z"
      },
      {
        "duration": 26,
        "start_time": "2022-02-08T14:43:22.524Z"
      },
      {
        "duration": 18,
        "start_time": "2022-02-08T14:43:22.553Z"
      },
      {
        "duration": 7,
        "start_time": "2022-02-08T14:43:22.573Z"
      },
      {
        "duration": 63,
        "start_time": "2022-02-08T14:43:22.582Z"
      },
      {
        "duration": 12,
        "start_time": "2022-02-08T14:45:14.604Z"
      },
      {
        "duration": 9,
        "start_time": "2022-02-08T14:45:35.780Z"
      },
      {
        "duration": 450,
        "start_time": "2022-02-08T14:47:30.372Z"
      },
      {
        "duration": 14,
        "start_time": "2022-02-08T14:48:27.972Z"
      },
      {
        "duration": 13,
        "start_time": "2022-02-08T14:48:41.883Z"
      },
      {
        "duration": 303,
        "start_time": "2022-02-08T14:48:46.557Z"
      },
      {
        "duration": 11,
        "start_time": "2022-02-08T14:48:54.788Z"
      },
      {
        "duration": 15,
        "start_time": "2022-02-08T14:51:15.348Z"
      },
      {
        "duration": 296,
        "start_time": "2022-02-08T14:51:27.002Z"
      },
      {
        "duration": 14,
        "start_time": "2022-02-08T14:51:32.274Z"
      },
      {
        "duration": 13,
        "start_time": "2022-02-08T14:52:09.386Z"
      },
      {
        "duration": 11,
        "start_time": "2022-02-08T14:53:42.859Z"
      },
      {
        "duration": 905,
        "start_time": "2022-02-08T14:54:02.117Z"
      },
      {
        "duration": 16,
        "start_time": "2022-02-08T14:54:03.025Z"
      },
      {
        "duration": 5,
        "start_time": "2022-02-08T14:54:03.044Z"
      },
      {
        "duration": 17,
        "start_time": "2022-02-08T14:54:03.052Z"
      },
      {
        "duration": 34,
        "start_time": "2022-02-08T14:54:03.071Z"
      },
      {
        "duration": 15,
        "start_time": "2022-02-08T14:54:03.108Z"
      },
      {
        "duration": 7,
        "start_time": "2022-02-08T14:54:03.125Z"
      },
      {
        "duration": 11,
        "start_time": "2022-02-08T14:54:03.135Z"
      },
      {
        "duration": 10,
        "start_time": "2022-02-08T14:54:03.149Z"
      },
      {
        "duration": 23,
        "start_time": "2022-02-08T14:54:03.162Z"
      },
      {
        "duration": 5,
        "start_time": "2022-02-08T14:54:03.187Z"
      },
      {
        "duration": 20,
        "start_time": "2022-02-08T14:54:03.195Z"
      },
      {
        "duration": 19,
        "start_time": "2022-02-08T14:54:03.217Z"
      },
      {
        "duration": 8,
        "start_time": "2022-02-08T14:54:03.238Z"
      },
      {
        "duration": 5,
        "start_time": "2022-02-08T14:54:03.248Z"
      },
      {
        "duration": 15,
        "start_time": "2022-02-08T14:54:03.256Z"
      },
      {
        "duration": 8,
        "start_time": "2022-02-08T14:54:03.274Z"
      },
      {
        "duration": 16,
        "start_time": "2022-02-08T14:54:03.284Z"
      },
      {
        "duration": 22,
        "start_time": "2022-02-08T14:54:03.302Z"
      },
      {
        "duration": 8,
        "start_time": "2022-02-08T14:54:03.326Z"
      },
      {
        "duration": 12,
        "start_time": "2022-02-08T14:54:03.336Z"
      },
      {
        "duration": 10,
        "start_time": "2022-02-08T14:54:03.351Z"
      },
      {
        "duration": 22,
        "start_time": "2022-02-08T14:54:03.367Z"
      },
      {
        "duration": 9,
        "start_time": "2022-02-08T14:54:03.392Z"
      },
      {
        "duration": 37,
        "start_time": "2022-02-08T14:54:03.403Z"
      },
      {
        "duration": 11,
        "start_time": "2022-02-08T14:54:03.443Z"
      },
      {
        "duration": 11,
        "start_time": "2022-02-08T14:54:03.456Z"
      },
      {
        "duration": 17,
        "start_time": "2022-02-08T14:54:03.470Z"
      },
      {
        "duration": 18,
        "start_time": "2022-02-08T14:54:03.490Z"
      },
      {
        "duration": 25,
        "start_time": "2022-02-08T14:54:03.511Z"
      },
      {
        "duration": 17,
        "start_time": "2022-02-08T14:54:03.539Z"
      },
      {
        "duration": 17,
        "start_time": "2022-02-08T14:54:03.558Z"
      },
      {
        "duration": 17,
        "start_time": "2022-02-08T14:54:03.578Z"
      },
      {
        "duration": 37,
        "start_time": "2022-02-08T14:54:03.597Z"
      },
      {
        "duration": 9,
        "start_time": "2022-02-08T14:54:03.637Z"
      },
      {
        "duration": 37,
        "start_time": "2022-02-08T14:54:03.649Z"
      },
      {
        "duration": 37,
        "start_time": "2022-02-08T14:54:03.688Z"
      },
      {
        "duration": 8,
        "start_time": "2022-02-08T14:54:03.727Z"
      },
      {
        "duration": 9,
        "start_time": "2022-02-08T14:54:03.737Z"
      },
      {
        "duration": 47,
        "start_time": "2022-02-08T14:54:03.749Z"
      },
      {
        "duration": 18,
        "start_time": "2022-02-08T14:54:03.798Z"
      },
      {
        "duration": 6,
        "start_time": "2022-02-08T14:54:03.819Z"
      },
      {
        "duration": 27,
        "start_time": "2022-02-08T14:54:03.827Z"
      },
      {
        "duration": 12,
        "start_time": "2022-02-08T14:54:03.856Z"
      },
      {
        "duration": 54,
        "start_time": "2022-02-08T14:54:03.870Z"
      },
      {
        "duration": 17,
        "start_time": "2022-02-08T14:54:03.927Z"
      },
      {
        "duration": 310,
        "start_time": "2022-02-09T08:24:57.129Z"
      },
      {
        "duration": 683,
        "start_time": "2022-02-09T08:25:03.432Z"
      },
      {
        "duration": 13,
        "start_time": "2022-02-09T08:25:04.117Z"
      },
      {
        "duration": 32,
        "start_time": "2022-02-09T08:25:04.133Z"
      },
      {
        "duration": 31,
        "start_time": "2022-02-09T08:25:04.168Z"
      },
      {
        "duration": 38,
        "start_time": "2022-02-09T08:25:04.201Z"
      },
      {
        "duration": 5,
        "start_time": "2022-02-09T08:25:04.241Z"
      },
      {
        "duration": 19,
        "start_time": "2022-02-09T08:25:04.248Z"
      },
      {
        "duration": 14,
        "start_time": "2022-02-09T08:25:04.270Z"
      },
      {
        "duration": 9,
        "start_time": "2022-02-09T08:25:04.299Z"
      },
      {
        "duration": 30,
        "start_time": "2022-02-09T08:25:04.311Z"
      },
      {
        "duration": 5,
        "start_time": "2022-02-09T08:25:04.344Z"
      },
      {
        "duration": 34,
        "start_time": "2022-02-09T08:25:04.352Z"
      },
      {
        "duration": 19,
        "start_time": "2022-02-09T08:25:04.389Z"
      },
      {
        "duration": 22,
        "start_time": "2022-02-09T08:25:04.410Z"
      },
      {
        "duration": 21,
        "start_time": "2022-02-09T08:25:04.434Z"
      },
      {
        "duration": 30,
        "start_time": "2022-02-09T08:25:04.457Z"
      },
      {
        "duration": 22,
        "start_time": "2022-02-09T08:25:04.489Z"
      },
      {
        "duration": 13,
        "start_time": "2022-02-09T08:25:04.513Z"
      },
      {
        "duration": 6,
        "start_time": "2022-02-09T08:25:04.527Z"
      },
      {
        "duration": 9,
        "start_time": "2022-02-09T08:25:04.535Z"
      },
      {
        "duration": 10,
        "start_time": "2022-02-09T08:25:04.546Z"
      },
      {
        "duration": 34,
        "start_time": "2022-02-09T08:25:04.558Z"
      },
      {
        "duration": 19,
        "start_time": "2022-02-09T08:25:04.600Z"
      },
      {
        "duration": 10,
        "start_time": "2022-02-09T08:25:04.622Z"
      },
      {
        "duration": 23,
        "start_time": "2022-02-09T08:25:04.634Z"
      },
      {
        "duration": 28,
        "start_time": "2022-02-09T08:25:04.658Z"
      },
      {
        "duration": 8,
        "start_time": "2022-02-09T08:25:04.699Z"
      },
      {
        "duration": 17,
        "start_time": "2022-02-09T08:25:04.709Z"
      },
      {
        "duration": 15,
        "start_time": "2022-02-09T08:25:04.728Z"
      },
      {
        "duration": 11,
        "start_time": "2022-02-09T08:25:04.744Z"
      },
      {
        "duration": 49,
        "start_time": "2022-02-09T08:25:04.757Z"
      },
      {
        "duration": 14,
        "start_time": "2022-02-09T08:25:04.808Z"
      },
      {
        "duration": 11,
        "start_time": "2022-02-09T08:25:04.824Z"
      },
      {
        "duration": 18,
        "start_time": "2022-02-09T08:25:04.837Z"
      },
      {
        "duration": 48,
        "start_time": "2022-02-09T08:25:04.857Z"
      },
      {
        "duration": 25,
        "start_time": "2022-02-09T08:25:04.907Z"
      },
      {
        "duration": 19,
        "start_time": "2022-02-09T08:25:04.934Z"
      },
      {
        "duration": 6,
        "start_time": "2022-02-09T08:25:04.955Z"
      },
      {
        "duration": 37,
        "start_time": "2022-02-09T08:25:04.963Z"
      },
      {
        "duration": 21,
        "start_time": "2022-02-09T08:25:05.003Z"
      },
      {
        "duration": 10,
        "start_time": "2022-02-09T08:25:05.027Z"
      },
      {
        "duration": 5,
        "start_time": "2022-02-09T08:25:05.039Z"
      },
      {
        "duration": 57,
        "start_time": "2022-02-09T08:25:05.046Z"
      },
      {
        "duration": 9,
        "start_time": "2022-02-09T08:25:05.105Z"
      },
      {
        "duration": 11,
        "start_time": "2022-02-09T08:25:05.116Z"
      },
      {
        "duration": 9,
        "start_time": "2022-02-09T08:25:05.130Z"
      },
      {
        "duration": 63,
        "start_time": "2022-02-09T08:25:05.141Z"
      },
      {
        "duration": 11,
        "start_time": "2022-02-09T08:26:26.965Z"
      },
      {
        "duration": 9,
        "start_time": "2022-02-09T08:27:08.386Z"
      },
      {
        "duration": 92,
        "start_time": "2022-02-09T08:28:30.857Z"
      },
      {
        "duration": 739,
        "start_time": "2022-02-09T09:28:02.791Z"
      },
      {
        "duration": 13,
        "start_time": "2022-02-09T09:28:03.532Z"
      },
      {
        "duration": 8,
        "start_time": "2022-02-09T09:28:03.552Z"
      },
      {
        "duration": 38,
        "start_time": "2022-02-09T09:28:03.562Z"
      },
      {
        "duration": 37,
        "start_time": "2022-02-09T09:28:03.602Z"
      },
      {
        "duration": 4,
        "start_time": "2022-02-09T09:28:03.642Z"
      },
      {
        "duration": 28,
        "start_time": "2022-02-09T09:28:03.648Z"
      },
      {
        "duration": 17,
        "start_time": "2022-02-09T09:28:03.678Z"
      },
      {
        "duration": 33,
        "start_time": "2022-02-09T09:28:03.697Z"
      },
      {
        "duration": 31,
        "start_time": "2022-02-09T09:28:03.732Z"
      },
      {
        "duration": 9,
        "start_time": "2022-02-09T09:28:03.765Z"
      },
      {
        "duration": 24,
        "start_time": "2022-02-09T09:28:03.776Z"
      },
      {
        "duration": 22,
        "start_time": "2022-02-09T09:28:03.801Z"
      },
      {
        "duration": 9,
        "start_time": "2022-02-09T09:28:03.826Z"
      },
      {
        "duration": 26,
        "start_time": "2022-02-09T09:28:03.837Z"
      },
      {
        "duration": 28,
        "start_time": "2022-02-09T09:28:03.865Z"
      },
      {
        "duration": 9,
        "start_time": "2022-02-09T09:28:03.895Z"
      },
      {
        "duration": 16,
        "start_time": "2022-02-09T09:28:03.906Z"
      },
      {
        "duration": 7,
        "start_time": "2022-02-09T09:28:03.924Z"
      },
      {
        "duration": 13,
        "start_time": "2022-02-09T09:28:03.933Z"
      },
      {
        "duration": 15,
        "start_time": "2022-02-09T09:28:03.950Z"
      },
      {
        "duration": 35,
        "start_time": "2022-02-09T09:28:03.967Z"
      },
      {
        "duration": 23,
        "start_time": "2022-02-09T09:28:04.004Z"
      },
      {
        "duration": 14,
        "start_time": "2022-02-09T09:28:04.028Z"
      },
      {
        "duration": 56,
        "start_time": "2022-02-09T09:28:04.043Z"
      },
      {
        "duration": 9,
        "start_time": "2022-02-09T09:28:04.102Z"
      },
      {
        "duration": 19,
        "start_time": "2022-02-09T09:28:04.113Z"
      },
      {
        "duration": 78,
        "start_time": "2022-02-09T09:28:04.134Z"
      },
      {
        "duration": 21,
        "start_time": "2022-02-09T09:28:04.215Z"
      },
      {
        "duration": 17,
        "start_time": "2022-02-09T09:28:04.238Z"
      },
      {
        "duration": 46,
        "start_time": "2022-02-09T09:28:04.257Z"
      },
      {
        "duration": 16,
        "start_time": "2022-02-09T09:28:04.305Z"
      },
      {
        "duration": 13,
        "start_time": "2022-02-09T09:28:04.323Z"
      },
      {
        "duration": 24,
        "start_time": "2022-02-09T09:28:04.338Z"
      },
      {
        "duration": 37,
        "start_time": "2022-02-09T09:28:04.363Z"
      },
      {
        "duration": 20,
        "start_time": "2022-02-09T09:28:04.402Z"
      },
      {
        "duration": 24,
        "start_time": "2022-02-09T09:28:04.424Z"
      },
      {
        "duration": 6,
        "start_time": "2022-02-09T09:28:04.449Z"
      },
      {
        "duration": 14,
        "start_time": "2022-02-09T09:28:04.456Z"
      },
      {
        "duration": 42,
        "start_time": "2022-02-09T09:28:04.471Z"
      },
      {
        "duration": 11,
        "start_time": "2022-02-09T09:28:04.515Z"
      },
      {
        "duration": 4,
        "start_time": "2022-02-09T09:28:04.528Z"
      },
      {
        "duration": 29,
        "start_time": "2022-02-09T09:28:04.534Z"
      },
      {
        "duration": 35,
        "start_time": "2022-02-09T09:28:04.565Z"
      },
      {
        "duration": 8,
        "start_time": "2022-02-09T09:28:04.602Z"
      },
      {
        "duration": 10,
        "start_time": "2022-02-09T09:28:04.612Z"
      },
      {
        "duration": 23,
        "start_time": "2022-02-09T09:28:04.624Z"
      },
      {
        "duration": 51,
        "start_time": "2022-02-09T09:28:04.649Z"
      },
      {
        "duration": 11,
        "start_time": "2022-02-09T09:28:04.702Z"
      },
      {
        "duration": 19,
        "start_time": "2022-02-09T09:31:30.010Z"
      },
      {
        "duration": 342,
        "start_time": "2022-02-09T09:32:51.254Z"
      },
      {
        "duration": 733,
        "start_time": "2022-02-09T09:34:45.363Z"
      },
      {
        "duration": 16,
        "start_time": "2022-02-09T09:34:46.098Z"
      },
      {
        "duration": 15,
        "start_time": "2022-02-09T09:34:46.117Z"
      },
      {
        "duration": 28,
        "start_time": "2022-02-09T09:34:46.135Z"
      },
      {
        "duration": 32,
        "start_time": "2022-02-09T09:34:46.165Z"
      },
      {
        "duration": 6,
        "start_time": "2022-02-09T09:34:46.199Z"
      },
      {
        "duration": 23,
        "start_time": "2022-02-09T09:34:46.207Z"
      },
      {
        "duration": 14,
        "start_time": "2022-02-09T09:34:46.233Z"
      },
      {
        "duration": 14,
        "start_time": "2022-02-09T09:34:46.249Z"
      },
      {
        "duration": 35,
        "start_time": "2022-02-09T09:34:46.264Z"
      },
      {
        "duration": 7,
        "start_time": "2022-02-09T09:34:46.302Z"
      },
      {
        "duration": 24,
        "start_time": "2022-02-09T09:34:46.311Z"
      },
      {
        "duration": 18,
        "start_time": "2022-02-09T09:34:46.336Z"
      },
      {
        "duration": 14,
        "start_time": "2022-02-09T09:34:46.356Z"
      },
      {
        "duration": 19,
        "start_time": "2022-02-09T09:34:46.371Z"
      },
      {
        "duration": 23,
        "start_time": "2022-02-09T09:34:46.398Z"
      },
      {
        "duration": 20,
        "start_time": "2022-02-09T09:34:46.423Z"
      },
      {
        "duration": 18,
        "start_time": "2022-02-09T09:34:46.445Z"
      },
      {
        "duration": 18,
        "start_time": "2022-02-09T09:34:46.464Z"
      },
      {
        "duration": 42,
        "start_time": "2022-02-09T09:34:46.484Z"
      },
      {
        "duration": 19,
        "start_time": "2022-02-09T09:34:46.528Z"
      },
      {
        "duration": 15,
        "start_time": "2022-02-09T09:34:46.548Z"
      },
      {
        "duration": 20,
        "start_time": "2022-02-09T09:34:46.567Z"
      },
      {
        "duration": 8,
        "start_time": "2022-02-09T09:34:46.589Z"
      },
      {
        "duration": 30,
        "start_time": "2022-02-09T09:34:46.599Z"
      },
      {
        "duration": 8,
        "start_time": "2022-02-09T09:34:46.631Z"
      },
      {
        "duration": 13,
        "start_time": "2022-02-09T09:34:46.641Z"
      },
      {
        "duration": 21,
        "start_time": "2022-02-09T09:34:46.656Z"
      },
      {
        "duration": 41,
        "start_time": "2022-02-09T09:34:46.679Z"
      },
      {
        "duration": 13,
        "start_time": "2022-02-09T09:34:46.723Z"
      },
      {
        "duration": 17,
        "start_time": "2022-02-09T09:34:46.738Z"
      },
      {
        "duration": 44,
        "start_time": "2022-02-09T09:34:46.757Z"
      },
      {
        "duration": 18,
        "start_time": "2022-02-09T09:34:46.803Z"
      },
      {
        "duration": 20,
        "start_time": "2022-02-09T09:34:46.823Z"
      },
      {
        "duration": 11,
        "start_time": "2022-02-09T09:34:46.845Z"
      },
      {
        "duration": 60,
        "start_time": "2022-02-09T09:34:46.858Z"
      },
      {
        "duration": 22,
        "start_time": "2022-02-09T09:34:46.920Z"
      },
      {
        "duration": 7,
        "start_time": "2022-02-09T09:34:46.944Z"
      },
      {
        "duration": 6,
        "start_time": "2022-02-09T09:34:46.953Z"
      },
      {
        "duration": 62,
        "start_time": "2022-02-09T09:34:46.961Z"
      },
      {
        "duration": 12,
        "start_time": "2022-02-09T09:34:47.025Z"
      },
      {
        "duration": 6,
        "start_time": "2022-02-09T09:34:47.039Z"
      },
      {
        "duration": 62,
        "start_time": "2022-02-09T09:34:47.047Z"
      },
      {
        "duration": 13,
        "start_time": "2022-02-09T09:34:47.111Z"
      },
      {
        "duration": 10,
        "start_time": "2022-02-09T09:34:47.126Z"
      },
      {
        "duration": 10,
        "start_time": "2022-02-09T09:34:47.138Z"
      },
      {
        "duration": 55,
        "start_time": "2022-02-09T09:34:47.150Z"
      },
      {
        "duration": 11,
        "start_time": "2022-02-09T09:34:47.207Z"
      },
      {
        "duration": 14,
        "start_time": "2022-02-09T09:34:47.220Z"
      },
      {
        "duration": 26,
        "start_time": "2022-02-09T09:34:47.236Z"
      },
      {
        "duration": 363,
        "start_time": "2022-02-09T09:34:47.263Z"
      },
      {
        "duration": 10,
        "start_time": "2022-02-09T09:35:06.865Z"
      },
      {
        "duration": 9,
        "start_time": "2022-02-09T09:36:06.953Z"
      },
      {
        "duration": 657,
        "start_time": "2022-02-09T09:50:53.554Z"
      },
      {
        "duration": 12,
        "start_time": "2022-02-09T09:50:54.213Z"
      },
      {
        "duration": 4,
        "start_time": "2022-02-09T09:50:54.229Z"
      },
      {
        "duration": 12,
        "start_time": "2022-02-09T09:50:54.234Z"
      },
      {
        "duration": 67,
        "start_time": "2022-02-09T09:50:54.247Z"
      },
      {
        "duration": 4,
        "start_time": "2022-02-09T09:50:54.316Z"
      },
      {
        "duration": 8,
        "start_time": "2022-02-09T09:50:54.321Z"
      },
      {
        "duration": 4,
        "start_time": "2022-02-09T09:50:54.333Z"
      },
      {
        "duration": 10,
        "start_time": "2022-02-09T09:50:54.340Z"
      },
      {
        "duration": 59,
        "start_time": "2022-02-09T09:50:54.352Z"
      },
      {
        "duration": 6,
        "start_time": "2022-02-09T09:50:54.413Z"
      },
      {
        "duration": 16,
        "start_time": "2022-02-09T09:50:54.421Z"
      },
      {
        "duration": 20,
        "start_time": "2022-02-09T09:50:54.438Z"
      },
      {
        "duration": 43,
        "start_time": "2022-02-09T09:50:54.460Z"
      },
      {
        "duration": 9,
        "start_time": "2022-02-09T09:50:54.505Z"
      },
      {
        "duration": 13,
        "start_time": "2022-02-09T09:50:54.516Z"
      },
      {
        "duration": 7,
        "start_time": "2022-02-09T09:50:54.530Z"
      },
      {
        "duration": 17,
        "start_time": "2022-02-09T09:50:54.538Z"
      },
      {
        "duration": 6,
        "start_time": "2022-02-09T09:50:54.557Z"
      },
      {
        "duration": 41,
        "start_time": "2022-02-09T09:50:54.565Z"
      },
      {
        "duration": 8,
        "start_time": "2022-02-09T09:50:54.608Z"
      },
      {
        "duration": 11,
        "start_time": "2022-02-09T09:50:54.618Z"
      },
      {
        "duration": 21,
        "start_time": "2022-02-09T09:50:54.631Z"
      },
      {
        "duration": 48,
        "start_time": "2022-02-09T09:50:54.654Z"
      },
      {
        "duration": 22,
        "start_time": "2022-02-09T09:50:54.704Z"
      },
      {
        "duration": 8,
        "start_time": "2022-02-09T09:50:54.730Z"
      },
      {
        "duration": 8,
        "start_time": "2022-02-09T09:50:54.740Z"
      },
      {
        "duration": 51,
        "start_time": "2022-02-09T09:50:54.750Z"
      },
      {
        "duration": 14,
        "start_time": "2022-02-09T09:50:54.803Z"
      },
      {
        "duration": 11,
        "start_time": "2022-02-09T09:50:54.819Z"
      },
      {
        "duration": 15,
        "start_time": "2022-02-09T09:50:54.831Z"
      },
      {
        "duration": 14,
        "start_time": "2022-02-09T09:50:54.848Z"
      },
      {
        "duration": 17,
        "start_time": "2022-02-09T09:50:54.898Z"
      },
      {
        "duration": 22,
        "start_time": "2022-02-09T09:50:54.917Z"
      },
      {
        "duration": 10,
        "start_time": "2022-02-09T09:50:54.941Z"
      },
      {
        "duration": 56,
        "start_time": "2022-02-09T09:50:54.953Z"
      },
      {
        "duration": 17,
        "start_time": "2022-02-09T09:50:55.011Z"
      },
      {
        "duration": 8,
        "start_time": "2022-02-09T09:50:55.030Z"
      },
      {
        "duration": 5,
        "start_time": "2022-02-09T09:50:55.040Z"
      },
      {
        "duration": 67,
        "start_time": "2022-02-09T09:50:55.047Z"
      },
      {
        "duration": 13,
        "start_time": "2022-02-09T09:50:55.116Z"
      },
      {
        "duration": 5,
        "start_time": "2022-02-09T09:50:55.131Z"
      },
      {
        "duration": 19,
        "start_time": "2022-02-09T09:50:55.138Z"
      },
      {
        "duration": 48,
        "start_time": "2022-02-09T09:50:55.159Z"
      },
      {
        "duration": 20,
        "start_time": "2022-02-09T09:50:55.209Z"
      },
      {
        "duration": 19,
        "start_time": "2022-02-09T09:50:55.231Z"
      },
      {
        "duration": 23,
        "start_time": "2022-02-09T09:50:55.253Z"
      },
      {
        "duration": 12,
        "start_time": "2022-02-09T09:50:55.299Z"
      },
      {
        "duration": 10,
        "start_time": "2022-02-09T09:50:55.313Z"
      },
      {
        "duration": 23,
        "start_time": "2022-02-09T09:50:55.325Z"
      },
      {
        "duration": 9,
        "start_time": "2022-02-09T09:50:55.349Z"
      },
      {
        "duration": 47,
        "start_time": "2022-02-09T09:50:55.361Z"
      },
      {
        "duration": 352,
        "start_time": "2022-02-09T10:04:35.444Z"
      },
      {
        "duration": 9,
        "start_time": "2022-02-09T10:06:47.758Z"
      },
      {
        "duration": 6,
        "start_time": "2022-02-09T10:07:36.994Z"
      },
      {
        "duration": 6,
        "start_time": "2022-02-09T10:09:44.373Z"
      },
      {
        "duration": 729,
        "start_time": "2022-02-09T10:25:03.758Z"
      },
      {
        "duration": 12,
        "start_time": "2022-02-09T10:25:04.491Z"
      },
      {
        "duration": 15,
        "start_time": "2022-02-09T10:25:04.506Z"
      },
      {
        "duration": 36,
        "start_time": "2022-02-09T10:25:04.523Z"
      },
      {
        "duration": 42,
        "start_time": "2022-02-09T10:25:04.562Z"
      },
      {
        "duration": 4,
        "start_time": "2022-02-09T10:25:04.606Z"
      },
      {
        "duration": 24,
        "start_time": "2022-02-09T10:25:04.612Z"
      },
      {
        "duration": 26,
        "start_time": "2022-02-09T10:25:04.639Z"
      },
      {
        "duration": 20,
        "start_time": "2022-02-09T10:25:04.667Z"
      },
      {
        "duration": 23,
        "start_time": "2022-02-09T10:25:04.689Z"
      },
      {
        "duration": 5,
        "start_time": "2022-02-09T10:25:04.714Z"
      },
      {
        "duration": 23,
        "start_time": "2022-02-09T10:25:04.721Z"
      },
      {
        "duration": 30,
        "start_time": "2022-02-09T10:25:04.746Z"
      },
      {
        "duration": 8,
        "start_time": "2022-02-09T10:25:04.778Z"
      },
      {
        "duration": 27,
        "start_time": "2022-02-09T10:25:04.788Z"
      },
      {
        "duration": 25,
        "start_time": "2022-02-09T10:25:04.817Z"
      },
      {
        "duration": 21,
        "start_time": "2022-02-09T10:25:04.844Z"
      },
      {
        "duration": 30,
        "start_time": "2022-02-09T10:25:04.867Z"
      },
      {
        "duration": 24,
        "start_time": "2022-02-09T10:25:04.899Z"
      },
      {
        "duration": 22,
        "start_time": "2022-02-09T10:25:04.925Z"
      },
      {
        "duration": 22,
        "start_time": "2022-02-09T10:25:04.949Z"
      },
      {
        "duration": 20,
        "start_time": "2022-02-09T10:25:04.973Z"
      },
      {
        "duration": 44,
        "start_time": "2022-02-09T10:25:04.995Z"
      },
      {
        "duration": 21,
        "start_time": "2022-02-09T10:25:05.041Z"
      },
      {
        "duration": 48,
        "start_time": "2022-02-09T10:25:05.064Z"
      },
      {
        "duration": 26,
        "start_time": "2022-02-09T10:25:05.117Z"
      },
      {
        "duration": 17,
        "start_time": "2022-02-09T10:25:05.147Z"
      },
      {
        "duration": 39,
        "start_time": "2022-02-09T10:25:05.166Z"
      },
      {
        "duration": 22,
        "start_time": "2022-02-09T10:25:05.206Z"
      },
      {
        "duration": 13,
        "start_time": "2022-02-09T10:25:05.230Z"
      },
      {
        "duration": 36,
        "start_time": "2022-02-09T10:25:05.245Z"
      },
      {
        "duration": 29,
        "start_time": "2022-02-09T10:25:05.283Z"
      },
      {
        "duration": 27,
        "start_time": "2022-02-09T10:25:05.314Z"
      },
      {
        "duration": 33,
        "start_time": "2022-02-09T10:25:05.342Z"
      },
      {
        "duration": 37,
        "start_time": "2022-02-09T10:25:05.376Z"
      },
      {
        "duration": 28,
        "start_time": "2022-02-09T10:25:05.415Z"
      },
      {
        "duration": 41,
        "start_time": "2022-02-09T10:25:05.445Z"
      },
      {
        "duration": 37,
        "start_time": "2022-02-09T10:25:05.488Z"
      },
      {
        "duration": 25,
        "start_time": "2022-02-09T10:25:05.527Z"
      },
      {
        "duration": 50,
        "start_time": "2022-02-09T10:25:05.554Z"
      },
      {
        "duration": 17,
        "start_time": "2022-02-09T10:25:05.606Z"
      },
      {
        "duration": 13,
        "start_time": "2022-02-09T10:25:05.625Z"
      },
      {
        "duration": 41,
        "start_time": "2022-02-09T10:25:05.641Z"
      },
      {
        "duration": 11,
        "start_time": "2022-02-09T10:25:05.684Z"
      },
      {
        "duration": 22,
        "start_time": "2022-02-09T10:25:05.698Z"
      },
      {
        "duration": 28,
        "start_time": "2022-02-09T10:25:05.722Z"
      },
      {
        "duration": 9,
        "start_time": "2022-02-09T10:25:05.752Z"
      },
      {
        "duration": 27,
        "start_time": "2022-02-09T10:25:05.763Z"
      },
      {
        "duration": 40,
        "start_time": "2022-02-09T10:25:05.792Z"
      },
      {
        "duration": 24,
        "start_time": "2022-02-09T10:25:05.834Z"
      },
      {
        "duration": 25,
        "start_time": "2022-02-09T10:25:05.860Z"
      },
      {
        "duration": 25,
        "start_time": "2022-02-09T10:25:05.886Z"
      },
      {
        "duration": 19,
        "start_time": "2022-02-09T10:25:05.913Z"
      },
      {
        "duration": 17,
        "start_time": "2022-02-09T10:25:05.934Z"
      },
      {
        "duration": 13,
        "start_time": "2022-02-09T11:26:58.038Z"
      },
      {
        "duration": 944,
        "start_time": "2022-02-09T11:40:55.840Z"
      },
      {
        "duration": 22,
        "start_time": "2022-02-09T11:40:56.786Z"
      },
      {
        "duration": 5,
        "start_time": "2022-02-09T11:40:56.810Z"
      },
      {
        "duration": 13,
        "start_time": "2022-02-09T11:40:56.816Z"
      },
      {
        "duration": 25,
        "start_time": "2022-02-09T11:40:56.831Z"
      },
      {
        "duration": 3,
        "start_time": "2022-02-09T11:40:56.858Z"
      },
      {
        "duration": 9,
        "start_time": "2022-02-09T11:40:56.863Z"
      },
      {
        "duration": 23,
        "start_time": "2022-02-09T11:40:56.875Z"
      },
      {
        "duration": 4,
        "start_time": "2022-02-09T11:40:56.901Z"
      },
      {
        "duration": 19,
        "start_time": "2022-02-09T11:40:56.907Z"
      },
      {
        "duration": 4,
        "start_time": "2022-02-09T11:40:56.928Z"
      },
      {
        "duration": 12,
        "start_time": "2022-02-09T11:40:56.933Z"
      },
      {
        "duration": 14,
        "start_time": "2022-02-09T11:40:56.947Z"
      },
      {
        "duration": 11,
        "start_time": "2022-02-09T11:40:56.963Z"
      },
      {
        "duration": 5,
        "start_time": "2022-02-09T11:40:56.976Z"
      },
      {
        "duration": 10,
        "start_time": "2022-02-09T11:40:56.982Z"
      },
      {
        "duration": 8,
        "start_time": "2022-02-09T11:40:56.994Z"
      },
      {
        "duration": 14,
        "start_time": "2022-02-09T11:40:57.004Z"
      },
      {
        "duration": 6,
        "start_time": "2022-02-09T11:40:57.020Z"
      },
      {
        "duration": 9,
        "start_time": "2022-02-09T11:40:57.028Z"
      },
      {
        "duration": 7,
        "start_time": "2022-02-09T11:40:57.039Z"
      },
      {
        "duration": 7,
        "start_time": "2022-02-09T11:40:57.048Z"
      },
      {
        "duration": 19,
        "start_time": "2022-02-09T11:40:57.059Z"
      },
      {
        "duration": 9,
        "start_time": "2022-02-09T11:40:57.080Z"
      },
      {
        "duration": 34,
        "start_time": "2022-02-09T11:40:57.091Z"
      },
      {
        "duration": 11,
        "start_time": "2022-02-09T11:40:57.127Z"
      },
      {
        "duration": 9,
        "start_time": "2022-02-09T11:40:57.140Z"
      },
      {
        "duration": 15,
        "start_time": "2022-02-09T11:40:57.151Z"
      },
      {
        "duration": 16,
        "start_time": "2022-02-09T11:40:57.168Z"
      },
      {
        "duration": 12,
        "start_time": "2022-02-09T11:40:57.185Z"
      },
      {
        "duration": 17,
        "start_time": "2022-02-09T11:40:57.199Z"
      },
      {
        "duration": 15,
        "start_time": "2022-02-09T11:40:57.218Z"
      },
      {
        "duration": 11,
        "start_time": "2022-02-09T11:40:57.235Z"
      },
      {
        "duration": 18,
        "start_time": "2022-02-09T11:40:57.248Z"
      },
      {
        "duration": 8,
        "start_time": "2022-02-09T11:40:57.267Z"
      },
      {
        "duration": 23,
        "start_time": "2022-02-09T11:40:57.277Z"
      },
      {
        "duration": 16,
        "start_time": "2022-02-09T11:40:57.301Z"
      },
      {
        "duration": 6,
        "start_time": "2022-02-09T11:40:57.318Z"
      },
      {
        "duration": 4,
        "start_time": "2022-02-09T11:40:57.325Z"
      },
      {
        "duration": 20,
        "start_time": "2022-02-09T11:40:57.331Z"
      },
      {
        "duration": 10,
        "start_time": "2022-02-09T11:40:57.353Z"
      },
      {
        "duration": 4,
        "start_time": "2022-02-09T11:40:57.365Z"
      },
      {
        "duration": 28,
        "start_time": "2022-02-09T11:40:57.371Z"
      },
      {
        "duration": 10,
        "start_time": "2022-02-09T11:40:57.401Z"
      },
      {
        "duration": 8,
        "start_time": "2022-02-09T11:40:57.413Z"
      },
      {
        "duration": 11,
        "start_time": "2022-02-09T11:40:57.423Z"
      },
      {
        "duration": 8,
        "start_time": "2022-02-09T11:40:57.435Z"
      },
      {
        "duration": 7,
        "start_time": "2022-02-09T11:40:57.445Z"
      },
      {
        "duration": 23,
        "start_time": "2022-02-09T11:40:57.454Z"
      },
      {
        "duration": 216,
        "start_time": "2022-02-09T11:40:57.479Z"
      },
      {
        "duration": 337,
        "start_time": "2022-02-09T11:40:57.360Z"
      },
      {
        "duration": 333,
        "start_time": "2022-02-09T11:40:57.365Z"
      },
      {
        "duration": 328,
        "start_time": "2022-02-09T11:40:57.371Z"
      },
      {
        "duration": 323,
        "start_time": "2022-02-09T11:40:57.377Z"
      },
      {
        "duration": 2333,
        "start_time": "2022-02-14T06:02:23.930Z"
      },
      {
        "duration": 12,
        "start_time": "2022-02-14T06:02:29.577Z"
      },
      {
        "duration": 4,
        "start_time": "2022-02-14T06:02:30.102Z"
      },
      {
        "duration": 14,
        "start_time": "2022-02-14T06:02:32.694Z"
      },
      {
        "duration": 34,
        "start_time": "2022-02-14T06:02:33.534Z"
      },
      {
        "duration": 5,
        "start_time": "2022-02-14T06:02:34.773Z"
      },
      {
        "duration": 6,
        "start_time": "2022-02-14T06:02:36.109Z"
      },
      {
        "duration": 5,
        "start_time": "2022-02-14T06:02:36.797Z"
      },
      {
        "duration": 5,
        "start_time": "2022-02-14T06:02:37.287Z"
      },
      {
        "duration": 16,
        "start_time": "2022-02-14T06:02:37.806Z"
      },
      {
        "duration": 5,
        "start_time": "2022-02-14T06:02:38.143Z"
      },
      {
        "duration": 9,
        "start_time": "2022-02-14T06:02:38.829Z"
      },
      {
        "duration": 12,
        "start_time": "2022-02-14T06:02:39.374Z"
      },
      {
        "duration": 7,
        "start_time": "2022-02-14T06:02:40.279Z"
      },
      {
        "duration": 3,
        "start_time": "2022-02-14T06:02:40.637Z"
      },
      {
        "duration": 10,
        "start_time": "2022-02-14T06:02:41.205Z"
      },
      {
        "duration": 6,
        "start_time": "2022-02-14T06:02:41.581Z"
      },
      {
        "duration": 12,
        "start_time": "2022-02-14T06:02:42.158Z"
      },
      {
        "duration": 7,
        "start_time": "2022-02-14T06:02:42.749Z"
      },
      {
        "duration": 7,
        "start_time": "2022-02-14T06:02:42.942Z"
      },
      {
        "duration": 6,
        "start_time": "2022-02-14T06:02:43.125Z"
      },
      {
        "duration": 7,
        "start_time": "2022-02-14T06:02:44.220Z"
      },
      {
        "duration": 16,
        "start_time": "2022-02-14T06:02:44.597Z"
      },
      {
        "duration": 7,
        "start_time": "2022-02-14T06:02:45.168Z"
      },
      {
        "duration": 18,
        "start_time": "2022-02-14T06:02:45.549Z"
      },
      {
        "duration": 8,
        "start_time": "2022-02-14T06:02:46.173Z"
      },
      {
        "duration": 8,
        "start_time": "2022-02-14T06:02:47.053Z"
      },
      {
        "duration": 12,
        "start_time": "2022-02-14T06:02:47.461Z"
      },
      {
        "duration": 13,
        "start_time": "2022-02-14T06:02:48.526Z"
      },
      {
        "duration": 11,
        "start_time": "2022-02-14T06:02:49.174Z"
      },
      {
        "duration": 14,
        "start_time": "2022-02-14T06:02:50.022Z"
      },
      {
        "duration": 14,
        "start_time": "2022-02-14T06:02:50.213Z"
      },
      {
        "duration": 11,
        "start_time": "2022-02-14T06:02:51.109Z"
      },
      {
        "duration": 14,
        "start_time": "2022-02-14T06:02:51.869Z"
      },
      {
        "duration": 7,
        "start_time": "2022-02-14T06:02:52.829Z"
      },
      {
        "duration": 15,
        "start_time": "2022-02-14T06:02:53.653Z"
      },
      {
        "duration": 14,
        "start_time": "2022-02-14T06:02:54.414Z"
      },
      {
        "duration": 7,
        "start_time": "2022-02-14T06:02:55.198Z"
      },
      {
        "duration": 4,
        "start_time": "2022-02-14T06:02:55.574Z"
      },
      {
        "duration": 25,
        "start_time": "2022-02-14T06:02:56.822Z"
      },
      {
        "duration": 13,
        "start_time": "2022-02-14T06:02:57.216Z"
      },
      {
        "duration": 6,
        "start_time": "2022-02-14T06:02:57.614Z"
      },
      {
        "duration": 24,
        "start_time": "2022-02-14T06:03:00.066Z"
      },
      {
        "duration": 14,
        "start_time": "2022-02-14T06:03:00.496Z"
      },
      {
        "duration": 11,
        "start_time": "2022-02-14T06:03:00.750Z"
      },
      {
        "duration": 8,
        "start_time": "2022-02-14T06:03:01.159Z"
      },
      {
        "duration": 6,
        "start_time": "2022-02-14T06:03:04.552Z"
      },
      {
        "duration": 5,
        "start_time": "2022-02-14T06:03:04.561Z"
      },
      {
        "duration": 24,
        "start_time": "2022-02-14T06:03:04.568Z"
      },
      {
        "duration": 12,
        "start_time": "2022-02-14T06:03:05.216Z"
      },
      {
        "duration": 10,
        "start_time": "2022-02-14T06:03:05.741Z"
      },
      {
        "duration": 27,
        "start_time": "2022-02-14T06:03:09.309Z"
      },
      {
        "duration": 12,
        "start_time": "2022-02-14T06:03:09.702Z"
      },
      {
        "duration": 11,
        "start_time": "2022-02-14T06:03:10.542Z"
      },
      {
        "duration": 226,
        "start_time": "2022-02-14T08:57:18.596Z"
      },
      {
        "duration": 616,
        "start_time": "2022-02-14T08:57:38.181Z"
      },
      {
        "duration": 13,
        "start_time": "2022-02-14T08:57:38.799Z"
      },
      {
        "duration": 3,
        "start_time": "2022-02-14T08:57:38.814Z"
      },
      {
        "duration": 8,
        "start_time": "2022-02-14T08:57:38.819Z"
      },
      {
        "duration": 23,
        "start_time": "2022-02-14T08:57:38.829Z"
      },
      {
        "duration": 3,
        "start_time": "2022-02-14T08:57:38.853Z"
      },
      {
        "duration": 12,
        "start_time": "2022-02-14T08:57:38.858Z"
      },
      {
        "duration": 4,
        "start_time": "2022-02-14T08:57:38.872Z"
      },
      {
        "duration": 4,
        "start_time": "2022-02-14T08:57:38.913Z"
      },
      {
        "duration": 5,
        "start_time": "2022-02-14T08:57:38.918Z"
      },
      {
        "duration": 15,
        "start_time": "2022-02-14T08:57:38.925Z"
      },
      {
        "duration": 4,
        "start_time": "2022-02-14T08:57:38.941Z"
      },
      {
        "duration": 9,
        "start_time": "2022-02-14T08:57:38.946Z"
      },
      {
        "duration": 12,
        "start_time": "2022-02-14T08:57:38.956Z"
      },
      {
        "duration": 45,
        "start_time": "2022-02-14T08:57:38.969Z"
      },
      {
        "duration": 3,
        "start_time": "2022-02-14T08:57:39.016Z"
      },
      {
        "duration": 10,
        "start_time": "2022-02-14T08:57:39.020Z"
      },
      {
        "duration": 5,
        "start_time": "2022-02-14T08:57:39.031Z"
      },
      {
        "duration": 9,
        "start_time": "2022-02-14T08:57:39.038Z"
      },
      {
        "duration": 5,
        "start_time": "2022-02-14T08:57:39.049Z"
      },
      {
        "duration": 5,
        "start_time": "2022-02-14T08:57:39.055Z"
      },
      {
        "duration": 5,
        "start_time": "2022-02-14T08:57:39.061Z"
      },
      {
        "duration": 47,
        "start_time": "2022-02-14T08:57:39.070Z"
      },
      {
        "duration": 16,
        "start_time": "2022-02-14T08:57:39.120Z"
      },
      {
        "duration": 7,
        "start_time": "2022-02-14T08:57:39.138Z"
      },
      {
        "duration": 19,
        "start_time": "2022-02-14T08:57:39.147Z"
      },
      {
        "duration": 6,
        "start_time": "2022-02-14T08:57:39.168Z"
      },
      {
        "duration": 42,
        "start_time": "2022-02-14T08:57:39.176Z"
      },
      {
        "duration": 14,
        "start_time": "2022-02-14T08:57:39.220Z"
      },
      {
        "duration": 14,
        "start_time": "2022-02-14T08:57:39.235Z"
      },
      {
        "duration": 10,
        "start_time": "2022-02-14T08:57:39.251Z"
      },
      {
        "duration": 15,
        "start_time": "2022-02-14T08:57:39.262Z"
      },
      {
        "duration": 36,
        "start_time": "2022-02-14T08:57:39.279Z"
      },
      {
        "duration": 11,
        "start_time": "2022-02-14T08:57:39.317Z"
      },
      {
        "duration": 15,
        "start_time": "2022-02-14T08:57:39.329Z"
      },
      {
        "duration": 9,
        "start_time": "2022-02-14T08:57:39.345Z"
      },
      {
        "duration": 13,
        "start_time": "2022-02-14T08:57:39.355Z"
      },
      {
        "duration": 50,
        "start_time": "2022-02-14T08:57:39.369Z"
      },
      {
        "duration": 5,
        "start_time": "2022-02-14T08:57:39.421Z"
      },
      {
        "duration": 4,
        "start_time": "2022-02-14T08:57:39.427Z"
      },
      {
        "duration": 17,
        "start_time": "2022-02-14T08:57:39.433Z"
      },
      {
        "duration": 8,
        "start_time": "2022-02-14T08:57:39.451Z"
      },
      {
        "duration": 4,
        "start_time": "2022-02-14T08:57:39.460Z"
      },
      {
        "duration": 50,
        "start_time": "2022-02-14T08:57:39.465Z"
      },
      {
        "duration": 8,
        "start_time": "2022-02-14T08:57:39.517Z"
      },
      {
        "duration": 9,
        "start_time": "2022-02-14T08:57:39.527Z"
      },
      {
        "duration": 6,
        "start_time": "2022-02-14T08:57:39.537Z"
      },
      {
        "duration": 7,
        "start_time": "2022-02-14T08:57:39.544Z"
      },
      {
        "duration": 5,
        "start_time": "2022-02-14T08:57:39.553Z"
      },
      {
        "duration": 16,
        "start_time": "2022-02-14T08:57:39.560Z"
      },
      {
        "duration": 40,
        "start_time": "2022-02-14T08:57:39.578Z"
      },
      {
        "duration": 7,
        "start_time": "2022-02-14T08:57:39.620Z"
      },
      {
        "duration": 18,
        "start_time": "2022-02-14T08:57:39.628Z"
      },
      {
        "duration": 8,
        "start_time": "2022-02-14T08:57:39.648Z"
      },
      {
        "duration": 9,
        "start_time": "2022-02-14T08:57:39.658Z"
      },
      {
        "duration": 15,
        "start_time": "2022-02-14T09:46:17.507Z"
      },
      {
        "duration": 20,
        "start_time": "2022-02-14T09:48:09.155Z"
      },
      {
        "duration": 621,
        "start_time": "2022-02-14T09:48:22.919Z"
      },
      {
        "duration": 11,
        "start_time": "2022-02-14T09:48:23.543Z"
      },
      {
        "duration": 6,
        "start_time": "2022-02-14T09:48:23.557Z"
      },
      {
        "duration": 10,
        "start_time": "2022-02-14T09:48:23.565Z"
      },
      {
        "duration": 41,
        "start_time": "2022-02-14T09:48:23.577Z"
      },
      {
        "duration": 10,
        "start_time": "2022-02-14T09:48:23.620Z"
      },
      {
        "duration": 5,
        "start_time": "2022-02-14T09:48:23.631Z"
      },
      {
        "duration": 4,
        "start_time": "2022-02-14T09:48:23.639Z"
      },
      {
        "duration": 4,
        "start_time": "2022-02-14T09:48:23.645Z"
      },
      {
        "duration": 16,
        "start_time": "2022-02-14T09:48:23.651Z"
      },
      {
        "duration": 43,
        "start_time": "2022-02-14T09:48:23.669Z"
      },
      {
        "duration": 8,
        "start_time": "2022-02-14T09:48:23.714Z"
      },
      {
        "duration": 11,
        "start_time": "2022-02-14T09:48:23.724Z"
      },
      {
        "duration": 5,
        "start_time": "2022-02-14T09:48:23.737Z"
      },
      {
        "duration": 3,
        "start_time": "2022-02-14T09:48:23.744Z"
      },
      {
        "duration": 10,
        "start_time": "2022-02-14T09:48:23.748Z"
      },
      {
        "duration": 6,
        "start_time": "2022-02-14T09:48:23.759Z"
      },
      {
        "duration": 51,
        "start_time": "2022-02-14T09:48:23.767Z"
      },
      {
        "duration": 6,
        "start_time": "2022-02-14T09:48:23.819Z"
      },
      {
        "duration": 12,
        "start_time": "2022-02-14T09:48:23.826Z"
      },
      {
        "duration": 5,
        "start_time": "2022-02-14T09:48:23.840Z"
      },
      {
        "duration": 7,
        "start_time": "2022-02-14T09:48:23.847Z"
      },
      {
        "duration": 22,
        "start_time": "2022-02-14T09:48:23.857Z"
      },
      {
        "duration": 33,
        "start_time": "2022-02-14T09:48:23.881Z"
      },
      {
        "duration": 19,
        "start_time": "2022-02-14T09:48:23.915Z"
      },
      {
        "duration": 8,
        "start_time": "2022-02-14T09:48:23.935Z"
      },
      {
        "duration": 8,
        "start_time": "2022-02-14T09:48:23.944Z"
      },
      {
        "duration": 11,
        "start_time": "2022-02-14T09:48:23.954Z"
      },
      {
        "duration": 46,
        "start_time": "2022-02-14T09:48:23.967Z"
      },
      {
        "duration": 22,
        "start_time": "2022-02-14T09:48:24.015Z"
      },
      {
        "duration": 14,
        "start_time": "2022-02-14T09:48:24.038Z"
      },
      {
        "duration": 11,
        "start_time": "2022-02-14T09:48:24.054Z"
      },
      {
        "duration": 11,
        "start_time": "2022-02-14T09:48:24.066Z"
      },
      {
        "duration": 43,
        "start_time": "2022-02-14T09:48:24.078Z"
      },
      {
        "duration": 10,
        "start_time": "2022-02-14T09:48:24.123Z"
      },
      {
        "duration": 14,
        "start_time": "2022-02-14T09:48:24.135Z"
      },
      {
        "duration": 8,
        "start_time": "2022-02-14T09:48:24.151Z"
      },
      {
        "duration": 16,
        "start_time": "2022-02-14T09:48:24.161Z"
      },
      {
        "duration": 42,
        "start_time": "2022-02-14T09:48:24.178Z"
      },
      {
        "duration": 5,
        "start_time": "2022-02-14T09:48:24.221Z"
      },
      {
        "duration": 3,
        "start_time": "2022-02-14T09:48:24.228Z"
      },
      {
        "duration": 18,
        "start_time": "2022-02-14T09:48:24.232Z"
      },
      {
        "duration": 8,
        "start_time": "2022-02-14T09:48:24.252Z"
      },
      {
        "duration": 5,
        "start_time": "2022-02-14T09:48:24.261Z"
      },
      {
        "duration": 53,
        "start_time": "2022-02-14T09:48:24.268Z"
      },
      {
        "duration": 9,
        "start_time": "2022-02-14T09:48:24.322Z"
      },
      {
        "duration": 8,
        "start_time": "2022-02-14T09:48:24.332Z"
      },
      {
        "duration": 9,
        "start_time": "2022-02-14T09:48:24.341Z"
      },
      {
        "duration": 9,
        "start_time": "2022-02-14T09:48:24.351Z"
      },
      {
        "duration": 9,
        "start_time": "2022-02-14T09:48:24.362Z"
      },
      {
        "duration": 40,
        "start_time": "2022-02-14T09:48:24.373Z"
      },
      {
        "duration": 10,
        "start_time": "2022-02-14T09:48:24.414Z"
      },
      {
        "duration": 13,
        "start_time": "2022-02-14T09:48:24.425Z"
      },
      {
        "duration": 21,
        "start_time": "2022-02-14T09:48:24.440Z"
      },
      {
        "duration": 10,
        "start_time": "2022-02-14T09:48:24.463Z"
      },
      {
        "duration": 38,
        "start_time": "2022-02-14T09:48:24.475Z"
      },
      {
        "duration": 25,
        "start_time": "2022-02-14T09:50:40.300Z"
      },
      {
        "duration": 617,
        "start_time": "2022-02-14T09:50:46.728Z"
      },
      {
        "duration": 11,
        "start_time": "2022-02-14T09:50:47.347Z"
      },
      {
        "duration": 4,
        "start_time": "2022-02-14T09:50:47.360Z"
      },
      {
        "duration": 15,
        "start_time": "2022-02-14T09:50:47.366Z"
      },
      {
        "duration": 41,
        "start_time": "2022-02-14T09:50:47.383Z"
      },
      {
        "duration": 10,
        "start_time": "2022-02-14T09:50:47.426Z"
      },
      {
        "duration": 4,
        "start_time": "2022-02-14T09:50:47.438Z"
      },
      {
        "duration": 3,
        "start_time": "2022-02-14T09:50:47.445Z"
      },
      {
        "duration": 4,
        "start_time": "2022-02-14T09:50:47.450Z"
      },
      {
        "duration": 16,
        "start_time": "2022-02-14T09:50:47.455Z"
      },
      {
        "duration": 41,
        "start_time": "2022-02-14T09:50:47.473Z"
      },
      {
        "duration": 8,
        "start_time": "2022-02-14T09:50:47.516Z"
      },
      {
        "duration": 11,
        "start_time": "2022-02-14T09:50:47.526Z"
      },
      {
        "duration": 5,
        "start_time": "2022-02-14T09:50:47.539Z"
      },
      {
        "duration": 2,
        "start_time": "2022-02-14T09:50:47.546Z"
      },
      {
        "duration": 9,
        "start_time": "2022-02-14T09:50:47.550Z"
      },
      {
        "duration": 5,
        "start_time": "2022-02-14T09:50:47.560Z"
      },
      {
        "duration": 51,
        "start_time": "2022-02-14T09:50:47.567Z"
      },
      {
        "duration": 6,
        "start_time": "2022-02-14T09:50:47.620Z"
      },
      {
        "duration": 6,
        "start_time": "2022-02-14T09:50:47.628Z"
      },
      {
        "duration": 5,
        "start_time": "2022-02-14T09:50:47.635Z"
      },
      {
        "duration": 6,
        "start_time": "2022-02-14T09:50:47.642Z"
      },
      {
        "duration": 16,
        "start_time": "2022-02-14T09:50:47.652Z"
      },
      {
        "duration": 42,
        "start_time": "2022-02-14T09:50:47.671Z"
      },
      {
        "duration": 19,
        "start_time": "2022-02-14T09:50:47.715Z"
      },
      {
        "duration": 8,
        "start_time": "2022-02-14T09:50:47.735Z"
      },
      {
        "duration": 7,
        "start_time": "2022-02-14T09:50:47.744Z"
      },
      {
        "duration": 12,
        "start_time": "2022-02-14T09:50:47.753Z"
      },
      {
        "duration": 51,
        "start_time": "2022-02-14T09:50:47.766Z"
      },
      {
        "duration": 24,
        "start_time": "2022-02-14T09:50:47.819Z"
      },
      {
        "duration": 13,
        "start_time": "2022-02-14T09:50:47.845Z"
      },
      {
        "duration": 10,
        "start_time": "2022-02-14T09:50:47.860Z"
      },
      {
        "duration": 12,
        "start_time": "2022-02-14T09:50:47.871Z"
      },
      {
        "duration": 36,
        "start_time": "2022-02-14T09:50:47.884Z"
      },
      {
        "duration": 10,
        "start_time": "2022-02-14T09:50:47.921Z"
      },
      {
        "duration": 15,
        "start_time": "2022-02-14T09:50:47.932Z"
      },
      {
        "duration": 7,
        "start_time": "2022-02-14T09:50:47.948Z"
      },
      {
        "duration": 15,
        "start_time": "2022-02-14T09:50:47.956Z"
      },
      {
        "duration": 52,
        "start_time": "2022-02-14T09:50:47.972Z"
      },
      {
        "duration": 4,
        "start_time": "2022-02-14T09:50:48.026Z"
      },
      {
        "duration": 6,
        "start_time": "2022-02-14T09:50:48.032Z"
      },
      {
        "duration": 17,
        "start_time": "2022-02-14T09:50:48.039Z"
      },
      {
        "duration": 9,
        "start_time": "2022-02-14T09:50:48.057Z"
      },
      {
        "duration": 5,
        "start_time": "2022-02-14T09:50:48.067Z"
      },
      {
        "duration": 48,
        "start_time": "2022-02-14T09:50:48.074Z"
      },
      {
        "duration": 9,
        "start_time": "2022-02-14T09:50:48.124Z"
      },
      {
        "duration": 10,
        "start_time": "2022-02-14T09:50:48.135Z"
      },
      {
        "duration": 10,
        "start_time": "2022-02-14T09:50:48.147Z"
      },
      {
        "duration": 6,
        "start_time": "2022-02-14T09:50:48.159Z"
      },
      {
        "duration": 8,
        "start_time": "2022-02-14T09:50:48.166Z"
      },
      {
        "duration": 45,
        "start_time": "2022-02-14T09:50:48.176Z"
      },
      {
        "duration": 9,
        "start_time": "2022-02-14T09:50:48.222Z"
      },
      {
        "duration": 8,
        "start_time": "2022-02-14T09:50:48.233Z"
      },
      {
        "duration": 18,
        "start_time": "2022-02-14T09:50:48.242Z"
      },
      {
        "duration": 8,
        "start_time": "2022-02-14T09:50:48.261Z"
      },
      {
        "duration": 7,
        "start_time": "2022-02-14T09:50:48.271Z"
      },
      {
        "duration": 2096,
        "start_time": "2022-02-14T09:53:34.486Z"
      },
      {
        "duration": 31,
        "start_time": "2022-02-14T09:54:08.743Z"
      },
      {
        "duration": 20,
        "start_time": "2022-02-14T09:55:23.117Z"
      },
      {
        "duration": 617,
        "start_time": "2022-02-14T09:55:33.218Z"
      },
      {
        "duration": 11,
        "start_time": "2022-02-14T09:55:33.838Z"
      },
      {
        "duration": 4,
        "start_time": "2022-02-14T09:55:33.851Z"
      },
      {
        "duration": 9,
        "start_time": "2022-02-14T09:55:33.857Z"
      },
      {
        "duration": 45,
        "start_time": "2022-02-14T09:55:33.867Z"
      },
      {
        "duration": 10,
        "start_time": "2022-02-14T09:55:33.914Z"
      },
      {
        "duration": 5,
        "start_time": "2022-02-14T09:55:33.926Z"
      },
      {
        "duration": 4,
        "start_time": "2022-02-14T09:55:33.933Z"
      },
      {
        "duration": 4,
        "start_time": "2022-02-14T09:55:33.939Z"
      },
      {
        "duration": 16,
        "start_time": "2022-02-14T09:55:33.944Z"
      },
      {
        "duration": 3,
        "start_time": "2022-02-14T09:55:33.962Z"
      },
      {
        "duration": 47,
        "start_time": "2022-02-14T09:55:33.966Z"
      },
      {
        "duration": 12,
        "start_time": "2022-02-14T09:55:34.015Z"
      },
      {
        "duration": 5,
        "start_time": "2022-02-14T09:55:34.028Z"
      },
      {
        "duration": 3,
        "start_time": "2022-02-14T09:55:34.035Z"
      },
      {
        "duration": 8,
        "start_time": "2022-02-14T09:55:34.040Z"
      },
      {
        "duration": 6,
        "start_time": "2022-02-14T09:55:34.050Z"
      },
      {
        "duration": 10,
        "start_time": "2022-02-14T09:55:34.057Z"
      },
      {
        "duration": 5,
        "start_time": "2022-02-14T09:55:34.068Z"
      },
      {
        "duration": 43,
        "start_time": "2022-02-14T09:55:34.075Z"
      },
      {
        "duration": 6,
        "start_time": "2022-02-14T09:55:34.119Z"
      },
      {
        "duration": 8,
        "start_time": "2022-02-14T09:55:34.127Z"
      },
      {
        "duration": 17,
        "start_time": "2022-02-14T09:55:34.138Z"
      },
      {
        "duration": 6,
        "start_time": "2022-02-14T09:55:34.157Z"
      },
      {
        "duration": 51,
        "start_time": "2022-02-14T09:55:34.165Z"
      },
      {
        "duration": 6,
        "start_time": "2022-02-14T09:55:34.218Z"
      },
      {
        "duration": 7,
        "start_time": "2022-02-14T09:55:34.226Z"
      },
      {
        "duration": 14,
        "start_time": "2022-02-14T09:55:34.234Z"
      },
      {
        "duration": 18,
        "start_time": "2022-02-14T09:55:34.249Z"
      },
      {
        "duration": 54,
        "start_time": "2022-02-14T09:55:34.269Z"
      },
      {
        "duration": 23,
        "start_time": "2022-02-14T09:55:34.325Z"
      },
      {
        "duration": 12,
        "start_time": "2022-02-14T09:55:34.349Z"
      },
      {
        "duration": 9,
        "start_time": "2022-02-14T09:55:34.363Z"
      },
      {
        "duration": 39,
        "start_time": "2022-02-14T09:55:34.374Z"
      },
      {
        "duration": 11,
        "start_time": "2022-02-14T09:55:34.415Z"
      },
      {
        "duration": 10,
        "start_time": "2022-02-14T09:55:34.427Z"
      },
      {
        "duration": 16,
        "start_time": "2022-02-14T09:55:34.438Z"
      },
      {
        "duration": 8,
        "start_time": "2022-02-14T09:55:34.455Z"
      },
      {
        "duration": 14,
        "start_time": "2022-02-14T09:55:34.465Z"
      },
      {
        "duration": 17,
        "start_time": "2022-02-14T09:55:34.513Z"
      },
      {
        "duration": 5,
        "start_time": "2022-02-14T09:55:34.531Z"
      },
      {
        "duration": 3,
        "start_time": "2022-02-14T09:55:34.537Z"
      },
      {
        "duration": 19,
        "start_time": "2022-02-14T09:55:34.542Z"
      },
      {
        "duration": 9,
        "start_time": "2022-02-14T09:55:34.562Z"
      },
      {
        "duration": 4,
        "start_time": "2022-02-14T09:55:34.572Z"
      },
      {
        "duration": 46,
        "start_time": "2022-02-14T09:55:34.577Z"
      },
      {
        "duration": 9,
        "start_time": "2022-02-14T09:55:34.625Z"
      },
      {
        "duration": 10,
        "start_time": "2022-02-14T09:55:34.635Z"
      },
      {
        "duration": 9,
        "start_time": "2022-02-14T09:55:34.646Z"
      },
      {
        "duration": 7,
        "start_time": "2022-02-14T09:55:34.657Z"
      },
      {
        "duration": 9,
        "start_time": "2022-02-14T09:55:34.665Z"
      },
      {
        "duration": 46,
        "start_time": "2022-02-14T09:55:34.675Z"
      },
      {
        "duration": 9,
        "start_time": "2022-02-14T09:55:34.723Z"
      },
      {
        "duration": 8,
        "start_time": "2022-02-14T09:55:34.733Z"
      },
      {
        "duration": 19,
        "start_time": "2022-02-14T09:55:34.742Z"
      },
      {
        "duration": 9,
        "start_time": "2022-02-14T09:55:34.763Z"
      },
      {
        "duration": 40,
        "start_time": "2022-02-14T09:55:34.773Z"
      },
      {
        "duration": 11,
        "start_time": "2022-02-14T09:56:26.576Z"
      },
      {
        "duration": 21,
        "start_time": "2022-02-14T09:56:42.465Z"
      },
      {
        "duration": 16,
        "start_time": "2022-02-14T09:59:36.211Z"
      },
      {
        "duration": 29,
        "start_time": "2022-02-14T10:00:24.376Z"
      },
      {
        "duration": 617,
        "start_time": "2022-02-14T10:00:31.529Z"
      },
      {
        "duration": 11,
        "start_time": "2022-02-14T10:00:32.147Z"
      },
      {
        "duration": 3,
        "start_time": "2022-02-14T10:00:32.160Z"
      },
      {
        "duration": 10,
        "start_time": "2022-02-14T10:00:32.165Z"
      },
      {
        "duration": 50,
        "start_time": "2022-02-14T10:00:32.177Z"
      },
      {
        "duration": 12,
        "start_time": "2022-02-14T10:00:32.229Z"
      },
      {
        "duration": 6,
        "start_time": "2022-02-14T10:00:32.243Z"
      },
      {
        "duration": 4,
        "start_time": "2022-02-14T10:00:32.252Z"
      },
      {
        "duration": 4,
        "start_time": "2022-02-14T10:00:32.258Z"
      },
      {
        "duration": 49,
        "start_time": "2022-02-14T10:00:32.264Z"
      },
      {
        "duration": 5,
        "start_time": "2022-02-14T10:00:32.315Z"
      },
      {
        "duration": 9,
        "start_time": "2022-02-14T10:00:32.321Z"
      },
      {
        "duration": 12,
        "start_time": "2022-02-14T10:00:32.332Z"
      },
      {
        "duration": 6,
        "start_time": "2022-02-14T10:00:32.345Z"
      },
      {
        "duration": 3,
        "start_time": "2022-02-14T10:00:32.353Z"
      },
      {
        "duration": 9,
        "start_time": "2022-02-14T10:00:32.357Z"
      },
      {
        "duration": 44,
        "start_time": "2022-02-14T10:00:32.368Z"
      },
      {
        "duration": 11,
        "start_time": "2022-02-14T10:00:32.414Z"
      },
      {
        "duration": 6,
        "start_time": "2022-02-14T10:00:32.427Z"
      },
      {
        "duration": 5,
        "start_time": "2022-02-14T10:00:32.435Z"
      },
      {
        "duration": 6,
        "start_time": "2022-02-14T10:00:32.442Z"
      },
      {
        "duration": 6,
        "start_time": "2022-02-14T10:00:32.450Z"
      },
      {
        "duration": 16,
        "start_time": "2022-02-14T10:00:32.459Z"
      },
      {
        "duration": 7,
        "start_time": "2022-02-14T10:00:32.513Z"
      },
      {
        "duration": 20,
        "start_time": "2022-02-14T10:00:32.521Z"
      },
      {
        "duration": 7,
        "start_time": "2022-02-14T10:00:32.542Z"
      },
      {
        "duration": 7,
        "start_time": "2022-02-14T10:00:32.550Z"
      },
      {
        "duration": 12,
        "start_time": "2022-02-14T10:00:32.558Z"
      },
      {
        "duration": 51,
        "start_time": "2022-02-14T10:00:32.572Z"
      },
      {
        "duration": 24,
        "start_time": "2022-02-14T10:00:32.625Z"
      },
      {
        "duration": 20,
        "start_time": "2022-02-14T10:00:32.650Z"
      },
      {
        "duration": 48,
        "start_time": "2022-02-14T10:00:32.672Z"
      },
      {
        "duration": 12,
        "start_time": "2022-02-14T10:00:32.722Z"
      },
      {
        "duration": 10,
        "start_time": "2022-02-14T10:00:32.736Z"
      },
      {
        "duration": 10,
        "start_time": "2022-02-14T10:00:32.748Z"
      },
      {
        "duration": 11,
        "start_time": "2022-02-14T10:00:32.759Z"
      },
      {
        "duration": 43,
        "start_time": "2022-02-14T10:00:32.771Z"
      },
      {
        "duration": 15,
        "start_time": "2022-02-14T10:00:32.815Z"
      },
      {
        "duration": 8,
        "start_time": "2022-02-14T10:00:32.832Z"
      },
      {
        "duration": 14,
        "start_time": "2022-02-14T10:00:32.842Z"
      },
      {
        "duration": 14,
        "start_time": "2022-02-14T10:00:32.858Z"
      },
      {
        "duration": 5,
        "start_time": "2022-02-14T10:00:32.873Z"
      },
      {
        "duration": 2,
        "start_time": "2022-02-14T10:00:32.913Z"
      },
      {
        "duration": 18,
        "start_time": "2022-02-14T10:00:32.917Z"
      },
      {
        "duration": 8,
        "start_time": "2022-02-14T10:00:32.936Z"
      },
      {
        "duration": 5,
        "start_time": "2022-02-14T10:00:32.946Z"
      },
      {
        "duration": 16,
        "start_time": "2022-02-14T10:00:32.953Z"
      },
      {
        "duration": 8,
        "start_time": "2022-02-14T10:00:32.971Z"
      },
      {
        "duration": 38,
        "start_time": "2022-02-14T10:00:32.980Z"
      },
      {
        "duration": 8,
        "start_time": "2022-02-14T10:00:33.019Z"
      },
      {
        "duration": 6,
        "start_time": "2022-02-14T10:00:33.029Z"
      },
      {
        "duration": 8,
        "start_time": "2022-02-14T10:00:33.036Z"
      },
      {
        "duration": 17,
        "start_time": "2022-02-14T10:00:33.046Z"
      },
      {
        "duration": 8,
        "start_time": "2022-02-14T10:00:33.065Z"
      },
      {
        "duration": 40,
        "start_time": "2022-02-14T10:00:33.075Z"
      },
      {
        "duration": 18,
        "start_time": "2022-02-14T10:00:33.116Z"
      },
      {
        "duration": 8,
        "start_time": "2022-02-14T10:00:33.135Z"
      },
      {
        "duration": 7,
        "start_time": "2022-02-14T10:00:33.145Z"
      },
      {
        "duration": 12,
        "start_time": "2022-02-14T10:51:53.550Z"
      },
      {
        "duration": 15,
        "start_time": "2022-02-14T10:52:00.139Z"
      },
      {
        "duration": 633,
        "start_time": "2022-02-14T11:04:24.108Z"
      },
      {
        "duration": 10,
        "start_time": "2022-02-14T11:04:24.743Z"
      },
      {
        "duration": 3,
        "start_time": "2022-02-14T11:04:24.755Z"
      },
      {
        "duration": 9,
        "start_time": "2022-02-14T11:04:24.760Z"
      },
      {
        "duration": 46,
        "start_time": "2022-02-14T11:04:24.771Z"
      },
      {
        "duration": 12,
        "start_time": "2022-02-14T11:04:24.819Z"
      },
      {
        "duration": 6,
        "start_time": "2022-02-14T11:04:24.833Z"
      },
      {
        "duration": 4,
        "start_time": "2022-02-14T11:04:24.843Z"
      },
      {
        "duration": 5,
        "start_time": "2022-02-14T11:04:24.849Z"
      },
      {
        "duration": 56,
        "start_time": "2022-02-14T11:04:24.856Z"
      },
      {
        "duration": 5,
        "start_time": "2022-02-14T11:04:24.914Z"
      },
      {
        "duration": 13,
        "start_time": "2022-02-14T11:04:24.921Z"
      },
      {
        "duration": 13,
        "start_time": "2022-02-14T11:04:24.936Z"
      },
      {
        "duration": 7,
        "start_time": "2022-02-14T11:04:24.951Z"
      },
      {
        "duration": 8,
        "start_time": "2022-02-14T11:04:24.960Z"
      },
      {
        "duration": 11,
        "start_time": "2022-02-14T11:04:24.969Z"
      },
      {
        "duration": 35,
        "start_time": "2022-02-14T11:04:24.982Z"
      },
      {
        "duration": 11,
        "start_time": "2022-02-14T11:04:25.018Z"
      },
      {
        "duration": 5,
        "start_time": "2022-02-14T11:04:25.030Z"
      },
      {
        "duration": 8,
        "start_time": "2022-02-14T11:04:25.037Z"
      },
      {
        "duration": 10,
        "start_time": "2022-02-14T11:04:25.046Z"
      },
      {
        "duration": 17,
        "start_time": "2022-02-14T11:04:25.057Z"
      },
      {
        "duration": 41,
        "start_time": "2022-02-14T11:04:25.078Z"
      },
      {
        "duration": 6,
        "start_time": "2022-02-14T11:04:25.121Z"
      },
      {
        "duration": 24,
        "start_time": "2022-02-14T11:04:25.128Z"
      },
      {
        "duration": 7,
        "start_time": "2022-02-14T11:04:25.153Z"
      },
      {
        "duration": 8,
        "start_time": "2022-02-14T11:04:25.162Z"
      },
      {
        "duration": 13,
        "start_time": "2022-02-14T11:04:25.171Z"
      },
      {
        "duration": 21,
        "start_time": "2022-02-14T11:04:25.212Z"
      },
      {
        "duration": 24,
        "start_time": "2022-02-14T11:04:25.235Z"
      },
      {
        "duration": 22,
        "start_time": "2022-02-14T11:04:25.261Z"
      },
      {
        "duration": 56,
        "start_time": "2022-02-14T11:04:25.285Z"
      },
      {
        "duration": 13,
        "start_time": "2022-02-14T11:04:25.342Z"
      },
      {
        "duration": 9,
        "start_time": "2022-02-14T11:04:25.357Z"
      },
      {
        "duration": 12,
        "start_time": "2022-02-14T11:04:25.368Z"
      },
      {
        "duration": 40,
        "start_time": "2022-02-14T11:04:25.381Z"
      },
      {
        "duration": 14,
        "start_time": "2022-02-14T11:04:25.422Z"
      },
      {
        "duration": 17,
        "start_time": "2022-02-14T11:04:25.438Z"
      },
      {
        "duration": 9,
        "start_time": "2022-02-14T11:04:25.457Z"
      },
      {
        "duration": 13,
        "start_time": "2022-02-14T11:04:25.468Z"
      },
      {
        "duration": 44,
        "start_time": "2022-02-14T11:04:25.482Z"
      },
      {
        "duration": 5,
        "start_time": "2022-02-14T11:04:25.527Z"
      },
      {
        "duration": 6,
        "start_time": "2022-02-14T11:04:25.534Z"
      },
      {
        "duration": 17,
        "start_time": "2022-02-14T11:04:25.541Z"
      },
      {
        "duration": 8,
        "start_time": "2022-02-14T11:04:25.560Z"
      },
      {
        "duration": 16,
        "start_time": "2022-02-14T11:04:25.569Z"
      },
      {
        "duration": 40,
        "start_time": "2022-02-14T11:04:25.586Z"
      },
      {
        "duration": 9,
        "start_time": "2022-02-14T11:04:25.627Z"
      },
      {
        "duration": 8,
        "start_time": "2022-02-14T11:04:25.638Z"
      },
      {
        "duration": 7,
        "start_time": "2022-02-14T11:04:25.648Z"
      },
      {
        "duration": 6,
        "start_time": "2022-02-14T11:04:25.656Z"
      },
      {
        "duration": 6,
        "start_time": "2022-02-14T11:04:25.663Z"
      },
      {
        "duration": 55,
        "start_time": "2022-02-14T11:04:25.670Z"
      },
      {
        "duration": 9,
        "start_time": "2022-02-14T11:04:25.726Z"
      },
      {
        "duration": 8,
        "start_time": "2022-02-14T11:04:25.737Z"
      },
      {
        "duration": 18,
        "start_time": "2022-02-14T11:04:25.746Z"
      },
      {
        "duration": 8,
        "start_time": "2022-02-14T11:04:25.766Z"
      },
      {
        "duration": 37,
        "start_time": "2022-02-14T11:04:25.776Z"
      },
      {
        "duration": 10,
        "start_time": "2022-02-14T11:12:32.075Z"
      },
      {
        "duration": 6,
        "start_time": "2022-02-14T11:21:16.355Z"
      },
      {
        "duration": 68,
        "start_time": "2022-02-14T11:26:22.597Z"
      },
      {
        "duration": 624,
        "start_time": "2022-02-14T11:27:48.429Z"
      },
      {
        "duration": 11,
        "start_time": "2022-02-14T11:27:49.055Z"
      },
      {
        "duration": 4,
        "start_time": "2022-02-14T11:27:49.067Z"
      },
      {
        "duration": 9,
        "start_time": "2022-02-14T11:27:49.073Z"
      },
      {
        "duration": 47,
        "start_time": "2022-02-14T11:27:49.084Z"
      },
      {
        "duration": 11,
        "start_time": "2022-02-14T11:27:49.132Z"
      },
      {
        "duration": 5,
        "start_time": "2022-02-14T11:27:49.144Z"
      },
      {
        "duration": 4,
        "start_time": "2022-02-14T11:27:49.151Z"
      },
      {
        "duration": 4,
        "start_time": "2022-02-14T11:27:49.157Z"
      },
      {
        "duration": 18,
        "start_time": "2022-02-14T11:27:49.162Z"
      },
      {
        "duration": 4,
        "start_time": "2022-02-14T11:27:49.213Z"
      },
      {
        "duration": 10,
        "start_time": "2022-02-14T11:27:49.218Z"
      },
      {
        "duration": 12,
        "start_time": "2022-02-14T11:27:49.229Z"
      },
      {
        "duration": 5,
        "start_time": "2022-02-14T11:27:49.242Z"
      },
      {
        "duration": 3,
        "start_time": "2022-02-14T11:27:49.249Z"
      },
      {
        "duration": 9,
        "start_time": "2022-02-14T11:27:49.253Z"
      },
      {
        "duration": 6,
        "start_time": "2022-02-14T11:27:49.263Z"
      },
      {
        "duration": 51,
        "start_time": "2022-02-14T11:27:49.270Z"
      },
      {
        "duration": 5,
        "start_time": "2022-02-14T11:27:49.323Z"
      },
      {
        "duration": 6,
        "start_time": "2022-02-14T11:27:49.330Z"
      },
      {
        "duration": 4,
        "start_time": "2022-02-14T11:27:49.338Z"
      },
      {
        "duration": 7,
        "start_time": "2022-02-14T11:27:49.344Z"
      },
      {
        "duration": 16,
        "start_time": "2022-02-14T11:27:49.355Z"
      },
      {
        "duration": 43,
        "start_time": "2022-02-14T11:27:49.373Z"
      },
      {
        "duration": 18,
        "start_time": "2022-02-14T11:27:49.418Z"
      },
      {
        "duration": 7,
        "start_time": "2022-02-14T11:27:49.438Z"
      },
      {
        "duration": 7,
        "start_time": "2022-02-14T11:27:49.446Z"
      },
      {
        "duration": 12,
        "start_time": "2022-02-14T11:27:49.455Z"
      },
      {
        "duration": 47,
        "start_time": "2022-02-14T11:27:49.469Z"
      },
      {
        "duration": 24,
        "start_time": "2022-02-14T11:27:49.517Z"
      },
      {
        "duration": 22,
        "start_time": "2022-02-14T11:27:49.542Z"
      },
      {
        "duration": 54,
        "start_time": "2022-02-14T11:27:49.566Z"
      },
      {
        "duration": 14,
        "start_time": "2022-02-14T11:27:49.622Z"
      },
      {
        "duration": 10,
        "start_time": "2022-02-14T11:27:49.637Z"
      },
      {
        "duration": 12,
        "start_time": "2022-02-14T11:27:49.648Z"
      },
      {
        "duration": 11,
        "start_time": "2022-02-14T11:27:49.661Z"
      },
      {
        "duration": 39,
        "start_time": "2022-02-14T11:27:49.673Z"
      },
      {
        "duration": 15,
        "start_time": "2022-02-14T11:27:49.714Z"
      },
      {
        "duration": 8,
        "start_time": "2022-02-14T11:27:49.731Z"
      },
      {
        "duration": 13,
        "start_time": "2022-02-14T11:27:49.740Z"
      },
      {
        "duration": 14,
        "start_time": "2022-02-14T11:27:49.755Z"
      },
      {
        "duration": 6,
        "start_time": "2022-02-14T11:27:49.770Z"
      },
      {
        "duration": 56,
        "start_time": "2022-02-14T11:27:49.813Z"
      },
      {
        "duration": -1184,
        "start_time": "2022-02-14T11:27:51.054Z"
      },
      {
        "duration": -1203,
        "start_time": "2022-02-14T11:27:51.074Z"
      },
      {
        "duration": -1209,
        "start_time": "2022-02-14T11:27:51.081Z"
      },
      {
        "duration": -1215,
        "start_time": "2022-02-14T11:27:51.088Z"
      },
      {
        "duration": -1233,
        "start_time": "2022-02-14T11:27:51.107Z"
      },
      {
        "duration": -1239,
        "start_time": "2022-02-14T11:27:51.114Z"
      },
      {
        "duration": -1251,
        "start_time": "2022-02-14T11:27:51.127Z"
      },
      {
        "duration": -1263,
        "start_time": "2022-02-14T11:27:51.140Z"
      },
      {
        "duration": -1269,
        "start_time": "2022-02-14T11:27:51.146Z"
      },
      {
        "duration": -1281,
        "start_time": "2022-02-14T11:27:51.159Z"
      },
      {
        "duration": -1287,
        "start_time": "2022-02-14T11:27:51.166Z"
      },
      {
        "duration": -1299,
        "start_time": "2022-02-14T11:27:51.179Z"
      },
      {
        "duration": -1309,
        "start_time": "2022-02-14T11:27:51.190Z"
      },
      {
        "duration": -1316,
        "start_time": "2022-02-14T11:27:51.198Z"
      },
      {
        "duration": -1321,
        "start_time": "2022-02-14T11:27:51.204Z"
      },
      {
        "duration": -1328,
        "start_time": "2022-02-14T11:27:51.211Z"
      },
      {
        "duration": -1333,
        "start_time": "2022-02-14T11:27:51.217Z"
      },
      {
        "duration": -1338,
        "start_time": "2022-02-14T11:27:51.223Z"
      },
      {
        "duration": 630,
        "start_time": "2022-02-14T11:28:21.422Z"
      },
      {
        "duration": 11,
        "start_time": "2022-02-14T11:28:22.054Z"
      },
      {
        "duration": 4,
        "start_time": "2022-02-14T11:28:22.067Z"
      },
      {
        "duration": 9,
        "start_time": "2022-02-14T11:28:22.073Z"
      },
      {
        "duration": 42,
        "start_time": "2022-02-14T11:28:22.084Z"
      },
      {
        "duration": 10,
        "start_time": "2022-02-14T11:28:22.128Z"
      },
      {
        "duration": 5,
        "start_time": "2022-02-14T11:28:22.140Z"
      },
      {
        "duration": 4,
        "start_time": "2022-02-14T11:28:22.147Z"
      },
      {
        "duration": 5,
        "start_time": "2022-02-14T11:28:22.153Z"
      },
      {
        "duration": 57,
        "start_time": "2022-02-14T11:28:22.159Z"
      },
      {
        "duration": 3,
        "start_time": "2022-02-14T11:28:22.218Z"
      },
      {
        "duration": 10,
        "start_time": "2022-02-14T11:28:22.223Z"
      },
      {
        "duration": 12,
        "start_time": "2022-02-14T11:28:22.234Z"
      },
      {
        "duration": 5,
        "start_time": "2022-02-14T11:28:22.247Z"
      },
      {
        "duration": 3,
        "start_time": "2022-02-14T11:28:22.254Z"
      },
      {
        "duration": 10,
        "start_time": "2022-02-14T11:28:22.259Z"
      },
      {
        "duration": 43,
        "start_time": "2022-02-14T11:28:22.270Z"
      },
      {
        "duration": 11,
        "start_time": "2022-02-14T11:28:22.315Z"
      },
      {
        "duration": 5,
        "start_time": "2022-02-14T11:28:22.328Z"
      },
      {
        "duration": 7,
        "start_time": "2022-02-14T11:28:22.335Z"
      },
      {
        "duration": 6,
        "start_time": "2022-02-14T11:28:22.343Z"
      },
      {
        "duration": 7,
        "start_time": "2022-02-14T11:28:22.350Z"
      },
      {
        "duration": 52,
        "start_time": "2022-02-14T11:28:22.361Z"
      },
      {
        "duration": 10,
        "start_time": "2022-02-14T11:28:22.416Z"
      },
      {
        "duration": 19,
        "start_time": "2022-02-14T11:28:22.427Z"
      },
      {
        "duration": 6,
        "start_time": "2022-02-14T11:28:22.448Z"
      },
      {
        "duration": 7,
        "start_time": "2022-02-14T11:28:22.456Z"
      },
      {
        "duration": 12,
        "start_time": "2022-02-14T11:28:22.464Z"
      },
      {
        "duration": 52,
        "start_time": "2022-02-14T11:28:22.478Z"
      },
      {
        "duration": 23,
        "start_time": "2022-02-14T11:28:22.532Z"
      },
      {
        "duration": 23,
        "start_time": "2022-02-14T11:28:22.557Z"
      },
      {
        "duration": 56,
        "start_time": "2022-02-14T11:28:22.581Z"
      },
      {
        "duration": 13,
        "start_time": "2022-02-14T11:28:22.639Z"
      },
      {
        "duration": 10,
        "start_time": "2022-02-14T11:28:22.654Z"
      },
      {
        "duration": 13,
        "start_time": "2022-02-14T11:28:22.665Z"
      },
      {
        "duration": 35,
        "start_time": "2022-02-14T11:28:22.680Z"
      },
      {
        "duration": 12,
        "start_time": "2022-02-14T11:28:22.716Z"
      },
      {
        "duration": 15,
        "start_time": "2022-02-14T11:28:22.729Z"
      },
      {
        "duration": 7,
        "start_time": "2022-02-14T11:28:22.746Z"
      },
      {
        "duration": 14,
        "start_time": "2022-02-14T11:28:22.754Z"
      },
      {
        "duration": 46,
        "start_time": "2022-02-14T11:28:22.770Z"
      },
      {
        "duration": 5,
        "start_time": "2022-02-14T11:28:22.818Z"
      },
      {
        "duration": 4842,
        "start_time": "2022-02-14T11:28:22.825Z"
      },
      {
        "duration": -58,
        "start_time": "2022-02-14T11:28:27.726Z"
      },
      {
        "duration": -85,
        "start_time": "2022-02-14T11:28:27.754Z"
      },
      {
        "duration": -92,
        "start_time": "2022-02-14T11:28:27.762Z"
      },
      {
        "duration": -97,
        "start_time": "2022-02-14T11:28:27.768Z"
      },
      {
        "duration": -103,
        "start_time": "2022-02-14T11:28:27.775Z"
      },
      {
        "duration": -108,
        "start_time": "2022-02-14T11:28:27.781Z"
      },
      {
        "duration": -114,
        "start_time": "2022-02-14T11:28:27.788Z"
      },
      {
        "duration": -119,
        "start_time": "2022-02-14T11:28:27.794Z"
      },
      {
        "duration": -125,
        "start_time": "2022-02-14T11:28:27.801Z"
      },
      {
        "duration": -130,
        "start_time": "2022-02-14T11:28:27.807Z"
      },
      {
        "duration": -136,
        "start_time": "2022-02-14T11:28:27.814Z"
      },
      {
        "duration": -141,
        "start_time": "2022-02-14T11:28:27.820Z"
      },
      {
        "duration": -147,
        "start_time": "2022-02-14T11:28:27.827Z"
      },
      {
        "duration": -153,
        "start_time": "2022-02-14T11:28:27.834Z"
      },
      {
        "duration": -158,
        "start_time": "2022-02-14T11:28:27.840Z"
      },
      {
        "duration": -163,
        "start_time": "2022-02-14T11:28:27.846Z"
      },
      {
        "duration": -187,
        "start_time": "2022-02-14T11:28:27.871Z"
      },
      {
        "duration": -199,
        "start_time": "2022-02-14T11:28:27.884Z"
      },
      {
        "duration": 1004,
        "start_time": "2022-02-14T11:28:55.240Z"
      },
      {
        "duration": 821,
        "start_time": "2022-02-14T11:30:13.909Z"
      },
      {
        "duration": 15,
        "start_time": "2022-02-14T11:30:28.663Z"
      },
      {
        "duration": 12,
        "start_time": "2022-02-14T11:30:38.909Z"
      },
      {
        "duration": 19,
        "start_time": "2022-02-14T11:30:49.093Z"
      },
      {
        "duration": 6,
        "start_time": "2022-02-14T11:31:40.099Z"
      },
      {
        "duration": 13,
        "start_time": "2022-02-14T11:36:32.206Z"
      },
      {
        "duration": 15,
        "start_time": "2022-02-14T11:36:34.667Z"
      },
      {
        "duration": 72,
        "start_time": "2022-02-14T11:38:33.428Z"
      },
      {
        "duration": 19,
        "start_time": "2022-02-14T11:40:38.377Z"
      },
      {
        "duration": 7045,
        "start_time": "2022-02-14T11:42:15.568Z"
      },
      {
        "duration": 202,
        "start_time": "2022-02-14T11:47:09.572Z"
      },
      {
        "duration": 14,
        "start_time": "2022-02-14T11:47:22.625Z"
      },
      {
        "duration": 3,
        "start_time": "2022-02-14T11:47:31.496Z"
      },
      {
        "duration": 14,
        "start_time": "2022-02-14T11:47:37.584Z"
      },
      {
        "duration": 15,
        "start_time": "2022-02-14T11:47:40.472Z"
      },
      {
        "duration": 624,
        "start_time": "2022-02-14T11:48:00.957Z"
      },
      {
        "duration": 12,
        "start_time": "2022-02-14T11:48:01.583Z"
      },
      {
        "duration": 15,
        "start_time": "2022-02-14T11:48:01.598Z"
      },
      {
        "duration": 17,
        "start_time": "2022-02-14T11:48:01.615Z"
      },
      {
        "duration": 22,
        "start_time": "2022-02-14T11:48:01.634Z"
      },
      {
        "duration": 10,
        "start_time": "2022-02-14T11:48:01.657Z"
      },
      {
        "duration": 5,
        "start_time": "2022-02-14T11:48:01.669Z"
      },
      {
        "duration": 17,
        "start_time": "2022-02-14T11:48:01.676Z"
      },
      {
        "duration": 20,
        "start_time": "2022-02-14T11:48:01.695Z"
      },
      {
        "duration": 22,
        "start_time": "2022-02-14T11:48:01.717Z"
      },
      {
        "duration": 4,
        "start_time": "2022-02-14T11:48:01.741Z"
      },
      {
        "duration": 19,
        "start_time": "2022-02-14T11:48:01.746Z"
      },
      {
        "duration": 16,
        "start_time": "2022-02-14T11:48:01.767Z"
      },
      {
        "duration": 6,
        "start_time": "2022-02-14T11:48:01.785Z"
      },
      {
        "duration": 4,
        "start_time": "2022-02-14T11:48:01.812Z"
      },
      {
        "duration": 11,
        "start_time": "2022-02-14T11:48:01.818Z"
      },
      {
        "duration": 5,
        "start_time": "2022-02-14T11:48:01.831Z"
      },
      {
        "duration": 14,
        "start_time": "2022-02-14T11:48:01.838Z"
      },
      {
        "duration": 7,
        "start_time": "2022-02-14T11:48:01.854Z"
      },
      {
        "duration": 6,
        "start_time": "2022-02-14T11:48:01.863Z"
      },
      {
        "duration": 41,
        "start_time": "2022-02-14T11:48:01.871Z"
      },
      {
        "duration": 8,
        "start_time": "2022-02-14T11:48:01.914Z"
      },
      {
        "duration": 20,
        "start_time": "2022-02-14T11:48:01.926Z"
      },
      {
        "duration": 7,
        "start_time": "2022-02-14T11:48:01.948Z"
      },
      {
        "duration": 20,
        "start_time": "2022-02-14T11:48:01.957Z"
      },
      {
        "duration": 35,
        "start_time": "2022-02-14T11:48:01.979Z"
      },
      {
        "duration": 7,
        "start_time": "2022-02-14T11:48:02.016Z"
      },
      {
        "duration": 20,
        "start_time": "2022-02-14T11:48:02.025Z"
      },
      {
        "duration": 22,
        "start_time": "2022-02-14T11:48:02.046Z"
      },
      {
        "duration": 50,
        "start_time": "2022-02-14T11:48:02.069Z"
      },
      {
        "duration": 23,
        "start_time": "2022-02-14T11:48:02.121Z"
      },
      {
        "duration": 32,
        "start_time": "2022-02-14T11:48:02.146Z"
      },
      {
        "duration": 39,
        "start_time": "2022-02-14T11:48:02.180Z"
      },
      {
        "duration": 11,
        "start_time": "2022-02-14T11:48:02.221Z"
      },
      {
        "duration": 12,
        "start_time": "2022-02-14T11:48:02.234Z"
      },
      {
        "duration": 15,
        "start_time": "2022-02-14T11:48:02.248Z"
      },
      {
        "duration": 12,
        "start_time": "2022-02-14T11:48:02.264Z"
      },
      {
        "duration": 46,
        "start_time": "2022-02-14T11:48:02.278Z"
      },
      {
        "duration": 7,
        "start_time": "2022-02-14T11:48:02.326Z"
      },
      {
        "duration": 16,
        "start_time": "2022-02-14T11:48:02.335Z"
      },
      {
        "duration": 14,
        "start_time": "2022-02-14T11:48:02.353Z"
      },
      {
        "duration": 25,
        "start_time": "2022-02-14T11:48:02.369Z"
      },
      {
        "duration": 29,
        "start_time": "2022-02-14T11:48:02.395Z"
      },
      {
        "duration": 18,
        "start_time": "2022-02-14T11:48:02.426Z"
      },
      {
        "duration": 16,
        "start_time": "2022-02-14T11:48:02.445Z"
      },
      {
        "duration": 3,
        "start_time": "2022-02-14T11:48:02.463Z"
      },
      {
        "duration": 23,
        "start_time": "2022-02-14T11:48:02.467Z"
      },
      {
        "duration": 28,
        "start_time": "2022-02-14T11:48:02.492Z"
      },
      {
        "duration": 14,
        "start_time": "2022-02-14T11:48:02.522Z"
      },
      {
        "duration": 26,
        "start_time": "2022-02-14T11:48:02.538Z"
      },
      {
        "duration": 9,
        "start_time": "2022-02-14T11:48:02.566Z"
      },
      {
        "duration": 15,
        "start_time": "2022-02-14T11:48:02.577Z"
      },
      {
        "duration": 35,
        "start_time": "2022-02-14T11:48:02.594Z"
      },
      {
        "duration": 16,
        "start_time": "2022-02-14T11:48:02.630Z"
      },
      {
        "duration": 6,
        "start_time": "2022-02-14T11:48:02.647Z"
      },
      {
        "duration": 29,
        "start_time": "2022-02-14T11:48:02.654Z"
      },
      {
        "duration": 9,
        "start_time": "2022-02-14T11:48:02.684Z"
      },
      {
        "duration": 10,
        "start_time": "2022-02-14T11:48:02.695Z"
      },
      {
        "duration": 25,
        "start_time": "2022-02-14T11:48:02.706Z"
      },
      {
        "duration": 8,
        "start_time": "2022-02-14T11:48:02.733Z"
      },
      {
        "duration": 8,
        "start_time": "2022-02-14T11:48:02.743Z"
      },
      {
        "duration": 14,
        "start_time": "2022-02-14T11:51:43.329Z"
      },
      {
        "duration": 14,
        "start_time": "2022-02-14T11:51:50.990Z"
      },
      {
        "duration": 55,
        "start_time": "2022-02-14T11:52:44.768Z"
      },
      {
        "duration": 65,
        "start_time": "2022-02-14T11:55:05.315Z"
      },
      {
        "duration": 652,
        "start_time": "2022-02-14T11:55:18.017Z"
      },
      {
        "duration": 12,
        "start_time": "2022-02-14T11:55:18.671Z"
      },
      {
        "duration": 5,
        "start_time": "2022-02-14T11:55:18.685Z"
      },
      {
        "duration": 28,
        "start_time": "2022-02-14T11:55:18.692Z"
      },
      {
        "duration": 21,
        "start_time": "2022-02-14T11:55:18.722Z"
      },
      {
        "duration": 10,
        "start_time": "2022-02-14T11:55:18.745Z"
      },
      {
        "duration": 4,
        "start_time": "2022-02-14T11:55:18.757Z"
      },
      {
        "duration": 4,
        "start_time": "2022-02-14T11:55:18.764Z"
      },
      {
        "duration": 42,
        "start_time": "2022-02-14T11:55:18.770Z"
      },
      {
        "duration": 15,
        "start_time": "2022-02-14T11:55:18.814Z"
      },
      {
        "duration": 3,
        "start_time": "2022-02-14T11:55:18.831Z"
      },
      {
        "duration": 7,
        "start_time": "2022-02-14T11:55:18.836Z"
      },
      {
        "duration": 11,
        "start_time": "2022-02-14T11:55:18.845Z"
      },
      {
        "duration": 5,
        "start_time": "2022-02-14T11:55:18.857Z"
      },
      {
        "duration": 48,
        "start_time": "2022-02-14T11:55:18.864Z"
      },
      {
        "duration": 8,
        "start_time": "2022-02-14T11:55:18.914Z"
      },
      {
        "duration": 7,
        "start_time": "2022-02-14T11:55:18.924Z"
      },
      {
        "duration": 10,
        "start_time": "2022-02-14T11:55:18.933Z"
      },
      {
        "duration": 5,
        "start_time": "2022-02-14T11:55:18.944Z"
      },
      {
        "duration": 6,
        "start_time": "2022-02-14T11:55:18.951Z"
      },
      {
        "duration": 6,
        "start_time": "2022-02-14T11:55:18.958Z"
      },
      {
        "duration": 8,
        "start_time": "2022-02-14T11:55:19.013Z"
      },
      {
        "duration": 17,
        "start_time": "2022-02-14T11:55:19.024Z"
      },
      {
        "duration": 7,
        "start_time": "2022-02-14T11:55:19.043Z"
      },
      {
        "duration": 19,
        "start_time": "2022-02-14T11:55:19.051Z"
      },
      {
        "duration": 42,
        "start_time": "2022-02-14T11:55:19.071Z"
      },
      {
        "duration": 10,
        "start_time": "2022-02-14T11:55:19.115Z"
      },
      {
        "duration": 14,
        "start_time": "2022-02-14T11:55:19.127Z"
      },
      {
        "duration": 20,
        "start_time": "2022-02-14T11:55:19.142Z"
      },
      {
        "duration": 56,
        "start_time": "2022-02-14T11:55:19.164Z"
      },
      {
        "duration": 22,
        "start_time": "2022-02-14T11:55:19.221Z"
      },
      {
        "duration": 30,
        "start_time": "2022-02-14T11:55:19.244Z"
      },
      {
        "duration": 41,
        "start_time": "2022-02-14T11:55:19.276Z"
      },
      {
        "duration": 11,
        "start_time": "2022-02-14T11:55:19.319Z"
      },
      {
        "duration": 12,
        "start_time": "2022-02-14T11:55:19.332Z"
      },
      {
        "duration": 11,
        "start_time": "2022-02-14T11:55:19.345Z"
      },
      {
        "duration": 11,
        "start_time": "2022-02-14T11:55:19.358Z"
      },
      {
        "duration": 56,
        "start_time": "2022-02-14T11:55:19.370Z"
      },
      {
        "duration": 10,
        "start_time": "2022-02-14T11:55:19.428Z"
      },
      {
        "duration": 14,
        "start_time": "2022-02-14T11:55:19.440Z"
      },
      {
        "duration": 6,
        "start_time": "2022-02-14T11:55:19.455Z"
      },
      {
        "duration": 12,
        "start_time": "2022-02-14T11:55:19.462Z"
      },
      {
        "duration": 51,
        "start_time": "2022-02-14T11:55:19.476Z"
      },
      {
        "duration": 63,
        "start_time": "2022-02-14T11:55:19.528Z"
      },
      {
        "duration": -1001,
        "start_time": "2022-02-14T11:55:20.593Z"
      },
      {
        "duration": -1017,
        "start_time": "2022-02-14T11:55:20.611Z"
      },
      {
        "duration": -1092,
        "start_time": "2022-02-14T11:55:20.686Z"
      },
      {
        "duration": -1098,
        "start_time": "2022-02-14T11:55:20.693Z"
      },
      {
        "duration": -1103,
        "start_time": "2022-02-14T11:55:20.699Z"
      },
      {
        "duration": -1109,
        "start_time": "2022-02-14T11:55:20.706Z"
      },
      {
        "duration": -1113,
        "start_time": "2022-02-14T11:55:20.712Z"
      },
      {
        "duration": -1118,
        "start_time": "2022-02-14T11:55:20.718Z"
      },
      {
        "duration": -1124,
        "start_time": "2022-02-14T11:55:20.725Z"
      },
      {
        "duration": -1155,
        "start_time": "2022-02-14T11:55:20.757Z"
      },
      {
        "duration": -1175,
        "start_time": "2022-02-14T11:55:20.778Z"
      },
      {
        "duration": -1181,
        "start_time": "2022-02-14T11:55:20.785Z"
      },
      {
        "duration": -1187,
        "start_time": "2022-02-14T11:55:20.792Z"
      },
      {
        "duration": -1192,
        "start_time": "2022-02-14T11:55:20.798Z"
      },
      {
        "duration": -1197,
        "start_time": "2022-02-14T11:55:20.804Z"
      },
      {
        "duration": 7038,
        "start_time": "2022-02-14T11:56:03.403Z"
      },
      {
        "duration": 54,
        "start_time": "2022-02-14T11:56:25.149Z"
      },
      {
        "duration": 476,
        "start_time": "2022-02-14T11:56:53.113Z"
      },
      {
        "duration": 67,
        "start_time": "2022-02-14T11:58:02.785Z"
      },
      {
        "duration": 14,
        "start_time": "2022-02-14T11:58:20.032Z"
      },
      {
        "duration": 66,
        "start_time": "2022-02-14T11:59:54.800Z"
      },
      {
        "duration": 14,
        "start_time": "2022-02-14T12:00:10.225Z"
      },
      {
        "duration": 663,
        "start_time": "2022-02-14T12:05:38.930Z"
      },
      {
        "duration": 11,
        "start_time": "2022-02-14T12:05:39.595Z"
      },
      {
        "duration": 4,
        "start_time": "2022-02-14T12:05:39.612Z"
      },
      {
        "duration": 9,
        "start_time": "2022-02-14T12:05:39.618Z"
      },
      {
        "duration": 23,
        "start_time": "2022-02-14T12:05:39.629Z"
      },
      {
        "duration": 11,
        "start_time": "2022-02-14T12:05:39.654Z"
      },
      {
        "duration": 6,
        "start_time": "2022-02-14T12:05:39.666Z"
      },
      {
        "duration": 41,
        "start_time": "2022-02-14T12:05:39.674Z"
      },
      {
        "duration": 5,
        "start_time": "2022-02-14T12:05:39.717Z"
      },
      {
        "duration": 16,
        "start_time": "2022-02-14T12:05:39.723Z"
      },
      {
        "duration": 4,
        "start_time": "2022-02-14T12:05:39.740Z"
      },
      {
        "duration": 9,
        "start_time": "2022-02-14T12:05:39.745Z"
      },
      {
        "duration": 11,
        "start_time": "2022-02-14T12:05:39.755Z"
      },
      {
        "duration": 5,
        "start_time": "2022-02-14T12:05:39.768Z"
      },
      {
        "duration": 3,
        "start_time": "2022-02-14T12:05:39.813Z"
      },
      {
        "duration": 12,
        "start_time": "2022-02-14T12:05:39.818Z"
      },
      {
        "duration": 8,
        "start_time": "2022-02-14T12:05:39.832Z"
      },
      {
        "duration": 12,
        "start_time": "2022-02-14T12:05:39.841Z"
      },
      {
        "duration": 5,
        "start_time": "2022-02-14T12:05:39.855Z"
      },
      {
        "duration": 5,
        "start_time": "2022-02-14T12:05:39.862Z"
      },
      {
        "duration": 46,
        "start_time": "2022-02-14T12:05:39.868Z"
      },
      {
        "duration": 7,
        "start_time": "2022-02-14T12:05:39.916Z"
      },
      {
        "duration": 16,
        "start_time": "2022-02-14T12:05:39.926Z"
      },
      {
        "duration": 6,
        "start_time": "2022-02-14T12:05:39.944Z"
      },
      {
        "duration": 18,
        "start_time": "2022-02-14T12:05:39.952Z"
      },
      {
        "duration": 43,
        "start_time": "2022-02-14T12:05:39.971Z"
      },
      {
        "duration": 13,
        "start_time": "2022-02-14T12:05:40.017Z"
      },
      {
        "duration": 19,
        "start_time": "2022-02-14T12:05:40.032Z"
      },
      {
        "duration": 21,
        "start_time": "2022-02-14T12:05:40.052Z"
      },
      {
        "duration": 56,
        "start_time": "2022-02-14T12:05:40.075Z"
      },
      {
        "duration": 21,
        "start_time": "2022-02-14T12:05:40.132Z"
      },
      {
        "duration": 30,
        "start_time": "2022-02-14T12:05:40.155Z"
      },
      {
        "duration": 33,
        "start_time": "2022-02-14T12:05:40.187Z"
      },
      {
        "duration": 11,
        "start_time": "2022-02-14T12:05:40.221Z"
      },
      {
        "duration": 12,
        "start_time": "2022-02-14T12:05:40.234Z"
      },
      {
        "duration": 12,
        "start_time": "2022-02-14T12:05:40.247Z"
      },
      {
        "duration": 12,
        "start_time": "2022-02-14T12:05:40.260Z"
      },
      {
        "duration": 49,
        "start_time": "2022-02-14T12:05:40.273Z"
      },
      {
        "duration": 11,
        "start_time": "2022-02-14T12:05:40.323Z"
      },
      {
        "duration": 16,
        "start_time": "2022-02-14T12:05:40.335Z"
      },
      {
        "duration": 5,
        "start_time": "2022-02-14T12:05:40.353Z"
      },
      {
        "duration": 12,
        "start_time": "2022-02-14T12:05:40.359Z"
      },
      {
        "duration": 46,
        "start_time": "2022-02-14T12:05:40.373Z"
      },
      {
        "duration": 13,
        "start_time": "2022-02-14T12:05:40.420Z"
      },
      {
        "duration": 17,
        "start_time": "2022-02-14T12:05:40.434Z"
      },
      {
        "duration": 9,
        "start_time": "2022-02-14T12:05:40.453Z"
      },
      {
        "duration": 5,
        "start_time": "2022-02-14T12:05:40.463Z"
      },
      {
        "duration": 49,
        "start_time": "2022-02-14T12:05:40.470Z"
      },
      {
        "duration": 9,
        "start_time": "2022-02-14T12:05:40.521Z"
      },
      {
        "duration": 8,
        "start_time": "2022-02-14T12:05:40.531Z"
      },
      {
        "duration": 6,
        "start_time": "2022-02-14T12:05:40.541Z"
      },
      {
        "duration": 5,
        "start_time": "2022-02-14T12:05:40.549Z"
      },
      {
        "duration": 6,
        "start_time": "2022-02-14T12:05:40.555Z"
      },
      {
        "duration": 54,
        "start_time": "2022-02-14T12:05:40.563Z"
      },
      {
        "duration": 10,
        "start_time": "2022-02-14T12:05:40.619Z"
      },
      {
        "duration": 10,
        "start_time": "2022-02-14T12:05:40.631Z"
      },
      {
        "duration": 20,
        "start_time": "2022-02-14T12:05:40.642Z"
      },
      {
        "duration": 9,
        "start_time": "2022-02-14T12:05:40.663Z"
      },
      {
        "duration": 39,
        "start_time": "2022-02-14T12:05:40.674Z"
      },
      {
        "duration": 19,
        "start_time": "2022-02-14T12:07:21.521Z"
      },
      {
        "duration": 9,
        "start_time": "2022-02-14T12:09:27.883Z"
      },
      {
        "duration": 573,
        "start_time": "2022-02-14T12:09:46.392Z"
      },
      {
        "duration": 9,
        "start_time": "2022-02-14T12:10:06.451Z"
      },
      {
        "duration": 12,
        "start_time": "2022-02-14T12:10:34.202Z"
      },
      {
        "duration": 189,
        "start_time": "2022-02-14T12:11:25.603Z"
      },
      {
        "duration": 13,
        "start_time": "2022-02-14T12:11:45.419Z"
      },
      {
        "duration": 695,
        "start_time": "2022-02-14T12:12:14.326Z"
      },
      {
        "duration": 11,
        "start_time": "2022-02-14T12:12:15.023Z"
      },
      {
        "duration": 9,
        "start_time": "2022-02-14T12:12:15.036Z"
      },
      {
        "duration": 13,
        "start_time": "2022-02-14T12:12:15.047Z"
      },
      {
        "duration": 23,
        "start_time": "2022-02-14T12:12:15.062Z"
      },
      {
        "duration": 32,
        "start_time": "2022-02-14T12:12:15.087Z"
      },
      {
        "duration": 7,
        "start_time": "2022-02-14T12:12:15.121Z"
      },
      {
        "duration": 4,
        "start_time": "2022-02-14T12:12:15.130Z"
      },
      {
        "duration": 4,
        "start_time": "2022-02-14T12:12:15.137Z"
      },
      {
        "duration": 17,
        "start_time": "2022-02-14T12:12:15.142Z"
      },
      {
        "duration": 5,
        "start_time": "2022-02-14T12:12:15.161Z"
      },
      {
        "duration": 46,
        "start_time": "2022-02-14T12:12:15.168Z"
      },
      {
        "duration": 15,
        "start_time": "2022-02-14T12:12:15.216Z"
      },
      {
        "duration": 5,
        "start_time": "2022-02-14T12:12:15.233Z"
      },
      {
        "duration": 6,
        "start_time": "2022-02-14T12:12:15.239Z"
      },
      {
        "duration": 9,
        "start_time": "2022-02-14T12:12:15.246Z"
      },
      {
        "duration": 6,
        "start_time": "2022-02-14T12:12:15.256Z"
      },
      {
        "duration": 49,
        "start_time": "2022-02-14T12:12:15.264Z"
      },
      {
        "duration": 6,
        "start_time": "2022-02-14T12:12:15.315Z"
      },
      {
        "duration": 7,
        "start_time": "2022-02-14T12:12:15.322Z"
      },
      {
        "duration": 13,
        "start_time": "2022-02-14T12:12:15.330Z"
      },
      {
        "duration": 7,
        "start_time": "2022-02-14T12:12:15.345Z"
      },
      {
        "duration": 16,
        "start_time": "2022-02-14T12:12:15.356Z"
      },
      {
        "duration": 39,
        "start_time": "2022-02-14T12:12:15.374Z"
      },
      {
        "duration": 20,
        "start_time": "2022-02-14T12:12:15.415Z"
      },
      {
        "duration": 11,
        "start_time": "2022-02-14T12:12:15.437Z"
      },
      {
        "duration": 7,
        "start_time": "2022-02-14T12:12:15.450Z"
      },
      {
        "duration": 15,
        "start_time": "2022-02-14T12:12:15.459Z"
      },
      {
        "duration": 51,
        "start_time": "2022-02-14T12:12:15.475Z"
      },
      {
        "duration": 26,
        "start_time": "2022-02-14T12:12:15.527Z"
      },
      {
        "duration": 22,
        "start_time": "2022-02-14T12:12:15.554Z"
      },
      {
        "duration": 59,
        "start_time": "2022-02-14T12:12:15.578Z"
      },
      {
        "duration": 14,
        "start_time": "2022-02-14T12:12:15.638Z"
      },
      {
        "duration": 11,
        "start_time": "2022-02-14T12:12:15.654Z"
      },
      {
        "duration": 14,
        "start_time": "2022-02-14T12:12:15.666Z"
      },
      {
        "duration": 38,
        "start_time": "2022-02-14T12:12:15.681Z"
      },
      {
        "duration": 10,
        "start_time": "2022-02-14T12:12:15.721Z"
      },
      {
        "duration": 24,
        "start_time": "2022-02-14T12:12:15.733Z"
      },
      {
        "duration": 12,
        "start_time": "2022-02-14T12:12:15.759Z"
      },
      {
        "duration": 41,
        "start_time": "2022-02-14T12:12:15.772Z"
      },
      {
        "duration": 7,
        "start_time": "2022-02-14T12:12:15.815Z"
      },
      {
        "duration": 13,
        "start_time": "2022-02-14T12:12:15.824Z"
      },
      {
        "duration": 19,
        "start_time": "2022-02-14T12:12:15.839Z"
      },
      {
        "duration": 13,
        "start_time": "2022-02-14T12:12:15.860Z"
      },
      {
        "duration": 46,
        "start_time": "2022-02-14T12:12:15.875Z"
      },
      {
        "duration": 269,
        "start_time": "2022-02-14T12:12:15.923Z"
      },
      {
        "duration": -1012,
        "start_time": "2022-02-14T12:12:17.206Z"
      },
      {
        "duration": -1041,
        "start_time": "2022-02-14T12:12:17.236Z"
      },
      {
        "duration": -1172,
        "start_time": "2022-02-14T12:12:17.368Z"
      },
      {
        "duration": -1176,
        "start_time": "2022-02-14T12:12:17.374Z"
      },
      {
        "duration": -1181,
        "start_time": "2022-02-14T12:12:17.380Z"
      },
      {
        "duration": -1187,
        "start_time": "2022-02-14T12:12:17.387Z"
      },
      {
        "duration": -1192,
        "start_time": "2022-02-14T12:12:17.393Z"
      },
      {
        "duration": -1198,
        "start_time": "2022-02-14T12:12:17.401Z"
      },
      {
        "duration": -1216,
        "start_time": "2022-02-14T12:12:17.420Z"
      },
      {
        "duration": -1222,
        "start_time": "2022-02-14T12:12:17.428Z"
      },
      {
        "duration": -1227,
        "start_time": "2022-02-14T12:12:17.434Z"
      },
      {
        "duration": -1233,
        "start_time": "2022-02-14T12:12:17.441Z"
      },
      {
        "duration": -1237,
        "start_time": "2022-02-14T12:12:17.447Z"
      },
      {
        "duration": -1243,
        "start_time": "2022-02-14T12:12:17.454Z"
      },
      {
        "duration": 9,
        "start_time": "2022-02-14T12:12:24.083Z"
      },
      {
        "duration": 8,
        "start_time": "2022-02-14T12:12:27.361Z"
      },
      {
        "duration": 56,
        "start_time": "2022-02-14T12:17:28.521Z"
      },
      {
        "duration": 4666,
        "start_time": "2022-02-14T12:20:06.017Z"
      },
      {
        "duration": 4912,
        "start_time": "2022-02-14T12:20:20.386Z"
      },
      {
        "duration": 680,
        "start_time": "2022-02-14T12:20:57.613Z"
      },
      {
        "duration": 16,
        "start_time": "2022-02-14T12:20:58.296Z"
      },
      {
        "duration": 4,
        "start_time": "2022-02-14T12:20:58.314Z"
      },
      {
        "duration": 11,
        "start_time": "2022-02-14T12:20:58.320Z"
      },
      {
        "duration": 23,
        "start_time": "2022-02-14T12:20:58.333Z"
      },
      {
        "duration": 12,
        "start_time": "2022-02-14T12:20:58.358Z"
      },
      {
        "duration": 5,
        "start_time": "2022-02-14T12:20:58.372Z"
      },
      {
        "duration": 6,
        "start_time": "2022-02-14T12:20:58.414Z"
      },
      {
        "duration": 5,
        "start_time": "2022-02-14T12:20:58.422Z"
      },
      {
        "duration": 17,
        "start_time": "2022-02-14T12:20:58.429Z"
      },
      {
        "duration": 4,
        "start_time": "2022-02-14T12:20:58.449Z"
      },
      {
        "duration": 10,
        "start_time": "2022-02-14T12:20:58.455Z"
      },
      {
        "duration": 15,
        "start_time": "2022-02-14T12:20:58.513Z"
      },
      {
        "duration": 8,
        "start_time": "2022-02-14T12:20:58.529Z"
      },
      {
        "duration": 3,
        "start_time": "2022-02-14T12:20:58.539Z"
      },
      {
        "duration": 11,
        "start_time": "2022-02-14T12:20:58.544Z"
      },
      {
        "duration": 6,
        "start_time": "2022-02-14T12:20:58.557Z"
      },
      {
        "duration": 53,
        "start_time": "2022-02-14T12:20:58.564Z"
      },
      {
        "duration": 7,
        "start_time": "2022-02-14T12:20:58.618Z"
      },
      {
        "duration": 6,
        "start_time": "2022-02-14T12:20:58.626Z"
      },
      {
        "duration": 6,
        "start_time": "2022-02-14T12:20:58.634Z"
      },
      {
        "duration": 7,
        "start_time": "2022-02-14T12:20:58.642Z"
      },
      {
        "duration": 19,
        "start_time": "2022-02-14T12:20:58.653Z"
      },
      {
        "duration": 39,
        "start_time": "2022-02-14T12:20:58.674Z"
      },
      {
        "duration": 20,
        "start_time": "2022-02-14T12:20:58.715Z"
      },
      {
        "duration": 8,
        "start_time": "2022-02-14T12:20:58.737Z"
      },
      {
        "duration": 7,
        "start_time": "2022-02-14T12:20:58.747Z"
      },
      {
        "duration": 15,
        "start_time": "2022-02-14T12:20:58.756Z"
      },
      {
        "duration": 65,
        "start_time": "2022-02-14T12:20:58.773Z"
      },
      {
        "duration": 25,
        "start_time": "2022-02-14T12:20:58.839Z"
      },
      {
        "duration": 23,
        "start_time": "2022-02-14T12:20:58.866Z"
      },
      {
        "duration": 53,
        "start_time": "2022-02-14T12:20:58.890Z"
      },
      {
        "duration": 15,
        "start_time": "2022-02-14T12:20:58.945Z"
      },
      {
        "duration": 13,
        "start_time": "2022-02-14T12:20:58.962Z"
      },
      {
        "duration": 46,
        "start_time": "2022-02-14T12:20:58.977Z"
      },
      {
        "duration": 16,
        "start_time": "2022-02-14T12:20:59.025Z"
      },
      {
        "duration": 13,
        "start_time": "2022-02-14T12:20:59.044Z"
      },
      {
        "duration": 20,
        "start_time": "2022-02-14T12:20:59.059Z"
      },
      {
        "duration": 36,
        "start_time": "2022-02-14T12:20:59.081Z"
      },
      {
        "duration": 16,
        "start_time": "2022-02-14T12:20:59.119Z"
      },
      {
        "duration": 6,
        "start_time": "2022-02-14T12:20:59.136Z"
      },
      {
        "duration": 13,
        "start_time": "2022-02-14T12:20:59.143Z"
      },
      {
        "duration": 19,
        "start_time": "2022-02-14T12:20:59.158Z"
      },
      {
        "duration": 46,
        "start_time": "2022-02-14T12:20:59.179Z"
      },
      {
        "duration": 17,
        "start_time": "2022-02-14T12:20:59.226Z"
      },
      {
        "duration": 17,
        "start_time": "2022-02-14T12:20:59.245Z"
      },
      {
        "duration": 8,
        "start_time": "2022-02-14T12:20:59.264Z"
      },
      {
        "duration": 6460,
        "start_time": "2022-02-14T12:20:59.274Z"
      },
      {
        "duration": -47,
        "start_time": "2022-02-14T12:21:05.783Z"
      },
      {
        "duration": -54,
        "start_time": "2022-02-14T12:21:05.791Z"
      },
      {
        "duration": -66,
        "start_time": "2022-02-14T12:21:05.805Z"
      },
      {
        "duration": -77,
        "start_time": "2022-02-14T12:21:05.817Z"
      },
      {
        "duration": -83,
        "start_time": "2022-02-14T12:21:05.824Z"
      },
      {
        "duration": -96,
        "start_time": "2022-02-14T12:21:05.838Z"
      },
      {
        "duration": -100,
        "start_time": "2022-02-14T12:21:05.843Z"
      },
      {
        "duration": -107,
        "start_time": "2022-02-14T12:21:05.850Z"
      },
      {
        "duration": -112,
        "start_time": "2022-02-14T12:21:05.856Z"
      },
      {
        "duration": -118,
        "start_time": "2022-02-14T12:21:05.863Z"
      },
      {
        "duration": -122,
        "start_time": "2022-02-14T12:21:05.868Z"
      },
      {
        "duration": -128,
        "start_time": "2022-02-14T12:21:05.875Z"
      },
      {
        "duration": 4346,
        "start_time": "2022-02-14T12:21:53.599Z"
      },
      {
        "duration": 4849,
        "start_time": "2022-02-14T12:25:29.027Z"
      },
      {
        "duration": 10,
        "start_time": "2022-02-14T12:27:10.987Z"
      },
      {
        "duration": 206,
        "start_time": "2022-02-14T12:32:21.473Z"
      },
      {
        "duration": 4,
        "start_time": "2022-02-14T12:32:38.454Z"
      },
      {
        "duration": 7,
        "start_time": "2022-02-14T12:32:50.248Z"
      },
      {
        "duration": 5327,
        "start_time": "2022-02-14T12:33:16.655Z"
      },
      {
        "duration": 5837,
        "start_time": "2022-02-14T12:33:25.219Z"
      },
      {
        "duration": 4757,
        "start_time": "2022-02-14T12:33:38.801Z"
      },
      {
        "duration": 198,
        "start_time": "2022-02-14T12:33:51.809Z"
      },
      {
        "duration": 4,
        "start_time": "2022-02-14T12:34:09.170Z"
      },
      {
        "duration": 9,
        "start_time": "2022-02-14T12:34:39.472Z"
      },
      {
        "duration": 9,
        "start_time": "2022-02-14T12:35:03.673Z"
      },
      {
        "duration": 4,
        "start_time": "2022-02-14T12:35:33.729Z"
      },
      {
        "duration": 7,
        "start_time": "2022-02-14T12:36:27.065Z"
      },
      {
        "duration": 4,
        "start_time": "2022-02-14T12:37:43.848Z"
      },
      {
        "duration": 4965,
        "start_time": "2022-02-14T12:38:56.809Z"
      },
      {
        "duration": 5,
        "start_time": "2022-02-14T12:39:20.842Z"
      },
      {
        "duration": 196,
        "start_time": "2022-02-14T12:40:27.155Z"
      },
      {
        "duration": 617,
        "start_time": "2022-02-14T12:40:42.145Z"
      },
      {
        "duration": 10,
        "start_time": "2022-02-14T12:40:42.764Z"
      },
      {
        "duration": 3,
        "start_time": "2022-02-14T12:40:42.777Z"
      },
      {
        "duration": 30,
        "start_time": "2022-02-14T12:40:42.782Z"
      },
      {
        "duration": 24,
        "start_time": "2022-02-14T12:40:42.814Z"
      },
      {
        "duration": 11,
        "start_time": "2022-02-14T12:40:42.839Z"
      },
      {
        "duration": 5,
        "start_time": "2022-02-14T12:40:42.851Z"
      },
      {
        "duration": 4,
        "start_time": "2022-02-14T12:40:42.858Z"
      },
      {
        "duration": 3,
        "start_time": "2022-02-14T12:40:42.864Z"
      },
      {
        "duration": 54,
        "start_time": "2022-02-14T12:40:42.869Z"
      },
      {
        "duration": 4,
        "start_time": "2022-02-14T12:40:42.924Z"
      },
      {
        "duration": 9,
        "start_time": "2022-02-14T12:40:42.930Z"
      },
      {
        "duration": 12,
        "start_time": "2022-02-14T12:40:42.941Z"
      },
      {
        "duration": 5,
        "start_time": "2022-02-14T12:40:42.955Z"
      },
      {
        "duration": 3,
        "start_time": "2022-02-14T12:40:42.961Z"
      },
      {
        "duration": 9,
        "start_time": "2022-02-14T12:40:42.966Z"
      },
      {
        "duration": 39,
        "start_time": "2022-02-14T12:40:42.977Z"
      },
      {
        "duration": 13,
        "start_time": "2022-02-14T12:40:43.018Z"
      },
      {
        "duration": 5,
        "start_time": "2022-02-14T12:40:43.032Z"
      },
      {
        "duration": 7,
        "start_time": "2022-02-14T12:40:43.039Z"
      },
      {
        "duration": 5,
        "start_time": "2022-02-14T12:40:43.048Z"
      },
      {
        "duration": 6,
        "start_time": "2022-02-14T12:40:43.055Z"
      },
      {
        "duration": 58,
        "start_time": "2022-02-14T12:40:43.065Z"
      },
      {
        "duration": 8,
        "start_time": "2022-02-14T12:40:43.125Z"
      },
      {
        "duration": 19,
        "start_time": "2022-02-14T12:40:43.135Z"
      },
      {
        "duration": 8,
        "start_time": "2022-02-14T12:40:43.155Z"
      },
      {
        "duration": 7,
        "start_time": "2022-02-14T12:40:43.164Z"
      },
      {
        "duration": 43,
        "start_time": "2022-02-14T12:40:43.173Z"
      },
      {
        "duration": 20,
        "start_time": "2022-02-14T12:40:43.217Z"
      },
      {
        "duration": 23,
        "start_time": "2022-02-14T12:40:43.239Z"
      },
      {
        "duration": 21,
        "start_time": "2022-02-14T12:40:43.264Z"
      },
      {
        "duration": 56,
        "start_time": "2022-02-14T12:40:43.286Z"
      },
      {
        "duration": 13,
        "start_time": "2022-02-14T12:40:43.344Z"
      },
      {
        "duration": 10,
        "start_time": "2022-02-14T12:40:43.358Z"
      },
      {
        "duration": 13,
        "start_time": "2022-02-14T12:40:43.370Z"
      },
      {
        "duration": 12,
        "start_time": "2022-02-14T12:40:43.413Z"
      },
      {
        "duration": 12,
        "start_time": "2022-02-14T12:40:43.427Z"
      },
      {
        "duration": 16,
        "start_time": "2022-02-14T12:40:43.441Z"
      },
      {
        "duration": 8,
        "start_time": "2022-02-14T12:40:43.459Z"
      },
      {
        "duration": 51,
        "start_time": "2022-02-14T12:40:43.469Z"
      },
      {
        "duration": 15,
        "start_time": "2022-02-14T12:40:43.522Z"
      },
      {
        "duration": 12,
        "start_time": "2022-02-14T12:40:43.539Z"
      },
      {
        "duration": 18,
        "start_time": "2022-02-14T12:40:43.553Z"
      },
      {
        "duration": 40,
        "start_time": "2022-02-14T12:40:43.572Z"
      },
      {
        "duration": 18,
        "start_time": "2022-02-14T12:40:43.614Z"
      },
      {
        "duration": 8,
        "start_time": "2022-02-14T12:40:43.634Z"
      },
      {
        "duration": 6,
        "start_time": "2022-02-14T12:40:43.644Z"
      },
      {
        "duration": 254,
        "start_time": "2022-02-14T12:40:43.652Z"
      },
      {
        "duration": -852,
        "start_time": "2022-02-14T12:40:44.760Z"
      },
      {
        "duration": -857,
        "start_time": "2022-02-14T12:40:44.766Z"
      },
      {
        "duration": -862,
        "start_time": "2022-02-14T12:40:44.772Z"
      },
      {
        "duration": -876,
        "start_time": "2022-02-14T12:40:44.787Z"
      },
      {
        "duration": -881,
        "start_time": "2022-02-14T12:40:44.793Z"
      },
      {
        "duration": -893,
        "start_time": "2022-02-14T12:40:44.807Z"
      },
      {
        "duration": -898,
        "start_time": "2022-02-14T12:40:44.813Z"
      },
      {
        "duration": -903,
        "start_time": "2022-02-14T12:40:44.819Z"
      },
      {
        "duration": -908,
        "start_time": "2022-02-14T12:40:44.825Z"
      },
      {
        "duration": -914,
        "start_time": "2022-02-14T12:40:44.832Z"
      },
      {
        "duration": -919,
        "start_time": "2022-02-14T12:40:44.838Z"
      },
      {
        "duration": -924,
        "start_time": "2022-02-14T12:40:44.844Z"
      },
      {
        "duration": 25,
        "start_time": "2022-02-14T12:41:28.404Z"
      },
      {
        "duration": 10,
        "start_time": "2022-02-14T12:41:29.870Z"
      },
      {
        "duration": 10,
        "start_time": "2022-02-14T12:41:31.444Z"
      },
      {
        "duration": 7,
        "start_time": "2022-02-14T12:41:33.338Z"
      },
      {
        "duration": 5,
        "start_time": "2022-02-14T12:41:34.733Z"
      },
      {
        "duration": 5,
        "start_time": "2022-02-14T12:41:36.278Z"
      },
      {
        "duration": 194,
        "start_time": "2022-02-14T12:44:02.549Z"
      },
      {
        "duration": 6,
        "start_time": "2022-02-14T12:45:03.877Z"
      },
      {
        "duration": 190,
        "start_time": "2022-02-14T12:45:47.000Z"
      },
      {
        "duration": 5,
        "start_time": "2022-02-14T12:45:57.949Z"
      },
      {
        "duration": 6,
        "start_time": "2022-02-14T12:47:11.591Z"
      },
      {
        "duration": 5,
        "start_time": "2022-02-14T12:47:27.381Z"
      },
      {
        "duration": 4,
        "start_time": "2022-02-14T12:48:10.394Z"
      },
      {
        "duration": 67,
        "start_time": "2022-02-14T12:48:23.381Z"
      },
      {
        "duration": 176,
        "start_time": "2022-02-14T12:48:57.816Z"
      },
      {
        "duration": 6,
        "start_time": "2022-02-14T12:49:05.603Z"
      },
      {
        "duration": 6,
        "start_time": "2022-02-14T12:49:13.764Z"
      },
      {
        "duration": 9,
        "start_time": "2022-02-14T12:51:23.604Z"
      },
      {
        "duration": 9,
        "start_time": "2022-02-14T12:51:34.867Z"
      },
      {
        "duration": 8,
        "start_time": "2022-02-14T12:51:43.011Z"
      },
      {
        "duration": 5,
        "start_time": "2022-02-14T12:51:52.379Z"
      },
      {
        "duration": 4,
        "start_time": "2022-02-14T12:51:59.989Z"
      },
      {
        "duration": 10,
        "start_time": "2022-02-14T12:53:08.851Z"
      },
      {
        "duration": 8,
        "start_time": "2022-02-14T12:53:15.700Z"
      },
      {
        "duration": 5,
        "start_time": "2022-02-14T12:53:27.915Z"
      },
      {
        "duration": 5,
        "start_time": "2022-02-14T12:53:33.623Z"
      },
      {
        "duration": 17,
        "start_time": "2022-02-14T12:54:29.859Z"
      },
      {
        "duration": 9,
        "start_time": "2022-02-14T12:54:31.723Z"
      },
      {
        "duration": 10,
        "start_time": "2022-02-14T12:54:37.163Z"
      },
      {
        "duration": 9,
        "start_time": "2022-02-14T12:54:42.442Z"
      },
      {
        "duration": 18,
        "start_time": "2022-02-14T12:55:10.267Z"
      },
      {
        "duration": 9,
        "start_time": "2022-02-14T12:55:24.570Z"
      },
      {
        "duration": 10,
        "start_time": "2022-02-14T12:55:29.561Z"
      },
      {
        "duration": 616,
        "start_time": "2022-02-14T13:29:33.927Z"
      },
      {
        "duration": 10,
        "start_time": "2022-02-14T13:29:34.545Z"
      },
      {
        "duration": 6,
        "start_time": "2022-02-14T13:29:34.557Z"
      },
      {
        "duration": 11,
        "start_time": "2022-02-14T13:29:34.565Z"
      },
      {
        "duration": 38,
        "start_time": "2022-02-14T13:29:34.577Z"
      },
      {
        "duration": 10,
        "start_time": "2022-02-14T13:29:34.617Z"
      },
      {
        "duration": 4,
        "start_time": "2022-02-14T13:29:34.629Z"
      },
      {
        "duration": 6,
        "start_time": "2022-02-14T13:29:34.635Z"
      },
      {
        "duration": 4,
        "start_time": "2022-02-14T13:29:34.644Z"
      },
      {
        "duration": 16,
        "start_time": "2022-02-14T13:29:34.649Z"
      },
      {
        "duration": 4,
        "start_time": "2022-02-14T13:29:34.667Z"
      },
      {
        "duration": 47,
        "start_time": "2022-02-14T13:29:34.672Z"
      },
      {
        "duration": 12,
        "start_time": "2022-02-14T13:29:34.721Z"
      },
      {
        "duration": 6,
        "start_time": "2022-02-14T13:29:34.734Z"
      },
      {
        "duration": 6,
        "start_time": "2022-02-14T13:29:34.741Z"
      },
      {
        "duration": 12,
        "start_time": "2022-02-14T13:29:34.748Z"
      },
      {
        "duration": 5,
        "start_time": "2022-02-14T13:29:34.761Z"
      },
      {
        "duration": 44,
        "start_time": "2022-02-14T13:29:34.768Z"
      },
      {
        "duration": 5,
        "start_time": "2022-02-14T13:29:34.814Z"
      },
      {
        "duration": 10,
        "start_time": "2022-02-14T13:29:34.821Z"
      },
      {
        "duration": 6,
        "start_time": "2022-02-14T13:29:34.832Z"
      },
      {
        "duration": 15,
        "start_time": "2022-02-14T13:29:34.839Z"
      },
      {
        "duration": 18,
        "start_time": "2022-02-14T13:29:34.855Z"
      },
      {
        "duration": 7,
        "start_time": "2022-02-14T13:29:34.874Z"
      },
      {
        "duration": 43,
        "start_time": "2022-02-14T13:29:34.882Z"
      },
      {
        "duration": 7,
        "start_time": "2022-02-14T13:29:34.926Z"
      },
      {
        "duration": 6,
        "start_time": "2022-02-14T13:29:34.938Z"
      },
      {
        "duration": 13,
        "start_time": "2022-02-14T13:29:34.946Z"
      },
      {
        "duration": 18,
        "start_time": "2022-02-14T13:29:34.960Z"
      },
      {
        "duration": 53,
        "start_time": "2022-02-14T13:29:34.980Z"
      },
      {
        "duration": 22,
        "start_time": "2022-02-14T13:29:35.035Z"
      },
      {
        "duration": 30,
        "start_time": "2022-02-14T13:29:35.058Z"
      },
      {
        "duration": 35,
        "start_time": "2022-02-14T13:29:35.090Z"
      },
      {
        "duration": 10,
        "start_time": "2022-02-14T13:29:35.126Z"
      },
      {
        "duration": 10,
        "start_time": "2022-02-14T13:29:35.138Z"
      },
      {
        "duration": 11,
        "start_time": "2022-02-14T13:29:35.150Z"
      },
      {
        "duration": 10,
        "start_time": "2022-02-14T13:29:35.162Z"
      },
      {
        "duration": 52,
        "start_time": "2022-02-14T13:29:35.174Z"
      },
      {
        "duration": 11,
        "start_time": "2022-02-14T13:29:35.228Z"
      },
      {
        "duration": 16,
        "start_time": "2022-02-14T13:29:35.240Z"
      },
      {
        "duration": 7,
        "start_time": "2022-02-14T13:29:35.257Z"
      },
      {
        "duration": 14,
        "start_time": "2022-02-14T13:29:35.265Z"
      },
      {
        "duration": 35,
        "start_time": "2022-02-14T13:29:35.281Z"
      },
      {
        "duration": 12,
        "start_time": "2022-02-14T13:29:35.318Z"
      },
      {
        "duration": 17,
        "start_time": "2022-02-14T13:29:35.332Z"
      },
      {
        "duration": 8,
        "start_time": "2022-02-14T13:29:35.350Z"
      },
      {
        "duration": 8,
        "start_time": "2022-02-14T13:29:35.359Z"
      },
      {
        "duration": 5,
        "start_time": "2022-02-14T13:29:35.369Z"
      },
      {
        "duration": 47,
        "start_time": "2022-02-14T13:29:35.376Z"
      },
      {
        "duration": 9,
        "start_time": "2022-02-14T13:29:35.425Z"
      },
      {
        "duration": 9,
        "start_time": "2022-02-14T13:29:35.436Z"
      },
      {
        "duration": 12,
        "start_time": "2022-02-14T13:29:35.447Z"
      },
      {
        "duration": 5,
        "start_time": "2022-02-14T13:29:35.461Z"
      },
      {
        "duration": 6,
        "start_time": "2022-02-14T13:29:35.468Z"
      },
      {
        "duration": 50,
        "start_time": "2022-02-14T13:29:35.476Z"
      },
      {
        "duration": 10,
        "start_time": "2022-02-14T13:29:35.528Z"
      },
      {
        "duration": 10,
        "start_time": "2022-02-14T13:29:35.539Z"
      },
      {
        "duration": 19,
        "start_time": "2022-02-14T13:29:35.550Z"
      },
      {
        "duration": 10,
        "start_time": "2022-02-14T13:29:35.571Z"
      },
      {
        "duration": 39,
        "start_time": "2022-02-14T13:29:35.582Z"
      },
      {
        "duration": 684,
        "start_time": "2022-02-14T13:30:12.889Z"
      },
      {
        "duration": 10,
        "start_time": "2022-02-14T13:30:13.575Z"
      },
      {
        "duration": 4,
        "start_time": "2022-02-14T13:30:13.587Z"
      },
      {
        "duration": 20,
        "start_time": "2022-02-14T13:30:13.593Z"
      },
      {
        "duration": 23,
        "start_time": "2022-02-14T13:30:13.615Z"
      },
      {
        "duration": 11,
        "start_time": "2022-02-14T13:30:13.640Z"
      },
      {
        "duration": 6,
        "start_time": "2022-02-14T13:30:13.652Z"
      },
      {
        "duration": 5,
        "start_time": "2022-02-14T13:30:13.660Z"
      },
      {
        "duration": 45,
        "start_time": "2022-02-14T13:30:13.668Z"
      },
      {
        "duration": 18,
        "start_time": "2022-02-14T13:30:13.715Z"
      },
      {
        "duration": 5,
        "start_time": "2022-02-14T13:30:13.735Z"
      },
      {
        "duration": 10,
        "start_time": "2022-02-14T13:30:13.742Z"
      },
      {
        "duration": 13,
        "start_time": "2022-02-14T13:30:13.754Z"
      },
      {
        "duration": 6,
        "start_time": "2022-02-14T13:30:13.768Z"
      },
      {
        "duration": 3,
        "start_time": "2022-02-14T13:30:13.813Z"
      },
      {
        "duration": 10,
        "start_time": "2022-02-14T13:30:13.818Z"
      },
      {
        "duration": 6,
        "start_time": "2022-02-14T13:30:13.830Z"
      },
      {
        "duration": 11,
        "start_time": "2022-02-14T13:30:13.837Z"
      },
      {
        "duration": 4,
        "start_time": "2022-02-14T13:30:13.850Z"
      },
      {
        "duration": 6,
        "start_time": "2022-02-14T13:30:13.856Z"
      },
      {
        "duration": 50,
        "start_time": "2022-02-14T13:30:13.863Z"
      },
      {
        "duration": 9,
        "start_time": "2022-02-14T13:30:13.914Z"
      },
      {
        "duration": 19,
        "start_time": "2022-02-14T13:30:13.928Z"
      },
      {
        "duration": 9,
        "start_time": "2022-02-14T13:30:13.950Z"
      },
      {
        "duration": 51,
        "start_time": "2022-02-14T13:30:13.961Z"
      },
      {
        "duration": 9,
        "start_time": "2022-02-14T13:30:14.014Z"
      },
      {
        "duration": 9,
        "start_time": "2022-02-14T13:30:14.025Z"
      },
      {
        "duration": 14,
        "start_time": "2022-02-14T13:30:14.036Z"
      },
      {
        "duration": 22,
        "start_time": "2022-02-14T13:30:14.052Z"
      },
      {
        "duration": 58,
        "start_time": "2022-02-14T13:30:14.076Z"
      },
      {
        "duration": 24,
        "start_time": "2022-02-14T13:30:14.136Z"
      },
      {
        "duration": 51,
        "start_time": "2022-02-14T13:30:14.162Z"
      },
      {
        "duration": 15,
        "start_time": "2022-02-14T13:30:14.215Z"
      },
      {
        "duration": 11,
        "start_time": "2022-02-14T13:30:14.232Z"
      },
      {
        "duration": 13,
        "start_time": "2022-02-14T13:30:14.245Z"
      },
      {
        "duration": 12,
        "start_time": "2022-02-14T13:30:14.261Z"
      },
      {
        "duration": 14,
        "start_time": "2022-02-14T13:30:14.313Z"
      },
      {
        "duration": 19,
        "start_time": "2022-02-14T13:30:14.329Z"
      },
      {
        "duration": 8,
        "start_time": "2022-02-14T13:30:14.350Z"
      },
      {
        "duration": 15,
        "start_time": "2022-02-14T13:30:14.359Z"
      },
      {
        "duration": 40,
        "start_time": "2022-02-14T13:30:14.376Z"
      },
      {
        "duration": 14,
        "start_time": "2022-02-14T13:30:14.418Z"
      },
      {
        "duration": 17,
        "start_time": "2022-02-14T13:30:14.433Z"
      },
      {
        "duration": 14,
        "start_time": "2022-02-14T13:30:14.451Z"
      },
      {
        "duration": 51,
        "start_time": "2022-02-14T13:30:14.466Z"
      },
      {
        "duration": 10,
        "start_time": "2022-02-14T13:30:14.519Z"
      },
      {
        "duration": 8,
        "start_time": "2022-02-14T13:30:14.530Z"
      },
      {
        "duration": 4,
        "start_time": "2022-02-14T13:30:14.540Z"
      },
      {
        "duration": 18,
        "start_time": "2022-02-14T13:30:14.546Z"
      },
      {
        "duration": 46,
        "start_time": "2022-02-14T13:30:14.566Z"
      },
      {
        "duration": 9,
        "start_time": "2022-02-14T13:30:14.614Z"
      },
      {
        "duration": 10,
        "start_time": "2022-02-14T13:30:14.625Z"
      },
      {
        "duration": 10,
        "start_time": "2022-02-14T13:30:14.637Z"
      },
      {
        "duration": 18,
        "start_time": "2022-02-14T13:30:14.649Z"
      },
      {
        "duration": 23,
        "start_time": "2022-02-14T13:30:14.669Z"
      },
      {
        "duration": 23,
        "start_time": "2022-02-14T13:30:14.694Z"
      },
      {
        "duration": 11,
        "start_time": "2022-02-14T13:30:14.719Z"
      },
      {
        "duration": 18,
        "start_time": "2022-02-14T13:30:14.732Z"
      },
      {
        "duration": 9,
        "start_time": "2022-02-14T13:30:14.752Z"
      },
      {
        "duration": 9,
        "start_time": "2022-02-14T13:30:14.763Z"
      },
      {
        "duration": 53,
        "start_time": "2022-02-14T14:52:22.951Z"
      }
    ],
    "kernelspec": {
      "display_name": "Python 3 (ipykernel)",
      "language": "python",
      "name": "python3"
    },
    "language_info": {
      "codemirror_mode": {
        "name": "ipython",
        "version": 3
      },
      "file_extension": ".py",
      "mimetype": "text/x-python",
      "name": "python",
      "nbconvert_exporter": "python",
      "pygments_lexer": "ipython3",
      "version": "3.9.5"
    },
    "toc": {
      "base_numbering": 1,
      "nav_menu": {},
      "number_sections": true,
      "sideBar": true,
      "skip_h1_title": true,
      "title_cell": "Table of Contents",
      "title_sidebar": "Contents",
      "toc_cell": false,
      "toc_position": {},
      "toc_section_display": true,
      "toc_window_display": false
    },
    "colab": {
      "name": "977f205d-c6bc-49dc-9304-23e347f3e00f.ipynb",
      "provenance": []
    }
  },
  "nbformat": 4,
  "nbformat_minor": 5
}